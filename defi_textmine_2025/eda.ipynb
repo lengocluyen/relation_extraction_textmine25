{
 "cells": [
  {
   "cell_type": "markdown",
   "metadata": {},
   "source": [
    "# Exploratory Data Analysis"
   ]
  },
  {
   "cell_type": "markdown",
   "metadata": {},
   "source": [
    "## Imports and constants"
   ]
  },
  {
   "cell_type": "code",
   "execution_count": 92,
   "metadata": {},
   "outputs": [
    {
     "name": "stderr",
     "output_type": "stream",
     "text": [
      "/home/tagny/.pyenv/versions/3.11.8/envs/kgl11/lib/python3.11/site-packages/huggingface_hub/file_download.py:1132: FutureWarning: `resume_download` is deprecated and will be removed in version 1.0.0. Downloads always resume when possible. If you want to force a new download, use `force_download=True`.\n",
      "  warnings.warn(\n"
     ]
    },
    {
     "name": "stdout",
     "output_type": "stream",
     "text": [
      "The autoreload extension is already loaded. To reload it, use:\n",
      "  %reload_ext autoreload\n"
     ]
    }
   ],
   "source": [
    "%load_ext autoreload\n",
    "%autoreload 2\n",
    "\n",
    "import os\n",
    "from typing import Dict, Any\n",
    "import logging \n",
    "\n",
    "logging.basicConfig(\n",
    "     level=logging.INFO, \n",
    "     format= '[%(asctime)s|%(levelname)s|%(module)s.py:%(lineno)s] %(message)s',\n",
    "     datefmt='%H:%M:%S'\n",
    " )\n",
    "import pandas as pd\n",
    "import matplotlib.pyplot as plt\n",
    "from tqdm import tqdm\n",
    "# Create new `pandas` methods which use `tqdm` progress\n",
    "# (can use tqdm_gui, optional kwargs, etc.)\n",
    "tqdm.pandas()\n",
    "from transformers import AutoTokenizer\n",
    "from datasets import load_dataset\n",
    "\n",
    "from defi_textmine_2025.data import (\n",
    "    load_labeled_raw_data,\n",
    "    load_test_raw_data,\n",
    "    clean_raw_dataset,\n",
    "    print_value_types,\n",
    "    save_data,\n",
    "    TextToMultiLabelDataGenerator,\n",
    ")\n",
    "from defi_textmine_2025.data import TARGET_COL, INPUT_COLS, INTERIM_DIR, EDA_DIR\n",
    "\n",
    "VALIDATION_RATE = 0.25\n",
    "checkpoint = \"bert-base-uncased\"\n",
    "tokenizer = AutoTokenizer.from_pretrained(checkpoint)\n",
    "\n",
    "def count_tokens(text: str) -> int:\n",
    "    return len(tokenizer(text)[\"input_ids\"])"
   ]
  },
  {
   "cell_type": "markdown",
   "metadata": {},
   "source": [
    "## Loading data"
   ]
  },
  {
   "cell_type": "code",
   "execution_count": 2,
   "metadata": {},
   "outputs": [
    {
     "data": {
      "text/html": [
       "<div>\n",
       "<style scoped>\n",
       "    .dataframe tbody tr th:only-of-type {\n",
       "        vertical-align: middle;\n",
       "    }\n",
       "\n",
       "    .dataframe tbody tr th {\n",
       "        vertical-align: top;\n",
       "    }\n",
       "\n",
       "    .dataframe thead th {\n",
       "        text-align: right;\n",
       "    }\n",
       "</style>\n",
       "<table border=\"1\" class=\"dataframe\">\n",
       "  <thead>\n",
       "    <tr style=\"text-align: right;\">\n",
       "      <th></th>\n",
       "      <th>text</th>\n",
       "      <th>entities</th>\n",
       "      <th>relations</th>\n",
       "    </tr>\n",
       "    <tr>\n",
       "      <th>id</th>\n",
       "      <th></th>\n",
       "      <th></th>\n",
       "      <th></th>\n",
       "    </tr>\n",
       "  </thead>\n",
       "  <tbody>\n",
       "    <tr>\n",
       "      <th>181</th>\n",
       "      <td>Anam Destresse, président de l'ONG \"Ma passion...</td>\n",
       "      <td>[{\"id\": 0, \"mentions\": [{\"value\": \"accident\", ...</td>\n",
       "      <td>[[0, \"STARTED_IN\", 9], [7, \"IS_LOCATED_IN\", 9]...</td>\n",
       "    </tr>\n",
       "    <tr>\n",
       "      <th>31669</th>\n",
       "      <td>À Paris, le 8 avril 2022, l'usine de déodorant...</td>\n",
       "      <td>[{\"id\": 0, \"mentions\": [{\"value\": \"explosé\", \"...</td>\n",
       "      <td>[[9, \"IS_LOCATED_IN\", 8], [11, \"OPERATES_IN\", ...</td>\n",
       "    </tr>\n",
       "    <tr>\n",
       "      <th>51470</th>\n",
       "      <td>En Espagne, dans une région agricole, une cont...</td>\n",
       "      <td>[{\"id\": 0, \"mentions\": [{\"value\": \"contaminati...</td>\n",
       "      <td>[[7, \"IS_PART_OF\", 8], [9, \"OPERATES_IN\", 1], ...</td>\n",
       "    </tr>\n",
       "    <tr>\n",
       "      <th>51332</th>\n",
       "      <td>Un important incendie a fait des ravages dans ...</td>\n",
       "      <td>[{\"id\": 0, \"mentions\": [{\"value\": \"incendie\", ...</td>\n",
       "      <td>[[12, \"IS_IN_CONTACT_WITH\", 5], [0, \"IS_LOCATE...</td>\n",
       "    </tr>\n",
       "    <tr>\n",
       "      <th>1131</th>\n",
       "      <td>« Je coule » : onze heures après avoir envoyé ...</td>\n",
       "      <td>[{\"id\": 0, \"mentions\": [{\"value\": \"renversé\", ...</td>\n",
       "      <td>[[9, \"IS_LOCATED_IN\", 2], [0, \"START_DATE\", 17...</td>\n",
       "    </tr>\n",
       "    <tr>\n",
       "      <th>...</th>\n",
       "      <td>...</td>\n",
       "      <td>...</td>\n",
       "      <td>...</td>\n",
       "    </tr>\n",
       "    <tr>\n",
       "      <th>1288</th>\n",
       "      <td>M. Thibault Alekseï, membre de l'association \"...</td>\n",
       "      <td>[{\"id\": 0, \"mentions\": [{\"value\": \"perdu le co...</td>\n",
       "      <td>[[2, \"IS_PART_OF\", 3], [12, \"IS_IN_CONTACT_WIT...</td>\n",
       "    </tr>\n",
       "    <tr>\n",
       "      <th>3822</th>\n",
       "      <td>Des employés d'une usine de production médical...</td>\n",
       "      <td>[{\"id\": 0, \"mentions\": [{\"value\": \"grève\", \"st...</td>\n",
       "      <td>[[8, \"HAS_CONTROL_OVER\", 7], [4, \"HAS_CATEGORY...</td>\n",
       "    </tr>\n",
       "    <tr>\n",
       "      <th>51266</th>\n",
       "      <td>Le 13 mars 2001, Belgrade a connu un krach bou...</td>\n",
       "      <td>[{\"id\": 0, \"mentions\": [{\"value\": \"krach bours...</td>\n",
       "      <td>[[1, \"STARTED_IN\", 3], [10, \"IS_PART_OF\", 4], ...</td>\n",
       "    </tr>\n",
       "    <tr>\n",
       "      <th>51368</th>\n",
       "      <td>L'incendie du laboratoire \"FileGen\" a eu lieu ...</td>\n",
       "      <td>[{\"id\": 0, \"mentions\": [{\"value\": \"incendie\", ...</td>\n",
       "      <td>[[1, \"HAS_CONTROL_OVER\", 3], [7, \"IS_LOCATED_I...</td>\n",
       "    </tr>\n",
       "    <tr>\n",
       "      <th>124</th>\n",
       "      <td>L’avion NY8 de la compagnie Airîle a lancé sa ...</td>\n",
       "      <td>[{\"id\": 0, \"mentions\": [{\"value\": \"crasher\", \"...</td>\n",
       "      <td>[[14, \"HAS_CATEGORY\", 22], [10, \"OPERATES_IN\",...</td>\n",
       "    </tr>\n",
       "  </tbody>\n",
       "</table>\n",
       "<p>800 rows × 3 columns</p>\n",
       "</div>"
      ],
      "text/plain": [
       "                                                    text  \\\n",
       "id                                                         \n",
       "181    Anam Destresse, président de l'ONG \"Ma passion...   \n",
       "31669  À Paris, le 8 avril 2022, l'usine de déodorant...   \n",
       "51470  En Espagne, dans une région agricole, une cont...   \n",
       "51332  Un important incendie a fait des ravages dans ...   \n",
       "1131   « Je coule » : onze heures après avoir envoyé ...   \n",
       "...                                                  ...   \n",
       "1288   M. Thibault Alekseï, membre de l'association \"...   \n",
       "3822   Des employés d'une usine de production médical...   \n",
       "51266  Le 13 mars 2001, Belgrade a connu un krach bou...   \n",
       "51368  L'incendie du laboratoire \"FileGen\" a eu lieu ...   \n",
       "124    L’avion NY8 de la compagnie Airîle a lancé sa ...   \n",
       "\n",
       "                                                entities  \\\n",
       "id                                                         \n",
       "181    [{\"id\": 0, \"mentions\": [{\"value\": \"accident\", ...   \n",
       "31669  [{\"id\": 0, \"mentions\": [{\"value\": \"explosé\", \"...   \n",
       "51470  [{\"id\": 0, \"mentions\": [{\"value\": \"contaminati...   \n",
       "51332  [{\"id\": 0, \"mentions\": [{\"value\": \"incendie\", ...   \n",
       "1131   [{\"id\": 0, \"mentions\": [{\"value\": \"renversé\", ...   \n",
       "...                                                  ...   \n",
       "1288   [{\"id\": 0, \"mentions\": [{\"value\": \"perdu le co...   \n",
       "3822   [{\"id\": 0, \"mentions\": [{\"value\": \"grève\", \"st...   \n",
       "51266  [{\"id\": 0, \"mentions\": [{\"value\": \"krach bours...   \n",
       "51368  [{\"id\": 0, \"mentions\": [{\"value\": \"incendie\", ...   \n",
       "124    [{\"id\": 0, \"mentions\": [{\"value\": \"crasher\", \"...   \n",
       "\n",
       "                                               relations  \n",
       "id                                                        \n",
       "181    [[0, \"STARTED_IN\", 9], [7, \"IS_LOCATED_IN\", 9]...  \n",
       "31669  [[9, \"IS_LOCATED_IN\", 8], [11, \"OPERATES_IN\", ...  \n",
       "51470  [[7, \"IS_PART_OF\", 8], [9, \"OPERATES_IN\", 1], ...  \n",
       "51332  [[12, \"IS_IN_CONTACT_WITH\", 5], [0, \"IS_LOCATE...  \n",
       "1131   [[9, \"IS_LOCATED_IN\", 2], [0, \"START_DATE\", 17...  \n",
       "...                                                  ...  \n",
       "1288   [[2, \"IS_PART_OF\", 3], [12, \"IS_IN_CONTACT_WIT...  \n",
       "3822   [[8, \"HAS_CONTROL_OVER\", 7], [4, \"HAS_CATEGORY...  \n",
       "51266  [[1, \"STARTED_IN\", 3], [10, \"IS_PART_OF\", 4], ...  \n",
       "51368  [[1, \"HAS_CONTROL_OVER\", 3], [7, \"IS_LOCATED_I...  \n",
       "124    [[14, \"HAS_CATEGORY\", 22], [10, \"OPERATES_IN\",...  \n",
       "\n",
       "[800 rows x 3 columns]"
      ]
     },
     "execution_count": 2,
     "metadata": {},
     "output_type": "execute_result"
    }
   ],
   "source": [
    "labeled_raw_df = load_labeled_raw_data()\n",
    "labeled_raw_df"
   ]
  },
  {
   "cell_type": "code",
   "execution_count": 3,
   "metadata": {},
   "outputs": [
    {
     "data": {
      "text/html": [
       "<div>\n",
       "<style scoped>\n",
       "    .dataframe tbody tr th:only-of-type {\n",
       "        vertical-align: middle;\n",
       "    }\n",
       "\n",
       "    .dataframe tbody tr th {\n",
       "        vertical-align: top;\n",
       "    }\n",
       "\n",
       "    .dataframe thead th {\n",
       "        text-align: right;\n",
       "    }\n",
       "</style>\n",
       "<table border=\"1\" class=\"dataframe\">\n",
       "  <thead>\n",
       "    <tr style=\"text-align: right;\">\n",
       "      <th></th>\n",
       "      <th>text</th>\n",
       "      <th>entities</th>\n",
       "    </tr>\n",
       "    <tr>\n",
       "      <th>id</th>\n",
       "      <th></th>\n",
       "      <th></th>\n",
       "    </tr>\n",
       "  </thead>\n",
       "  <tbody>\n",
       "    <tr>\n",
       "      <th>1204</th>\n",
       "      <td>“FEAR” est une organisation spécialisée dans l...</td>\n",
       "      <td>[{\"id\": 0, \"mentions\": [{\"value\": \"crash\", \"st...</td>\n",
       "    </tr>\n",
       "    <tr>\n",
       "      <th>4909</th>\n",
       "      <td>48 heures après le braquage du \"DC Supermarket...</td>\n",
       "      <td>[{\"id\": 0, \"mentions\": [{\"value\": \"DC Supermar...</td>\n",
       "    </tr>\n",
       "    <tr>\n",
       "      <th>2353</th>\n",
       "      <td>À Genève, la boîte de nuit \"Pretty Woman\" a en...</td>\n",
       "      <td>[{\"id\": 0, \"mentions\": [{\"value\": \"tombé\", \"st...</td>\n",
       "    </tr>\n",
       "    <tr>\n",
       "      <th>1210</th>\n",
       "      <td>À Caracas, l'an dernier, une mine située à l'o...</td>\n",
       "      <td>[{\"id\": 0, \"mentions\": [{\"value\": \"effondremen...</td>\n",
       "    </tr>\n",
       "    <tr>\n",
       "      <th>41948</th>\n",
       "      <td>À Genève, une industrie de fabrication d'arbre...</td>\n",
       "      <td>[{\"id\": 0, \"mentions\": [{\"value\": \"incendiée\",...</td>\n",
       "    </tr>\n",
       "    <tr>\n",
       "      <th>...</th>\n",
       "      <td>...</td>\n",
       "      <td>...</td>\n",
       "    </tr>\n",
       "    <tr>\n",
       "      <th>51452</th>\n",
       "      <td>Le WOOP, une organisation mondiale, avait prop...</td>\n",
       "      <td>[{\"id\": 0, \"mentions\": [{\"value\": \"épidémie\", ...</td>\n",
       "    </tr>\n",
       "    <tr>\n",
       "      <th>51491</th>\n",
       "      <td>Madame Pautrat Elina, dirigeante de l’associat...</td>\n",
       "      <td>[{\"id\": 0, \"mentions\": [{\"value\": \"pollution\",...</td>\n",
       "    </tr>\n",
       "    <tr>\n",
       "      <th>51492</th>\n",
       "      <td>Monsieur Elirone Trameur, membre de l’associat...</td>\n",
       "      <td>[{\"id\": 0, \"mentions\": [{\"value\": \"pollution\",...</td>\n",
       "    </tr>\n",
       "    <tr>\n",
       "      <th>51495</th>\n",
       "      <td>Monsieur Elouen Pereira a été arrêté au volant...</td>\n",
       "      <td>[{\"id\": 0, \"mentions\": [{\"value\": \"arrêté\", \"s...</td>\n",
       "    </tr>\n",
       "    <tr>\n",
       "      <th>51742</th>\n",
       "      <td>Depuis le début du mois de décembre, des champ...</td>\n",
       "      <td>[{\"id\": 0, \"mentions\": [{\"value\": \"contrefaits...</td>\n",
       "    </tr>\n",
       "  </tbody>\n",
       "</table>\n",
       "<p>400 rows × 2 columns</p>\n",
       "</div>"
      ],
      "text/plain": [
       "                                                    text  \\\n",
       "id                                                         \n",
       "1204   “FEAR” est une organisation spécialisée dans l...   \n",
       "4909   48 heures après le braquage du \"DC Supermarket...   \n",
       "2353   À Genève, la boîte de nuit \"Pretty Woman\" a en...   \n",
       "1210   À Caracas, l'an dernier, une mine située à l'o...   \n",
       "41948  À Genève, une industrie de fabrication d'arbre...   \n",
       "...                                                  ...   \n",
       "51452  Le WOOP, une organisation mondiale, avait prop...   \n",
       "51491  Madame Pautrat Elina, dirigeante de l’associat...   \n",
       "51492  Monsieur Elirone Trameur, membre de l’associat...   \n",
       "51495  Monsieur Elouen Pereira a été arrêté au volant...   \n",
       "51742  Depuis le début du mois de décembre, des champ...   \n",
       "\n",
       "                                                entities  \n",
       "id                                                        \n",
       "1204   [{\"id\": 0, \"mentions\": [{\"value\": \"crash\", \"st...  \n",
       "4909   [{\"id\": 0, \"mentions\": [{\"value\": \"DC Supermar...  \n",
       "2353   [{\"id\": 0, \"mentions\": [{\"value\": \"tombé\", \"st...  \n",
       "1210   [{\"id\": 0, \"mentions\": [{\"value\": \"effondremen...  \n",
       "41948  [{\"id\": 0, \"mentions\": [{\"value\": \"incendiée\",...  \n",
       "...                                                  ...  \n",
       "51452  [{\"id\": 0, \"mentions\": [{\"value\": \"épidémie\", ...  \n",
       "51491  [{\"id\": 0, \"mentions\": [{\"value\": \"pollution\",...  \n",
       "51492  [{\"id\": 0, \"mentions\": [{\"value\": \"pollution\",...  \n",
       "51495  [{\"id\": 0, \"mentions\": [{\"value\": \"arrêté\", \"s...  \n",
       "51742  [{\"id\": 0, \"mentions\": [{\"value\": \"contrefaits...  \n",
       "\n",
       "[400 rows x 2 columns]"
      ]
     },
     "execution_count": 3,
     "metadata": {},
     "output_type": "execute_result"
    }
   ],
   "source": [
    "test_raw_df = load_test_raw_data()\n",
    "test_raw_df"
   ]
  },
  {
   "cell_type": "markdown",
   "metadata": {},
   "source": [
    "## Analysing raw data"
   ]
  },
  {
   "cell_type": "markdown",
   "metadata": {},
   "source": [
    "### Check value types"
   ]
  },
  {
   "cell_type": "code",
   "execution_count": 4,
   "metadata": {},
   "outputs": [
    {
     "name": "stdout",
     "output_type": "stream",
     "text": [
      "<class 'pandas.core.frame.DataFrame'>\n",
      "Index: 800 entries, 181 to 124\n",
      "Data columns (total 3 columns):\n",
      " #   Column     Non-Null Count  Dtype \n",
      "---  ------     --------------  ----- \n",
      " 0   text       800 non-null    object\n",
      " 1   entities   800 non-null    object\n",
      " 2   relations  800 non-null    object\n",
      "dtypes: object(3)\n",
      "memory usage: 25.0+ KB\n"
     ]
    }
   ],
   "source": [
    "labeled_raw_df.info()"
   ]
  },
  {
   "cell_type": "code",
   "execution_count": 5,
   "metadata": {},
   "outputs": [
    {
     "name": "stdout",
     "output_type": "stream",
     "text": [
      "<class 'pandas.core.frame.DataFrame'>\n",
      "Index: 400 entries, 1204 to 51742\n",
      "Data columns (total 2 columns):\n",
      " #   Column    Non-Null Count  Dtype \n",
      "---  ------    --------------  ----- \n",
      " 0   text      400 non-null    object\n",
      " 1   entities  400 non-null    object\n",
      "dtypes: object(2)\n",
      "memory usage: 9.4+ KB\n"
     ]
    }
   ],
   "source": [
    "test_raw_df.info()"
   ]
  },
  {
   "cell_type": "code",
   "execution_count": 6,
   "metadata": {},
   "outputs": [
    {
     "name": "stdout",
     "output_type": "stream",
     "text": [
      "text <class 'str'>\n",
      "entities <class 'str'>\n",
      "relations <class 'str'>\n"
     ]
    }
   ],
   "source": [
    "# types of values in train data\n",
    "print_value_types(labeled_raw_df)"
   ]
  },
  {
   "cell_type": "code",
   "execution_count": 7,
   "metadata": {},
   "outputs": [
    {
     "name": "stdout",
     "output_type": "stream",
     "text": [
      "text <class 'str'>\n",
      "entities <class 'str'>\n"
     ]
    }
   ],
   "source": [
    "# types of values in test data\n",
    "print_value_types(test_raw_df)"
   ]
  },
  {
   "cell_type": "markdown",
   "metadata": {},
   "source": [
    "### Check for duplicated rows"
   ]
  },
  {
   "cell_type": "code",
   "execution_count": 8,
   "metadata": {},
   "outputs": [
    {
     "data": {
      "text/html": [
       "<div>\n",
       "<style scoped>\n",
       "    .dataframe tbody tr th:only-of-type {\n",
       "        vertical-align: middle;\n",
       "    }\n",
       "\n",
       "    .dataframe tbody tr th {\n",
       "        vertical-align: top;\n",
       "    }\n",
       "\n",
       "    .dataframe thead th {\n",
       "        text-align: right;\n",
       "    }\n",
       "</style>\n",
       "<table border=\"1\" class=\"dataframe\">\n",
       "  <thead>\n",
       "    <tr style=\"text-align: right;\">\n",
       "      <th></th>\n",
       "      <th>text</th>\n",
       "      <th>entities</th>\n",
       "      <th>relations</th>\n",
       "    </tr>\n",
       "    <tr>\n",
       "      <th>id</th>\n",
       "      <th></th>\n",
       "      <th></th>\n",
       "      <th></th>\n",
       "    </tr>\n",
       "  </thead>\n",
       "  <tbody>\n",
       "  </tbody>\n",
       "</table>\n",
       "</div>"
      ],
      "text/plain": [
       "Empty DataFrame\n",
       "Columns: [text, entities, relations]\n",
       "Index: []"
      ]
     },
     "execution_count": 8,
     "metadata": {},
     "output_type": "execute_result"
    }
   ],
   "source": [
    "labeled_raw_df[labeled_raw_df.duplicated()]"
   ]
  },
  {
   "cell_type": "code",
   "execution_count": 9,
   "metadata": {},
   "outputs": [
    {
     "data": {
      "text/html": [
       "<div>\n",
       "<style scoped>\n",
       "    .dataframe tbody tr th:only-of-type {\n",
       "        vertical-align: middle;\n",
       "    }\n",
       "\n",
       "    .dataframe tbody tr th {\n",
       "        vertical-align: top;\n",
       "    }\n",
       "\n",
       "    .dataframe thead th {\n",
       "        text-align: right;\n",
       "    }\n",
       "</style>\n",
       "<table border=\"1\" class=\"dataframe\">\n",
       "  <thead>\n",
       "    <tr style=\"text-align: right;\">\n",
       "      <th></th>\n",
       "      <th>text</th>\n",
       "      <th>entities</th>\n",
       "    </tr>\n",
       "    <tr>\n",
       "      <th>id</th>\n",
       "      <th></th>\n",
       "      <th></th>\n",
       "    </tr>\n",
       "  </thead>\n",
       "  <tbody>\n",
       "  </tbody>\n",
       "</table>\n",
       "</div>"
      ],
      "text/plain": [
       "Empty DataFrame\n",
       "Columns: [text, entities]\n",
       "Index: []"
      ]
     },
     "execution_count": 9,
     "metadata": {},
     "output_type": "execute_result"
    }
   ],
   "source": [
    "test_raw_df[test_raw_df.duplicated()]"
   ]
  },
  {
   "cell_type": "markdown",
   "metadata": {},
   "source": [
    "### Check for missing values"
   ]
  },
  {
   "cell_type": "code",
   "execution_count": 10,
   "metadata": {},
   "outputs": [
    {
     "data": {
      "text/plain": [
       "text         0\n",
       "entities     0\n",
       "relations    0\n",
       "dtype: int64"
      ]
     },
     "execution_count": 10,
     "metadata": {},
     "output_type": "execute_result"
    }
   ],
   "source": [
    "labeled_raw_df.isnull().sum()"
   ]
  },
  {
   "cell_type": "code",
   "execution_count": 11,
   "metadata": {},
   "outputs": [
    {
     "data": {
      "text/plain": [
       "text        0\n",
       "entities    0\n",
       "dtype: int64"
      ]
     },
     "execution_count": 11,
     "metadata": {},
     "output_type": "execute_result"
    }
   ],
   "source": [
    "test_raw_df.isnull().sum()"
   ]
  },
  {
   "cell_type": "code",
   "execution_count": 12,
   "metadata": {},
   "outputs": [
    {
     "data": {
      "text/plain": [
       "id\n",
       "41601    [[0, \"DEATHS_NUMBER\", 14], [3, \"RESIDES_IN\", 4...\n",
       "2514     [[0, \"END_DATE\", 11], [0, \"IS_LOCATED_IN\", 4],...\n",
       "1223     [[0, \"END_DATE\", 11], [10, \"START_DATE\", 11], ...\n",
       "2329     [[0, \"END_DATE\", 11], [4, \"RESIDES_IN\", 1], [0...\n",
       "3898     [[0, \"END_DATE\", 9], [5, \"OPERATES_IN\", 7], [1...\n",
       "                               ...                        \n",
       "4964     [[9, \"IS_LOCATED_IN\", 5], [8, \"OPERATES_IN\", 5...\n",
       "41071    [[9, \"IS_LOCATED_IN\", 5], [9, \"IS_LOCATED_IN\",...\n",
       "31669    [[9, \"IS_LOCATED_IN\", 8], [11, \"OPERATES_IN\", ...\n",
       "41918    [[9, \"IS_LOCATED_IN\", 8], [13, \"HAS_CONTROL_OV...\n",
       "155      [[9, \"OPERATES_IN\", 1], [0, \"IS_LOCATED_IN\", 4...\n",
       "Name: relations, Length: 800, dtype: object"
      ]
     },
     "execution_count": 12,
     "metadata": {},
     "output_type": "execute_result"
    }
   ],
   "source": [
    "labeled_raw_df.relations.sort_values()"
   ]
  },
  {
   "cell_type": "markdown",
   "metadata": {},
   "source": [
    "## Data Cleaning/Wrangling"
   ]
  },
  {
   "cell_type": "markdown",
   "metadata": {},
   "source": [
    "### Fix value typing"
   ]
  },
  {
   "cell_type": "code",
   "execution_count": 13,
   "metadata": {},
   "outputs": [],
   "source": [
    "labeled_clean_df = clean_raw_dataset(labeled_raw_df)\n",
    "test_clean_df = clean_raw_dataset(test_raw_df)"
   ]
  },
  {
   "cell_type": "code",
   "execution_count": 14,
   "metadata": {},
   "outputs": [],
   "source": [
    "assert (labeled_raw_df.index == labeled_clean_df.index).all()\n",
    "assert (test_raw_df.index == test_clean_df.index).all()"
   ]
  },
  {
   "cell_type": "code",
   "execution_count": 15,
   "metadata": {},
   "outputs": [
    {
     "data": {
      "text/html": [
       "<div>\n",
       "<style scoped>\n",
       "    .dataframe tbody tr th:only-of-type {\n",
       "        vertical-align: middle;\n",
       "    }\n",
       "\n",
       "    .dataframe tbody tr th {\n",
       "        vertical-align: top;\n",
       "    }\n",
       "\n",
       "    .dataframe thead th {\n",
       "        text-align: right;\n",
       "    }\n",
       "</style>\n",
       "<table border=\"1\" class=\"dataframe\">\n",
       "  <thead>\n",
       "    <tr style=\"text-align: right;\">\n",
       "      <th></th>\n",
       "      <th>text</th>\n",
       "      <th>entities</th>\n",
       "    </tr>\n",
       "    <tr>\n",
       "      <th>id</th>\n",
       "      <th></th>\n",
       "      <th></th>\n",
       "    </tr>\n",
       "  </thead>\n",
       "  <tbody>\n",
       "    <tr>\n",
       "      <th>1204</th>\n",
       "      <td>“FEAR” est une organisation spécialisée dans l...</td>\n",
       "      <td>[{\"id\": 0, \"mentions\": [{\"value\": \"crash\", \"st...</td>\n",
       "    </tr>\n",
       "  </tbody>\n",
       "</table>\n",
       "</div>"
      ],
      "text/plain": [
       "                                                   text  \\\n",
       "id                                                        \n",
       "1204  “FEAR” est une organisation spécialisée dans l...   \n",
       "\n",
       "                                               entities  \n",
       "id                                                       \n",
       "1204  [{\"id\": 0, \"mentions\": [{\"value\": \"crash\", \"st...  "
      ]
     },
     "execution_count": 15,
     "metadata": {},
     "output_type": "execute_result"
    }
   ],
   "source": [
    "test_raw_df.head(1)"
   ]
  },
  {
   "cell_type": "code",
   "execution_count": 16,
   "metadata": {},
   "outputs": [
    {
     "data": {
      "text/html": [
       "<div>\n",
       "<style scoped>\n",
       "    .dataframe tbody tr th:only-of-type {\n",
       "        vertical-align: middle;\n",
       "    }\n",
       "\n",
       "    .dataframe tbody tr th {\n",
       "        vertical-align: top;\n",
       "    }\n",
       "\n",
       "    .dataframe thead th {\n",
       "        text-align: right;\n",
       "    }\n",
       "</style>\n",
       "<table border=\"1\" class=\"dataframe\">\n",
       "  <thead>\n",
       "    <tr style=\"text-align: right;\">\n",
       "      <th></th>\n",
       "      <th>text</th>\n",
       "      <th>entities</th>\n",
       "      <th>relations</th>\n",
       "    </tr>\n",
       "    <tr>\n",
       "      <th>id</th>\n",
       "      <th></th>\n",
       "      <th></th>\n",
       "      <th></th>\n",
       "    </tr>\n",
       "  </thead>\n",
       "  <tbody>\n",
       "    <tr>\n",
       "      <th>1204</th>\n",
       "      <td>“FEAR” est une organisation spécialisée dans l...</td>\n",
       "      <td>[{'id': 0, 'mentions': [{'value': 'crash', 'st...</td>\n",
       "      <td>None</td>\n",
       "    </tr>\n",
       "  </tbody>\n",
       "</table>\n",
       "</div>"
      ],
      "text/plain": [
       "                                                   text  \\\n",
       "id                                                        \n",
       "1204  “FEAR” est une organisation spécialisée dans l...   \n",
       "\n",
       "                                               entities relations  \n",
       "id                                                                 \n",
       "1204  [{'id': 0, 'mentions': [{'value': 'crash', 'st...      None  "
      ]
     },
     "execution_count": 16,
     "metadata": {},
     "output_type": "execute_result"
    }
   ],
   "source": [
    "test_clean_df.head(1)"
   ]
  },
  {
   "cell_type": "markdown",
   "metadata": {},
   "source": [
    "### Check value types"
   ]
  },
  {
   "cell_type": "code",
   "execution_count": 17,
   "metadata": {},
   "outputs": [
    {
     "name": "stdout",
     "output_type": "stream",
     "text": [
      "text <class 'str'>\n",
      "entities [  [<class 'str'>, <class 'str'>, <class 'str'>]  ]\n",
      "relations [  <class 'list'>  ]\n"
     ]
    }
   ],
   "source": [
    "# types of values in train data\n",
    "print_value_types(labeled_clean_df)"
   ]
  },
  {
   "cell_type": "code",
   "execution_count": 18,
   "metadata": {},
   "outputs": [
    {
     "name": "stdout",
     "output_type": "stream",
     "text": [
      "text <class 'str'>\n",
      "entities [  [<class 'str'>, <class 'str'>, <class 'str'>]  ]\n",
      "relations <class 'NoneType'>\n"
     ]
    }
   ],
   "source": [
    "# types of values in test data\n",
    "print_value_types(test_clean_df)"
   ]
  },
  {
   "cell_type": "markdown",
   "metadata": {},
   "source": [
    "### Save cleaned datasets\n",
    "\n",
    "For manual analysis"
   ]
  },
  {
   "cell_type": "code",
   "execution_count": 19,
   "metadata": {},
   "outputs": [],
   "source": [
    "save_data(labeled_clean_df, os.path.join(INTERIM_DIR, \"train_cleaned.csv\"))\n",
    "save_data(test_clean_df, os.path.join(INTERIM_DIR, \"test_cleaned.csv\"))"
   ]
  },
  {
   "cell_type": "markdown",
   "metadata": {},
   "source": [
    "## Analyze clean data"
   ]
  },
  {
   "cell_type": "markdown",
   "metadata": {},
   "source": [
    "### All relation types"
   ]
  },
  {
   "cell_type": "code",
   "execution_count": 20,
   "metadata": {},
   "outputs": [
    {
     "name": "stdout",
     "output_type": "stream",
     "text": [
      "37\n"
     ]
    },
    {
     "data": {
      "text/plain": [
       "{'CREATED',\n",
       " 'DEATHS_NUMBER',\n",
       " 'DIED_IN',\n",
       " 'END_DATE',\n",
       " 'GENDER_FEMALE',\n",
       " 'GENDER_MALE',\n",
       " 'HAS_CATEGORY',\n",
       " 'HAS_COLOR',\n",
       " 'HAS_CONSEQUENCE',\n",
       " 'HAS_CONTROL_OVER',\n",
       " 'HAS_FAMILY_RELATIONSHIP',\n",
       " 'HAS_FOR_HEIGHT',\n",
       " 'HAS_FOR_LENGTH',\n",
       " 'HAS_FOR_WIDTH',\n",
       " 'HAS_LATITUDE',\n",
       " 'HAS_LONGITUDE',\n",
       " 'HAS_QUANTITY',\n",
       " 'INITIATED',\n",
       " 'INJURED_NUMBER',\n",
       " 'IS_AT_ODDS_WITH',\n",
       " 'IS_BORN_IN',\n",
       " 'IS_BORN_ON',\n",
       " 'IS_COOPERATING_WITH',\n",
       " 'IS_DEAD_ON',\n",
       " 'IS_IN_CONTACT_WITH',\n",
       " 'IS_LOCATED_IN',\n",
       " 'IS_OF_NATIONALITY',\n",
       " 'IS_OF_SIZE',\n",
       " 'IS_PART_OF',\n",
       " 'IS_REGISTERED_AS',\n",
       " 'OPERATES_IN',\n",
       " 'RESIDES_IN',\n",
       " 'STARTED_IN',\n",
       " 'START_DATE',\n",
       " 'WAS_CREATED_IN',\n",
       " 'WAS_DISSOLVED_IN',\n",
       " 'WEIGHS'}"
      ]
     },
     "execution_count": 20,
     "metadata": {},
     "output_type": "execute_result"
    }
   ],
   "source": [
    "relation_classes = set(\n",
    "    sum(\n",
    "        labeled_clean_df.relations.apply(\n",
    "            lambda row: list({r for (e1, r, e2) in row})\n",
    "        ).values.tolist(),\n",
    "        [],\n",
    "    )\n",
    ")\n",
    "print(len(relation_classes))\n",
    "relation_classes"
   ]
  },
  {
   "cell_type": "markdown",
   "metadata": {},
   "source": [
    "#### Summary stats on relation classes\n",
    "\n",
    "TODO..."
   ]
  },
  {
   "cell_type": "markdown",
   "metadata": {},
   "source": [
    "### All entity types"
   ]
  },
  {
   "cell_type": "code",
   "execution_count": 21,
   "metadata": {},
   "outputs": [
    {
     "name": "stdout",
     "output_type": "stream",
     "text": [
      "55\n"
     ]
    },
    {
     "data": {
      "text/plain": [
       "{'ACCIDENT',\n",
       " 'AGITATING_TROUBLE_MAKING',\n",
       " 'BOMBING',\n",
       " 'CATEGORY',\n",
       " 'CBRN_EVENT',\n",
       " 'CIVILIAN',\n",
       " 'CIVIL_WAR_OUTBREAK',\n",
       " 'COLOR',\n",
       " 'COUP_D_ETAT',\n",
       " 'CRIMINAL_ARREST',\n",
       " 'DEMONSTRATION',\n",
       " 'DRUG_OPERATION',\n",
       " 'ECONOMICAL_CRISIS',\n",
       " 'ELECTION',\n",
       " 'EPIDEMIC',\n",
       " 'FIRE',\n",
       " 'FIRSTNAME',\n",
       " 'GATHERING',\n",
       " 'GROUP_OF_INDIVIDUALS',\n",
       " 'HEIGHT',\n",
       " 'HOOLIGANISM_TROUBLEMAKING',\n",
       " 'ILLEGAL_CIVIL_DEMONSTRATION',\n",
       " 'INTERGOVERNMENTAL_ORGANISATION',\n",
       " 'LASTNAME',\n",
       " 'LATITUDE',\n",
       " 'LENGTH',\n",
       " 'LONGITUDE',\n",
       " 'MATERIAL_REFERENCE',\n",
       " 'MATERIEL',\n",
       " 'MILITARY',\n",
       " 'MILITARY_ORGANISATION',\n",
       " 'NATIONALITY',\n",
       " 'NATURAL_CAUSES_DEATH',\n",
       " 'NATURAL_EVENT',\n",
       " 'NON_GOVERNMENTAL_ORGANISATION',\n",
       " 'NON_MILITARY_GOVERNMENT_ORGANISATION',\n",
       " 'PLACE',\n",
       " 'POLITICAL_VIOLENCE',\n",
       " 'POLLUTION',\n",
       " 'QUANTITY_EXACT',\n",
       " 'QUANTITY_FUZZY',\n",
       " 'QUANTITY_MAX',\n",
       " 'QUANTITY_MIN',\n",
       " 'RIOT',\n",
       " 'STRIKE',\n",
       " 'SUICIDE',\n",
       " 'TERRORIST_OR_CRIMINAL',\n",
       " 'THEFT',\n",
       " 'TIME_EXACT',\n",
       " 'TIME_FUZZY',\n",
       " 'TIME_MAX',\n",
       " 'TIME_MIN',\n",
       " 'TRAFFICKING',\n",
       " 'WEIGHT',\n",
       " 'WIDTH'}"
      ]
     },
     "execution_count": 21,
     "metadata": {},
     "output_type": "execute_result"
    }
   ],
   "source": [
    "entity_classes = set(\n",
    "    sum(\n",
    "        labeled_clean_df.entities.apply(\n",
    "            lambda row: list({e[\"type\"] for e in row})\n",
    "        ).values.tolist(),\n",
    "        [],\n",
    "    )\n",
    ")\n",
    "print(len(entity_classes))\n",
    "entity_classes"
   ]
  },
  {
   "cell_type": "markdown",
   "metadata": {},
   "source": [
    "#### Summary stats on entity classes"
   ]
  },
  {
   "cell_type": "code",
   "execution_count": 22,
   "metadata": {},
   "outputs": [
    {
     "data": {
      "text/plain": [
       "<Axes: xlabel='Number of texts containing the relation', ylabel='Relation'>"
      ]
     },
     "execution_count": 22,
     "metadata": {},
     "output_type": "execute_result"
    },
    {
     "data": {
      "image/png": "[encoded data removed]",
      "text/plain": [
       "<Figure size 1500x1000 with 1 Axes>"
      ]
     },
     "metadata": {},
     "output_type": "display_data"
    }
   ],
   "source": [
    "# number of text containing a relation category\n",
    "\n",
    "plt.figure(figsize=(15, 10))\n",
    "pd.Series({cat: labeled_raw_df[labeled_raw_df.relations.str.contains(cat)].shape[0] for cat in relation_classes}).sort_values(ascending=True).plot.barh(xlabel=\"Number of texts containing the relation\", ylabel=\"Relation\")"
   ]
  },
  {
   "cell_type": "code",
   "execution_count": 23,
   "metadata": {},
   "outputs": [
    {
     "data": {
      "text/plain": [
       "141"
      ]
     },
     "execution_count": 23,
     "metadata": {},
     "output_type": "execute_result"
    }
   ],
   "source": [
    "labeled_raw_df.relations.str.count(\"CREATED\").sum()"
   ]
  },
  {
   "cell_type": "code",
   "execution_count": 24,
   "metadata": {},
   "outputs": [
    {
     "data": {
      "text/html": [
       "<div>\n",
       "<style scoped>\n",
       "    .dataframe tbody tr th:only-of-type {\n",
       "        vertical-align: middle;\n",
       "    }\n",
       "\n",
       "    .dataframe tbody tr th {\n",
       "        vertical-align: top;\n",
       "    }\n",
       "\n",
       "    .dataframe thead th {\n",
       "        text-align: right;\n",
       "    }\n",
       "</style>\n",
       "<table border=\"1\" class=\"dataframe\">\n",
       "  <thead>\n",
       "    <tr style=\"text-align: right;\">\n",
       "      <th></th>\n",
       "      <th>count</th>\n",
       "      <th>mean</th>\n",
       "      <th>std</th>\n",
       "      <th>min</th>\n",
       "      <th>25%</th>\n",
       "      <th>50%</th>\n",
       "      <th>75%</th>\n",
       "      <th>max</th>\n",
       "    </tr>\n",
       "  </thead>\n",
       "  <tbody>\n",
       "    <tr>\n",
       "      <th>IS_LOCATED_IN</th>\n",
       "      <td>800.0</td>\n",
       "      <td>11.28125</td>\n",
       "      <td>6.555025</td>\n",
       "      <td>0.0</td>\n",
       "      <td>7.0</td>\n",
       "      <td>10.0</td>\n",
       "      <td>15.0</td>\n",
       "      <td>44.0</td>\n",
       "    </tr>\n",
       "    <tr>\n",
       "      <th>HAS_CONTROL_OVER</th>\n",
       "      <td>800.0</td>\n",
       "      <td>5.68375</td>\n",
       "      <td>3.724389</td>\n",
       "      <td>0.0</td>\n",
       "      <td>3.0</td>\n",
       "      <td>5.0</td>\n",
       "      <td>8.0</td>\n",
       "      <td>22.0</td>\n",
       "    </tr>\n",
       "    <tr>\n",
       "      <th>STARTED_IN</th>\n",
       "      <td>800.0</td>\n",
       "      <td>2.32500</td>\n",
       "      <td>1.829223</td>\n",
       "      <td>0.0</td>\n",
       "      <td>1.0</td>\n",
       "      <td>2.0</td>\n",
       "      <td>3.0</td>\n",
       "      <td>12.0</td>\n",
       "    </tr>\n",
       "    <tr>\n",
       "      <th>IS_IN_CONTACT_WITH</th>\n",
       "      <td>800.0</td>\n",
       "      <td>3.64875</td>\n",
       "      <td>4.583026</td>\n",
       "      <td>0.0</td>\n",
       "      <td>0.0</td>\n",
       "      <td>2.0</td>\n",
       "      <td>4.0</td>\n",
       "      <td>44.0</td>\n",
       "    </tr>\n",
       "    <tr>\n",
       "      <th>OPERATES_IN</th>\n",
       "      <td>800.0</td>\n",
       "      <td>3.04375</td>\n",
       "      <td>2.650588</td>\n",
       "      <td>0.0</td>\n",
       "      <td>1.0</td>\n",
       "      <td>2.0</td>\n",
       "      <td>4.0</td>\n",
       "      <td>19.0</td>\n",
       "    </tr>\n",
       "    <tr>\n",
       "      <th>END_DATE</th>\n",
       "      <td>800.0</td>\n",
       "      <td>1.09250</td>\n",
       "      <td>1.081853</td>\n",
       "      <td>0.0</td>\n",
       "      <td>0.0</td>\n",
       "      <td>1.0</td>\n",
       "      <td>2.0</td>\n",
       "      <td>6.0</td>\n",
       "    </tr>\n",
       "    <tr>\n",
       "      <th>START_DATE</th>\n",
       "      <td>800.0</td>\n",
       "      <td>1.29250</td>\n",
       "      <td>1.165608</td>\n",
       "      <td>0.0</td>\n",
       "      <td>0.0</td>\n",
       "      <td>1.0</td>\n",
       "      <td>2.0</td>\n",
       "      <td>7.0</td>\n",
       "    </tr>\n",
       "    <tr>\n",
       "      <th>IS_PART_OF</th>\n",
       "      <td>800.0</td>\n",
       "      <td>1.82750</td>\n",
       "      <td>1.642747</td>\n",
       "      <td>0.0</td>\n",
       "      <td>1.0</td>\n",
       "      <td>1.0</td>\n",
       "      <td>2.0</td>\n",
       "      <td>14.0</td>\n",
       "    </tr>\n",
       "    <tr>\n",
       "      <th>HAS_CATEGORY</th>\n",
       "      <td>800.0</td>\n",
       "      <td>1.11750</td>\n",
       "      <td>0.891452</td>\n",
       "      <td>0.0</td>\n",
       "      <td>1.0</td>\n",
       "      <td>1.0</td>\n",
       "      <td>2.0</td>\n",
       "      <td>5.0</td>\n",
       "    </tr>\n",
       "    <tr>\n",
       "      <th>GENDER_MALE</th>\n",
       "      <td>800.0</td>\n",
       "      <td>1.13500</td>\n",
       "      <td>0.864702</td>\n",
       "      <td>0.0</td>\n",
       "      <td>1.0</td>\n",
       "      <td>1.0</td>\n",
       "      <td>2.0</td>\n",
       "      <td>4.0</td>\n",
       "    </tr>\n",
       "    <tr>\n",
       "      <th>IS_OF_NATIONALITY</th>\n",
       "      <td>800.0</td>\n",
       "      <td>0.22375</td>\n",
       "      <td>0.525863</td>\n",
       "      <td>0.0</td>\n",
       "      <td>0.0</td>\n",
       "      <td>0.0</td>\n",
       "      <td>0.0</td>\n",
       "      <td>4.0</td>\n",
       "    </tr>\n",
       "    <tr>\n",
       "      <th>IS_DEAD_ON</th>\n",
       "      <td>800.0</td>\n",
       "      <td>0.08500</td>\n",
       "      <td>0.287886</td>\n",
       "      <td>0.0</td>\n",
       "      <td>0.0</td>\n",
       "      <td>0.0</td>\n",
       "      <td>0.0</td>\n",
       "      <td>2.0</td>\n",
       "    </tr>\n",
       "    <tr>\n",
       "      <th>HAS_FAMILY_RELATIONSHIP</th>\n",
       "      <td>800.0</td>\n",
       "      <td>0.27750</td>\n",
       "      <td>0.847875</td>\n",
       "      <td>0.0</td>\n",
       "      <td>0.0</td>\n",
       "      <td>0.0</td>\n",
       "      <td>0.0</td>\n",
       "      <td>6.0</td>\n",
       "    </tr>\n",
       "    <tr>\n",
       "      <th>CREATED</th>\n",
       "      <td>800.0</td>\n",
       "      <td>0.17625</td>\n",
       "      <td>0.561765</td>\n",
       "      <td>0.0</td>\n",
       "      <td>0.0</td>\n",
       "      <td>0.0</td>\n",
       "      <td>0.0</td>\n",
       "      <td>5.0</td>\n",
       "    </tr>\n",
       "    <tr>\n",
       "      <th>INJURED_NUMBER</th>\n",
       "      <td>800.0</td>\n",
       "      <td>0.08750</td>\n",
       "      <td>0.295725</td>\n",
       "      <td>0.0</td>\n",
       "      <td>0.0</td>\n",
       "      <td>0.0</td>\n",
       "      <td>0.0</td>\n",
       "      <td>2.0</td>\n",
       "    </tr>\n",
       "    <tr>\n",
       "      <th>IS_REGISTERED_AS</th>\n",
       "      <td>800.0</td>\n",
       "      <td>0.04250</td>\n",
       "      <td>0.241385</td>\n",
       "      <td>0.0</td>\n",
       "      <td>0.0</td>\n",
       "      <td>0.0</td>\n",
       "      <td>0.0</td>\n",
       "      <td>2.0</td>\n",
       "    </tr>\n",
       "    <tr>\n",
       "      <th>WAS_CREATED_IN</th>\n",
       "      <td>800.0</td>\n",
       "      <td>0.01875</td>\n",
       "      <td>0.135726</td>\n",
       "      <td>0.0</td>\n",
       "      <td>0.0</td>\n",
       "      <td>0.0</td>\n",
       "      <td>0.0</td>\n",
       "      <td>1.0</td>\n",
       "    </tr>\n",
       "    <tr>\n",
       "      <th>IS_AT_ODDS_WITH</th>\n",
       "      <td>800.0</td>\n",
       "      <td>1.90750</td>\n",
       "      <td>4.615525</td>\n",
       "      <td>0.0</td>\n",
       "      <td>0.0</td>\n",
       "      <td>0.0</td>\n",
       "      <td>2.0</td>\n",
       "      <td>42.0</td>\n",
       "    </tr>\n",
       "    <tr>\n",
       "      <th>HAS_FOR_LENGTH</th>\n",
       "      <td>800.0</td>\n",
       "      <td>0.02000</td>\n",
       "      <td>0.140088</td>\n",
       "      <td>0.0</td>\n",
       "      <td>0.0</td>\n",
       "      <td>0.0</td>\n",
       "      <td>0.0</td>\n",
       "      <td>1.0</td>\n",
       "    </tr>\n",
       "    <tr>\n",
       "      <th>HAS_QUANTITY</th>\n",
       "      <td>800.0</td>\n",
       "      <td>0.23875</td>\n",
       "      <td>0.576336</td>\n",
       "      <td>0.0</td>\n",
       "      <td>0.0</td>\n",
       "      <td>0.0</td>\n",
       "      <td>0.0</td>\n",
       "      <td>4.0</td>\n",
       "    </tr>\n",
       "    <tr>\n",
       "      <th>DEATHS_NUMBER</th>\n",
       "      <td>800.0</td>\n",
       "      <td>0.09375</td>\n",
       "      <td>0.312383</td>\n",
       "      <td>0.0</td>\n",
       "      <td>0.0</td>\n",
       "      <td>0.0</td>\n",
       "      <td>0.0</td>\n",
       "      <td>2.0</td>\n",
       "    </tr>\n",
       "    <tr>\n",
       "      <th>HAS_LONGITUDE</th>\n",
       "      <td>800.0</td>\n",
       "      <td>0.01500</td>\n",
       "      <td>0.121628</td>\n",
       "      <td>0.0</td>\n",
       "      <td>0.0</td>\n",
       "      <td>0.0</td>\n",
       "      <td>0.0</td>\n",
       "      <td>1.0</td>\n",
       "    </tr>\n",
       "    <tr>\n",
       "      <th>GENDER_FEMALE</th>\n",
       "      <td>800.0</td>\n",
       "      <td>0.51750</td>\n",
       "      <td>0.620625</td>\n",
       "      <td>0.0</td>\n",
       "      <td>0.0</td>\n",
       "      <td>0.0</td>\n",
       "      <td>1.0</td>\n",
       "      <td>3.0</td>\n",
       "    </tr>\n",
       "    <tr>\n",
       "      <th>IS_BORN_ON</th>\n",
       "      <td>800.0</td>\n",
       "      <td>0.02500</td>\n",
       "      <td>0.156223</td>\n",
       "      <td>0.0</td>\n",
       "      <td>0.0</td>\n",
       "      <td>0.0</td>\n",
       "      <td>0.0</td>\n",
       "      <td>1.0</td>\n",
       "    </tr>\n",
       "    <tr>\n",
       "      <th>WEIGHS</th>\n",
       "      <td>800.0</td>\n",
       "      <td>0.05125</td>\n",
       "      <td>0.242274</td>\n",
       "      <td>0.0</td>\n",
       "      <td>0.0</td>\n",
       "      <td>0.0</td>\n",
       "      <td>0.0</td>\n",
       "      <td>2.0</td>\n",
       "    </tr>\n",
       "    <tr>\n",
       "      <th>IS_OF_SIZE</th>\n",
       "      <td>800.0</td>\n",
       "      <td>0.54750</td>\n",
       "      <td>0.820723</td>\n",
       "      <td>0.0</td>\n",
       "      <td>0.0</td>\n",
       "      <td>0.0</td>\n",
       "      <td>1.0</td>\n",
       "      <td>4.0</td>\n",
       "    </tr>\n",
       "    <tr>\n",
       "      <th>HAS_CONSEQUENCE</th>\n",
       "      <td>800.0</td>\n",
       "      <td>0.96125</td>\n",
       "      <td>2.006185</td>\n",
       "      <td>0.0</td>\n",
       "      <td>0.0</td>\n",
       "      <td>0.0</td>\n",
       "      <td>1.0</td>\n",
       "      <td>21.0</td>\n",
       "    </tr>\n",
       "    <tr>\n",
       "      <th>RESIDES_IN</th>\n",
       "      <td>800.0</td>\n",
       "      <td>0.27750</td>\n",
       "      <td>0.689992</td>\n",
       "      <td>0.0</td>\n",
       "      <td>0.0</td>\n",
       "      <td>0.0</td>\n",
       "      <td>0.0</td>\n",
       "      <td>4.0</td>\n",
       "    </tr>\n",
       "    <tr>\n",
       "      <th>HAS_FOR_WIDTH</th>\n",
       "      <td>800.0</td>\n",
       "      <td>0.01750</td>\n",
       "      <td>0.131207</td>\n",
       "      <td>0.0</td>\n",
       "      <td>0.0</td>\n",
       "      <td>0.0</td>\n",
       "      <td>0.0</td>\n",
       "      <td>1.0</td>\n",
       "    </tr>\n",
       "    <tr>\n",
       "      <th>INITIATED</th>\n",
       "      <td>800.0</td>\n",
       "      <td>0.58625</td>\n",
       "      <td>0.972751</td>\n",
       "      <td>0.0</td>\n",
       "      <td>0.0</td>\n",
       "      <td>0.0</td>\n",
       "      <td>1.0</td>\n",
       "      <td>9.0</td>\n",
       "    </tr>\n",
       "    <tr>\n",
       "      <th>IS_COOPERATING_WITH</th>\n",
       "      <td>800.0</td>\n",
       "      <td>0.46500</td>\n",
       "      <td>1.458229</td>\n",
       "      <td>0.0</td>\n",
       "      <td>0.0</td>\n",
       "      <td>0.0</td>\n",
       "      <td>0.0</td>\n",
       "      <td>24.0</td>\n",
       "    </tr>\n",
       "    <tr>\n",
       "      <th>HAS_LATITUDE</th>\n",
       "      <td>800.0</td>\n",
       "      <td>0.01250</td>\n",
       "      <td>0.111172</td>\n",
       "      <td>0.0</td>\n",
       "      <td>0.0</td>\n",
       "      <td>0.0</td>\n",
       "      <td>0.0</td>\n",
       "      <td>1.0</td>\n",
       "    </tr>\n",
       "    <tr>\n",
       "      <th>DIED_IN</th>\n",
       "      <td>800.0</td>\n",
       "      <td>0.05125</td>\n",
       "      <td>0.318198</td>\n",
       "      <td>0.0</td>\n",
       "      <td>0.0</td>\n",
       "      <td>0.0</td>\n",
       "      <td>0.0</td>\n",
       "      <td>4.0</td>\n",
       "    </tr>\n",
       "    <tr>\n",
       "      <th>HAS_FOR_HEIGHT</th>\n",
       "      <td>800.0</td>\n",
       "      <td>0.01500</td>\n",
       "      <td>0.121628</td>\n",
       "      <td>0.0</td>\n",
       "      <td>0.0</td>\n",
       "      <td>0.0</td>\n",
       "      <td>0.0</td>\n",
       "      <td>1.0</td>\n",
       "    </tr>\n",
       "    <tr>\n",
       "      <th>IS_BORN_IN</th>\n",
       "      <td>800.0</td>\n",
       "      <td>0.06250</td>\n",
       "      <td>0.276024</td>\n",
       "      <td>0.0</td>\n",
       "      <td>0.0</td>\n",
       "      <td>0.0</td>\n",
       "      <td>0.0</td>\n",
       "      <td>3.0</td>\n",
       "    </tr>\n",
       "    <tr>\n",
       "      <th>HAS_COLOR</th>\n",
       "      <td>800.0</td>\n",
       "      <td>0.11375</td>\n",
       "      <td>0.394976</td>\n",
       "      <td>0.0</td>\n",
       "      <td>0.0</td>\n",
       "      <td>0.0</td>\n",
       "      <td>0.0</td>\n",
       "      <td>3.0</td>\n",
       "    </tr>\n",
       "    <tr>\n",
       "      <th>WAS_DISSOLVED_IN</th>\n",
       "      <td>800.0</td>\n",
       "      <td>0.01750</td>\n",
       "      <td>0.131207</td>\n",
       "      <td>0.0</td>\n",
       "      <td>0.0</td>\n",
       "      <td>0.0</td>\n",
       "      <td>0.0</td>\n",
       "      <td>1.0</td>\n",
       "    </tr>\n",
       "  </tbody>\n",
       "</table>\n",
       "</div>"
      ],
      "text/plain": [
       "                         count      mean       std  min  25%   50%   75%   max\n",
       "IS_LOCATED_IN            800.0  11.28125  6.555025  0.0  7.0  10.0  15.0  44.0\n",
       "HAS_CONTROL_OVER         800.0   5.68375  3.724389  0.0  3.0   5.0   8.0  22.0\n",
       "STARTED_IN               800.0   2.32500  1.829223  0.0  1.0   2.0   3.0  12.0\n",
       "IS_IN_CONTACT_WITH       800.0   3.64875  4.583026  0.0  0.0   2.0   4.0  44.0\n",
       "OPERATES_IN              800.0   3.04375  2.650588  0.0  1.0   2.0   4.0  19.0\n",
       "END_DATE                 800.0   1.09250  1.081853  0.0  0.0   1.0   2.0   6.0\n",
       "START_DATE               800.0   1.29250  1.165608  0.0  0.0   1.0   2.0   7.0\n",
       "IS_PART_OF               800.0   1.82750  1.642747  0.0  1.0   1.0   2.0  14.0\n",
       "HAS_CATEGORY             800.0   1.11750  0.891452  0.0  1.0   1.0   2.0   5.0\n",
       "GENDER_MALE              800.0   1.13500  0.864702  0.0  1.0   1.0   2.0   4.0\n",
       "IS_OF_NATIONALITY        800.0   0.22375  0.525863  0.0  0.0   0.0   0.0   4.0\n",
       "IS_DEAD_ON               800.0   0.08500  0.287886  0.0  0.0   0.0   0.0   2.0\n",
       "HAS_FAMILY_RELATIONSHIP  800.0   0.27750  0.847875  0.0  0.0   0.0   0.0   6.0\n",
       "CREATED                  800.0   0.17625  0.561765  0.0  0.0   0.0   0.0   5.0\n",
       "INJURED_NUMBER           800.0   0.08750  0.295725  0.0  0.0   0.0   0.0   2.0\n",
       "IS_REGISTERED_AS         800.0   0.04250  0.241385  0.0  0.0   0.0   0.0   2.0\n",
       "WAS_CREATED_IN           800.0   0.01875  0.135726  0.0  0.0   0.0   0.0   1.0\n",
       "IS_AT_ODDS_WITH          800.0   1.90750  4.615525  0.0  0.0   0.0   2.0  42.0\n",
       "HAS_FOR_LENGTH           800.0   0.02000  0.140088  0.0  0.0   0.0   0.0   1.0\n",
       "HAS_QUANTITY             800.0   0.23875  0.576336  0.0  0.0   0.0   0.0   4.0\n",
       "DEATHS_NUMBER            800.0   0.09375  0.312383  0.0  0.0   0.0   0.0   2.0\n",
       "HAS_LONGITUDE            800.0   0.01500  0.121628  0.0  0.0   0.0   0.0   1.0\n",
       "GENDER_FEMALE            800.0   0.51750  0.620625  0.0  0.0   0.0   1.0   3.0\n",
       "IS_BORN_ON               800.0   0.02500  0.156223  0.0  0.0   0.0   0.0   1.0\n",
       "WEIGHS                   800.0   0.05125  0.242274  0.0  0.0   0.0   0.0   2.0\n",
       "IS_OF_SIZE               800.0   0.54750  0.820723  0.0  0.0   0.0   1.0   4.0\n",
       "HAS_CONSEQUENCE          800.0   0.96125  2.006185  0.0  0.0   0.0   1.0  21.0\n",
       "RESIDES_IN               800.0   0.27750  0.689992  0.0  0.0   0.0   0.0   4.0\n",
       "HAS_FOR_WIDTH            800.0   0.01750  0.131207  0.0  0.0   0.0   0.0   1.0\n",
       "INITIATED                800.0   0.58625  0.972751  0.0  0.0   0.0   1.0   9.0\n",
       "IS_COOPERATING_WITH      800.0   0.46500  1.458229  0.0  0.0   0.0   0.0  24.0\n",
       "HAS_LATITUDE             800.0   0.01250  0.111172  0.0  0.0   0.0   0.0   1.0\n",
       "DIED_IN                  800.0   0.05125  0.318198  0.0  0.0   0.0   0.0   4.0\n",
       "HAS_FOR_HEIGHT           800.0   0.01500  0.121628  0.0  0.0   0.0   0.0   1.0\n",
       "IS_BORN_IN               800.0   0.06250  0.276024  0.0  0.0   0.0   0.0   3.0\n",
       "HAS_COLOR                800.0   0.11375  0.394976  0.0  0.0   0.0   0.0   3.0\n",
       "WAS_DISSOLVED_IN         800.0   0.01750  0.131207  0.0  0.0   0.0   0.0   1.0"
      ]
     },
     "execution_count": 24,
     "metadata": {},
     "output_type": "execute_result"
    }
   ],
   "source": [
    "# distribution of the occurences of each category among texts\n",
    "pd.DataFrame({cat: labeled_raw_df.relations.str.count(cat) for cat in relation_classes}).describe().T.sort_values(\"50%\", ascending=False)"
   ]
  },
  {
   "cell_type": "code",
   "execution_count": 106,
   "metadata": {},
   "outputs": [
    {
     "data": {
      "text/plain": [
       "id\n",
       "181      17\n",
       "31669    14\n",
       "51470     5\n",
       "51332     3\n",
       "1131      8\n",
       "         ..\n",
       "1288     14\n",
       "3822      6\n",
       "51266     7\n",
       "51368    13\n",
       "124      23\n",
       "Name: relations, Length: 800, dtype: int64"
      ]
     },
     "execution_count": 106,
     "metadata": {},
     "output_type": "execute_result"
    }
   ],
   "source": [
    "labeled_raw_df.relations.str.count(\"IS_LOCATED_IN\")"
   ]
  },
  {
   "cell_type": "code",
   "execution_count": 108,
   "metadata": {},
   "outputs": [
    {
     "data": {
      "text/plain": [
       "[[0, 'STARTED_IN', 9],\n",
       " [7, 'IS_LOCATED_IN', 9],\n",
       " [5, 'IS_LOCATED_IN', 10],\n",
       " [1, 'GENDER_FEMALE', 1],\n",
       " [12, 'IS_LOCATED_IN', 10],\n",
       " [0, 'IS_LOCATED_IN', 10],\n",
       " [1, 'IS_LOCATED_IN', 10],\n",
       " [13, 'IS_LOCATED_IN', 9],\n",
       " [14, 'IS_LOCATED_IN', 10],\n",
       " [1, 'HAS_CATEGORY', 18],\n",
       " [5, 'IS_LOCATED_IN', 9],\n",
       " [9, 'IS_LOCATED_IN', 10],\n",
       " [14, 'IS_DEAD_ON', 15],\n",
       " [7, 'HAS_CATEGORY', 19],\n",
       " [12, 'IS_LOCATED_IN', 9],\n",
       " [0, 'IS_LOCATED_IN', 9],\n",
       " [7, 'GENDER_MALE', 7],\n",
       " [11, 'IS_LOCATED_IN', 10],\n",
       " [1, 'IS_LOCATED_IN', 9],\n",
       " [14, 'IS_LOCATED_IN', 9],\n",
       " [14, 'HAS_CATEGORY', 20],\n",
       " [0, 'STARTED_IN', 10],\n",
       " [0, 'START_DATE', 15],\n",
       " [7, 'IS_LOCATED_IN', 10],\n",
       " [0, 'END_DATE', 15],\n",
       " [14, 'GENDER_MALE', 14],\n",
       " [12, 'IS_OF_SIZE', 22],\n",
       " [13, 'IS_LOCATED_IN', 10],\n",
       " [1, 'IS_LOCATED_IN', 11],\n",
       " [13, 'IS_OF_SIZE', 21]]"
      ]
     },
     "execution_count": 108,
     "metadata": {},
     "output_type": "execute_result"
    }
   ],
   "source": [
    "labeled_clean_df.relations.loc[181]"
   ]
  },
  {
   "cell_type": "code",
   "execution_count": 25,
   "metadata": {},
   "outputs": [
    {
     "data": {
      "text/plain": [
       "IS_LOCATED_IN              9025\n",
       "HAS_CONTROL_OVER           4547\n",
       "IS_IN_CONTACT_WITH         2919\n",
       "OPERATES_IN                2435\n",
       "STARTED_IN                 1860\n",
       "IS_AT_ODDS_WITH            1526\n",
       "IS_PART_OF                 1462\n",
       "START_DATE                 1034\n",
       "GENDER_MALE                 908\n",
       "HAS_CATEGORY                894\n",
       "END_DATE                    874\n",
       "HAS_CONSEQUENCE             769\n",
       "INITIATED                   469\n",
       "IS_OF_SIZE                  438\n",
       "GENDER_FEMALE               414\n",
       "IS_COOPERATING_WITH         372\n",
       "RESIDES_IN                  222\n",
       "HAS_FAMILY_RELATIONSHIP     222\n",
       "HAS_QUANTITY                191\n",
       "IS_OF_NATIONALITY           179\n",
       "CREATED                     141\n",
       "HAS_COLOR                    91\n",
       "DEATHS_NUMBER                75\n",
       "INJURED_NUMBER               70\n",
       "IS_DEAD_ON                   68\n",
       "IS_BORN_IN                   50\n",
       "WEIGHS                       41\n",
       "DIED_IN                      41\n",
       "IS_REGISTERED_AS             34\n",
       "IS_BORN_ON                   20\n",
       "HAS_FOR_LENGTH               16\n",
       "WAS_CREATED_IN               15\n",
       "HAS_FOR_WIDTH                14\n",
       "WAS_DISSOLVED_IN             14\n",
       "HAS_LONGITUDE                12\n",
       "HAS_FOR_HEIGHT               12\n",
       "HAS_LATITUDE                 10\n",
       "dtype: int64"
      ]
     },
     "execution_count": 25,
     "metadata": {},
     "output_type": "execute_result"
    }
   ],
   "source": [
    "# Total occurences of each category in the labeled dataset\n",
    "pd.Series({cat: labeled_raw_df.relations.str.count(cat).sum() for cat in relation_classes}).sort_values(ascending=False)"
   ]
  },
  {
   "cell_type": "code",
   "execution_count": 26,
   "metadata": {},
   "outputs": [
    {
     "data": {
      "text/plain": [
       "<Axes: title={'center': 'Total occurences of each category in the labeled dataset'}, xlabel='Number of labeled relations of a given category', ylabel='Category of relation'>"
      ]
     },
     "execution_count": 26,
     "metadata": {},
     "output_type": "execute_result"
    },
    {
     "data": {
      "image/png": "[encoded data removed]",
      "text/plain": [
       "<Figure size 1500x1000 with 1 Axes>"
      ]
     },
     "metadata": {},
     "output_type": "display_data"
    }
   ],
   "source": [
    "plt.figure(figsize=(15, 10))\n",
    "pd.Series({cat: labeled_raw_df.relations.str.count(cat).sum() for cat in relation_classes}).sort_values(ascending=True).plot.barh(xlabel=\"Number of labeled relations of a given category\", ylabel=\"Category of relation\", title=\"Total occurences of each category in the labeled dataset\")\n",
    "# pd.Series({cat: labeled_raw_df.relations.str.count(cat).sum() for cat in relation_classes}).sort_values(ascending=False)"
   ]
  },
  {
   "cell_type": "markdown",
   "metadata": {},
   "source": [
    "### Stats about the cooccurence between entity categories and relation categories\n",
    "\n",
    "TODO: For each relation category:\n",
    "- what is the number of time each entity category is e1?\n",
    "- what is the number of time each entity category is e2?\n",
    "- what pairs of entity categories are never into a relation?"
   ]
  },
  {
   "cell_type": "code",
   "execution_count": 43,
   "metadata": {},
   "outputs": [
    {
     "data": {
      "text/plain": [
       "[{'id': 0,\n",
       "  'mentions': [{'value': 'accident', 'start': 70, 'end': 78},\n",
       "   {'value': 'accident de circulation', 'start': 100, 'end': 123},\n",
       "   {'value': 'accident', 'start': 275, 'end': 283}],\n",
       "  'type': 'ACCIDENT'},\n",
       " {'id': 1,\n",
       "  'mentions': [{'value': 'Anam Destresse', 'start': 0, 'end': 14},\n",
       "   {'value': 'Anam Destresse', 'start': 431, 'end': 445}],\n",
       "  'type': 'CIVILIAN'},\n",
       " {'id': 2,\n",
       "  'mentions': [{'value': 'moto', 'start': 148, 'end': 152},\n",
       "   {'value': 'moto', 'start': 550, 'end': 554}],\n",
       "  'type': 'MATERIEL'},\n",
       " {'id': 3,\n",
       "  'mentions': [{'value': 'bus', 'start': 159, 'end': 162},\n",
       "   {'value': 'bus', 'start': 208, 'end': 211},\n",
       "   {'value': 'bus', 'start': 589, 'end': 592}],\n",
       "  'type': 'MATERIEL'},\n",
       " {'id': 4,\n",
       "  'mentions': [{'value': 'panneaux de signalisation',\n",
       "    'start': 289,\n",
       "    'end': 314}],\n",
       "  'type': 'MATERIEL'},\n",
       " {'id': 5,\n",
       "  'mentions': [{'value': 'blessés', 'start': 470, 'end': 477}],\n",
       "  'type': 'GROUP_OF_INDIVIDUALS'},\n",
       " {'id': 6,\n",
       "  'mentions': [{'value': 'hélicoptère', 'start': 499, 'end': 510}],\n",
       "  'type': 'MATERIEL'},\n",
       " {'id': 7,\n",
       "  'mentions': [{'value': 'garde du corps', 'start': 353, 'end': 367}],\n",
       "  'type': 'CIVILIAN'},\n",
       " {'id': 8,\n",
       "  'mentions': [{'value': 'Ma passion', 'start': 36, 'end': 46},\n",
       "   {'value': 'ONG', 'start': 260, 'end': 263}],\n",
       "  'type': 'NON_GOVERNMENTAL_ORGANISATION'},\n",
       " {'id': 9,\n",
       "  'mentions': [{'value': 'autoroute de Saint-Marin',\n",
       "    'start': 169,\n",
       "    'end': 193}],\n",
       "  'type': 'PLACE'},\n",
       " {'id': 10,\n",
       "  'mentions': [{'value': 'Italie', 'start': 197, 'end': 203}],\n",
       "  'type': 'PLACE'},\n",
       " {'id': 11,\n",
       "  'mentions': [{'value': 'hôpital', 'start': 521, 'end': 528}],\n",
       "  'type': 'PLACE'},\n",
       " {'id': 12,\n",
       "  'mentions': [{'value': 'passagers', 'start': 233, 'end': 242}],\n",
       "  'type': 'GROUP_OF_INDIVIDUALS'},\n",
       " {'id': 13,\n",
       "  'mentions': [{'value': 'passagers', 'start': 397, 'end': 406}],\n",
       "  'type': 'GROUP_OF_INDIVIDUALS'},\n",
       " {'id': 14,\n",
       "  'mentions': [{'value': 'conducteur', 'start': 533, 'end': 543},\n",
       "   {'value': 'Il', 'start': 594, 'end': 596}],\n",
       "  'type': 'TERRORIST_OR_CRIMINAL'},\n",
       " {'id': 15,\n",
       "  'mentions': [{'value': '30 juin 2022', 'start': 83, 'end': 95}],\n",
       "  'type': 'TIME_EXACT'},\n",
       " {'id': 16,\n",
       "  'mentions': [{'value': 'Anam', 'start': 0, 'end': 4}],\n",
       "  'type': 'FIRSTNAME'},\n",
       " {'id': 17,\n",
       "  'mentions': [{'value': 'Destresse', 'start': 5, 'end': 14}],\n",
       "  'type': 'LASTNAME'},\n",
       " {'id': 18,\n",
       "  'mentions': [{'value': 'président', 'start': 16, 'end': 25}],\n",
       "  'type': 'CATEGORY'},\n",
       " {'id': 19,\n",
       "  'mentions': [{'value': 'garde du corps', 'start': 353, 'end': 367}],\n",
       "  'type': 'CATEGORY'},\n",
       " {'id': 20,\n",
       "  'mentions': [{'value': 'conducteur', 'start': 533, 'end': 543}],\n",
       "  'type': 'CATEGORY'},\n",
       " {'id': 21,\n",
       "  'mentions': [{'value': 'deux', 'start': 392, 'end': 396}],\n",
       "  'type': 'QUANTITY_EXACT'},\n",
       " {'id': 22,\n",
       "  'mentions': [{'value': '20', 'start': 230, 'end': 232}],\n",
       "  'type': 'QUANTITY_EXACT'},\n",
       " {'id': 23,\n",
       "  'mentions': [{'value': 'Anam', 'start': 431, 'end': 435}],\n",
       "  'type': 'FIRSTNAME'},\n",
       " {'id': 24,\n",
       "  'mentions': [{'value': 'Destresse', 'start': 436, 'end': 445}],\n",
       "  'type': 'LASTNAME'}]"
      ]
     },
     "execution_count": 43,
     "metadata": {},
     "output_type": "execute_result"
    }
   ],
   "source": [
    "labeled_clean_df.entities.loc[181]"
   ]
  },
  {
   "cell_type": "code",
   "execution_count": 40,
   "metadata": {},
   "outputs": [
    {
     "data": {
      "text/plain": [
       "[[0, 'STARTED_IN', 9],\n",
       " [7, 'IS_LOCATED_IN', 9],\n",
       " [5, 'IS_LOCATED_IN', 10],\n",
       " [1, 'GENDER_FEMALE', 1],\n",
       " [12, 'IS_LOCATED_IN', 10],\n",
       " [0, 'IS_LOCATED_IN', 10],\n",
       " [1, 'IS_LOCATED_IN', 10],\n",
       " [13, 'IS_LOCATED_IN', 9],\n",
       " [14, 'IS_LOCATED_IN', 10],\n",
       " [1, 'HAS_CATEGORY', 18],\n",
       " [5, 'IS_LOCATED_IN', 9],\n",
       " [9, 'IS_LOCATED_IN', 10],\n",
       " [14, 'IS_DEAD_ON', 15],\n",
       " [7, 'HAS_CATEGORY', 19],\n",
       " [12, 'IS_LOCATED_IN', 9],\n",
       " [0, 'IS_LOCATED_IN', 9],\n",
       " [7, 'GENDER_MALE', 7],\n",
       " [11, 'IS_LOCATED_IN', 10],\n",
       " [1, 'IS_LOCATED_IN', 9],\n",
       " [14, 'IS_LOCATED_IN', 9],\n",
       " [14, 'HAS_CATEGORY', 20],\n",
       " [0, 'STARTED_IN', 10],\n",
       " [0, 'START_DATE', 15],\n",
       " [7, 'IS_LOCATED_IN', 10],\n",
       " [0, 'END_DATE', 15],\n",
       " [14, 'GENDER_MALE', 14],\n",
       " [12, 'IS_OF_SIZE', 22],\n",
       " [13, 'IS_LOCATED_IN', 10],\n",
       " [1, 'IS_LOCATED_IN', 11],\n",
       " [13, 'IS_OF_SIZE', 21]]"
      ]
     },
     "execution_count": 40,
     "metadata": {},
     "output_type": "execute_result"
    }
   ],
   "source": [
    "labeled_clean_df.relations.loc[181]"
   ]
  },
  {
   "cell_type": "code",
   "execution_count": 37,
   "metadata": {},
   "outputs": [
    {
     "data": {
      "text/html": [
       "<div>\n",
       "<style scoped>\n",
       "    .dataframe tbody tr th:only-of-type {\n",
       "        vertical-align: middle;\n",
       "    }\n",
       "\n",
       "    .dataframe tbody tr th {\n",
       "        vertical-align: top;\n",
       "    }\n",
       "\n",
       "    .dataframe thead th {\n",
       "        text-align: right;\n",
       "    }\n",
       "</style>\n",
       "<table border=\"1\" class=\"dataframe\">\n",
       "  <thead>\n",
       "    <tr style=\"text-align: right;\">\n",
       "      <th></th>\n",
       "      <th>text</th>\n",
       "      <th>entities</th>\n",
       "      <th>relations</th>\n",
       "    </tr>\n",
       "    <tr>\n",
       "      <th>id</th>\n",
       "      <th></th>\n",
       "      <th></th>\n",
       "      <th></th>\n",
       "    </tr>\n",
       "  </thead>\n",
       "  <tbody>\n",
       "    <tr>\n",
       "      <th>181</th>\n",
       "      <td>Anam Destresse, président de l'ONG \"Ma passion...</td>\n",
       "      <td>[{\"id\": 0, \"mentions\": [{\"value\": \"accident\", ...</td>\n",
       "      <td>[[0, \"STARTED_IN\", 9], [7, \"IS_LOCATED_IN\", 9]...</td>\n",
       "    </tr>\n",
       "    <tr>\n",
       "      <th>31669</th>\n",
       "      <td>À Paris, le 8 avril 2022, l'usine de déodorant...</td>\n",
       "      <td>[{\"id\": 0, \"mentions\": [{\"value\": \"explosé\", \"...</td>\n",
       "      <td>[[9, \"IS_LOCATED_IN\", 8], [11, \"OPERATES_IN\", ...</td>\n",
       "    </tr>\n",
       "    <tr>\n",
       "      <th>51470</th>\n",
       "      <td>En Espagne, dans une région agricole, une cont...</td>\n",
       "      <td>[{\"id\": 0, \"mentions\": [{\"value\": \"contaminati...</td>\n",
       "      <td>[[7, \"IS_PART_OF\", 8], [9, \"OPERATES_IN\", 1], ...</td>\n",
       "    </tr>\n",
       "    <tr>\n",
       "      <th>51332</th>\n",
       "      <td>Un important incendie a fait des ravages dans ...</td>\n",
       "      <td>[{\"id\": 0, \"mentions\": [{\"value\": \"incendie\", ...</td>\n",
       "      <td>[[12, \"IS_IN_CONTACT_WITH\", 5], [0, \"IS_LOCATE...</td>\n",
       "    </tr>\n",
       "    <tr>\n",
       "      <th>1131</th>\n",
       "      <td>« Je coule » : onze heures après avoir envoyé ...</td>\n",
       "      <td>[{\"id\": 0, \"mentions\": [{\"value\": \"renversé\", ...</td>\n",
       "      <td>[[9, \"IS_LOCATED_IN\", 2], [0, \"START_DATE\", 17...</td>\n",
       "    </tr>\n",
       "    <tr>\n",
       "      <th>...</th>\n",
       "      <td>...</td>\n",
       "      <td>...</td>\n",
       "      <td>...</td>\n",
       "    </tr>\n",
       "    <tr>\n",
       "      <th>1288</th>\n",
       "      <td>M. Thibault Alekseï, membre de l'association \"...</td>\n",
       "      <td>[{\"id\": 0, \"mentions\": [{\"value\": \"perdu le co...</td>\n",
       "      <td>[[2, \"IS_PART_OF\", 3], [12, \"IS_IN_CONTACT_WIT...</td>\n",
       "    </tr>\n",
       "    <tr>\n",
       "      <th>3822</th>\n",
       "      <td>Des employés d'une usine de production médical...</td>\n",
       "      <td>[{\"id\": 0, \"mentions\": [{\"value\": \"grève\", \"st...</td>\n",
       "      <td>[[8, \"HAS_CONTROL_OVER\", 7], [4, \"HAS_CATEGORY...</td>\n",
       "    </tr>\n",
       "    <tr>\n",
       "      <th>51266</th>\n",
       "      <td>Le 13 mars 2001, Belgrade a connu un krach bou...</td>\n",
       "      <td>[{\"id\": 0, \"mentions\": [{\"value\": \"krach bours...</td>\n",
       "      <td>[[1, \"STARTED_IN\", 3], [10, \"IS_PART_OF\", 4], ...</td>\n",
       "    </tr>\n",
       "    <tr>\n",
       "      <th>51368</th>\n",
       "      <td>L'incendie du laboratoire \"FileGen\" a eu lieu ...</td>\n",
       "      <td>[{\"id\": 0, \"mentions\": [{\"value\": \"incendie\", ...</td>\n",
       "      <td>[[1, \"HAS_CONTROL_OVER\", 3], [7, \"IS_LOCATED_I...</td>\n",
       "    </tr>\n",
       "    <tr>\n",
       "      <th>124</th>\n",
       "      <td>L’avion NY8 de la compagnie Airîle a lancé sa ...</td>\n",
       "      <td>[{\"id\": 0, \"mentions\": [{\"value\": \"crasher\", \"...</td>\n",
       "      <td>[[14, \"HAS_CATEGORY\", 22], [10, \"OPERATES_IN\",...</td>\n",
       "    </tr>\n",
       "  </tbody>\n",
       "</table>\n",
       "<p>792 rows × 3 columns</p>\n",
       "</div>"
      ],
      "text/plain": [
       "                                                    text  \\\n",
       "id                                                         \n",
       "181    Anam Destresse, président de l'ONG \"Ma passion...   \n",
       "31669  À Paris, le 8 avril 2022, l'usine de déodorant...   \n",
       "51470  En Espagne, dans une région agricole, une cont...   \n",
       "51332  Un important incendie a fait des ravages dans ...   \n",
       "1131   « Je coule » : onze heures après avoir envoyé ...   \n",
       "...                                                  ...   \n",
       "1288   M. Thibault Alekseï, membre de l'association \"...   \n",
       "3822   Des employés d'une usine de production médical...   \n",
       "51266  Le 13 mars 2001, Belgrade a connu un krach bou...   \n",
       "51368  L'incendie du laboratoire \"FileGen\" a eu lieu ...   \n",
       "124    L’avion NY8 de la compagnie Airîle a lancé sa ...   \n",
       "\n",
       "                                                entities  \\\n",
       "id                                                         \n",
       "181    [{\"id\": 0, \"mentions\": [{\"value\": \"accident\", ...   \n",
       "31669  [{\"id\": 0, \"mentions\": [{\"value\": \"explosé\", \"...   \n",
       "51470  [{\"id\": 0, \"mentions\": [{\"value\": \"contaminati...   \n",
       "51332  [{\"id\": 0, \"mentions\": [{\"value\": \"incendie\", ...   \n",
       "1131   [{\"id\": 0, \"mentions\": [{\"value\": \"renversé\", ...   \n",
       "...                                                  ...   \n",
       "1288   [{\"id\": 0, \"mentions\": [{\"value\": \"perdu le co...   \n",
       "3822   [{\"id\": 0, \"mentions\": [{\"value\": \"grève\", \"st...   \n",
       "51266  [{\"id\": 0, \"mentions\": [{\"value\": \"krach bours...   \n",
       "51368  [{\"id\": 0, \"mentions\": [{\"value\": \"incendie\", ...   \n",
       "124    [{\"id\": 0, \"mentions\": [{\"value\": \"crasher\", \"...   \n",
       "\n",
       "                                               relations  \n",
       "id                                                        \n",
       "181    [[0, \"STARTED_IN\", 9], [7, \"IS_LOCATED_IN\", 9]...  \n",
       "31669  [[9, \"IS_LOCATED_IN\", 8], [11, \"OPERATES_IN\", ...  \n",
       "51470  [[7, \"IS_PART_OF\", 8], [9, \"OPERATES_IN\", 1], ...  \n",
       "51332  [[12, \"IS_IN_CONTACT_WITH\", 5], [0, \"IS_LOCATE...  \n",
       "1131   [[9, \"IS_LOCATED_IN\", 2], [0, \"START_DATE\", 17...  \n",
       "...                                                  ...  \n",
       "1288   [[2, \"IS_PART_OF\", 3], [12, \"IS_IN_CONTACT_WIT...  \n",
       "3822   [[8, \"HAS_CONTROL_OVER\", 7], [4, \"HAS_CATEGORY...  \n",
       "51266  [[1, \"STARTED_IN\", 3], [10, \"IS_PART_OF\", 4], ...  \n",
       "51368  [[1, \"HAS_CONTROL_OVER\", 3], [7, \"IS_LOCATED_I...  \n",
       "124    [[14, \"HAS_CATEGORY\", 22], [10, \"OPERATES_IN\",...  \n",
       "\n",
       "[792 rows x 3 columns]"
      ]
     },
     "execution_count": 37,
     "metadata": {},
     "output_type": "execute_result"
    }
   ],
   "source": [
    "labeled_raw_df[labeled_raw_df.relations.str.contains(\"GENDER\")]"
   ]
  },
  {
   "cell_type": "markdown",
   "metadata": {},
   "source": [
    "### Text length"
   ]
  },
  {
   "cell_type": "markdown",
   "metadata": {},
   "source": [
    "#### Number of chars"
   ]
  },
  {
   "cell_type": "code",
   "execution_count": 27,
   "metadata": {},
   "outputs": [
    {
     "data": {
      "text/plain": [
       "<Axes: >"
      ]
     },
     "execution_count": 27,
     "metadata": {},
     "output_type": "execute_result"
    },
    {
     "data": {
      "image/png": "[encoded data removed]",
      "text/plain": [
       "<Figure size 640x480 with 1 Axes>"
      ]
     },
     "metadata": {},
     "output_type": "display_data"
    }
   ],
   "source": [
    "pd.DataFrame(\n",
    "    {\n",
    "        set_name: df.text.apply(len).describe()\n",
    "        for set_name, df in zip(\n",
    "            [\"labeled\", \"test\"],\n",
    "            [labeled_clean_df, test_clean_df],\n",
    "        )\n",
    "    }\n",
    ").plot.bar()"
   ]
  },
  {
   "cell_type": "markdown",
   "metadata": {},
   "source": [
    "#### Number of tokens (subwords from CamemBERT tokenizer)"
   ]
  },
  {
   "cell_type": "code",
   "execution_count": 28,
   "metadata": {},
   "outputs": [
    {
     "data": {
      "text/plain": [
       "<Axes: >"
      ]
     },
     "execution_count": 28,
     "metadata": {},
     "output_type": "execute_result"
    },
    {
     "data": {
      "image/png": "[encoded data removed]",
      "text/plain": [
       "<Figure size 640x480 with 1 Axes>"
      ]
     },
     "metadata": {},
     "output_type": "display_data"
    }
   ],
   "source": [
    "pd.DataFrame(\n",
    "    {\n",
    "        set_name: df.text.apply(count_tokens).describe()\n",
    "        for set_name, df in zip(\n",
    "            [\"labeled\", \"test\"],\n",
    "            [labeled_clean_df, test_clean_df],\n",
    "        )\n",
    "    }\n",
    ").plot.bar()"
   ]
  },
  {
   "cell_type": "markdown",
   "metadata": {},
   "source": [
    "## Generate interim datasets\n",
    "\n",
    "for each text, generate a csv file containing all the generated texts annotated as a multilabeled Text classification task\n",
    "\n",
    "The csv file is named after the index of the text in the raw data\n"
   ]
  },
  {
   "cell_type": "code",
   "execution_count": 127,
   "metadata": {},
   "outputs": [
    {
     "data": {
      "text/html": [
       "<div>\n",
       "<style scoped>\n",
       "    .dataframe tbody tr th:only-of-type {\n",
       "        vertical-align: middle;\n",
       "    }\n",
       "\n",
       "    .dataframe tbody tr th {\n",
       "        vertical-align: top;\n",
       "    }\n",
       "\n",
       "    .dataframe thead th {\n",
       "        text-align: right;\n",
       "    }\n",
       "</style>\n",
       "<table border=\"1\" class=\"dataframe\">\n",
       "  <thead>\n",
       "    <tr style=\"text-align: right;\">\n",
       "      <th></th>\n",
       "      <th>e1</th>\n",
       "      <th>e2</th>\n",
       "      <th>relations</th>\n",
       "    </tr>\n",
       "  </thead>\n",
       "  <tbody>\n",
       "    <tr>\n",
       "      <th>0</th>\n",
       "      <td>0</td>\n",
       "      <td>9</td>\n",
       "      <td>[IS_LOCATED_IN, STARTED_IN]</td>\n",
       "    </tr>\n",
       "    <tr>\n",
       "      <th>1</th>\n",
       "      <td>7</td>\n",
       "      <td>9</td>\n",
       "      <td>[IS_LOCATED_IN]</td>\n",
       "    </tr>\n",
       "    <tr>\n",
       "      <th>2</th>\n",
       "      <td>5</td>\n",
       "      <td>10</td>\n",
       "      <td>[IS_LOCATED_IN]</td>\n",
       "    </tr>\n",
       "    <tr>\n",
       "      <th>3</th>\n",
       "      <td>1</td>\n",
       "      <td>1</td>\n",
       "      <td>[GENDER_FEMALE]</td>\n",
       "    </tr>\n",
       "    <tr>\n",
       "      <th>4</th>\n",
       "      <td>12</td>\n",
       "      <td>10</td>\n",
       "      <td>[IS_LOCATED_IN]</td>\n",
       "    </tr>\n",
       "    <tr>\n",
       "      <th>5</th>\n",
       "      <td>0</td>\n",
       "      <td>10</td>\n",
       "      <td>[IS_LOCATED_IN, STARTED_IN]</td>\n",
       "    </tr>\n",
       "    <tr>\n",
       "      <th>6</th>\n",
       "      <td>1</td>\n",
       "      <td>10</td>\n",
       "      <td>[IS_LOCATED_IN]</td>\n",
       "    </tr>\n",
       "    <tr>\n",
       "      <th>7</th>\n",
       "      <td>13</td>\n",
       "      <td>9</td>\n",
       "      <td>[IS_LOCATED_IN]</td>\n",
       "    </tr>\n",
       "    <tr>\n",
       "      <th>8</th>\n",
       "      <td>14</td>\n",
       "      <td>10</td>\n",
       "      <td>[IS_LOCATED_IN]</td>\n",
       "    </tr>\n",
       "    <tr>\n",
       "      <th>9</th>\n",
       "      <td>1</td>\n",
       "      <td>18</td>\n",
       "      <td>[HAS_CATEGORY]</td>\n",
       "    </tr>\n",
       "    <tr>\n",
       "      <th>10</th>\n",
       "      <td>5</td>\n",
       "      <td>9</td>\n",
       "      <td>[IS_LOCATED_IN]</td>\n",
       "    </tr>\n",
       "    <tr>\n",
       "      <th>11</th>\n",
       "      <td>9</td>\n",
       "      <td>10</td>\n",
       "      <td>[IS_LOCATED_IN]</td>\n",
       "    </tr>\n",
       "    <tr>\n",
       "      <th>12</th>\n",
       "      <td>14</td>\n",
       "      <td>15</td>\n",
       "      <td>[IS_DEAD_ON]</td>\n",
       "    </tr>\n",
       "    <tr>\n",
       "      <th>13</th>\n",
       "      <td>7</td>\n",
       "      <td>19</td>\n",
       "      <td>[HAS_CATEGORY]</td>\n",
       "    </tr>\n",
       "    <tr>\n",
       "      <th>14</th>\n",
       "      <td>12</td>\n",
       "      <td>9</td>\n",
       "      <td>[IS_LOCATED_IN]</td>\n",
       "    </tr>\n",
       "    <tr>\n",
       "      <th>15</th>\n",
       "      <td>7</td>\n",
       "      <td>7</td>\n",
       "      <td>[GENDER_MALE]</td>\n",
       "    </tr>\n",
       "    <tr>\n",
       "      <th>16</th>\n",
       "      <td>11</td>\n",
       "      <td>10</td>\n",
       "      <td>[IS_LOCATED_IN]</td>\n",
       "    </tr>\n",
       "    <tr>\n",
       "      <th>17</th>\n",
       "      <td>1</td>\n",
       "      <td>9</td>\n",
       "      <td>[IS_LOCATED_IN]</td>\n",
       "    </tr>\n",
       "    <tr>\n",
       "      <th>18</th>\n",
       "      <td>14</td>\n",
       "      <td>9</td>\n",
       "      <td>[IS_LOCATED_IN]</td>\n",
       "    </tr>\n",
       "    <tr>\n",
       "      <th>19</th>\n",
       "      <td>14</td>\n",
       "      <td>20</td>\n",
       "      <td>[HAS_CATEGORY]</td>\n",
       "    </tr>\n",
       "    <tr>\n",
       "      <th>20</th>\n",
       "      <td>0</td>\n",
       "      <td>15</td>\n",
       "      <td>[START_DATE, END_DATE]</td>\n",
       "    </tr>\n",
       "    <tr>\n",
       "      <th>21</th>\n",
       "      <td>7</td>\n",
       "      <td>10</td>\n",
       "      <td>[IS_LOCATED_IN]</td>\n",
       "    </tr>\n",
       "    <tr>\n",
       "      <th>22</th>\n",
       "      <td>14</td>\n",
       "      <td>14</td>\n",
       "      <td>[GENDER_MALE]</td>\n",
       "    </tr>\n",
       "    <tr>\n",
       "      <th>23</th>\n",
       "      <td>12</td>\n",
       "      <td>22</td>\n",
       "      <td>[IS_OF_SIZE]</td>\n",
       "    </tr>\n",
       "    <tr>\n",
       "      <th>24</th>\n",
       "      <td>13</td>\n",
       "      <td>10</td>\n",
       "      <td>[IS_LOCATED_IN]</td>\n",
       "    </tr>\n",
       "    <tr>\n",
       "      <th>25</th>\n",
       "      <td>1</td>\n",
       "      <td>11</td>\n",
       "      <td>[IS_LOCATED_IN]</td>\n",
       "    </tr>\n",
       "    <tr>\n",
       "      <th>26</th>\n",
       "      <td>13</td>\n",
       "      <td>21</td>\n",
       "      <td>[IS_OF_SIZE]</td>\n",
       "    </tr>\n",
       "  </tbody>\n",
       "</table>\n",
       "</div>"
      ],
      "text/plain": [
       "    e1  e2                    relations\n",
       "0    0   9  [IS_LOCATED_IN, STARTED_IN]\n",
       "1    7   9              [IS_LOCATED_IN]\n",
       "2    5  10              [IS_LOCATED_IN]\n",
       "3    1   1              [GENDER_FEMALE]\n",
       "4   12  10              [IS_LOCATED_IN]\n",
       "5    0  10  [IS_LOCATED_IN, STARTED_IN]\n",
       "6    1  10              [IS_LOCATED_IN]\n",
       "7   13   9              [IS_LOCATED_IN]\n",
       "8   14  10              [IS_LOCATED_IN]\n",
       "9    1  18               [HAS_CATEGORY]\n",
       "10   5   9              [IS_LOCATED_IN]\n",
       "11   9  10              [IS_LOCATED_IN]\n",
       "12  14  15                 [IS_DEAD_ON]\n",
       "13   7  19               [HAS_CATEGORY]\n",
       "14  12   9              [IS_LOCATED_IN]\n",
       "15   7   7                [GENDER_MALE]\n",
       "16  11  10              [IS_LOCATED_IN]\n",
       "17   1   9              [IS_LOCATED_IN]\n",
       "18  14   9              [IS_LOCATED_IN]\n",
       "19  14  20               [HAS_CATEGORY]\n",
       "20   0  15       [START_DATE, END_DATE]\n",
       "21   7  10              [IS_LOCATED_IN]\n",
       "22  14  14                [GENDER_MALE]\n",
       "23  12  22                 [IS_OF_SIZE]\n",
       "24  13  10              [IS_LOCATED_IN]\n",
       "25   1  11              [IS_LOCATED_IN]\n",
       "26  13  21                 [IS_OF_SIZE]"
      ]
     },
     "execution_count": 127,
     "metadata": {},
     "output_type": "execute_result"
    }
   ],
   "source": [
    "data_generator = TextToMultiLabelDataGenerator()\n",
    "entity_pair_to_relations_df = data_generator.convert_relations_to_dataframe(labeled_clean_df.relations.loc[181])\n",
    "entity_pair_to_relations_df"
   ]
  },
  {
   "cell_type": "code",
   "execution_count": 128,
   "metadata": {},
   "outputs": [
    {
     "data": {
      "text/html": [
       "<div>\n",
       "<style scoped>\n",
       "    .dataframe tbody tr th:only-of-type {\n",
       "        vertical-align: middle;\n",
       "    }\n",
       "\n",
       "    .dataframe tbody tr th {\n",
       "        vertical-align: top;\n",
       "    }\n",
       "\n",
       "    .dataframe thead th {\n",
       "        text-align: right;\n",
       "    }\n",
       "</style>\n",
       "<table border=\"1\" class=\"dataframe\">\n",
       "  <thead>\n",
       "    <tr style=\"text-align: right;\">\n",
       "      <th></th>\n",
       "      <th>e1</th>\n",
       "      <th>e2</th>\n",
       "      <th>text</th>\n",
       "      <th>relations</th>\n",
       "    </tr>\n",
       "  </thead>\n",
       "  <tbody>\n",
       "    <tr>\n",
       "      <th>0</th>\n",
       "      <td>0</td>\n",
       "      <td>9</td>\n",
       "      <td>Anam Destresse, président de l'ONG \"Ma passion...</td>\n",
       "      <td>[IS_LOCATED_IN, STARTED_IN]</td>\n",
       "    </tr>\n",
       "    <tr>\n",
       "      <th>1</th>\n",
       "      <td>9</td>\n",
       "      <td>0</td>\n",
       "      <td>Anam Destresse, président de l'ONG \"Ma passion...</td>\n",
       "      <td>NaN</td>\n",
       "    </tr>\n",
       "  </tbody>\n",
       "</table>\n",
       "</div>"
      ],
      "text/plain": [
       "   e1  e2                                               text  \\\n",
       "0   0   9  Anam Destresse, président de l'ONG \"Ma passion...   \n",
       "1   9   0  Anam Destresse, président de l'ONG \"Ma passion...   \n",
       "\n",
       "                     relations  \n",
       "0  [IS_LOCATED_IN, STARTED_IN]  \n",
       "1                          NaN  "
      ]
     },
     "execution_count": 128,
     "metadata": {},
     "output_type": "execute_result"
    }
   ],
   "source": [
    "text_index = 181\n",
    "text, text_entities, text_relations = labeled_clean_df.loc[text_index].to_list()\n",
    "data_generator.tag_entities(text, text_entities[0], text_entities[9]).join(\n",
    "            entity_pair_to_relations_df.set_index(\n",
    "                [\n",
    "                    \"e1\",\n",
    "                    \"e2\",\n",
    "                ]\n",
    "            ),\n",
    "            on=[\n",
    "                \"e1\",\n",
    "                \"e2\",\n",
    "            ],\n",
    "        )"
   ]
  },
  {
   "cell_type": "code",
   "execution_count": 136,
   "metadata": {},
   "outputs": [
    {
     "data": {
      "text/plain": [
       "{'id': 0,\n",
       " 'mentions': [{'value': 'accident', 'start': 70, 'end': 78},\n",
       "  {'value': 'accident de circulation', 'start': 100, 'end': 123},\n",
       "  {'value': 'accident', 'start': 275, 'end': 283}],\n",
       " 'type': 'ACCIDENT'}"
      ]
     },
     "execution_count": 136,
     "metadata": {},
     "output_type": "execute_result"
    }
   ],
   "source": [
    "text_entities[0]"
   ]
  },
  {
   "cell_type": "code",
   "execution_count": 125,
   "metadata": {},
   "outputs": [
    {
     "data": {
      "text/plain": [
       "{'id': 9,\n",
       " 'mentions': [{'value': 'autoroute de Saint-Marin', 'start': 169, 'end': 193}],\n",
       " 'type': 'PLACE'}"
      ]
     },
     "execution_count": 125,
     "metadata": {},
     "output_type": "execute_result"
    }
   ],
   "source": [
    "text_entities[9]"
   ]
  },
  {
   "cell_type": "code",
   "execution_count": 135,
   "metadata": {},
   "outputs": [
    {
     "data": {
      "text/html": [
       "<div>\n",
       "<style scoped>\n",
       "    .dataframe tbody tr th:only-of-type {\n",
       "        vertical-align: middle;\n",
       "    }\n",
       "\n",
       "    .dataframe tbody tr th {\n",
       "        vertical-align: top;\n",
       "    }\n",
       "\n",
       "    .dataframe thead th {\n",
       "        text-align: right;\n",
       "    }\n",
       "</style>\n",
       "<table border=\"1\" class=\"dataframe\">\n",
       "  <thead>\n",
       "    <tr style=\"text-align: right;\">\n",
       "      <th></th>\n",
       "      <th>text_index</th>\n",
       "      <th>e1</th>\n",
       "      <th>e2</th>\n",
       "      <th>text</th>\n",
       "    </tr>\n",
       "  </thead>\n",
       "  <tbody>\n",
       "    <tr>\n",
       "      <th>82</th>\n",
       "      <td>181</td>\n",
       "      <td>0</td>\n",
       "      <td>9</td>\n",
       "      <td>Anam Destresse, président de l'ONG \"Ma passion...</td>\n",
       "    </tr>\n",
       "  </tbody>\n",
       "</table>\n",
       "</div>"
      ],
      "text/plain": [
       "    text_index  e1  e2                                               text\n",
       "82         181   0   9  Anam Destresse, président de l'ONG \"Ma passion..."
      ]
     },
     "execution_count": 135,
     "metadata": {},
     "output_type": "execute_result"
    }
   ],
   "source": [
    "data_generator.tag_all_possible_entity_pairs(text_index, text, text_entities).query(\"e1==0 and e2==9\")"
   ]
  },
  {
   "cell_type": "code",
   "execution_count": 137,
   "metadata": {},
   "outputs": [
    {
     "data": {
      "text/html": [
       "<div>\n",
       "<style scoped>\n",
       "    .dataframe tbody tr th:only-of-type {\n",
       "        vertical-align: middle;\n",
       "    }\n",
       "\n",
       "    .dataframe tbody tr th {\n",
       "        vertical-align: top;\n",
       "    }\n",
       "\n",
       "    .dataframe thead th {\n",
       "        text-align: right;\n",
       "    }\n",
       "</style>\n",
       "<table border=\"1\" class=\"dataframe\">\n",
       "  <thead>\n",
       "    <tr style=\"text-align: right;\">\n",
       "      <th></th>\n",
       "      <th>text_index</th>\n",
       "      <th>e1</th>\n",
       "      <th>e2</th>\n",
       "      <th>text</th>\n",
       "      <th>relations</th>\n",
       "    </tr>\n",
       "  </thead>\n",
       "  <tbody>\n",
       "    <tr>\n",
       "      <th>0</th>\n",
       "      <td>181</td>\n",
       "      <td>0</td>\n",
       "      <td>0</td>\n",
       "      <td>Anam Destresse, président de l'ONG \"Ma passion...</td>\n",
       "      <td>NaN</td>\n",
       "    </tr>\n",
       "    <tr>\n",
       "      <th>1</th>\n",
       "      <td>181</td>\n",
       "      <td>1</td>\n",
       "      <td>0</td>\n",
       "      <td>&lt;e1&gt;&lt;CIVILIAN&gt;Anam Destresse&lt;/e1&gt;, président d...</td>\n",
       "      <td>NaN</td>\n",
       "    </tr>\n",
       "    <tr>\n",
       "      <th>2</th>\n",
       "      <td>181</td>\n",
       "      <td>0</td>\n",
       "      <td>1</td>\n",
       "      <td>, président de l'ONG \"Ma passion\", a été bless...</td>\n",
       "      <td>NaN</td>\n",
       "    </tr>\n",
       "    <tr>\n",
       "      <th>3</th>\n",
       "      <td>181</td>\n",
       "      <td>1</td>\n",
       "      <td>1</td>\n",
       "      <td>&lt;e1&gt;&lt;CIVILIAN&gt;Anam Destresse&lt;/e1&gt;, président d...</td>\n",
       "      <td>[GENDER_FEMALE]</td>\n",
       "    </tr>\n",
       "    <tr>\n",
       "      <th>4</th>\n",
       "      <td>181</td>\n",
       "      <td>2</td>\n",
       "      <td>0</td>\n",
       "      <td>Anam Destresse, président de l'ONG \"Ma passion...</td>\n",
       "      <td>NaN</td>\n",
       "    </tr>\n",
       "    <tr>\n",
       "      <th>...</th>\n",
       "      <td>...</td>\n",
       "      <td>...</td>\n",
       "      <td>...</td>\n",
       "      <td>...</td>\n",
       "      <td>...</td>\n",
       "    </tr>\n",
       "    <tr>\n",
       "      <th>620</th>\n",
       "      <td>181</td>\n",
       "      <td>24</td>\n",
       "      <td>22</td>\n",
       "      <td>Anam Destresse, président de l'ONG \"Ma passion...</td>\n",
       "      <td>NaN</td>\n",
       "    </tr>\n",
       "    <tr>\n",
       "      <th>621</th>\n",
       "      <td>181</td>\n",
       "      <td>22</td>\n",
       "      <td>24</td>\n",
       "      <td>Anam Destresse, président de l'ONG \"Ma passion...</td>\n",
       "      <td>NaN</td>\n",
       "    </tr>\n",
       "    <tr>\n",
       "      <th>622</th>\n",
       "      <td>181</td>\n",
       "      <td>24</td>\n",
       "      <td>23</td>\n",
       "      <td>Anam Destresse, président de l'ONG \"Ma passion...</td>\n",
       "      <td>NaN</td>\n",
       "    </tr>\n",
       "    <tr>\n",
       "      <th>623</th>\n",
       "      <td>181</td>\n",
       "      <td>23</td>\n",
       "      <td>24</td>\n",
       "      <td>Anam Destresse, président de l'ONG \"Ma passion...</td>\n",
       "      <td>NaN</td>\n",
       "    </tr>\n",
       "    <tr>\n",
       "      <th>624</th>\n",
       "      <td>181</td>\n",
       "      <td>24</td>\n",
       "      <td>24</td>\n",
       "      <td>Anam Destresse, président de l'ONG \"Ma passion...</td>\n",
       "      <td>NaN</td>\n",
       "    </tr>\n",
       "  </tbody>\n",
       "</table>\n",
       "<p>625 rows × 5 columns</p>\n",
       "</div>"
      ],
      "text/plain": [
       "     text_index  e1  e2                                               text  \\\n",
       "0           181   0   0  Anam Destresse, président de l'ONG \"Ma passion...   \n",
       "1           181   1   0  <e1><CIVILIAN>Anam Destresse</e1>, président d...   \n",
       "2           181   0   1  , président de l'ONG \"Ma passion\", a été bless...   \n",
       "3           181   1   1  <e1><CIVILIAN>Anam Destresse</e1>, président d...   \n",
       "4           181   2   0  Anam Destresse, président de l'ONG \"Ma passion...   \n",
       "..          ...  ..  ..                                                ...   \n",
       "620         181  24  22  Anam Destresse, président de l'ONG \"Ma passion...   \n",
       "621         181  22  24  Anam Destresse, président de l'ONG \"Ma passion...   \n",
       "622         181  24  23  Anam Destresse, président de l'ONG \"Ma passion...   \n",
       "623         181  23  24  Anam Destresse, président de l'ONG \"Ma passion...   \n",
       "624         181  24  24  Anam Destresse, président de l'ONG \"Ma passion...   \n",
       "\n",
       "           relations  \n",
       "0                NaN  \n",
       "1                NaN  \n",
       "2                NaN  \n",
       "3    [GENDER_FEMALE]  \n",
       "4                NaN  \n",
       "..               ...  \n",
       "620              NaN  \n",
       "621              NaN  \n",
       "622              NaN  \n",
       "623              NaN  \n",
       "624              NaN  \n",
       "\n",
       "[625 rows x 5 columns]"
      ]
     },
     "execution_count": 137,
     "metadata": {},
     "output_type": "execute_result"
    }
   ],
   "source": [
    "text_index = 181\n",
    "text, text_entities, text_relations = labeled_clean_df.loc[text_index].to_list()\n",
    "mltc_df = data_generator.convert(text_index, text, text_entities, text_relations)\n",
    "mltc_df"
   ]
  },
  {
   "cell_type": "code",
   "execution_count": 138,
   "metadata": {},
   "outputs": [
    {
     "data": {
      "text/plain": [
       "'<e1><CIVILIAN>Anam Destresse</e1>, président de l\\'ONG \"Ma passion\", a été blessé dans un accident. Le 30 juin 2022, un accident de circulation s\\'est produit entre une moto et un bus sur l\\' en Italie. Le bus, qui transportait 20 passagers, appartenait à l\\'ONG. Lors de l\\'accident, les panneaux de signalisation ont été complètement endommagés et le garde du corps a été blessé. Au total, deux passagers sont morts sur le coup. <e1><CIVILIAN>Anam Destresse</e1>, qui faisait partie des blessés, a été transporté en hélicoptère jusqu\\'à l\\'hôpital. Le conducteur de la moto a été retrouvé mort en dessous du bus. Il conduisait sans permis et en état d\\'ivresse.'"
      ]
     },
     "execution_count": 138,
     "metadata": {},
     "output_type": "execute_result"
    }
   ],
   "source": [
    "mltc_df.loc[84].text"
   ]
  },
  {
   "cell_type": "code",
   "execution_count": 122,
   "metadata": {},
   "outputs": [
    {
     "data": {
      "text/plain": [
       "['Anam Destresse, président de l\\'ONG \"Ma passion\", a été blessé dans un <e1><ACCIDENT>accident</e1>. Le 30 juin 2022, un <e1><ACCIDENT>accident de circulation</e1> s\\'est produit entre une moto et un bus sur l\\'<e2><PLACE>autoroute de Saint-Marin</e2> en Italie. Le bus, qui transportait 20 passagers, appartenait à l\\'ONG. Lors de l\\'<e1><ACCIDENT>accident</e1>, les panneaux de signalisation ont été complètement endommagés et le garde du corps a été blessé. Au total, deux passagers sont morts sur le coup. Anam Destresse, qui faisait partie des blessés, a été transporté en hélicoptère jusqu\\'à l\\'hôpital. Le conducteur de la moto a été retrouvé mort en dessous du bus. Il conduisait sans permis et en état d\\'ivresse.',\n",
       " 'Anam Destresse, président de l\\'ONG \"Ma passion\", a été blessé dans un <e1><ACCIDENT>accident</e1>. Le 30 juin 2022, un <e1><ACCIDENT>accident de circulation</e1> s\\'est produit entre une moto et un bus sur l\\' en Italie. Le bus, qui transportait 20 passagers, appartenait à l\\'ONG. Lors de l\\'<e1><ACCIDENT>accident</e1>, les panneaux de signalisation ont été complètement endommagés et le garde du corps a été blessé. Au total, deux passagers sont morts sur le coup. Anam Destresse, qui faisait partie des blessés, a été transporté en hélicoptère jusqu\\'à l\\'hôpital. Le conducteur de la moto a été retrouvé mort en dessous du bus. Il conduisait sans permis et en état d\\'ivresse.']"
      ]
     },
     "execution_count": 122,
     "metadata": {},
     "output_type": "execute_result"
    }
   ],
   "source": [
    "mltc_df[~mltc_df.relations.isna()].loc[[17,442]].text.to_list()"
   ]
  },
  {
   "cell_type": "code",
   "execution_count": 141,
   "metadata": {},
   "outputs": [
    {
     "data": {
      "text/html": [
       "<div>\n",
       "<style scoped>\n",
       "    .dataframe tbody tr th:only-of-type {\n",
       "        vertical-align: middle;\n",
       "    }\n",
       "\n",
       "    .dataframe tbody tr th {\n",
       "        vertical-align: top;\n",
       "    }\n",
       "\n",
       "    .dataframe thead th {\n",
       "        text-align: right;\n",
       "    }\n",
       "</style>\n",
       "<table border=\"1\" class=\"dataframe\">\n",
       "  <thead>\n",
       "    <tr style=\"text-align: right;\">\n",
       "      <th></th>\n",
       "      <th>text_index</th>\n",
       "      <th>e1</th>\n",
       "      <th>e2</th>\n",
       "      <th>text</th>\n",
       "      <th>relations</th>\n",
       "    </tr>\n",
       "  </thead>\n",
       "  <tbody>\n",
       "    <tr>\n",
       "      <th>3</th>\n",
       "      <td>181</td>\n",
       "      <td>1</td>\n",
       "      <td>1</td>\n",
       "      <td>&lt;e1&gt;&lt;CIVILIAN&gt;Anam Destresse&lt;/e1&gt;, président d...</td>\n",
       "      <td>[GENDER_FEMALE]</td>\n",
       "    </tr>\n",
       "    <tr>\n",
       "      <th>63</th>\n",
       "      <td>181</td>\n",
       "      <td>7</td>\n",
       "      <td>7</td>\n",
       "      <td>Anam Destresse, président de l'ONG \"Ma passion...</td>\n",
       "      <td>[GENDER_MALE]</td>\n",
       "    </tr>\n",
       "    <tr>\n",
       "      <th>82</th>\n",
       "      <td>181</td>\n",
       "      <td>0</td>\n",
       "      <td>9</td>\n",
       "      <td>Anam Destresse, président de l'ONG \"Ma passion...</td>\n",
       "      <td>[IS_LOCATED_IN, STARTED_IN]</td>\n",
       "    </tr>\n",
       "    <tr>\n",
       "      <th>84</th>\n",
       "      <td>181</td>\n",
       "      <td>1</td>\n",
       "      <td>9</td>\n",
       "      <td>&lt;e1&gt;&lt;CIVILIAN&gt;Anam Destresse&lt;/e1&gt;, président d...</td>\n",
       "      <td>[IS_LOCATED_IN]</td>\n",
       "    </tr>\n",
       "    <tr>\n",
       "      <th>92</th>\n",
       "      <td>181</td>\n",
       "      <td>5</td>\n",
       "      <td>9</td>\n",
       "      <td>Anam Destresse, président de l'ONG \"Ma passion...</td>\n",
       "      <td>[IS_LOCATED_IN]</td>\n",
       "    </tr>\n",
       "    <tr>\n",
       "      <th>96</th>\n",
       "      <td>181</td>\n",
       "      <td>7</td>\n",
       "      <td>9</td>\n",
       "      <td>Anam Destresse, président de l'ONG \"Ma passion...</td>\n",
       "      <td>[IS_LOCATED_IN]</td>\n",
       "    </tr>\n",
       "    <tr>\n",
       "      <th>101</th>\n",
       "      <td>181</td>\n",
       "      <td>0</td>\n",
       "      <td>10</td>\n",
       "      <td>Anam Destresse, président de l'ONG \"Ma passion...</td>\n",
       "      <td>[IS_LOCATED_IN, STARTED_IN]</td>\n",
       "    </tr>\n",
       "    <tr>\n",
       "      <th>103</th>\n",
       "      <td>181</td>\n",
       "      <td>1</td>\n",
       "      <td>10</td>\n",
       "      <td>&lt;e1&gt;&lt;CIVILIAN&gt;Anam Destresse&lt;/e1&gt;, président d...</td>\n",
       "      <td>[IS_LOCATED_IN]</td>\n",
       "    </tr>\n",
       "    <tr>\n",
       "      <th>111</th>\n",
       "      <td>181</td>\n",
       "      <td>5</td>\n",
       "      <td>10</td>\n",
       "      <td>Anam Destresse, président de l'ONG \"Ma passion...</td>\n",
       "      <td>[IS_LOCATED_IN]</td>\n",
       "    </tr>\n",
       "    <tr>\n",
       "      <th>115</th>\n",
       "      <td>181</td>\n",
       "      <td>7</td>\n",
       "      <td>10</td>\n",
       "      <td>Anam Destresse, président de l'ONG \"Ma passion...</td>\n",
       "      <td>[IS_LOCATED_IN]</td>\n",
       "    </tr>\n",
       "    <tr>\n",
       "      <th>119</th>\n",
       "      <td>181</td>\n",
       "      <td>9</td>\n",
       "      <td>10</td>\n",
       "      <td>Anam Destresse, président de l'ONG \"Ma passion...</td>\n",
       "      <td>[IS_LOCATED_IN]</td>\n",
       "    </tr>\n",
       "    <tr>\n",
       "      <th>124</th>\n",
       "      <td>181</td>\n",
       "      <td>1</td>\n",
       "      <td>11</td>\n",
       "      <td>&lt;e1&gt;&lt;CIVILIAN&gt;Anam Destresse&lt;/e1&gt;, président d...</td>\n",
       "      <td>[IS_LOCATED_IN]</td>\n",
       "    </tr>\n",
       "    <tr>\n",
       "      <th>141</th>\n",
       "      <td>181</td>\n",
       "      <td>11</td>\n",
       "      <td>10</td>\n",
       "      <td>Anam Destresse, président de l'ONG \"Ma passion...</td>\n",
       "      <td>[IS_LOCATED_IN]</td>\n",
       "    </tr>\n",
       "    <tr>\n",
       "      <th>162</th>\n",
       "      <td>181</td>\n",
       "      <td>12</td>\n",
       "      <td>9</td>\n",
       "      <td>Anam Destresse, président de l'ONG \"Ma passion...</td>\n",
       "      <td>[IS_LOCATED_IN]</td>\n",
       "    </tr>\n",
       "    <tr>\n",
       "      <th>164</th>\n",
       "      <td>181</td>\n",
       "      <td>12</td>\n",
       "      <td>10</td>\n",
       "      <td>Anam Destresse, président de l'ONG \"Ma passion...</td>\n",
       "      <td>[IS_LOCATED_IN]</td>\n",
       "    </tr>\n",
       "    <tr>\n",
       "      <th>187</th>\n",
       "      <td>181</td>\n",
       "      <td>13</td>\n",
       "      <td>9</td>\n",
       "      <td>Anam Destresse, président de l'ONG \"Ma passion...</td>\n",
       "      <td>[IS_LOCATED_IN]</td>\n",
       "    </tr>\n",
       "    <tr>\n",
       "      <th>189</th>\n",
       "      <td>181</td>\n",
       "      <td>13</td>\n",
       "      <td>10</td>\n",
       "      <td>Anam Destresse, président de l'ONG \"Ma passion...</td>\n",
       "      <td>[IS_LOCATED_IN]</td>\n",
       "    </tr>\n",
       "    <tr>\n",
       "      <th>214</th>\n",
       "      <td>181</td>\n",
       "      <td>14</td>\n",
       "      <td>9</td>\n",
       "      <td>Anam Destresse, président de l'ONG \"Ma passion...</td>\n",
       "      <td>[IS_LOCATED_IN]</td>\n",
       "    </tr>\n",
       "    <tr>\n",
       "      <th>216</th>\n",
       "      <td>181</td>\n",
       "      <td>14</td>\n",
       "      <td>10</td>\n",
       "      <td>Anam Destresse, président de l'ONG \"Ma passion...</td>\n",
       "      <td>[IS_LOCATED_IN]</td>\n",
       "    </tr>\n",
       "    <tr>\n",
       "      <th>224</th>\n",
       "      <td>181</td>\n",
       "      <td>14</td>\n",
       "      <td>14</td>\n",
       "      <td>Anam Destresse, président de l'ONG \"Ma passion...</td>\n",
       "      <td>[GENDER_MALE]</td>\n",
       "    </tr>\n",
       "    <tr>\n",
       "      <th>226</th>\n",
       "      <td>181</td>\n",
       "      <td>0</td>\n",
       "      <td>15</td>\n",
       "      <td>Anam Destresse, président de l'ONG \"Ma passion...</td>\n",
       "      <td>[START_DATE, END_DATE]</td>\n",
       "    </tr>\n",
       "    <tr>\n",
       "      <th>254</th>\n",
       "      <td>181</td>\n",
       "      <td>14</td>\n",
       "      <td>15</td>\n",
       "      <td>Anam Destresse, président de l'ONG \"Ma passion...</td>\n",
       "      <td>[IS_DEAD_ON]</td>\n",
       "    </tr>\n",
       "    <tr>\n",
       "      <th>327</th>\n",
       "      <td>181</td>\n",
       "      <td>1</td>\n",
       "      <td>18</td>\n",
       "      <td>&lt;e1&gt;&lt;CIVILIAN&gt;Anam Destresse&lt;/e1&gt;,  de l'ONG \"...</td>\n",
       "      <td>[HAS_CATEGORY]</td>\n",
       "    </tr>\n",
       "    <tr>\n",
       "      <th>376</th>\n",
       "      <td>181</td>\n",
       "      <td>7</td>\n",
       "      <td>19</td>\n",
       "      <td>Anam Destresse, président de l'ONG \"Ma passion...</td>\n",
       "      <td>[HAS_CATEGORY]</td>\n",
       "    </tr>\n",
       "    <tr>\n",
       "      <th>429</th>\n",
       "      <td>181</td>\n",
       "      <td>14</td>\n",
       "      <td>20</td>\n",
       "      <td>Anam Destresse, président de l'ONG \"Ma passion...</td>\n",
       "      <td>[HAS_CATEGORY]</td>\n",
       "    </tr>\n",
       "    <tr>\n",
       "      <th>468</th>\n",
       "      <td>181</td>\n",
       "      <td>13</td>\n",
       "      <td>21</td>\n",
       "      <td>Anam Destresse, président de l'ONG \"Ma passion...</td>\n",
       "      <td>[IS_OF_SIZE]</td>\n",
       "    </tr>\n",
       "    <tr>\n",
       "      <th>509</th>\n",
       "      <td>181</td>\n",
       "      <td>12</td>\n",
       "      <td>22</td>\n",
       "      <td>Anam Destresse, président de l'ONG \"Ma passion...</td>\n",
       "      <td>[IS_OF_SIZE]</td>\n",
       "    </tr>\n",
       "  </tbody>\n",
       "</table>\n",
       "</div>"
      ],
      "text/plain": [
       "     text_index  e1  e2                                               text  \\\n",
       "3           181   1   1  <e1><CIVILIAN>Anam Destresse</e1>, président d...   \n",
       "63          181   7   7  Anam Destresse, président de l'ONG \"Ma passion...   \n",
       "82          181   0   9  Anam Destresse, président de l'ONG \"Ma passion...   \n",
       "84          181   1   9  <e1><CIVILIAN>Anam Destresse</e1>, président d...   \n",
       "92          181   5   9  Anam Destresse, président de l'ONG \"Ma passion...   \n",
       "96          181   7   9  Anam Destresse, président de l'ONG \"Ma passion...   \n",
       "101         181   0  10  Anam Destresse, président de l'ONG \"Ma passion...   \n",
       "103         181   1  10  <e1><CIVILIAN>Anam Destresse</e1>, président d...   \n",
       "111         181   5  10  Anam Destresse, président de l'ONG \"Ma passion...   \n",
       "115         181   7  10  Anam Destresse, président de l'ONG \"Ma passion...   \n",
       "119         181   9  10  Anam Destresse, président de l'ONG \"Ma passion...   \n",
       "124         181   1  11  <e1><CIVILIAN>Anam Destresse</e1>, président d...   \n",
       "141         181  11  10  Anam Destresse, président de l'ONG \"Ma passion...   \n",
       "162         181  12   9  Anam Destresse, président de l'ONG \"Ma passion...   \n",
       "164         181  12  10  Anam Destresse, président de l'ONG \"Ma passion...   \n",
       "187         181  13   9  Anam Destresse, président de l'ONG \"Ma passion...   \n",
       "189         181  13  10  Anam Destresse, président de l'ONG \"Ma passion...   \n",
       "214         181  14   9  Anam Destresse, président de l'ONG \"Ma passion...   \n",
       "216         181  14  10  Anam Destresse, président de l'ONG \"Ma passion...   \n",
       "224         181  14  14  Anam Destresse, président de l'ONG \"Ma passion...   \n",
       "226         181   0  15  Anam Destresse, président de l'ONG \"Ma passion...   \n",
       "254         181  14  15  Anam Destresse, président de l'ONG \"Ma passion...   \n",
       "327         181   1  18  <e1><CIVILIAN>Anam Destresse</e1>,  de l'ONG \"...   \n",
       "376         181   7  19  Anam Destresse, président de l'ONG \"Ma passion...   \n",
       "429         181  14  20  Anam Destresse, président de l'ONG \"Ma passion...   \n",
       "468         181  13  21  Anam Destresse, président de l'ONG \"Ma passion...   \n",
       "509         181  12  22  Anam Destresse, président de l'ONG \"Ma passion...   \n",
       "\n",
       "                       relations  \n",
       "3                [GENDER_FEMALE]  \n",
       "63                 [GENDER_MALE]  \n",
       "82   [IS_LOCATED_IN, STARTED_IN]  \n",
       "84               [IS_LOCATED_IN]  \n",
       "92               [IS_LOCATED_IN]  \n",
       "96               [IS_LOCATED_IN]  \n",
       "101  [IS_LOCATED_IN, STARTED_IN]  \n",
       "103              [IS_LOCATED_IN]  \n",
       "111              [IS_LOCATED_IN]  \n",
       "115              [IS_LOCATED_IN]  \n",
       "119              [IS_LOCATED_IN]  \n",
       "124              [IS_LOCATED_IN]  \n",
       "141              [IS_LOCATED_IN]  \n",
       "162              [IS_LOCATED_IN]  \n",
       "164              [IS_LOCATED_IN]  \n",
       "187              [IS_LOCATED_IN]  \n",
       "189              [IS_LOCATED_IN]  \n",
       "214              [IS_LOCATED_IN]  \n",
       "216              [IS_LOCATED_IN]  \n",
       "224                [GENDER_MALE]  \n",
       "226       [START_DATE, END_DATE]  \n",
       "254                 [IS_DEAD_ON]  \n",
       "327               [HAS_CATEGORY]  \n",
       "376               [HAS_CATEGORY]  \n",
       "429               [HAS_CATEGORY]  \n",
       "468                 [IS_OF_SIZE]  \n",
       "509                 [IS_OF_SIZE]  "
      ]
     },
     "execution_count": 141,
     "metadata": {},
     "output_type": "execute_result"
    }
   ],
   "source": [
    "mltc_df[~mltc_df.relations.isna()]"
   ]
  },
  {
   "cell_type": "code",
   "execution_count": 51,
   "metadata": {},
   "outputs": [
    {
     "data": {
      "text/plain": [
       "'Anam Destresse, président de l\\'ONG \"Ma passion\", a été blessé dans un accident. Le 30 juin 2022, un accident de circulation s\\'est produit entre une moto et un bus sur l\\'autoroute de Saint-Marin en Italie. Le bus, qui transportait 20 passagers, appartenait à l\\'ONG. Lors de l\\'accident, les panneaux de signalisation ont été complètement endommagés et le garde du corps a été blessé. Au total, deux passagers sont morts sur le coup. Anam Destresse, qui faisait partie des blessés, a été transporté en hélicoptère jusqu\\'à l\\'hôpital. Le conducteur de la moto a été retrouvé mort en dessous du bus. Il conduisait sans permis et en état d\\'ivresse.'"
      ]
     },
     "execution_count": 51,
     "metadata": {},
     "output_type": "execute_result"
    }
   ],
   "source": [
    "text = labeled_clean_df.text.loc[181]\n"
   ]
  },
  {
   "cell_type": "code",
   "execution_count": 142,
   "metadata": {},
   "outputs": [
    {
     "name": "stderr",
     "output_type": "stream",
     "text": [
      "data/defi-text-mine-2025/interim/multilabel_tagged_text_dataset/train/124.csv <-: 100%|██████████| 800/800 [00:45<00:00, 17.69it/s]  \n",
      "data/defi-text-mine-2025/interim/multilabel_tagged_text_dataset/test/51742.csv <-: 100%|██████████| 400/400 [00:21<00:00, 18.25it/s]\n"
     ]
    }
   ],
   "source": [
    "generated_data_dir_path = os.path.join(INTERIM_DIR, \"multilabel_tagged_text_dataset\")\n",
    "assert not os.path.exists(\n",
    "    generated_data_dir_path\n",
    "), f\"You must delete this folder first {generated_data_dir_path}!\"\n",
    "\n",
    "data_generator = TextToMultiLabelDataGenerator()\n",
    "\n",
    "for split_name, clean_df in zip(\n",
    "    [\"train\", \"test\"],\n",
    "    [labeled_clean_df, test_clean_df],\n",
    "):\n",
    "    dest_dir_path = os.path.join(generated_data_dir_path, split_name)\n",
    "    for multilabel_data in (\n",
    "        pb := tqdm(\n",
    "            data_generator.generate_row_multilabel_data(clean_df, only_w_relation=True if split_name!=\"test\" else False),\n",
    "            total=clean_df.shape[0],\n",
    "            desc=f\"{dest_dir_path} <- \",\n",
    "        )\n",
    "    ):\n",
    "        text_index = multilabel_data.iloc[0][data_generator.text_index_col]\n",
    "        dest_csv_file = os.path.join(dest_dir_path, f\"{text_index}.csv\")\n",
    "        pb.set_description(f\"{dest_csv_file} <-\")\n",
    "        save_data(multilabel_data, dest_csv_file, False)\n",
    "        # break\n",
    "    # break\n",
    "# multilabel_data"
   ]
  },
  {
   "cell_type": "markdown",
   "metadata": {},
   "source": [
    "## Check tagged text size using a  data loader to load data from csv files\n",
    "\n",
    "to know wether the will fit at the input of the model (i.e. max of 512 tokens)"
   ]
  },
  {
   "cell_type": "markdown",
   "metadata": {},
   "source": [
    "##### add special tokens to the tokenizer"
   ]
  },
  {
   "cell_type": "code",
   "execution_count": 143,
   "metadata": {},
   "outputs": [],
   "source": [
    "# define special tokens to add to the tokenizer\n",
    "task_special_tokens = [\"<e1>\", \"</e1>\", \"<e2>\", \"</e2>\"] + [\n",
    "    f\"<{entity_class}>\" for entity_class in entity_classes\n",
    "]\n",
    "# task_special_tokens"
   ]
  },
  {
   "cell_type": "code",
   "execution_count": 144,
   "metadata": {},
   "outputs": [
    {
     "name": "stderr",
     "output_type": "stream",
     "text": [
      "/home/tagny/.pyenv/versions/3.11.8/envs/kgl11/lib/python3.11/site-packages/huggingface_hub/file_download.py:1132: FutureWarning: `resume_download` is deprecated and will be removed in version 1.0.0. Downloads always resume when possible. If you want to force a new download, use `force_download=True`.\n",
      "  warnings.warn(\n"
     ]
    },
    {
     "data": {
      "text/plain": [
       "59"
      ]
     },
     "execution_count": 144,
     "metadata": {},
     "output_type": "execute_result"
    }
   ],
   "source": [
    "tokenizer = AutoTokenizer.from_pretrained(checkpoint)\n",
    "\n",
    "# add special tokens to the tokenizer\n",
    "num_added_tokens = tokenizer.add_tokens(task_special_tokens, special_tokens=True)\n",
    "num_added_tokens"
   ]
  },
  {
   "cell_type": "code",
   "execution_count": 145,
   "metadata": {},
   "outputs": [
    {
     "data": {
      "text/plain": [
       "BertTokenizerFast(name_or_path='bert-base-uncased', vocab_size=30522, model_max_length=512, is_fast=True, padding_side='right', truncation_side='right', special_tokens={'unk_token': '[UNK]', 'sep_token': '[SEP]', 'pad_token': '[PAD]', 'cls_token': '[CLS]', 'mask_token': '[MASK]'}, clean_up_tokenization_spaces=True),  added_tokens_decoder={\n",
       "\t0: AddedToken(\"[PAD]\", rstrip=False, lstrip=False, single_word=False, normalized=False, special=True),\n",
       "\t100: AddedToken(\"[UNK]\", rstrip=False, lstrip=False, single_word=False, normalized=False, special=True),\n",
       "\t101: AddedToken(\"[CLS]\", rstrip=False, lstrip=False, single_word=False, normalized=False, special=True),\n",
       "\t102: AddedToken(\"[SEP]\", rstrip=False, lstrip=False, single_word=False, normalized=False, special=True),\n",
       "\t103: AddedToken(\"[MASK]\", rstrip=False, lstrip=False, single_word=False, normalized=False, special=True),\n",
       "\t30522: AddedToken(\"<e1>\", rstrip=False, lstrip=False, single_word=False, normalized=False, special=True),\n",
       "\t30523: AddedToken(\"</e1>\", rstrip=False, lstrip=False, single_word=False, normalized=False, special=True),\n",
       "\t30524: AddedToken(\"<e2>\", rstrip=False, lstrip=False, single_word=False, normalized=False, special=True),\n",
       "\t30525: AddedToken(\"</e2>\", rstrip=False, lstrip=False, single_word=False, normalized=False, special=True),\n",
       "\t30526: AddedToken(\"<TIME_MIN>\", rstrip=False, lstrip=False, single_word=False, normalized=False, special=True),\n",
       "\t30527: AddedToken(\"<NON_GOVERNMENTAL_ORGANISATION>\", rstrip=False, lstrip=False, single_word=False, normalized=False, special=True),\n",
       "\t30528: AddedToken(\"<TERRORIST_OR_CRIMINAL>\", rstrip=False, lstrip=False, single_word=False, normalized=False, special=True),\n",
       "\t30529: AddedToken(\"<TIME_MAX>\", rstrip=False, lstrip=False, single_word=False, normalized=False, special=True),\n",
       "\t30530: AddedToken(\"<ECONOMICAL_CRISIS>\", rstrip=False, lstrip=False, single_word=False, normalized=False, special=True),\n",
       "\t30531: AddedToken(\"<QUANTITY_EXACT>\", rstrip=False, lstrip=False, single_word=False, normalized=False, special=True),\n",
       "\t30532: AddedToken(\"<QUANTITY_MIN>\", rstrip=False, lstrip=False, single_word=False, normalized=False, special=True),\n",
       "\t30533: AddedToken(\"<NATIONALITY>\", rstrip=False, lstrip=False, single_word=False, normalized=False, special=True),\n",
       "\t30534: AddedToken(\"<GROUP_OF_INDIVIDUALS>\", rstrip=False, lstrip=False, single_word=False, normalized=False, special=True),\n",
       "\t30535: AddedToken(\"<CATEGORY>\", rstrip=False, lstrip=False, single_word=False, normalized=False, special=True),\n",
       "\t30536: AddedToken(\"<LENGTH>\", rstrip=False, lstrip=False, single_word=False, normalized=False, special=True),\n",
       "\t30537: AddedToken(\"<NATURAL_EVENT>\", rstrip=False, lstrip=False, single_word=False, normalized=False, special=True),\n",
       "\t30538: AddedToken(\"<LONGITUDE>\", rstrip=False, lstrip=False, single_word=False, normalized=False, special=True),\n",
       "\t30539: AddedToken(\"<COLOR>\", rstrip=False, lstrip=False, single_word=False, normalized=False, special=True),\n",
       "\t30540: AddedToken(\"<MILITARY>\", rstrip=False, lstrip=False, single_word=False, normalized=False, special=True),\n",
       "\t30541: AddedToken(\"<DEMONSTRATION>\", rstrip=False, lstrip=False, single_word=False, normalized=False, special=True),\n",
       "\t30542: AddedToken(\"<FIRSTNAME>\", rstrip=False, lstrip=False, single_word=False, normalized=False, special=True),\n",
       "\t30543: AddedToken(\"<MATERIEL>\", rstrip=False, lstrip=False, single_word=False, normalized=False, special=True),\n",
       "\t30544: AddedToken(\"<LATITUDE>\", rstrip=False, lstrip=False, single_word=False, normalized=False, special=True),\n",
       "\t30545: AddedToken(\"<CIVILIAN>\", rstrip=False, lstrip=False, single_word=False, normalized=False, special=True),\n",
       "\t30546: AddedToken(\"<PLACE>\", rstrip=False, lstrip=False, single_word=False, normalized=False, special=True),\n",
       "\t30547: AddedToken(\"<WIDTH>\", rstrip=False, lstrip=False, single_word=False, normalized=False, special=True),\n",
       "\t30548: AddedToken(\"<LASTNAME>\", rstrip=False, lstrip=False, single_word=False, normalized=False, special=True),\n",
       "\t30549: AddedToken(\"<ACCIDENT>\", rstrip=False, lstrip=False, single_word=False, normalized=False, special=True),\n",
       "\t30550: AddedToken(\"<EPIDEMIC>\", rstrip=False, lstrip=False, single_word=False, normalized=False, special=True),\n",
       "\t30551: AddedToken(\"<CRIMINAL_ARREST>\", rstrip=False, lstrip=False, single_word=False, normalized=False, special=True),\n",
       "\t30552: AddedToken(\"<QUANTITY_FUZZY>\", rstrip=False, lstrip=False, single_word=False, normalized=False, special=True),\n",
       "\t30553: AddedToken(\"<STRIKE>\", rstrip=False, lstrip=False, single_word=False, normalized=False, special=True),\n",
       "\t30554: AddedToken(\"<SUICIDE>\", rstrip=False, lstrip=False, single_word=False, normalized=False, special=True),\n",
       "\t30555: AddedToken(\"<CBRN_EVENT>\", rstrip=False, lstrip=False, single_word=False, normalized=False, special=True),\n",
       "\t30556: AddedToken(\"<POLITICAL_VIOLENCE>\", rstrip=False, lstrip=False, single_word=False, normalized=False, special=True),\n",
       "\t30557: AddedToken(\"<BOMBING>\", rstrip=False, lstrip=False, single_word=False, normalized=False, special=True),\n",
       "\t30558: AddedToken(\"<INTERGOVERNMENTAL_ORGANISATION>\", rstrip=False, lstrip=False, single_word=False, normalized=False, special=True),\n",
       "\t30559: AddedToken(\"<NON_MILITARY_GOVERNMENT_ORGANISATION>\", rstrip=False, lstrip=False, single_word=False, normalized=False, special=True),\n",
       "\t30560: AddedToken(\"<ELECTION>\", rstrip=False, lstrip=False, single_word=False, normalized=False, special=True),\n",
       "\t30561: AddedToken(\"<GATHERING>\", rstrip=False, lstrip=False, single_word=False, normalized=False, special=True),\n",
       "\t30562: AddedToken(\"<FIRE>\", rstrip=False, lstrip=False, single_word=False, normalized=False, special=True),\n",
       "\t30563: AddedToken(\"<HEIGHT>\", rstrip=False, lstrip=False, single_word=False, normalized=False, special=True),\n",
       "\t30564: AddedToken(\"<RIOT>\", rstrip=False, lstrip=False, single_word=False, normalized=False, special=True),\n",
       "\t30565: AddedToken(\"<CIVIL_WAR_OUTBREAK>\", rstrip=False, lstrip=False, single_word=False, normalized=False, special=True),\n",
       "\t30566: AddedToken(\"<MATERIAL_REFERENCE>\", rstrip=False, lstrip=False, single_word=False, normalized=False, special=True),\n",
       "\t30567: AddedToken(\"<TIME_FUZZY>\", rstrip=False, lstrip=False, single_word=False, normalized=False, special=True),\n",
       "\t30568: AddedToken(\"<TIME_EXACT>\", rstrip=False, lstrip=False, single_word=False, normalized=False, special=True),\n",
       "\t30569: AddedToken(\"<THEFT>\", rstrip=False, lstrip=False, single_word=False, normalized=False, special=True),\n",
       "\t30570: AddedToken(\"<COUP_D_ETAT>\", rstrip=False, lstrip=False, single_word=False, normalized=False, special=True),\n",
       "\t30571: AddedToken(\"<POLLUTION>\", rstrip=False, lstrip=False, single_word=False, normalized=False, special=True),\n",
       "\t30572: AddedToken(\"<MILITARY_ORGANISATION>\", rstrip=False, lstrip=False, single_word=False, normalized=False, special=True),\n",
       "\t30573: AddedToken(\"<DRUG_OPERATION>\", rstrip=False, lstrip=False, single_word=False, normalized=False, special=True),\n",
       "\t30574: AddedToken(\"<TRAFFICKING>\", rstrip=False, lstrip=False, single_word=False, normalized=False, special=True),\n",
       "\t30575: AddedToken(\"<WEIGHT>\", rstrip=False, lstrip=False, single_word=False, normalized=False, special=True),\n",
       "\t30576: AddedToken(\"<AGITATING_TROUBLE_MAKING>\", rstrip=False, lstrip=False, single_word=False, normalized=False, special=True),\n",
       "\t30577: AddedToken(\"<HOOLIGANISM_TROUBLEMAKING>\", rstrip=False, lstrip=False, single_word=False, normalized=False, special=True),\n",
       "\t30578: AddedToken(\"<ILLEGAL_CIVIL_DEMONSTRATION>\", rstrip=False, lstrip=False, single_word=False, normalized=False, special=True),\n",
       "\t30579: AddedToken(\"<QUANTITY_MAX>\", rstrip=False, lstrip=False, single_word=False, normalized=False, special=True),\n",
       "\t30580: AddedToken(\"<NATURAL_CAUSES_DEATH>\", rstrip=False, lstrip=False, single_word=False, normalized=False, special=True),\n",
       "}"
      ]
     },
     "execution_count": 145,
     "metadata": {},
     "output_type": "execute_result"
    }
   ],
   "source": [
    "tokenizer"
   ]
  },
  {
   "cell_type": "markdown",
   "metadata": {},
   "source": [
    "### initialize the data loader"
   ]
  },
  {
   "cell_type": "code",
   "execution_count": 146,
   "metadata": {},
   "outputs": [
    {
     "data": {
      "application/vnd.jupyter.widget-view+json": {
       "model_id": "4cedb0483a3f4d68a0294b8c30ebcefa",
       "version_major": 2,
       "version_minor": 0
      },
      "text/plain": [
       "Resolving data files:   0%|          | 0/800 [00:00<?, ?it/s]"
      ]
     },
     "metadata": {},
     "output_type": "display_data"
    },
    {
     "data": {
      "application/vnd.jupyter.widget-view+json": {
       "model_id": "44193a6e41fe4780909eb09f9fb7362d",
       "version_major": 2,
       "version_minor": 0
      },
      "text/plain": [
       "Resolving data files:   0%|          | 0/400 [00:00<?, ?it/s]"
      ]
     },
     "metadata": {},
     "output_type": "display_data"
    },
    {
     "data": {
      "application/vnd.jupyter.widget-view+json": {
       "model_id": "907ce92cb6a4454eab935a6ca40d19e8",
       "version_major": 2,
       "version_minor": 0
      },
      "text/plain": [
       "Downloading data:   0%|          | 0/800 [00:00<?, ?files/s]"
      ]
     },
     "metadata": {},
     "output_type": "display_data"
    },
    {
     "data": {
      "application/vnd.jupyter.widget-view+json": {
       "model_id": "dff41df40eff42d28f435a05808bb4ee",
       "version_major": 2,
       "version_minor": 0
      },
      "text/plain": [
       "Downloading data:   0%|          | 0/400 [00:00<?, ?files/s]"
      ]
     },
     "metadata": {},
     "output_type": "display_data"
    },
    {
     "data": {
      "application/vnd.jupyter.widget-view+json": {
       "model_id": "4671cf9ba2b04404b5021c854e5505e5",
       "version_major": 2,
       "version_minor": 0
      },
      "text/plain": [
       "Generating train split: 0 examples [00:00, ? examples/s]"
      ]
     },
     "metadata": {},
     "output_type": "display_data"
    },
    {
     "data": {
      "application/vnd.jupyter.widget-view+json": {
       "model_id": "6d1c53edc438413e8e0fa07a4bca4a15",
       "version_major": 2,
       "version_minor": 0
      },
      "text/plain": [
       "Generating test split: 0 examples [00:00, ? examples/s]"
      ]
     },
     "metadata": {},
     "output_type": "display_data"
    }
   ],
   "source": [
    "interim_dataset = load_dataset(\n",
    "    \"csv\",\n",
    "    name=\"multilabel_tagged_text_dataset\",\n",
    "    data_dir=\"data/defi-text-mine-2025/interim/multilabel_tagged_text_dataset/\",\n",
    "    streaming=False,\n",
    ")"
   ]
  },
  {
   "cell_type": "code",
   "execution_count": 147,
   "metadata": {},
   "outputs": [
    {
     "data": {
      "text/plain": [
       "DatasetDict({\n",
       "    train: Dataset({\n",
       "        features: ['text_index', 'e1', 'e2', 'text', 'relations'],\n",
       "        num_rows: 26394\n",
       "    })\n",
       "    test: Dataset({\n",
       "        features: ['text_index', 'e1', 'e2', 'text', 'relations'],\n",
       "        num_rows: 182980\n",
       "    })\n",
       "})"
      ]
     },
     "execution_count": 147,
     "metadata": {},
     "output_type": "execute_result"
    }
   ],
   "source": [
    "interim_dataset"
   ]
  },
  {
   "cell_type": "code",
   "execution_count": 148,
   "metadata": {},
   "outputs": [
    {
     "data": {
      "text/plain": [
       "{'text_index': 11,\n",
       " 'e1': 0,\n",
       " 'e2': 1,\n",
       " 'text': \"Le 2 juillet 2022, un <e1><ACCIDENT>accident</e1> s'est produit entre une moto et un bus sur la  à Saint-Lô. Ce dernier transportait 30 passagers issus du syndicat de lutte contre le racisme. Un panneau de signalisation a été <e1><ACCIDENT>percuté</e1> et 2 personnes sont mortes sur le coup. Le Président du Syndicat, Monsieur Smith Aarone, était parmi les blessés. Il a immédiatement été transporté en hélicoptère à l'hôpital. Ayant conduit sans permis et en état d’ivresse, le conducteur de la moto a été retrouvé mort au bas d'un talus. Les journalistes sont ensuite arrivés sur le  avec leurs caméras, pour interroger les policiers sur les causes de l'<e1><ACCIDENT>accident</e1>.\",\n",
       " 'relations': \"['IS_LOCATED_IN', 'STARTED_IN']\"}"
      ]
     },
     "execution_count": 148,
     "metadata": {},
     "output_type": "execute_result"
    }
   ],
   "source": [
    "interim_dataset[\"train\"][0]"
   ]
  },
  {
   "cell_type": "code",
   "execution_count": 149,
   "metadata": {},
   "outputs": [
    {
     "data": {
      "text/plain": [
       "{'text_index': 11,\n",
       " 'e1': 0,\n",
       " 'e2': 2,\n",
       " 'text': \"Le 2 juillet 2022, un <e1><ACCIDENT>accident</e1> s'est produit entre une moto et un bus sur la RN 174 à . Ce dernier transportait 30 passagers issus du syndicat de lutte contre le racisme. Un panneau de signalisation a été <e1><ACCIDENT>percuté</e1> et 2 personnes sont mortes sur le coup. Le Président du Syndicat, Monsieur Smith Aarone, était parmi les blessés. Il a immédiatement été transporté en hélicoptère à l'hôpital. Ayant conduit sans permis et en état d’ivresse, le conducteur de la moto a été retrouvé mort au bas d'un talus. Les journalistes sont ensuite arrivés sur le lieu avec leurs caméras, pour interroger les policiers sur les causes de l'<e1><ACCIDENT>accident</e1>.\",\n",
       " 'relations': \"['IS_LOCATED_IN']\"}"
      ]
     },
     "execution_count": 149,
     "metadata": {},
     "output_type": "execute_result"
    }
   ],
   "source": [
    "interim_dataset[\"train\"][1]"
   ]
  },
  {
   "cell_type": "code",
   "execution_count": 150,
   "metadata": {},
   "outputs": [
    {
     "data": {
      "text/plain": [
       "{'text_index': 1102,\n",
       " 'e1': 1,\n",
       " 'e2': 2,\n",
       " 'text': \"Le 5 février 2022 à <e1><PLACE>Marseille</e1>, un  âgé de 35 ans est mort dans sa voiture après avoir percuté un bâtiment. Afin de minimiser les dégâts, des engins et des équipements spécialisés ont été utilisés pour retirer la voiture du bâtiment. Après constat, l'inspecteur Charles Laurent de la police scientifique a détecté la présence d'alcool et de drogue dans le sang du .  correspondait au signalement dans les avis de recherche de la police : . Il y a quelques jours, les habitants avaient remarqué un  ressemblant au , vêtu d'une chemise bleue et d'un pantalon noir, muni d'une arme à feu.\",\n",
       " 'relations': None}"
      ]
     },
     "execution_count": 150,
     "metadata": {},
     "output_type": "execute_result"
    }
   ],
   "source": [
    "interim_dataset[\"test\"][7]"
   ]
  },
  {
   "cell_type": "markdown",
   "metadata": {},
   "source": [
    "### Count tokens"
   ]
  },
  {
   "cell_type": "code",
   "execution_count": 151,
   "metadata": {},
   "outputs": [
    {
     "data": {
      "application/vnd.jupyter.widget-view+json": {
       "model_id": "0314eb28f04a4bd9889b6c585755aea6",
       "version_major": 2,
       "version_minor": 0
      },
      "text/plain": [
       "Map:   0%|          | 0/26394 [00:00<?, ? examples/s]"
      ]
     },
     "metadata": {},
     "output_type": "display_data"
    },
    {
     "name": "stderr",
     "output_type": "stream",
     "text": [
      "Token indices sequence length is longer than the specified maximum sequence length for this model (530 > 512). Running this sequence through the model will result in indexing errors\n"
     ]
    },
    {
     "data": {
      "application/vnd.jupyter.widget-view+json": {
       "model_id": "3a8f3dfa8ac84321b7f84531e78e8d8d",
       "version_major": 2,
       "version_minor": 0
      },
      "text/plain": [
       "Map:   0%|          | 0/182980 [00:00<?, ? examples/s]"
      ]
     },
     "metadata": {},
     "output_type": "display_data"
    },
    {
     "data": {
      "text/plain": [
       "DatasetDict({\n",
       "    train: Dataset({\n",
       "        features: ['text_index', 'e1', 'e2', 'text', 'relations', 'n_tokens'],\n",
       "        num_rows: 26394\n",
       "    })\n",
       "    test: Dataset({\n",
       "        features: ['text_index', 'e1', 'e2', 'text', 'relations', 'n_tokens'],\n",
       "        num_rows: 182980\n",
       "    })\n",
       "})"
      ]
     },
     "execution_count": 151,
     "metadata": {},
     "output_type": "execute_result"
    }
   ],
   "source": [
    "def count_token_in_dataset_element(example: Dict[str, Any]) -> Dict[str, int]:\n",
    "    return {\"n_tokens\": count_tokens(example[\"text\"])}\n",
    "\n",
    "\n",
    "interim_dataset = interim_dataset.map(count_token_in_dataset_element)\n",
    "interim_dataset"
   ]
  },
  {
   "cell_type": "code",
   "execution_count": 152,
   "metadata": {},
   "outputs": [
    {
     "name": "stderr",
     "output_type": "stream",
     "text": [
      "train: 100%|██████████| 26394/26394 [00:00<00:00, 43483.68it/s]\n",
      "test: 100%|██████████| 182980/182980 [00:04<00:00, 43903.57it/s]\n"
     ]
    },
    {
     "data": {
      "text/html": [
       "<div>\n",
       "<style scoped>\n",
       "    .dataframe tbody tr th:only-of-type {\n",
       "        vertical-align: middle;\n",
       "    }\n",
       "\n",
       "    .dataframe tbody tr th {\n",
       "        vertical-align: top;\n",
       "    }\n",
       "\n",
       "    .dataframe thead th {\n",
       "        text-align: right;\n",
       "    }\n",
       "</style>\n",
       "<table border=\"1\" class=\"dataframe\">\n",
       "  <thead>\n",
       "    <tr style=\"text-align: right;\">\n",
       "      <th></th>\n",
       "      <th>train</th>\n",
       "      <th>test</th>\n",
       "    </tr>\n",
       "  </thead>\n",
       "  <tbody>\n",
       "    <tr>\n",
       "      <th>count</th>\n",
       "      <td>26394.000000</td>\n",
       "      <td>182980.000000</td>\n",
       "    </tr>\n",
       "    <tr>\n",
       "      <th>mean</th>\n",
       "      <td>245.150148</td>\n",
       "      <td>243.886048</td>\n",
       "    </tr>\n",
       "    <tr>\n",
       "      <th>std</th>\n",
       "      <td>64.923231</td>\n",
       "      <td>60.485125</td>\n",
       "    </tr>\n",
       "    <tr>\n",
       "      <th>min</th>\n",
       "      <td>104.000000</td>\n",
       "      <td>46.000000</td>\n",
       "    </tr>\n",
       "    <tr>\n",
       "      <th>25%</th>\n",
       "      <td>208.000000</td>\n",
       "      <td>208.000000</td>\n",
       "    </tr>\n",
       "    <tr>\n",
       "      <th>50%</th>\n",
       "      <td>229.000000</td>\n",
       "      <td>230.000000</td>\n",
       "    </tr>\n",
       "    <tr>\n",
       "      <th>75%</th>\n",
       "      <td>260.000000</td>\n",
       "      <td>261.000000</td>\n",
       "    </tr>\n",
       "    <tr>\n",
       "      <th>max</th>\n",
       "      <td>893.000000</td>\n",
       "      <td>713.000000</td>\n",
       "    </tr>\n",
       "  </tbody>\n",
       "</table>\n",
       "</div>"
      ],
      "text/plain": [
       "              train           test\n",
       "count  26394.000000  182980.000000\n",
       "mean     245.150148     243.886048\n",
       "std       64.923231      60.485125\n",
       "min      104.000000      46.000000\n",
       "25%      208.000000     208.000000\n",
       "50%      229.000000     230.000000\n",
       "75%      260.000000     261.000000\n",
       "max      893.000000     713.000000"
      ]
     },
     "execution_count": 152,
     "metadata": {},
     "output_type": "execute_result"
    }
   ],
   "source": [
    "split2ntokens_df = pd.DataFrame(\n",
    "    {\n",
    "        split_name: pd.Series(\n",
    "            [e[\"n_tokens\"] for e in tqdm(interim_dataset[split_name], split_name)],\n",
    "            name=f\"{split_name}_text_n_tokens\",\n",
    "        ).describe()\n",
    "        for split_name in interim_dataset.keys()\n",
    "    }\n",
    ")\n",
    "split2ntokens_df"
   ]
  },
  {
   "cell_type": "code",
   "execution_count": 153,
   "metadata": {},
   "outputs": [
    {
     "data": {
      "text/plain": [
       "{'text_index': 11,\n",
       " 'e1': 0,\n",
       " 'e2': 1,\n",
       " 'text': \"Le 2 juillet 2022, un <e1><ACCIDENT>accident</e1> s'est produit entre une moto et un bus sur la  à Saint-Lô. Ce dernier transportait 30 passagers issus du syndicat de lutte contre le racisme. Un panneau de signalisation a été <e1><ACCIDENT>percuté</e1> et 2 personnes sont mortes sur le coup. Le Président du Syndicat, Monsieur Smith Aarone, était parmi les blessés. Il a immédiatement été transporté en hélicoptère à l'hôpital. Ayant conduit sans permis et en état d’ivresse, le conducteur de la moto a été retrouvé mort au bas d'un talus. Les journalistes sont ensuite arrivés sur le  avec leurs caméras, pour interroger les policiers sur les causes de l'<e1><ACCIDENT>accident</e1>.\",\n",
       " 'relations': \"['IS_LOCATED_IN', 'STARTED_IN']\",\n",
       " 'n_tokens': 199}"
      ]
     },
     "execution_count": 153,
     "metadata": {},
     "output_type": "execute_result"
    }
   ],
   "source": [
    "interim_dataset[\"train\"][0]"
   ]
  }
 ],
 "metadata": {
  "kernelspec": {
   "display_name": "kgl11",
   "language": "python",
   "name": "python3"
  },
  "language_info": {
   "codemirror_mode": {
    "name": "ipython",
    "version": 3
   },
   "file_extension": ".py",
   "mimetype": "text/x-python",
   "name": "python",
   "nbconvert_exporter": "python",
   "pygments_lexer": "ipython3",
   "version": "3.11.8"
  }
 },
 "nbformat": 4,
 "nbformat_minor": 2
}
