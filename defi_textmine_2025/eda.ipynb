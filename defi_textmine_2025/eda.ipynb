{
 "cells": [
  {
   "cell_type": "markdown",
   "metadata": {},
   "source": [
    "# Exploratory Data Analysis"
   ]
  },
  {
   "cell_type": "markdown",
   "metadata": {},
   "source": [
    "## Imports and constants"
   ]
  },
  {
   "cell_type": "code",
   "execution_count": 1,
   "metadata": {},
   "outputs": [
    {
     "name": "stderr",
     "output_type": "stream",
     "text": [
      "[05:47:37|INFO|config.py:58] PyTorch version 2.3.1 available.\n",
      "[05:47:37|INFO|config.py:105] TensorFlow version 2.16.2 available.\n",
      "/home/tagny/.pyenv/versions/3.11.8/envs/kgl11/lib/python3.11/site-packages/huggingface_hub/file_download.py:1132: FutureWarning: `resume_download` is deprecated and will be removed in version 1.0.0. Downloads always resume when possible. If you want to force a new download, use `force_download=True`.\n",
      "  warnings.warn(\n"
     ]
    }
   ],
   "source": [
    "%load_ext autoreload\n",
    "%autoreload 2\n",
    "\n",
    "import os\n",
    "from typing import Dict, Any\n",
    "import logging \n",
    "\n",
    "logging.basicConfig(\n",
    "     level=logging.INFO, \n",
    "     format= '[%(asctime)s|%(levelname)s|%(module)s.py:%(lineno)s] %(message)s',\n",
    "     datefmt='%H:%M:%S'\n",
    " )\n",
    "import itertools\n",
    "import pandas as pd\n",
    "import matplotlib.pyplot as plt\n",
    "from tqdm import tqdm\n",
    "# Create new `pandas` methods which use `tqdm` progress\n",
    "# (can use tqdm_gui, optional kwargs, etc.)\n",
    "tqdm.pandas()\n",
    "from transformers import AutoTokenizer\n",
    "from datasets import load_dataset\n",
    "\n",
    "from defi_textmine_2025.data import (\n",
    "    load_labeled_raw_data,\n",
    "    load_test_raw_data,\n",
    "    clean_raw_dataset,\n",
    "    print_value_types,\n",
    "    save_data,\n",
    "    TextToMultiLabelDataGenerator,\n",
    ")\n",
    "from defi_textmine_2025.data import TARGET_COL, INPUT_COLS, INTERIM_DIR, EDA_DIR\n",
    "\n",
    "VALIDATION_RATE = 0.25\n",
    "BASE_CHECKPOINT = \"camembert/camembert-base\"\n",
    "\n",
    "tokenizer = AutoTokenizer.from_pretrained(BASE_CHECKPOINT)\n",
    "def count_tokens(text: str) -> int:\n",
    "    return len(tokenizer(text)[\"input_ids\"])"
   ]
  },
  {
   "cell_type": "markdown",
   "metadata": {},
   "source": [
    "## Loading data"
   ]
  },
  {
   "cell_type": "code",
   "execution_count": 2,
   "metadata": {},
   "outputs": [
    {
     "data": {
      "text/html": [
       "<div>\n",
       "<style scoped>\n",
       "    .dataframe tbody tr th:only-of-type {\n",
       "        vertical-align: middle;\n",
       "    }\n",
       "\n",
       "    .dataframe tbody tr th {\n",
       "        vertical-align: top;\n",
       "    }\n",
       "\n",
       "    .dataframe thead th {\n",
       "        text-align: right;\n",
       "    }\n",
       "</style>\n",
       "<table border=\"1\" class=\"dataframe\">\n",
       "  <thead>\n",
       "    <tr style=\"text-align: right;\">\n",
       "      <th></th>\n",
       "      <th>text</th>\n",
       "      <th>entities</th>\n",
       "      <th>relations</th>\n",
       "    </tr>\n",
       "    <tr>\n",
       "      <th>id</th>\n",
       "      <th></th>\n",
       "      <th></th>\n",
       "      <th></th>\n",
       "    </tr>\n",
       "  </thead>\n",
       "  <tbody>\n",
       "    <tr>\n",
       "      <th>181</th>\n",
       "      <td>Anam Destresse, président de l'ONG \"Ma passion...</td>\n",
       "      <td>[{\"id\": 0, \"mentions\": [{\"value\": \"accident\", ...</td>\n",
       "      <td>[[0, \"STARTED_IN\", 9], [7, \"IS_LOCATED_IN\", 9]...</td>\n",
       "    </tr>\n",
       "    <tr>\n",
       "      <th>31669</th>\n",
       "      <td>À Paris, le 8 avril 2022, l'usine de déodorant...</td>\n",
       "      <td>[{\"id\": 0, \"mentions\": [{\"value\": \"explosé\", \"...</td>\n",
       "      <td>[[9, \"IS_LOCATED_IN\", 8], [11, \"OPERATES_IN\", ...</td>\n",
       "    </tr>\n",
       "    <tr>\n",
       "      <th>51470</th>\n",
       "      <td>En Espagne, dans une région agricole, une cont...</td>\n",
       "      <td>[{\"id\": 0, \"mentions\": [{\"value\": \"contaminati...</td>\n",
       "      <td>[[7, \"IS_PART_OF\", 8], [9, \"OPERATES_IN\", 1], ...</td>\n",
       "    </tr>\n",
       "    <tr>\n",
       "      <th>51332</th>\n",
       "      <td>Un important incendie a fait des ravages dans ...</td>\n",
       "      <td>[{\"id\": 0, \"mentions\": [{\"value\": \"incendie\", ...</td>\n",
       "      <td>[[12, \"IS_IN_CONTACT_WITH\", 5], [0, \"IS_LOCATE...</td>\n",
       "    </tr>\n",
       "    <tr>\n",
       "      <th>1131</th>\n",
       "      <td>« Je coule » : onze heures après avoir envoyé ...</td>\n",
       "      <td>[{\"id\": 0, \"mentions\": [{\"value\": \"renversé\", ...</td>\n",
       "      <td>[[9, \"IS_LOCATED_IN\", 2], [0, \"START_DATE\", 17...</td>\n",
       "    </tr>\n",
       "    <tr>\n",
       "      <th>...</th>\n",
       "      <td>...</td>\n",
       "      <td>...</td>\n",
       "      <td>...</td>\n",
       "    </tr>\n",
       "    <tr>\n",
       "      <th>1288</th>\n",
       "      <td>M. Thibault Alekseï, membre de l'association \"...</td>\n",
       "      <td>[{\"id\": 0, \"mentions\": [{\"value\": \"perdu le co...</td>\n",
       "      <td>[[2, \"IS_PART_OF\", 3], [12, \"IS_IN_CONTACT_WIT...</td>\n",
       "    </tr>\n",
       "    <tr>\n",
       "      <th>3822</th>\n",
       "      <td>Des employés d'une usine de production médical...</td>\n",
       "      <td>[{\"id\": 0, \"mentions\": [{\"value\": \"grève\", \"st...</td>\n",
       "      <td>[[8, \"HAS_CONTROL_OVER\", 7], [4, \"HAS_CATEGORY...</td>\n",
       "    </tr>\n",
       "    <tr>\n",
       "      <th>51266</th>\n",
       "      <td>Le 13 mars 2001, Belgrade a connu un krach bou...</td>\n",
       "      <td>[{\"id\": 0, \"mentions\": [{\"value\": \"krach bours...</td>\n",
       "      <td>[[1, \"STARTED_IN\", 3], [10, \"IS_PART_OF\", 4], ...</td>\n",
       "    </tr>\n",
       "    <tr>\n",
       "      <th>51368</th>\n",
       "      <td>L'incendie du laboratoire \"FileGen\" a eu lieu ...</td>\n",
       "      <td>[{\"id\": 0, \"mentions\": [{\"value\": \"incendie\", ...</td>\n",
       "      <td>[[1, \"HAS_CONTROL_OVER\", 3], [7, \"IS_LOCATED_I...</td>\n",
       "    </tr>\n",
       "    <tr>\n",
       "      <th>124</th>\n",
       "      <td>L’avion NY8 de la compagnie Airîle a lancé sa ...</td>\n",
       "      <td>[{\"id\": 0, \"mentions\": [{\"value\": \"crasher\", \"...</td>\n",
       "      <td>[[14, \"HAS_CATEGORY\", 22], [10, \"OPERATES_IN\",...</td>\n",
       "    </tr>\n",
       "  </tbody>\n",
       "</table>\n",
       "<p>800 rows × 3 columns</p>\n",
       "</div>"
      ],
      "text/plain": [
       "                                                    text  \\\n",
       "id                                                         \n",
       "181    Anam Destresse, président de l'ONG \"Ma passion...   \n",
       "31669  À Paris, le 8 avril 2022, l'usine de déodorant...   \n",
       "51470  En Espagne, dans une région agricole, une cont...   \n",
       "51332  Un important incendie a fait des ravages dans ...   \n",
       "1131   « Je coule » : onze heures après avoir envoyé ...   \n",
       "...                                                  ...   \n",
       "1288   M. Thibault Alekseï, membre de l'association \"...   \n",
       "3822   Des employés d'une usine de production médical...   \n",
       "51266  Le 13 mars 2001, Belgrade a connu un krach bou...   \n",
       "51368  L'incendie du laboratoire \"FileGen\" a eu lieu ...   \n",
       "124    L’avion NY8 de la compagnie Airîle a lancé sa ...   \n",
       "\n",
       "                                                entities  \\\n",
       "id                                                         \n",
       "181    [{\"id\": 0, \"mentions\": [{\"value\": \"accident\", ...   \n",
       "31669  [{\"id\": 0, \"mentions\": [{\"value\": \"explosé\", \"...   \n",
       "51470  [{\"id\": 0, \"mentions\": [{\"value\": \"contaminati...   \n",
       "51332  [{\"id\": 0, \"mentions\": [{\"value\": \"incendie\", ...   \n",
       "1131   [{\"id\": 0, \"mentions\": [{\"value\": \"renversé\", ...   \n",
       "...                                                  ...   \n",
       "1288   [{\"id\": 0, \"mentions\": [{\"value\": \"perdu le co...   \n",
       "3822   [{\"id\": 0, \"mentions\": [{\"value\": \"grève\", \"st...   \n",
       "51266  [{\"id\": 0, \"mentions\": [{\"value\": \"krach bours...   \n",
       "51368  [{\"id\": 0, \"mentions\": [{\"value\": \"incendie\", ...   \n",
       "124    [{\"id\": 0, \"mentions\": [{\"value\": \"crasher\", \"...   \n",
       "\n",
       "                                               relations  \n",
       "id                                                        \n",
       "181    [[0, \"STARTED_IN\", 9], [7, \"IS_LOCATED_IN\", 9]...  \n",
       "31669  [[9, \"IS_LOCATED_IN\", 8], [11, \"OPERATES_IN\", ...  \n",
       "51470  [[7, \"IS_PART_OF\", 8], [9, \"OPERATES_IN\", 1], ...  \n",
       "51332  [[12, \"IS_IN_CONTACT_WITH\", 5], [0, \"IS_LOCATE...  \n",
       "1131   [[9, \"IS_LOCATED_IN\", 2], [0, \"START_DATE\", 17...  \n",
       "...                                                  ...  \n",
       "1288   [[2, \"IS_PART_OF\", 3], [12, \"IS_IN_CONTACT_WIT...  \n",
       "3822   [[8, \"HAS_CONTROL_OVER\", 7], [4, \"HAS_CATEGORY...  \n",
       "51266  [[1, \"STARTED_IN\", 3], [10, \"IS_PART_OF\", 4], ...  \n",
       "51368  [[1, \"HAS_CONTROL_OVER\", 3], [7, \"IS_LOCATED_I...  \n",
       "124    [[14, \"HAS_CATEGORY\", 22], [10, \"OPERATES_IN\",...  \n",
       "\n",
       "[800 rows x 3 columns]"
      ]
     },
     "execution_count": 2,
     "metadata": {},
     "output_type": "execute_result"
    }
   ],
   "source": [
    "labeled_raw_df = load_labeled_raw_data()\n",
    "labeled_raw_df"
   ]
  },
  {
   "cell_type": "code",
   "execution_count": 3,
   "metadata": {},
   "outputs": [
    {
     "data": {
      "text/html": [
       "<div>\n",
       "<style scoped>\n",
       "    .dataframe tbody tr th:only-of-type {\n",
       "        vertical-align: middle;\n",
       "    }\n",
       "\n",
       "    .dataframe tbody tr th {\n",
       "        vertical-align: top;\n",
       "    }\n",
       "\n",
       "    .dataframe thead th {\n",
       "        text-align: right;\n",
       "    }\n",
       "</style>\n",
       "<table border=\"1\" class=\"dataframe\">\n",
       "  <thead>\n",
       "    <tr style=\"text-align: right;\">\n",
       "      <th></th>\n",
       "      <th>text</th>\n",
       "      <th>entities</th>\n",
       "    </tr>\n",
       "    <tr>\n",
       "      <th>id</th>\n",
       "      <th></th>\n",
       "      <th></th>\n",
       "    </tr>\n",
       "  </thead>\n",
       "  <tbody>\n",
       "    <tr>\n",
       "      <th>1204</th>\n",
       "      <td>“FEAR” est une organisation spécialisée dans l...</td>\n",
       "      <td>[{\"id\": 0, \"mentions\": [{\"value\": \"crash\", \"st...</td>\n",
       "    </tr>\n",
       "    <tr>\n",
       "      <th>4909</th>\n",
       "      <td>48 heures après le braquage du \"DC Supermarket...</td>\n",
       "      <td>[{\"id\": 0, \"mentions\": [{\"value\": \"DC Supermar...</td>\n",
       "    </tr>\n",
       "    <tr>\n",
       "      <th>2353</th>\n",
       "      <td>À Genève, la boîte de nuit \"Pretty Woman\" a en...</td>\n",
       "      <td>[{\"id\": 0, \"mentions\": [{\"value\": \"tombé\", \"st...</td>\n",
       "    </tr>\n",
       "    <tr>\n",
       "      <th>1210</th>\n",
       "      <td>À Caracas, l'an dernier, une mine située à l'o...</td>\n",
       "      <td>[{\"id\": 0, \"mentions\": [{\"value\": \"effondremen...</td>\n",
       "    </tr>\n",
       "    <tr>\n",
       "      <th>41948</th>\n",
       "      <td>À Genève, une industrie de fabrication d'arbre...</td>\n",
       "      <td>[{\"id\": 0, \"mentions\": [{\"value\": \"incendiée\",...</td>\n",
       "    </tr>\n",
       "    <tr>\n",
       "      <th>...</th>\n",
       "      <td>...</td>\n",
       "      <td>...</td>\n",
       "    </tr>\n",
       "    <tr>\n",
       "      <th>51452</th>\n",
       "      <td>Le WOOP, une organisation mondiale, avait prop...</td>\n",
       "      <td>[{\"id\": 0, \"mentions\": [{\"value\": \"épidémie\", ...</td>\n",
       "    </tr>\n",
       "    <tr>\n",
       "      <th>51491</th>\n",
       "      <td>Madame Pautrat Elina, dirigeante de l’associat...</td>\n",
       "      <td>[{\"id\": 0, \"mentions\": [{\"value\": \"pollution\",...</td>\n",
       "    </tr>\n",
       "    <tr>\n",
       "      <th>51492</th>\n",
       "      <td>Monsieur Elirone Trameur, membre de l’associat...</td>\n",
       "      <td>[{\"id\": 0, \"mentions\": [{\"value\": \"pollution\",...</td>\n",
       "    </tr>\n",
       "    <tr>\n",
       "      <th>51495</th>\n",
       "      <td>Monsieur Elouen Pereira a été arrêté au volant...</td>\n",
       "      <td>[{\"id\": 0, \"mentions\": [{\"value\": \"arrêté\", \"s...</td>\n",
       "    </tr>\n",
       "    <tr>\n",
       "      <th>51742</th>\n",
       "      <td>Depuis le début du mois de décembre, des champ...</td>\n",
       "      <td>[{\"id\": 0, \"mentions\": [{\"value\": \"contrefaits...</td>\n",
       "    </tr>\n",
       "  </tbody>\n",
       "</table>\n",
       "<p>400 rows × 2 columns</p>\n",
       "</div>"
      ],
      "text/plain": [
       "                                                    text  \\\n",
       "id                                                         \n",
       "1204   “FEAR” est une organisation spécialisée dans l...   \n",
       "4909   48 heures après le braquage du \"DC Supermarket...   \n",
       "2353   À Genève, la boîte de nuit \"Pretty Woman\" a en...   \n",
       "1210   À Caracas, l'an dernier, une mine située à l'o...   \n",
       "41948  À Genève, une industrie de fabrication d'arbre...   \n",
       "...                                                  ...   \n",
       "51452  Le WOOP, une organisation mondiale, avait prop...   \n",
       "51491  Madame Pautrat Elina, dirigeante de l’associat...   \n",
       "51492  Monsieur Elirone Trameur, membre de l’associat...   \n",
       "51495  Monsieur Elouen Pereira a été arrêté au volant...   \n",
       "51742  Depuis le début du mois de décembre, des champ...   \n",
       "\n",
       "                                                entities  \n",
       "id                                                        \n",
       "1204   [{\"id\": 0, \"mentions\": [{\"value\": \"crash\", \"st...  \n",
       "4909   [{\"id\": 0, \"mentions\": [{\"value\": \"DC Supermar...  \n",
       "2353   [{\"id\": 0, \"mentions\": [{\"value\": \"tombé\", \"st...  \n",
       "1210   [{\"id\": 0, \"mentions\": [{\"value\": \"effondremen...  \n",
       "41948  [{\"id\": 0, \"mentions\": [{\"value\": \"incendiée\",...  \n",
       "...                                                  ...  \n",
       "51452  [{\"id\": 0, \"mentions\": [{\"value\": \"épidémie\", ...  \n",
       "51491  [{\"id\": 0, \"mentions\": [{\"value\": \"pollution\",...  \n",
       "51492  [{\"id\": 0, \"mentions\": [{\"value\": \"pollution\",...  \n",
       "51495  [{\"id\": 0, \"mentions\": [{\"value\": \"arrêté\", \"s...  \n",
       "51742  [{\"id\": 0, \"mentions\": [{\"value\": \"contrefaits...  \n",
       "\n",
       "[400 rows x 2 columns]"
      ]
     },
     "execution_count": 3,
     "metadata": {},
     "output_type": "execute_result"
    }
   ],
   "source": [
    "test_raw_df = load_test_raw_data()\n",
    "test_raw_df"
   ]
  },
  {
   "cell_type": "markdown",
   "metadata": {},
   "source": [
    "## Analysing raw data"
   ]
  },
  {
   "cell_type": "markdown",
   "metadata": {},
   "source": [
    "### Check value types"
   ]
  },
  {
   "cell_type": "code",
   "execution_count": 4,
   "metadata": {},
   "outputs": [
    {
     "name": "stdout",
     "output_type": "stream",
     "text": [
      "<class 'pandas.core.frame.DataFrame'>\n",
      "Index: 800 entries, 181 to 124\n",
      "Data columns (total 3 columns):\n",
      " #   Column     Non-Null Count  Dtype \n",
      "---  ------     --------------  ----- \n",
      " 0   text       800 non-null    object\n",
      " 1   entities   800 non-null    object\n",
      " 2   relations  800 non-null    object\n",
      "dtypes: object(3)\n",
      "memory usage: 25.0+ KB\n"
     ]
    }
   ],
   "source": [
    "labeled_raw_df.info()"
   ]
  },
  {
   "cell_type": "code",
   "execution_count": 5,
   "metadata": {},
   "outputs": [
    {
     "name": "stdout",
     "output_type": "stream",
     "text": [
      "<class 'pandas.core.frame.DataFrame'>\n",
      "Index: 400 entries, 1204 to 51742\n",
      "Data columns (total 2 columns):\n",
      " #   Column    Non-Null Count  Dtype \n",
      "---  ------    --------------  ----- \n",
      " 0   text      400 non-null    object\n",
      " 1   entities  400 non-null    object\n",
      "dtypes: object(2)\n",
      "memory usage: 9.4+ KB\n"
     ]
    }
   ],
   "source": [
    "test_raw_df.info()"
   ]
  },
  {
   "cell_type": "code",
   "execution_count": 6,
   "metadata": {},
   "outputs": [
    {
     "name": "stdout",
     "output_type": "stream",
     "text": [
      "text <class 'str'>\n",
      "entities <class 'str'>\n",
      "relations <class 'str'>\n"
     ]
    }
   ],
   "source": [
    "# types of values in train data\n",
    "print_value_types(labeled_raw_df)"
   ]
  },
  {
   "cell_type": "code",
   "execution_count": 7,
   "metadata": {},
   "outputs": [
    {
     "name": "stdout",
     "output_type": "stream",
     "text": [
      "text <class 'str'>\n",
      "entities <class 'str'>\n"
     ]
    }
   ],
   "source": [
    "# types of values in test data\n",
    "print_value_types(test_raw_df)"
   ]
  },
  {
   "cell_type": "markdown",
   "metadata": {},
   "source": [
    "### Check for duplicated rows"
   ]
  },
  {
   "cell_type": "code",
   "execution_count": 8,
   "metadata": {},
   "outputs": [
    {
     "data": {
      "text/html": [
       "<div>\n",
       "<style scoped>\n",
       "    .dataframe tbody tr th:only-of-type {\n",
       "        vertical-align: middle;\n",
       "    }\n",
       "\n",
       "    .dataframe tbody tr th {\n",
       "        vertical-align: top;\n",
       "    }\n",
       "\n",
       "    .dataframe thead th {\n",
       "        text-align: right;\n",
       "    }\n",
       "</style>\n",
       "<table border=\"1\" class=\"dataframe\">\n",
       "  <thead>\n",
       "    <tr style=\"text-align: right;\">\n",
       "      <th></th>\n",
       "      <th>text</th>\n",
       "      <th>entities</th>\n",
       "      <th>relations</th>\n",
       "    </tr>\n",
       "    <tr>\n",
       "      <th>id</th>\n",
       "      <th></th>\n",
       "      <th></th>\n",
       "      <th></th>\n",
       "    </tr>\n",
       "  </thead>\n",
       "  <tbody>\n",
       "  </tbody>\n",
       "</table>\n",
       "</div>"
      ],
      "text/plain": [
       "Empty DataFrame\n",
       "Columns: [text, entities, relations]\n",
       "Index: []"
      ]
     },
     "execution_count": 8,
     "metadata": {},
     "output_type": "execute_result"
    }
   ],
   "source": [
    "labeled_raw_df[labeled_raw_df.duplicated()]"
   ]
  },
  {
   "cell_type": "code",
   "execution_count": 9,
   "metadata": {},
   "outputs": [
    {
     "data": {
      "text/html": [
       "<div>\n",
       "<style scoped>\n",
       "    .dataframe tbody tr th:only-of-type {\n",
       "        vertical-align: middle;\n",
       "    }\n",
       "\n",
       "    .dataframe tbody tr th {\n",
       "        vertical-align: top;\n",
       "    }\n",
       "\n",
       "    .dataframe thead th {\n",
       "        text-align: right;\n",
       "    }\n",
       "</style>\n",
       "<table border=\"1\" class=\"dataframe\">\n",
       "  <thead>\n",
       "    <tr style=\"text-align: right;\">\n",
       "      <th></th>\n",
       "      <th>text</th>\n",
       "      <th>entities</th>\n",
       "    </tr>\n",
       "    <tr>\n",
       "      <th>id</th>\n",
       "      <th></th>\n",
       "      <th></th>\n",
       "    </tr>\n",
       "  </thead>\n",
       "  <tbody>\n",
       "  </tbody>\n",
       "</table>\n",
       "</div>"
      ],
      "text/plain": [
       "Empty DataFrame\n",
       "Columns: [text, entities]\n",
       "Index: []"
      ]
     },
     "execution_count": 9,
     "metadata": {},
     "output_type": "execute_result"
    }
   ],
   "source": [
    "test_raw_df[test_raw_df.duplicated()]"
   ]
  },
  {
   "cell_type": "markdown",
   "metadata": {},
   "source": [
    "### Check for missing values"
   ]
  },
  {
   "cell_type": "code",
   "execution_count": 10,
   "metadata": {},
   "outputs": [
    {
     "data": {
      "text/plain": [
       "text         0\n",
       "entities     0\n",
       "relations    0\n",
       "dtype: int64"
      ]
     },
     "execution_count": 10,
     "metadata": {},
     "output_type": "execute_result"
    }
   ],
   "source": [
    "labeled_raw_df.isnull().sum()"
   ]
  },
  {
   "cell_type": "code",
   "execution_count": 11,
   "metadata": {},
   "outputs": [
    {
     "data": {
      "text/plain": [
       "text        0\n",
       "entities    0\n",
       "dtype: int64"
      ]
     },
     "execution_count": 11,
     "metadata": {},
     "output_type": "execute_result"
    }
   ],
   "source": [
    "test_raw_df.isnull().sum()"
   ]
  },
  {
   "cell_type": "code",
   "execution_count": 12,
   "metadata": {},
   "outputs": [
    {
     "data": {
      "text/plain": [
       "id\n",
       "41601    [[0, \"DEATHS_NUMBER\", 14], [3, \"RESIDES_IN\", 4...\n",
       "2514     [[0, \"END_DATE\", 11], [0, \"IS_LOCATED_IN\", 4],...\n",
       "1223     [[0, \"END_DATE\", 11], [10, \"START_DATE\", 11], ...\n",
       "2329     [[0, \"END_DATE\", 11], [4, \"RESIDES_IN\", 1], [0...\n",
       "3898     [[0, \"END_DATE\", 9], [5, \"OPERATES_IN\", 7], [1...\n",
       "                               ...                        \n",
       "4964     [[9, \"IS_LOCATED_IN\", 5], [8, \"OPERATES_IN\", 5...\n",
       "41071    [[9, \"IS_LOCATED_IN\", 5], [9, \"IS_LOCATED_IN\",...\n",
       "31669    [[9, \"IS_LOCATED_IN\", 8], [11, \"OPERATES_IN\", ...\n",
       "41918    [[9, \"IS_LOCATED_IN\", 8], [13, \"HAS_CONTROL_OV...\n",
       "155      [[9, \"OPERATES_IN\", 1], [0, \"IS_LOCATED_IN\", 4...\n",
       "Name: relations, Length: 800, dtype: object"
      ]
     },
     "execution_count": 12,
     "metadata": {},
     "output_type": "execute_result"
    }
   ],
   "source": [
    "labeled_raw_df.relations.sort_values()"
   ]
  },
  {
   "cell_type": "markdown",
   "metadata": {},
   "source": [
    "## Data Cleaning/Wrangling"
   ]
  },
  {
   "cell_type": "markdown",
   "metadata": {},
   "source": [
    "### Fix value typing"
   ]
  },
  {
   "cell_type": "code",
   "execution_count": 13,
   "metadata": {},
   "outputs": [],
   "source": [
    "labeled_clean_df = clean_raw_dataset(labeled_raw_df)\n",
    "test_clean_df = clean_raw_dataset(test_raw_df)"
   ]
  },
  {
   "cell_type": "code",
   "execution_count": 14,
   "metadata": {},
   "outputs": [],
   "source": [
    "assert (labeled_raw_df.index == labeled_clean_df.index).all()\n",
    "assert (test_raw_df.index == test_clean_df.index).all()"
   ]
  },
  {
   "cell_type": "code",
   "execution_count": 15,
   "metadata": {},
   "outputs": [
    {
     "data": {
      "text/html": [
       "<div>\n",
       "<style scoped>\n",
       "    .dataframe tbody tr th:only-of-type {\n",
       "        vertical-align: middle;\n",
       "    }\n",
       "\n",
       "    .dataframe tbody tr th {\n",
       "        vertical-align: top;\n",
       "    }\n",
       "\n",
       "    .dataframe thead th {\n",
       "        text-align: right;\n",
       "    }\n",
       "</style>\n",
       "<table border=\"1\" class=\"dataframe\">\n",
       "  <thead>\n",
       "    <tr style=\"text-align: right;\">\n",
       "      <th></th>\n",
       "      <th>text</th>\n",
       "      <th>entities</th>\n",
       "    </tr>\n",
       "    <tr>\n",
       "      <th>id</th>\n",
       "      <th></th>\n",
       "      <th></th>\n",
       "    </tr>\n",
       "  </thead>\n",
       "  <tbody>\n",
       "    <tr>\n",
       "      <th>1204</th>\n",
       "      <td>“FEAR” est une organisation spécialisée dans l...</td>\n",
       "      <td>[{\"id\": 0, \"mentions\": [{\"value\": \"crash\", \"st...</td>\n",
       "    </tr>\n",
       "  </tbody>\n",
       "</table>\n",
       "</div>"
      ],
      "text/plain": [
       "                                                   text  \\\n",
       "id                                                        \n",
       "1204  “FEAR” est une organisation spécialisée dans l...   \n",
       "\n",
       "                                               entities  \n",
       "id                                                       \n",
       "1204  [{\"id\": 0, \"mentions\": [{\"value\": \"crash\", \"st...  "
      ]
     },
     "execution_count": 15,
     "metadata": {},
     "output_type": "execute_result"
    }
   ],
   "source": [
    "test_raw_df.head(1)"
   ]
  },
  {
   "cell_type": "code",
   "execution_count": 16,
   "metadata": {},
   "outputs": [
    {
     "data": {
      "text/html": [
       "<div>\n",
       "<style scoped>\n",
       "    .dataframe tbody tr th:only-of-type {\n",
       "        vertical-align: middle;\n",
       "    }\n",
       "\n",
       "    .dataframe tbody tr th {\n",
       "        vertical-align: top;\n",
       "    }\n",
       "\n",
       "    .dataframe thead th {\n",
       "        text-align: right;\n",
       "    }\n",
       "</style>\n",
       "<table border=\"1\" class=\"dataframe\">\n",
       "  <thead>\n",
       "    <tr style=\"text-align: right;\">\n",
       "      <th></th>\n",
       "      <th>text</th>\n",
       "      <th>entities</th>\n",
       "      <th>relations</th>\n",
       "    </tr>\n",
       "    <tr>\n",
       "      <th>id</th>\n",
       "      <th></th>\n",
       "      <th></th>\n",
       "      <th></th>\n",
       "    </tr>\n",
       "  </thead>\n",
       "  <tbody>\n",
       "    <tr>\n",
       "      <th>1204</th>\n",
       "      <td>“FEAR” est une organisation spécialisée dans l...</td>\n",
       "      <td>[{'id': 0, 'mentions': [{'value': 'crash', 'st...</td>\n",
       "      <td>None</td>\n",
       "    </tr>\n",
       "  </tbody>\n",
       "</table>\n",
       "</div>"
      ],
      "text/plain": [
       "                                                   text  \\\n",
       "id                                                        \n",
       "1204  “FEAR” est une organisation spécialisée dans l...   \n",
       "\n",
       "                                               entities relations  \n",
       "id                                                                 \n",
       "1204  [{'id': 0, 'mentions': [{'value': 'crash', 'st...      None  "
      ]
     },
     "execution_count": 16,
     "metadata": {},
     "output_type": "execute_result"
    }
   ],
   "source": [
    "test_clean_df.head(1)"
   ]
  },
  {
   "cell_type": "markdown",
   "metadata": {},
   "source": [
    "### Check value types"
   ]
  },
  {
   "cell_type": "code",
   "execution_count": 17,
   "metadata": {},
   "outputs": [
    {
     "name": "stdout",
     "output_type": "stream",
     "text": [
      "text <class 'str'>\n",
      "entities [  [<class 'str'>, <class 'str'>, <class 'str'>]  ]\n",
      "relations [  <class 'list'>  ]\n"
     ]
    }
   ],
   "source": [
    "# types of values in train data\n",
    "print_value_types(labeled_clean_df)"
   ]
  },
  {
   "cell_type": "code",
   "execution_count": 18,
   "metadata": {},
   "outputs": [
    {
     "name": "stdout",
     "output_type": "stream",
     "text": [
      "text <class 'str'>\n",
      "entities [  [<class 'str'>, <class 'str'>, <class 'str'>]  ]\n",
      "relations <class 'NoneType'>\n"
     ]
    }
   ],
   "source": [
    "# types of values in test data\n",
    "print_value_types(test_clean_df)"
   ]
  },
  {
   "cell_type": "markdown",
   "metadata": {},
   "source": [
    "### Save cleaned datasets\n",
    "\n",
    "For manual analysis"
   ]
  },
  {
   "cell_type": "code",
   "execution_count": 19,
   "metadata": {},
   "outputs": [],
   "source": [
    "save_data(labeled_clean_df, os.path.join(INTERIM_DIR, \"train_cleaned.csv\"))\n",
    "save_data(test_clean_df, os.path.join(INTERIM_DIR, \"test_cleaned.csv\"))"
   ]
  },
  {
   "cell_type": "markdown",
   "metadata": {},
   "source": [
    "## Analyze clean data"
   ]
  },
  {
   "cell_type": "markdown",
   "metadata": {},
   "source": [
    "### All relation types"
   ]
  },
  {
   "cell_type": "code",
   "execution_count": 20,
   "metadata": {},
   "outputs": [
    {
     "name": "stdout",
     "output_type": "stream",
     "text": [
      "37\n"
     ]
    },
    {
     "data": {
      "text/plain": [
       "{'CREATED',\n",
       " 'DEATHS_NUMBER',\n",
       " 'DIED_IN',\n",
       " 'END_DATE',\n",
       " 'GENDER_FEMALE',\n",
       " 'GENDER_MALE',\n",
       " 'HAS_CATEGORY',\n",
       " 'HAS_COLOR',\n",
       " 'HAS_CONSEQUENCE',\n",
       " 'HAS_CONTROL_OVER',\n",
       " 'HAS_FAMILY_RELATIONSHIP',\n",
       " 'HAS_FOR_HEIGHT',\n",
       " 'HAS_FOR_LENGTH',\n",
       " 'HAS_FOR_WIDTH',\n",
       " 'HAS_LATITUDE',\n",
       " 'HAS_LONGITUDE',\n",
       " 'HAS_QUANTITY',\n",
       " 'INITIATED',\n",
       " 'INJURED_NUMBER',\n",
       " 'IS_AT_ODDS_WITH',\n",
       " 'IS_BORN_IN',\n",
       " 'IS_BORN_ON',\n",
       " 'IS_COOPERATING_WITH',\n",
       " 'IS_DEAD_ON',\n",
       " 'IS_IN_CONTACT_WITH',\n",
       " 'IS_LOCATED_IN',\n",
       " 'IS_OF_NATIONALITY',\n",
       " 'IS_OF_SIZE',\n",
       " 'IS_PART_OF',\n",
       " 'IS_REGISTERED_AS',\n",
       " 'OPERATES_IN',\n",
       " 'RESIDES_IN',\n",
       " 'STARTED_IN',\n",
       " 'START_DATE',\n",
       " 'WAS_CREATED_IN',\n",
       " 'WAS_DISSOLVED_IN',\n",
       " 'WEIGHS'}"
      ]
     },
     "execution_count": 20,
     "metadata": {},
     "output_type": "execute_result"
    }
   ],
   "source": [
    "relation_classes = set(\n",
    "    sum(\n",
    "        labeled_clean_df.relations.apply(\n",
    "            lambda row: list({r for (e1, r, e2) in row})\n",
    "        ).values.tolist(),\n",
    "        [],\n",
    "    )\n",
    ")\n",
    "print(len(relation_classes))\n",
    "relation_classes"
   ]
  },
  {
   "cell_type": "markdown",
   "metadata": {},
   "source": [
    "#### Summary stats on relation classes"
   ]
  },
  {
   "cell_type": "code",
   "execution_count": 21,
   "metadata": {},
   "outputs": [
    {
     "data": {
      "text/plain": [
       "<Axes: xlabel='Number of texts containing the relation', ylabel='Relation'>"
      ]
     },
     "execution_count": 21,
     "metadata": {},
     "output_type": "execute_result"
    },
    {
     "data": {
      "image/png": "[encoded data removed]",
      "text/plain": [
       "<Figure size 1500x1000 with 1 Axes>"
      ]
     },
     "metadata": {},
     "output_type": "display_data"
    }
   ],
   "source": [
    "# number of text containing a relation category\n",
    "\n",
    "plt.figure(figsize=(15, 10))\n",
    "pd.Series({cat: labeled_raw_df[labeled_raw_df.relations.str.contains(cat)].shape[0] for cat in relation_classes}).sort_values(ascending=True).plot.barh(xlabel=\"Number of texts containing the relation\", ylabel=\"Relation\")"
   ]
  },
  {
   "cell_type": "code",
   "execution_count": 22,
   "metadata": {},
   "outputs": [
    {
     "data": {
      "text/plain": [
       "141"
      ]
     },
     "execution_count": 22,
     "metadata": {},
     "output_type": "execute_result"
    }
   ],
   "source": [
    "labeled_raw_df.relations.str.count(\"CREATED\").sum()"
   ]
  },
  {
   "cell_type": "code",
   "execution_count": 23,
   "metadata": {},
   "outputs": [
    {
     "data": {
      "text/html": [
       "<div>\n",
       "<style scoped>\n",
       "    .dataframe tbody tr th:only-of-type {\n",
       "        vertical-align: middle;\n",
       "    }\n",
       "\n",
       "    .dataframe tbody tr th {\n",
       "        vertical-align: top;\n",
       "    }\n",
       "\n",
       "    .dataframe thead th {\n",
       "        text-align: right;\n",
       "    }\n",
       "</style>\n",
       "<table border=\"1\" class=\"dataframe\">\n",
       "  <thead>\n",
       "    <tr style=\"text-align: right;\">\n",
       "      <th></th>\n",
       "      <th>count</th>\n",
       "      <th>mean</th>\n",
       "      <th>std</th>\n",
       "      <th>min</th>\n",
       "      <th>25%</th>\n",
       "      <th>50%</th>\n",
       "      <th>75%</th>\n",
       "      <th>max</th>\n",
       "    </tr>\n",
       "  </thead>\n",
       "  <tbody>\n",
       "    <tr>\n",
       "      <th>IS_LOCATED_IN</th>\n",
       "      <td>800.0</td>\n",
       "      <td>11.28125</td>\n",
       "      <td>6.555025</td>\n",
       "      <td>0.0</td>\n",
       "      <td>7.0</td>\n",
       "      <td>10.0</td>\n",
       "      <td>15.0</td>\n",
       "      <td>44.0</td>\n",
       "    </tr>\n",
       "    <tr>\n",
       "      <th>HAS_CONTROL_OVER</th>\n",
       "      <td>800.0</td>\n",
       "      <td>5.68375</td>\n",
       "      <td>3.724389</td>\n",
       "      <td>0.0</td>\n",
       "      <td>3.0</td>\n",
       "      <td>5.0</td>\n",
       "      <td>8.0</td>\n",
       "      <td>22.0</td>\n",
       "    </tr>\n",
       "    <tr>\n",
       "      <th>IS_IN_CONTACT_WITH</th>\n",
       "      <td>800.0</td>\n",
       "      <td>3.64875</td>\n",
       "      <td>4.583026</td>\n",
       "      <td>0.0</td>\n",
       "      <td>0.0</td>\n",
       "      <td>2.0</td>\n",
       "      <td>4.0</td>\n",
       "      <td>44.0</td>\n",
       "    </tr>\n",
       "    <tr>\n",
       "      <th>STARTED_IN</th>\n",
       "      <td>800.0</td>\n",
       "      <td>2.32500</td>\n",
       "      <td>1.829223</td>\n",
       "      <td>0.0</td>\n",
       "      <td>1.0</td>\n",
       "      <td>2.0</td>\n",
       "      <td>3.0</td>\n",
       "      <td>12.0</td>\n",
       "    </tr>\n",
       "    <tr>\n",
       "      <th>OPERATES_IN</th>\n",
       "      <td>800.0</td>\n",
       "      <td>3.04375</td>\n",
       "      <td>2.650588</td>\n",
       "      <td>0.0</td>\n",
       "      <td>1.0</td>\n",
       "      <td>2.0</td>\n",
       "      <td>4.0</td>\n",
       "      <td>19.0</td>\n",
       "    </tr>\n",
       "    <tr>\n",
       "      <th>IS_PART_OF</th>\n",
       "      <td>800.0</td>\n",
       "      <td>1.82750</td>\n",
       "      <td>1.642747</td>\n",
       "      <td>0.0</td>\n",
       "      <td>1.0</td>\n",
       "      <td>1.0</td>\n",
       "      <td>2.0</td>\n",
       "      <td>14.0</td>\n",
       "    </tr>\n",
       "    <tr>\n",
       "      <th>START_DATE</th>\n",
       "      <td>800.0</td>\n",
       "      <td>1.29250</td>\n",
       "      <td>1.165608</td>\n",
       "      <td>0.0</td>\n",
       "      <td>0.0</td>\n",
       "      <td>1.0</td>\n",
       "      <td>2.0</td>\n",
       "      <td>7.0</td>\n",
       "    </tr>\n",
       "    <tr>\n",
       "      <th>END_DATE</th>\n",
       "      <td>800.0</td>\n",
       "      <td>1.09250</td>\n",
       "      <td>1.081853</td>\n",
       "      <td>0.0</td>\n",
       "      <td>0.0</td>\n",
       "      <td>1.0</td>\n",
       "      <td>2.0</td>\n",
       "      <td>6.0</td>\n",
       "    </tr>\n",
       "    <tr>\n",
       "      <th>GENDER_MALE</th>\n",
       "      <td>800.0</td>\n",
       "      <td>1.13500</td>\n",
       "      <td>0.864702</td>\n",
       "      <td>0.0</td>\n",
       "      <td>1.0</td>\n",
       "      <td>1.0</td>\n",
       "      <td>2.0</td>\n",
       "      <td>4.0</td>\n",
       "    </tr>\n",
       "    <tr>\n",
       "      <th>HAS_CATEGORY</th>\n",
       "      <td>800.0</td>\n",
       "      <td>1.11750</td>\n",
       "      <td>0.891452</td>\n",
       "      <td>0.0</td>\n",
       "      <td>1.0</td>\n",
       "      <td>1.0</td>\n",
       "      <td>2.0</td>\n",
       "      <td>5.0</td>\n",
       "    </tr>\n",
       "    <tr>\n",
       "      <th>HAS_CONSEQUENCE</th>\n",
       "      <td>800.0</td>\n",
       "      <td>0.96125</td>\n",
       "      <td>2.006185</td>\n",
       "      <td>0.0</td>\n",
       "      <td>0.0</td>\n",
       "      <td>0.0</td>\n",
       "      <td>1.0</td>\n",
       "      <td>21.0</td>\n",
       "    </tr>\n",
       "    <tr>\n",
       "      <th>DEATHS_NUMBER</th>\n",
       "      <td>800.0</td>\n",
       "      <td>0.09375</td>\n",
       "      <td>0.312383</td>\n",
       "      <td>0.0</td>\n",
       "      <td>0.0</td>\n",
       "      <td>0.0</td>\n",
       "      <td>0.0</td>\n",
       "      <td>2.0</td>\n",
       "    </tr>\n",
       "    <tr>\n",
       "      <th>HAS_FOR_WIDTH</th>\n",
       "      <td>800.0</td>\n",
       "      <td>0.01750</td>\n",
       "      <td>0.131207</td>\n",
       "      <td>0.0</td>\n",
       "      <td>0.0</td>\n",
       "      <td>0.0</td>\n",
       "      <td>0.0</td>\n",
       "      <td>1.0</td>\n",
       "    </tr>\n",
       "    <tr>\n",
       "      <th>HAS_COLOR</th>\n",
       "      <td>800.0</td>\n",
       "      <td>0.11375</td>\n",
       "      <td>0.394976</td>\n",
       "      <td>0.0</td>\n",
       "      <td>0.0</td>\n",
       "      <td>0.0</td>\n",
       "      <td>0.0</td>\n",
       "      <td>3.0</td>\n",
       "    </tr>\n",
       "    <tr>\n",
       "      <th>HAS_QUANTITY</th>\n",
       "      <td>800.0</td>\n",
       "      <td>0.23875</td>\n",
       "      <td>0.576336</td>\n",
       "      <td>0.0</td>\n",
       "      <td>0.0</td>\n",
       "      <td>0.0</td>\n",
       "      <td>0.0</td>\n",
       "      <td>4.0</td>\n",
       "    </tr>\n",
       "    <tr>\n",
       "      <th>WAS_CREATED_IN</th>\n",
       "      <td>800.0</td>\n",
       "      <td>0.01875</td>\n",
       "      <td>0.135726</td>\n",
       "      <td>0.0</td>\n",
       "      <td>0.0</td>\n",
       "      <td>0.0</td>\n",
       "      <td>0.0</td>\n",
       "      <td>1.0</td>\n",
       "    </tr>\n",
       "    <tr>\n",
       "      <th>HAS_FOR_LENGTH</th>\n",
       "      <td>800.0</td>\n",
       "      <td>0.02000</td>\n",
       "      <td>0.140088</td>\n",
       "      <td>0.0</td>\n",
       "      <td>0.0</td>\n",
       "      <td>0.0</td>\n",
       "      <td>0.0</td>\n",
       "      <td>1.0</td>\n",
       "    </tr>\n",
       "    <tr>\n",
       "      <th>IS_DEAD_ON</th>\n",
       "      <td>800.0</td>\n",
       "      <td>0.08500</td>\n",
       "      <td>0.287886</td>\n",
       "      <td>0.0</td>\n",
       "      <td>0.0</td>\n",
       "      <td>0.0</td>\n",
       "      <td>0.0</td>\n",
       "      <td>2.0</td>\n",
       "    </tr>\n",
       "    <tr>\n",
       "      <th>RESIDES_IN</th>\n",
       "      <td>800.0</td>\n",
       "      <td>0.27750</td>\n",
       "      <td>0.689992</td>\n",
       "      <td>0.0</td>\n",
       "      <td>0.0</td>\n",
       "      <td>0.0</td>\n",
       "      <td>0.0</td>\n",
       "      <td>4.0</td>\n",
       "    </tr>\n",
       "    <tr>\n",
       "      <th>HAS_LONGITUDE</th>\n",
       "      <td>800.0</td>\n",
       "      <td>0.01500</td>\n",
       "      <td>0.121628</td>\n",
       "      <td>0.0</td>\n",
       "      <td>0.0</td>\n",
       "      <td>0.0</td>\n",
       "      <td>0.0</td>\n",
       "      <td>1.0</td>\n",
       "    </tr>\n",
       "    <tr>\n",
       "      <th>HAS_FOR_HEIGHT</th>\n",
       "      <td>800.0</td>\n",
       "      <td>0.01500</td>\n",
       "      <td>0.121628</td>\n",
       "      <td>0.0</td>\n",
       "      <td>0.0</td>\n",
       "      <td>0.0</td>\n",
       "      <td>0.0</td>\n",
       "      <td>1.0</td>\n",
       "    </tr>\n",
       "    <tr>\n",
       "      <th>INITIATED</th>\n",
       "      <td>800.0</td>\n",
       "      <td>0.58625</td>\n",
       "      <td>0.972751</td>\n",
       "      <td>0.0</td>\n",
       "      <td>0.0</td>\n",
       "      <td>0.0</td>\n",
       "      <td>1.0</td>\n",
       "      <td>9.0</td>\n",
       "    </tr>\n",
       "    <tr>\n",
       "      <th>WAS_DISSOLVED_IN</th>\n",
       "      <td>800.0</td>\n",
       "      <td>0.01750</td>\n",
       "      <td>0.131207</td>\n",
       "      <td>0.0</td>\n",
       "      <td>0.0</td>\n",
       "      <td>0.0</td>\n",
       "      <td>0.0</td>\n",
       "      <td>1.0</td>\n",
       "    </tr>\n",
       "    <tr>\n",
       "      <th>GENDER_FEMALE</th>\n",
       "      <td>800.0</td>\n",
       "      <td>0.51750</td>\n",
       "      <td>0.620625</td>\n",
       "      <td>0.0</td>\n",
       "      <td>0.0</td>\n",
       "      <td>0.0</td>\n",
       "      <td>1.0</td>\n",
       "      <td>3.0</td>\n",
       "    </tr>\n",
       "    <tr>\n",
       "      <th>IS_REGISTERED_AS</th>\n",
       "      <td>800.0</td>\n",
       "      <td>0.04250</td>\n",
       "      <td>0.241385</td>\n",
       "      <td>0.0</td>\n",
       "      <td>0.0</td>\n",
       "      <td>0.0</td>\n",
       "      <td>0.0</td>\n",
       "      <td>2.0</td>\n",
       "    </tr>\n",
       "    <tr>\n",
       "      <th>HAS_LATITUDE</th>\n",
       "      <td>800.0</td>\n",
       "      <td>0.01250</td>\n",
       "      <td>0.111172</td>\n",
       "      <td>0.0</td>\n",
       "      <td>0.0</td>\n",
       "      <td>0.0</td>\n",
       "      <td>0.0</td>\n",
       "      <td>1.0</td>\n",
       "    </tr>\n",
       "    <tr>\n",
       "      <th>IS_BORN_ON</th>\n",
       "      <td>800.0</td>\n",
       "      <td>0.02500</td>\n",
       "      <td>0.156223</td>\n",
       "      <td>0.0</td>\n",
       "      <td>0.0</td>\n",
       "      <td>0.0</td>\n",
       "      <td>0.0</td>\n",
       "      <td>1.0</td>\n",
       "    </tr>\n",
       "    <tr>\n",
       "      <th>IS_COOPERATING_WITH</th>\n",
       "      <td>800.0</td>\n",
       "      <td>0.46500</td>\n",
       "      <td>1.458229</td>\n",
       "      <td>0.0</td>\n",
       "      <td>0.0</td>\n",
       "      <td>0.0</td>\n",
       "      <td>0.0</td>\n",
       "      <td>24.0</td>\n",
       "    </tr>\n",
       "    <tr>\n",
       "      <th>IS_OF_SIZE</th>\n",
       "      <td>800.0</td>\n",
       "      <td>0.54750</td>\n",
       "      <td>0.820723</td>\n",
       "      <td>0.0</td>\n",
       "      <td>0.0</td>\n",
       "      <td>0.0</td>\n",
       "      <td>1.0</td>\n",
       "      <td>4.0</td>\n",
       "    </tr>\n",
       "    <tr>\n",
       "      <th>CREATED</th>\n",
       "      <td>800.0</td>\n",
       "      <td>0.17625</td>\n",
       "      <td>0.561765</td>\n",
       "      <td>0.0</td>\n",
       "      <td>0.0</td>\n",
       "      <td>0.0</td>\n",
       "      <td>0.0</td>\n",
       "      <td>5.0</td>\n",
       "    </tr>\n",
       "    <tr>\n",
       "      <th>IS_OF_NATIONALITY</th>\n",
       "      <td>800.0</td>\n",
       "      <td>0.22375</td>\n",
       "      <td>0.525863</td>\n",
       "      <td>0.0</td>\n",
       "      <td>0.0</td>\n",
       "      <td>0.0</td>\n",
       "      <td>0.0</td>\n",
       "      <td>4.0</td>\n",
       "    </tr>\n",
       "    <tr>\n",
       "      <th>INJURED_NUMBER</th>\n",
       "      <td>800.0</td>\n",
       "      <td>0.08750</td>\n",
       "      <td>0.295725</td>\n",
       "      <td>0.0</td>\n",
       "      <td>0.0</td>\n",
       "      <td>0.0</td>\n",
       "      <td>0.0</td>\n",
       "      <td>2.0</td>\n",
       "    </tr>\n",
       "    <tr>\n",
       "      <th>WEIGHS</th>\n",
       "      <td>800.0</td>\n",
       "      <td>0.05125</td>\n",
       "      <td>0.242274</td>\n",
       "      <td>0.0</td>\n",
       "      <td>0.0</td>\n",
       "      <td>0.0</td>\n",
       "      <td>0.0</td>\n",
       "      <td>2.0</td>\n",
       "    </tr>\n",
       "    <tr>\n",
       "      <th>IS_BORN_IN</th>\n",
       "      <td>800.0</td>\n",
       "      <td>0.06250</td>\n",
       "      <td>0.276024</td>\n",
       "      <td>0.0</td>\n",
       "      <td>0.0</td>\n",
       "      <td>0.0</td>\n",
       "      <td>0.0</td>\n",
       "      <td>3.0</td>\n",
       "    </tr>\n",
       "    <tr>\n",
       "      <th>DIED_IN</th>\n",
       "      <td>800.0</td>\n",
       "      <td>0.05125</td>\n",
       "      <td>0.318198</td>\n",
       "      <td>0.0</td>\n",
       "      <td>0.0</td>\n",
       "      <td>0.0</td>\n",
       "      <td>0.0</td>\n",
       "      <td>4.0</td>\n",
       "    </tr>\n",
       "    <tr>\n",
       "      <th>IS_AT_ODDS_WITH</th>\n",
       "      <td>800.0</td>\n",
       "      <td>1.90750</td>\n",
       "      <td>4.615525</td>\n",
       "      <td>0.0</td>\n",
       "      <td>0.0</td>\n",
       "      <td>0.0</td>\n",
       "      <td>2.0</td>\n",
       "      <td>42.0</td>\n",
       "    </tr>\n",
       "    <tr>\n",
       "      <th>HAS_FAMILY_RELATIONSHIP</th>\n",
       "      <td>800.0</td>\n",
       "      <td>0.27750</td>\n",
       "      <td>0.847875</td>\n",
       "      <td>0.0</td>\n",
       "      <td>0.0</td>\n",
       "      <td>0.0</td>\n",
       "      <td>0.0</td>\n",
       "      <td>6.0</td>\n",
       "    </tr>\n",
       "  </tbody>\n",
       "</table>\n",
       "</div>"
      ],
      "text/plain": [
       "                         count      mean       std  min  25%   50%   75%   max\n",
       "IS_LOCATED_IN            800.0  11.28125  6.555025  0.0  7.0  10.0  15.0  44.0\n",
       "HAS_CONTROL_OVER         800.0   5.68375  3.724389  0.0  3.0   5.0   8.0  22.0\n",
       "IS_IN_CONTACT_WITH       800.0   3.64875  4.583026  0.0  0.0   2.0   4.0  44.0\n",
       "STARTED_IN               800.0   2.32500  1.829223  0.0  1.0   2.0   3.0  12.0\n",
       "OPERATES_IN              800.0   3.04375  2.650588  0.0  1.0   2.0   4.0  19.0\n",
       "IS_PART_OF               800.0   1.82750  1.642747  0.0  1.0   1.0   2.0  14.0\n",
       "START_DATE               800.0   1.29250  1.165608  0.0  0.0   1.0   2.0   7.0\n",
       "END_DATE                 800.0   1.09250  1.081853  0.0  0.0   1.0   2.0   6.0\n",
       "GENDER_MALE              800.0   1.13500  0.864702  0.0  1.0   1.0   2.0   4.0\n",
       "HAS_CATEGORY             800.0   1.11750  0.891452  0.0  1.0   1.0   2.0   5.0\n",
       "HAS_CONSEQUENCE          800.0   0.96125  2.006185  0.0  0.0   0.0   1.0  21.0\n",
       "DEATHS_NUMBER            800.0   0.09375  0.312383  0.0  0.0   0.0   0.0   2.0\n",
       "HAS_FOR_WIDTH            800.0   0.01750  0.131207  0.0  0.0   0.0   0.0   1.0\n",
       "HAS_COLOR                800.0   0.11375  0.394976  0.0  0.0   0.0   0.0   3.0\n",
       "HAS_QUANTITY             800.0   0.23875  0.576336  0.0  0.0   0.0   0.0   4.0\n",
       "WAS_CREATED_IN           800.0   0.01875  0.135726  0.0  0.0   0.0   0.0   1.0\n",
       "HAS_FOR_LENGTH           800.0   0.02000  0.140088  0.0  0.0   0.0   0.0   1.0\n",
       "IS_DEAD_ON               800.0   0.08500  0.287886  0.0  0.0   0.0   0.0   2.0\n",
       "RESIDES_IN               800.0   0.27750  0.689992  0.0  0.0   0.0   0.0   4.0\n",
       "HAS_LONGITUDE            800.0   0.01500  0.121628  0.0  0.0   0.0   0.0   1.0\n",
       "HAS_FOR_HEIGHT           800.0   0.01500  0.121628  0.0  0.0   0.0   0.0   1.0\n",
       "INITIATED                800.0   0.58625  0.972751  0.0  0.0   0.0   1.0   9.0\n",
       "WAS_DISSOLVED_IN         800.0   0.01750  0.131207  0.0  0.0   0.0   0.0   1.0\n",
       "GENDER_FEMALE            800.0   0.51750  0.620625  0.0  0.0   0.0   1.0   3.0\n",
       "IS_REGISTERED_AS         800.0   0.04250  0.241385  0.0  0.0   0.0   0.0   2.0\n",
       "HAS_LATITUDE             800.0   0.01250  0.111172  0.0  0.0   0.0   0.0   1.0\n",
       "IS_BORN_ON               800.0   0.02500  0.156223  0.0  0.0   0.0   0.0   1.0\n",
       "IS_COOPERATING_WITH      800.0   0.46500  1.458229  0.0  0.0   0.0   0.0  24.0\n",
       "IS_OF_SIZE               800.0   0.54750  0.820723  0.0  0.0   0.0   1.0   4.0\n",
       "CREATED                  800.0   0.17625  0.561765  0.0  0.0   0.0   0.0   5.0\n",
       "IS_OF_NATIONALITY        800.0   0.22375  0.525863  0.0  0.0   0.0   0.0   4.0\n",
       "INJURED_NUMBER           800.0   0.08750  0.295725  0.0  0.0   0.0   0.0   2.0\n",
       "WEIGHS                   800.0   0.05125  0.242274  0.0  0.0   0.0   0.0   2.0\n",
       "IS_BORN_IN               800.0   0.06250  0.276024  0.0  0.0   0.0   0.0   3.0\n",
       "DIED_IN                  800.0   0.05125  0.318198  0.0  0.0   0.0   0.0   4.0\n",
       "IS_AT_ODDS_WITH          800.0   1.90750  4.615525  0.0  0.0   0.0   2.0  42.0\n",
       "HAS_FAMILY_RELATIONSHIP  800.0   0.27750  0.847875  0.0  0.0   0.0   0.0   6.0"
      ]
     },
     "execution_count": 23,
     "metadata": {},
     "output_type": "execute_result"
    }
   ],
   "source": [
    "# distribution of the occurences of each category among texts\n",
    "pd.DataFrame({cat: labeled_raw_df.relations.str.count(cat) for cat in relation_classes}).describe().T.sort_values(\"50%\", ascending=False)"
   ]
  },
  {
   "cell_type": "code",
   "execution_count": 24,
   "metadata": {},
   "outputs": [
    {
     "data": {
      "text/plain": [
       "id\n",
       "181      17\n",
       "31669    14\n",
       "51470     5\n",
       "51332     3\n",
       "1131      8\n",
       "         ..\n",
       "1288     14\n",
       "3822      6\n",
       "51266     7\n",
       "51368    13\n",
       "124      23\n",
       "Name: relations, Length: 800, dtype: int64"
      ]
     },
     "execution_count": 24,
     "metadata": {},
     "output_type": "execute_result"
    }
   ],
   "source": [
    "labeled_raw_df.relations.str.count(\"IS_LOCATED_IN\")"
   ]
  },
  {
   "cell_type": "code",
   "execution_count": 25,
   "metadata": {},
   "outputs": [
    {
     "data": {
      "text/plain": [
       "[[0, 'STARTED_IN', 9],\n",
       " [7, 'IS_LOCATED_IN', 9],\n",
       " [5, 'IS_LOCATED_IN', 10],\n",
       " [1, 'GENDER_FEMALE', 1],\n",
       " [12, 'IS_LOCATED_IN', 10],\n",
       " [0, 'IS_LOCATED_IN', 10],\n",
       " [1, 'IS_LOCATED_IN', 10],\n",
       " [13, 'IS_LOCATED_IN', 9],\n",
       " [14, 'IS_LOCATED_IN', 10],\n",
       " [1, 'HAS_CATEGORY', 18],\n",
       " [5, 'IS_LOCATED_IN', 9],\n",
       " [9, 'IS_LOCATED_IN', 10],\n",
       " [14, 'IS_DEAD_ON', 15],\n",
       " [7, 'HAS_CATEGORY', 19],\n",
       " [12, 'IS_LOCATED_IN', 9],\n",
       " [0, 'IS_LOCATED_IN', 9],\n",
       " [7, 'GENDER_MALE', 7],\n",
       " [11, 'IS_LOCATED_IN', 10],\n",
       " [1, 'IS_LOCATED_IN', 9],\n",
       " [14, 'IS_LOCATED_IN', 9],\n",
       " [14, 'HAS_CATEGORY', 20],\n",
       " [0, 'STARTED_IN', 10],\n",
       " [0, 'START_DATE', 15],\n",
       " [7, 'IS_LOCATED_IN', 10],\n",
       " [0, 'END_DATE', 15],\n",
       " [14, 'GENDER_MALE', 14],\n",
       " [12, 'IS_OF_SIZE', 22],\n",
       " [13, 'IS_LOCATED_IN', 10],\n",
       " [1, 'IS_LOCATED_IN', 11],\n",
       " [13, 'IS_OF_SIZE', 21]]"
      ]
     },
     "execution_count": 25,
     "metadata": {},
     "output_type": "execute_result"
    }
   ],
   "source": [
    "labeled_clean_df.relations.loc[181]"
   ]
  },
  {
   "cell_type": "code",
   "execution_count": 26,
   "metadata": {},
   "outputs": [
    {
     "data": {
      "text/plain": [
       "IS_LOCATED_IN              9025\n",
       "HAS_CONTROL_OVER           4547\n",
       "IS_IN_CONTACT_WITH         2919\n",
       "OPERATES_IN                2435\n",
       "STARTED_IN                 1860\n",
       "IS_AT_ODDS_WITH            1526\n",
       "IS_PART_OF                 1462\n",
       "START_DATE                 1034\n",
       "GENDER_MALE                 908\n",
       "HAS_CATEGORY                894\n",
       "END_DATE                    874\n",
       "HAS_CONSEQUENCE             769\n",
       "INITIATED                   469\n",
       "IS_OF_SIZE                  438\n",
       "GENDER_FEMALE               414\n",
       "IS_COOPERATING_WITH         372\n",
       "RESIDES_IN                  222\n",
       "HAS_FAMILY_RELATIONSHIP     222\n",
       "HAS_QUANTITY                191\n",
       "IS_OF_NATIONALITY           179\n",
       "CREATED                     141\n",
       "HAS_COLOR                    91\n",
       "DEATHS_NUMBER                75\n",
       "INJURED_NUMBER               70\n",
       "IS_DEAD_ON                   68\n",
       "IS_BORN_IN                   50\n",
       "DIED_IN                      41\n",
       "WEIGHS                       41\n",
       "IS_REGISTERED_AS             34\n",
       "IS_BORN_ON                   20\n",
       "HAS_FOR_LENGTH               16\n",
       "WAS_CREATED_IN               15\n",
       "HAS_FOR_WIDTH                14\n",
       "WAS_DISSOLVED_IN             14\n",
       "HAS_LONGITUDE                12\n",
       "HAS_FOR_HEIGHT               12\n",
       "HAS_LATITUDE                 10\n",
       "dtype: int64"
      ]
     },
     "execution_count": 26,
     "metadata": {},
     "output_type": "execute_result"
    }
   ],
   "source": [
    "# Total occurences of each category in the labeled dataset\n",
    "pd.Series({cat: labeled_raw_df.relations.str.count(cat).sum() for cat in relation_classes}).sort_values(ascending=False)"
   ]
  },
  {
   "cell_type": "code",
   "execution_count": 27,
   "metadata": {},
   "outputs": [
    {
     "data": {
      "text/plain": [
       "<Axes: title={'center': 'Total occurences of each category in the labeled dataset'}, xlabel='Number of labeled relations of a given category', ylabel='Category of relation'>"
      ]
     },
     "execution_count": 27,
     "metadata": {},
     "output_type": "execute_result"
    },
    {
     "data": {
      "image/png": "[encoded data removed]",
      "text/plain": [
       "<Figure size 1500x1000 with 1 Axes>"
      ]
     },
     "metadata": {},
     "output_type": "display_data"
    }
   ],
   "source": [
    "plt.figure(figsize=(15, 10))\n",
    "pd.Series({cat: labeled_raw_df.relations.str.count(cat).sum() for cat in relation_classes}).sort_values(ascending=True).plot.barh(xlabel=\"Number of labeled relations of a given category\", ylabel=\"Category of relation\", title=\"Total occurences of each category in the labeled dataset\")\n",
    "# pd.Series({cat: labeled_raw_df.relations.str.count(cat).sum() for cat in relation_classes}).sort_values(ascending=False)"
   ]
  },
  {
   "cell_type": "markdown",
   "metadata": {},
   "source": [
    "#### How many relations can we expect to extract from a text?"
   ]
  },
  {
   "cell_type": "code",
   "execution_count": 35,
   "metadata": {},
   "outputs": [
    {
     "name": "stdout",
     "output_type": "stream",
     "text": [
      "count    800.00000\n",
      "mean      39.33625\n",
      "std       17.50339\n",
      "min        4.00000\n",
      "25%       27.00000\n",
      "50%       37.00000\n",
      "75%       48.00000\n",
      "max      143.00000\n",
      "Name: relations, dtype: float64\n"
     ]
    },
    {
     "data": {
      "text/plain": [
       "<Axes: >"
      ]
     },
     "execution_count": 35,
     "metadata": {},
     "output_type": "execute_result"
    },
    {
     "data": {
      "image/png": "[encoded data removed]",
      "text/plain": [
       "<Figure size 640x480 with 1 Axes>"
      ]
     },
     "metadata": {},
     "output_type": "display_data"
    }
   ],
   "source": [
    "n_relations_per_text_df = labeled_clean_df.relations.map(lambda x: len(x))\n",
    "print(n_relations_per_text_df.describe())\n",
    "n_relations_per_text_df.hist()"
   ]
  },
  {
   "cell_type": "markdown",
   "metadata": {},
   "source": [
    "### All entity types"
   ]
  },
  {
   "cell_type": "code",
   "execution_count": null,
   "metadata": {},
   "outputs": [],
   "source": [
    "entity_classes = set(\n",
    "    sum(\n",
    "        labeled_clean_df.entities.apply(\n",
    "            lambda row: list({e[\"type\"] for e in row})\n",
    "        ).values.tolist(),\n",
    "        [],\n",
    "    )\n",
    ")\n",
    "print(len(entity_classes))\n",
    "entity_classes"
   ]
  },
  {
   "cell_type": "markdown",
   "metadata": {},
   "source": [
    "#### Summary stats on entity classes\n",
    "\n",
    "* entity type frequencies"
   ]
  },
  {
   "cell_type": "code",
   "execution_count": null,
   "metadata": {},
   "outputs": [],
   "source": [
    "labeled_raw_df[labeled_raw_df.entities.str.contains(\"MATERIEL\")].head()"
   ]
  },
  {
   "cell_type": "code",
   "execution_count": null,
   "metadata": {},
   "outputs": [],
   "source": [
    "plt.figure(figsize=(15, 10))\n",
    "pd.Series({cat: labeled_raw_df[labeled_raw_df.entities.str.contains(cat)].shape[0] for cat in entity_classes}).sort_values(ascending=True).plot.barh(xlabel=\"Number of texts containing the entity\", ylabel=\"Entity\")"
   ]
  },
  {
   "cell_type": "markdown",
   "metadata": {},
   "source": [
    "### Stats about the cooccurence between entity categories and relation categories\n",
    "\n",
    "TODO: For each relation category:\n",
    "- what is the number of time each entity category is e1?\n",
    "- what is the number of time each entity category is e2?\n",
    "- what pairs of entity categories are never into a relation?"
   ]
  },
  {
   "cell_type": "code",
   "execution_count": null,
   "metadata": {},
   "outputs": [],
   "source": [
    "labeled_clean_df.values"
   ]
  },
  {
   "cell_type": "code",
   "execution_count": null,
   "metadata": {},
   "outputs": [],
   "source": [
    "\n",
    "entity_relation_cat_df  = pd.concat(\n",
    "    [\n",
    "        pd.DataFrame([[text_entities[e1_id][\"type\"], r_cat, text_entities[e2_id][\"type\"]] for e1_id, r_cat, e2_id in text_relations], columns=[\"e1_cat\", \"r_cat\", \"e2_cat\"])\n",
    "        for text, text_entities, text_relations in labeled_clean_df.values\n",
    "    ],\n",
    "    axis=0\n",
    ")\n",
    "logging.info(f\"{entity_relation_cat_df.shape=}\")\n",
    "entity_relation_cat_df.head()"
   ]
  },
  {
   "cell_type": "code",
   "execution_count": null,
   "metadata": {},
   "outputs": [],
   "source": [
    "print(len(relation_classes), relation_classes)\n",
    "print(len(entity_classes), entity_classes)"
   ]
  },
  {
   "cell_type": "code",
   "execution_count": null,
   "metadata": {},
   "outputs": [],
   "source": [
    "entity_relation_cat_df.query(\"r_cat=='HAS_CONTROL_OVER'\").e1_cat.value_counts(normalize=True)"
   ]
  },
  {
   "cell_type": "code",
   "execution_count": null,
   "metadata": {},
   "outputs": [],
   "source": [
    "entity_relation_cat_df.query(\"r_cat=='HAS_CONTROL_OVER'\").e2_cat.value_counts(normalize=True)"
   ]
  },
  {
   "cell_type": "markdown",
   "metadata": {},
   "source": [
    "#### For a relation, how many times is an entity category e1 or e2?"
   ]
  },
  {
   "cell_type": "code",
   "execution_count": null,
   "metadata": {},
   "outputs": [],
   "source": [
    "# plt.figure(figsize=(15, 10))\n",
    "df = pd.concat([entity_relation_cat_df.value_counts(normalize=False), entity_relation_cat_df.value_counts(normalize=True)], axis=1).reset_index(drop=False)\n",
    "n_relation_classes = len(relation_classes)\n",
    "n_entity_classes = len(entity_classes)\n",
    "logging.info(f\"{df.shape[0]} existing relations vs. {n_entity_classes * n_relation_classes * n_entity_classes=} imaginable relations !\")\n",
    "df.to_csv(os.path.join(EDA_DIR, \"e1_cat-r_cat-e2_cat-freq.csv\")) #.plot.barh()\n",
    "df"
   ]
  },
  {
   "cell_type": "code",
   "execution_count": null,
   "metadata": {},
   "outputs": [],
   "source": [
    "entity_relation_cat_df.query(\"r_cat=='STARTED_IN'\").drop(\"r_cat\", axis=1).value_counts().rename(\"count_STARTED_IN\")"
   ]
  },
  {
   "cell_type": "code",
   "execution_count": null,
   "metadata": {},
   "outputs": [],
   "source": [
    "entity_relation_cat_df.query(\"r_cat=='WAS_CREATED_IN'\").drop(\"r_cat\", axis=1).value_counts()"
   ]
  },
  {
   "cell_type": "code",
   "execution_count": null,
   "metadata": {},
   "outputs": [],
   "source": [
    "entity_relation_cat_df.query(\"e2_cat=='TIME_EXACT'\").drop([\"e1_cat\", \"e2_cat\"], axis=1).value_counts()"
   ]
  },
  {
   "cell_type": "code",
   "execution_count": null,
   "metadata": {},
   "outputs": [],
   "source": [
    "entity_relation_cat_df.query(\"e2_cat=='TIME_FUZZY'\").drop([\"e1_cat\", \"e2_cat\"], axis=1).value_counts()"
   ]
  },
  {
   "cell_type": "code",
   "execution_count": null,
   "metadata": {},
   "outputs": [],
   "source": [
    "# number of relation categories between a pair of entity categories\n",
    "entity_relation_cat_df.drop_duplicates().groupby([\"e1_cat\", \"e2_cat\"]).count().sort_values(by=\"r_cat\")"
   ]
  },
  {
   "cell_type": "markdown",
   "metadata": {},
   "source": [
    "#### what pairs of entity categories are in any relationship in the train dataset?"
   ]
  },
  {
   "cell_type": "code",
   "execution_count": null,
   "metadata": {},
   "outputs": [],
   "source": [
    "entity_cat_pair_in_relation_df = entity_relation_cat_df[[\"e1_cat\", \"e2_cat\"]]#.drop_duplicates(subset=[\"e1_cat\", \"e2_cat\"])\n",
    "entity_cat_pair_in_relation_df"
   ]
  },
  {
   "cell_type": "code",
   "execution_count": null,
   "metadata": {},
   "outputs": [],
   "source": [
    "df = pd.concat([entity_cat_pair_in_relation_df.value_counts(normalize=False), entity_cat_pair_in_relation_df.value_counts(normalize=True)], axis=1).reset_index(drop=False)\n",
    "n_entity_classes = len(entity_classes)\n",
    "logging.info(f\"{df.shape[0]} existing entity category pairs in relation vs. {n_entity_classes * n_entity_classes=} imaginable entity category pairs !\")\n",
    "df.to_csv(os.path.join(EDA_DIR, \"e1_cat-e2_cat-freq.csv\")) #.plot.barh()\n",
    "df"
   ]
  },
  {
   "cell_type": "markdown",
   "metadata": {},
   "source": [
    "### How many times the relation involves 2 entities of the same type?"
   ]
  },
  {
   "cell_type": "code",
   "execution_count": null,
   "metadata": {},
   "outputs": [],
   "source": [
    "e1_cat_equal_e2_cat_df = entity_cat_pair_in_relation_df.query(\"e1_cat==e2_cat\")\n",
    "e1_cat_equal_e2_cat_df"
   ]
  },
  {
   "cell_type": "code",
   "execution_count": null,
   "metadata": {},
   "outputs": [],
   "source": [
    "df = pd.concat([e1_cat_equal_e2_cat_df.value_counts(normalize=False), e1_cat_equal_e2_cat_df.value_counts(normalize=True)], axis=1).reset_index(drop=False)\n",
    "n_entity_classes = len(entity_classes)\n",
    "logging.info(f\"{df.shape[0]} existing entity of identical categories in relation vs. {n_entity_classes=} imaginable entity category !\")\n",
    "df.to_csv(os.path.join(EDA_DIR, \"e1_cat-equal-e2_cat-freq.csv\")) #.plot.barh()\n",
    "df"
   ]
  },
  {
   "cell_type": "code",
   "execution_count": null,
   "metadata": {},
   "outputs": [],
   "source": [
    "per_r_cat_e1_cat_equal_e2_cat_df = entity_relation_cat_df.query(\"e1_cat==e2_cat\")\n",
    "per_r_cat_e1_cat_equal_e2_cat_df"
   ]
  },
  {
   "cell_type": "code",
   "execution_count": null,
   "metadata": {},
   "outputs": [],
   "source": [
    "df = pd.concat([per_r_cat_e1_cat_equal_e2_cat_df.value_counts(normalize=False), per_r_cat_e1_cat_equal_e2_cat_df.value_counts(normalize=True)], axis=1).reset_index(drop=False)\n",
    "n_entity_classes = len(entity_classes)\n",
    "logging.info(f\"{df.shape[0]} existing entity of identical categories in relation vs. {n_entity_classes=} imaginable entity category !\")\n",
    "df.to_csv(os.path.join(EDA_DIR, \"per_r_cat-e1_cat-equal-e2_cat_df-freq.csv\")) #.plot.barh()\n",
    "df"
   ]
  },
  {
   "cell_type": "markdown",
   "metadata": {},
   "source": [
    "#### what pairs of entity categories never have any relationship?\n",
    "\n",
    "- we don't need to attempt to classify pairs of entities of these types"
   ]
  },
  {
   "cell_type": "code",
   "execution_count": null,
   "metadata": {},
   "outputs": [],
   "source": [
    "all_possible_entity_cat_pairs_df = pd.DataFrame([[e1_cat, e2_cat] for (e1_cat, e2_cat) in itertools.product(*[list(entity_classes)]*2)], columns=[\"e1_cat\", \"e2_cat\"]).set_index([\"e1_cat\", \"e2_cat\"])\n",
    "all_possible_entity_cat_pairs_df"
   ]
  },
  {
   "cell_type": "code",
   "execution_count": null,
   "metadata": {},
   "outputs": [],
   "source": [
    "entity_cat_pair_in_relation_df.drop_duplicates().set_index([\"e1_cat\", \"e2_cat\"])"
   ]
  },
  {
   "cell_type": "code",
   "execution_count": null,
   "metadata": {},
   "outputs": [],
   "source": [
    "entity_pairs_never_in_relation_df = pd.DataFrame(index=all_possible_entity_cat_pairs_df.index.difference(entity_cat_pair_in_relation_df.drop_duplicates().set_index([\"e1_cat\", \"e2_cat\"]).index)).reset_index(drop=False)\n",
    "entity_pairs_never_in_relation_df.to_csv(os.path.join(EDA_DIR, \"entity_pairs_never_in_relation.csv\"))\n",
    "entity_pairs_never_in_relation_df"
   ]
  },
  {
   "cell_type": "markdown",
   "metadata": {},
   "source": [
    "### Text length"
   ]
  },
  {
   "cell_type": "markdown",
   "metadata": {},
   "source": [
    "#### Number of chars"
   ]
  },
  {
   "cell_type": "code",
   "execution_count": null,
   "metadata": {},
   "outputs": [],
   "source": [
    "pd.DataFrame(\n",
    "    {\n",
    "        set_name: df.text.apply(len).describe()\n",
    "        for set_name, df in zip(\n",
    "            [\"labeled\", \"test\"],\n",
    "            [labeled_clean_df, test_clean_df],\n",
    "        )\n",
    "    }\n",
    ").plot.bar()"
   ]
  },
  {
   "cell_type": "markdown",
   "metadata": {},
   "source": [
    "#### Number of tokens (subwords from CamemBERT tokenizer)"
   ]
  },
  {
   "cell_type": "code",
   "execution_count": null,
   "metadata": {},
   "outputs": [],
   "source": [
    "pd.DataFrame(\n",
    "    {\n",
    "        set_name: df.text.apply(count_tokens).describe()\n",
    "        for set_name, df in zip(\n",
    "            [\"labeled\", \"test\"],\n",
    "            [labeled_clean_df, test_clean_df],\n",
    "        )\n",
    "    }\n",
    ").plot.bar()"
   ]
  },
  {
   "cell_type": "markdown",
   "metadata": {},
   "source": [
    "## Generate interim datasets\n",
    "\n",
    "for each text, generate a csv file containing all the generated texts annotated as a multilabeled Text classification task\n",
    "\n",
    "The csv file is named after the index of the text in the raw data\n"
   ]
  },
  {
   "cell_type": "code",
   "execution_count": null,
   "metadata": {},
   "outputs": [],
   "source": [
    "excluded_entity_pairs = entity_pairs_never_in_relation_df.set_index(['e1_cat', 'e2_cat']).index.to_list()\n",
    "excluded_entity_pairs"
   ]
  },
  {
   "cell_type": "code",
   "execution_count": null,
   "metadata": {},
   "outputs": [],
   "source": [
    "data_generator = TextToMultiLabelDataGenerator(excluded_entity_pairs=excluded_entity_pairs)\n",
    "# data_generator = TextToMultiLabelDataGenerator(excluded_entity_pairs=[])\n",
    "entity_pair_to_relations_df = data_generator.convert_relations_to_dataframe(labeled_clean_df.relations.loc[181])\n",
    "entity_pair_to_relations_df"
   ]
  },
  {
   "cell_type": "code",
   "execution_count": null,
   "metadata": {},
   "outputs": [],
   "source": [
    "(\"ACCIDENT\", \"ACCIDENT\") not in excluded_entity_pairs"
   ]
  },
  {
   "cell_type": "code",
   "execution_count": null,
   "metadata": {},
   "outputs": [],
   "source": [
    "generated_data_dir_path = os.path.join(INTERIM_DIR, \"multilabel_tagged_text_dataset\")\n",
    "# assert not os.path.exists(\n",
    "#     generated_data_dir_path\n",
    "# ), f\"You must delete this folder first {generated_data_dir_path}!\"\n",
    "\n",
    "data_generator = TextToMultiLabelDataGenerator(excluded_entity_pairs=excluded_entity_pairs)\n",
    "\n",
    "for split_name, clean_df in zip(\n",
    "    [\"train\", \"test\"],\n",
    "    [labeled_clean_df, test_clean_df],\n",
    "):\n",
    "    dest_dir_path = os.path.join(generated_data_dir_path, split_name)\n",
    "    for multilabel_data in (\n",
    "        pb := tqdm(\n",
    "            # data_generator.generate_row_multilabel_data(clean_df, only_w_relation=True if split_name!=\"test\" else False),\n",
    "            data_generator.generate_row_multilabel_data(clean_df, only_w_relation=False),\n",
    "            total=clean_df.shape[0],\n",
    "            desc=f\"{dest_dir_path} <- \",\n",
    "        )\n",
    "    ):\n",
    "        text_index = multilabel_data.iloc[0][data_generator.text_index_col]\n",
    "        dest_csv_file = os.path.join(dest_dir_path, f\"{text_index}.csv\")\n",
    "        pb.set_description(f\"{dest_csv_file} <-\")\n",
    "        save_data(multilabel_data, dest_csv_file, False)\n",
    "        # break\n",
    "    # break\n",
    "multilabel_data"
   ]
  },
  {
   "cell_type": "markdown",
   "metadata": {},
   "source": [
    "## Check tagged text size using a  data loader to load data from csv files\n",
    "\n",
    "to know wether the will fit at the input of the model (i.e. max of 512 tokens)"
   ]
  },
  {
   "cell_type": "markdown",
   "metadata": {},
   "source": [
    "##### add special tokens to the tokenizer"
   ]
  },
  {
   "cell_type": "code",
   "execution_count": null,
   "metadata": {},
   "outputs": [],
   "source": [
    "# define special tokens to add to the tokenizer\n",
    "task_special_tokens = [\"<e1>\", \"</e1>\", \"<e2>\", \"</e2>\"] + [\n",
    "    f\"<{entity_class}>\" for entity_class in entity_classes\n",
    "]\n",
    "# task_special_tokens"
   ]
  },
  {
   "cell_type": "code",
   "execution_count": null,
   "metadata": {},
   "outputs": [],
   "source": [
    "# add special tokens to the tokenizer\n",
    "num_added_tokens = tokenizer.add_tokens(task_special_tokens, special_tokens=True)\n",
    "num_added_tokens"
   ]
  },
  {
   "cell_type": "code",
   "execution_count": null,
   "metadata": {},
   "outputs": [],
   "source": [
    "tokenizer"
   ]
  },
  {
   "cell_type": "markdown",
   "metadata": {},
   "source": [
    "### initialize the data loader"
   ]
  },
  {
   "cell_type": "code",
   "execution_count": null,
   "metadata": {},
   "outputs": [],
   "source": [
    "interim_dataset = load_dataset(\n",
    "    \"csv\",\n",
    "    name=\"multilabel_tagged_text_dataset\",\n",
    "    data_dir=\"data/defi-text-mine-2025/interim/multilabel_tagged_text_dataset/\",\n",
    "    streaming=False,\n",
    ")"
   ]
  },
  {
   "cell_type": "code",
   "execution_count": null,
   "metadata": {},
   "outputs": [],
   "source": [
    "interim_dataset"
   ]
  },
  {
   "cell_type": "code",
   "execution_count": null,
   "metadata": {},
   "outputs": [],
   "source": [
    "interim_dataset[\"train\"][0]"
   ]
  },
  {
   "cell_type": "code",
   "execution_count": null,
   "metadata": {},
   "outputs": [],
   "source": [
    "interim_dataset[\"train\"][1]"
   ]
  },
  {
   "cell_type": "code",
   "execution_count": null,
   "metadata": {},
   "outputs": [],
   "source": [
    "interim_dataset[\"test\"][7]"
   ]
  },
  {
   "cell_type": "markdown",
   "metadata": {},
   "source": [
    "### Count tokens"
   ]
  },
  {
   "cell_type": "code",
   "execution_count": null,
   "metadata": {},
   "outputs": [],
   "source": [
    "def count_token_in_dataset_element(example: Dict[str, Any]) -> Dict[str, int]:\n",
    "    return {\"n_tokens\": count_tokens(example[\"text\"])}\n",
    "\n",
    "\n",
    "interim_dataset = interim_dataset.map(count_token_in_dataset_element)\n",
    "interim_dataset"
   ]
  },
  {
   "cell_type": "code",
   "execution_count": null,
   "metadata": {},
   "outputs": [],
   "source": [
    "split2ntokens_df = pd.DataFrame(\n",
    "    {\n",
    "        split_name: pd.Series(\n",
    "            [e[\"n_tokens\"] for e in tqdm(interim_dataset[split_name], split_name)],\n",
    "            name=f\"{split_name}_text_n_tokens\",\n",
    "        )\n",
    "        for split_name in interim_dataset.keys()\n",
    "    }\n",
    ")\n",
    "split2ntokens_df.describe()"
   ]
  },
  {
   "cell_type": "code",
   "execution_count": null,
   "metadata": {},
   "outputs": [],
   "source": [
    "split2ntokens_df.hist()"
   ]
  },
  {
   "cell_type": "code",
   "execution_count": null,
   "metadata": {},
   "outputs": [],
   "source": [
    "interim_dataset[\"train\"][0]"
   ]
  }
 ],
 "metadata": {
  "kernelspec": {
   "display_name": "kgl11",
   "language": "python",
   "name": "python3"
  },
  "language_info": {
   "codemirror_mode": {
    "name": "ipython",
    "version": 3
   },
   "file_extension": ".py",
   "mimetype": "text/x-python",
   "name": "python",
   "nbconvert_exporter": "python",
   "pygments_lexer": "ipython3",
   "version": "3.11.8"
  }
 },
 "nbformat": 4,
 "nbformat_minor": 2
}
