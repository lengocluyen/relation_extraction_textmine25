{
 "cells": [
  {
   "cell_type": "markdown",
   "metadata": {},
   "source": [
    "# Exploratory Data Analysis"
   ]
  },
  {
   "cell_type": "markdown",
   "metadata": {},
   "source": [
    "## Imports and constants"
   ]
  },
  {
   "cell_type": "code",
   "execution_count": 1,
   "metadata": {},
   "outputs": [
    {
     "name": "stderr",
     "output_type": "stream",
     "text": [
      "[07:45:01|INFO|config.py:58] PyTorch version 2.3.1 available.\n",
      "[07:45:01|INFO|config.py:105] TensorFlow version 2.16.2 available.\n",
      "/home/tagny/.pyenv/versions/3.11.8/envs/kgl11/lib/python3.11/site-packages/huggingface_hub/file_download.py:1132: FutureWarning: `resume_download` is deprecated and will be removed in version 1.0.0. Downloads always resume when possible. If you want to force a new download, use `force_download=True`.\n",
      "  warnings.warn(\n"
     ]
    }
   ],
   "source": [
    "%load_ext autoreload\n",
    "%autoreload 2\n",
    "\n",
    "import os\n",
    "from typing import Dict, Any\n",
    "import logging \n",
    "\n",
    "logging.basicConfig(\n",
    "     level=logging.INFO, \n",
    "     format= '[%(asctime)s|%(levelname)s|%(module)s.py:%(lineno)s] %(message)s',\n",
    "     datefmt='%H:%M:%S'\n",
    " )\n",
    "import itertools\n",
    "import pandas as pd\n",
    "import matplotlib.pyplot as plt\n",
    "from tqdm import tqdm\n",
    "# Create new `pandas` methods which use `tqdm` progress\n",
    "# (can use tqdm_gui, optional kwargs, etc.)\n",
    "tqdm.pandas()\n",
    "from transformers import AutoTokenizer\n",
    "from datasets import load_dataset\n",
    "\n",
    "from defi_textmine_2025.data.problem_formulation import (    \n",
    "    TextToMultiLabelDataGenerator,\n",
    "    TwoSentenceReplacingMentionsMultiLabelDataGenerator\n",
    ")\n",
    "from defi_textmine_2025.data.utils import (\n",
    "    load_labeled_raw_data,\n",
    "    load_test_raw_data,\n",
    "    clean_raw_dataset,\n",
    "    print_value_types,\n",
    "    save_data,\n",
    "    convert_text_to_entity_spans\n",
    ")\n",
    "from defi_textmine_2025.data.utils import TARGET_COL, INPUT_COLS, INTERIM_DIR, EDA_DIR\n",
    "\n",
    "VALIDATION_RATE = 0.25\n",
    "BASE_CHECKPOINT = \"camembert/camembert-base\"\n",
    "\n",
    "tokenizer = AutoTokenizer.from_pretrained(BASE_CHECKPOINT)\n",
    "def count_tokens(text: str) -> int:\n",
    "    return len(tokenizer(text)[\"input_ids\"])"
   ]
  },
  {
   "cell_type": "markdown",
   "metadata": {},
   "source": [
    "## Loading data"
   ]
  },
  {
   "cell_type": "code",
   "execution_count": 2,
   "metadata": {},
   "outputs": [
    {
     "data": {
      "text/html": [
       "<div>\n",
       "<style scoped>\n",
       "    .dataframe tbody tr th:only-of-type {\n",
       "        vertical-align: middle;\n",
       "    }\n",
       "\n",
       "    .dataframe tbody tr th {\n",
       "        vertical-align: top;\n",
       "    }\n",
       "\n",
       "    .dataframe thead th {\n",
       "        text-align: right;\n",
       "    }\n",
       "</style>\n",
       "<table border=\"1\" class=\"dataframe\">\n",
       "  <thead>\n",
       "    <tr style=\"text-align: right;\">\n",
       "      <th></th>\n",
       "      <th>text</th>\n",
       "      <th>entities</th>\n",
       "      <th>relations</th>\n",
       "    </tr>\n",
       "    <tr>\n",
       "      <th>id</th>\n",
       "      <th></th>\n",
       "      <th></th>\n",
       "      <th></th>\n",
       "    </tr>\n",
       "  </thead>\n",
       "  <tbody>\n",
       "    <tr>\n",
       "      <th>181</th>\n",
       "      <td>Anam Destresse, président de l'ONG \"Ma passion...</td>\n",
       "      <td>[{\"id\": 0, \"mentions\": [{\"value\": \"accident\", ...</td>\n",
       "      <td>[[0, \"STARTED_IN\", 9], [7, \"IS_LOCATED_IN\", 9]...</td>\n",
       "    </tr>\n",
       "    <tr>\n",
       "      <th>31669</th>\n",
       "      <td>À Paris, le 8 avril 2022, l'usine de déodorant...</td>\n",
       "      <td>[{\"id\": 0, \"mentions\": [{\"value\": \"explosé\", \"...</td>\n",
       "      <td>[[9, \"IS_LOCATED_IN\", 8], [11, \"OPERATES_IN\", ...</td>\n",
       "    </tr>\n",
       "    <tr>\n",
       "      <th>51470</th>\n",
       "      <td>En Espagne, dans une région agricole, une cont...</td>\n",
       "      <td>[{\"id\": 0, \"mentions\": [{\"value\": \"contaminati...</td>\n",
       "      <td>[[7, \"IS_PART_OF\", 8], [9, \"OPERATES_IN\", 1], ...</td>\n",
       "    </tr>\n",
       "    <tr>\n",
       "      <th>51332</th>\n",
       "      <td>Un important incendie a fait des ravages dans ...</td>\n",
       "      <td>[{\"id\": 0, \"mentions\": [{\"value\": \"incendie\", ...</td>\n",
       "      <td>[[12, \"IS_IN_CONTACT_WITH\", 5], [0, \"IS_LOCATE...</td>\n",
       "    </tr>\n",
       "    <tr>\n",
       "      <th>1131</th>\n",
       "      <td>« Je coule » : onze heures après avoir envoyé ...</td>\n",
       "      <td>[{\"id\": 0, \"mentions\": [{\"value\": \"renversé\", ...</td>\n",
       "      <td>[[9, \"IS_LOCATED_IN\", 2], [0, \"START_DATE\", 17...</td>\n",
       "    </tr>\n",
       "    <tr>\n",
       "      <th>...</th>\n",
       "      <td>...</td>\n",
       "      <td>...</td>\n",
       "      <td>...</td>\n",
       "    </tr>\n",
       "    <tr>\n",
       "      <th>1288</th>\n",
       "      <td>M. Thibault Alekseï, membre de l'association \"...</td>\n",
       "      <td>[{\"id\": 0, \"mentions\": [{\"value\": \"perdu le co...</td>\n",
       "      <td>[[2, \"IS_PART_OF\", 3], [12, \"IS_IN_CONTACT_WIT...</td>\n",
       "    </tr>\n",
       "    <tr>\n",
       "      <th>3822</th>\n",
       "      <td>Des employés d'une usine de production médical...</td>\n",
       "      <td>[{\"id\": 0, \"mentions\": [{\"value\": \"grève\", \"st...</td>\n",
       "      <td>[[8, \"HAS_CONTROL_OVER\", 7], [4, \"HAS_CATEGORY...</td>\n",
       "    </tr>\n",
       "    <tr>\n",
       "      <th>51266</th>\n",
       "      <td>Le 13 mars 2001, Belgrade a connu un krach bou...</td>\n",
       "      <td>[{\"id\": 0, \"mentions\": [{\"value\": \"krach bours...</td>\n",
       "      <td>[[1, \"STARTED_IN\", 3], [10, \"IS_PART_OF\", 4], ...</td>\n",
       "    </tr>\n",
       "    <tr>\n",
       "      <th>51368</th>\n",
       "      <td>L'incendie du laboratoire \"FileGen\" a eu lieu ...</td>\n",
       "      <td>[{\"id\": 0, \"mentions\": [{\"value\": \"incendie\", ...</td>\n",
       "      <td>[[1, \"HAS_CONTROL_OVER\", 3], [7, \"IS_LOCATED_I...</td>\n",
       "    </tr>\n",
       "    <tr>\n",
       "      <th>124</th>\n",
       "      <td>L’avion NY8 de la compagnie Airîle a lancé sa ...</td>\n",
       "      <td>[{\"id\": 0, \"mentions\": [{\"value\": \"crasher\", \"...</td>\n",
       "      <td>[[14, \"HAS_CATEGORY\", 22], [10, \"OPERATES_IN\",...</td>\n",
       "    </tr>\n",
       "  </tbody>\n",
       "</table>\n",
       "<p>800 rows × 3 columns</p>\n",
       "</div>"
      ],
      "text/plain": [
       "                                                    text  \\\n",
       "id                                                         \n",
       "181    Anam Destresse, président de l'ONG \"Ma passion...   \n",
       "31669  À Paris, le 8 avril 2022, l'usine de déodorant...   \n",
       "51470  En Espagne, dans une région agricole, une cont...   \n",
       "51332  Un important incendie a fait des ravages dans ...   \n",
       "1131   « Je coule » : onze heures après avoir envoyé ...   \n",
       "...                                                  ...   \n",
       "1288   M. Thibault Alekseï, membre de l'association \"...   \n",
       "3822   Des employés d'une usine de production médical...   \n",
       "51266  Le 13 mars 2001, Belgrade a connu un krach bou...   \n",
       "51368  L'incendie du laboratoire \"FileGen\" a eu lieu ...   \n",
       "124    L’avion NY8 de la compagnie Airîle a lancé sa ...   \n",
       "\n",
       "                                                entities  \\\n",
       "id                                                         \n",
       "181    [{\"id\": 0, \"mentions\": [{\"value\": \"accident\", ...   \n",
       "31669  [{\"id\": 0, \"mentions\": [{\"value\": \"explosé\", \"...   \n",
       "51470  [{\"id\": 0, \"mentions\": [{\"value\": \"contaminati...   \n",
       "51332  [{\"id\": 0, \"mentions\": [{\"value\": \"incendie\", ...   \n",
       "1131   [{\"id\": 0, \"mentions\": [{\"value\": \"renversé\", ...   \n",
       "...                                                  ...   \n",
       "1288   [{\"id\": 0, \"mentions\": [{\"value\": \"perdu le co...   \n",
       "3822   [{\"id\": 0, \"mentions\": [{\"value\": \"grève\", \"st...   \n",
       "51266  [{\"id\": 0, \"mentions\": [{\"value\": \"krach bours...   \n",
       "51368  [{\"id\": 0, \"mentions\": [{\"value\": \"incendie\", ...   \n",
       "124    [{\"id\": 0, \"mentions\": [{\"value\": \"crasher\", \"...   \n",
       "\n",
       "                                               relations  \n",
       "id                                                        \n",
       "181    [[0, \"STARTED_IN\", 9], [7, \"IS_LOCATED_IN\", 9]...  \n",
       "31669  [[9, \"IS_LOCATED_IN\", 8], [11, \"OPERATES_IN\", ...  \n",
       "51470  [[7, \"IS_PART_OF\", 8], [9, \"OPERATES_IN\", 1], ...  \n",
       "51332  [[12, \"IS_IN_CONTACT_WITH\", 5], [0, \"IS_LOCATE...  \n",
       "1131   [[9, \"IS_LOCATED_IN\", 2], [0, \"START_DATE\", 17...  \n",
       "...                                                  ...  \n",
       "1288   [[2, \"IS_PART_OF\", 3], [12, \"IS_IN_CONTACT_WIT...  \n",
       "3822   [[8, \"HAS_CONTROL_OVER\", 7], [4, \"HAS_CATEGORY...  \n",
       "51266  [[1, \"STARTED_IN\", 3], [10, \"IS_PART_OF\", 4], ...  \n",
       "51368  [[1, \"HAS_CONTROL_OVER\", 3], [7, \"IS_LOCATED_I...  \n",
       "124    [[14, \"HAS_CATEGORY\", 22], [10, \"OPERATES_IN\",...  \n",
       "\n",
       "[800 rows x 3 columns]"
      ]
     },
     "execution_count": 2,
     "metadata": {},
     "output_type": "execute_result"
    }
   ],
   "source": [
    "labeled_raw_df = load_labeled_raw_data()\n",
    "labeled_raw_df"
   ]
  },
  {
   "cell_type": "code",
   "execution_count": 3,
   "metadata": {},
   "outputs": [
    {
     "data": {
      "text/html": [
       "<div>\n",
       "<style scoped>\n",
       "    .dataframe tbody tr th:only-of-type {\n",
       "        vertical-align: middle;\n",
       "    }\n",
       "\n",
       "    .dataframe tbody tr th {\n",
       "        vertical-align: top;\n",
       "    }\n",
       "\n",
       "    .dataframe thead th {\n",
       "        text-align: right;\n",
       "    }\n",
       "</style>\n",
       "<table border=\"1\" class=\"dataframe\">\n",
       "  <thead>\n",
       "    <tr style=\"text-align: right;\">\n",
       "      <th></th>\n",
       "      <th>text</th>\n",
       "      <th>entities</th>\n",
       "    </tr>\n",
       "    <tr>\n",
       "      <th>id</th>\n",
       "      <th></th>\n",
       "      <th></th>\n",
       "    </tr>\n",
       "  </thead>\n",
       "  <tbody>\n",
       "    <tr>\n",
       "      <th>1204</th>\n",
       "      <td>“FEAR” est une organisation spécialisée dans l...</td>\n",
       "      <td>[{\"id\": 0, \"mentions\": [{\"value\": \"crash\", \"st...</td>\n",
       "    </tr>\n",
       "    <tr>\n",
       "      <th>4909</th>\n",
       "      <td>48 heures après le braquage du \"DC Supermarket...</td>\n",
       "      <td>[{\"id\": 0, \"mentions\": [{\"value\": \"DC Supermar...</td>\n",
       "    </tr>\n",
       "    <tr>\n",
       "      <th>2353</th>\n",
       "      <td>À Genève, la boîte de nuit \"Pretty Woman\" a en...</td>\n",
       "      <td>[{\"id\": 0, \"mentions\": [{\"value\": \"tombé\", \"st...</td>\n",
       "    </tr>\n",
       "    <tr>\n",
       "      <th>1210</th>\n",
       "      <td>À Caracas, l'an dernier, une mine située à l'o...</td>\n",
       "      <td>[{\"id\": 0, \"mentions\": [{\"value\": \"effondremen...</td>\n",
       "    </tr>\n",
       "    <tr>\n",
       "      <th>41948</th>\n",
       "      <td>À Genève, une industrie de fabrication d'arbre...</td>\n",
       "      <td>[{\"id\": 0, \"mentions\": [{\"value\": \"incendiée\",...</td>\n",
       "    </tr>\n",
       "    <tr>\n",
       "      <th>...</th>\n",
       "      <td>...</td>\n",
       "      <td>...</td>\n",
       "    </tr>\n",
       "    <tr>\n",
       "      <th>51452</th>\n",
       "      <td>Le WOOP, une organisation mondiale, avait prop...</td>\n",
       "      <td>[{\"id\": 0, \"mentions\": [{\"value\": \"épidémie\", ...</td>\n",
       "    </tr>\n",
       "    <tr>\n",
       "      <th>51491</th>\n",
       "      <td>Madame Pautrat Elina, dirigeante de l’associat...</td>\n",
       "      <td>[{\"id\": 0, \"mentions\": [{\"value\": \"pollution\",...</td>\n",
       "    </tr>\n",
       "    <tr>\n",
       "      <th>51492</th>\n",
       "      <td>Monsieur Elirone Trameur, membre de l’associat...</td>\n",
       "      <td>[{\"id\": 0, \"mentions\": [{\"value\": \"pollution\",...</td>\n",
       "    </tr>\n",
       "    <tr>\n",
       "      <th>51495</th>\n",
       "      <td>Monsieur Elouen Pereira a été arrêté au volant...</td>\n",
       "      <td>[{\"id\": 0, \"mentions\": [{\"value\": \"arrêté\", \"s...</td>\n",
       "    </tr>\n",
       "    <tr>\n",
       "      <th>51742</th>\n",
       "      <td>Depuis le début du mois de décembre, des champ...</td>\n",
       "      <td>[{\"id\": 0, \"mentions\": [{\"value\": \"contrefaits...</td>\n",
       "    </tr>\n",
       "  </tbody>\n",
       "</table>\n",
       "<p>400 rows × 2 columns</p>\n",
       "</div>"
      ],
      "text/plain": [
       "                                                    text  \\\n",
       "id                                                         \n",
       "1204   “FEAR” est une organisation spécialisée dans l...   \n",
       "4909   48 heures après le braquage du \"DC Supermarket...   \n",
       "2353   À Genève, la boîte de nuit \"Pretty Woman\" a en...   \n",
       "1210   À Caracas, l'an dernier, une mine située à l'o...   \n",
       "41948  À Genève, une industrie de fabrication d'arbre...   \n",
       "...                                                  ...   \n",
       "51452  Le WOOP, une organisation mondiale, avait prop...   \n",
       "51491  Madame Pautrat Elina, dirigeante de l’associat...   \n",
       "51492  Monsieur Elirone Trameur, membre de l’associat...   \n",
       "51495  Monsieur Elouen Pereira a été arrêté au volant...   \n",
       "51742  Depuis le début du mois de décembre, des champ...   \n",
       "\n",
       "                                                entities  \n",
       "id                                                        \n",
       "1204   [{\"id\": 0, \"mentions\": [{\"value\": \"crash\", \"st...  \n",
       "4909   [{\"id\": 0, \"mentions\": [{\"value\": \"DC Supermar...  \n",
       "2353   [{\"id\": 0, \"mentions\": [{\"value\": \"tombé\", \"st...  \n",
       "1210   [{\"id\": 0, \"mentions\": [{\"value\": \"effondremen...  \n",
       "41948  [{\"id\": 0, \"mentions\": [{\"value\": \"incendiée\",...  \n",
       "...                                                  ...  \n",
       "51452  [{\"id\": 0, \"mentions\": [{\"value\": \"épidémie\", ...  \n",
       "51491  [{\"id\": 0, \"mentions\": [{\"value\": \"pollution\",...  \n",
       "51492  [{\"id\": 0, \"mentions\": [{\"value\": \"pollution\",...  \n",
       "51495  [{\"id\": 0, \"mentions\": [{\"value\": \"arrêté\", \"s...  \n",
       "51742  [{\"id\": 0, \"mentions\": [{\"value\": \"contrefaits...  \n",
       "\n",
       "[400 rows x 2 columns]"
      ]
     },
     "execution_count": 3,
     "metadata": {},
     "output_type": "execute_result"
    }
   ],
   "source": [
    "test_raw_df = load_test_raw_data()\n",
    "test_raw_df"
   ]
  },
  {
   "cell_type": "markdown",
   "metadata": {},
   "source": [
    "## Analysing raw data"
   ]
  },
  {
   "cell_type": "markdown",
   "metadata": {},
   "source": [
    "### Check value types"
   ]
  },
  {
   "cell_type": "code",
   "execution_count": 4,
   "metadata": {},
   "outputs": [
    {
     "name": "stdout",
     "output_type": "stream",
     "text": [
      "<class 'pandas.core.frame.DataFrame'>\n",
      "Index: 800 entries, 181 to 124\n",
      "Data columns (total 3 columns):\n",
      " #   Column     Non-Null Count  Dtype \n",
      "---  ------     --------------  ----- \n",
      " 0   text       800 non-null    object\n",
      " 1   entities   800 non-null    object\n",
      " 2   relations  800 non-null    object\n",
      "dtypes: object(3)\n",
      "memory usage: 25.0+ KB\n"
     ]
    }
   ],
   "source": [
    "labeled_raw_df.info()"
   ]
  },
  {
   "cell_type": "code",
   "execution_count": 5,
   "metadata": {},
   "outputs": [
    {
     "name": "stdout",
     "output_type": "stream",
     "text": [
      "<class 'pandas.core.frame.DataFrame'>\n",
      "Index: 400 entries, 1204 to 51742\n",
      "Data columns (total 2 columns):\n",
      " #   Column    Non-Null Count  Dtype \n",
      "---  ------    --------------  ----- \n",
      " 0   text      400 non-null    object\n",
      " 1   entities  400 non-null    object\n",
      "dtypes: object(2)\n",
      "memory usage: 9.4+ KB\n"
     ]
    }
   ],
   "source": [
    "test_raw_df.info()"
   ]
  },
  {
   "cell_type": "code",
   "execution_count": 6,
   "metadata": {},
   "outputs": [
    {
     "name": "stdout",
     "output_type": "stream",
     "text": [
      "text <class 'str'>\n",
      "entities <class 'str'>\n",
      "relations <class 'str'>\n"
     ]
    }
   ],
   "source": [
    "# types of values in train data\n",
    "print_value_types(labeled_raw_df)"
   ]
  },
  {
   "cell_type": "code",
   "execution_count": 7,
   "metadata": {},
   "outputs": [
    {
     "name": "stdout",
     "output_type": "stream",
     "text": [
      "text <class 'str'>\n",
      "entities <class 'str'>\n"
     ]
    }
   ],
   "source": [
    "# types of values in test data\n",
    "print_value_types(test_raw_df)"
   ]
  },
  {
   "cell_type": "markdown",
   "metadata": {},
   "source": [
    "### Check for duplicated rows"
   ]
  },
  {
   "cell_type": "code",
   "execution_count": 8,
   "metadata": {},
   "outputs": [
    {
     "data": {
      "text/html": [
       "<div>\n",
       "<style scoped>\n",
       "    .dataframe tbody tr th:only-of-type {\n",
       "        vertical-align: middle;\n",
       "    }\n",
       "\n",
       "    .dataframe tbody tr th {\n",
       "        vertical-align: top;\n",
       "    }\n",
       "\n",
       "    .dataframe thead th {\n",
       "        text-align: right;\n",
       "    }\n",
       "</style>\n",
       "<table border=\"1\" class=\"dataframe\">\n",
       "  <thead>\n",
       "    <tr style=\"text-align: right;\">\n",
       "      <th></th>\n",
       "      <th>text</th>\n",
       "      <th>entities</th>\n",
       "      <th>relations</th>\n",
       "    </tr>\n",
       "    <tr>\n",
       "      <th>id</th>\n",
       "      <th></th>\n",
       "      <th></th>\n",
       "      <th></th>\n",
       "    </tr>\n",
       "  </thead>\n",
       "  <tbody>\n",
       "  </tbody>\n",
       "</table>\n",
       "</div>"
      ],
      "text/plain": [
       "Empty DataFrame\n",
       "Columns: [text, entities, relations]\n",
       "Index: []"
      ]
     },
     "execution_count": 8,
     "metadata": {},
     "output_type": "execute_result"
    }
   ],
   "source": [
    "labeled_raw_df[labeled_raw_df.duplicated()]"
   ]
  },
  {
   "cell_type": "code",
   "execution_count": 9,
   "metadata": {},
   "outputs": [
    {
     "data": {
      "text/html": [
       "<div>\n",
       "<style scoped>\n",
       "    .dataframe tbody tr th:only-of-type {\n",
       "        vertical-align: middle;\n",
       "    }\n",
       "\n",
       "    .dataframe tbody tr th {\n",
       "        vertical-align: top;\n",
       "    }\n",
       "\n",
       "    .dataframe thead th {\n",
       "        text-align: right;\n",
       "    }\n",
       "</style>\n",
       "<table border=\"1\" class=\"dataframe\">\n",
       "  <thead>\n",
       "    <tr style=\"text-align: right;\">\n",
       "      <th></th>\n",
       "      <th>text</th>\n",
       "      <th>entities</th>\n",
       "    </tr>\n",
       "    <tr>\n",
       "      <th>id</th>\n",
       "      <th></th>\n",
       "      <th></th>\n",
       "    </tr>\n",
       "  </thead>\n",
       "  <tbody>\n",
       "  </tbody>\n",
       "</table>\n",
       "</div>"
      ],
      "text/plain": [
       "Empty DataFrame\n",
       "Columns: [text, entities]\n",
       "Index: []"
      ]
     },
     "execution_count": 9,
     "metadata": {},
     "output_type": "execute_result"
    }
   ],
   "source": [
    "test_raw_df[test_raw_df.duplicated()]"
   ]
  },
  {
   "cell_type": "markdown",
   "metadata": {},
   "source": [
    "### Check for missing values"
   ]
  },
  {
   "cell_type": "code",
   "execution_count": 10,
   "metadata": {},
   "outputs": [
    {
     "data": {
      "text/plain": [
       "text         0\n",
       "entities     0\n",
       "relations    0\n",
       "dtype: int64"
      ]
     },
     "execution_count": 10,
     "metadata": {},
     "output_type": "execute_result"
    }
   ],
   "source": [
    "labeled_raw_df.isnull().sum()"
   ]
  },
  {
   "cell_type": "code",
   "execution_count": 11,
   "metadata": {},
   "outputs": [
    {
     "data": {
      "text/plain": [
       "text        0\n",
       "entities    0\n",
       "dtype: int64"
      ]
     },
     "execution_count": 11,
     "metadata": {},
     "output_type": "execute_result"
    }
   ],
   "source": [
    "test_raw_df.isnull().sum()"
   ]
  },
  {
   "cell_type": "code",
   "execution_count": 12,
   "metadata": {},
   "outputs": [
    {
     "data": {
      "text/plain": [
       "id\n",
       "41601    [[0, \"DEATHS_NUMBER\", 14], [3, \"RESIDES_IN\", 4...\n",
       "2514     [[0, \"END_DATE\", 11], [0, \"IS_LOCATED_IN\", 4],...\n",
       "1223     [[0, \"END_DATE\", 11], [10, \"START_DATE\", 11], ...\n",
       "2329     [[0, \"END_DATE\", 11], [4, \"RESIDES_IN\", 1], [0...\n",
       "3898     [[0, \"END_DATE\", 9], [5, \"OPERATES_IN\", 7], [1...\n",
       "                               ...                        \n",
       "4964     [[9, \"IS_LOCATED_IN\", 5], [8, \"OPERATES_IN\", 5...\n",
       "41071    [[9, \"IS_LOCATED_IN\", 5], [9, \"IS_LOCATED_IN\",...\n",
       "31669    [[9, \"IS_LOCATED_IN\", 8], [11, \"OPERATES_IN\", ...\n",
       "41918    [[9, \"IS_LOCATED_IN\", 8], [13, \"HAS_CONTROL_OV...\n",
       "155      [[9, \"OPERATES_IN\", 1], [0, \"IS_LOCATED_IN\", 4...\n",
       "Name: relations, Length: 800, dtype: object"
      ]
     },
     "execution_count": 12,
     "metadata": {},
     "output_type": "execute_result"
    }
   ],
   "source": [
    "labeled_raw_df.relations.sort_values()"
   ]
  },
  {
   "cell_type": "markdown",
   "metadata": {},
   "source": [
    "## Data Cleaning/Wrangling"
   ]
  },
  {
   "cell_type": "markdown",
   "metadata": {},
   "source": [
    "### Fix value typing"
   ]
  },
  {
   "cell_type": "code",
   "execution_count": 13,
   "metadata": {},
   "outputs": [],
   "source": [
    "labeled_clean_df = clean_raw_dataset(labeled_raw_df)\n",
    "test_clean_df = clean_raw_dataset(test_raw_df)"
   ]
  },
  {
   "cell_type": "code",
   "execution_count": 14,
   "metadata": {},
   "outputs": [],
   "source": [
    "assert (labeled_raw_df.index == labeled_clean_df.index).all()\n",
    "assert (test_raw_df.index == test_clean_df.index).all()"
   ]
  },
  {
   "cell_type": "code",
   "execution_count": 15,
   "metadata": {},
   "outputs": [
    {
     "data": {
      "text/html": [
       "<div>\n",
       "<style scoped>\n",
       "    .dataframe tbody tr th:only-of-type {\n",
       "        vertical-align: middle;\n",
       "    }\n",
       "\n",
       "    .dataframe tbody tr th {\n",
       "        vertical-align: top;\n",
       "    }\n",
       "\n",
       "    .dataframe thead th {\n",
       "        text-align: right;\n",
       "    }\n",
       "</style>\n",
       "<table border=\"1\" class=\"dataframe\">\n",
       "  <thead>\n",
       "    <tr style=\"text-align: right;\">\n",
       "      <th></th>\n",
       "      <th>text</th>\n",
       "      <th>entities</th>\n",
       "    </tr>\n",
       "    <tr>\n",
       "      <th>id</th>\n",
       "      <th></th>\n",
       "      <th></th>\n",
       "    </tr>\n",
       "  </thead>\n",
       "  <tbody>\n",
       "    <tr>\n",
       "      <th>1204</th>\n",
       "      <td>“FEAR” est une organisation spécialisée dans l...</td>\n",
       "      <td>[{\"id\": 0, \"mentions\": [{\"value\": \"crash\", \"st...</td>\n",
       "    </tr>\n",
       "  </tbody>\n",
       "</table>\n",
       "</div>"
      ],
      "text/plain": [
       "                                                   text  \\\n",
       "id                                                        \n",
       "1204  “FEAR” est une organisation spécialisée dans l...   \n",
       "\n",
       "                                               entities  \n",
       "id                                                       \n",
       "1204  [{\"id\": 0, \"mentions\": [{\"value\": \"crash\", \"st...  "
      ]
     },
     "execution_count": 15,
     "metadata": {},
     "output_type": "execute_result"
    }
   ],
   "source": [
    "test_raw_df.head(1)"
   ]
  },
  {
   "cell_type": "code",
   "execution_count": 16,
   "metadata": {},
   "outputs": [
    {
     "data": {
      "text/html": [
       "<div>\n",
       "<style scoped>\n",
       "    .dataframe tbody tr th:only-of-type {\n",
       "        vertical-align: middle;\n",
       "    }\n",
       "\n",
       "    .dataframe tbody tr th {\n",
       "        vertical-align: top;\n",
       "    }\n",
       "\n",
       "    .dataframe thead th {\n",
       "        text-align: right;\n",
       "    }\n",
       "</style>\n",
       "<table border=\"1\" class=\"dataframe\">\n",
       "  <thead>\n",
       "    <tr style=\"text-align: right;\">\n",
       "      <th></th>\n",
       "      <th>text</th>\n",
       "      <th>entities</th>\n",
       "      <th>relations</th>\n",
       "    </tr>\n",
       "    <tr>\n",
       "      <th>id</th>\n",
       "      <th></th>\n",
       "      <th></th>\n",
       "      <th></th>\n",
       "    </tr>\n",
       "  </thead>\n",
       "  <tbody>\n",
       "    <tr>\n",
       "      <th>1204</th>\n",
       "      <td>“FEAR” est une organisation spécialisée dans l...</td>\n",
       "      <td>[{'id': 0, 'mentions': [{'value': 'crash', 'st...</td>\n",
       "      <td>None</td>\n",
       "    </tr>\n",
       "  </tbody>\n",
       "</table>\n",
       "</div>"
      ],
      "text/plain": [
       "                                                   text  \\\n",
       "id                                                        \n",
       "1204  “FEAR” est une organisation spécialisée dans l...   \n",
       "\n",
       "                                               entities relations  \n",
       "id                                                                 \n",
       "1204  [{'id': 0, 'mentions': [{'value': 'crash', 'st...      None  "
      ]
     },
     "execution_count": 16,
     "metadata": {},
     "output_type": "execute_result"
    }
   ],
   "source": [
    "test_clean_df.head(1)"
   ]
  },
  {
   "cell_type": "markdown",
   "metadata": {},
   "source": [
    "### Check value types"
   ]
  },
  {
   "cell_type": "code",
   "execution_count": 17,
   "metadata": {},
   "outputs": [
    {
     "name": "stdout",
     "output_type": "stream",
     "text": [
      "text <class 'str'>\n",
      "entities [  [<class 'str'>, <class 'str'>, <class 'str'>]  ]\n",
      "relations [  <class 'list'>  ]\n"
     ]
    }
   ],
   "source": [
    "# types of values in train data\n",
    "print_value_types(labeled_clean_df)"
   ]
  },
  {
   "cell_type": "code",
   "execution_count": 18,
   "metadata": {},
   "outputs": [
    {
     "name": "stdout",
     "output_type": "stream",
     "text": [
      "text <class 'str'>\n",
      "entities [  [<class 'str'>, <class 'str'>, <class 'str'>]  ]\n",
      "relations <class 'NoneType'>\n"
     ]
    }
   ],
   "source": [
    "# types of values in test data\n",
    "print_value_types(test_clean_df)"
   ]
  },
  {
   "cell_type": "markdown",
   "metadata": {},
   "source": [
    "### Save cleaned datasets\n",
    "\n",
    "For manual analysis"
   ]
  },
  {
   "cell_type": "code",
   "execution_count": 19,
   "metadata": {},
   "outputs": [],
   "source": [
    "save_data(labeled_clean_df, os.path.join(INTERIM_DIR, \"train_cleaned.csv\"))\n",
    "save_data(test_clean_df, os.path.join(INTERIM_DIR, \"test_cleaned.csv\"))"
   ]
  },
  {
   "cell_type": "markdown",
   "metadata": {},
   "source": [
    "## Analyze clean data"
   ]
  },
  {
   "cell_type": "markdown",
   "metadata": {},
   "source": [
    "### All relation types"
   ]
  },
  {
   "cell_type": "code",
   "execution_count": 20,
   "metadata": {},
   "outputs": [
    {
     "name": "stdout",
     "output_type": "stream",
     "text": [
      "37\n"
     ]
    },
    {
     "data": {
      "text/plain": [
       "{'CREATED',\n",
       " 'DEATHS_NUMBER',\n",
       " 'DIED_IN',\n",
       " 'END_DATE',\n",
       " 'GENDER_FEMALE',\n",
       " 'GENDER_MALE',\n",
       " 'HAS_CATEGORY',\n",
       " 'HAS_COLOR',\n",
       " 'HAS_CONSEQUENCE',\n",
       " 'HAS_CONTROL_OVER',\n",
       " 'HAS_FAMILY_RELATIONSHIP',\n",
       " 'HAS_FOR_HEIGHT',\n",
       " 'HAS_FOR_LENGTH',\n",
       " 'HAS_FOR_WIDTH',\n",
       " 'HAS_LATITUDE',\n",
       " 'HAS_LONGITUDE',\n",
       " 'HAS_QUANTITY',\n",
       " 'INITIATED',\n",
       " 'INJURED_NUMBER',\n",
       " 'IS_AT_ODDS_WITH',\n",
       " 'IS_BORN_IN',\n",
       " 'IS_BORN_ON',\n",
       " 'IS_COOPERATING_WITH',\n",
       " 'IS_DEAD_ON',\n",
       " 'IS_IN_CONTACT_WITH',\n",
       " 'IS_LOCATED_IN',\n",
       " 'IS_OF_NATIONALITY',\n",
       " 'IS_OF_SIZE',\n",
       " 'IS_PART_OF',\n",
       " 'IS_REGISTERED_AS',\n",
       " 'OPERATES_IN',\n",
       " 'RESIDES_IN',\n",
       " 'STARTED_IN',\n",
       " 'START_DATE',\n",
       " 'WAS_CREATED_IN',\n",
       " 'WAS_DISSOLVED_IN',\n",
       " 'WEIGHS'}"
      ]
     },
     "execution_count": 20,
     "metadata": {},
     "output_type": "execute_result"
    }
   ],
   "source": [
    "relation_classes = set(\n",
    "    sum(\n",
    "        labeled_clean_df.relations.apply(\n",
    "            lambda row: list({r for (e1, r, e2) in row})\n",
    "        ).values.tolist(),\n",
    "        [],\n",
    "    )\n",
    ")\n",
    "print(len(relation_classes))\n",
    "relation_classes"
   ]
  },
  {
   "cell_type": "markdown",
   "metadata": {},
   "source": [
    "#### Summary stats on relation classes"
   ]
  },
  {
   "cell_type": "code",
   "execution_count": 21,
   "metadata": {},
   "outputs": [
    {
     "data": {
      "text/plain": [
       "<Axes: xlabel='Number of texts containing the relation', ylabel='Relation'>"
      ]
     },
     "execution_count": 21,
     "metadata": {},
     "output_type": "execute_result"
    },
    {
     "data": {
      "image/png": "[encoded data removed]",
      "text/plain": [
       "<Figure size 1500x1000 with 1 Axes>"
      ]
     },
     "metadata": {},
     "output_type": "display_data"
    }
   ],
   "source": [
    "# number of text containing a relation category\n",
    "\n",
    "plt.figure(figsize=(15, 10))\n",
    "n_texts_per_relation_type = pd.Series({cat: labeled_raw_df[labeled_raw_df.relations.str.contains(cat)].shape[0] for cat in relation_classes}).sort_values(ascending=True)\n",
    "n_texts_per_relation_type.plot.barh(xlabel=\"Number of texts containing the relation\", ylabel=\"Relation\")"
   ]
  },
  {
   "cell_type": "code",
   "execution_count": 22,
   "metadata": {},
   "outputs": [
    {
     "data": {
      "text/html": [
       "<div>\n",
       "<style scoped>\n",
       "    .dataframe tbody tr th:only-of-type {\n",
       "        vertical-align: middle;\n",
       "    }\n",
       "\n",
       "    .dataframe tbody tr th {\n",
       "        vertical-align: top;\n",
       "    }\n",
       "\n",
       "    .dataframe thead th {\n",
       "        text-align: right;\n",
       "    }\n",
       "</style>\n",
       "<table border=\"1\" class=\"dataframe\">\n",
       "  <thead>\n",
       "    <tr style=\"text-align: right;\">\n",
       "      <th></th>\n",
       "      <th>count</th>\n",
       "      <th>mean</th>\n",
       "      <th>std</th>\n",
       "      <th>min</th>\n",
       "      <th>25%</th>\n",
       "      <th>50%</th>\n",
       "      <th>75%</th>\n",
       "      <th>max</th>\n",
       "    </tr>\n",
       "  </thead>\n",
       "  <tbody>\n",
       "    <tr>\n",
       "      <th>IS_LOCATED_IN</th>\n",
       "      <td>800.0</td>\n",
       "      <td>11.28125</td>\n",
       "      <td>6.555025</td>\n",
       "      <td>0.0</td>\n",
       "      <td>7.0</td>\n",
       "      <td>10.0</td>\n",
       "      <td>15.0</td>\n",
       "      <td>44.0</td>\n",
       "    </tr>\n",
       "    <tr>\n",
       "      <th>HAS_CONTROL_OVER</th>\n",
       "      <td>800.0</td>\n",
       "      <td>5.68375</td>\n",
       "      <td>3.724389</td>\n",
       "      <td>0.0</td>\n",
       "      <td>3.0</td>\n",
       "      <td>5.0</td>\n",
       "      <td>8.0</td>\n",
       "      <td>22.0</td>\n",
       "    </tr>\n",
       "    <tr>\n",
       "      <th>OPERATES_IN</th>\n",
       "      <td>800.0</td>\n",
       "      <td>3.04375</td>\n",
       "      <td>2.650588</td>\n",
       "      <td>0.0</td>\n",
       "      <td>1.0</td>\n",
       "      <td>2.0</td>\n",
       "      <td>4.0</td>\n",
       "      <td>19.0</td>\n",
       "    </tr>\n",
       "    <tr>\n",
       "      <th>STARTED_IN</th>\n",
       "      <td>800.0</td>\n",
       "      <td>2.32500</td>\n",
       "      <td>1.829223</td>\n",
       "      <td>0.0</td>\n",
       "      <td>1.0</td>\n",
       "      <td>2.0</td>\n",
       "      <td>3.0</td>\n",
       "      <td>12.0</td>\n",
       "    </tr>\n",
       "    <tr>\n",
       "      <th>IS_IN_CONTACT_WITH</th>\n",
       "      <td>800.0</td>\n",
       "      <td>3.64875</td>\n",
       "      <td>4.583026</td>\n",
       "      <td>0.0</td>\n",
       "      <td>0.0</td>\n",
       "      <td>2.0</td>\n",
       "      <td>4.0</td>\n",
       "      <td>44.0</td>\n",
       "    </tr>\n",
       "    <tr>\n",
       "      <th>HAS_CATEGORY</th>\n",
       "      <td>800.0</td>\n",
       "      <td>1.11750</td>\n",
       "      <td>0.891452</td>\n",
       "      <td>0.0</td>\n",
       "      <td>1.0</td>\n",
       "      <td>1.0</td>\n",
       "      <td>2.0</td>\n",
       "      <td>5.0</td>\n",
       "    </tr>\n",
       "    <tr>\n",
       "      <th>IS_PART_OF</th>\n",
       "      <td>800.0</td>\n",
       "      <td>1.82750</td>\n",
       "      <td>1.642747</td>\n",
       "      <td>0.0</td>\n",
       "      <td>1.0</td>\n",
       "      <td>1.0</td>\n",
       "      <td>2.0</td>\n",
       "      <td>14.0</td>\n",
       "    </tr>\n",
       "    <tr>\n",
       "      <th>GENDER_MALE</th>\n",
       "      <td>800.0</td>\n",
       "      <td>1.13500</td>\n",
       "      <td>0.864702</td>\n",
       "      <td>0.0</td>\n",
       "      <td>1.0</td>\n",
       "      <td>1.0</td>\n",
       "      <td>2.0</td>\n",
       "      <td>4.0</td>\n",
       "    </tr>\n",
       "    <tr>\n",
       "      <th>END_DATE</th>\n",
       "      <td>800.0</td>\n",
       "      <td>1.09250</td>\n",
       "      <td>1.081853</td>\n",
       "      <td>0.0</td>\n",
       "      <td>0.0</td>\n",
       "      <td>1.0</td>\n",
       "      <td>2.0</td>\n",
       "      <td>6.0</td>\n",
       "    </tr>\n",
       "    <tr>\n",
       "      <th>START_DATE</th>\n",
       "      <td>800.0</td>\n",
       "      <td>1.29250</td>\n",
       "      <td>1.165608</td>\n",
       "      <td>0.0</td>\n",
       "      <td>0.0</td>\n",
       "      <td>1.0</td>\n",
       "      <td>2.0</td>\n",
       "      <td>7.0</td>\n",
       "    </tr>\n",
       "    <tr>\n",
       "      <th>IS_BORN_IN</th>\n",
       "      <td>800.0</td>\n",
       "      <td>0.06250</td>\n",
       "      <td>0.276024</td>\n",
       "      <td>0.0</td>\n",
       "      <td>0.0</td>\n",
       "      <td>0.0</td>\n",
       "      <td>0.0</td>\n",
       "      <td>3.0</td>\n",
       "    </tr>\n",
       "    <tr>\n",
       "      <th>IS_BORN_ON</th>\n",
       "      <td>800.0</td>\n",
       "      <td>0.02500</td>\n",
       "      <td>0.156223</td>\n",
       "      <td>0.0</td>\n",
       "      <td>0.0</td>\n",
       "      <td>0.0</td>\n",
       "      <td>0.0</td>\n",
       "      <td>1.0</td>\n",
       "    </tr>\n",
       "    <tr>\n",
       "      <th>CREATED</th>\n",
       "      <td>800.0</td>\n",
       "      <td>0.17625</td>\n",
       "      <td>0.561765</td>\n",
       "      <td>0.0</td>\n",
       "      <td>0.0</td>\n",
       "      <td>0.0</td>\n",
       "      <td>0.0</td>\n",
       "      <td>5.0</td>\n",
       "    </tr>\n",
       "    <tr>\n",
       "      <th>DEATHS_NUMBER</th>\n",
       "      <td>800.0</td>\n",
       "      <td>0.09375</td>\n",
       "      <td>0.312383</td>\n",
       "      <td>0.0</td>\n",
       "      <td>0.0</td>\n",
       "      <td>0.0</td>\n",
       "      <td>0.0</td>\n",
       "      <td>2.0</td>\n",
       "    </tr>\n",
       "    <tr>\n",
       "      <th>INITIATED</th>\n",
       "      <td>800.0</td>\n",
       "      <td>0.58625</td>\n",
       "      <td>0.972751</td>\n",
       "      <td>0.0</td>\n",
       "      <td>0.0</td>\n",
       "      <td>0.0</td>\n",
       "      <td>1.0</td>\n",
       "      <td>9.0</td>\n",
       "    </tr>\n",
       "    <tr>\n",
       "      <th>WAS_DISSOLVED_IN</th>\n",
       "      <td>800.0</td>\n",
       "      <td>0.01750</td>\n",
       "      <td>0.131207</td>\n",
       "      <td>0.0</td>\n",
       "      <td>0.0</td>\n",
       "      <td>0.0</td>\n",
       "      <td>0.0</td>\n",
       "      <td>1.0</td>\n",
       "    </tr>\n",
       "    <tr>\n",
       "      <th>HAS_QUANTITY</th>\n",
       "      <td>800.0</td>\n",
       "      <td>0.23875</td>\n",
       "      <td>0.576336</td>\n",
       "      <td>0.0</td>\n",
       "      <td>0.0</td>\n",
       "      <td>0.0</td>\n",
       "      <td>0.0</td>\n",
       "      <td>4.0</td>\n",
       "    </tr>\n",
       "    <tr>\n",
       "      <th>HAS_FOR_HEIGHT</th>\n",
       "      <td>800.0</td>\n",
       "      <td>0.01500</td>\n",
       "      <td>0.121628</td>\n",
       "      <td>0.0</td>\n",
       "      <td>0.0</td>\n",
       "      <td>0.0</td>\n",
       "      <td>0.0</td>\n",
       "      <td>1.0</td>\n",
       "    </tr>\n",
       "    <tr>\n",
       "      <th>INJURED_NUMBER</th>\n",
       "      <td>800.0</td>\n",
       "      <td>0.08750</td>\n",
       "      <td>0.295725</td>\n",
       "      <td>0.0</td>\n",
       "      <td>0.0</td>\n",
       "      <td>0.0</td>\n",
       "      <td>0.0</td>\n",
       "      <td>2.0</td>\n",
       "    </tr>\n",
       "    <tr>\n",
       "      <th>IS_DEAD_ON</th>\n",
       "      <td>800.0</td>\n",
       "      <td>0.08500</td>\n",
       "      <td>0.287886</td>\n",
       "      <td>0.0</td>\n",
       "      <td>0.0</td>\n",
       "      <td>0.0</td>\n",
       "      <td>0.0</td>\n",
       "      <td>2.0</td>\n",
       "    </tr>\n",
       "    <tr>\n",
       "      <th>HAS_COLOR</th>\n",
       "      <td>800.0</td>\n",
       "      <td>0.11375</td>\n",
       "      <td>0.394976</td>\n",
       "      <td>0.0</td>\n",
       "      <td>0.0</td>\n",
       "      <td>0.0</td>\n",
       "      <td>0.0</td>\n",
       "      <td>3.0</td>\n",
       "    </tr>\n",
       "    <tr>\n",
       "      <th>HAS_FOR_WIDTH</th>\n",
       "      <td>800.0</td>\n",
       "      <td>0.01750</td>\n",
       "      <td>0.131207</td>\n",
       "      <td>0.0</td>\n",
       "      <td>0.0</td>\n",
       "      <td>0.0</td>\n",
       "      <td>0.0</td>\n",
       "      <td>1.0</td>\n",
       "    </tr>\n",
       "    <tr>\n",
       "      <th>IS_AT_ODDS_WITH</th>\n",
       "      <td>800.0</td>\n",
       "      <td>1.90750</td>\n",
       "      <td>4.615525</td>\n",
       "      <td>0.0</td>\n",
       "      <td>0.0</td>\n",
       "      <td>0.0</td>\n",
       "      <td>2.0</td>\n",
       "      <td>42.0</td>\n",
       "    </tr>\n",
       "    <tr>\n",
       "      <th>WEIGHS</th>\n",
       "      <td>800.0</td>\n",
       "      <td>0.05125</td>\n",
       "      <td>0.242274</td>\n",
       "      <td>0.0</td>\n",
       "      <td>0.0</td>\n",
       "      <td>0.0</td>\n",
       "      <td>0.0</td>\n",
       "      <td>2.0</td>\n",
       "    </tr>\n",
       "    <tr>\n",
       "      <th>RESIDES_IN</th>\n",
       "      <td>800.0</td>\n",
       "      <td>0.27750</td>\n",
       "      <td>0.689992</td>\n",
       "      <td>0.0</td>\n",
       "      <td>0.0</td>\n",
       "      <td>0.0</td>\n",
       "      <td>0.0</td>\n",
       "      <td>4.0</td>\n",
       "    </tr>\n",
       "    <tr>\n",
       "      <th>HAS_CONSEQUENCE</th>\n",
       "      <td>800.0</td>\n",
       "      <td>0.96125</td>\n",
       "      <td>2.006185</td>\n",
       "      <td>0.0</td>\n",
       "      <td>0.0</td>\n",
       "      <td>0.0</td>\n",
       "      <td>1.0</td>\n",
       "      <td>21.0</td>\n",
       "    </tr>\n",
       "    <tr>\n",
       "      <th>HAS_FOR_LENGTH</th>\n",
       "      <td>800.0</td>\n",
       "      <td>0.02000</td>\n",
       "      <td>0.140088</td>\n",
       "      <td>0.0</td>\n",
       "      <td>0.0</td>\n",
       "      <td>0.0</td>\n",
       "      <td>0.0</td>\n",
       "      <td>1.0</td>\n",
       "    </tr>\n",
       "    <tr>\n",
       "      <th>IS_OF_SIZE</th>\n",
       "      <td>800.0</td>\n",
       "      <td>0.54750</td>\n",
       "      <td>0.820723</td>\n",
       "      <td>0.0</td>\n",
       "      <td>0.0</td>\n",
       "      <td>0.0</td>\n",
       "      <td>1.0</td>\n",
       "      <td>4.0</td>\n",
       "    </tr>\n",
       "    <tr>\n",
       "      <th>IS_REGISTERED_AS</th>\n",
       "      <td>800.0</td>\n",
       "      <td>0.04250</td>\n",
       "      <td>0.241385</td>\n",
       "      <td>0.0</td>\n",
       "      <td>0.0</td>\n",
       "      <td>0.0</td>\n",
       "      <td>0.0</td>\n",
       "      <td>2.0</td>\n",
       "    </tr>\n",
       "    <tr>\n",
       "      <th>HAS_LONGITUDE</th>\n",
       "      <td>800.0</td>\n",
       "      <td>0.01500</td>\n",
       "      <td>0.121628</td>\n",
       "      <td>0.0</td>\n",
       "      <td>0.0</td>\n",
       "      <td>0.0</td>\n",
       "      <td>0.0</td>\n",
       "      <td>1.0</td>\n",
       "    </tr>\n",
       "    <tr>\n",
       "      <th>WAS_CREATED_IN</th>\n",
       "      <td>800.0</td>\n",
       "      <td>0.01875</td>\n",
       "      <td>0.135726</td>\n",
       "      <td>0.0</td>\n",
       "      <td>0.0</td>\n",
       "      <td>0.0</td>\n",
       "      <td>0.0</td>\n",
       "      <td>1.0</td>\n",
       "    </tr>\n",
       "    <tr>\n",
       "      <th>IS_OF_NATIONALITY</th>\n",
       "      <td>800.0</td>\n",
       "      <td>0.22375</td>\n",
       "      <td>0.525863</td>\n",
       "      <td>0.0</td>\n",
       "      <td>0.0</td>\n",
       "      <td>0.0</td>\n",
       "      <td>0.0</td>\n",
       "      <td>4.0</td>\n",
       "    </tr>\n",
       "    <tr>\n",
       "      <th>GENDER_FEMALE</th>\n",
       "      <td>800.0</td>\n",
       "      <td>0.51750</td>\n",
       "      <td>0.620625</td>\n",
       "      <td>0.0</td>\n",
       "      <td>0.0</td>\n",
       "      <td>0.0</td>\n",
       "      <td>1.0</td>\n",
       "      <td>3.0</td>\n",
       "    </tr>\n",
       "    <tr>\n",
       "      <th>IS_COOPERATING_WITH</th>\n",
       "      <td>800.0</td>\n",
       "      <td>0.46500</td>\n",
       "      <td>1.458229</td>\n",
       "      <td>0.0</td>\n",
       "      <td>0.0</td>\n",
       "      <td>0.0</td>\n",
       "      <td>0.0</td>\n",
       "      <td>24.0</td>\n",
       "    </tr>\n",
       "    <tr>\n",
       "      <th>HAS_LATITUDE</th>\n",
       "      <td>800.0</td>\n",
       "      <td>0.01250</td>\n",
       "      <td>0.111172</td>\n",
       "      <td>0.0</td>\n",
       "      <td>0.0</td>\n",
       "      <td>0.0</td>\n",
       "      <td>0.0</td>\n",
       "      <td>1.0</td>\n",
       "    </tr>\n",
       "    <tr>\n",
       "      <th>DIED_IN</th>\n",
       "      <td>800.0</td>\n",
       "      <td>0.05125</td>\n",
       "      <td>0.318198</td>\n",
       "      <td>0.0</td>\n",
       "      <td>0.0</td>\n",
       "      <td>0.0</td>\n",
       "      <td>0.0</td>\n",
       "      <td>4.0</td>\n",
       "    </tr>\n",
       "    <tr>\n",
       "      <th>HAS_FAMILY_RELATIONSHIP</th>\n",
       "      <td>800.0</td>\n",
       "      <td>0.27750</td>\n",
       "      <td>0.847875</td>\n",
       "      <td>0.0</td>\n",
       "      <td>0.0</td>\n",
       "      <td>0.0</td>\n",
       "      <td>0.0</td>\n",
       "      <td>6.0</td>\n",
       "    </tr>\n",
       "  </tbody>\n",
       "</table>\n",
       "</div>"
      ],
      "text/plain": [
       "                         count      mean       std  min  25%   50%   75%   max\n",
       "IS_LOCATED_IN            800.0  11.28125  6.555025  0.0  7.0  10.0  15.0  44.0\n",
       "HAS_CONTROL_OVER         800.0   5.68375  3.724389  0.0  3.0   5.0   8.0  22.0\n",
       "OPERATES_IN              800.0   3.04375  2.650588  0.0  1.0   2.0   4.0  19.0\n",
       "STARTED_IN               800.0   2.32500  1.829223  0.0  1.0   2.0   3.0  12.0\n",
       "IS_IN_CONTACT_WITH       800.0   3.64875  4.583026  0.0  0.0   2.0   4.0  44.0\n",
       "HAS_CATEGORY             800.0   1.11750  0.891452  0.0  1.0   1.0   2.0   5.0\n",
       "IS_PART_OF               800.0   1.82750  1.642747  0.0  1.0   1.0   2.0  14.0\n",
       "GENDER_MALE              800.0   1.13500  0.864702  0.0  1.0   1.0   2.0   4.0\n",
       "END_DATE                 800.0   1.09250  1.081853  0.0  0.0   1.0   2.0   6.0\n",
       "START_DATE               800.0   1.29250  1.165608  0.0  0.0   1.0   2.0   7.0\n",
       "IS_BORN_IN               800.0   0.06250  0.276024  0.0  0.0   0.0   0.0   3.0\n",
       "IS_BORN_ON               800.0   0.02500  0.156223  0.0  0.0   0.0   0.0   1.0\n",
       "CREATED                  800.0   0.17625  0.561765  0.0  0.0   0.0   0.0   5.0\n",
       "DEATHS_NUMBER            800.0   0.09375  0.312383  0.0  0.0   0.0   0.0   2.0\n",
       "INITIATED                800.0   0.58625  0.972751  0.0  0.0   0.0   1.0   9.0\n",
       "WAS_DISSOLVED_IN         800.0   0.01750  0.131207  0.0  0.0   0.0   0.0   1.0\n",
       "HAS_QUANTITY             800.0   0.23875  0.576336  0.0  0.0   0.0   0.0   4.0\n",
       "HAS_FOR_HEIGHT           800.0   0.01500  0.121628  0.0  0.0   0.0   0.0   1.0\n",
       "INJURED_NUMBER           800.0   0.08750  0.295725  0.0  0.0   0.0   0.0   2.0\n",
       "IS_DEAD_ON               800.0   0.08500  0.287886  0.0  0.0   0.0   0.0   2.0\n",
       "HAS_COLOR                800.0   0.11375  0.394976  0.0  0.0   0.0   0.0   3.0\n",
       "HAS_FOR_WIDTH            800.0   0.01750  0.131207  0.0  0.0   0.0   0.0   1.0\n",
       "IS_AT_ODDS_WITH          800.0   1.90750  4.615525  0.0  0.0   0.0   2.0  42.0\n",
       "WEIGHS                   800.0   0.05125  0.242274  0.0  0.0   0.0   0.0   2.0\n",
       "RESIDES_IN               800.0   0.27750  0.689992  0.0  0.0   0.0   0.0   4.0\n",
       "HAS_CONSEQUENCE          800.0   0.96125  2.006185  0.0  0.0   0.0   1.0  21.0\n",
       "HAS_FOR_LENGTH           800.0   0.02000  0.140088  0.0  0.0   0.0   0.0   1.0\n",
       "IS_OF_SIZE               800.0   0.54750  0.820723  0.0  0.0   0.0   1.0   4.0\n",
       "IS_REGISTERED_AS         800.0   0.04250  0.241385  0.0  0.0   0.0   0.0   2.0\n",
       "HAS_LONGITUDE            800.0   0.01500  0.121628  0.0  0.0   0.0   0.0   1.0\n",
       "WAS_CREATED_IN           800.0   0.01875  0.135726  0.0  0.0   0.0   0.0   1.0\n",
       "IS_OF_NATIONALITY        800.0   0.22375  0.525863  0.0  0.0   0.0   0.0   4.0\n",
       "GENDER_FEMALE            800.0   0.51750  0.620625  0.0  0.0   0.0   1.0   3.0\n",
       "IS_COOPERATING_WITH      800.0   0.46500  1.458229  0.0  0.0   0.0   0.0  24.0\n",
       "HAS_LATITUDE             800.0   0.01250  0.111172  0.0  0.0   0.0   0.0   1.0\n",
       "DIED_IN                  800.0   0.05125  0.318198  0.0  0.0   0.0   0.0   4.0\n",
       "HAS_FAMILY_RELATIONSHIP  800.0   0.27750  0.847875  0.0  0.0   0.0   0.0   6.0"
      ]
     },
     "execution_count": 22,
     "metadata": {},
     "output_type": "execute_result"
    }
   ],
   "source": [
    "# distribution of the occurences of each category among texts\n",
    "pd.DataFrame({cat: labeled_raw_df.relations.str.count(cat) for cat in relation_classes}).describe().T.sort_values(\"50%\", ascending=False)"
   ]
  },
  {
   "cell_type": "code",
   "execution_count": 23,
   "metadata": {},
   "outputs": [
    {
     "data": {
      "text/plain": [
       "id\n",
       "181      17\n",
       "31669    14\n",
       "51470     5\n",
       "51332     3\n",
       "1131      8\n",
       "         ..\n",
       "1288     14\n",
       "3822      6\n",
       "51266     7\n",
       "51368    13\n",
       "124      23\n",
       "Name: relations, Length: 800, dtype: int64"
      ]
     },
     "execution_count": 23,
     "metadata": {},
     "output_type": "execute_result"
    }
   ],
   "source": [
    "labeled_raw_df.relations.str.count(\"IS_LOCATED_IN\")"
   ]
  },
  {
   "cell_type": "code",
   "execution_count": 24,
   "metadata": {},
   "outputs": [
    {
     "data": {
      "text/plain": [
       "[[0, 'STARTED_IN', 9],\n",
       " [7, 'IS_LOCATED_IN', 9],\n",
       " [5, 'IS_LOCATED_IN', 10],\n",
       " [1, 'GENDER_FEMALE', 1],\n",
       " [12, 'IS_LOCATED_IN', 10],\n",
       " [0, 'IS_LOCATED_IN', 10],\n",
       " [1, 'IS_LOCATED_IN', 10],\n",
       " [13, 'IS_LOCATED_IN', 9],\n",
       " [14, 'IS_LOCATED_IN', 10],\n",
       " [1, 'HAS_CATEGORY', 18],\n",
       " [5, 'IS_LOCATED_IN', 9],\n",
       " [9, 'IS_LOCATED_IN', 10],\n",
       " [14, 'IS_DEAD_ON', 15],\n",
       " [7, 'HAS_CATEGORY', 19],\n",
       " [12, 'IS_LOCATED_IN', 9],\n",
       " [0, 'IS_LOCATED_IN', 9],\n",
       " [7, 'GENDER_MALE', 7],\n",
       " [11, 'IS_LOCATED_IN', 10],\n",
       " [1, 'IS_LOCATED_IN', 9],\n",
       " [14, 'IS_LOCATED_IN', 9],\n",
       " [14, 'HAS_CATEGORY', 20],\n",
       " [0, 'STARTED_IN', 10],\n",
       " [0, 'START_DATE', 15],\n",
       " [7, 'IS_LOCATED_IN', 10],\n",
       " [0, 'END_DATE', 15],\n",
       " [14, 'GENDER_MALE', 14],\n",
       " [12, 'IS_OF_SIZE', 22],\n",
       " [13, 'IS_LOCATED_IN', 10],\n",
       " [1, 'IS_LOCATED_IN', 11],\n",
       " [13, 'IS_OF_SIZE', 21]]"
      ]
     },
     "execution_count": 24,
     "metadata": {},
     "output_type": "execute_result"
    }
   ],
   "source": [
    "labeled_clean_df.relations.loc[181]"
   ]
  },
  {
   "cell_type": "code",
   "execution_count": 25,
   "metadata": {},
   "outputs": [
    {
     "data": {
      "text/plain": [
       "IS_LOCATED_IN              9025\n",
       "HAS_CONTROL_OVER           4547\n",
       "IS_IN_CONTACT_WITH         2919\n",
       "OPERATES_IN                2435\n",
       "STARTED_IN                 1860\n",
       "IS_AT_ODDS_WITH            1526\n",
       "IS_PART_OF                 1462\n",
       "START_DATE                 1034\n",
       "GENDER_MALE                 908\n",
       "HAS_CATEGORY                894\n",
       "END_DATE                    874\n",
       "HAS_CONSEQUENCE             769\n",
       "INITIATED                   469\n",
       "IS_OF_SIZE                  438\n",
       "GENDER_FEMALE               414\n",
       "IS_COOPERATING_WITH         372\n",
       "HAS_FAMILY_RELATIONSHIP     222\n",
       "RESIDES_IN                  222\n",
       "HAS_QUANTITY                191\n",
       "IS_OF_NATIONALITY           179\n",
       "CREATED                     141\n",
       "HAS_COLOR                    91\n",
       "DEATHS_NUMBER                75\n",
       "INJURED_NUMBER               70\n",
       "IS_DEAD_ON                   68\n",
       "IS_BORN_IN                   50\n",
       "WEIGHS                       41\n",
       "DIED_IN                      41\n",
       "IS_REGISTERED_AS             34\n",
       "IS_BORN_ON                   20\n",
       "HAS_FOR_LENGTH               16\n",
       "WAS_CREATED_IN               15\n",
       "HAS_FOR_WIDTH                14\n",
       "WAS_DISSOLVED_IN             14\n",
       "HAS_FOR_HEIGHT               12\n",
       "HAS_LONGITUDE                12\n",
       "HAS_LATITUDE                 10\n",
       "dtype: int64"
      ]
     },
     "execution_count": 25,
     "metadata": {},
     "output_type": "execute_result"
    }
   ],
   "source": [
    "# Total occurences of each category in the labeled dataset\n",
    "pd.Series({cat: labeled_raw_df.relations.str.count(cat).sum() for cat in relation_classes}).sort_values(ascending=False)"
   ]
  },
  {
   "cell_type": "code",
   "execution_count": 26,
   "metadata": {},
   "outputs": [
    {
     "data": {
      "text/plain": [
       "<Axes: title={'center': 'Total occurences of each category in the labeled dataset'}, xlabel='Number of labeled relations of a given category', ylabel='Category of relation'>"
      ]
     },
     "execution_count": 26,
     "metadata": {},
     "output_type": "execute_result"
    },
    {
     "data": {
      "image/png": "[encoded data removed]",
      "text/plain": [
       "<Figure size 1500x1000 with 1 Axes>"
      ]
     },
     "metadata": {},
     "output_type": "display_data"
    }
   ],
   "source": [
    "plt.figure(figsize=(15, 10))\n",
    "pd.Series({cat: labeled_raw_df.relations.str.count(cat).sum() for cat in relation_classes}).sort_values(ascending=True).plot.barh(xlabel=\"Number of labeled relations of a given category\", ylabel=\"Category of relation\", title=\"Total occurences of each category in the labeled dataset\")\n",
    "# pd.Series({cat: labeled_raw_df.relations.str.count(cat).sum() for cat in relation_classes}).sort_values(ascending=False)"
   ]
  },
  {
   "cell_type": "markdown",
   "metadata": {},
   "source": [
    "#### How many relations can we expect to extract from a text?"
   ]
  },
  {
   "cell_type": "code",
   "execution_count": 27,
   "metadata": {},
   "outputs": [
    {
     "name": "stdout",
     "output_type": "stream",
     "text": [
      "count    800.00000\n",
      "mean      39.33625\n",
      "std       17.50339\n",
      "min        4.00000\n",
      "25%       27.00000\n",
      "50%       37.00000\n",
      "75%       48.00000\n",
      "max      143.00000\n",
      "Name: relations, dtype: float64\n"
     ]
    },
    {
     "data": {
      "text/plain": [
       "<Axes: >"
      ]
     },
     "execution_count": 27,
     "metadata": {},
     "output_type": "execute_result"
    },
    {
     "data": {
      "image/png": "[encoded data removed]",
      "text/plain": [
       "<Figure size 640x480 with 1 Axes>"
      ]
     },
     "metadata": {},
     "output_type": "display_data"
    }
   ],
   "source": [
    "n_relations_per_text_df = labeled_clean_df.relations.map(lambda x: len(x))\n",
    "print(n_relations_per_text_df.describe())\n",
    "n_relations_per_text_df.hist()"
   ]
  },
  {
   "cell_type": "markdown",
   "metadata": {},
   "source": [
    "### All entity types"
   ]
  },
  {
   "cell_type": "code",
   "execution_count": 28,
   "metadata": {},
   "outputs": [
    {
     "name": "stdout",
     "output_type": "stream",
     "text": [
      "55\n"
     ]
    },
    {
     "data": {
      "text/plain": [
       "{'ACCIDENT',\n",
       " 'AGITATING_TROUBLE_MAKING',\n",
       " 'BOMBING',\n",
       " 'CATEGORY',\n",
       " 'CBRN_EVENT',\n",
       " 'CIVILIAN',\n",
       " 'CIVIL_WAR_OUTBREAK',\n",
       " 'COLOR',\n",
       " 'COUP_D_ETAT',\n",
       " 'CRIMINAL_ARREST',\n",
       " 'DEMONSTRATION',\n",
       " 'DRUG_OPERATION',\n",
       " 'ECONOMICAL_CRISIS',\n",
       " 'ELECTION',\n",
       " 'EPIDEMIC',\n",
       " 'FIRE',\n",
       " 'FIRSTNAME',\n",
       " 'GATHERING',\n",
       " 'GROUP_OF_INDIVIDUALS',\n",
       " 'HEIGHT',\n",
       " 'HOOLIGANISM_TROUBLEMAKING',\n",
       " 'ILLEGAL_CIVIL_DEMONSTRATION',\n",
       " 'INTERGOVERNMENTAL_ORGANISATION',\n",
       " 'LASTNAME',\n",
       " 'LATITUDE',\n",
       " 'LENGTH',\n",
       " 'LONGITUDE',\n",
       " 'MATERIAL_REFERENCE',\n",
       " 'MATERIEL',\n",
       " 'MILITARY',\n",
       " 'MILITARY_ORGANISATION',\n",
       " 'NATIONALITY',\n",
       " 'NATURAL_CAUSES_DEATH',\n",
       " 'NATURAL_EVENT',\n",
       " 'NON_GOVERNMENTAL_ORGANISATION',\n",
       " 'NON_MILITARY_GOVERNMENT_ORGANISATION',\n",
       " 'PLACE',\n",
       " 'POLITICAL_VIOLENCE',\n",
       " 'POLLUTION',\n",
       " 'QUANTITY_EXACT',\n",
       " 'QUANTITY_FUZZY',\n",
       " 'QUANTITY_MAX',\n",
       " 'QUANTITY_MIN',\n",
       " 'RIOT',\n",
       " 'STRIKE',\n",
       " 'SUICIDE',\n",
       " 'TERRORIST_OR_CRIMINAL',\n",
       " 'THEFT',\n",
       " 'TIME_EXACT',\n",
       " 'TIME_FUZZY',\n",
       " 'TIME_MAX',\n",
       " 'TIME_MIN',\n",
       " 'TRAFFICKING',\n",
       " 'WEIGHT',\n",
       " 'WIDTH'}"
      ]
     },
     "execution_count": 28,
     "metadata": {},
     "output_type": "execute_result"
    }
   ],
   "source": [
    "entity_classes = set(\n",
    "    sum(\n",
    "        labeled_clean_df.entities.apply(\n",
    "            lambda row: list({e[\"type\"] for e in row})\n",
    "        ).values.tolist(),\n",
    "        [],\n",
    "    )\n",
    ")\n",
    "print(len(entity_classes))\n",
    "entity_classes"
   ]
  },
  {
   "cell_type": "markdown",
   "metadata": {},
   "source": [
    "#### Summary stats on entity classes\n",
    "\n",
    "* entity type frequencies"
   ]
  },
  {
   "cell_type": "code",
   "execution_count": 29,
   "metadata": {},
   "outputs": [
    {
     "data": {
      "text/html": [
       "<div>\n",
       "<style scoped>\n",
       "    .dataframe tbody tr th:only-of-type {\n",
       "        vertical-align: middle;\n",
       "    }\n",
       "\n",
       "    .dataframe tbody tr th {\n",
       "        vertical-align: top;\n",
       "    }\n",
       "\n",
       "    .dataframe thead th {\n",
       "        text-align: right;\n",
       "    }\n",
       "</style>\n",
       "<table border=\"1\" class=\"dataframe\">\n",
       "  <thead>\n",
       "    <tr style=\"text-align: right;\">\n",
       "      <th></th>\n",
       "      <th>text</th>\n",
       "      <th>entities</th>\n",
       "      <th>relations</th>\n",
       "    </tr>\n",
       "    <tr>\n",
       "      <th>id</th>\n",
       "      <th></th>\n",
       "      <th></th>\n",
       "      <th></th>\n",
       "    </tr>\n",
       "  </thead>\n",
       "  <tbody>\n",
       "    <tr>\n",
       "      <th>181</th>\n",
       "      <td>Anam Destresse, président de l'ONG \"Ma passion...</td>\n",
       "      <td>[{\"id\": 0, \"mentions\": [{\"value\": \"accident\", ...</td>\n",
       "      <td>[[0, \"STARTED_IN\", 9], [7, \"IS_LOCATED_IN\", 9]...</td>\n",
       "    </tr>\n",
       "    <tr>\n",
       "      <th>31669</th>\n",
       "      <td>À Paris, le 8 avril 2022, l'usine de déodorant...</td>\n",
       "      <td>[{\"id\": 0, \"mentions\": [{\"value\": \"explosé\", \"...</td>\n",
       "      <td>[[9, \"IS_LOCATED_IN\", 8], [11, \"OPERATES_IN\", ...</td>\n",
       "    </tr>\n",
       "    <tr>\n",
       "      <th>51470</th>\n",
       "      <td>En Espagne, dans une région agricole, une cont...</td>\n",
       "      <td>[{\"id\": 0, \"mentions\": [{\"value\": \"contaminati...</td>\n",
       "      <td>[[7, \"IS_PART_OF\", 8], [9, \"OPERATES_IN\", 1], ...</td>\n",
       "    </tr>\n",
       "    <tr>\n",
       "      <th>51332</th>\n",
       "      <td>Un important incendie a fait des ravages dans ...</td>\n",
       "      <td>[{\"id\": 0, \"mentions\": [{\"value\": \"incendie\", ...</td>\n",
       "      <td>[[12, \"IS_IN_CONTACT_WITH\", 5], [0, \"IS_LOCATE...</td>\n",
       "    </tr>\n",
       "    <tr>\n",
       "      <th>1131</th>\n",
       "      <td>« Je coule » : onze heures après avoir envoyé ...</td>\n",
       "      <td>[{\"id\": 0, \"mentions\": [{\"value\": \"renversé\", ...</td>\n",
       "      <td>[[9, \"IS_LOCATED_IN\", 2], [0, \"START_DATE\", 17...</td>\n",
       "    </tr>\n",
       "  </tbody>\n",
       "</table>\n",
       "</div>"
      ],
      "text/plain": [
       "                                                    text  \\\n",
       "id                                                         \n",
       "181    Anam Destresse, président de l'ONG \"Ma passion...   \n",
       "31669  À Paris, le 8 avril 2022, l'usine de déodorant...   \n",
       "51470  En Espagne, dans une région agricole, une cont...   \n",
       "51332  Un important incendie a fait des ravages dans ...   \n",
       "1131   « Je coule » : onze heures après avoir envoyé ...   \n",
       "\n",
       "                                                entities  \\\n",
       "id                                                         \n",
       "181    [{\"id\": 0, \"mentions\": [{\"value\": \"accident\", ...   \n",
       "31669  [{\"id\": 0, \"mentions\": [{\"value\": \"explosé\", \"...   \n",
       "51470  [{\"id\": 0, \"mentions\": [{\"value\": \"contaminati...   \n",
       "51332  [{\"id\": 0, \"mentions\": [{\"value\": \"incendie\", ...   \n",
       "1131   [{\"id\": 0, \"mentions\": [{\"value\": \"renversé\", ...   \n",
       "\n",
       "                                               relations  \n",
       "id                                                        \n",
       "181    [[0, \"STARTED_IN\", 9], [7, \"IS_LOCATED_IN\", 9]...  \n",
       "31669  [[9, \"IS_LOCATED_IN\", 8], [11, \"OPERATES_IN\", ...  \n",
       "51470  [[7, \"IS_PART_OF\", 8], [9, \"OPERATES_IN\", 1], ...  \n",
       "51332  [[12, \"IS_IN_CONTACT_WITH\", 5], [0, \"IS_LOCATE...  \n",
       "1131   [[9, \"IS_LOCATED_IN\", 2], [0, \"START_DATE\", 17...  "
      ]
     },
     "execution_count": 29,
     "metadata": {},
     "output_type": "execute_result"
    }
   ],
   "source": [
    "labeled_raw_df[labeled_raw_df.entities.str.contains(\"MATERIEL\")].head()"
   ]
  },
  {
   "cell_type": "code",
   "execution_count": 30,
   "metadata": {},
   "outputs": [
    {
     "data": {
      "text/plain": [
       "<Axes: xlabel='Number of texts containing the entity', ylabel='Entity'>"
      ]
     },
     "execution_count": 30,
     "metadata": {},
     "output_type": "execute_result"
    },
    {
     "data": {
      "image/png": "[encoded data removed]",
      "text/plain": [
       "<Figure size 1500x1000 with 1 Axes>"
      ]
     },
     "metadata": {},
     "output_type": "display_data"
    }
   ],
   "source": [
    "plt.figure(figsize=(15, 10))\n",
    "n_texts_per_entity_type = pd.Series({cat: labeled_raw_df[labeled_raw_df.entities.str.contains(cat)].shape[0] for cat in entity_classes}).sort_values(ascending=True)\n",
    "n_texts_per_entity_type.plot.barh(xlabel=\"Number of texts containing the entity\", ylabel=\"Entity\")"
   ]
  },
  {
   "cell_type": "markdown",
   "metadata": {},
   "source": [
    "### Stats about the cooccurence between entity categories and relation categories\n",
    "\n",
    "For each relation category:\n",
    "- what is the number of time each entity category is e1?\n",
    "- what is the number of time each entity category is e2?\n",
    "- what pairs of entity categories are never into a relation?"
   ]
  },
  {
   "cell_type": "code",
   "execution_count": 31,
   "metadata": {},
   "outputs": [
    {
     "data": {
      "text/plain": [
       "array([['Anam Destresse, président de l\\'ONG \"Ma passion\", a été blessé dans un accident. Le 30 juin 2022, un accident de circulation s\\'est produit entre une moto et un bus sur l\\'autoroute de Saint-Marin en Italie. Le bus, qui transportait 20 passagers, appartenait à l\\'ONG. Lors de l\\'accident, les panneaux de signalisation ont été complètement endommagés et le garde du corps a été blessé. Au total, deux passagers sont morts sur le coup. Anam Destresse, qui faisait partie des blessés, a été transporté en hélicoptère jusqu\\'à l\\'hôpital. Le conducteur de la moto a été retrouvé mort en dessous du bus. Il conduisait sans permis et en état d\\'ivresse.',\n",
       "        list([{'id': 0, 'mentions': [{'value': 'accident', 'start': 70, 'end': 78}, {'value': 'accident de circulation', 'start': 100, 'end': 123}, {'value': 'accident', 'start': 275, 'end': 283}], 'type': 'ACCIDENT'}, {'id': 1, 'mentions': [{'value': 'Anam Destresse', 'start': 0, 'end': 14}, {'value': 'Anam Destresse', 'start': 431, 'end': 445}], 'type': 'CIVILIAN'}, {'id': 2, 'mentions': [{'value': 'moto', 'start': 148, 'end': 152}, {'value': 'moto', 'start': 550, 'end': 554}], 'type': 'MATERIEL'}, {'id': 3, 'mentions': [{'value': 'bus', 'start': 159, 'end': 162}, {'value': 'bus', 'start': 208, 'end': 211}, {'value': 'bus', 'start': 589, 'end': 592}], 'type': 'MATERIEL'}, {'id': 4, 'mentions': [{'value': 'panneaux de signalisation', 'start': 289, 'end': 314}], 'type': 'MATERIEL'}, {'id': 5, 'mentions': [{'value': 'blessés', 'start': 470, 'end': 477}], 'type': 'GROUP_OF_INDIVIDUALS'}, {'id': 6, 'mentions': [{'value': 'hélicoptère', 'start': 499, 'end': 510}], 'type': 'MATERIEL'}, {'id': 7, 'mentions': [{'value': 'garde du corps', 'start': 353, 'end': 367}], 'type': 'CIVILIAN'}, {'id': 8, 'mentions': [{'value': 'Ma passion', 'start': 36, 'end': 46}, {'value': 'ONG', 'start': 260, 'end': 263}], 'type': 'NON_GOVERNMENTAL_ORGANISATION'}, {'id': 9, 'mentions': [{'value': 'autoroute de Saint-Marin', 'start': 169, 'end': 193}], 'type': 'PLACE'}, {'id': 10, 'mentions': [{'value': 'Italie', 'start': 197, 'end': 203}], 'type': 'PLACE'}, {'id': 11, 'mentions': [{'value': 'hôpital', 'start': 521, 'end': 528}], 'type': 'PLACE'}, {'id': 12, 'mentions': [{'value': 'passagers', 'start': 233, 'end': 242}], 'type': 'GROUP_OF_INDIVIDUALS'}, {'id': 13, 'mentions': [{'value': 'passagers', 'start': 397, 'end': 406}], 'type': 'GROUP_OF_INDIVIDUALS'}, {'id': 14, 'mentions': [{'value': 'conducteur', 'start': 533, 'end': 543}, {'value': 'Il', 'start': 594, 'end': 596}], 'type': 'TERRORIST_OR_CRIMINAL'}, {'id': 15, 'mentions': [{'value': '30 juin 2022', 'start': 83, 'end': 95}], 'type': 'TIME_EXACT'}, {'id': 16, 'mentions': [{'value': 'Anam', 'start': 0, 'end': 4}], 'type': 'FIRSTNAME'}, {'id': 17, 'mentions': [{'value': 'Destresse', 'start': 5, 'end': 14}], 'type': 'LASTNAME'}, {'id': 18, 'mentions': [{'value': 'président', 'start': 16, 'end': 25}], 'type': 'CATEGORY'}, {'id': 19, 'mentions': [{'value': 'garde du corps', 'start': 353, 'end': 367}], 'type': 'CATEGORY'}, {'id': 20, 'mentions': [{'value': 'conducteur', 'start': 533, 'end': 543}], 'type': 'CATEGORY'}, {'id': 21, 'mentions': [{'value': 'deux', 'start': 392, 'end': 396}], 'type': 'QUANTITY_EXACT'}, {'id': 22, 'mentions': [{'value': '20', 'start': 230, 'end': 232}], 'type': 'QUANTITY_EXACT'}, {'id': 23, 'mentions': [{'value': 'Anam', 'start': 431, 'end': 435}], 'type': 'FIRSTNAME'}, {'id': 24, 'mentions': [{'value': 'Destresse', 'start': 436, 'end': 445}], 'type': 'LASTNAME'}]),\n",
       "        list([[0, 'STARTED_IN', 9], [7, 'IS_LOCATED_IN', 9], [5, 'IS_LOCATED_IN', 10], [1, 'GENDER_FEMALE', 1], [12, 'IS_LOCATED_IN', 10], [0, 'IS_LOCATED_IN', 10], [1, 'IS_LOCATED_IN', 10], [13, 'IS_LOCATED_IN', 9], [14, 'IS_LOCATED_IN', 10], [1, 'HAS_CATEGORY', 18], [5, 'IS_LOCATED_IN', 9], [9, 'IS_LOCATED_IN', 10], [14, 'IS_DEAD_ON', 15], [7, 'HAS_CATEGORY', 19], [12, 'IS_LOCATED_IN', 9], [0, 'IS_LOCATED_IN', 9], [7, 'GENDER_MALE', 7], [11, 'IS_LOCATED_IN', 10], [1, 'IS_LOCATED_IN', 9], [14, 'IS_LOCATED_IN', 9], [14, 'HAS_CATEGORY', 20], [0, 'STARTED_IN', 10], [0, 'START_DATE', 15], [7, 'IS_LOCATED_IN', 10], [0, 'END_DATE', 15], [14, 'GENDER_MALE', 14], [12, 'IS_OF_SIZE', 22], [13, 'IS_LOCATED_IN', 10], [1, 'IS_LOCATED_IN', 11], [13, 'IS_OF_SIZE', 21]])],\n",
       "       ['À Paris, le 8 avril 2022, l\\'usine de déodorant \"Vant\" a pris feu suite à une cuve pressurisée contenant des produits inflammables qui a explosé. Monsieur Martin Deneuve, membre de l\\'association \"Propreté pour tous\", était de passage à l\\'usine ce jour-là pour s\\'assurer de l\\'hygiène des locaux. Une alarme a ensuite retenti dans les couloirs, sommant tout le personnel de se diriger vers les portes de sortie. Monsieur Christophe Rémi, un laborantin, était encore aux toilettes quand tout le monde a évacué le bâtiment. En voulant sortir à son tour, il s\\'est dirigé vers la salle de contrôle. Ainsi, il a vu les dizaines de moniteurs virer au rouge, indiquant une alerte de surchauffe. Finalement, il a été évacué par les pompiers, sain et sauf. Se trouvant juste à côté de la sortie de secours au moment de l\\'explosion, Monsieur Martin Deneuve a pu sortir le premier.',\n",
       "        list([{'id': 0, 'mentions': [{'value': 'explosé', 'start': 136, 'end': 143}, {'value': 'explosion', 'start': 809, 'end': 818}], 'type': 'CBRN_EVENT'}, {'id': 1, 'mentions': [{'value': 'Martin Deneuve', 'start': 154, 'end': 168}, {'value': 'Martin Deneuve', 'start': 829, 'end': 843}], 'type': 'CIVILIAN'}, {'id': 2, 'mentions': [{'value': 'Christophe Rémi', 'start': 418, 'end': 433}, {'value': 'il', 'start': 549, 'end': 551}, {'value': 'il', 'start': 599, 'end': 601}, {'value': 'il', 'start': 697, 'end': 699}], 'type': 'CIVILIAN'}, {'id': 3, 'mentions': [{'value': 'personnel', 'start': 358, 'end': 367}], 'type': 'GROUP_OF_INDIVIDUALS'}, {'id': 4, 'mentions': [{'value': 'Vant', 'start': 48, 'end': 52}], 'type': 'NON_GOVERNMENTAL_ORGANISATION'}, {'id': 5, 'mentions': [{'value': 'Paris', 'start': 2, 'end': 7}], 'type': 'PLACE'}, {'id': 6, 'mentions': [{'value': 'produits inflammables', 'start': 108, 'end': 129}], 'type': 'MATERIEL'}, {'id': 7, 'mentions': [{'value': 'usine', 'start': 237, 'end': 242}, {'value': 'bâtiment', 'start': 509, 'end': 517}, {'value': 'usine de déodorant', 'start': 28, 'end': 46}], 'type': 'PLACE'}, {'id': 8, 'mentions': [{'value': 'locaux', 'start': 286, 'end': 292}], 'type': 'PLACE'}, {'id': 9, 'mentions': [{'value': 'salle de contrôle', 'start': 573, 'end': 590}], 'type': 'PLACE'}, {'id': 10, 'mentions': [{'value': 'cuve pressurisée', 'start': 77, 'end': 93}], 'type': 'MATERIEL'}, {'id': 11, 'mentions': [{'value': 'Propreté pour tous', 'start': 195, 'end': 213}], 'type': 'NON_GOVERNMENTAL_ORGANISATION'}, {'id': 12, 'mentions': [{'value': 'couloirs', 'start': 332, 'end': 340}], 'type': 'PLACE'}, {'id': 13, 'mentions': [{'value': 'toilettes', 'start': 467, 'end': 476}], 'type': 'PLACE'}, {'id': 14, 'mentions': [{'value': 'pompiers', 'start': 721, 'end': 729}], 'type': 'NON_MILITARY_GOVERNMENT_ORGANISATION'}, {'id': 15, 'mentions': [{'value': 'sortie de secours', 'start': 776, 'end': 793}], 'type': 'PLACE'}, {'id': 16, 'mentions': [{'value': 'surchauffe', 'start': 673, 'end': 683}], 'type': 'ACCIDENT'}, {'id': 17, 'mentions': [{'value': 'pris feu', 'start': 56, 'end': 64}], 'type': 'FIRE'}, {'id': 18, 'mentions': [{'value': 'alarme', 'start': 298, 'end': 304}], 'type': 'MATERIEL'}, {'id': 19, 'mentions': [{'value': 'portes de sortie', 'start': 391, 'end': 407}], 'type': 'MATERIEL'}, {'id': 20, 'mentions': [{'value': 'moniteurs', 'start': 623, 'end': 632}], 'type': 'MATERIEL'}, {'id': 21, 'mentions': [{'value': '8 avril 2022', 'start': 12, 'end': 24}], 'type': 'TIME_EXACT'}, {'id': 22, 'mentions': [{'value': 'jour-là', 'start': 246, 'end': 253}], 'type': 'TIME_EXACT'}, {'id': 23, 'mentions': [{'value': 'Martin', 'start': 154, 'end': 160}], 'type': 'FIRSTNAME'}, {'id': 24, 'mentions': [{'value': 'Deneuve', 'start': 161, 'end': 168}], 'type': 'LASTNAME'}, {'id': 25, 'mentions': [{'value': 'Rémi', 'start': 429, 'end': 433}], 'type': 'LASTNAME'}, {'id': 26, 'mentions': [{'value': 'Christophe', 'start': 418, 'end': 428}], 'type': 'FIRSTNAME'}, {'id': 27, 'mentions': [{'value': 'laborantin', 'start': 438, 'end': 448}], 'type': 'CATEGORY'}, {'id': 28, 'mentions': [{'value': 'rouge', 'start': 642, 'end': 647}], 'type': 'COLOR'}, {'id': 29, 'mentions': [{'value': 'dizaines', 'start': 611, 'end': 619}], 'type': 'QUANTITY_FUZZY'}, {'id': 30, 'mentions': [{'value': 'Martin', 'start': 829, 'end': 835}], 'type': 'FIRSTNAME'}, {'id': 31, 'mentions': [{'value': 'Deneuve', 'start': 836, 'end': 843}], 'type': 'LASTNAME'}]),\n",
       "        list([[9, 'IS_LOCATED_IN', 8], [11, 'OPERATES_IN', 8], [17, 'STARTED_IN', 7], [11, 'OPERATES_IN', 5], [16, 'STARTED_IN', 8], [16, 'STARTED_IN', 5], [14, 'OPERATES_IN', 7], [1, 'IS_LOCATED_IN', 7], [14, 'OPERATES_IN', 13], [2, 'HAS_CATEGORY', 27], [17, 'END_DATE', 21], [17, 'START_DATE', 21], [2, 'IS_LOCATED_IN', 7], [2, 'IS_LOCATED_IN', 13], [0, 'STARTED_IN', 5], [7, 'IS_LOCATED_IN', 5], [4, 'OPERATES_IN', 5], [11, 'OPERATES_IN', 7], [11, 'OPERATES_IN', 13], [20, 'HAS_QUANTITY', 29], [8, 'IS_LOCATED_IN', 7], [16, 'STARTED_IN', 7], [14, 'OPERATES_IN', 9], [14, 'OPERATES_IN', 12], [13, 'IS_LOCATED_IN', 8], [16, 'START_DATE', 21], [2, 'GENDER_MALE', 2], [1, 'IS_LOCATED_IN', 15], [16, 'END_DATE', 21], [2, 'IS_LOCATED_IN', 9], [0, 'STARTED_IN', 7], [15, 'IS_LOCATED_IN', 8], [0, 'START_DATE', 21], [20, 'HAS_COLOR', 28], [17, 'STARTED_IN', 5], [11, 'OPERATES_IN', 9], [12, 'IS_LOCATED_IN', 8], [11, 'OPERATES_IN', 12], [11, 'OPERATES_IN', 15], [0, 'END_DATE', 21], [1, 'IS_LOCATED_IN', 5], [16, 'STARTED_IN', 9], [14, 'OPERATES_IN', 8], [14, 'OPERATES_IN', 5], [1, 'IS_LOCATED_IN', 8], [2, 'IS_LOCATED_IN', 8], [1, 'GENDER_MALE', 1]])],\n",
       "       ['En Espagne, dans une région agricole, une contamination des eaux souterraines a été découverte par les autorités, le 19 octobre 2012. Il s’agit d’une contamination aux nitrates provenant de l’épandage d\\'engrais chimiques sur les terres agricoles où sont cultivés essentiellement du blé et du maïs. La contamination a été détectée par M. Fernandez du laboratoire \"FileGen\". Pour faire face à cette situation alarmante, la Direction générale des Eaux et la Direction de l’Environnement ont décidé de rédiger un document pour la régulation des engrais chimiques utilisé en espagne. ',\n",
       "        list([{'id': 0, 'mentions': [{'value': 'contamination', 'start': 42, 'end': 55}, {'value': 'contamination', 'start': 150, 'end': 163}, {'value': 'contamination', 'start': 301, 'end': 314}, {'value': 'situation alarmante', 'start': 397, 'end': 416}], 'type': 'POLLUTION'}, {'id': 1, 'mentions': [{'value': 'Espagne', 'start': 3, 'end': 10}, {'value': 'espagne', 'start': 570, 'end': 577}], 'type': 'PLACE'}, {'id': 2, 'mentions': [{'value': 'région agricole', 'start': 21, 'end': 36}], 'type': 'PLACE'}, {'id': 3, 'mentions': [{'value': 'nitrates', 'start': 168, 'end': 176}], 'type': 'MATERIEL'}, {'id': 4, 'mentions': [{'value': 'terres agricoles', 'start': 229, 'end': 245}], 'type': 'PLACE'}, {'id': 5, 'mentions': [{'value': 'blé', 'start': 282, 'end': 285}], 'type': 'MATERIEL'}, {'id': 6, 'mentions': [{'value': 'maïs', 'start': 292, 'end': 296}], 'type': 'MATERIEL'}, {'id': 7, 'mentions': [{'value': 'Fernandez', 'start': 337, 'end': 346}], 'type': 'CIVILIAN'}, {'id': 8, 'mentions': [{'value': 'FileGen', 'start': 363, 'end': 370}], 'type': 'NON_GOVERNMENTAL_ORGANISATION'}, {'id': 9, 'mentions': [{'value': 'Direction générale des Eaux', 'start': 421, 'end': 448}], 'type': 'NON_MILITARY_GOVERNMENT_ORGANISATION'}, {'id': 10, 'mentions': [{'value': 'Direction de l’Environnement', 'start': 455, 'end': 483}], 'type': 'NON_MILITARY_GOVERNMENT_ORGANISATION'}, {'id': 11, 'mentions': [{'value': 'engrais chimiques', 'start': 203, 'end': 220}], 'type': 'MATERIEL'}, {'id': 12, 'mentions': [{'value': 'eaux souterraines', 'start': 60, 'end': 77}], 'type': 'MATERIEL'}, {'id': 13, 'mentions': [{'value': 'engrais chimiques', 'start': 541, 'end': 558}], 'type': 'MATERIEL'}, {'id': 14, 'mentions': [{'value': 'autorités', 'start': 103, 'end': 112}], 'type': 'NON_MILITARY_GOVERNMENT_ORGANISATION'}, {'id': 15, 'mentions': [{'value': 'document', 'start': 509, 'end': 517}], 'type': 'MATERIEL'}, {'id': 16, 'mentions': [{'value': '19 octobre 2012', 'start': 117, 'end': 132}], 'type': 'TIME_EXACT'}, {'id': 17, 'mentions': [{'value': 'Fernandez', 'start': 337, 'end': 346}], 'type': 'LASTNAME'}]),\n",
       "        list([[7, 'IS_PART_OF', 8], [9, 'OPERATES_IN', 1], [0, 'IS_LOCATED_IN', 4], [9, 'CREATED', 15], [0, 'IS_LOCATED_IN', 1], [14, 'OPERATES_IN', 4], [10, 'IS_IN_CONTACT_WITH', 9], [10, 'CREATED', 15], [14, 'OPERATES_IN', 1], [2, 'IS_LOCATED_IN', 1], [9, 'HAS_CONTROL_OVER', 15], [0, 'STARTED_IN', 2], [10, 'OPERATES_IN', 1], [0, 'START_DATE', 16], [8, 'OPERATES_IN', 1], [10, 'HAS_CONTROL_OVER', 15], [10, 'IS_COOPERATING_WITH', 9], [7, 'GENDER_MALE', 7], [4, 'IS_LOCATED_IN', 2], [0, 'STARTED_IN', 1], [0, 'STARTED_IN', 4], [9, 'IS_IN_CONTACT_WITH', 10], [0, 'IS_LOCATED_IN', 2], [14, 'OPERATES_IN', 2], [9, 'IS_COOPERATING_WITH', 10]])],\n",
       "       ...,\n",
       "       [\"Le 13 mars 2001, Belgrade a connu un krach boursier à la suite de la vente de terres étatiques. Les particuliers se sont tournés vers le secteur informel, mettant ainsi les banques en difficulté. Par exemple, de nombreux véhicules sortis du marché ont été revendus en pièces détachées par leur propriétaire. Les pneus de 10 kg étaient très recherchés et se vendaient à des prix astronomiques. M. Thibault Alekseï, un des concernés, a affirmé que la situation était d'autant plus critique avec le niveau élevé de l'inflation.\\n\",\n",
       "        list([{'id': 0, 'mentions': [{'value': 'krach boursier', 'start': 37, 'end': 51}], 'type': 'ECONOMICAL_CRISIS'}, {'id': 1, 'mentions': [{'value': 'situation', 'start': 449, 'end': 458}], 'type': 'ECONOMICAL_CRISIS'}, {'id': 2, 'mentions': [{'value': 'inflation', 'start': 514, 'end': 523}], 'type': 'ECONOMICAL_CRISIS'}, {'id': 3, 'mentions': [{'value': 'Belgrade', 'start': 17, 'end': 25}], 'type': 'PLACE'}, {'id': 4, 'mentions': [{'value': 'particuliers', 'start': 100, 'end': 112}, {'value': 'concernés', 'start': 421, 'end': 430}], 'type': 'GROUP_OF_INDIVIDUALS'}, {'id': 5, 'mentions': [{'value': 'banques', 'start': 173, 'end': 180}], 'type': 'NON_GOVERNMENTAL_ORGANISATION'}, {'id': 6, 'mentions': [{'value': 'véhicules', 'start': 221, 'end': 230}], 'type': 'MATERIEL'}, {'id': 7, 'mentions': [{'value': 'pièces détachées', 'start': 268, 'end': 284}], 'type': 'MATERIEL'}, {'id': 8, 'mentions': [{'value': 'pneus', 'start': 312, 'end': 317}], 'type': 'MATERIEL'}, {'id': 9, 'mentions': [{'value': 'propriétaire', 'start': 294, 'end': 306}], 'type': 'CIVILIAN'}, {'id': 10, 'mentions': [{'value': 'Thibault Alekseï', 'start': 396, 'end': 412}], 'type': 'CIVILIAN'}, {'id': 11, 'mentions': [{'value': 'terres', 'start': 78, 'end': 84}], 'type': 'PLACE'}, {'id': 12, 'mentions': [{'value': 'Thibault', 'start': 396, 'end': 404}], 'type': 'FIRSTNAME'}, {'id': 13, 'mentions': [{'value': 'Alekseï', 'start': 405, 'end': 412}], 'type': 'LASTNAME'}, {'id': 14, 'mentions': [{'value': '10 kg', 'start': 321, 'end': 326}], 'type': 'WEIGHT'}, {'id': 15, 'mentions': [{'value': 'propriétaire', 'start': 294, 'end': 306}], 'type': 'CATEGORY'}, {'id': 16, 'mentions': [{'value': '13 mars 2001', 'start': 3, 'end': 15}], 'type': 'TIME_EXACT'}, {'id': 17, 'mentions': [{'value': 'nombreux', 'start': 212, 'end': 220}], 'type': 'QUANTITY_FUZZY'}]),\n",
       "        list([[1, 'STARTED_IN', 3], [10, 'IS_PART_OF', 4], [2, 'STARTED_IN', 3], [9, 'HAS_CONTROL_OVER', 6], [5, 'OPERATES_IN', 3], [4, 'IS_LOCATED_IN', 3], [10, 'GENDER_MALE', 10], [2, 'HAS_CONSEQUENCE', 0], [0, 'START_DATE', 16], [1, 'HAS_CONSEQUENCE', 0], [9, 'HAS_CATEGORY', 15], [1, 'START_DATE', 16], [0, 'IS_LOCATED_IN', 3], [2, 'START_DATE', 16], [1, 'IS_LOCATED_IN', 3], [9, 'GENDER_MALE', 9], [2, 'IS_LOCATED_IN', 3], [9, 'IS_LOCATED_IN', 3], [8, 'WEIGHS', 14], [6, 'HAS_QUANTITY', 17], [1, 'HAS_CONSEQUENCE', 2], [10, 'IS_LOCATED_IN', 3], [11, 'IS_LOCATED_IN', 3], [9, 'HAS_CONTROL_OVER', 7], [0, 'STARTED_IN', 3]])],\n",
       "       ['L\\'incendie du laboratoire \"FileGen\" a eu lieu le 20 mai 2020 à Madrid. Un feu s’est déclaré dans le laboratoire de la rue Neuve. Il a causé une grosse perte matérielle et humaine pour la ville. Plus de 150 pompiers ont été mobilisés pour le combattre et un camion-citerne de 15 tonnes, transportant de l’eau, a parcouru la ville pour éteindre le feu. Plusieurs voitures et motos ont été brûlées également. L\\'un des employés, Arthur Fernandez a déclaré à la télévision que cette catastrophe a été l\\'incendie le plus meurtrier qu\\'ait connu le pays en temps de paix.\\n',\n",
       "        list([{'id': 0, 'mentions': [{'value': 'incendie', 'start': 2, 'end': 10}, {'value': 'feu', 'start': 74, 'end': 77}, {'value': 'feu', 'start': 346, 'end': 349}, {'value': 'catastrophe', 'start': 478, 'end': 489}, {'value': 'incendie', 'start': 498, 'end': 506}, {'value': 'brûlées', 'start': 387, 'end': 394}, {'value': 'Il', 'start': 129, 'end': 131}, {'value': 'le', 'start': 238, 'end': 240}], 'type': 'FIRE'}, {'id': 1, 'mentions': [{'value': 'FileGen', 'start': 27, 'end': 34}], 'type': 'NON_GOVERNMENTAL_ORGANISATION'}, {'id': 2, 'mentions': [{'value': 'Madrid', 'start': 63, 'end': 69}, {'value': 'ville', 'start': 187, 'end': 192}, {'value': 'ville', 'start': 323, 'end': 328}], 'type': 'PLACE'}, {'id': 3, 'mentions': [{'value': 'rue Neuve', 'start': 118, 'end': 127}], 'type': 'PLACE'}, {'id': 4, 'mentions': [{'value': 'laboratoire', 'start': 100, 'end': 111}, {'value': 'laboratoire', 'start': 14, 'end': 25}], 'type': 'PLACE'}, {'id': 5, 'mentions': [{'value': 'pays', 'start': 541, 'end': 545}], 'type': 'PLACE'}, {'id': 6, 'mentions': [{'value': 'Arthur Fernandez', 'start': 425, 'end': 441}], 'type': 'CIVILIAN'}, {'id': 7, 'mentions': [{'value': 'pompiers', 'start': 206, 'end': 214}], 'type': 'GROUP_OF_INDIVIDUALS'}, {'id': 8, 'mentions': [{'value': 'camion-citerne', 'start': 257, 'end': 271}], 'type': 'MATERIEL'}, {'id': 9, 'mentions': [{'value': 'voitures', 'start': 361, 'end': 369}], 'type': 'MATERIEL'}, {'id': 10, 'mentions': [{'value': 'motos', 'start': 373, 'end': 378}], 'type': 'MATERIEL'}, {'id': 11, 'mentions': [{'value': 'employés', 'start': 415, 'end': 423}], 'type': 'GROUP_OF_INDIVIDUALS'}, {'id': 12, 'mentions': [{'value': 'eau', 'start': 304, 'end': 307}], 'type': 'MATERIEL'}, {'id': 13, 'mentions': [{'value': '15 tonnes', 'start': 275, 'end': 284}], 'type': 'WEIGHT'}, {'id': 14, 'mentions': [{'value': 'employés', 'start': 415, 'end': 423}], 'type': 'CATEGORY'}, {'id': 15, 'mentions': [{'value': 'Arthur', 'start': 425, 'end': 431}], 'type': 'FIRSTNAME'}, {'id': 16, 'mentions': [{'value': 'Fernandez', 'start': 432, 'end': 441}], 'type': 'LASTNAME'}, {'id': 17, 'mentions': [{'value': '20 mai 2020', 'start': 49, 'end': 60}], 'type': 'TIME_EXACT'}, {'id': 18, 'mentions': [{'value': '150', 'start': 202, 'end': 205}], 'type': 'QUANTITY_MIN'}, {'id': 19, 'mentions': [{'value': 'Plusieurs', 'start': 351, 'end': 360}], 'type': 'QUANTITY_FUZZY'}]),\n",
       "        list([[1, 'HAS_CONTROL_OVER', 3], [7, 'IS_LOCATED_IN', 3], [0, 'START_DATE', 17], [1, 'OPERATES_IN', 4], [0, 'IS_LOCATED_IN', 4], [0, 'END_DATE', 17], [11, 'IS_LOCATED_IN', 5], [4, 'IS_LOCATED_IN', 3], [6, 'IS_LOCATED_IN', 5], [0, 'STARTED_IN', 2], [0, 'STARTED_IN', 5], [7, 'IS_LOCATED_IN', 2], [7, 'IS_LOCATED_IN', 5], [1, 'HAS_CONTROL_OVER', 2], [1, 'OPERATES_IN', 3], [0, 'IS_LOCATED_IN', 3], [3, 'IS_LOCATED_IN', 2], [7, 'HAS_CONTROL_OVER', 12], [6, 'HAS_CATEGORY', 14], [0, 'STARTED_IN', 4], [7, 'IS_LOCATED_IN', 4], [1, 'HAS_CONTROL_OVER', 4], [1, 'OPERATES_IN', 2], [6, 'GENDER_MALE', 6], [7, 'IS_OF_SIZE', 18], [0, 'IS_LOCATED_IN', 2], [1, 'OPERATES_IN', 5], [9, 'HAS_QUANTITY', 19], [0, 'IS_LOCATED_IN', 5], [7, 'HAS_CONTROL_OVER', 2], [10, 'HAS_QUANTITY', 19], [7, 'HAS_CONTROL_OVER', 8], [6, 'IS_PART_OF', 11], [2, 'IS_LOCATED_IN', 5], [0, 'STARTED_IN', 3], [8, 'WEIGHS', 13]])],\n",
       "       ['L’avion NY8 de la compagnie Airîle a lancé sa dernière position via le signal radio avant de se crasher dans une forêt en Malaisie le 19 février 2003. La compagnie aérienne a alerté les secours pour évacuer les passagers. Les hélicoptères d’urgence ont retrouvé l’appareil en feu. Les autorités malaisiennes ont recensé 15 morts au total. Cet incident n’a fait que peu de survivants, dont Constance Dupuis, présidente de l’association « des médicaments pour tous » en Grèce. D’après son témoignage, le NY8 a connu une défaillance technique que les pilotes n’ont pas pu contrôler. Les corps ont été transportés par brancard à la morgue.',\n",
       "        list([{'id': 0, 'mentions': [{'value': 'crasher', 'start': 96, 'end': 103}, {'value': 'incident', 'start': 343, 'end': 351}], 'type': 'ACCIDENT'}, {'id': 1, 'mentions': [{'value': 'défaillance technique', 'start': 518, 'end': 539}], 'type': 'ACCIDENT'}, {'id': 2, 'mentions': [{'value': 'feu', 'start': 276, 'end': 279}], 'type': 'FIRE'}, {'id': 3, 'mentions': [{'value': 'hélicoptères d’urgence', 'start': 226, 'end': 248}], 'type': 'MATERIEL'}, {'id': 4, 'mentions': [{'value': 'appareil', 'start': 264, 'end': 272}, {'value': 'avion NY8', 'start': 2, 'end': 11}, {'value': 'NY8', 'start': 502, 'end': 505}], 'type': 'MATERIEL'}, {'id': 5, 'mentions': [{'value': 'brancard', 'start': 614, 'end': 622}], 'type': 'MATERIEL'}, {'id': 6, 'mentions': [{'value': 'morgue', 'start': 628, 'end': 634}], 'type': 'PLACE'}, {'id': 7, 'mentions': [{'value': 'Malaisie', 'start': 122, 'end': 130}], 'type': 'PLACE'}, {'id': 8, 'mentions': [{'value': 'forêt', 'start': 113, 'end': 118}], 'type': 'PLACE'}, {'id': 9, 'mentions': [{'value': 'Grèce', 'start': 468, 'end': 473}], 'type': 'PLACE'}, {'id': 10, 'mentions': [{'value': 'secours', 'start': 186, 'end': 193}], 'type': 'NON_MILITARY_GOVERNMENT_ORGANISATION'}, {'id': 11, 'mentions': [{'value': 'passagers', 'start': 211, 'end': 220}], 'type': 'GROUP_OF_INDIVIDUALS'}, {'id': 12, 'mentions': [{'value': 'pilotes', 'start': 548, 'end': 555}], 'type': 'GROUP_OF_INDIVIDUALS'}, {'id': 13, 'mentions': [{'value': 'compagnie aérienne', 'start': 154, 'end': 172}, {'value': 'Airîle', 'start': 28, 'end': 34}], 'type': 'NON_GOVERNMENTAL_ORGANISATION'}, {'id': 14, 'mentions': [{'value': 'Constance Dupuis', 'start': 389, 'end': 405}], 'type': 'CIVILIAN'}, {'id': 15, 'mentions': [{'value': 'des médicaments pour tous', 'start': 437, 'end': 462}], 'type': 'NON_GOVERNMENTAL_ORGANISATION'}, {'id': 16, 'mentions': [{'value': 'morts', 'start': 323, 'end': 328}], 'type': 'GROUP_OF_INDIVIDUALS'}, {'id': 17, 'mentions': [{'value': 'survivants', 'start': 372, 'end': 382}], 'type': 'GROUP_OF_INDIVIDUALS'}, {'id': 18, 'mentions': [{'value': 'position', 'start': 55, 'end': 63}], 'type': 'PLACE'}, {'id': 19, 'mentions': [{'value': 'autorités', 'start': 285, 'end': 294}], 'type': 'GROUP_OF_INDIVIDUALS'}, {'id': 20, 'mentions': [{'value': 'Constance', 'start': 389, 'end': 398}], 'type': 'FIRSTNAME'}, {'id': 21, 'mentions': [{'value': 'Dupuis', 'start': 399, 'end': 405}], 'type': 'LASTNAME'}, {'id': 22, 'mentions': [{'value': 'présidente', 'start': 407, 'end': 417}], 'type': 'CATEGORY'}, {'id': 23, 'mentions': [{'value': 'NY8', 'start': 502, 'end': 505}], 'type': 'MATERIAL_REFERENCE'}, {'id': 24, 'mentions': [{'value': '19 février 2003', 'start': 134, 'end': 149}], 'type': 'TIME_EXACT'}, {'id': 25, 'mentions': [{'value': '15', 'start': 320, 'end': 322}], 'type': 'QUANTITY_EXACT'}]),\n",
       "        list([[14, 'HAS_CATEGORY', 22], [10, 'OPERATES_IN', 8], [1, 'END_DATE', 24], [11, 'HAS_CONTROL_OVER', 4], [17, 'IS_LOCATED_IN', 18], [11, 'HAS_CONTROL_OVER', 7], [11, 'HAS_CONTROL_OVER', 13], [16, 'HAS_CONTROL_OVER', 5], [12, 'IS_LOCATED_IN', 7], [0, 'IS_LOCATED_IN', 7], [14, 'HAS_CONTROL_OVER', 9], [13, 'OPERATES_IN', 18], [14, 'HAS_CONTROL_OVER', 15], [1, 'IS_LOCATED_IN', 7], [19, 'IS_LOCATED_IN', 18], [14, 'IS_PART_OF', 15], [13, 'IS_IN_CONTACT_WITH', 10], [16, 'IS_PART_OF', 11], [15, 'OPERATES_IN', 9], [16, 'IS_LOCATED_IN', 6], [2, 'IS_LOCATED_IN', 7], [0, 'STARTED_IN', 8], [16, 'IS_LOCATED_IN', 18], [12, 'HAS_CONTROL_OVER', 8], [10, 'OPERATES_IN', 7], [4, 'IS_REGISTERED_AS', 23], [17, 'IS_LOCATED_IN', 8], [1, 'HAS_CONSEQUENCE', 0], [19, 'HAS_CONTROL_OVER', 16], [13, 'OPERATES_IN', 8], [8, 'IS_LOCATED_IN', 7], [19, 'IS_LOCATED_IN', 8], [0, 'HAS_CONSEQUENCE', 2], [12, 'IS_LOCATED_IN', 18], [2, 'STARTED_IN', 8], [14, 'IS_PART_OF', 11], [6, 'IS_LOCATED_IN', 7], [1, 'IS_LOCATED_IN', 18], [16, 'IS_LOCATED_IN', 8], [12, 'HAS_CONTROL_OVER', 4], [14, 'IS_PART_OF', 17], [12, 'HAS_CONTROL_OVER', 7], [12, 'HAS_CONTROL_OVER', 13], [0, 'DEATHS_NUMBER', 25], [10, 'OPERATES_IN', 6], [17, 'IS_LOCATED_IN', 7], [11, 'HAS_CONTROL_OVER', 8], [16, 'IS_OF_SIZE', 25], [0, 'START_DATE', 24], [1, 'STARTED_IN', 7], [1, 'HAS_CONSEQUENCE', 2], [10, 'OPERATES_IN', 18], [18, 'IS_LOCATED_IN', 8], [12, 'IS_LOCATED_IN', 8], [1, 'START_DATE', 24], [13, 'OPERATES_IN', 7], [14, 'HAS_CONTROL_OVER', 4], [10, 'IS_IN_CONTACT_WITH', 13], [16, 'HAS_CONTROL_OVER', 6], [0, 'IS_LOCATED_IN', 8], [14, 'GENDER_FEMALE', 14], [2, 'END_DATE', 24], [19, 'IS_LOCATED_IN', 7], [0, 'END_DATE', 24], [17, 'IS_PART_OF', 11], [1, 'IS_LOCATED_IN', 8], [2, 'START_DATE', 24], [16, 'IS_LOCATED_IN', 7], [2, 'IS_LOCATED_IN', 8]])]],\n",
       "      dtype=object)"
      ]
     },
     "execution_count": 31,
     "metadata": {},
     "output_type": "execute_result"
    }
   ],
   "source": [
    "labeled_clean_df.values"
   ]
  },
  {
   "cell_type": "code",
   "execution_count": 32,
   "metadata": {},
   "outputs": [],
   "source": [
    "for text_idx, text, text_entities, text_relations in labeled_clean_df.reset_index().values:\n",
    "    pass"
   ]
  },
  {
   "cell_type": "code",
   "execution_count": 33,
   "metadata": {},
   "outputs": [
    {
     "name": "stderr",
     "output_type": "stream",
     "text": [
      "[07:45:04|INFO|16258189.py:8] entity_relation_cat_df.shape=(31469, 4)\n"
     ]
    },
    {
     "data": {
      "text/html": [
       "<div>\n",
       "<style scoped>\n",
       "    .dataframe tbody tr th:only-of-type {\n",
       "        vertical-align: middle;\n",
       "    }\n",
       "\n",
       "    .dataframe tbody tr th {\n",
       "        vertical-align: top;\n",
       "    }\n",
       "\n",
       "    .dataframe thead th {\n",
       "        text-align: right;\n",
       "    }\n",
       "</style>\n",
       "<table border=\"1\" class=\"dataframe\">\n",
       "  <thead>\n",
       "    <tr style=\"text-align: right;\">\n",
       "      <th></th>\n",
       "      <th>text_id</th>\n",
       "      <th>e1_cat</th>\n",
       "      <th>r_cat</th>\n",
       "      <th>e2_cat</th>\n",
       "    </tr>\n",
       "  </thead>\n",
       "  <tbody>\n",
       "    <tr>\n",
       "      <th>0</th>\n",
       "      <td>181</td>\n",
       "      <td>ACCIDENT</td>\n",
       "      <td>STARTED_IN</td>\n",
       "      <td>PLACE</td>\n",
       "    </tr>\n",
       "    <tr>\n",
       "      <th>1</th>\n",
       "      <td>181</td>\n",
       "      <td>CIVILIAN</td>\n",
       "      <td>IS_LOCATED_IN</td>\n",
       "      <td>PLACE</td>\n",
       "    </tr>\n",
       "    <tr>\n",
       "      <th>2</th>\n",
       "      <td>181</td>\n",
       "      <td>GROUP_OF_INDIVIDUALS</td>\n",
       "      <td>IS_LOCATED_IN</td>\n",
       "      <td>PLACE</td>\n",
       "    </tr>\n",
       "    <tr>\n",
       "      <th>3</th>\n",
       "      <td>181</td>\n",
       "      <td>CIVILIAN</td>\n",
       "      <td>GENDER_FEMALE</td>\n",
       "      <td>CIVILIAN</td>\n",
       "    </tr>\n",
       "    <tr>\n",
       "      <th>4</th>\n",
       "      <td>181</td>\n",
       "      <td>GROUP_OF_INDIVIDUALS</td>\n",
       "      <td>IS_LOCATED_IN</td>\n",
       "      <td>PLACE</td>\n",
       "    </tr>\n",
       "  </tbody>\n",
       "</table>\n",
       "</div>"
      ],
      "text/plain": [
       "   text_id                e1_cat          r_cat    e2_cat\n",
       "0      181              ACCIDENT     STARTED_IN     PLACE\n",
       "1      181              CIVILIAN  IS_LOCATED_IN     PLACE\n",
       "2      181  GROUP_OF_INDIVIDUALS  IS_LOCATED_IN     PLACE\n",
       "3      181              CIVILIAN  GENDER_FEMALE  CIVILIAN\n",
       "4      181  GROUP_OF_INDIVIDUALS  IS_LOCATED_IN     PLACE"
      ]
     },
     "execution_count": 33,
     "metadata": {},
     "output_type": "execute_result"
    }
   ],
   "source": [
    "\n",
    "entity_relation_cat_df  = pd.concat(\n",
    "    [\n",
    "        pd.DataFrame([[text_idx, text_entities[e1_id][\"type\"], r_cat, text_entities[e2_id][\"type\"]] for e1_id, r_cat, e2_id in text_relations], columns=[\"text_id\", \"e1_cat\", \"r_cat\", \"e2_cat\"])\n",
    "        for text_idx, text, text_entities, text_relations in labeled_clean_df.reset_index().values\n",
    "    ],\n",
    "    axis=0\n",
    ")\n",
    "logging.info(f\"{entity_relation_cat_df.shape=}\")\n",
    "entity_relation_cat_df.head()"
   ]
  },
  {
   "cell_type": "code",
   "execution_count": 34,
   "metadata": {},
   "outputs": [
    {
     "name": "stdout",
     "output_type": "stream",
     "text": [
      "37 {'IS_LOCATED_IN', 'GENDER_MALE', 'WAS_DISSOLVED_IN', 'HAS_FOR_HEIGHT', 'HAS_FOR_LENGTH', 'IS_IN_CONTACT_WITH', 'HAS_LONGITUDE', 'WAS_CREATED_IN', 'IS_OF_NATIONALITY', 'HAS_LATITUDE', 'IS_BORN_IN', 'RESIDES_IN', 'DIED_IN', 'HAS_CATEGORY', 'IS_COOPERATING_WITH', 'GENDER_FEMALE', 'HAS_CONTROL_OVER', 'END_DATE', 'START_DATE', 'IS_REGISTERED_AS', 'IS_OF_SIZE', 'STARTED_IN', 'HAS_CONSEQUENCE', 'WEIGHS', 'IS_BORN_ON', 'IS_AT_ODDS_WITH', 'HAS_FOR_WIDTH', 'HAS_COLOR', 'IS_DEAD_ON', 'INJURED_NUMBER', 'IS_PART_OF', 'HAS_QUANTITY', 'OPERATES_IN', 'INITIATED', 'DEATHS_NUMBER', 'CREATED', 'HAS_FAMILY_RELATIONSHIP'}\n",
      "55 {'QUANTITY_MAX', 'TERRORIST_OR_CRIMINAL', 'SUICIDE', 'NON_GOVERNMENTAL_ORGANISATION', 'QUANTITY_FUZZY', 'DRUG_OPERATION', 'HOOLIGANISM_TROUBLEMAKING', 'TIME_MIN', 'ILLEGAL_CIVIL_DEMONSTRATION', 'CRIMINAL_ARREST', 'TIME_EXACT', 'CATEGORY', 'ELECTION', 'RIOT', 'MILITARY_ORGANISATION', 'AGITATING_TROUBLE_MAKING', 'FIRSTNAME', 'CBRN_EVENT', 'CIVILIAN', 'TIME_FUZZY', 'DEMONSTRATION', 'LONGITUDE', 'NATIONALITY', 'WIDTH', 'TIME_MAX', 'THEFT', 'CIVIL_WAR_OUTBREAK', 'FIRE', 'GROUP_OF_INDIVIDUALS', 'POLLUTION', 'GATHERING', 'MATERIAL_REFERENCE', 'QUANTITY_MIN', 'COUP_D_ETAT', 'TRAFFICKING', 'COLOR', 'BOMBING', 'HEIGHT', 'ACCIDENT', 'EPIDEMIC', 'LATITUDE', 'INTERGOVERNMENTAL_ORGANISATION', 'NATURAL_CAUSES_DEATH', 'ECONOMICAL_CRISIS', 'NON_MILITARY_GOVERNMENT_ORGANISATION', 'LASTNAME', 'WEIGHT', 'NATURAL_EVENT', 'POLITICAL_VIOLENCE', 'MATERIEL', 'PLACE', 'MILITARY', 'QUANTITY_EXACT', 'STRIKE', 'LENGTH'}\n"
     ]
    }
   ],
   "source": [
    "print(len(relation_classes), relation_classes)\n",
    "print(len(entity_classes), entity_classes)"
   ]
  },
  {
   "cell_type": "code",
   "execution_count": 35,
   "metadata": {},
   "outputs": [
    {
     "data": {
      "text/plain": [
       "e1_cat\n",
       "CIVILIAN                                0.399604\n",
       "GROUP_OF_INDIVIDUALS                    0.378051\n",
       "NON_MILITARY_GOVERNMENT_ORGANISATION    0.100946\n",
       "NON_GOVERNMENTAL_ORGANISATION           0.064878\n",
       "TERRORIST_OR_CRIMINAL                   0.038707\n",
       "MILITARY_ORGANISATION                   0.010336\n",
       "MILITARY                                0.005938\n",
       "INTERGOVERNMENTAL_ORGANISATION          0.001320\n",
       "PLACE                                   0.000220\n",
       "Name: proportion, dtype: float64"
      ]
     },
     "execution_count": 35,
     "metadata": {},
     "output_type": "execute_result"
    }
   ],
   "source": [
    "entity_relation_cat_df.query(\"r_cat=='HAS_CONTROL_OVER'\").e1_cat.value_counts(normalize=True)"
   ]
  },
  {
   "cell_type": "code",
   "execution_count": 36,
   "metadata": {},
   "outputs": [
    {
     "data": {
      "text/plain": [
       "e2_cat\n",
       "MATERIEL                                0.603035\n",
       "PLACE                                   0.244117\n",
       "NON_GOVERNMENTAL_ORGANISATION           0.071476\n",
       "GROUP_OF_INDIVIDUALS                    0.038487\n",
       "CIVILIAN                                0.020893\n",
       "NON_MILITARY_GOVERNMENT_ORGANISATION    0.014295\n",
       "TERRORIST_OR_CRIMINAL                   0.005058\n",
       "MILITARY_ORGANISATION                   0.001979\n",
       "MILITARY                                0.000440\n",
       "INTERGOVERNMENTAL_ORGANISATION          0.000220\n",
       "Name: proportion, dtype: float64"
      ]
     },
     "execution_count": 36,
     "metadata": {},
     "output_type": "execute_result"
    }
   ],
   "source": [
    "entity_relation_cat_df.query(\"r_cat=='HAS_CONTROL_OVER'\").e2_cat.value_counts(normalize=True)"
   ]
  },
  {
   "cell_type": "markdown",
   "metadata": {},
   "source": [
    "#### For a relation, how many times is an entity category e1 or e2?"
   ]
  },
  {
   "cell_type": "code",
   "execution_count": 37,
   "metadata": {},
   "outputs": [
    {
     "name": "stderr",
     "output_type": "stream",
     "text": [
      "[07:45:05|INFO|39938676.py:5] 17820 existing relations vs. n_entity_classes * n_relation_classes * n_entity_classes=111925 imaginable relations !\n"
     ]
    },
    {
     "data": {
      "text/html": [
       "<div>\n",
       "<style scoped>\n",
       "    .dataframe tbody tr th:only-of-type {\n",
       "        vertical-align: middle;\n",
       "    }\n",
       "\n",
       "    .dataframe tbody tr th {\n",
       "        vertical-align: top;\n",
       "    }\n",
       "\n",
       "    .dataframe thead th {\n",
       "        text-align: right;\n",
       "    }\n",
       "</style>\n",
       "<table border=\"1\" class=\"dataframe\">\n",
       "  <thead>\n",
       "    <tr style=\"text-align: right;\">\n",
       "      <th></th>\n",
       "      <th>text_id</th>\n",
       "      <th>e1_cat</th>\n",
       "      <th>r_cat</th>\n",
       "      <th>e2_cat</th>\n",
       "      <th>count</th>\n",
       "      <th>proportion</th>\n",
       "    </tr>\n",
       "  </thead>\n",
       "  <tbody>\n",
       "    <tr>\n",
       "      <th>0</th>\n",
       "      <td>3656</td>\n",
       "      <td>GROUP_OF_INDIVIDUALS</td>\n",
       "      <td>IS_LOCATED_IN</td>\n",
       "      <td>PLACE</td>\n",
       "      <td>25</td>\n",
       "      <td>0.000794</td>\n",
       "    </tr>\n",
       "    <tr>\n",
       "      <th>1</th>\n",
       "      <td>41533</td>\n",
       "      <td>GROUP_OF_INDIVIDUALS</td>\n",
       "      <td>IS_LOCATED_IN</td>\n",
       "      <td>PLACE</td>\n",
       "      <td>22</td>\n",
       "      <td>0.000699</td>\n",
       "    </tr>\n",
       "    <tr>\n",
       "      <th>2</th>\n",
       "      <td>51250</td>\n",
       "      <td>ECONOMICAL_CRISIS</td>\n",
       "      <td>HAS_CONSEQUENCE</td>\n",
       "      <td>ECONOMICAL_CRISIS</td>\n",
       "      <td>21</td>\n",
       "      <td>0.000667</td>\n",
       "    </tr>\n",
       "    <tr>\n",
       "      <th>3</th>\n",
       "      <td>144</td>\n",
       "      <td>GROUP_OF_INDIVIDUALS</td>\n",
       "      <td>IS_LOCATED_IN</td>\n",
       "      <td>PLACE</td>\n",
       "      <td>21</td>\n",
       "      <td>0.000667</td>\n",
       "    </tr>\n",
       "    <tr>\n",
       "      <th>4</th>\n",
       "      <td>11883</td>\n",
       "      <td>NON_MILITARY_GOVERNMENT_ORGANISATION</td>\n",
       "      <td>OPERATES_IN</td>\n",
       "      <td>PLACE</td>\n",
       "      <td>19</td>\n",
       "      <td>0.000604</td>\n",
       "    </tr>\n",
       "    <tr>\n",
       "      <th>...</th>\n",
       "      <td>...</td>\n",
       "      <td>...</td>\n",
       "      <td>...</td>\n",
       "      <td>...</td>\n",
       "      <td>...</td>\n",
       "      <td>...</td>\n",
       "    </tr>\n",
       "    <tr>\n",
       "      <th>17815</th>\n",
       "      <td>3821</td>\n",
       "      <td>NON_MILITARY_GOVERNMENT_ORGANISATION</td>\n",
       "      <td>HAS_CONTROL_OVER</td>\n",
       "      <td>GROUP_OF_INDIVIDUALS</td>\n",
       "      <td>1</td>\n",
       "      <td>0.000032</td>\n",
       "    </tr>\n",
       "    <tr>\n",
       "      <th>17816</th>\n",
       "      <td>3821</td>\n",
       "      <td>NON_MILITARY_GOVERNMENT_ORGANISATION</td>\n",
       "      <td>HAS_CONTROL_OVER</td>\n",
       "      <td>MATERIEL</td>\n",
       "      <td>1</td>\n",
       "      <td>0.000032</td>\n",
       "    </tr>\n",
       "    <tr>\n",
       "      <th>17817</th>\n",
       "      <td>3821</td>\n",
       "      <td>NON_MILITARY_GOVERNMENT_ORGANISATION</td>\n",
       "      <td>IS_AT_ODDS_WITH</td>\n",
       "      <td>GROUP_OF_INDIVIDUALS</td>\n",
       "      <td>1</td>\n",
       "      <td>0.000032</td>\n",
       "    </tr>\n",
       "    <tr>\n",
       "      <th>17818</th>\n",
       "      <td>3821</td>\n",
       "      <td>PLACE</td>\n",
       "      <td>IS_LOCATED_IN</td>\n",
       "      <td>PLACE</td>\n",
       "      <td>1</td>\n",
       "      <td>0.000032</td>\n",
       "    </tr>\n",
       "    <tr>\n",
       "      <th>17819</th>\n",
       "      <td>52002</td>\n",
       "      <td>TRAFFICKING</td>\n",
       "      <td>STARTED_IN</td>\n",
       "      <td>PLACE</td>\n",
       "      <td>1</td>\n",
       "      <td>0.000032</td>\n",
       "    </tr>\n",
       "  </tbody>\n",
       "</table>\n",
       "<p>17820 rows × 6 columns</p>\n",
       "</div>"
      ],
      "text/plain": [
       "       text_id                                e1_cat             r_cat  \\\n",
       "0         3656                  GROUP_OF_INDIVIDUALS     IS_LOCATED_IN   \n",
       "1        41533                  GROUP_OF_INDIVIDUALS     IS_LOCATED_IN   \n",
       "2        51250                     ECONOMICAL_CRISIS   HAS_CONSEQUENCE   \n",
       "3          144                  GROUP_OF_INDIVIDUALS     IS_LOCATED_IN   \n",
       "4        11883  NON_MILITARY_GOVERNMENT_ORGANISATION       OPERATES_IN   \n",
       "...        ...                                   ...               ...   \n",
       "17815     3821  NON_MILITARY_GOVERNMENT_ORGANISATION  HAS_CONTROL_OVER   \n",
       "17816     3821  NON_MILITARY_GOVERNMENT_ORGANISATION  HAS_CONTROL_OVER   \n",
       "17817     3821  NON_MILITARY_GOVERNMENT_ORGANISATION   IS_AT_ODDS_WITH   \n",
       "17818     3821                                 PLACE     IS_LOCATED_IN   \n",
       "17819    52002                           TRAFFICKING        STARTED_IN   \n",
       "\n",
       "                     e2_cat  count  proportion  \n",
       "0                     PLACE     25    0.000794  \n",
       "1                     PLACE     22    0.000699  \n",
       "2         ECONOMICAL_CRISIS     21    0.000667  \n",
       "3                     PLACE     21    0.000667  \n",
       "4                     PLACE     19    0.000604  \n",
       "...                     ...    ...         ...  \n",
       "17815  GROUP_OF_INDIVIDUALS      1    0.000032  \n",
       "17816              MATERIEL      1    0.000032  \n",
       "17817  GROUP_OF_INDIVIDUALS      1    0.000032  \n",
       "17818                 PLACE      1    0.000032  \n",
       "17819                 PLACE      1    0.000032  \n",
       "\n",
       "[17820 rows x 6 columns]"
      ]
     },
     "execution_count": 37,
     "metadata": {},
     "output_type": "execute_result"
    }
   ],
   "source": [
    "# plt.figure(figsize=(15, 10))\n",
    "df = pd.concat([entity_relation_cat_df.value_counts(normalize=False), entity_relation_cat_df.value_counts(normalize=True)], axis=1).reset_index(drop=False)\n",
    "n_relation_classes = len(relation_classes)\n",
    "n_entity_classes = len(entity_classes)\n",
    "logging.info(f\"{df.shape[0]} existing relations vs. {n_entity_classes * n_relation_classes * n_entity_classes=} imaginable relations !\")\n",
    "df.to_csv(os.path.join(EDA_DIR, \"e1_cat-r_cat-e2_cat-freq.csv\")) #.plot.barh()\n",
    "df"
   ]
  },
  {
   "cell_type": "code",
   "execution_count": 38,
   "metadata": {},
   "outputs": [
    {
     "data": {
      "text/plain": [
       "text_id  e1_cat                       e2_cat\n",
       "2431     ACCIDENT                     PLACE     9\n",
       "2347     ACCIDENT                     PLACE     8\n",
       "51367    FIRE                         PLACE     7\n",
       "31755    CBRN_EVENT                   PLACE     6\n",
       "17       ACCIDENT                     PLACE     6\n",
       "                                               ..\n",
       "3872     ILLEGAL_CIVIL_DEMONSTRATION  PLACE     1\n",
       "3879     SUICIDE                      PLACE     1\n",
       "3881     GATHERING                    PLACE     1\n",
       "         SUICIDE                      PLACE     1\n",
       "52002    TRAFFICKING                  PLACE     1\n",
       "Name: count_STARTED_IN, Length: 1124, dtype: int64"
      ]
     },
     "execution_count": 38,
     "metadata": {},
     "output_type": "execute_result"
    }
   ],
   "source": [
    "entity_relation_cat_df.query(\"r_cat=='STARTED_IN'\").drop(\"r_cat\", axis=1).value_counts().rename(\"count_STARTED_IN\")"
   ]
  },
  {
   "cell_type": "code",
   "execution_count": 39,
   "metadata": {},
   "outputs": [
    {
     "data": {
      "text/plain": [
       "text_id  e1_cat                                e2_cat    \n",
       "1131     MATERIEL                              TIME_EXACT    1\n",
       "1211     MATERIEL                              TIME_EXACT    1\n",
       "2331     NON_GOVERNMENTAL_ORGANISATION         TIME_EXACT    1\n",
       "2363     NON_GOVERNMENTAL_ORGANISATION         TIME_EXACT    1\n",
       "2443     MATERIEL                              TIME_EXACT    1\n",
       "3605     NON_GOVERNMENTAL_ORGANISATION         TIME_EXACT    1\n",
       "3689     NON_MILITARY_GOVERNMENT_ORGANISATION  TIME_EXACT    1\n",
       "3780     MATERIEL                              TIME_MIN      1\n",
       "3887     MATERIEL                              TIME_EXACT    1\n",
       "3891     MATERIEL                              TIME_EXACT    1\n",
       "4934     MATERIEL                              TIME_EXACT    1\n",
       "11521    NON_GOVERNMENTAL_ORGANISATION         TIME_EXACT    1\n",
       "41203    NON_GOVERNMENTAL_ORGANISATION         TIME_EXACT    1\n",
       "41819    MATERIEL                              TIME_EXACT    1\n",
       "41938    MATERIEL                              TIME_FUZZY    1\n",
       "Name: count, dtype: int64"
      ]
     },
     "execution_count": 39,
     "metadata": {},
     "output_type": "execute_result"
    }
   ],
   "source": [
    "entity_relation_cat_df.query(\"r_cat=='WAS_CREATED_IN'\").drop(\"r_cat\", axis=1).value_counts()"
   ]
  },
  {
   "cell_type": "code",
   "execution_count": 40,
   "metadata": {},
   "outputs": [
    {
     "data": {
      "text/plain": [
       "text_id  r_cat           \n",
       "51247    START_DATE          7\n",
       "51250    START_DATE          7\n",
       "51216    START_DATE          6\n",
       "41783    END_DATE            6\n",
       "         START_DATE          6\n",
       "                            ..\n",
       "3696     START_DATE          1\n",
       "         WAS_DISSOLVED_IN    1\n",
       "3701     END_DATE            1\n",
       "         START_DATE          1\n",
       "51907    START_DATE          1\n",
       "Name: count, Length: 1106, dtype: int64"
      ]
     },
     "execution_count": 40,
     "metadata": {},
     "output_type": "execute_result"
    }
   ],
   "source": [
    "entity_relation_cat_df.query(\"e2_cat=='TIME_EXACT'\").drop([\"e1_cat\", \"e2_cat\"], axis=1).value_counts()"
   ]
  },
  {
   "cell_type": "code",
   "execution_count": 41,
   "metadata": {},
   "outputs": [
    {
     "data": {
      "text/plain": [
       "text_id  r_cat     \n",
       "31866    START_DATE    3\n",
       "         END_DATE      3\n",
       "11876    START_DATE    3\n",
       "         END_DATE      3\n",
       "51356    END_DATE      3\n",
       "                      ..\n",
       "3807     START_DATE    1\n",
       "         IS_DEAD_ON    1\n",
       "         END_DATE      1\n",
       "3759     START_DATE    1\n",
       "51953    START_DATE    1\n",
       "Name: count, Length: 123, dtype: int64"
      ]
     },
     "execution_count": 41,
     "metadata": {},
     "output_type": "execute_result"
    }
   ],
   "source": [
    "entity_relation_cat_df.query(\"e2_cat=='TIME_FUZZY'\").drop([\"e1_cat\", \"e2_cat\"], axis=1).value_counts()"
   ]
  },
  {
   "cell_type": "code",
   "execution_count": 42,
   "metadata": {},
   "outputs": [
    {
     "data": {
      "text/html": [
       "<div>\n",
       "<style scoped>\n",
       "    .dataframe tbody tr th:only-of-type {\n",
       "        vertical-align: middle;\n",
       "    }\n",
       "\n",
       "    .dataframe tbody tr th {\n",
       "        vertical-align: top;\n",
       "    }\n",
       "\n",
       "    .dataframe thead th {\n",
       "        text-align: right;\n",
       "    }\n",
       "</style>\n",
       "<table border=\"1\" class=\"dataframe\">\n",
       "  <thead>\n",
       "    <tr style=\"text-align: right;\">\n",
       "      <th></th>\n",
       "      <th></th>\n",
       "      <th>text_id</th>\n",
       "      <th>r_cat</th>\n",
       "    </tr>\n",
       "    <tr>\n",
       "      <th>e1_cat</th>\n",
       "      <th>e2_cat</th>\n",
       "      <th></th>\n",
       "      <th></th>\n",
       "    </tr>\n",
       "  </thead>\n",
       "  <tbody>\n",
       "    <tr>\n",
       "      <th>GATHERING</th>\n",
       "      <th>DEMONSTRATION</th>\n",
       "      <td>1</td>\n",
       "      <td>1</td>\n",
       "    </tr>\n",
       "    <tr>\n",
       "      <th>CIVIL_WAR_OUTBREAK</th>\n",
       "      <th>TIME_FUZZY</th>\n",
       "      <td>1</td>\n",
       "      <td>1</td>\n",
       "    </tr>\n",
       "    <tr>\n",
       "      <th rowspan=\"2\" valign=\"top\">COUP_D_ETAT</th>\n",
       "      <th>AGITATING_TROUBLE_MAKING</th>\n",
       "      <td>1</td>\n",
       "      <td>1</td>\n",
       "    </tr>\n",
       "    <tr>\n",
       "      <th>BOMBING</th>\n",
       "      <td>1</td>\n",
       "      <td>1</td>\n",
       "    </tr>\n",
       "    <tr>\n",
       "      <th>GATHERING</th>\n",
       "      <th>POLITICAL_VIOLENCE</th>\n",
       "      <td>1</td>\n",
       "      <td>1</td>\n",
       "    </tr>\n",
       "    <tr>\n",
       "      <th>...</th>\n",
       "      <th>...</th>\n",
       "      <td>...</td>\n",
       "      <td>...</td>\n",
       "    </tr>\n",
       "    <tr>\n",
       "      <th rowspan=\"2\" valign=\"top\">CIVILIAN</th>\n",
       "      <th>GROUP_OF_INDIVIDUALS</th>\n",
       "      <td>675</td>\n",
       "      <td>675</td>\n",
       "    </tr>\n",
       "    <tr>\n",
       "      <th>NON_GOVERNMENTAL_ORGANISATION</th>\n",
       "      <td>739</td>\n",
       "      <td>739</td>\n",
       "    </tr>\n",
       "    <tr>\n",
       "      <th>GROUP_OF_INDIVIDUALS</th>\n",
       "      <th>PLACE</th>\n",
       "      <td>888</td>\n",
       "      <td>888</td>\n",
       "    </tr>\n",
       "    <tr>\n",
       "      <th rowspan=\"2\" valign=\"top\">CIVILIAN</th>\n",
       "      <th>PLACE</th>\n",
       "      <td>1081</td>\n",
       "      <td>1081</td>\n",
       "    </tr>\n",
       "    <tr>\n",
       "      <th>CIVILIAN</th>\n",
       "      <td>1222</td>\n",
       "      <td>1222</td>\n",
       "    </tr>\n",
       "  </tbody>\n",
       "</table>\n",
       "<p>474 rows × 2 columns</p>\n",
       "</div>"
      ],
      "text/plain": [
       "                                                    text_id  r_cat\n",
       "e1_cat               e2_cat                                       \n",
       "GATHERING            DEMONSTRATION                        1      1\n",
       "CIVIL_WAR_OUTBREAK   TIME_FUZZY                           1      1\n",
       "COUP_D_ETAT          AGITATING_TROUBLE_MAKING             1      1\n",
       "                     BOMBING                              1      1\n",
       "GATHERING            POLITICAL_VIOLENCE                   1      1\n",
       "...                                                     ...    ...\n",
       "CIVILIAN             GROUP_OF_INDIVIDUALS               675    675\n",
       "                     NON_GOVERNMENTAL_ORGANISATION      739    739\n",
       "GROUP_OF_INDIVIDUALS PLACE                              888    888\n",
       "CIVILIAN             PLACE                             1081   1081\n",
       "                     CIVILIAN                          1222   1222\n",
       "\n",
       "[474 rows x 2 columns]"
      ]
     },
     "execution_count": 42,
     "metadata": {},
     "output_type": "execute_result"
    }
   ],
   "source": [
    "# number of relation categories between a pair of entity categories\n",
    "entity_relation_cat_df.drop_duplicates().groupby([\"e1_cat\", \"e2_cat\"]).count().sort_values(by=\"r_cat\")"
   ]
  },
  {
   "cell_type": "markdown",
   "metadata": {},
   "source": [
    "#### what pairs of entity categories are in any relationship in the train dataset?"
   ]
  },
  {
   "cell_type": "code",
   "execution_count": 43,
   "metadata": {},
   "outputs": [
    {
     "data": {
      "text/html": [
       "<div>\n",
       "<style scoped>\n",
       "    .dataframe tbody tr th:only-of-type {\n",
       "        vertical-align: middle;\n",
       "    }\n",
       "\n",
       "    .dataframe tbody tr th {\n",
       "        vertical-align: top;\n",
       "    }\n",
       "\n",
       "    .dataframe thead th {\n",
       "        text-align: right;\n",
       "    }\n",
       "</style>\n",
       "<table border=\"1\" class=\"dataframe\">\n",
       "  <thead>\n",
       "    <tr style=\"text-align: right;\">\n",
       "      <th></th>\n",
       "      <th>e1_cat</th>\n",
       "      <th>e2_cat</th>\n",
       "    </tr>\n",
       "  </thead>\n",
       "  <tbody>\n",
       "    <tr>\n",
       "      <th>0</th>\n",
       "      <td>ACCIDENT</td>\n",
       "      <td>PLACE</td>\n",
       "    </tr>\n",
       "    <tr>\n",
       "      <th>1</th>\n",
       "      <td>CIVILIAN</td>\n",
       "      <td>PLACE</td>\n",
       "    </tr>\n",
       "    <tr>\n",
       "      <th>2</th>\n",
       "      <td>GROUP_OF_INDIVIDUALS</td>\n",
       "      <td>PLACE</td>\n",
       "    </tr>\n",
       "    <tr>\n",
       "      <th>3</th>\n",
       "      <td>CIVILIAN</td>\n",
       "      <td>CIVILIAN</td>\n",
       "    </tr>\n",
       "    <tr>\n",
       "      <th>4</th>\n",
       "      <td>GROUP_OF_INDIVIDUALS</td>\n",
       "      <td>PLACE</td>\n",
       "    </tr>\n",
       "    <tr>\n",
       "      <th>...</th>\n",
       "      <td>...</td>\n",
       "      <td>...</td>\n",
       "    </tr>\n",
       "    <tr>\n",
       "      <th>64</th>\n",
       "      <td>GROUP_OF_INDIVIDUALS</td>\n",
       "      <td>GROUP_OF_INDIVIDUALS</td>\n",
       "    </tr>\n",
       "    <tr>\n",
       "      <th>65</th>\n",
       "      <td>ACCIDENT</td>\n",
       "      <td>PLACE</td>\n",
       "    </tr>\n",
       "    <tr>\n",
       "      <th>66</th>\n",
       "      <td>FIRE</td>\n",
       "      <td>TIME_EXACT</td>\n",
       "    </tr>\n",
       "    <tr>\n",
       "      <th>67</th>\n",
       "      <td>GROUP_OF_INDIVIDUALS</td>\n",
       "      <td>PLACE</td>\n",
       "    </tr>\n",
       "    <tr>\n",
       "      <th>68</th>\n",
       "      <td>FIRE</td>\n",
       "      <td>PLACE</td>\n",
       "    </tr>\n",
       "  </tbody>\n",
       "</table>\n",
       "<p>31469 rows × 2 columns</p>\n",
       "</div>"
      ],
      "text/plain": [
       "                  e1_cat                e2_cat\n",
       "0               ACCIDENT                 PLACE\n",
       "1               CIVILIAN                 PLACE\n",
       "2   GROUP_OF_INDIVIDUALS                 PLACE\n",
       "3               CIVILIAN              CIVILIAN\n",
       "4   GROUP_OF_INDIVIDUALS                 PLACE\n",
       "..                   ...                   ...\n",
       "64  GROUP_OF_INDIVIDUALS  GROUP_OF_INDIVIDUALS\n",
       "65              ACCIDENT                 PLACE\n",
       "66                  FIRE            TIME_EXACT\n",
       "67  GROUP_OF_INDIVIDUALS                 PLACE\n",
       "68                  FIRE                 PLACE\n",
       "\n",
       "[31469 rows x 2 columns]"
      ]
     },
     "execution_count": 43,
     "metadata": {},
     "output_type": "execute_result"
    }
   ],
   "source": [
    "entity_cat_pair_in_relation_df = entity_relation_cat_df[[\"e1_cat\", \"e2_cat\"]]#.drop_duplicates(subset=[\"e1_cat\", \"e2_cat\"])\n",
    "entity_cat_pair_in_relation_df"
   ]
  },
  {
   "cell_type": "code",
   "execution_count": 44,
   "metadata": {},
   "outputs": [
    {
     "name": "stderr",
     "output_type": "stream",
     "text": [
      "[07:45:05|INFO|871775664.py:3] 474 existing entity category pairs in relation vs. n_entity_classes * n_entity_classes=3025 imaginable entity category pairs !\n"
     ]
    },
    {
     "data": {
      "text/html": [
       "<div>\n",
       "<style scoped>\n",
       "    .dataframe tbody tr th:only-of-type {\n",
       "        vertical-align: middle;\n",
       "    }\n",
       "\n",
       "    .dataframe tbody tr th {\n",
       "        vertical-align: top;\n",
       "    }\n",
       "\n",
       "    .dataframe thead th {\n",
       "        text-align: right;\n",
       "    }\n",
       "</style>\n",
       "<table border=\"1\" class=\"dataframe\">\n",
       "  <thead>\n",
       "    <tr style=\"text-align: right;\">\n",
       "      <th></th>\n",
       "      <th>e1_cat</th>\n",
       "      <th>e2_cat</th>\n",
       "      <th>count</th>\n",
       "      <th>proportion</th>\n",
       "    </tr>\n",
       "  </thead>\n",
       "  <tbody>\n",
       "    <tr>\n",
       "      <th>0</th>\n",
       "      <td>GROUP_OF_INDIVIDUALS</td>\n",
       "      <td>PLACE</td>\n",
       "      <td>3411</td>\n",
       "      <td>0.108392</td>\n",
       "    </tr>\n",
       "    <tr>\n",
       "      <th>1</th>\n",
       "      <td>CIVILIAN</td>\n",
       "      <td>PLACE</td>\n",
       "      <td>2717</td>\n",
       "      <td>0.086339</td>\n",
       "    </tr>\n",
       "    <tr>\n",
       "      <th>2</th>\n",
       "      <td>CIVILIAN</td>\n",
       "      <td>CIVILIAN</td>\n",
       "      <td>1895</td>\n",
       "      <td>0.060218</td>\n",
       "    </tr>\n",
       "    <tr>\n",
       "      <th>3</th>\n",
       "      <td>NON_MILITARY_GOVERNMENT_ORGANISATION</td>\n",
       "      <td>PLACE</td>\n",
       "      <td>1372</td>\n",
       "      <td>0.043598</td>\n",
       "    </tr>\n",
       "    <tr>\n",
       "      <th>4</th>\n",
       "      <td>PLACE</td>\n",
       "      <td>PLACE</td>\n",
       "      <td>1319</td>\n",
       "      <td>0.041914</td>\n",
       "    </tr>\n",
       "    <tr>\n",
       "      <th>...</th>\n",
       "      <td>...</td>\n",
       "      <td>...</td>\n",
       "      <td>...</td>\n",
       "      <td>...</td>\n",
       "    </tr>\n",
       "    <tr>\n",
       "      <th>469</th>\n",
       "      <td>POLITICAL_VIOLENCE</td>\n",
       "      <td>DEMONSTRATION</td>\n",
       "      <td>1</td>\n",
       "      <td>0.000032</td>\n",
       "    </tr>\n",
       "    <tr>\n",
       "      <th>470</th>\n",
       "      <td>EPIDEMIC</td>\n",
       "      <td>BOMBING</td>\n",
       "      <td>1</td>\n",
       "      <td>0.000032</td>\n",
       "    </tr>\n",
       "    <tr>\n",
       "      <th>471</th>\n",
       "      <td>EPIDEMIC</td>\n",
       "      <td>DEMONSTRATION</td>\n",
       "      <td>1</td>\n",
       "      <td>0.000032</td>\n",
       "    </tr>\n",
       "    <tr>\n",
       "      <th>472</th>\n",
       "      <td>PLACE</td>\n",
       "      <td>MATERIEL</td>\n",
       "      <td>1</td>\n",
       "      <td>0.000032</td>\n",
       "    </tr>\n",
       "    <tr>\n",
       "      <th>473</th>\n",
       "      <td>HOOLIGANISM_TROUBLEMAKING</td>\n",
       "      <td>TIME_MIN</td>\n",
       "      <td>1</td>\n",
       "      <td>0.000032</td>\n",
       "    </tr>\n",
       "  </tbody>\n",
       "</table>\n",
       "<p>474 rows × 4 columns</p>\n",
       "</div>"
      ],
      "text/plain": [
       "                                   e1_cat         e2_cat  count  proportion\n",
       "0                    GROUP_OF_INDIVIDUALS          PLACE   3411    0.108392\n",
       "1                                CIVILIAN          PLACE   2717    0.086339\n",
       "2                                CIVILIAN       CIVILIAN   1895    0.060218\n",
       "3    NON_MILITARY_GOVERNMENT_ORGANISATION          PLACE   1372    0.043598\n",
       "4                                   PLACE          PLACE   1319    0.041914\n",
       "..                                    ...            ...    ...         ...\n",
       "469                    POLITICAL_VIOLENCE  DEMONSTRATION      1    0.000032\n",
       "470                              EPIDEMIC        BOMBING      1    0.000032\n",
       "471                              EPIDEMIC  DEMONSTRATION      1    0.000032\n",
       "472                                 PLACE       MATERIEL      1    0.000032\n",
       "473             HOOLIGANISM_TROUBLEMAKING       TIME_MIN      1    0.000032\n",
       "\n",
       "[474 rows x 4 columns]"
      ]
     },
     "execution_count": 44,
     "metadata": {},
     "output_type": "execute_result"
    }
   ],
   "source": [
    "df = pd.concat([entity_cat_pair_in_relation_df.value_counts(normalize=False), entity_cat_pair_in_relation_df.value_counts(normalize=True)], axis=1).reset_index(drop=False)\n",
    "n_entity_classes = len(entity_classes)\n",
    "logging.info(f\"{df.shape[0]} existing entity category pairs in relation vs. {n_entity_classes * n_entity_classes=} imaginable entity category pairs !\")\n",
    "df.to_csv(os.path.join(EDA_DIR, \"e1_cat-e2_cat-freq.csv\")) #.plot.barh()\n",
    "df"
   ]
  },
  {
   "cell_type": "markdown",
   "metadata": {},
   "source": [
    "### How many times the relation involves 2 entities of the same type?"
   ]
  },
  {
   "cell_type": "code",
   "execution_count": 45,
   "metadata": {},
   "outputs": [
    {
     "data": {
      "text/html": [
       "<div>\n",
       "<style scoped>\n",
       "    .dataframe tbody tr th:only-of-type {\n",
       "        vertical-align: middle;\n",
       "    }\n",
       "\n",
       "    .dataframe tbody tr th {\n",
       "        vertical-align: top;\n",
       "    }\n",
       "\n",
       "    .dataframe thead th {\n",
       "        text-align: right;\n",
       "    }\n",
       "</style>\n",
       "<table border=\"1\" class=\"dataframe\">\n",
       "  <thead>\n",
       "    <tr style=\"text-align: right;\">\n",
       "      <th></th>\n",
       "      <th>e1_cat</th>\n",
       "      <th>e2_cat</th>\n",
       "    </tr>\n",
       "  </thead>\n",
       "  <tbody>\n",
       "    <tr>\n",
       "      <th>3</th>\n",
       "      <td>CIVILIAN</td>\n",
       "      <td>CIVILIAN</td>\n",
       "    </tr>\n",
       "    <tr>\n",
       "      <th>11</th>\n",
       "      <td>PLACE</td>\n",
       "      <td>PLACE</td>\n",
       "    </tr>\n",
       "    <tr>\n",
       "      <th>16</th>\n",
       "      <td>CIVILIAN</td>\n",
       "      <td>CIVILIAN</td>\n",
       "    </tr>\n",
       "    <tr>\n",
       "      <th>17</th>\n",
       "      <td>PLACE</td>\n",
       "      <td>PLACE</td>\n",
       "    </tr>\n",
       "    <tr>\n",
       "      <th>25</th>\n",
       "      <td>TERRORIST_OR_CRIMINAL</td>\n",
       "      <td>TERRORIST_OR_CRIMINAL</td>\n",
       "    </tr>\n",
       "    <tr>\n",
       "      <th>...</th>\n",
       "      <td>...</td>\n",
       "      <td>...</td>\n",
       "    </tr>\n",
       "    <tr>\n",
       "      <th>30</th>\n",
       "      <td>PLACE</td>\n",
       "      <td>PLACE</td>\n",
       "    </tr>\n",
       "    <tr>\n",
       "      <th>36</th>\n",
       "      <td>PLACE</td>\n",
       "      <td>PLACE</td>\n",
       "    </tr>\n",
       "    <tr>\n",
       "      <th>52</th>\n",
       "      <td>PLACE</td>\n",
       "      <td>PLACE</td>\n",
       "    </tr>\n",
       "    <tr>\n",
       "      <th>60</th>\n",
       "      <td>CIVILIAN</td>\n",
       "      <td>CIVILIAN</td>\n",
       "    </tr>\n",
       "    <tr>\n",
       "      <th>64</th>\n",
       "      <td>GROUP_OF_INDIVIDUALS</td>\n",
       "      <td>GROUP_OF_INDIVIDUALS</td>\n",
       "    </tr>\n",
       "  </tbody>\n",
       "</table>\n",
       "<p>4597 rows × 2 columns</p>\n",
       "</div>"
      ],
      "text/plain": [
       "                   e1_cat                 e2_cat\n",
       "3                CIVILIAN               CIVILIAN\n",
       "11                  PLACE                  PLACE\n",
       "16               CIVILIAN               CIVILIAN\n",
       "17                  PLACE                  PLACE\n",
       "25  TERRORIST_OR_CRIMINAL  TERRORIST_OR_CRIMINAL\n",
       "..                    ...                    ...\n",
       "30                  PLACE                  PLACE\n",
       "36                  PLACE                  PLACE\n",
       "52                  PLACE                  PLACE\n",
       "60               CIVILIAN               CIVILIAN\n",
       "64   GROUP_OF_INDIVIDUALS   GROUP_OF_INDIVIDUALS\n",
       "\n",
       "[4597 rows x 2 columns]"
      ]
     },
     "execution_count": 45,
     "metadata": {},
     "output_type": "execute_result"
    }
   ],
   "source": [
    "e1_cat_equal_e2_cat_df = entity_cat_pair_in_relation_df.query(\"e1_cat==e2_cat\")\n",
    "e1_cat_equal_e2_cat_df"
   ]
  },
  {
   "cell_type": "code",
   "execution_count": 46,
   "metadata": {},
   "outputs": [
    {
     "name": "stderr",
     "output_type": "stream",
     "text": [
      "[07:45:05|INFO|1690103560.py:3] 29 existing entity of identical categories in relation vs. n_entity_classes=55 imaginable entity category !\n"
     ]
    },
    {
     "data": {
      "text/html": [
       "<div>\n",
       "<style scoped>\n",
       "    .dataframe tbody tr th:only-of-type {\n",
       "        vertical-align: middle;\n",
       "    }\n",
       "\n",
       "    .dataframe tbody tr th {\n",
       "        vertical-align: top;\n",
       "    }\n",
       "\n",
       "    .dataframe thead th {\n",
       "        text-align: right;\n",
       "    }\n",
       "</style>\n",
       "<table border=\"1\" class=\"dataframe\">\n",
       "  <thead>\n",
       "    <tr style=\"text-align: right;\">\n",
       "      <th></th>\n",
       "      <th>e1_cat</th>\n",
       "      <th>e2_cat</th>\n",
       "      <th>count</th>\n",
       "      <th>proportion</th>\n",
       "    </tr>\n",
       "  </thead>\n",
       "  <tbody>\n",
       "    <tr>\n",
       "      <th>0</th>\n",
       "      <td>CIVILIAN</td>\n",
       "      <td>CIVILIAN</td>\n",
       "      <td>1895</td>\n",
       "      <td>0.412225</td>\n",
       "    </tr>\n",
       "    <tr>\n",
       "      <th>1</th>\n",
       "      <td>PLACE</td>\n",
       "      <td>PLACE</td>\n",
       "      <td>1319</td>\n",
       "      <td>0.286926</td>\n",
       "    </tr>\n",
       "    <tr>\n",
       "      <th>2</th>\n",
       "      <td>GROUP_OF_INDIVIDUALS</td>\n",
       "      <td>GROUP_OF_INDIVIDUALS</td>\n",
       "      <td>842</td>\n",
       "      <td>0.183163</td>\n",
       "    </tr>\n",
       "    <tr>\n",
       "      <th>3</th>\n",
       "      <td>ECONOMICAL_CRISIS</td>\n",
       "      <td>ECONOMICAL_CRISIS</td>\n",
       "      <td>97</td>\n",
       "      <td>0.021101</td>\n",
       "    </tr>\n",
       "    <tr>\n",
       "      <th>4</th>\n",
       "      <td>NON_GOVERNMENTAL_ORGANISATION</td>\n",
       "      <td>NON_GOVERNMENTAL_ORGANISATION</td>\n",
       "      <td>89</td>\n",
       "      <td>0.019360</td>\n",
       "    </tr>\n",
       "    <tr>\n",
       "      <th>5</th>\n",
       "      <td>TERRORIST_OR_CRIMINAL</td>\n",
       "      <td>TERRORIST_OR_CRIMINAL</td>\n",
       "      <td>77</td>\n",
       "      <td>0.016750</td>\n",
       "    </tr>\n",
       "    <tr>\n",
       "      <th>6</th>\n",
       "      <td>ACCIDENT</td>\n",
       "      <td>ACCIDENT</td>\n",
       "      <td>69</td>\n",
       "      <td>0.015010</td>\n",
       "    </tr>\n",
       "    <tr>\n",
       "      <th>7</th>\n",
       "      <td>NON_MILITARY_GOVERNMENT_ORGANISATION</td>\n",
       "      <td>NON_MILITARY_GOVERNMENT_ORGANISATION</td>\n",
       "      <td>56</td>\n",
       "      <td>0.012182</td>\n",
       "    </tr>\n",
       "    <tr>\n",
       "      <th>8</th>\n",
       "      <td>CBRN_EVENT</td>\n",
       "      <td>CBRN_EVENT</td>\n",
       "      <td>26</td>\n",
       "      <td>0.005656</td>\n",
       "    </tr>\n",
       "    <tr>\n",
       "      <th>9</th>\n",
       "      <td>MILITARY</td>\n",
       "      <td>MILITARY</td>\n",
       "      <td>22</td>\n",
       "      <td>0.004786</td>\n",
       "    </tr>\n",
       "    <tr>\n",
       "      <th>10</th>\n",
       "      <td>NATURAL_EVENT</td>\n",
       "      <td>NATURAL_EVENT</td>\n",
       "      <td>16</td>\n",
       "      <td>0.003481</td>\n",
       "    </tr>\n",
       "    <tr>\n",
       "      <th>11</th>\n",
       "      <td>EPIDEMIC</td>\n",
       "      <td>EPIDEMIC</td>\n",
       "      <td>14</td>\n",
       "      <td>0.003045</td>\n",
       "    </tr>\n",
       "    <tr>\n",
       "      <th>12</th>\n",
       "      <td>POLITICAL_VIOLENCE</td>\n",
       "      <td>POLITICAL_VIOLENCE</td>\n",
       "      <td>14</td>\n",
       "      <td>0.003045</td>\n",
       "    </tr>\n",
       "    <tr>\n",
       "      <th>13</th>\n",
       "      <td>RIOT</td>\n",
       "      <td>RIOT</td>\n",
       "      <td>12</td>\n",
       "      <td>0.002610</td>\n",
       "    </tr>\n",
       "    <tr>\n",
       "      <th>14</th>\n",
       "      <td>GATHERING</td>\n",
       "      <td>GATHERING</td>\n",
       "      <td>11</td>\n",
       "      <td>0.002393</td>\n",
       "    </tr>\n",
       "    <tr>\n",
       "      <th>15</th>\n",
       "      <td>STRIKE</td>\n",
       "      <td>STRIKE</td>\n",
       "      <td>7</td>\n",
       "      <td>0.001523</td>\n",
       "    </tr>\n",
       "    <tr>\n",
       "      <th>16</th>\n",
       "      <td>TRAFFICKING</td>\n",
       "      <td>TRAFFICKING</td>\n",
       "      <td>6</td>\n",
       "      <td>0.001305</td>\n",
       "    </tr>\n",
       "    <tr>\n",
       "      <th>17</th>\n",
       "      <td>ELECTION</td>\n",
       "      <td>ELECTION</td>\n",
       "      <td>5</td>\n",
       "      <td>0.001088</td>\n",
       "    </tr>\n",
       "    <tr>\n",
       "      <th>18</th>\n",
       "      <td>MILITARY_ORGANISATION</td>\n",
       "      <td>MILITARY_ORGANISATION</td>\n",
       "      <td>4</td>\n",
       "      <td>0.000870</td>\n",
       "    </tr>\n",
       "    <tr>\n",
       "      <th>19</th>\n",
       "      <td>HOOLIGANISM_TROUBLEMAKING</td>\n",
       "      <td>HOOLIGANISM_TROUBLEMAKING</td>\n",
       "      <td>3</td>\n",
       "      <td>0.000653</td>\n",
       "    </tr>\n",
       "    <tr>\n",
       "      <th>20</th>\n",
       "      <td>FIRE</td>\n",
       "      <td>FIRE</td>\n",
       "      <td>3</td>\n",
       "      <td>0.000653</td>\n",
       "    </tr>\n",
       "    <tr>\n",
       "      <th>21</th>\n",
       "      <td>DRUG_OPERATION</td>\n",
       "      <td>DRUG_OPERATION</td>\n",
       "      <td>2</td>\n",
       "      <td>0.000435</td>\n",
       "    </tr>\n",
       "    <tr>\n",
       "      <th>22</th>\n",
       "      <td>CIVIL_WAR_OUTBREAK</td>\n",
       "      <td>CIVIL_WAR_OUTBREAK</td>\n",
       "      <td>2</td>\n",
       "      <td>0.000435</td>\n",
       "    </tr>\n",
       "    <tr>\n",
       "      <th>23</th>\n",
       "      <td>AGITATING_TROUBLE_MAKING</td>\n",
       "      <td>AGITATING_TROUBLE_MAKING</td>\n",
       "      <td>1</td>\n",
       "      <td>0.000218</td>\n",
       "    </tr>\n",
       "    <tr>\n",
       "      <th>24</th>\n",
       "      <td>POLLUTION</td>\n",
       "      <td>POLLUTION</td>\n",
       "      <td>1</td>\n",
       "      <td>0.000218</td>\n",
       "    </tr>\n",
       "    <tr>\n",
       "      <th>25</th>\n",
       "      <td>CRIMINAL_ARREST</td>\n",
       "      <td>CRIMINAL_ARREST</td>\n",
       "      <td>1</td>\n",
       "      <td>0.000218</td>\n",
       "    </tr>\n",
       "    <tr>\n",
       "      <th>26</th>\n",
       "      <td>BOMBING</td>\n",
       "      <td>BOMBING</td>\n",
       "      <td>1</td>\n",
       "      <td>0.000218</td>\n",
       "    </tr>\n",
       "    <tr>\n",
       "      <th>27</th>\n",
       "      <td>THEFT</td>\n",
       "      <td>THEFT</td>\n",
       "      <td>1</td>\n",
       "      <td>0.000218</td>\n",
       "    </tr>\n",
       "    <tr>\n",
       "      <th>28</th>\n",
       "      <td>DEMONSTRATION</td>\n",
       "      <td>DEMONSTRATION</td>\n",
       "      <td>1</td>\n",
       "      <td>0.000218</td>\n",
       "    </tr>\n",
       "  </tbody>\n",
       "</table>\n",
       "</div>"
      ],
      "text/plain": [
       "                                  e1_cat  \\\n",
       "0                               CIVILIAN   \n",
       "1                                  PLACE   \n",
       "2                   GROUP_OF_INDIVIDUALS   \n",
       "3                      ECONOMICAL_CRISIS   \n",
       "4          NON_GOVERNMENTAL_ORGANISATION   \n",
       "5                  TERRORIST_OR_CRIMINAL   \n",
       "6                               ACCIDENT   \n",
       "7   NON_MILITARY_GOVERNMENT_ORGANISATION   \n",
       "8                             CBRN_EVENT   \n",
       "9                               MILITARY   \n",
       "10                         NATURAL_EVENT   \n",
       "11                              EPIDEMIC   \n",
       "12                    POLITICAL_VIOLENCE   \n",
       "13                                  RIOT   \n",
       "14                             GATHERING   \n",
       "15                                STRIKE   \n",
       "16                           TRAFFICKING   \n",
       "17                              ELECTION   \n",
       "18                 MILITARY_ORGANISATION   \n",
       "19             HOOLIGANISM_TROUBLEMAKING   \n",
       "20                                  FIRE   \n",
       "21                        DRUG_OPERATION   \n",
       "22                    CIVIL_WAR_OUTBREAK   \n",
       "23              AGITATING_TROUBLE_MAKING   \n",
       "24                             POLLUTION   \n",
       "25                       CRIMINAL_ARREST   \n",
       "26                               BOMBING   \n",
       "27                                 THEFT   \n",
       "28                         DEMONSTRATION   \n",
       "\n",
       "                                  e2_cat  count  proportion  \n",
       "0                               CIVILIAN   1895    0.412225  \n",
       "1                                  PLACE   1319    0.286926  \n",
       "2                   GROUP_OF_INDIVIDUALS    842    0.183163  \n",
       "3                      ECONOMICAL_CRISIS     97    0.021101  \n",
       "4          NON_GOVERNMENTAL_ORGANISATION     89    0.019360  \n",
       "5                  TERRORIST_OR_CRIMINAL     77    0.016750  \n",
       "6                               ACCIDENT     69    0.015010  \n",
       "7   NON_MILITARY_GOVERNMENT_ORGANISATION     56    0.012182  \n",
       "8                             CBRN_EVENT     26    0.005656  \n",
       "9                               MILITARY     22    0.004786  \n",
       "10                         NATURAL_EVENT     16    0.003481  \n",
       "11                              EPIDEMIC     14    0.003045  \n",
       "12                    POLITICAL_VIOLENCE     14    0.003045  \n",
       "13                                  RIOT     12    0.002610  \n",
       "14                             GATHERING     11    0.002393  \n",
       "15                                STRIKE      7    0.001523  \n",
       "16                           TRAFFICKING      6    0.001305  \n",
       "17                              ELECTION      5    0.001088  \n",
       "18                 MILITARY_ORGANISATION      4    0.000870  \n",
       "19             HOOLIGANISM_TROUBLEMAKING      3    0.000653  \n",
       "20                                  FIRE      3    0.000653  \n",
       "21                        DRUG_OPERATION      2    0.000435  \n",
       "22                    CIVIL_WAR_OUTBREAK      2    0.000435  \n",
       "23              AGITATING_TROUBLE_MAKING      1    0.000218  \n",
       "24                             POLLUTION      1    0.000218  \n",
       "25                       CRIMINAL_ARREST      1    0.000218  \n",
       "26                               BOMBING      1    0.000218  \n",
       "27                                 THEFT      1    0.000218  \n",
       "28                         DEMONSTRATION      1    0.000218  "
      ]
     },
     "execution_count": 46,
     "metadata": {},
     "output_type": "execute_result"
    }
   ],
   "source": [
    "df = pd.concat([e1_cat_equal_e2_cat_df.value_counts(normalize=False), e1_cat_equal_e2_cat_df.value_counts(normalize=True)], axis=1).reset_index(drop=False)\n",
    "n_entity_classes = len(entity_classes)\n",
    "logging.info(f\"{df.shape[0]} existing entity of identical categories in relation vs. {n_entity_classes=} imaginable entity category !\")\n",
    "df.to_csv(os.path.join(EDA_DIR, \"e1_cat-equal-e2_cat-freq.csv\")) #.plot.barh()\n",
    "df"
   ]
  },
  {
   "cell_type": "code",
   "execution_count": 47,
   "metadata": {},
   "outputs": [
    {
     "data": {
      "text/html": [
       "<div>\n",
       "<style scoped>\n",
       "    .dataframe tbody tr th:only-of-type {\n",
       "        vertical-align: middle;\n",
       "    }\n",
       "\n",
       "    .dataframe tbody tr th {\n",
       "        vertical-align: top;\n",
       "    }\n",
       "\n",
       "    .dataframe thead th {\n",
       "        text-align: right;\n",
       "    }\n",
       "</style>\n",
       "<table border=\"1\" class=\"dataframe\">\n",
       "  <thead>\n",
       "    <tr style=\"text-align: right;\">\n",
       "      <th></th>\n",
       "      <th>text_id</th>\n",
       "      <th>e1_cat</th>\n",
       "      <th>r_cat</th>\n",
       "      <th>e2_cat</th>\n",
       "    </tr>\n",
       "  </thead>\n",
       "  <tbody>\n",
       "    <tr>\n",
       "      <th>3</th>\n",
       "      <td>181</td>\n",
       "      <td>CIVILIAN</td>\n",
       "      <td>GENDER_FEMALE</td>\n",
       "      <td>CIVILIAN</td>\n",
       "    </tr>\n",
       "    <tr>\n",
       "      <th>11</th>\n",
       "      <td>181</td>\n",
       "      <td>PLACE</td>\n",
       "      <td>IS_LOCATED_IN</td>\n",
       "      <td>PLACE</td>\n",
       "    </tr>\n",
       "    <tr>\n",
       "      <th>16</th>\n",
       "      <td>181</td>\n",
       "      <td>CIVILIAN</td>\n",
       "      <td>GENDER_MALE</td>\n",
       "      <td>CIVILIAN</td>\n",
       "    </tr>\n",
       "    <tr>\n",
       "      <th>17</th>\n",
       "      <td>181</td>\n",
       "      <td>PLACE</td>\n",
       "      <td>IS_LOCATED_IN</td>\n",
       "      <td>PLACE</td>\n",
       "    </tr>\n",
       "    <tr>\n",
       "      <th>25</th>\n",
       "      <td>181</td>\n",
       "      <td>TERRORIST_OR_CRIMINAL</td>\n",
       "      <td>GENDER_MALE</td>\n",
       "      <td>TERRORIST_OR_CRIMINAL</td>\n",
       "    </tr>\n",
       "    <tr>\n",
       "      <th>...</th>\n",
       "      <td>...</td>\n",
       "      <td>...</td>\n",
       "      <td>...</td>\n",
       "      <td>...</td>\n",
       "    </tr>\n",
       "    <tr>\n",
       "      <th>30</th>\n",
       "      <td>124</td>\n",
       "      <td>PLACE</td>\n",
       "      <td>IS_LOCATED_IN</td>\n",
       "      <td>PLACE</td>\n",
       "    </tr>\n",
       "    <tr>\n",
       "      <th>36</th>\n",
       "      <td>124</td>\n",
       "      <td>PLACE</td>\n",
       "      <td>IS_LOCATED_IN</td>\n",
       "      <td>PLACE</td>\n",
       "    </tr>\n",
       "    <tr>\n",
       "      <th>52</th>\n",
       "      <td>124</td>\n",
       "      <td>PLACE</td>\n",
       "      <td>IS_LOCATED_IN</td>\n",
       "      <td>PLACE</td>\n",
       "    </tr>\n",
       "    <tr>\n",
       "      <th>60</th>\n",
       "      <td>124</td>\n",
       "      <td>CIVILIAN</td>\n",
       "      <td>GENDER_FEMALE</td>\n",
       "      <td>CIVILIAN</td>\n",
       "    </tr>\n",
       "    <tr>\n",
       "      <th>64</th>\n",
       "      <td>124</td>\n",
       "      <td>GROUP_OF_INDIVIDUALS</td>\n",
       "      <td>IS_PART_OF</td>\n",
       "      <td>GROUP_OF_INDIVIDUALS</td>\n",
       "    </tr>\n",
       "  </tbody>\n",
       "</table>\n",
       "<p>4597 rows × 4 columns</p>\n",
       "</div>"
      ],
      "text/plain": [
       "    text_id                 e1_cat          r_cat                 e2_cat\n",
       "3       181               CIVILIAN  GENDER_FEMALE               CIVILIAN\n",
       "11      181                  PLACE  IS_LOCATED_IN                  PLACE\n",
       "16      181               CIVILIAN    GENDER_MALE               CIVILIAN\n",
       "17      181                  PLACE  IS_LOCATED_IN                  PLACE\n",
       "25      181  TERRORIST_OR_CRIMINAL    GENDER_MALE  TERRORIST_OR_CRIMINAL\n",
       "..      ...                    ...            ...                    ...\n",
       "30      124                  PLACE  IS_LOCATED_IN                  PLACE\n",
       "36      124                  PLACE  IS_LOCATED_IN                  PLACE\n",
       "52      124                  PLACE  IS_LOCATED_IN                  PLACE\n",
       "60      124               CIVILIAN  GENDER_FEMALE               CIVILIAN\n",
       "64      124   GROUP_OF_INDIVIDUALS     IS_PART_OF   GROUP_OF_INDIVIDUALS\n",
       "\n",
       "[4597 rows x 4 columns]"
      ]
     },
     "execution_count": 47,
     "metadata": {},
     "output_type": "execute_result"
    }
   ],
   "source": [
    "per_r_cat_e1_cat_equal_e2_cat_df = entity_relation_cat_df.query(\"e1_cat==e2_cat\")\n",
    "per_r_cat_e1_cat_equal_e2_cat_df"
   ]
  },
  {
   "cell_type": "code",
   "execution_count": 48,
   "metadata": {},
   "outputs": [
    {
     "name": "stderr",
     "output_type": "stream",
     "text": [
      "[07:45:05|INFO|2498074872.py:3] 2537 existing entity of identical categories in relation vs. n_entity_classes=55 imaginable entity category !\n"
     ]
    },
    {
     "data": {
      "text/html": [
       "<div>\n",
       "<style scoped>\n",
       "    .dataframe tbody tr th:only-of-type {\n",
       "        vertical-align: middle;\n",
       "    }\n",
       "\n",
       "    .dataframe tbody tr th {\n",
       "        vertical-align: top;\n",
       "    }\n",
       "\n",
       "    .dataframe thead th {\n",
       "        text-align: right;\n",
       "    }\n",
       "</style>\n",
       "<table border=\"1\" class=\"dataframe\">\n",
       "  <thead>\n",
       "    <tr style=\"text-align: right;\">\n",
       "      <th></th>\n",
       "      <th>text_id</th>\n",
       "      <th>e1_cat</th>\n",
       "      <th>r_cat</th>\n",
       "      <th>e2_cat</th>\n",
       "      <th>count</th>\n",
       "      <th>proportion</th>\n",
       "    </tr>\n",
       "  </thead>\n",
       "  <tbody>\n",
       "    <tr>\n",
       "      <th>0</th>\n",
       "      <td>51250</td>\n",
       "      <td>ECONOMICAL_CRISIS</td>\n",
       "      <td>HAS_CONSEQUENCE</td>\n",
       "      <td>ECONOMICAL_CRISIS</td>\n",
       "      <td>21</td>\n",
       "      <td>0.004568</td>\n",
       "    </tr>\n",
       "    <tr>\n",
       "      <th>1</th>\n",
       "      <td>51224</td>\n",
       "      <td>ECONOMICAL_CRISIS</td>\n",
       "      <td>HAS_CONSEQUENCE</td>\n",
       "      <td>ECONOMICAL_CRISIS</td>\n",
       "      <td>15</td>\n",
       "      <td>0.003263</td>\n",
       "    </tr>\n",
       "    <tr>\n",
       "      <th>2</th>\n",
       "      <td>4944</td>\n",
       "      <td>GROUP_OF_INDIVIDUALS</td>\n",
       "      <td>IS_IN_CONTACT_WITH</td>\n",
       "      <td>GROUP_OF_INDIVIDUALS</td>\n",
       "      <td>12</td>\n",
       "      <td>0.002610</td>\n",
       "    </tr>\n",
       "    <tr>\n",
       "      <th>3</th>\n",
       "      <td>51424</td>\n",
       "      <td>GROUP_OF_INDIVIDUALS</td>\n",
       "      <td>IS_IN_CONTACT_WITH</td>\n",
       "      <td>GROUP_OF_INDIVIDUALS</td>\n",
       "      <td>12</td>\n",
       "      <td>0.002610</td>\n",
       "    </tr>\n",
       "    <tr>\n",
       "      <th>4</th>\n",
       "      <td>51276</td>\n",
       "      <td>GROUP_OF_INDIVIDUALS</td>\n",
       "      <td>IS_COOPERATING_WITH</td>\n",
       "      <td>GROUP_OF_INDIVIDUALS</td>\n",
       "      <td>12</td>\n",
       "      <td>0.002610</td>\n",
       "    </tr>\n",
       "    <tr>\n",
       "      <th>...</th>\n",
       "      <td>...</td>\n",
       "      <td>...</td>\n",
       "      <td>...</td>\n",
       "      <td>...</td>\n",
       "      <td>...</td>\n",
       "      <td>...</td>\n",
       "    </tr>\n",
       "    <tr>\n",
       "      <th>2532</th>\n",
       "      <td>41095</td>\n",
       "      <td>CIVILIAN</td>\n",
       "      <td>GENDER_MALE</td>\n",
       "      <td>CIVILIAN</td>\n",
       "      <td>1</td>\n",
       "      <td>0.000218</td>\n",
       "    </tr>\n",
       "    <tr>\n",
       "      <th>2533</th>\n",
       "      <td>41089</td>\n",
       "      <td>POLITICAL_VIOLENCE</td>\n",
       "      <td>HAS_CONSEQUENCE</td>\n",
       "      <td>POLITICAL_VIOLENCE</td>\n",
       "      <td>1</td>\n",
       "      <td>0.000218</td>\n",
       "    </tr>\n",
       "    <tr>\n",
       "      <th>2534</th>\n",
       "      <td>2450</td>\n",
       "      <td>PLACE</td>\n",
       "      <td>IS_LOCATED_IN</td>\n",
       "      <td>PLACE</td>\n",
       "      <td>1</td>\n",
       "      <td>0.000218</td>\n",
       "    </tr>\n",
       "    <tr>\n",
       "      <th>2535</th>\n",
       "      <td>41089</td>\n",
       "      <td>GROUP_OF_INDIVIDUALS</td>\n",
       "      <td>IS_PART_OF</td>\n",
       "      <td>GROUP_OF_INDIVIDUALS</td>\n",
       "      <td>1</td>\n",
       "      <td>0.000218</td>\n",
       "    </tr>\n",
       "    <tr>\n",
       "      <th>2536</th>\n",
       "      <td>52002</td>\n",
       "      <td>PLACE</td>\n",
       "      <td>IS_LOCATED_IN</td>\n",
       "      <td>PLACE</td>\n",
       "      <td>1</td>\n",
       "      <td>0.000218</td>\n",
       "    </tr>\n",
       "  </tbody>\n",
       "</table>\n",
       "<p>2537 rows × 6 columns</p>\n",
       "</div>"
      ],
      "text/plain": [
       "      text_id                e1_cat                r_cat  \\\n",
       "0       51250     ECONOMICAL_CRISIS      HAS_CONSEQUENCE   \n",
       "1       51224     ECONOMICAL_CRISIS      HAS_CONSEQUENCE   \n",
       "2        4944  GROUP_OF_INDIVIDUALS   IS_IN_CONTACT_WITH   \n",
       "3       51424  GROUP_OF_INDIVIDUALS   IS_IN_CONTACT_WITH   \n",
       "4       51276  GROUP_OF_INDIVIDUALS  IS_COOPERATING_WITH   \n",
       "...       ...                   ...                  ...   \n",
       "2532    41095              CIVILIAN          GENDER_MALE   \n",
       "2533    41089    POLITICAL_VIOLENCE      HAS_CONSEQUENCE   \n",
       "2534     2450                 PLACE        IS_LOCATED_IN   \n",
       "2535    41089  GROUP_OF_INDIVIDUALS           IS_PART_OF   \n",
       "2536    52002                 PLACE        IS_LOCATED_IN   \n",
       "\n",
       "                    e2_cat  count  proportion  \n",
       "0        ECONOMICAL_CRISIS     21    0.004568  \n",
       "1        ECONOMICAL_CRISIS     15    0.003263  \n",
       "2     GROUP_OF_INDIVIDUALS     12    0.002610  \n",
       "3     GROUP_OF_INDIVIDUALS     12    0.002610  \n",
       "4     GROUP_OF_INDIVIDUALS     12    0.002610  \n",
       "...                    ...    ...         ...  \n",
       "2532              CIVILIAN      1    0.000218  \n",
       "2533    POLITICAL_VIOLENCE      1    0.000218  \n",
       "2534                 PLACE      1    0.000218  \n",
       "2535  GROUP_OF_INDIVIDUALS      1    0.000218  \n",
       "2536                 PLACE      1    0.000218  \n",
       "\n",
       "[2537 rows x 6 columns]"
      ]
     },
     "execution_count": 48,
     "metadata": {},
     "output_type": "execute_result"
    }
   ],
   "source": [
    "df = pd.concat([per_r_cat_e1_cat_equal_e2_cat_df.value_counts(normalize=False), per_r_cat_e1_cat_equal_e2_cat_df.value_counts(normalize=True)], axis=1).reset_index(drop=False)\n",
    "n_entity_classes = len(entity_classes)\n",
    "logging.info(f\"{df.shape[0]} existing entity of identical categories in relation vs. {n_entity_classes=} imaginable entity category !\")\n",
    "df.to_csv(os.path.join(EDA_DIR, \"per_r_cat-e1_cat-equal-e2_cat_df-freq.csv\")) #.plot.barh()\n",
    "df"
   ]
  },
  {
   "cell_type": "markdown",
   "metadata": {},
   "source": [
    "#### what pairs of entity categories never have any relationship?\n",
    "\n",
    "- we don't need to attempt to classify pairs of entities of these types"
   ]
  },
  {
   "cell_type": "code",
   "execution_count": 49,
   "metadata": {},
   "outputs": [
    {
     "data": {
      "text/html": [
       "<div>\n",
       "<style scoped>\n",
       "    .dataframe tbody tr th:only-of-type {\n",
       "        vertical-align: middle;\n",
       "    }\n",
       "\n",
       "    .dataframe tbody tr th {\n",
       "        vertical-align: top;\n",
       "    }\n",
       "\n",
       "    .dataframe thead th {\n",
       "        text-align: right;\n",
       "    }\n",
       "</style>\n",
       "<table border=\"1\" class=\"dataframe\">\n",
       "  <thead>\n",
       "    <tr style=\"text-align: right;\">\n",
       "      <th></th>\n",
       "      <th></th>\n",
       "    </tr>\n",
       "    <tr>\n",
       "      <th>e1_cat</th>\n",
       "      <th>e2_cat</th>\n",
       "    </tr>\n",
       "  </thead>\n",
       "  <tbody>\n",
       "    <tr>\n",
       "      <th rowspan=\"5\" valign=\"top\">QUANTITY_MAX</th>\n",
       "      <th>QUANTITY_MAX</th>\n",
       "    </tr>\n",
       "    <tr>\n",
       "      <th>TERRORIST_OR_CRIMINAL</th>\n",
       "    </tr>\n",
       "    <tr>\n",
       "      <th>SUICIDE</th>\n",
       "    </tr>\n",
       "    <tr>\n",
       "      <th>NON_GOVERNMENTAL_ORGANISATION</th>\n",
       "    </tr>\n",
       "    <tr>\n",
       "      <th>QUANTITY_FUZZY</th>\n",
       "    </tr>\n",
       "    <tr>\n",
       "      <th>...</th>\n",
       "      <th>...</th>\n",
       "    </tr>\n",
       "    <tr>\n",
       "      <th rowspan=\"5\" valign=\"top\">LENGTH</th>\n",
       "      <th>PLACE</th>\n",
       "    </tr>\n",
       "    <tr>\n",
       "      <th>MILITARY</th>\n",
       "    </tr>\n",
       "    <tr>\n",
       "      <th>QUANTITY_EXACT</th>\n",
       "    </tr>\n",
       "    <tr>\n",
       "      <th>STRIKE</th>\n",
       "    </tr>\n",
       "    <tr>\n",
       "      <th>LENGTH</th>\n",
       "    </tr>\n",
       "  </tbody>\n",
       "</table>\n",
       "<p>3025 rows × 0 columns</p>\n",
       "</div>"
      ],
      "text/plain": [
       "Empty DataFrame\n",
       "Columns: []\n",
       "Index: [(QUANTITY_MAX, QUANTITY_MAX), (QUANTITY_MAX, TERRORIST_OR_CRIMINAL), (QUANTITY_MAX, SUICIDE), (QUANTITY_MAX, NON_GOVERNMENTAL_ORGANISATION), (QUANTITY_MAX, QUANTITY_FUZZY), (QUANTITY_MAX, DRUG_OPERATION), (QUANTITY_MAX, HOOLIGANISM_TROUBLEMAKING), (QUANTITY_MAX, TIME_MIN), (QUANTITY_MAX, ILLEGAL_CIVIL_DEMONSTRATION), (QUANTITY_MAX, CRIMINAL_ARREST), (QUANTITY_MAX, TIME_EXACT), (QUANTITY_MAX, CATEGORY), (QUANTITY_MAX, ELECTION), (QUANTITY_MAX, RIOT), (QUANTITY_MAX, MILITARY_ORGANISATION), (QUANTITY_MAX, AGITATING_TROUBLE_MAKING), (QUANTITY_MAX, FIRSTNAME), (QUANTITY_MAX, CBRN_EVENT), (QUANTITY_MAX, CIVILIAN), (QUANTITY_MAX, TIME_FUZZY), (QUANTITY_MAX, DEMONSTRATION), (QUANTITY_MAX, LONGITUDE), (QUANTITY_MAX, NATIONALITY), (QUANTITY_MAX, WIDTH), (QUANTITY_MAX, TIME_MAX), (QUANTITY_MAX, THEFT), (QUANTITY_MAX, CIVIL_WAR_OUTBREAK), (QUANTITY_MAX, FIRE), (QUANTITY_MAX, GROUP_OF_INDIVIDUALS), (QUANTITY_MAX, POLLUTION), (QUANTITY_MAX, GATHERING), (QUANTITY_MAX, MATERIAL_REFERENCE), (QUANTITY_MAX, QUANTITY_MIN), (QUANTITY_MAX, COUP_D_ETAT), (QUANTITY_MAX, TRAFFICKING), (QUANTITY_MAX, COLOR), (QUANTITY_MAX, BOMBING), (QUANTITY_MAX, HEIGHT), (QUANTITY_MAX, ACCIDENT), (QUANTITY_MAX, EPIDEMIC), (QUANTITY_MAX, LATITUDE), (QUANTITY_MAX, INTERGOVERNMENTAL_ORGANISATION), (QUANTITY_MAX, NATURAL_CAUSES_DEATH), (QUANTITY_MAX, ECONOMICAL_CRISIS), (QUANTITY_MAX, NON_MILITARY_GOVERNMENT_ORGANISATION), (QUANTITY_MAX, LASTNAME), (QUANTITY_MAX, WEIGHT), (QUANTITY_MAX, NATURAL_EVENT), (QUANTITY_MAX, POLITICAL_VIOLENCE), (QUANTITY_MAX, MATERIEL), (QUANTITY_MAX, PLACE), (QUANTITY_MAX, MILITARY), (QUANTITY_MAX, QUANTITY_EXACT), (QUANTITY_MAX, STRIKE), (QUANTITY_MAX, LENGTH), (TERRORIST_OR_CRIMINAL, QUANTITY_MAX), (TERRORIST_OR_CRIMINAL, TERRORIST_OR_CRIMINAL), (TERRORIST_OR_CRIMINAL, SUICIDE), (TERRORIST_OR_CRIMINAL, NON_GOVERNMENTAL_ORGANISATION), (TERRORIST_OR_CRIMINAL, QUANTITY_FUZZY), (TERRORIST_OR_CRIMINAL, DRUG_OPERATION), (TERRORIST_OR_CRIMINAL, HOOLIGANISM_TROUBLEMAKING), (TERRORIST_OR_CRIMINAL, TIME_MIN), (TERRORIST_OR_CRIMINAL, ILLEGAL_CIVIL_DEMONSTRATION), (TERRORIST_OR_CRIMINAL, CRIMINAL_ARREST), (TERRORIST_OR_CRIMINAL, TIME_EXACT), (TERRORIST_OR_CRIMINAL, CATEGORY), (TERRORIST_OR_CRIMINAL, ELECTION), (TERRORIST_OR_CRIMINAL, RIOT), (TERRORIST_OR_CRIMINAL, MILITARY_ORGANISATION), (TERRORIST_OR_CRIMINAL, AGITATING_TROUBLE_MAKING), (TERRORIST_OR_CRIMINAL, FIRSTNAME), (TERRORIST_OR_CRIMINAL, CBRN_EVENT), (TERRORIST_OR_CRIMINAL, CIVILIAN), (TERRORIST_OR_CRIMINAL, TIME_FUZZY), (TERRORIST_OR_CRIMINAL, DEMONSTRATION), (TERRORIST_OR_CRIMINAL, LONGITUDE), (TERRORIST_OR_CRIMINAL, NATIONALITY), (TERRORIST_OR_CRIMINAL, WIDTH), (TERRORIST_OR_CRIMINAL, TIME_MAX), (TERRORIST_OR_CRIMINAL, THEFT), (TERRORIST_OR_CRIMINAL, CIVIL_WAR_OUTBREAK), (TERRORIST_OR_CRIMINAL, FIRE), (TERRORIST_OR_CRIMINAL, GROUP_OF_INDIVIDUALS), (TERRORIST_OR_CRIMINAL, POLLUTION), (TERRORIST_OR_CRIMINAL, GATHERING), (TERRORIST_OR_CRIMINAL, MATERIAL_REFERENCE), (TERRORIST_OR_CRIMINAL, QUANTITY_MIN), (TERRORIST_OR_CRIMINAL, COUP_D_ETAT), (TERRORIST_OR_CRIMINAL, TRAFFICKING), (TERRORIST_OR_CRIMINAL, COLOR), (TERRORIST_OR_CRIMINAL, BOMBING), (TERRORIST_OR_CRIMINAL, HEIGHT), (TERRORIST_OR_CRIMINAL, ACCIDENT), (TERRORIST_OR_CRIMINAL, EPIDEMIC), (TERRORIST_OR_CRIMINAL, LATITUDE), (TERRORIST_OR_CRIMINAL, INTERGOVERNMENTAL_ORGANISATION), (TERRORIST_OR_CRIMINAL, NATURAL_CAUSES_DEATH), (TERRORIST_OR_CRIMINAL, ECONOMICAL_CRISIS), (TERRORIST_OR_CRIMINAL, NON_MILITARY_GOVERNMENT_ORGANISATION), ...]\n",
       "\n",
       "[3025 rows x 0 columns]"
      ]
     },
     "execution_count": 49,
     "metadata": {},
     "output_type": "execute_result"
    }
   ],
   "source": [
    "all_possible_entity_cat_pairs_df = pd.DataFrame([[e1_cat, e2_cat] for (e1_cat, e2_cat) in itertools.product(*[list(entity_classes)]*2)], columns=[\"e1_cat\", \"e2_cat\"]).set_index([\"e1_cat\", \"e2_cat\"])\n",
    "all_possible_entity_cat_pairs_df"
   ]
  },
  {
   "cell_type": "code",
   "execution_count": 50,
   "metadata": {},
   "outputs": [
    {
     "data": {
      "text/html": [
       "<div>\n",
       "<style scoped>\n",
       "    .dataframe tbody tr th:only-of-type {\n",
       "        vertical-align: middle;\n",
       "    }\n",
       "\n",
       "    .dataframe tbody tr th {\n",
       "        vertical-align: top;\n",
       "    }\n",
       "\n",
       "    .dataframe thead th {\n",
       "        text-align: right;\n",
       "    }\n",
       "</style>\n",
       "<table border=\"1\" class=\"dataframe\">\n",
       "  <thead>\n",
       "    <tr style=\"text-align: right;\">\n",
       "      <th></th>\n",
       "      <th></th>\n",
       "    </tr>\n",
       "    <tr>\n",
       "      <th>e1_cat</th>\n",
       "      <th>e2_cat</th>\n",
       "    </tr>\n",
       "  </thead>\n",
       "  <tbody>\n",
       "    <tr>\n",
       "      <th>ACCIDENT</th>\n",
       "      <th>PLACE</th>\n",
       "    </tr>\n",
       "    <tr>\n",
       "      <th>CIVILIAN</th>\n",
       "      <th>PLACE</th>\n",
       "    </tr>\n",
       "    <tr>\n",
       "      <th>GROUP_OF_INDIVIDUALS</th>\n",
       "      <th>PLACE</th>\n",
       "    </tr>\n",
       "    <tr>\n",
       "      <th>CIVILIAN</th>\n",
       "      <th>CIVILIAN</th>\n",
       "    </tr>\n",
       "    <tr>\n",
       "      <th>TERRORIST_OR_CRIMINAL</th>\n",
       "      <th>PLACE</th>\n",
       "    </tr>\n",
       "    <tr>\n",
       "      <th>...</th>\n",
       "      <th>...</th>\n",
       "    </tr>\n",
       "    <tr>\n",
       "      <th>CIVILIAN</th>\n",
       "      <th>COUP_D_ETAT</th>\n",
       "    </tr>\n",
       "    <tr>\n",
       "      <th>MILITARY</th>\n",
       "      <th>COUP_D_ETAT</th>\n",
       "    </tr>\n",
       "    <tr>\n",
       "      <th>COUP_D_ETAT</th>\n",
       "      <th>QUANTITY_FUZZY</th>\n",
       "    </tr>\n",
       "    <tr>\n",
       "      <th>ACCIDENT</th>\n",
       "      <th>THEFT</th>\n",
       "    </tr>\n",
       "    <tr>\n",
       "      <th>STRIKE</th>\n",
       "      <th>QUANTITY_FUZZY</th>\n",
       "    </tr>\n",
       "  </tbody>\n",
       "</table>\n",
       "<p>474 rows × 0 columns</p>\n",
       "</div>"
      ],
      "text/plain": [
       "Empty DataFrame\n",
       "Columns: []\n",
       "Index: [(ACCIDENT, PLACE), (CIVILIAN, PLACE), (GROUP_OF_INDIVIDUALS, PLACE), (CIVILIAN, CIVILIAN), (TERRORIST_OR_CRIMINAL, PLACE), (CIVILIAN, CATEGORY), (PLACE, PLACE), (TERRORIST_OR_CRIMINAL, TIME_EXACT), (TERRORIST_OR_CRIMINAL, CATEGORY), (ACCIDENT, TIME_EXACT), (TERRORIST_OR_CRIMINAL, TERRORIST_OR_CRIMINAL), (GROUP_OF_INDIVIDUALS, QUANTITY_EXACT), (NON_GOVERNMENTAL_ORGANISATION, PLACE), (FIRE, PLACE), (NON_MILITARY_GOVERNMENT_ORGANISATION, PLACE), (FIRE, TIME_EXACT), (CBRN_EVENT, PLACE), (MATERIEL, QUANTITY_FUZZY), (CBRN_EVENT, TIME_EXACT), (MATERIEL, COLOR), (CIVILIAN, NON_GOVERNMENTAL_ORGANISATION), (POLLUTION, PLACE), (NON_MILITARY_GOVERNMENT_ORGANISATION, MATERIEL), (NON_MILITARY_GOVERNMENT_ORGANISATION, NON_MILITARY_GOVERNMENT_ORGANISATION), (POLLUTION, TIME_EXACT), (GROUP_OF_INDIVIDUALS, MILITARY), (GROUP_OF_INDIVIDUALS, MATERIEL), (MILITARY, CATEGORY), (CIVILIAN, MATERIEL), (MILITARY, MILITARY), (CIVILIAN, FIRE), (MILITARY, GROUP_OF_INDIVIDUALS), (NATURAL_EVENT, PLACE), (MATERIEL, LENGTH), (NATURAL_EVENT, TIME_EXACT), (NATURAL_EVENT, ACCIDENT), (MATERIEL, TIME_EXACT), (GROUP_OF_INDIVIDUALS, QUANTITY_MIN), (GATHERING, PLACE), (CIVILIAN, GROUP_OF_INDIVIDUALS), (GROUP_OF_INDIVIDUALS, CIVILIAN), (GROUP_OF_INDIVIDUALS, NON_GOVERNMENTAL_ORGANISATION), (CIVILIAN, GATHERING), (NON_GOVERNMENTAL_ORGANISATION, CIVILIAN), (NON_GOVERNMENTAL_ORGANISATION, GATHERING), (GATHERING, TIME_MAX), (GROUP_OF_INDIVIDUALS, QUANTITY_FUZZY), (GATHERING, TIME_MIN), (CIVILIAN, NATIONALITY), (EPIDEMIC, PLACE), (STRIKE, PLACE), (GROUP_OF_INDIVIDUALS, NON_MILITARY_GOVERNMENT_ORGANISATION), (STRIKE, TIME_MAX), (NON_MILITARY_GOVERNMENT_ORGANISATION, GROUP_OF_INDIVIDUALS), (STRIKE, TIME_EXACT), (GROUP_OF_INDIVIDUALS, NATIONALITY), (GROUP_OF_INDIVIDUALS, STRIKE), (ACCIDENT, TIME_FUZZY), (MATERIEL, HEIGHT), (ACCIDENT, FIRE), (CIVILIAN, ACCIDENT), (NON_GOVERNMENTAL_ORGANISATION, MATERIEL), (NON_GOVERNMENTAL_ORGANISATION, GROUP_OF_INDIVIDUALS), (MATERIEL, WEIGHT), (GROUP_OF_INDIVIDUALS, ACCIDENT), (CIVILIAN, TIME_EXACT), (CIVILIAN, NON_MILITARY_GOVERNMENT_ORGANISATION), (NON_MILITARY_GOVERNMENT_ORGANISATION, CIVILIAN), (BOMBING, PLACE), (BOMBING, QUANTITY_EXACT), (TERRORIST_OR_CRIMINAL, MATERIEL), (TERRORIST_OR_CRIMINAL, BOMBING), (NATURAL_CAUSES_DEATH, PLACE), (NATURAL_CAUSES_DEATH, TIME_EXACT), (GROUP_OF_INDIVIDUALS, GROUP_OF_INDIVIDUALS), (NON_GOVERNMENTAL_ORGANISATION, NON_GOVERNMENTAL_ORGANISATION), (CBRN_EVENT, FIRE), (THEFT, PLACE), (THEFT, TIME_EXACT), (GROUP_OF_INDIVIDUALS, THEFT), (DEMONSTRATION, PLACE), (GROUP_OF_INDIVIDUALS, DEMONSTRATION), (DEMONSTRATION, TIME_EXACT), (AGITATING_TROUBLE_MAKING, CBRN_EVENT), (AGITATING_TROUBLE_MAKING, PLACE), (GROUP_OF_INDIVIDUALS, AGITATING_TROUBLE_MAKING), (AGITATING_TROUBLE_MAKING, TIME_EXACT), (ACCIDENT, ACCIDENT), (ACCIDENT, CBRN_EVENT), (NON_GOVERNMENTAL_ORGANISATION, TIME_EXACT), (GATHERING, TIME_EXACT), (GROUP_OF_INDIVIDUALS, GATHERING), (GATHERING, GATHERING), (EPIDEMIC, TIME_MAX), (MILITARY_ORGANISATION, GROUP_OF_INDIVIDUALS), (MILITARY_ORGANISATION, PLACE), (NON_MILITARY_GOVERNMENT_ORGANISATION, MILITARY_ORGANISATION), (MILITARY_ORGANISATION, NON_MILITARY_GOVERNMENT_ORGANISATION), (MILITARY_ORGANISATION, MATERIEL), (GROUP_OF_INDIVIDUALS, MILITARY_ORGANISATION), ...]\n",
       "\n",
       "[474 rows x 0 columns]"
      ]
     },
     "execution_count": 50,
     "metadata": {},
     "output_type": "execute_result"
    }
   ],
   "source": [
    "entity_cat_pair_in_relation_df.drop_duplicates().set_index([\"e1_cat\", \"e2_cat\"])"
   ]
  },
  {
   "cell_type": "code",
   "execution_count": 51,
   "metadata": {},
   "outputs": [
    {
     "data": {
      "text/html": [
       "<div>\n",
       "<style scoped>\n",
       "    .dataframe tbody tr th:only-of-type {\n",
       "        vertical-align: middle;\n",
       "    }\n",
       "\n",
       "    .dataframe tbody tr th {\n",
       "        vertical-align: top;\n",
       "    }\n",
       "\n",
       "    .dataframe thead th {\n",
       "        text-align: right;\n",
       "    }\n",
       "</style>\n",
       "<table border=\"1\" class=\"dataframe\">\n",
       "  <thead>\n",
       "    <tr style=\"text-align: right;\">\n",
       "      <th></th>\n",
       "      <th>e1_cat</th>\n",
       "      <th>e2_cat</th>\n",
       "    </tr>\n",
       "  </thead>\n",
       "  <tbody>\n",
       "    <tr>\n",
       "      <th>0</th>\n",
       "      <td>ACCIDENT</td>\n",
       "      <td>AGITATING_TROUBLE_MAKING</td>\n",
       "    </tr>\n",
       "    <tr>\n",
       "      <th>1</th>\n",
       "      <td>ACCIDENT</td>\n",
       "      <td>BOMBING</td>\n",
       "    </tr>\n",
       "    <tr>\n",
       "      <th>2</th>\n",
       "      <td>ACCIDENT</td>\n",
       "      <td>CATEGORY</td>\n",
       "    </tr>\n",
       "    <tr>\n",
       "      <th>3</th>\n",
       "      <td>ACCIDENT</td>\n",
       "      <td>CIVILIAN</td>\n",
       "    </tr>\n",
       "    <tr>\n",
       "      <th>4</th>\n",
       "      <td>ACCIDENT</td>\n",
       "      <td>CIVIL_WAR_OUTBREAK</td>\n",
       "    </tr>\n",
       "    <tr>\n",
       "      <th>...</th>\n",
       "      <td>...</td>\n",
       "      <td>...</td>\n",
       "    </tr>\n",
       "    <tr>\n",
       "      <th>2546</th>\n",
       "      <td>WIDTH</td>\n",
       "      <td>TIME_MAX</td>\n",
       "    </tr>\n",
       "    <tr>\n",
       "      <th>2547</th>\n",
       "      <td>WIDTH</td>\n",
       "      <td>TIME_MIN</td>\n",
       "    </tr>\n",
       "    <tr>\n",
       "      <th>2548</th>\n",
       "      <td>WIDTH</td>\n",
       "      <td>TRAFFICKING</td>\n",
       "    </tr>\n",
       "    <tr>\n",
       "      <th>2549</th>\n",
       "      <td>WIDTH</td>\n",
       "      <td>WEIGHT</td>\n",
       "    </tr>\n",
       "    <tr>\n",
       "      <th>2550</th>\n",
       "      <td>WIDTH</td>\n",
       "      <td>WIDTH</td>\n",
       "    </tr>\n",
       "  </tbody>\n",
       "</table>\n",
       "<p>2551 rows × 2 columns</p>\n",
       "</div>"
      ],
      "text/plain": [
       "        e1_cat                    e2_cat\n",
       "0     ACCIDENT  AGITATING_TROUBLE_MAKING\n",
       "1     ACCIDENT                   BOMBING\n",
       "2     ACCIDENT                  CATEGORY\n",
       "3     ACCIDENT                  CIVILIAN\n",
       "4     ACCIDENT        CIVIL_WAR_OUTBREAK\n",
       "...        ...                       ...\n",
       "2546     WIDTH                  TIME_MAX\n",
       "2547     WIDTH                  TIME_MIN\n",
       "2548     WIDTH               TRAFFICKING\n",
       "2549     WIDTH                    WEIGHT\n",
       "2550     WIDTH                     WIDTH\n",
       "\n",
       "[2551 rows x 2 columns]"
      ]
     },
     "execution_count": 51,
     "metadata": {},
     "output_type": "execute_result"
    }
   ],
   "source": [
    "entity_pairs_never_in_relation_df = pd.DataFrame(index=all_possible_entity_cat_pairs_df.index.difference(entity_cat_pair_in_relation_df.drop_duplicates().set_index([\"e1_cat\", \"e2_cat\"]).index)).reset_index(drop=False)\n",
    "entity_pairs_never_in_relation_df.to_csv(os.path.join(EDA_DIR, \"entity_pairs_never_in_relation.csv\"))\n",
    "entity_pairs_never_in_relation_df"
   ]
  },
  {
   "cell_type": "markdown",
   "metadata": {},
   "source": [
    "### What are the entity types involved in minority relation types\n",
    "\n",
    "... for data augmentation by entity replacement"
   ]
  },
  {
   "cell_type": "code",
   "execution_count": 52,
   "metadata": {},
   "outputs": [
    {
     "data": {
      "text/plain": [
       "\"Des jeunes habitants des quartiers populaires de Paris ont vu une vidéo dénonçant des violences policières, publiée par Monsieur Alain Dupond sur les réseaux sociaux le 2 septembre 2023. Les jeunes révoltés se sont donc réunis en petits groupes et ont décidé d'exprimer leur colère en saccageant les voitures de police et les biens des bourgeois blancs. Ils se déplaçaient de nuit dans la ville au guidon de leurs motos et jetaient des cocktails Molotov sur les véhicules de patrouille. Certains étaient même équipés d'armes à feu et tiraient sur les façades des maisons, d'autres se promenaient à pied et déchiraient les roues des voitures avec leur canif tandis que d'autres encore explosaient les pare-brise à grands coups de batte de baseball. Les populations apeurées cherchaient à alerter la police avec leurs téléphones.\""
      ]
     },
     "execution_count": 52,
     "metadata": {},
     "output_type": "execute_result"
    }
   ],
   "source": [
    "text, text_entities, text_relations = labeled_clean_df.iloc[100].to_list()\n",
    "text"
   ]
  },
  {
   "cell_type": "code",
   "execution_count": 53,
   "metadata": {},
   "outputs": [
    {
     "data": {
      "text/plain": [
       "{'id': 0,\n",
       " 'mentions': [{'value': 'réunis', 'start': 220, 'end': 226}],\n",
       " 'type': 'RIOT'}"
      ]
     },
     "execution_count": 53,
     "metadata": {},
     "output_type": "execute_result"
    }
   ],
   "source": [
    "text_entities[0]"
   ]
  },
  {
   "cell_type": "code",
   "execution_count": 54,
   "metadata": {},
   "outputs": [
    {
     "data": {
      "text/plain": [
       "[('Des jeunes ', None),\n",
       " ('habitants', 2),\n",
       " (' des ', None),\n",
       " ('quartiers populaires', 12),\n",
       " (' de ', None),\n",
       " ('Paris', 11),\n",
       " (' ont vu une vidéo dénonçant des violences ', None),\n",
       " ('policières', 3),\n",
       " (', publiée par Monsieur ', None),\n",
       " ('Alain', 21),\n",
       " (' ', None),\n",
       " ('Dupond', 20),\n",
       " (' sur les réseaux sociaux le ', None),\n",
       " ('2 septembre 2023', 19),\n",
       " ('. Les ', None),\n",
       " ('jeunes révoltés', 2),\n",
       " (' se sont donc ', None),\n",
       " ('réunis', 0),\n",
       " (' en petits ', None),\n",
       " ('groupes', 2),\n",
       " (\" et ont décidé d'exprimer leur colère en saccageant les \", None),\n",
       " ('voitures', 4),\n",
       " (' de ', None),\n",
       " ('police', 10),\n",
       " (' et les ', None),\n",
       " ('biens', 5),\n",
       " (' des ', None),\n",
       " ('bourgeois blancs', 13),\n",
       " ('. ', None),\n",
       " ('Ils', 2),\n",
       " (' se déplaçaient de nuit dans la ', None),\n",
       " ('ville', 11),\n",
       " (' au guidon de leurs ', None),\n",
       " ('motos', 6),\n",
       " (' et jetaient des ', None),\n",
       " ('cocktails Molotov', 14),\n",
       " (' sur les ', None),\n",
       " ('véhicules de patrouille', 15),\n",
       " ('. ', None),\n",
       " ('Certains', 2),\n",
       " (\" étaient même équipés d'\", None),\n",
       " ('armes à feu', 16),\n",
       " (\" et tiraient sur les façades des maisons, d'\", None),\n",
       " ('autres', 2),\n",
       " (' se promenaient à pied et déchiraient les ', None),\n",
       " ('roues', 17),\n",
       " (' des ', None),\n",
       " ('voitures', 4),\n",
       " (' avec leur ', None),\n",
       " ('canif', 18),\n",
       " (\" tandis que d'\", None),\n",
       " ('autres', 2),\n",
       " (' encore explosaient les ', None),\n",
       " ('pare-brise', 7),\n",
       " (' à grands coups de ', None),\n",
       " ('batte de baseball', 8),\n",
       " ('. Les ', None),\n",
       " ('populations', 2),\n",
       " (' apeurées cherchaient à alerter la ', None),\n",
       " ('police', 10),\n",
       " (' avec leurs ', None),\n",
       " ('téléphones', 9),\n",
       " ('.', None)]"
      ]
     },
     "execution_count": 54,
     "metadata": {},
     "output_type": "execute_result"
    }
   ],
   "source": [
    "convert_text_to_entity_spans(text, text_entities)"
   ]
  },
  {
   "cell_type": "code",
   "execution_count": 55,
   "metadata": {},
   "outputs": [
    {
     "data": {
      "text/plain": [
       "<Axes: >"
      ]
     },
     "execution_count": 55,
     "metadata": {},
     "output_type": "execute_result"
    },
    {
     "data": {
      "image/png": "[encoded data removed]",
      "text/plain": [
       "<Figure size 1500x1000 with 1 Axes>"
      ]
     },
     "metadata": {},
     "output_type": "display_data"
    }
   ],
   "source": [
    "plt.figure(figsize=(15, 10))\n",
    "n_texts_per_entity_type.plot.barh()"
   ]
  },
  {
   "cell_type": "code",
   "execution_count": 56,
   "metadata": {},
   "outputs": [
    {
     "data": {
      "text/html": [
       "<div>\n",
       "<style scoped>\n",
       "    .dataframe tbody tr th:only-of-type {\n",
       "        vertical-align: middle;\n",
       "    }\n",
       "\n",
       "    .dataframe tbody tr th {\n",
       "        vertical-align: top;\n",
       "    }\n",
       "\n",
       "    .dataframe thead th {\n",
       "        text-align: right;\n",
       "    }\n",
       "</style>\n",
       "<table border=\"1\" class=\"dataframe\">\n",
       "  <thead>\n",
       "    <tr style=\"text-align: right;\">\n",
       "      <th></th>\n",
       "      <th>text_id</th>\n",
       "      <th>e1_cat</th>\n",
       "      <th>r_cat</th>\n",
       "      <th>e2_cat</th>\n",
       "    </tr>\n",
       "  </thead>\n",
       "  <tbody>\n",
       "    <tr>\n",
       "      <th>33</th>\n",
       "      <td>31669</td>\n",
       "      <td>MATERIEL</td>\n",
       "      <td>HAS_COLOR</td>\n",
       "      <td>COLOR</td>\n",
       "    </tr>\n",
       "    <tr>\n",
       "      <th>4</th>\n",
       "      <td>3766</td>\n",
       "      <td>MATERIEL</td>\n",
       "      <td>HAS_COLOR</td>\n",
       "      <td>COLOR</td>\n",
       "    </tr>\n",
       "    <tr>\n",
       "      <th>7</th>\n",
       "      <td>3766</td>\n",
       "      <td>MATERIEL</td>\n",
       "      <td>HAS_COLOR</td>\n",
       "      <td>COLOR</td>\n",
       "    </tr>\n",
       "    <tr>\n",
       "      <th>36</th>\n",
       "      <td>41889</td>\n",
       "      <td>MATERIEL</td>\n",
       "      <td>HAS_COLOR</td>\n",
       "      <td>COLOR</td>\n",
       "    </tr>\n",
       "    <tr>\n",
       "      <th>19</th>\n",
       "      <td>3804</td>\n",
       "      <td>MATERIEL</td>\n",
       "      <td>HAS_COLOR</td>\n",
       "      <td>COLOR</td>\n",
       "    </tr>\n",
       "    <tr>\n",
       "      <th>...</th>\n",
       "      <td>...</td>\n",
       "      <td>...</td>\n",
       "      <td>...</td>\n",
       "      <td>...</td>\n",
       "    </tr>\n",
       "    <tr>\n",
       "      <th>30</th>\n",
       "      <td>41048</td>\n",
       "      <td>MATERIEL</td>\n",
       "      <td>HAS_COLOR</td>\n",
       "      <td>COLOR</td>\n",
       "    </tr>\n",
       "    <tr>\n",
       "      <th>14</th>\n",
       "      <td>1109</td>\n",
       "      <td>MATERIEL</td>\n",
       "      <td>HAS_COLOR</td>\n",
       "      <td>COLOR</td>\n",
       "    </tr>\n",
       "    <tr>\n",
       "      <th>19</th>\n",
       "      <td>4987</td>\n",
       "      <td>MATERIEL</td>\n",
       "      <td>HAS_COLOR</td>\n",
       "      <td>COLOR</td>\n",
       "    </tr>\n",
       "    <tr>\n",
       "      <th>5</th>\n",
       "      <td>41204</td>\n",
       "      <td>MATERIEL</td>\n",
       "      <td>HAS_COLOR</td>\n",
       "      <td>COLOR</td>\n",
       "    </tr>\n",
       "    <tr>\n",
       "      <th>56</th>\n",
       "      <td>2570</td>\n",
       "      <td>MATERIEL</td>\n",
       "      <td>HAS_COLOR</td>\n",
       "      <td>COLOR</td>\n",
       "    </tr>\n",
       "  </tbody>\n",
       "</table>\n",
       "<p>91 rows × 4 columns</p>\n",
       "</div>"
      ],
      "text/plain": [
       "    text_id    e1_cat      r_cat e2_cat\n",
       "33    31669  MATERIEL  HAS_COLOR  COLOR\n",
       "4      3766  MATERIEL  HAS_COLOR  COLOR\n",
       "7      3766  MATERIEL  HAS_COLOR  COLOR\n",
       "36    41889  MATERIEL  HAS_COLOR  COLOR\n",
       "19     3804  MATERIEL  HAS_COLOR  COLOR\n",
       "..      ...       ...        ...    ...\n",
       "30    41048  MATERIEL  HAS_COLOR  COLOR\n",
       "14     1109  MATERIEL  HAS_COLOR  COLOR\n",
       "19     4987  MATERIEL  HAS_COLOR  COLOR\n",
       "5     41204  MATERIEL  HAS_COLOR  COLOR\n",
       "56     2570  MATERIEL  HAS_COLOR  COLOR\n",
       "\n",
       "[91 rows x 4 columns]"
      ]
     },
     "execution_count": 56,
     "metadata": {},
     "output_type": "execute_result"
    }
   ],
   "source": [
    "entity_relation_cat_df.query(\"e2_cat=='COLOR'\")#.shape[0]"
   ]
  },
  {
   "cell_type": "code",
   "execution_count": 57,
   "metadata": {},
   "outputs": [
    {
     "data": {
      "text/plain": [
       "408"
      ]
     },
     "execution_count": 57,
     "metadata": {},
     "output_type": "execute_result"
    }
   ],
   "source": [
    "entity_relation_cat_df.query(\"e1_cat=='MATERIEL'\").shape[0]"
   ]
  },
  {
   "cell_type": "code",
   "execution_count": 58,
   "metadata": {},
   "outputs": [
    {
     "data": {
      "text/plain": [
       "769"
      ]
     },
     "execution_count": 58,
     "metadata": {},
     "output_type": "execute_result"
    }
   ],
   "source": [
    "entity_relation_cat_df.query(\"r_cat=='HAS_CONSEQUENCE'\").shape[0]"
   ]
  },
  {
   "cell_type": "code",
   "execution_count": 59,
   "metadata": {},
   "outputs": [
    {
     "data": {
      "text/html": [
       "<div>\n",
       "<style scoped>\n",
       "    .dataframe tbody tr th:only-of-type {\n",
       "        vertical-align: middle;\n",
       "    }\n",
       "\n",
       "    .dataframe tbody tr th {\n",
       "        vertical-align: top;\n",
       "    }\n",
       "\n",
       "    .dataframe thead th {\n",
       "        text-align: right;\n",
       "    }\n",
       "</style>\n",
       "<table border=\"1\" class=\"dataframe\">\n",
       "  <thead>\n",
       "    <tr style=\"text-align: right;\">\n",
       "      <th></th>\n",
       "      <th>text_id</th>\n",
       "      <th>e1_cat</th>\n",
       "      <th>r_cat</th>\n",
       "      <th>e2_cat</th>\n",
       "    </tr>\n",
       "  </thead>\n",
       "  <tbody>\n",
       "    <tr>\n",
       "      <th>3</th>\n",
       "      <td>181</td>\n",
       "      <td>CIVILIAN</td>\n",
       "      <td>GENDER_FEMALE</td>\n",
       "      <td>CIVILIAN</td>\n",
       "    </tr>\n",
       "    <tr>\n",
       "      <th>13</th>\n",
       "      <td>1131</td>\n",
       "      <td>CIVILIAN</td>\n",
       "      <td>GENDER_FEMALE</td>\n",
       "      <td>CIVILIAN</td>\n",
       "    </tr>\n",
       "    <tr>\n",
       "      <th>17</th>\n",
       "      <td>3622</td>\n",
       "      <td>CIVILIAN</td>\n",
       "      <td>GENDER_FEMALE</td>\n",
       "      <td>CIVILIAN</td>\n",
       "    </tr>\n",
       "    <tr>\n",
       "      <th>22</th>\n",
       "      <td>3766</td>\n",
       "      <td>CIVILIAN</td>\n",
       "      <td>GENDER_FEMALE</td>\n",
       "      <td>CIVILIAN</td>\n",
       "    </tr>\n",
       "    <tr>\n",
       "      <th>0</th>\n",
       "      <td>1116</td>\n",
       "      <td>CIVILIAN</td>\n",
       "      <td>GENDER_FEMALE</td>\n",
       "      <td>CIVILIAN</td>\n",
       "    </tr>\n",
       "    <tr>\n",
       "      <th>...</th>\n",
       "      <td>...</td>\n",
       "      <td>...</td>\n",
       "      <td>...</td>\n",
       "      <td>...</td>\n",
       "    </tr>\n",
       "    <tr>\n",
       "      <th>11</th>\n",
       "      <td>1252</td>\n",
       "      <td>CIVILIAN</td>\n",
       "      <td>GENDER_FEMALE</td>\n",
       "      <td>CIVILIAN</td>\n",
       "    </tr>\n",
       "    <tr>\n",
       "      <th>32</th>\n",
       "      <td>51398</td>\n",
       "      <td>CIVILIAN</td>\n",
       "      <td>GENDER_FEMALE</td>\n",
       "      <td>CIVILIAN</td>\n",
       "    </tr>\n",
       "    <tr>\n",
       "      <th>43</th>\n",
       "      <td>2570</td>\n",
       "      <td>CIVILIAN</td>\n",
       "      <td>GENDER_FEMALE</td>\n",
       "      <td>CIVILIAN</td>\n",
       "    </tr>\n",
       "    <tr>\n",
       "      <th>35</th>\n",
       "      <td>3678</td>\n",
       "      <td>CIVILIAN</td>\n",
       "      <td>GENDER_FEMALE</td>\n",
       "      <td>CIVILIAN</td>\n",
       "    </tr>\n",
       "    <tr>\n",
       "      <th>60</th>\n",
       "      <td>124</td>\n",
       "      <td>CIVILIAN</td>\n",
       "      <td>GENDER_FEMALE</td>\n",
       "      <td>CIVILIAN</td>\n",
       "    </tr>\n",
       "  </tbody>\n",
       "</table>\n",
       "<p>414 rows × 4 columns</p>\n",
       "</div>"
      ],
      "text/plain": [
       "    text_id    e1_cat          r_cat    e2_cat\n",
       "3       181  CIVILIAN  GENDER_FEMALE  CIVILIAN\n",
       "13     1131  CIVILIAN  GENDER_FEMALE  CIVILIAN\n",
       "17     3622  CIVILIAN  GENDER_FEMALE  CIVILIAN\n",
       "22     3766  CIVILIAN  GENDER_FEMALE  CIVILIAN\n",
       "0      1116  CIVILIAN  GENDER_FEMALE  CIVILIAN\n",
       "..      ...       ...            ...       ...\n",
       "11     1252  CIVILIAN  GENDER_FEMALE  CIVILIAN\n",
       "32    51398  CIVILIAN  GENDER_FEMALE  CIVILIAN\n",
       "43     2570  CIVILIAN  GENDER_FEMALE  CIVILIAN\n",
       "35     3678  CIVILIAN  GENDER_FEMALE  CIVILIAN\n",
       "60      124  CIVILIAN  GENDER_FEMALE  CIVILIAN\n",
       "\n",
       "[414 rows x 4 columns]"
      ]
     },
     "execution_count": 59,
     "metadata": {},
     "output_type": "execute_result"
    }
   ],
   "source": [
    "entity_relation_cat_df.query(\"r_cat=='GENDER_FEMALE'\")#.shape[0]"
   ]
  },
  {
   "cell_type": "code",
   "execution_count": 60,
   "metadata": {},
   "outputs": [
    {
     "name": "stdout",
     "output_type": "stream",
     "text": [
      "27\n"
     ]
    },
    {
     "data": {
      "text/html": [
       "<div>\n",
       "<style scoped>\n",
       "    .dataframe tbody tr th:only-of-type {\n",
       "        vertical-align: middle;\n",
       "    }\n",
       "\n",
       "    .dataframe tbody tr th {\n",
       "        vertical-align: top;\n",
       "    }\n",
       "\n",
       "    .dataframe thead th {\n",
       "        text-align: right;\n",
       "    }\n",
       "</style>\n",
       "<table border=\"1\" class=\"dataframe\">\n",
       "  <thead>\n",
       "    <tr style=\"text-align: right;\">\n",
       "      <th></th>\n",
       "      <th>n_examples</th>\n",
       "    </tr>\n",
       "  </thead>\n",
       "  <tbody>\n",
       "    <tr>\n",
       "      <th>HAS_LATITUDE</th>\n",
       "      <td>10</td>\n",
       "    </tr>\n",
       "    <tr>\n",
       "      <th>HAS_FOR_HEIGHT</th>\n",
       "      <td>12</td>\n",
       "    </tr>\n",
       "    <tr>\n",
       "      <th>HAS_LONGITUDE</th>\n",
       "      <td>12</td>\n",
       "    </tr>\n",
       "    <tr>\n",
       "      <th>WAS_DISSOLVED_IN</th>\n",
       "      <td>14</td>\n",
       "    </tr>\n",
       "    <tr>\n",
       "      <th>HAS_FOR_WIDTH</th>\n",
       "      <td>14</td>\n",
       "    </tr>\n",
       "    <tr>\n",
       "      <th>WAS_CREATED_IN</th>\n",
       "      <td>15</td>\n",
       "    </tr>\n",
       "    <tr>\n",
       "      <th>HAS_FOR_LENGTH</th>\n",
       "      <td>16</td>\n",
       "    </tr>\n",
       "    <tr>\n",
       "      <th>IS_BORN_ON</th>\n",
       "      <td>20</td>\n",
       "    </tr>\n",
       "    <tr>\n",
       "      <th>DIED_IN</th>\n",
       "      <td>26</td>\n",
       "    </tr>\n",
       "    <tr>\n",
       "      <th>IS_REGISTERED_AS</th>\n",
       "      <td>27</td>\n",
       "    </tr>\n",
       "    <tr>\n",
       "      <th>WEIGHS</th>\n",
       "      <td>37</td>\n",
       "    </tr>\n",
       "    <tr>\n",
       "      <th>IS_BORN_IN</th>\n",
       "      <td>44</td>\n",
       "    </tr>\n",
       "    <tr>\n",
       "      <th>IS_DEAD_ON</th>\n",
       "      <td>66</td>\n",
       "    </tr>\n",
       "    <tr>\n",
       "      <th>INJURED_NUMBER</th>\n",
       "      <td>67</td>\n",
       "    </tr>\n",
       "    <tr>\n",
       "      <th>DEATHS_NUMBER</th>\n",
       "      <td>70</td>\n",
       "    </tr>\n",
       "    <tr>\n",
       "      <th>HAS_COLOR</th>\n",
       "      <td>72</td>\n",
       "    </tr>\n",
       "    <tr>\n",
       "      <th>HAS_FAMILY_RELATIONSHIP</th>\n",
       "      <td>95</td>\n",
       "    </tr>\n",
       "    <tr>\n",
       "      <th>CREATED</th>\n",
       "      <td>96</td>\n",
       "    </tr>\n",
       "    <tr>\n",
       "      <th>IS_COOPERATING_WITH</th>\n",
       "      <td>126</td>\n",
       "    </tr>\n",
       "    <tr>\n",
       "      <th>RESIDES_IN</th>\n",
       "      <td>139</td>\n",
       "    </tr>\n",
       "    <tr>\n",
       "      <th>IS_OF_NATIONALITY</th>\n",
       "      <td>145</td>\n",
       "    </tr>\n",
       "    <tr>\n",
       "      <th>HAS_QUANTITY</th>\n",
       "      <td>145</td>\n",
       "    </tr>\n",
       "    <tr>\n",
       "      <th>IS_AT_ODDS_WITH</th>\n",
       "      <td>241</td>\n",
       "    </tr>\n",
       "    <tr>\n",
       "      <th>INITIATED</th>\n",
       "      <td>298</td>\n",
       "    </tr>\n",
       "    <tr>\n",
       "      <th>IS_OF_SIZE</th>\n",
       "      <td>304</td>\n",
       "    </tr>\n",
       "    <tr>\n",
       "      <th>HAS_CONSEQUENCE</th>\n",
       "      <td>361</td>\n",
       "    </tr>\n",
       "    <tr>\n",
       "      <th>GENDER_FEMALE</th>\n",
       "      <td>363</td>\n",
       "    </tr>\n",
       "  </tbody>\n",
       "</table>\n",
       "</div>"
      ],
      "text/plain": [
       "                         n_examples\n",
       "HAS_LATITUDE                     10\n",
       "HAS_FOR_HEIGHT                   12\n",
       "HAS_LONGITUDE                    12\n",
       "WAS_DISSOLVED_IN                 14\n",
       "HAS_FOR_WIDTH                    14\n",
       "WAS_CREATED_IN                   15\n",
       "HAS_FOR_LENGTH                   16\n",
       "IS_BORN_ON                       20\n",
       "DIED_IN                          26\n",
       "IS_REGISTERED_AS                 27\n",
       "WEIGHS                           37\n",
       "IS_BORN_IN                       44\n",
       "IS_DEAD_ON                       66\n",
       "INJURED_NUMBER                   67\n",
       "DEATHS_NUMBER                    70\n",
       "HAS_COLOR                        72\n",
       "HAS_FAMILY_RELATIONSHIP          95\n",
       "CREATED                          96\n",
       "IS_COOPERATING_WITH             126\n",
       "RESIDES_IN                      139\n",
       "IS_OF_NATIONALITY               145\n",
       "HAS_QUANTITY                    145\n",
       "IS_AT_ODDS_WITH                 241\n",
       "INITIATED                       298\n",
       "IS_OF_SIZE                      304\n",
       "HAS_CONSEQUENCE                 361\n",
       "GENDER_FEMALE                   363"
      ]
     },
     "execution_count": 60,
     "metadata": {},
     "output_type": "execute_result"
    }
   ],
   "source": [
    "print(n_texts_per_relation_type.rename(\"n_examples\").to_frame().query(\"n_examples < 500\").index.shape[0])\n",
    "n_texts_per_relation_type.rename(\"n_examples\").to_frame().query(\"n_examples < 500\")"
   ]
  },
  {
   "cell_type": "code",
   "execution_count": 61,
   "metadata": {},
   "outputs": [
    {
     "data": {
      "text/plain": [
       "Index(['HAS_LATITUDE', 'HAS_FOR_HEIGHT', 'HAS_LONGITUDE', 'WAS_DISSOLVED_IN',\n",
       "       'HAS_FOR_WIDTH', 'WAS_CREATED_IN', 'HAS_FOR_LENGTH', 'IS_BORN_ON',\n",
       "       'DIED_IN', 'IS_REGISTERED_AS', 'WEIGHS', 'IS_BORN_IN', 'IS_DEAD_ON',\n",
       "       'INJURED_NUMBER', 'DEATHS_NUMBER', 'HAS_COLOR',\n",
       "       'HAS_FAMILY_RELATIONSHIP', 'CREATED', 'IS_COOPERATING_WITH',\n",
       "       'RESIDES_IN', 'IS_OF_NATIONALITY', 'HAS_QUANTITY', 'IS_AT_ODDS_WITH',\n",
       "       'INITIATED', 'IS_OF_SIZE', 'HAS_CONSEQUENCE', 'GENDER_FEMALE',\n",
       "       'END_DATE', 'IS_IN_CONTACT_WITH', 'START_DATE', 'GENDER_MALE',\n",
       "       'HAS_CATEGORY', 'IS_PART_OF', 'OPERATES_IN', 'STARTED_IN',\n",
       "       'HAS_CONTROL_OVER', 'IS_LOCATED_IN'],\n",
       "      dtype='object')"
      ]
     },
     "execution_count": 61,
     "metadata": {},
     "output_type": "execute_result"
    }
   ],
   "source": [
    "n_texts_per_relation_type.index"
   ]
  },
  {
   "cell_type": "code",
   "execution_count": 62,
   "metadata": {},
   "outputs": [
    {
     "data": {
      "text/html": [
       "<div>\n",
       "<style scoped>\n",
       "    .dataframe tbody tr th:only-of-type {\n",
       "        vertical-align: middle;\n",
       "    }\n",
       "\n",
       "    .dataframe tbody tr th {\n",
       "        vertical-align: top;\n",
       "    }\n",
       "\n",
       "    .dataframe thead th {\n",
       "        text-align: right;\n",
       "    }\n",
       "</style>\n",
       "<table border=\"1\" class=\"dataframe\">\n",
       "  <thead>\n",
       "    <tr style=\"text-align: right;\">\n",
       "      <th></th>\n",
       "      <th>text_id</th>\n",
       "      <th>e1_cat</th>\n",
       "      <th>r_cat</th>\n",
       "      <th>e2_cat</th>\n",
       "    </tr>\n",
       "  </thead>\n",
       "  <tbody>\n",
       "    <tr>\n",
       "      <th>6</th>\n",
       "      <td>51470</td>\n",
       "      <td>NON_MILITARY_GOVERNMENT_ORGANISATION</td>\n",
       "      <td>IS_IN_CONTACT_WITH</td>\n",
       "      <td>NON_MILITARY_GOVERNMENT_ORGANISATION</td>\n",
       "    </tr>\n",
       "    <tr>\n",
       "      <th>21</th>\n",
       "      <td>51470</td>\n",
       "      <td>NON_MILITARY_GOVERNMENT_ORGANISATION</td>\n",
       "      <td>IS_IN_CONTACT_WITH</td>\n",
       "      <td>NON_MILITARY_GOVERNMENT_ORGANISATION</td>\n",
       "    </tr>\n",
       "    <tr>\n",
       "      <th>0</th>\n",
       "      <td>51332</td>\n",
       "      <td>GROUP_OF_INDIVIDUALS</td>\n",
       "      <td>IS_IN_CONTACT_WITH</td>\n",
       "      <td>MILITARY</td>\n",
       "    </tr>\n",
       "    <tr>\n",
       "      <th>9</th>\n",
       "      <td>51332</td>\n",
       "      <td>MILITARY</td>\n",
       "      <td>IS_IN_CONTACT_WITH</td>\n",
       "      <td>GROUP_OF_INDIVIDUALS</td>\n",
       "    </tr>\n",
       "    <tr>\n",
       "      <th>10</th>\n",
       "      <td>1131</td>\n",
       "      <td>CIVILIAN</td>\n",
       "      <td>IS_IN_CONTACT_WITH</td>\n",
       "      <td>CIVILIAN</td>\n",
       "    </tr>\n",
       "    <tr>\n",
       "      <th>...</th>\n",
       "      <td>...</td>\n",
       "      <td>...</td>\n",
       "      <td>...</td>\n",
       "      <td>...</td>\n",
       "    </tr>\n",
       "    <tr>\n",
       "      <th>22</th>\n",
       "      <td>3822</td>\n",
       "      <td>GROUP_OF_INDIVIDUALS</td>\n",
       "      <td>IS_IN_CONTACT_WITH</td>\n",
       "      <td>GROUP_OF_INDIVIDUALS</td>\n",
       "    </tr>\n",
       "    <tr>\n",
       "      <th>25</th>\n",
       "      <td>3822</td>\n",
       "      <td>GROUP_OF_INDIVIDUALS</td>\n",
       "      <td>IS_IN_CONTACT_WITH</td>\n",
       "      <td>GROUP_OF_INDIVIDUALS</td>\n",
       "    </tr>\n",
       "    <tr>\n",
       "      <th>33</th>\n",
       "      <td>3822</td>\n",
       "      <td>MILITARY</td>\n",
       "      <td>IS_IN_CONTACT_WITH</td>\n",
       "      <td>NON_MILITARY_GOVERNMENT_ORGANISATION</td>\n",
       "    </tr>\n",
       "    <tr>\n",
       "      <th>16</th>\n",
       "      <td>124</td>\n",
       "      <td>NON_GOVERNMENTAL_ORGANISATION</td>\n",
       "      <td>IS_IN_CONTACT_WITH</td>\n",
       "      <td>NON_MILITARY_GOVERNMENT_ORGANISATION</td>\n",
       "    </tr>\n",
       "    <tr>\n",
       "      <th>57</th>\n",
       "      <td>124</td>\n",
       "      <td>NON_MILITARY_GOVERNMENT_ORGANISATION</td>\n",
       "      <td>IS_IN_CONTACT_WITH</td>\n",
       "      <td>NON_GOVERNMENTAL_ORGANISATION</td>\n",
       "    </tr>\n",
       "  </tbody>\n",
       "</table>\n",
       "<p>2919 rows × 4 columns</p>\n",
       "</div>"
      ],
      "text/plain": [
       "    text_id                                e1_cat               r_cat  \\\n",
       "6     51470  NON_MILITARY_GOVERNMENT_ORGANISATION  IS_IN_CONTACT_WITH   \n",
       "21    51470  NON_MILITARY_GOVERNMENT_ORGANISATION  IS_IN_CONTACT_WITH   \n",
       "0     51332                  GROUP_OF_INDIVIDUALS  IS_IN_CONTACT_WITH   \n",
       "9     51332                              MILITARY  IS_IN_CONTACT_WITH   \n",
       "10     1131                              CIVILIAN  IS_IN_CONTACT_WITH   \n",
       "..      ...                                   ...                 ...   \n",
       "22     3822                  GROUP_OF_INDIVIDUALS  IS_IN_CONTACT_WITH   \n",
       "25     3822                  GROUP_OF_INDIVIDUALS  IS_IN_CONTACT_WITH   \n",
       "33     3822                              MILITARY  IS_IN_CONTACT_WITH   \n",
       "16      124         NON_GOVERNMENTAL_ORGANISATION  IS_IN_CONTACT_WITH   \n",
       "57      124  NON_MILITARY_GOVERNMENT_ORGANISATION  IS_IN_CONTACT_WITH   \n",
       "\n",
       "                                  e2_cat  \n",
       "6   NON_MILITARY_GOVERNMENT_ORGANISATION  \n",
       "21  NON_MILITARY_GOVERNMENT_ORGANISATION  \n",
       "0                               MILITARY  \n",
       "9                   GROUP_OF_INDIVIDUALS  \n",
       "10                              CIVILIAN  \n",
       "..                                   ...  \n",
       "22                  GROUP_OF_INDIVIDUALS  \n",
       "25                  GROUP_OF_INDIVIDUALS  \n",
       "33  NON_MILITARY_GOVERNMENT_ORGANISATION  \n",
       "16  NON_MILITARY_GOVERNMENT_ORGANISATION  \n",
       "57         NON_GOVERNMENTAL_ORGANISATION  \n",
       "\n",
       "[2919 rows x 4 columns]"
      ]
     },
     "execution_count": 62,
     "metadata": {},
     "output_type": "execute_result"
    }
   ],
   "source": [
    "entity_relation_cat_df.query(f\"r_cat=='IS_IN_CONTACT_WITH'\")#.text_id.duplicated()"
   ]
  },
  {
   "cell_type": "code",
   "execution_count": 63,
   "metadata": {},
   "outputs": [
    {
     "data": {
      "text/plain": [
       "\"Un accident de la route a eu lieu le 14 septembre 2003 à Campsas. Monsieur Guy Michel Parker, alors ivre, a demandé à un taxi de le ramener chez lui. Monsieur Parker avait froid et voulait boire de l'alcool pour se réchauffer, mais le conducteur l'en avait dissuadé en montant le chauffage du véhicule. Quelques minutes plus tard, le passager s'est assoupi et a renversé de l'alcool sur les commandes de la climatisation. Le court-circuit produit s'est rapidement transformé en feu. Le chauffeur, affolé, a foncé droit dans un lampadaire de 3 mètres de haut. Les pompiers, alertés, sont venus au secours des deux hommes.\""
      ]
     },
     "execution_count": 63,
     "metadata": {},
     "output_type": "execute_result"
    }
   ],
   "source": [
    "labeled_clean_df.loc[2455].text"
   ]
  },
  {
   "cell_type": "code",
   "execution_count": 64,
   "metadata": {},
   "outputs": [
    {
     "data": {
      "text/html": [
       "<div>\n",
       "<style scoped>\n",
       "    .dataframe tbody tr th:only-of-type {\n",
       "        vertical-align: middle;\n",
       "    }\n",
       "\n",
       "    .dataframe tbody tr th {\n",
       "        vertical-align: top;\n",
       "    }\n",
       "\n",
       "    .dataframe thead th {\n",
       "        text-align: right;\n",
       "    }\n",
       "</style>\n",
       "<table border=\"1\" class=\"dataframe\">\n",
       "  <thead>\n",
       "    <tr style=\"text-align: right;\">\n",
       "      <th></th>\n",
       "      <th>text</th>\n",
       "      <th>entities</th>\n",
       "      <th>relations</th>\n",
       "    </tr>\n",
       "    <tr>\n",
       "      <th>id</th>\n",
       "      <th></th>\n",
       "      <th></th>\n",
       "      <th></th>\n",
       "    </tr>\n",
       "  </thead>\n",
       "  <tbody>\n",
       "    <tr>\n",
       "      <th>4964</th>\n",
       "      <td>L’arrestation de M. Noeh Chen réjouit tous les...</td>\n",
       "      <td>[{'id': 0, 'mentions': [{'value': 'Affaire', '...</td>\n",
       "      <td>[[9, IS_LOCATED_IN, 5], [8, OPERATES_IN, 5], [...</td>\n",
       "    </tr>\n",
       "    <tr>\n",
       "      <th>3884</th>\n",
       "      <td>La municipalité de Zapopan au Mexique (localis...</td>\n",
       "      <td>[{'id': 0, 'mentions': [{'value': 'suicide', '...</td>\n",
       "      <td>[[0, START_DATE, 14], [8, IS_IN_CONTACT_WITH, ...</td>\n",
       "    </tr>\n",
       "    <tr>\n",
       "      <th>41071</th>\n",
       "      <td>La nouvelle première ministre de l'île de la B...</td>\n",
       "      <td>[{'id': 0, 'mentions': [{'value': 'violences',...</td>\n",
       "      <td>[[9, IS_LOCATED_IN, 5], [9, IS_LOCATED_IN, 2],...</td>\n",
       "    </tr>\n",
       "    <tr>\n",
       "      <th>2484</th>\n",
       "      <td>Un drame s'est produit cette nuit à Pretoria, ...</td>\n",
       "      <td>[{'id': 0, 'mentions': [{'value': 'explosion',...</td>\n",
       "      <td>[[0, STARTED_IN, 9], [3, HAS_CONTROL_OVER, 5],...</td>\n",
       "    </tr>\n",
       "    <tr>\n",
       "      <th>51364</th>\n",
       "      <td>Une tragédie incendiaire a eu lieu à Londres, ...</td>\n",
       "      <td>[{'id': 0, 'mentions': [{'value': 'incendie', ...</td>\n",
       "      <td>[[0, START_DATE, 14], [5, IS_LOCATED_IN, 1], [...</td>\n",
       "    </tr>\n",
       "    <tr>\n",
       "      <th>4924</th>\n",
       "      <td>Il y a quelques jours, la ville de Paris a été...</td>\n",
       "      <td>[{'id': 0, 'mentions': [{'value': 'braquées', ...</td>\n",
       "      <td>[[8, HAS_CONTROL_OVER, 7], [8, IS_IN_CONTACT_W...</td>\n",
       "    </tr>\n",
       "    <tr>\n",
       "      <th>41031</th>\n",
       "      <td>Un fait divers s'est produit au Québec, dans l...</td>\n",
       "      <td>[{'id': 0, 'mentions': [{'value': 'réuni', 'st...</td>\n",
       "      <td>[[5, IS_LOCATED_IN, 1], [4, HAS_CATEGORY, 18],...</td>\n",
       "    </tr>\n",
       "    <tr>\n",
       "      <th>51271</th>\n",
       "      <td>Il y a deux semaines, le Centre Hospitalier Un...</td>\n",
       "      <td>[{'id': 0, 'mentions': [{'value': 'épidémie', ...</td>\n",
       "      <td>[[20, OPERATES_IN, 5], [1, STARTED_IN, 3], [15...</td>\n",
       "    </tr>\n",
       "    <tr>\n",
       "      <th>41204</th>\n",
       "      <td>Un drame est survenu ce matin à Lagos, une vil...</td>\n",
       "      <td>[{'id': 0, 'mentions': [{'value': 'drame', 'st...</td>\n",
       "      <td>[[15, IS_LOCATED_IN, 4], [9, IS_LOCATED_IN, 2]...</td>\n",
       "    </tr>\n",
       "    <tr>\n",
       "      <th>51284</th>\n",
       "      <td>Une pandémie particulièrement virulente et con...</td>\n",
       "      <td>[{'id': 0, 'mentions': [{'value': 'pandémie', ...</td>\n",
       "      <td>[[5, HAS_CONTROL_OVER, 4], [2, HAS_LATITUDE, 7...</td>\n",
       "    </tr>\n",
       "  </tbody>\n",
       "</table>\n",
       "</div>"
      ],
      "text/plain": [
       "                                                    text  \\\n",
       "id                                                         \n",
       "4964   L’arrestation de M. Noeh Chen réjouit tous les...   \n",
       "3884   La municipalité de Zapopan au Mexique (localis...   \n",
       "41071  La nouvelle première ministre de l'île de la B...   \n",
       "2484   Un drame s'est produit cette nuit à Pretoria, ...   \n",
       "51364  Une tragédie incendiaire a eu lieu à Londres, ...   \n",
       "4924   Il y a quelques jours, la ville de Paris a été...   \n",
       "41031  Un fait divers s'est produit au Québec, dans l...   \n",
       "51271  Il y a deux semaines, le Centre Hospitalier Un...   \n",
       "41204  Un drame est survenu ce matin à Lagos, une vil...   \n",
       "51284  Une pandémie particulièrement virulente et con...   \n",
       "\n",
       "                                                entities  \\\n",
       "id                                                         \n",
       "4964   [{'id': 0, 'mentions': [{'value': 'Affaire', '...   \n",
       "3884   [{'id': 0, 'mentions': [{'value': 'suicide', '...   \n",
       "41071  [{'id': 0, 'mentions': [{'value': 'violences',...   \n",
       "2484   [{'id': 0, 'mentions': [{'value': 'explosion',...   \n",
       "51364  [{'id': 0, 'mentions': [{'value': 'incendie', ...   \n",
       "4924   [{'id': 0, 'mentions': [{'value': 'braquées', ...   \n",
       "41031  [{'id': 0, 'mentions': [{'value': 'réuni', 'st...   \n",
       "51271  [{'id': 0, 'mentions': [{'value': 'épidémie', ...   \n",
       "41204  [{'id': 0, 'mentions': [{'value': 'drame', 'st...   \n",
       "51284  [{'id': 0, 'mentions': [{'value': 'pandémie', ...   \n",
       "\n",
       "                                               relations  \n",
       "id                                                        \n",
       "4964   [[9, IS_LOCATED_IN, 5], [8, OPERATES_IN, 5], [...  \n",
       "3884   [[0, START_DATE, 14], [8, IS_IN_CONTACT_WITH, ...  \n",
       "41071  [[9, IS_LOCATED_IN, 5], [9, IS_LOCATED_IN, 2],...  \n",
       "2484   [[0, STARTED_IN, 9], [3, HAS_CONTROL_OVER, 5],...  \n",
       "51364  [[0, START_DATE, 14], [5, IS_LOCATED_IN, 1], [...  \n",
       "4924   [[8, HAS_CONTROL_OVER, 7], [8, IS_IN_CONTACT_W...  \n",
       "41031  [[5, IS_LOCATED_IN, 1], [4, HAS_CATEGORY, 18],...  \n",
       "51271  [[20, OPERATES_IN, 5], [1, STARTED_IN, 3], [15...  \n",
       "41204  [[15, IS_LOCATED_IN, 4], [9, IS_LOCATED_IN, 2]...  \n",
       "51284  [[5, HAS_CONTROL_OVER, 4], [2, HAS_LATITUDE, 7...  "
      ]
     },
     "execution_count": 64,
     "metadata": {},
     "output_type": "execute_result"
    }
   ],
   "source": [
    "labeled_clean_df[labeled_raw_df.relations.str.contains(\"HAS_LATITUDE\")]"
   ]
  },
  {
   "cell_type": "markdown",
   "metadata": {},
   "source": [
    "### Text length"
   ]
  },
  {
   "cell_type": "markdown",
   "metadata": {},
   "source": [
    "#### Number of chars"
   ]
  },
  {
   "cell_type": "code",
   "execution_count": 65,
   "metadata": {},
   "outputs": [
    {
     "data": {
      "text/plain": [
       "<Axes: >"
      ]
     },
     "execution_count": 65,
     "metadata": {},
     "output_type": "execute_result"
    },
    {
     "data": {
      "image/png": "[encoded data removed]",
      "text/plain": [
       "<Figure size 640x480 with 1 Axes>"
      ]
     },
     "metadata": {},
     "output_type": "display_data"
    }
   ],
   "source": [
    "pd.DataFrame(\n",
    "    {\n",
    "        set_name: df.text.apply(len).describe()\n",
    "        for set_name, df in zip(\n",
    "            [\"labeled\", \"test\"],\n",
    "            [labeled_clean_df, test_clean_df],\n",
    "        )\n",
    "    }\n",
    ").plot.bar()"
   ]
  },
  {
   "cell_type": "markdown",
   "metadata": {},
   "source": [
    "#### Number of tokens (subwords from CamemBERT tokenizer)"
   ]
  },
  {
   "cell_type": "code",
   "execution_count": 66,
   "metadata": {},
   "outputs": [
    {
     "data": {
      "text/plain": [
       "<Axes: >"
      ]
     },
     "execution_count": 66,
     "metadata": {},
     "output_type": "execute_result"
    },
    {
     "data": {
      "image/png": "[encoded data removed]",
      "text/plain": [
       "<Figure size 640x480 with 1 Axes>"
      ]
     },
     "metadata": {},
     "output_type": "display_data"
    }
   ],
   "source": [
    "pd.DataFrame(\n",
    "    {\n",
    "        set_name: df.text.apply(count_tokens).describe()\n",
    "        for set_name, df in zip(\n",
    "            [\"labeled\", \"test\"],\n",
    "            [labeled_clean_df, test_clean_df],\n",
    "        )\n",
    "    }\n",
    ").plot.bar()"
   ]
  },
  {
   "cell_type": "markdown",
   "metadata": {},
   "source": [
    "## Generate interim datasets\n",
    "\n",
    "for each text, generate a csv file containing all the generated texts annotated as a multilabeled Text classification task\n",
    "\n",
    "The csv file is named after the index of the text in the raw data\n"
   ]
  },
  {
   "cell_type": "code",
   "execution_count": 67,
   "metadata": {},
   "outputs": [
    {
     "data": {
      "text/plain": [
       "[('ACCIDENT', 'AGITATING_TROUBLE_MAKING'),\n",
       " ('ACCIDENT', 'BOMBING'),\n",
       " ('ACCIDENT', 'CATEGORY')]"
      ]
     },
     "execution_count": 67,
     "metadata": {},
     "output_type": "execute_result"
    }
   ],
   "source": [
    "excluded_entity_pairs = entity_pairs_never_in_relation_df.set_index(['e1_cat', 'e2_cat']).index.to_list()\n",
    "excluded_entity_pairs[:3]"
   ]
  },
  {
   "cell_type": "code",
   "execution_count": 68,
   "metadata": {},
   "outputs": [
    {
     "name": "stderr",
     "output_type": "stream",
     "text": [
      "[07:45:06|INFO|problem_formulation.py:23] self.excluded_entity_pairs=[('ACCIDENT', 'AGITATING_TROUBLE_MAKING'), ('ACCIDENT', 'BOMBING'), ('ACCIDENT', 'CATEGORY'), ('ACCIDENT', 'CIVILIAN'), ('ACCIDENT', 'CIVIL_WAR_OUTBREAK'), ('ACCIDENT', 'COLOR'), ('ACCIDENT', 'COUP_D_ETAT'), ('ACCIDENT', 'DEMONSTRATION'), ('ACCIDENT', 'DRUG_OPERATION'), ('ACCIDENT', 'ECONOMICAL_CRISIS'), ('ACCIDENT', 'ELECTION'), ('ACCIDENT', 'EPIDEMIC'), ('ACCIDENT', 'FIRSTNAME'), ('ACCIDENT', 'GATHERING'), ('ACCIDENT', 'GROUP_OF_INDIVIDUALS'), ('ACCIDENT', 'HEIGHT'), ('ACCIDENT', 'HOOLIGANISM_TROUBLEMAKING'), ('ACCIDENT', 'ILLEGAL_CIVIL_DEMONSTRATION'), ('ACCIDENT', 'INTERGOVERNMENTAL_ORGANISATION'), ('ACCIDENT', 'LASTNAME'), ('ACCIDENT', 'LATITUDE'), ('ACCIDENT', 'LENGTH'), ('ACCIDENT', 'LONGITUDE'), ('ACCIDENT', 'MATERIAL_REFERENCE'), ('ACCIDENT', 'MATERIEL'), ('ACCIDENT', 'MILITARY'), ('ACCIDENT', 'MILITARY_ORGANISATION'), ('ACCIDENT', 'NATIONALITY'), ('ACCIDENT', 'NATURAL_CAUSES_DEATH'), ('ACCIDENT', 'NATURAL_EVENT'), ('ACCIDENT', 'NON_GOVERNMENTAL_ORGANISATION'), ('ACCIDENT', 'NON_MILITARY_GOVERNMENT_ORGANISATION'), ('ACCIDENT', 'POLITICAL_VIOLENCE'), ('ACCIDENT', 'POLLUTION'), ('ACCIDENT', 'QUANTITY_MAX'), ('ACCIDENT', 'RIOT'), ('ACCIDENT', 'TERRORIST_OR_CRIMINAL'), ('ACCIDENT', 'TIME_MAX'), ('ACCIDENT', 'TRAFFICKING'), ('ACCIDENT', 'WEIGHT'), ('ACCIDENT', 'WIDTH'), ('AGITATING_TROUBLE_MAKING', 'ACCIDENT'), ('AGITATING_TROUBLE_MAKING', 'BOMBING'), ('AGITATING_TROUBLE_MAKING', 'CATEGORY'), ('AGITATING_TROUBLE_MAKING', 'CIVILIAN'), ('AGITATING_TROUBLE_MAKING', 'COLOR'), ('AGITATING_TROUBLE_MAKING', 'COUP_D_ETAT'), ('AGITATING_TROUBLE_MAKING', 'DEMONSTRATION'), ('AGITATING_TROUBLE_MAKING', 'DRUG_OPERATION'), ('AGITATING_TROUBLE_MAKING', 'ECONOMICAL_CRISIS'), ('AGITATING_TROUBLE_MAKING', 'ELECTION'), ('AGITATING_TROUBLE_MAKING', 'EPIDEMIC'), ('AGITATING_TROUBLE_MAKING', 'FIRE'), ('AGITATING_TROUBLE_MAKING', 'FIRSTNAME'), ('AGITATING_TROUBLE_MAKING', 'GATHERING'), ('AGITATING_TROUBLE_MAKING', 'GROUP_OF_INDIVIDUALS'), ('AGITATING_TROUBLE_MAKING', 'HEIGHT'), ('AGITATING_TROUBLE_MAKING', 'HOOLIGANISM_TROUBLEMAKING'), ('AGITATING_TROUBLE_MAKING', 'ILLEGAL_CIVIL_DEMONSTRATION'), ('AGITATING_TROUBLE_MAKING', 'INTERGOVERNMENTAL_ORGANISATION'), ('AGITATING_TROUBLE_MAKING', 'LASTNAME'), ('AGITATING_TROUBLE_MAKING', 'LATITUDE'), ('AGITATING_TROUBLE_MAKING', 'LENGTH'), ('AGITATING_TROUBLE_MAKING', 'LONGITUDE'), ('AGITATING_TROUBLE_MAKING', 'MATERIAL_REFERENCE'), ('AGITATING_TROUBLE_MAKING', 'MATERIEL'), ('AGITATING_TROUBLE_MAKING', 'MILITARY'), ('AGITATING_TROUBLE_MAKING', 'MILITARY_ORGANISATION'), ('AGITATING_TROUBLE_MAKING', 'NATIONALITY'), ('AGITATING_TROUBLE_MAKING', 'NATURAL_CAUSES_DEATH'), ('AGITATING_TROUBLE_MAKING', 'NATURAL_EVENT'), ('AGITATING_TROUBLE_MAKING', 'NON_GOVERNMENTAL_ORGANISATION'), ('AGITATING_TROUBLE_MAKING', 'NON_MILITARY_GOVERNMENT_ORGANISATION'), ('AGITATING_TROUBLE_MAKING', 'POLITICAL_VIOLENCE'), ('AGITATING_TROUBLE_MAKING', 'POLLUTION'), ('AGITATING_TROUBLE_MAKING', 'QUANTITY_MAX'), ('AGITATING_TROUBLE_MAKING', 'QUANTITY_MIN'), ('AGITATING_TROUBLE_MAKING', 'STRIKE'), ('AGITATING_TROUBLE_MAKING', 'SUICIDE'), ('AGITATING_TROUBLE_MAKING', 'TERRORIST_OR_CRIMINAL'), ('AGITATING_TROUBLE_MAKING', 'THEFT'), ('AGITATING_TROUBLE_MAKING', 'TIME_MAX'), ('AGITATING_TROUBLE_MAKING', 'TIME_MIN'), ('AGITATING_TROUBLE_MAKING', 'TRAFFICKING'), ('AGITATING_TROUBLE_MAKING', 'WEIGHT'), ('AGITATING_TROUBLE_MAKING', 'WIDTH'), ('BOMBING', 'ACCIDENT'), ('BOMBING', 'AGITATING_TROUBLE_MAKING'), ('BOMBING', 'CATEGORY'), ('BOMBING', 'CIVILIAN'), ('BOMBING', 'CIVIL_WAR_OUTBREAK'), ('BOMBING', 'COLOR'), ('BOMBING', 'COUP_D_ETAT'), ('BOMBING', 'CRIMINAL_ARREST'), ('BOMBING', 'DRUG_OPERATION'), ('BOMBING', 'ELECTION'), ('BOMBING', 'EPIDEMIC'), ('BOMBING', 'FIRSTNAME'), ('BOMBING', 'GROUP_OF_INDIVIDUALS'), ('BOMBING', 'HEIGHT'), ('BOMBING', 'HOOLIGANISM_TROUBLEMAKING'), ('BOMBING', 'ILLEGAL_CIVIL_DEMONSTRATION'), ('BOMBING', 'INTERGOVERNMENTAL_ORGANISATION'), ('BOMBING', 'LASTNAME'), ('BOMBING', 'LATITUDE'), ('BOMBING', 'LENGTH'), ('BOMBING', 'LONGITUDE'), ('BOMBING', 'MATERIAL_REFERENCE'), ('BOMBING', 'MATERIEL'), ('BOMBING', 'MILITARY'), ('BOMBING', 'MILITARY_ORGANISATION'), ('BOMBING', 'NATIONALITY'), ('BOMBING', 'NATURAL_CAUSES_DEATH'), ('BOMBING', 'NATURAL_EVENT'), ('BOMBING', 'NON_GOVERNMENTAL_ORGANISATION'), ('BOMBING', 'NON_MILITARY_GOVERNMENT_ORGANISATION'), ('BOMBING', 'POLITICAL_VIOLENCE'), ('BOMBING', 'POLLUTION'), ('BOMBING', 'QUANTITY_MAX'), ('BOMBING', 'QUANTITY_MIN'), ('BOMBING', 'RIOT'), ('BOMBING', 'STRIKE'), ('BOMBING', 'SUICIDE'), ('BOMBING', 'TERRORIST_OR_CRIMINAL'), ('BOMBING', 'TIME_MAX'), ('BOMBING', 'TIME_MIN'), ('BOMBING', 'TRAFFICKING'), ('BOMBING', 'WEIGHT'), ('BOMBING', 'WIDTH'), ('CATEGORY', 'ACCIDENT'), ('CATEGORY', 'AGITATING_TROUBLE_MAKING'), ('CATEGORY', 'BOMBING'), ('CATEGORY', 'CATEGORY'), ('CATEGORY', 'CBRN_EVENT'), ('CATEGORY', 'CIVILIAN'), ('CATEGORY', 'CIVIL_WAR_OUTBREAK'), ('CATEGORY', 'COLOR'), ('CATEGORY', 'COUP_D_ETAT'), ('CATEGORY', 'CRIMINAL_ARREST'), ('CATEGORY', 'DEMONSTRATION'), ('CATEGORY', 'DRUG_OPERATION'), ('CATEGORY', 'ECONOMICAL_CRISIS'), ('CATEGORY', 'ELECTION'), ('CATEGORY', 'EPIDEMIC'), ('CATEGORY', 'FIRE'), ('CATEGORY', 'FIRSTNAME'), ('CATEGORY', 'GATHERING'), ('CATEGORY', 'GROUP_OF_INDIVIDUALS'), ('CATEGORY', 'HEIGHT'), ('CATEGORY', 'HOOLIGANISM_TROUBLEMAKING'), ('CATEGORY', 'ILLEGAL_CIVIL_DEMONSTRATION'), ('CATEGORY', 'INTERGOVERNMENTAL_ORGANISATION'), ('CATEGORY', 'LASTNAME'), ('CATEGORY', 'LATITUDE'), ('CATEGORY', 'LENGTH'), ('CATEGORY', 'LONGITUDE'), ('CATEGORY', 'MATERIAL_REFERENCE'), ('CATEGORY', 'MATERIEL'), ('CATEGORY', 'MILITARY'), ('CATEGORY', 'MILITARY_ORGANISATION'), ('CATEGORY', 'NATIONALITY'), ('CATEGORY', 'NATURAL_CAUSES_DEATH'), ('CATEGORY', 'NATURAL_EVENT'), ('CATEGORY', 'NON_GOVERNMENTAL_ORGANISATION'), ('CATEGORY', 'NON_MILITARY_GOVERNMENT_ORGANISATION'), ('CATEGORY', 'PLACE'), ('CATEGORY', 'POLITICAL_VIOLENCE'), ('CATEGORY', 'POLLUTION'), ('CATEGORY', 'QUANTITY_EXACT'), ('CATEGORY', 'QUANTITY_FUZZY'), ('CATEGORY', 'QUANTITY_MAX'), ('CATEGORY', 'QUANTITY_MIN'), ('CATEGORY', 'RIOT'), ('CATEGORY', 'STRIKE'), ('CATEGORY', 'SUICIDE'), ('CATEGORY', 'TERRORIST_OR_CRIMINAL'), ('CATEGORY', 'THEFT'), ('CATEGORY', 'TIME_EXACT'), ('CATEGORY', 'TIME_FUZZY'), ('CATEGORY', 'TIME_MAX'), ('CATEGORY', 'TIME_MIN'), ('CATEGORY', 'TRAFFICKING'), ('CATEGORY', 'WEIGHT'), ('CATEGORY', 'WIDTH'), ('CBRN_EVENT', 'AGITATING_TROUBLE_MAKING'), ('CBRN_EVENT', 'BOMBING'), ('CBRN_EVENT', 'CATEGORY'), ('CBRN_EVENT', 'CIVILIAN'), ('CBRN_EVENT', 'CIVIL_WAR_OUTBREAK'), ('CBRN_EVENT', 'COLOR'), ('CBRN_EVENT', 'COUP_D_ETAT'), ('CBRN_EVENT', 'CRIMINAL_ARREST'), ('CBRN_EVENT', 'DRUG_OPERATION'), ('CBRN_EVENT', 'ECONOMICAL_CRISIS'), ('CBRN_EVENT', 'ELECTION'), ('CBRN_EVENT', 'FIRSTNAME'), ('CBRN_EVENT', 'GROUP_OF_INDIVIDUALS'), ('CBRN_EVENT', 'HEIGHT'), ('CBRN_EVENT', 'HOOLIGANISM_TROUBLEMAKING'), ('CBRN_EVENT', 'INTERGOVERNMENTAL_ORGANISATION'), ('CBRN_EVENT', 'LASTNAME'), ('CBRN_EVENT', 'LATITUDE'), ('CBRN_EVENT', 'LENGTH'), ('CBRN_EVENT', 'LONGITUDE'), ('CBRN_EVENT', 'MATERIAL_REFERENCE'), ('CBRN_EVENT', 'MATERIEL'), ('CBRN_EVENT', 'MILITARY'), ('CBRN_EVENT', 'MILITARY_ORGANISATION'), ('CBRN_EVENT', 'NATIONALITY'), ('CBRN_EVENT', 'NATURAL_CAUSES_DEATH'), ('CBRN_EVENT', 'NON_GOVERNMENTAL_ORGANISATION'), ('CBRN_EVENT', 'NON_MILITARY_GOVERNMENT_ORGANISATION'), ('CBRN_EVENT', 'POLITICAL_VIOLENCE'), ('CBRN_EVENT', 'QUANTITY_MIN'), ('CBRN_EVENT', 'RIOT'), ('CBRN_EVENT', 'STRIKE'), ('CBRN_EVENT', 'SUICIDE'), ('CBRN_EVENT', 'TERRORIST_OR_CRIMINAL'), ('CBRN_EVENT', 'THEFT'), ('CBRN_EVENT', 'TIME_MAX'), ('CBRN_EVENT', 'TRAFFICKING'), ('CBRN_EVENT', 'WEIGHT'), ('CBRN_EVENT', 'WIDTH'), ('CIVILIAN', 'COLOR'), ('CIVILIAN', 'CRIMINAL_ARREST'), ('CIVILIAN', 'DRUG_OPERATION'), ('CIVILIAN', 'ECONOMICAL_CRISIS'), ('CIVILIAN', 'ELECTION'), ('CIVILIAN', 'FIRSTNAME'), ('CIVILIAN', 'HEIGHT'), ('CIVILIAN', 'HOOLIGANISM_TROUBLEMAKING'), ('CIVILIAN', 'LASTNAME'), ('CIVILIAN', 'LATITUDE'), ('CIVILIAN', 'LENGTH'), ('CIVILIAN', 'LONGITUDE'), ('CIVILIAN', 'MATERIAL_REFERENCE'), ('CIVILIAN', 'POLITICAL_VIOLENCE'), ('CIVILIAN', 'QUANTITY_EXACT'), ('CIVILIAN', 'QUANTITY_FUZZY'), ('CIVILIAN', 'QUANTITY_MAX'), ('CIVILIAN', 'QUANTITY_MIN'), ('CIVILIAN', 'TIME_MAX'), ('CIVILIAN', 'WEIGHT'), ('CIVILIAN', 'WIDTH'), ('CIVIL_WAR_OUTBREAK', 'AGITATING_TROUBLE_MAKING'), ('CIVIL_WAR_OUTBREAK', 'BOMBING'), ('CIVIL_WAR_OUTBREAK', 'CATEGORY'), ('CIVIL_WAR_OUTBREAK', 'CBRN_EVENT'), ('CIVIL_WAR_OUTBREAK', 'CIVILIAN'), ('CIVIL_WAR_OUTBREAK', 'COLOR'), ('CIVIL_WAR_OUTBREAK', 'CRIMINAL_ARREST'), ('CIVIL_WAR_OUTBREAK', 'DEMONSTRATION'), ('CIVIL_WAR_OUTBREAK', 'DRUG_OPERATION'), ('CIVIL_WAR_OUTBREAK', 'ECONOMICAL_CRISIS'), ('CIVIL_WAR_OUTBREAK', 'ELECTION'), ('CIVIL_WAR_OUTBREAK', 'EPIDEMIC'), ('CIVIL_WAR_OUTBREAK', 'FIRSTNAME'), ('CIVIL_WAR_OUTBREAK', 'GATHERING'), ('CIVIL_WAR_OUTBREAK', 'GROUP_OF_INDIVIDUALS'), ('CIVIL_WAR_OUTBREAK', 'HEIGHT'), ('CIVIL_WAR_OUTBREAK', 'HOOLIGANISM_TROUBLEMAKING'), ('CIVIL_WAR_OUTBREAK', 'ILLEGAL_CIVIL_DEMONSTRATION'), ('CIVIL_WAR_OUTBREAK', 'INTERGOVERNMENTAL_ORGANISATION'), ('CIVIL_WAR_OUTBREAK', 'LASTNAME'), ('CIVIL_WAR_OUTBREAK', 'LATITUDE'), ('CIVIL_WAR_OUTBREAK', 'LENGTH'), ('CIVIL_WAR_OUTBREAK', 'LONGITUDE'), ('CIVIL_WAR_OUTBREAK', 'MATERIAL_REFERENCE'), ('CIVIL_WAR_OUTBREAK', 'MATERIEL'), ('CIVIL_WAR_OUTBREAK', 'MILITARY'), ('CIVIL_WAR_OUTBREAK', 'MILITARY_ORGANISATION'), ('CIVIL_WAR_OUTBREAK', 'NATIONALITY'), ('CIVIL_WAR_OUTBREAK', 'NATURAL_CAUSES_DEATH'), ('CIVIL_WAR_OUTBREAK', 'NATURAL_EVENT'), ('CIVIL_WAR_OUTBREAK', 'NON_GOVERNMENTAL_ORGANISATION'), ('CIVIL_WAR_OUTBREAK', 'NON_MILITARY_GOVERNMENT_ORGANISATION'), ('CIVIL_WAR_OUTBREAK', 'POLITICAL_VIOLENCE'), ('CIVIL_WAR_OUTBREAK', 'POLLUTION'), ('CIVIL_WAR_OUTBREAK', 'QUANTITY_MAX'), ('CIVIL_WAR_OUTBREAK', 'QUANTITY_MIN'), ('CIVIL_WAR_OUTBREAK', 'RIOT'), ('CIVIL_WAR_OUTBREAK', 'STRIKE'), ('CIVIL_WAR_OUTBREAK', 'SUICIDE'), ('CIVIL_WAR_OUTBREAK', 'TERRORIST_OR_CRIMINAL'), ('CIVIL_WAR_OUTBREAK', 'THEFT'), ('CIVIL_WAR_OUTBREAK', 'TIME_MAX'), ('CIVIL_WAR_OUTBREAK', 'TIME_MIN'), ('CIVIL_WAR_OUTBREAK', 'TRAFFICKING'), ('CIVIL_WAR_OUTBREAK', 'WEIGHT'), ('CIVIL_WAR_OUTBREAK', 'WIDTH'), ('COLOR', 'ACCIDENT'), ('COLOR', 'AGITATING_TROUBLE_MAKING'), ('COLOR', 'BOMBING'), ('COLOR', 'CATEGORY'), ('COLOR', 'CBRN_EVENT'), ('COLOR', 'CIVILIAN'), ('COLOR', 'CIVIL_WAR_OUTBREAK'), ('COLOR', 'COLOR'), ('COLOR', 'COUP_D_ETAT'), ('COLOR', 'CRIMINAL_ARREST'), ('COLOR', 'DEMONSTRATION'), ('COLOR', 'DRUG_OPERATION'), ('COLOR', 'ECONOMICAL_CRISIS'), ('COLOR', 'ELECTION'), ('COLOR', 'EPIDEMIC'), ('COLOR', 'FIRE'), ('COLOR', 'FIRSTNAME'), ('COLOR', 'GATHERING'), ('COLOR', 'GROUP_OF_INDIVIDUALS'), ('COLOR', 'HEIGHT'), ('COLOR', 'HOOLIGANISM_TROUBLEMAKING'), ('COLOR', 'ILLEGAL_CIVIL_DEMONSTRATION'), ('COLOR', 'INTERGOVERNMENTAL_ORGANISATION'), ('COLOR', 'LASTNAME'), ('COLOR', 'LATITUDE'), ('COLOR', 'LENGTH'), ('COLOR', 'LONGITUDE'), ('COLOR', 'MATERIAL_REFERENCE'), ('COLOR', 'MATERIEL'), ('COLOR', 'MILITARY'), ('COLOR', 'MILITARY_ORGANISATION'), ('COLOR', 'NATIONALITY'), ('COLOR', 'NATURAL_CAUSES_DEATH'), ('COLOR', 'NATURAL_EVENT'), ('COLOR', 'NON_GOVERNMENTAL_ORGANISATION'), ('COLOR', 'NON_MILITARY_GOVERNMENT_ORGANISATION'), ('COLOR', 'PLACE'), ('COLOR', 'POLITICAL_VIOLENCE'), ('COLOR', 'POLLUTION'), ('COLOR', 'QUANTITY_EXACT'), ('COLOR', 'QUANTITY_FUZZY'), ('COLOR', 'QUANTITY_MAX'), ('COLOR', 'QUANTITY_MIN'), ('COLOR', 'RIOT'), ('COLOR', 'STRIKE'), ('COLOR', 'SUICIDE'), ('COLOR', 'TERRORIST_OR_CRIMINAL'), ('COLOR', 'THEFT'), ('COLOR', 'TIME_EXACT'), ('COLOR', 'TIME_FUZZY'), ('COLOR', 'TIME_MAX'), ('COLOR', 'TIME_MIN'), ('COLOR', 'TRAFFICKING'), ('COLOR', 'WEIGHT'), ('COLOR', 'WIDTH'), ('COUP_D_ETAT', 'ACCIDENT'), ('COUP_D_ETAT', 'CATEGORY'), ('COUP_D_ETAT', 'CBRN_EVENT'), ('COUP_D_ETAT', 'CIVILIAN'), ('COUP_D_ETAT', 'CIVIL_WAR_OUTBREAK'), ('COUP_D_ETAT', 'COLOR'), ('COUP_D_ETAT', 'COUP_D_ETAT'), ('COUP_D_ETAT', 'DRUG_OPERATION'), ('COUP_D_ETAT', 'ECONOMICAL_CRISIS'), ('COUP_D_ETAT', 'ELECTION'), ('COUP_D_ETAT', 'EPIDEMIC'), ('COUP_D_ETAT', 'FIRSTNAME'), ('COUP_D_ETAT', 'GATHERING'), ('COUP_D_ETAT', 'GROUP_OF_INDIVIDUALS'), ('COUP_D_ETAT', 'HEIGHT'), ('COUP_D_ETAT', 'HOOLIGANISM_TROUBLEMAKING'), ('COUP_D_ETAT', 'ILLEGAL_CIVIL_DEMONSTRATION'), ('COUP_D_ETAT', 'INTERGOVERNMENTAL_ORGANISATION'), ('COUP_D_ETAT', 'LASTNAME'), ('COUP_D_ETAT', 'LATITUDE'), ('COUP_D_ETAT', 'LENGTH'), ('COUP_D_ETAT', 'LONGITUDE'), ('COUP_D_ETAT', 'MATERIAL_REFERENCE'), ('COUP_D_ETAT', 'MATERIEL'), ('COUP_D_ETAT', 'MILITARY'), ('COUP_D_ETAT', 'MILITARY_ORGANISATION'), ('COUP_D_ETAT', 'NATIONALITY'), ('COUP_D_ETAT', 'NATURAL_CAUSES_DEATH'), ('COUP_D_ETAT', 'NATURAL_EVENT'), ('COUP_D_ETAT', 'NON_GOVERNMENTAL_ORGANISATION'), ('COUP_D_ETAT', 'NON_MILITARY_GOVERNMENT_ORGANISATION'), ('COUP_D_ETAT', 'POLITICAL_VIOLENCE'), ('COUP_D_ETAT', 'POLLUTION'), ('COUP_D_ETAT', 'QUANTITY_EXACT'), ('COUP_D_ETAT', 'QUANTITY_MAX'), ('COUP_D_ETAT', 'QUANTITY_MIN'), ('COUP_D_ETAT', 'RIOT'), ('COUP_D_ETAT', 'STRIKE'), ('COUP_D_ETAT', 'SUICIDE'), ('COUP_D_ETAT', 'TERRORIST_OR_CRIMINAL'), ('COUP_D_ETAT', 'THEFT'), ('COUP_D_ETAT', 'TIME_MAX'), ('COUP_D_ETAT', 'TIME_MIN'), ('COUP_D_ETAT', 'TRAFFICKING'), ('COUP_D_ETAT', 'WEIGHT'), ('COUP_D_ETAT', 'WIDTH'), ('CRIMINAL_ARREST', 'ACCIDENT'), ('CRIMINAL_ARREST', 'AGITATING_TROUBLE_MAKING'), ('CRIMINAL_ARREST', 'CATEGORY'), ('CRIMINAL_ARREST', 'CBRN_EVENT'), ('CRIMINAL_ARREST', 'CIVILIAN'), ('CRIMINAL_ARREST', 'CIVIL_WAR_OUTBREAK'), ('CRIMINAL_ARREST', 'COLOR'), ('CRIMINAL_ARREST', 'COUP_D_ETAT'), ('CRIMINAL_ARREST', 'DEMONSTRATION'), ('CRIMINAL_ARREST', 'ECONOMICAL_CRISIS'), ('CRIMINAL_ARREST', 'ELECTION'), ('CRIMINAL_ARREST', 'EPIDEMIC'), ('CRIMINAL_ARREST', 'FIRE'), ('CRIMINAL_ARREST', 'FIRSTNAME'), ('CRIMINAL_ARREST', 'GROUP_OF_INDIVIDUALS'), ('CRIMINAL_ARREST', 'HEIGHT'), ('CRIMINAL_ARREST', 'HOOLIGANISM_TROUBLEMAKING'), ('CRIMINAL_ARREST', 'ILLEGAL_CIVIL_DEMONSTRATION'), ('CRIMINAL_ARREST', 'INTERGOVERNMENTAL_ORGANISATION'), ('CRIMINAL_ARREST', 'LASTNAME'), ('CRIMINAL_ARREST', 'LATITUDE'), ('CRIMINAL_ARREST', 'LENGTH'), ('CRIMINAL_ARREST', 'LONGITUDE'), ('CRIMINAL_ARREST', 'MATERIAL_REFERENCE'), ('CRIMINAL_ARREST', 'MATERIEL'), ('CRIMINAL_ARREST', 'MILITARY'), ('CRIMINAL_ARREST', 'MILITARY_ORGANISATION'), ('CRIMINAL_ARREST', 'NATIONALITY'), ('CRIMINAL_ARREST', 'NATURAL_CAUSES_DEATH'), ('CRIMINAL_ARREST', 'NATURAL_EVENT'), ('CRIMINAL_ARREST', 'NON_GOVERNMENTAL_ORGANISATION'), ('CRIMINAL_ARREST', 'NON_MILITARY_GOVERNMENT_ORGANISATION'), ('CRIMINAL_ARREST', 'POLLUTION'), ('CRIMINAL_ARREST', 'QUANTITY_FUZZY'), ('CRIMINAL_ARREST', 'QUANTITY_MAX'), ('CRIMINAL_ARREST', 'QUANTITY_MIN'), ('CRIMINAL_ARREST', 'STRIKE'), ('CRIMINAL_ARREST', 'SUICIDE'), ('CRIMINAL_ARREST', 'TERRORIST_OR_CRIMINAL'), ('CRIMINAL_ARREST', 'THEFT'), ('CRIMINAL_ARREST', 'TIME_MAX'), ('CRIMINAL_ARREST', 'TIME_MIN'), ('CRIMINAL_ARREST', 'TRAFFICKING'), ('CRIMINAL_ARREST', 'WEIGHT'), ('CRIMINAL_ARREST', 'WIDTH'), ('DEMONSTRATION', 'BOMBING'), ('DEMONSTRATION', 'CATEGORY'), ('DEMONSTRATION', 'CBRN_EVENT'), ('DEMONSTRATION', 'CIVILIAN'), ('DEMONSTRATION', 'COLOR'), ('DEMONSTRATION', 'COUP_D_ETAT'), ('DEMONSTRATION', 'CRIMINAL_ARREST'), ('DEMONSTRATION', 'DRUG_OPERATION'), ('DEMONSTRATION', 'ECONOMICAL_CRISIS'), ('DEMONSTRATION', 'ELECTION'), ('DEMONSTRATION', 'EPIDEMIC'), ('DEMONSTRATION', 'FIRSTNAME'), ('DEMONSTRATION', 'GATHERING'), ('DEMONSTRATION', 'GROUP_OF_INDIVIDUALS'), ('DEMONSTRATION', 'HEIGHT'), ('DEMONSTRATION', 'HOOLIGANISM_TROUBLEMAKING'), ('DEMONSTRATION', 'ILLEGAL_CIVIL_DEMONSTRATION'), ('DEMONSTRATION', 'INTERGOVERNMENTAL_ORGANISATION'), ('DEMONSTRATION', 'LASTNAME'), ('DEMONSTRATION', 'LATITUDE'), ('DEMONSTRATION', 'LENGTH'), ('DEMONSTRATION', 'LONGITUDE'), ('DEMONSTRATION', 'MATERIAL_REFERENCE'), ('DEMONSTRATION', 'MATERIEL'), ('DEMONSTRATION', 'MILITARY'), ('DEMONSTRATION', 'MILITARY_ORGANISATION'), ('DEMONSTRATION', 'NATIONALITY'), ('DEMONSTRATION', 'NATURAL_CAUSES_DEATH'), ('DEMONSTRATION', 'NATURAL_EVENT'), ('DEMONSTRATION', 'NON_GOVERNMENTAL_ORGANISATION'), ('DEMONSTRATION', 'NON_MILITARY_GOVERNMENT_ORGANISATION'), ('DEMONSTRATION', 'POLLUTION'), ('DEMONSTRATION', 'QUANTITY_FUZZY'), ('DEMONSTRATION', 'QUANTITY_MAX'), ('DEMONSTRATION', 'QUANTITY_MIN'), ('DEMONSTRATION', 'STRIKE'), ('DEMONSTRATION', 'SUICIDE'), ('DEMONSTRATION', 'TERRORIST_OR_CRIMINAL'), ('DEMONSTRATION', 'THEFT'), ('DEMONSTRATION', 'TIME_MAX'), ('DEMONSTRATION', 'TIME_MIN'), ('DEMONSTRATION', 'TRAFFICKING'), ('DEMONSTRATION', 'WEIGHT'), ('DEMONSTRATION', 'WIDTH'), ('DRUG_OPERATION', 'ACCIDENT'), ('DRUG_OPERATION', 'BOMBING'), ('DRUG_OPERATION', 'CATEGORY'), ('DRUG_OPERATION', 'CBRN_EVENT'), ('DRUG_OPERATION', 'CIVILIAN'), ('DRUG_OPERATION', 'COLOR'), ('DRUG_OPERATION', 'COUP_D_ETAT'), ('DRUG_OPERATION', 'DEMONSTRATION'), ('DRUG_OPERATION', 'ECONOMICAL_CRISIS'), ('DRUG_OPERATION', 'ELECTION'), ('DRUG_OPERATION', 'EPIDEMIC'), ('DRUG_OPERATION', 'FIRE'), ('DRUG_OPERATION', 'FIRSTNAME'), ('DRUG_OPERATION', 'GATHERING'), ('DRUG_OPERATION', 'GROUP_OF_INDIVIDUALS'), ('DRUG_OPERATION', 'HEIGHT'), ('DRUG_OPERATION', 'HOOLIGANISM_TROUBLEMAKING'), ('DRUG_OPERATION', 'ILLEGAL_CIVIL_DEMONSTRATION'), ('DRUG_OPERATION', 'INTERGOVERNMENTAL_ORGANISATION'), ('DRUG_OPERATION', 'LASTNAME'), ('DRUG_OPERATION', 'LATITUDE'), ('DRUG_OPERATION', 'LENGTH'), ('DRUG_OPERATION', 'LONGITUDE'), ('DRUG_OPERATION', 'MATERIAL_REFERENCE'), ('DRUG_OPERATION', 'MATERIEL'), ('DRUG_OPERATION', 'MILITARY'), ('DRUG_OPERATION', 'MILITARY_ORGANISATION'), ('DRUG_OPERATION', 'NATIONALITY'), ('DRUG_OPERATION', 'NATURAL_CAUSES_DEATH'), ('DRUG_OPERATION', 'NATURAL_EVENT'), ('DRUG_OPERATION', 'NON_GOVERNMENTAL_ORGANISATION'), ('DRUG_OPERATION', 'NON_MILITARY_GOVERNMENT_ORGANISATION'), ('DRUG_OPERATION', 'POLITICAL_VIOLENCE'), ('DRUG_OPERATION', 'POLLUTION'), ('DRUG_OPERATION', 'QUANTITY_EXACT'), ('DRUG_OPERATION', 'QUANTITY_FUZZY'), ('DRUG_OPERATION', 'QUANTITY_MAX'), ('DRUG_OPERATION', 'QUANTITY_MIN'), ('DRUG_OPERATION', 'RIOT'), ('DRUG_OPERATION', 'STRIKE'), ('DRUG_OPERATION', 'SUICIDE'), ('DRUG_OPERATION', 'TERRORIST_OR_CRIMINAL'), ('DRUG_OPERATION', 'THEFT'), ('DRUG_OPERATION', 'TIME_FUZZY'), ('DRUG_OPERATION', 'TIME_MAX'), ('DRUG_OPERATION', 'TIME_MIN'), ('DRUG_OPERATION', 'WEIGHT'), ('DRUG_OPERATION', 'WIDTH'), ('ECONOMICAL_CRISIS', 'ACCIDENT'), ('ECONOMICAL_CRISIS', 'AGITATING_TROUBLE_MAKING'), ('ECONOMICAL_CRISIS', 'CATEGORY'), ('ECONOMICAL_CRISIS', 'CBRN_EVENT'), ('ECONOMICAL_CRISIS', 'CIVILIAN'), ('ECONOMICAL_CRISIS', 'CIVIL_WAR_OUTBREAK'), ('ECONOMICAL_CRISIS', 'COLOR'), ('ECONOMICAL_CRISIS', 'CRIMINAL_ARREST'), ('ECONOMICAL_CRISIS', 'DEMONSTRATION'), ('ECONOMICAL_CRISIS', 'DRUG_OPERATION'), ('ECONOMICAL_CRISIS', 'ELECTION'), ('ECONOMICAL_CRISIS', 'EPIDEMIC'), ('ECONOMICAL_CRISIS', 'FIRSTNAME'), ('ECONOMICAL_CRISIS', 'GROUP_OF_INDIVIDUALS'), ('ECONOMICAL_CRISIS', 'HEIGHT'), ('ECONOMICAL_CRISIS', 'HOOLIGANISM_TROUBLEMAKING'), ('ECONOMICAL_CRISIS', 'ILLEGAL_CIVIL_DEMONSTRATION'), ('ECONOMICAL_CRISIS', 'INTERGOVERNMENTAL_ORGANISATION'), ('ECONOMICAL_CRISIS', 'LASTNAME'), ('ECONOMICAL_CRISIS', 'LATITUDE'), ('ECONOMICAL_CRISIS', 'LENGTH'), ('ECONOMICAL_CRISIS', 'LONGITUDE'), ('ECONOMICAL_CRISIS', 'MATERIAL_REFERENCE'), ('ECONOMICAL_CRISIS', 'MATERIEL'), ('ECONOMICAL_CRISIS', 'MILITARY'), ('ECONOMICAL_CRISIS', 'MILITARY_ORGANISATION'), ('ECONOMICAL_CRISIS', 'NATIONALITY'), ('ECONOMICAL_CRISIS', 'NATURAL_CAUSES_DEATH'), ('ECONOMICAL_CRISIS', 'NATURAL_EVENT'), ('ECONOMICAL_CRISIS', 'NON_GOVERNMENTAL_ORGANISATION'), ('ECONOMICAL_CRISIS', 'NON_MILITARY_GOVERNMENT_ORGANISATION'), ('ECONOMICAL_CRISIS', 'POLITICAL_VIOLENCE'), ('ECONOMICAL_CRISIS', 'POLLUTION'), ('ECONOMICAL_CRISIS', 'QUANTITY_EXACT'), ('ECONOMICAL_CRISIS', 'QUANTITY_FUZZY'), ('ECONOMICAL_CRISIS', 'QUANTITY_MAX'), ('ECONOMICAL_CRISIS', 'QUANTITY_MIN'), ('ECONOMICAL_CRISIS', 'SUICIDE'), ('ECONOMICAL_CRISIS', 'TERRORIST_OR_CRIMINAL'), ('ECONOMICAL_CRISIS', 'TIME_MAX'), ('ECONOMICAL_CRISIS', 'WEIGHT'), ('ECONOMICAL_CRISIS', 'WIDTH'), ('ELECTION', 'AGITATING_TROUBLE_MAKING'), ('ELECTION', 'BOMBING'), ('ELECTION', 'CATEGORY'), ('ELECTION', 'CBRN_EVENT'), ('ELECTION', 'CIVILIAN'), ('ELECTION', 'CIVIL_WAR_OUTBREAK'), ('ELECTION', 'COLOR'), ('ELECTION', 'COUP_D_ETAT'), ('ELECTION', 'DRUG_OPERATION'), ('ELECTION', 'ECONOMICAL_CRISIS'), ('ELECTION', 'EPIDEMIC'), ('ELECTION', 'FIRSTNAME'), ('ELECTION', 'GROUP_OF_INDIVIDUALS'), ('ELECTION', 'HEIGHT'), ('ELECTION', 'HOOLIGANISM_TROUBLEMAKING'), ('ELECTION', 'ILLEGAL_CIVIL_DEMONSTRATION'), ('ELECTION', 'INTERGOVERNMENTAL_ORGANISATION'), ('ELECTION', 'LASTNAME'), ('ELECTION', 'LATITUDE'), ('ELECTION', 'LENGTH'), ('ELECTION', 'LONGITUDE'), ('ELECTION', 'MATERIAL_REFERENCE'), ('ELECTION', 'MATERIEL'), ('ELECTION', 'MILITARY'), ('ELECTION', 'MILITARY_ORGANISATION'), ('ELECTION', 'NATIONALITY'), ('ELECTION', 'NATURAL_CAUSES_DEATH'), ('ELECTION', 'NATURAL_EVENT'), ('ELECTION', 'NON_GOVERNMENTAL_ORGANISATION'), ('ELECTION', 'NON_MILITARY_GOVERNMENT_ORGANISATION'), ('ELECTION', 'POLLUTION'), ('ELECTION', 'QUANTITY_EXACT'), ('ELECTION', 'QUANTITY_FUZZY'), ('ELECTION', 'QUANTITY_MAX'), ('ELECTION', 'QUANTITY_MIN'), ('ELECTION', 'STRIKE'), ('ELECTION', 'SUICIDE'), ('ELECTION', 'TERRORIST_OR_CRIMINAL'), ('ELECTION', 'THEFT'), ('ELECTION', 'TIME_MIN'), ('ELECTION', 'TRAFFICKING'), ('ELECTION', 'WEIGHT'), ('ELECTION', 'WIDTH'), ('EPIDEMIC', 'ACCIDENT'), ('EPIDEMIC', 'AGITATING_TROUBLE_MAKING'), ('EPIDEMIC', 'CATEGORY'), ('EPIDEMIC', 'CBRN_EVENT'), ('EPIDEMIC', 'CIVILIAN'), ('EPIDEMIC', 'CIVIL_WAR_OUTBREAK'), ('EPIDEMIC', 'COLOR'), ('EPIDEMIC', 'COUP_D_ETAT'), ('EPIDEMIC', 'CRIMINAL_ARREST'), ('EPIDEMIC', 'DRUG_OPERATION'), ('EPIDEMIC', 'ELECTION'), ('EPIDEMIC', 'FIRE'), ('EPIDEMIC', 'FIRSTNAME'), ('EPIDEMIC', 'GROUP_OF_INDIVIDUALS'), ('EPIDEMIC', 'HEIGHT'), ('EPIDEMIC', 'HOOLIGANISM_TROUBLEMAKING'), ('EPIDEMIC', 'ILLEGAL_CIVIL_DEMONSTRATION'), ('EPIDEMIC', 'INTERGOVERNMENTAL_ORGANISATION'), ('EPIDEMIC', 'LASTNAME'), ('EPIDEMIC', 'LATITUDE'), ('EPIDEMIC', 'LENGTH'), ('EPIDEMIC', 'LONGITUDE'), ('EPIDEMIC', 'MATERIAL_REFERENCE'), ('EPIDEMIC', 'MATERIEL'), ('EPIDEMIC', 'MILITARY'), ('EPIDEMIC', 'MILITARY_ORGANISATION'), ('EPIDEMIC', 'NATIONALITY'), ('EPIDEMIC', 'NATURAL_CAUSES_DEATH'), ('EPIDEMIC', 'NATURAL_EVENT'), ('EPIDEMIC', 'NON_GOVERNMENTAL_ORGANISATION'), ('EPIDEMIC', 'NON_MILITARY_GOVERNMENT_ORGANISATION'), ('EPIDEMIC', 'POLITICAL_VIOLENCE'), ('EPIDEMIC', 'POLLUTION'), ('EPIDEMIC', 'QUANTITY_MAX'), ('EPIDEMIC', 'QUANTITY_MIN'), ('EPIDEMIC', 'RIOT'), ('EPIDEMIC', 'SUICIDE'), ('EPIDEMIC', 'TERRORIST_OR_CRIMINAL'), ('EPIDEMIC', 'THEFT'), ('EPIDEMIC', 'TRAFFICKING'), ('EPIDEMIC', 'WEIGHT'), ('EPIDEMIC', 'WIDTH'), ('FIRE', 'BOMBING'), ('FIRE', 'CATEGORY'), ('FIRE', 'CIVILIAN'), ('FIRE', 'CIVIL_WAR_OUTBREAK'), ('FIRE', 'COLOR'), ('FIRE', 'DEMONSTRATION'), ('FIRE', 'DRUG_OPERATION'), ('FIRE', 'ECONOMICAL_CRISIS'), ('FIRE', 'ELECTION'), ('FIRE', 'EPIDEMIC'), ('FIRE', 'FIRSTNAME'), ('FIRE', 'GROUP_OF_INDIVIDUALS'), ('FIRE', 'HEIGHT'), ('FIRE', 'HOOLIGANISM_TROUBLEMAKING'), ('FIRE', 'ILLEGAL_CIVIL_DEMONSTRATION'), ('FIRE', 'INTERGOVERNMENTAL_ORGANISATION'), ('FIRE', 'LASTNAME'), ('FIRE', 'LATITUDE'), ('FIRE', 'LENGTH'), ('FIRE', 'LONGITUDE'), ('FIRE', 'MATERIAL_REFERENCE'), ('FIRE', 'MATERIEL'), ('FIRE', 'MILITARY'), ('FIRE', 'MILITARY_ORGANISATION'), ('FIRE', 'NATIONALITY'), ('FIRE', 'NATURAL_CAUSES_DEATH'), ('FIRE', 'NATURAL_EVENT'), ('FIRE', 'NON_GOVERNMENTAL_ORGANISATION'), ('FIRE', 'NON_MILITARY_GOVERNMENT_ORGANISATION'), ('FIRE', 'POLITICAL_VIOLENCE'), ('FIRE', 'QUANTITY_MAX'), ('FIRE', 'QUANTITY_MIN'), ('FIRE', 'STRIKE'), ('FIRE', 'SUICIDE'), ('FIRE', 'TERRORIST_OR_CRIMINAL'), ('FIRE', 'THEFT'), ('FIRE', 'TRAFFICKING'), ('FIRE', 'WEIGHT'), ('FIRE', 'WIDTH'), ('FIRSTNAME', 'ACCIDENT'), ('FIRSTNAME', 'AGITATING_TROUBLE_MAKING'), ('FIRSTNAME', 'BOMBING'), ('FIRSTNAME', 'CATEGORY'), ('FIRSTNAME', 'CBRN_EVENT'), ('FIRSTNAME', 'CIVILIAN'), ('FIRSTNAME', 'CIVIL_WAR_OUTBREAK'), ('FIRSTNAME', 'COLOR'), ('FIRSTNAME', 'COUP_D_ETAT'), ('FIRSTNAME', 'CRIMINAL_ARREST'), ('FIRSTNAME', 'DEMONSTRATION'), ('FIRSTNAME', 'DRUG_OPERATION'), ('FIRSTNAME', 'ECONOMICAL_CRISIS'), ('FIRSTNAME', 'ELECTION'), ('FIRSTNAME', 'EPIDEMIC'), ('FIRSTNAME', 'FIRE'), ('FIRSTNAME', 'FIRSTNAME'), ('FIRSTNAME', 'GATHERING'), ('FIRSTNAME', 'GROUP_OF_INDIVIDUALS'), ('FIRSTNAME', 'HEIGHT'), ('FIRSTNAME', 'HOOLIGANISM_TROUBLEMAKING'), ('FIRSTNAME', 'ILLEGAL_CIVIL_DEMONSTRATION'), ('FIRSTNAME', 'INTERGOVERNMENTAL_ORGANISATION'), ('FIRSTNAME', 'LASTNAME'), ('FIRSTNAME', 'LATITUDE'), ('FIRSTNAME', 'LENGTH'), ('FIRSTNAME', 'LONGITUDE'), ('FIRSTNAME', 'MATERIAL_REFERENCE'), ('FIRSTNAME', 'MATERIEL'), ('FIRSTNAME', 'MILITARY'), ('FIRSTNAME', 'MILITARY_ORGANISATION'), ('FIRSTNAME', 'NATIONALITY'), ('FIRSTNAME', 'NATURAL_CAUSES_DEATH'), ('FIRSTNAME', 'NATURAL_EVENT'), ('FIRSTNAME', 'NON_GOVERNMENTAL_ORGANISATION'), ('FIRSTNAME', 'NON_MILITARY_GOVERNMENT_ORGANISATION'), ('FIRSTNAME', 'PLACE'), ('FIRSTNAME', 'POLITICAL_VIOLENCE'), ('FIRSTNAME', 'POLLUTION'), ('FIRSTNAME', 'QUANTITY_EXACT'), ('FIRSTNAME', 'QUANTITY_FUZZY'), ('FIRSTNAME', 'QUANTITY_MAX'), ('FIRSTNAME', 'QUANTITY_MIN'), ('FIRSTNAME', 'RIOT'), ('FIRSTNAME', 'STRIKE'), ('FIRSTNAME', 'SUICIDE'), ('FIRSTNAME', 'TERRORIST_OR_CRIMINAL'), ('FIRSTNAME', 'THEFT'), ('FIRSTNAME', 'TIME_EXACT'), ('FIRSTNAME', 'TIME_FUZZY'), ('FIRSTNAME', 'TIME_MAX'), ('FIRSTNAME', 'TIME_MIN'), ('FIRSTNAME', 'TRAFFICKING'), ('FIRSTNAME', 'WEIGHT'), ('FIRSTNAME', 'WIDTH'), ('GATHERING', 'CATEGORY'), ('GATHERING', 'CIVILIAN'), ('GATHERING', 'CIVIL_WAR_OUTBREAK'), ('GATHERING', 'COLOR'), ('GATHERING', 'COUP_D_ETAT'), ('GATHERING', 'DRUG_OPERATION'), ('GATHERING', 'ELECTION'), ('GATHERING', 'FIRSTNAME'), ('GATHERING', 'GROUP_OF_INDIVIDUALS'), ('GATHERING', 'HEIGHT'), ('GATHERING', 'HOOLIGANISM_TROUBLEMAKING'), ('GATHERING', 'INTERGOVERNMENTAL_ORGANISATION'), ('GATHERING', 'LASTNAME'), ('GATHERING', 'LATITUDE'), ('GATHERING', 'LENGTH'), ('GATHERING', 'LONGITUDE'), ('GATHERING', 'MATERIAL_REFERENCE'), ('GATHERING', 'MATERIEL'), ('GATHERING', 'MILITARY'), ('GATHERING', 'MILITARY_ORGANISATION'), ('GATHERING', 'NATIONALITY'), ('GATHERING', 'NON_GOVERNMENTAL_ORGANISATION'), ('GATHERING', 'NON_MILITARY_GOVERNMENT_ORGANISATION'), ('GATHERING', 'POLLUTION'), ('GATHERING', 'QUANTITY_EXACT'), ('GATHERING', 'QUANTITY_MAX'), ('GATHERING', 'QUANTITY_MIN'), ('GATHERING', 'STRIKE'), ('GATHERING', 'SUICIDE'), ('GATHERING', 'TERRORIST_OR_CRIMINAL'), ('GATHERING', 'TRAFFICKING'), ('GATHERING', 'WEIGHT'), ('GATHERING', 'WIDTH'), ('GROUP_OF_INDIVIDUALS', 'CATEGORY'), ('GROUP_OF_INDIVIDUALS', 'COLOR'), ('GROUP_OF_INDIVIDUALS', 'ECONOMICAL_CRISIS'), ('GROUP_OF_INDIVIDUALS', 'ELECTION'), ('GROUP_OF_INDIVIDUALS', 'EPIDEMIC'), ('GROUP_OF_INDIVIDUALS', 'FIRSTNAME'), ('GROUP_OF_INDIVIDUALS', 'HEIGHT'), ('GROUP_OF_INDIVIDUALS', 'LASTNAME'), ('GROUP_OF_INDIVIDUALS', 'LATITUDE'), ('GROUP_OF_INDIVIDUALS', 'LENGTH'), ('GROUP_OF_INDIVIDUALS', 'LONGITUDE'), ('GROUP_OF_INDIVIDUALS', 'MATERIAL_REFERENCE'), ('GROUP_OF_INDIVIDUALS', 'NATURAL_CAUSES_DEATH'), ('GROUP_OF_INDIVIDUALS', 'NATURAL_EVENT'), ('GROUP_OF_INDIVIDUALS', 'SUICIDE'), ('GROUP_OF_INDIVIDUALS', 'TIME_FUZZY'), ('GROUP_OF_INDIVIDUALS', 'TIME_MAX'), ('GROUP_OF_INDIVIDUALS', 'TIME_MIN'), ('GROUP_OF_INDIVIDUALS', 'WEIGHT'), ('GROUP_OF_INDIVIDUALS', 'WIDTH'), ('HEIGHT', 'ACCIDENT'), ('HEIGHT', 'AGITATING_TROUBLE_MAKING'), ('HEIGHT', 'BOMBING'), ('HEIGHT', 'CATEGORY'), ('HEIGHT', 'CBRN_EVENT'), ('HEIGHT', 'CIVILIAN'), ('HEIGHT', 'CIVIL_WAR_OUTBREAK'), ('HEIGHT', 'COLOR'), ('HEIGHT', 'COUP_D_ETAT'), ('HEIGHT', 'CRIMINAL_ARREST'), ('HEIGHT', 'DEMONSTRATION'), ('HEIGHT', 'DRUG_OPERATION'), ('HEIGHT', 'ECONOMICAL_CRISIS'), ('HEIGHT', 'ELECTION'), ('HEIGHT', 'EPIDEMIC'), ('HEIGHT', 'FIRE'), ('HEIGHT', 'FIRSTNAME'), ('HEIGHT', 'GATHERING'), ('HEIGHT', 'GROUP_OF_INDIVIDUALS'), ('HEIGHT', 'HEIGHT'), ('HEIGHT', 'HOOLIGANISM_TROUBLEMAKING'), ('HEIGHT', 'ILLEGAL_CIVIL_DEMONSTRATION'), ('HEIGHT', 'INTERGOVERNMENTAL_ORGANISATION'), ('HEIGHT', 'LASTNAME'), ('HEIGHT', 'LATITUDE'), ('HEIGHT', 'LENGTH'), ('HEIGHT', 'LONGITUDE'), ('HEIGHT', 'MATERIAL_REFERENCE'), ('HEIGHT', 'MATERIEL'), ('HEIGHT', 'MILITARY'), ('HEIGHT', 'MILITARY_ORGANISATION'), ('HEIGHT', 'NATIONALITY'), ('HEIGHT', 'NATURAL_CAUSES_DEATH'), ('HEIGHT', 'NATURAL_EVENT'), ('HEIGHT', 'NON_GOVERNMENTAL_ORGANISATION'), ('HEIGHT', 'NON_MILITARY_GOVERNMENT_ORGANISATION'), ('HEIGHT', 'PLACE'), ('HEIGHT', 'POLITICAL_VIOLENCE'), ('HEIGHT', 'POLLUTION'), ('HEIGHT', 'QUANTITY_EXACT'), ('HEIGHT', 'QUANTITY_FUZZY'), ('HEIGHT', 'QUANTITY_MAX'), ('HEIGHT', 'QUANTITY_MIN'), ('HEIGHT', 'RIOT'), ('HEIGHT', 'STRIKE'), ('HEIGHT', 'SUICIDE'), ('HEIGHT', 'TERRORIST_OR_CRIMINAL'), ('HEIGHT', 'THEFT'), ('HEIGHT', 'TIME_EXACT'), ('HEIGHT', 'TIME_FUZZY'), ('HEIGHT', 'TIME_MAX'), ('HEIGHT', 'TIME_MIN'), ('HEIGHT', 'TRAFFICKING'), ('HEIGHT', 'WEIGHT'), ('HEIGHT', 'WIDTH'), ('HOOLIGANISM_TROUBLEMAKING', 'ACCIDENT'), ('HOOLIGANISM_TROUBLEMAKING', 'AGITATING_TROUBLE_MAKING'), ('HOOLIGANISM_TROUBLEMAKING', 'BOMBING'), ('HOOLIGANISM_TROUBLEMAKING', 'CATEGORY'), ('HOOLIGANISM_TROUBLEMAKING', 'CBRN_EVENT'), ('HOOLIGANISM_TROUBLEMAKING', 'CIVILIAN'), ('HOOLIGANISM_TROUBLEMAKING', 'CIVIL_WAR_OUTBREAK'), ('HOOLIGANISM_TROUBLEMAKING', 'COLOR'), ('HOOLIGANISM_TROUBLEMAKING', 'COUP_D_ETAT'), ('HOOLIGANISM_TROUBLEMAKING', 'DEMONSTRATION'), ('HOOLIGANISM_TROUBLEMAKING', 'DRUG_OPERATION'), ('HOOLIGANISM_TROUBLEMAKING', 'ECONOMICAL_CRISIS'), ('HOOLIGANISM_TROUBLEMAKING', 'ELECTION'), ('HOOLIGANISM_TROUBLEMAKING', 'EPIDEMIC'), ('HOOLIGANISM_TROUBLEMAKING', 'FIRE'), ('HOOLIGANISM_TROUBLEMAKING', 'FIRSTNAME'), ('HOOLIGANISM_TROUBLEMAKING', 'GATHERING'), ('HOOLIGANISM_TROUBLEMAKING', 'GROUP_OF_INDIVIDUALS'), ('HOOLIGANISM_TROUBLEMAKING', 'HEIGHT'), ('HOOLIGANISM_TROUBLEMAKING', 'ILLEGAL_CIVIL_DEMONSTRATION'), ('HOOLIGANISM_TROUBLEMAKING', 'INTERGOVERNMENTAL_ORGANISATION'), ('HOOLIGANISM_TROUBLEMAKING', 'LASTNAME'), ('HOOLIGANISM_TROUBLEMAKING', 'LATITUDE'), ('HOOLIGANISM_TROUBLEMAKING', 'LENGTH'), ('HOOLIGANISM_TROUBLEMAKING', 'LONGITUDE'), ('HOOLIGANISM_TROUBLEMAKING', 'MATERIAL_REFERENCE'), ('HOOLIGANISM_TROUBLEMAKING', 'MATERIEL'), ('HOOLIGANISM_TROUBLEMAKING', 'MILITARY'), ('HOOLIGANISM_TROUBLEMAKING', 'MILITARY_ORGANISATION'), ('HOOLIGANISM_TROUBLEMAKING', 'NATIONALITY'), ('HOOLIGANISM_TROUBLEMAKING', 'NATURAL_CAUSES_DEATH'), ('HOOLIGANISM_TROUBLEMAKING', 'NATURAL_EVENT'), ('HOOLIGANISM_TROUBLEMAKING', 'NON_GOVERNMENTAL_ORGANISATION'), ('HOOLIGANISM_TROUBLEMAKING', 'NON_MILITARY_GOVERNMENT_ORGANISATION'), ('HOOLIGANISM_TROUBLEMAKING', 'POLITICAL_VIOLENCE'), ('HOOLIGANISM_TROUBLEMAKING', 'POLLUTION'), ('HOOLIGANISM_TROUBLEMAKING', 'QUANTITY_EXACT'), ('HOOLIGANISM_TROUBLEMAKING', 'QUANTITY_FUZZY'), ('HOOLIGANISM_TROUBLEMAKING', 'QUANTITY_MAX'), ('HOOLIGANISM_TROUBLEMAKING', 'QUANTITY_MIN'), ('HOOLIGANISM_TROUBLEMAKING', 'RIOT'), ('HOOLIGANISM_TROUBLEMAKING', 'STRIKE'), ('HOOLIGANISM_TROUBLEMAKING', 'SUICIDE'), ('HOOLIGANISM_TROUBLEMAKING', 'TERRORIST_OR_CRIMINAL'), ('HOOLIGANISM_TROUBLEMAKING', 'TIME_FUZZY'), ('HOOLIGANISM_TROUBLEMAKING', 'TIME_MAX'), ('HOOLIGANISM_TROUBLEMAKING', 'TRAFFICKING'), ('HOOLIGANISM_TROUBLEMAKING', 'WEIGHT'), ('HOOLIGANISM_TROUBLEMAKING', 'WIDTH'), ('ILLEGAL_CIVIL_DEMONSTRATION', 'ACCIDENT'), ('ILLEGAL_CIVIL_DEMONSTRATION', 'AGITATING_TROUBLE_MAKING'), ('ILLEGAL_CIVIL_DEMONSTRATION', 'BOMBING'), ('ILLEGAL_CIVIL_DEMONSTRATION', 'CATEGORY'), ('ILLEGAL_CIVIL_DEMONSTRATION', 'CBRN_EVENT'), ('ILLEGAL_CIVIL_DEMONSTRATION', 'CIVILIAN'), ('ILLEGAL_CIVIL_DEMONSTRATION', 'CIVIL_WAR_OUTBREAK'), ('ILLEGAL_CIVIL_DEMONSTRATION', 'COLOR'), ('ILLEGAL_CIVIL_DEMONSTRATION', 'COUP_D_ETAT'), ('ILLEGAL_CIVIL_DEMONSTRATION', 'DEMONSTRATION'), ('ILLEGAL_CIVIL_DEMONSTRATION', 'DRUG_OPERATION'), ('ILLEGAL_CIVIL_DEMONSTRATION', 'ECONOMICAL_CRISIS'), ('ILLEGAL_CIVIL_DEMONSTRATION', 'ELECTION'), ('ILLEGAL_CIVIL_DEMONSTRATION', 'EPIDEMIC'), ('ILLEGAL_CIVIL_DEMONSTRATION', 'FIRSTNAME'), ('ILLEGAL_CIVIL_DEMONSTRATION', 'GATHERING'), ('ILLEGAL_CIVIL_DEMONSTRATION', 'GROUP_OF_INDIVIDUALS'), ('ILLEGAL_CIVIL_DEMONSTRATION', 'HEIGHT'), ('ILLEGAL_CIVIL_DEMONSTRATION', 'HOOLIGANISM_TROUBLEMAKING'), ('ILLEGAL_CIVIL_DEMONSTRATION', 'ILLEGAL_CIVIL_DEMONSTRATION'), ('ILLEGAL_CIVIL_DEMONSTRATION', 'INTERGOVERNMENTAL_ORGANISATION'), ('ILLEGAL_CIVIL_DEMONSTRATION', 'LASTNAME'), ('ILLEGAL_CIVIL_DEMONSTRATION', 'LATITUDE'), ('ILLEGAL_CIVIL_DEMONSTRATION', 'LENGTH'), ('ILLEGAL_CIVIL_DEMONSTRATION', 'LONGITUDE'), ('ILLEGAL_CIVIL_DEMONSTRATION', 'MATERIAL_REFERENCE'), ('ILLEGAL_CIVIL_DEMONSTRATION', 'MATERIEL'), ('ILLEGAL_CIVIL_DEMONSTRATION', 'MILITARY'), ('ILLEGAL_CIVIL_DEMONSTRATION', 'MILITARY_ORGANISATION'), ('ILLEGAL_CIVIL_DEMONSTRATION', 'NATIONALITY'), ('ILLEGAL_CIVIL_DEMONSTRATION', 'NATURAL_CAUSES_DEATH'), ('ILLEGAL_CIVIL_DEMONSTRATION', 'NATURAL_EVENT'), ('ILLEGAL_CIVIL_DEMONSTRATION', 'NON_GOVERNMENTAL_ORGANISATION'), ('ILLEGAL_CIVIL_DEMONSTRATION', 'NON_MILITARY_GOVERNMENT_ORGANISATION'), ('ILLEGAL_CIVIL_DEMONSTRATION', 'POLITICAL_VIOLENCE'), ('ILLEGAL_CIVIL_DEMONSTRATION', 'POLLUTION'), ('ILLEGAL_CIVIL_DEMONSTRATION', 'QUANTITY_EXACT'), ('ILLEGAL_CIVIL_DEMONSTRATION', 'QUANTITY_FUZZY'), ('ILLEGAL_CIVIL_DEMONSTRATION', 'QUANTITY_MAX'), ('ILLEGAL_CIVIL_DEMONSTRATION', 'QUANTITY_MIN'), ('ILLEGAL_CIVIL_DEMONSTRATION', 'STRIKE'), ('ILLEGAL_CIVIL_DEMONSTRATION', 'SUICIDE'), ('ILLEGAL_CIVIL_DEMONSTRATION', 'TERRORIST_OR_CRIMINAL'), ('ILLEGAL_CIVIL_DEMONSTRATION', 'TIME_MAX'), ('ILLEGAL_CIVIL_DEMONSTRATION', 'TIME_MIN'), ('ILLEGAL_CIVIL_DEMONSTRATION', 'TRAFFICKING'), ('ILLEGAL_CIVIL_DEMONSTRATION', 'WEIGHT'), ('ILLEGAL_CIVIL_DEMONSTRATION', 'WIDTH'), ('INTERGOVERNMENTAL_ORGANISATION', 'ACCIDENT'), ('INTERGOVERNMENTAL_ORGANISATION', 'AGITATING_TROUBLE_MAKING'), ('INTERGOVERNMENTAL_ORGANISATION', 'BOMBING'), ('INTERGOVERNMENTAL_ORGANISATION', 'CATEGORY'), ('INTERGOVERNMENTAL_ORGANISATION', 'CBRN_EVENT'), ('INTERGOVERNMENTAL_ORGANISATION', 'CIVIL_WAR_OUTBREAK'), ('INTERGOVERNMENTAL_ORGANISATION', 'COLOR'), ('INTERGOVERNMENTAL_ORGANISATION', 'COUP_D_ETAT'), ('INTERGOVERNMENTAL_ORGANISATION', 'CRIMINAL_ARREST'), ('INTERGOVERNMENTAL_ORGANISATION', 'DEMONSTRATION'), ('INTERGOVERNMENTAL_ORGANISATION', 'DRUG_OPERATION'), ('INTERGOVERNMENTAL_ORGANISATION', 'ECONOMICAL_CRISIS'), ('INTERGOVERNMENTAL_ORGANISATION', 'ELECTION'), ('INTERGOVERNMENTAL_ORGANISATION', 'EPIDEMIC'), ('INTERGOVERNMENTAL_ORGANISATION', 'FIRE'), ('INTERGOVERNMENTAL_ORGANISATION', 'FIRSTNAME'), ('INTERGOVERNMENTAL_ORGANISATION', 'GATHERING'), ('INTERGOVERNMENTAL_ORGANISATION', 'HEIGHT'), ('INTERGOVERNMENTAL_ORGANISATION', 'HOOLIGANISM_TROUBLEMAKING'), ('INTERGOVERNMENTAL_ORGANISATION', 'ILLEGAL_CIVIL_DEMONSTRATION'), ('INTERGOVERNMENTAL_ORGANISATION', 'INTERGOVERNMENTAL_ORGANISATION'), ('INTERGOVERNMENTAL_ORGANISATION', 'LASTNAME'), ('INTERGOVERNMENTAL_ORGANISATION', 'LATITUDE'), ('INTERGOVERNMENTAL_ORGANISATION', 'LENGTH'), ('INTERGOVERNMENTAL_ORGANISATION', 'LONGITUDE'), ('INTERGOVERNMENTAL_ORGANISATION', 'MATERIAL_REFERENCE'), ('INTERGOVERNMENTAL_ORGANISATION', 'MILITARY'), ('INTERGOVERNMENTAL_ORGANISATION', 'NATIONALITY'), ('INTERGOVERNMENTAL_ORGANISATION', 'NATURAL_CAUSES_DEATH'), ('INTERGOVERNMENTAL_ORGANISATION', 'NATURAL_EVENT'), ('INTERGOVERNMENTAL_ORGANISATION', 'POLITICAL_VIOLENCE'), ('INTERGOVERNMENTAL_ORGANISATION', 'POLLUTION'), ('INTERGOVERNMENTAL_ORGANISATION', 'QUANTITY_EXACT'), ('INTERGOVERNMENTAL_ORGANISATION', 'QUANTITY_FUZZY'), ('INTERGOVERNMENTAL_ORGANISATION', 'QUANTITY_MAX'), ('INTERGOVERNMENTAL_ORGANISATION', 'QUANTITY_MIN'), ('INTERGOVERNMENTAL_ORGANISATION', 'RIOT'), ('INTERGOVERNMENTAL_ORGANISATION', 'STRIKE'), ('INTERGOVERNMENTAL_ORGANISATION', 'SUICIDE'), ('INTERGOVERNMENTAL_ORGANISATION', 'TERRORIST_OR_CRIMINAL'), ('INTERGOVERNMENTAL_ORGANISATION', 'THEFT'), ('INTERGOVERNMENTAL_ORGANISATION', 'TIME_EXACT'), ('INTERGOVERNMENTAL_ORGANISATION', 'TIME_FUZZY'), ('INTERGOVERNMENTAL_ORGANISATION', 'TIME_MAX'), ('INTERGOVERNMENTAL_ORGANISATION', 'TIME_MIN'), ('INTERGOVERNMENTAL_ORGANISATION', 'TRAFFICKING'), ('INTERGOVERNMENTAL_ORGANISATION', 'WEIGHT'), ('INTERGOVERNMENTAL_ORGANISATION', 'WIDTH'), ('LASTNAME', 'ACCIDENT'), ('LASTNAME', 'AGITATING_TROUBLE_MAKING'), ('LASTNAME', 'BOMBING'), ('LASTNAME', 'CATEGORY'), ('LASTNAME', 'CBRN_EVENT'), ('LASTNAME', 'CIVILIAN'), ('LASTNAME', 'CIVIL_WAR_OUTBREAK'), ('LASTNAME', 'COLOR'), ('LASTNAME', 'COUP_D_ETAT'), ('LASTNAME', 'CRIMINAL_ARREST'), ('LASTNAME', 'DEMONSTRATION'), ('LASTNAME', 'DRUG_OPERATION'), ('LASTNAME', 'ECONOMICAL_CRISIS'), ('LASTNAME', 'ELECTION'), ('LASTNAME', 'EPIDEMIC'), ('LASTNAME', 'FIRE'), ('LASTNAME', 'FIRSTNAME'), ('LASTNAME', 'GATHERING'), ('LASTNAME', 'GROUP_OF_INDIVIDUALS'), ('LASTNAME', 'HEIGHT'), ('LASTNAME', 'HOOLIGANISM_TROUBLEMAKING'), ('LASTNAME', 'ILLEGAL_CIVIL_DEMONSTRATION'), ('LASTNAME', 'INTERGOVERNMENTAL_ORGANISATION'), ('LASTNAME', 'LASTNAME'), ('LASTNAME', 'LATITUDE'), ('LASTNAME', 'LENGTH'), ('LASTNAME', 'LONGITUDE'), ('LASTNAME', 'MATERIAL_REFERENCE'), ('LASTNAME', 'MATERIEL'), ('LASTNAME', 'MILITARY'), ('LASTNAME', 'MILITARY_ORGANISATION'), ('LASTNAME', 'NATIONALITY'), ('LASTNAME', 'NATURAL_CAUSES_DEATH'), ('LASTNAME', 'NATURAL_EVENT'), ('LASTNAME', 'NON_GOVERNMENTAL_ORGANISATION'), ('LASTNAME', 'NON_MILITARY_GOVERNMENT_ORGANISATION'), ('LASTNAME', 'PLACE'), ('LASTNAME', 'POLITICAL_VIOLENCE'), ('LASTNAME', 'POLLUTION'), ('LASTNAME', 'QUANTITY_EXACT'), ('LASTNAME', 'QUANTITY_FUZZY'), ('LASTNAME', 'QUANTITY_MAX'), ('LASTNAME', 'QUANTITY_MIN'), ('LASTNAME', 'RIOT'), ('LASTNAME', 'STRIKE'), ('LASTNAME', 'SUICIDE'), ('LASTNAME', 'TERRORIST_OR_CRIMINAL'), ('LASTNAME', 'THEFT'), ('LASTNAME', 'TIME_EXACT'), ('LASTNAME', 'TIME_FUZZY'), ('LASTNAME', 'TIME_MAX'), ('LASTNAME', 'TIME_MIN'), ('LASTNAME', 'TRAFFICKING'), ('LASTNAME', 'WEIGHT'), ('LASTNAME', 'WIDTH'), ('LATITUDE', 'ACCIDENT'), ('LATITUDE', 'AGITATING_TROUBLE_MAKING'), ('LATITUDE', 'BOMBING'), ('LATITUDE', 'CATEGORY'), ('LATITUDE', 'CBRN_EVENT'), ('LATITUDE', 'CIVILIAN'), ('LATITUDE', 'CIVIL_WAR_OUTBREAK'), ('LATITUDE', 'COLOR'), ('LATITUDE', 'COUP_D_ETAT'), ('LATITUDE', 'CRIMINAL_ARREST'), ('LATITUDE', 'DEMONSTRATION'), ('LATITUDE', 'DRUG_OPERATION'), ('LATITUDE', 'ECONOMICAL_CRISIS'), ('LATITUDE', 'ELECTION'), ('LATITUDE', 'EPIDEMIC'), ('LATITUDE', 'FIRE'), ('LATITUDE', 'FIRSTNAME'), ('LATITUDE', 'GATHERING'), ('LATITUDE', 'GROUP_OF_INDIVIDUALS'), ('LATITUDE', 'HEIGHT'), ('LATITUDE', 'HOOLIGANISM_TROUBLEMAKING'), ('LATITUDE', 'ILLEGAL_CIVIL_DEMONSTRATION'), ('LATITUDE', 'INTERGOVERNMENTAL_ORGANISATION'), ('LATITUDE', 'LASTNAME'), ('LATITUDE', 'LATITUDE'), ('LATITUDE', 'LENGTH'), ('LATITUDE', 'LONGITUDE'), ('LATITUDE', 'MATERIAL_REFERENCE'), ('LATITUDE', 'MATERIEL'), ('LATITUDE', 'MILITARY'), ('LATITUDE', 'MILITARY_ORGANISATION'), ('LATITUDE', 'NATIONALITY'), ('LATITUDE', 'NATURAL_CAUSES_DEATH'), ('LATITUDE', 'NATURAL_EVENT'), ('LATITUDE', 'NON_GOVERNMENTAL_ORGANISATION'), ('LATITUDE', 'NON_MILITARY_GOVERNMENT_ORGANISATION'), ('LATITUDE', 'PLACE'), ('LATITUDE', 'POLITICAL_VIOLENCE'), ('LATITUDE', 'POLLUTION'), ('LATITUDE', 'QUANTITY_EXACT'), ('LATITUDE', 'QUANTITY_FUZZY'), ('LATITUDE', 'QUANTITY_MAX'), ('LATITUDE', 'QUANTITY_MIN'), ('LATITUDE', 'RIOT'), ('LATITUDE', 'STRIKE'), ('LATITUDE', 'SUICIDE'), ('LATITUDE', 'TERRORIST_OR_CRIMINAL'), ('LATITUDE', 'THEFT'), ('LATITUDE', 'TIME_EXACT'), ('LATITUDE', 'TIME_FUZZY'), ('LATITUDE', 'TIME_MAX'), ('LATITUDE', 'TIME_MIN'), ('LATITUDE', 'TRAFFICKING'), ('LATITUDE', 'WEIGHT'), ('LATITUDE', 'WIDTH'), ('LENGTH', 'ACCIDENT'), ('LENGTH', 'AGITATING_TROUBLE_MAKING'), ('LENGTH', 'BOMBING'), ('LENGTH', 'CATEGORY'), ('LENGTH', 'CBRN_EVENT'), ('LENGTH', 'CIVILIAN'), ('LENGTH', 'CIVIL_WAR_OUTBREAK'), ('LENGTH', 'COLOR'), ('LENGTH', 'COUP_D_ETAT'), ('LENGTH', 'CRIMINAL_ARREST'), ('LENGTH', 'DEMONSTRATION'), ('LENGTH', 'DRUG_OPERATION'), ('LENGTH', 'ECONOMICAL_CRISIS'), ('LENGTH', 'ELECTION'), ('LENGTH', 'EPIDEMIC'), ('LENGTH', 'FIRE'), ('LENGTH', 'FIRSTNAME'), ('LENGTH', 'GATHERING'), ('LENGTH', 'GROUP_OF_INDIVIDUALS'), ('LENGTH', 'HEIGHT'), ('LENGTH', 'HOOLIGANISM_TROUBLEMAKING'), ('LENGTH', 'ILLEGAL_CIVIL_DEMONSTRATION'), ('LENGTH', 'INTERGOVERNMENTAL_ORGANISATION'), ('LENGTH', 'LASTNAME'), ('LENGTH', 'LATITUDE'), ('LENGTH', 'LENGTH'), ('LENGTH', 'LONGITUDE'), ('LENGTH', 'MATERIAL_REFERENCE'), ('LENGTH', 'MATERIEL'), ('LENGTH', 'MILITARY'), ('LENGTH', 'MILITARY_ORGANISATION'), ('LENGTH', 'NATIONALITY'), ('LENGTH', 'NATURAL_CAUSES_DEATH'), ('LENGTH', 'NATURAL_EVENT'), ('LENGTH', 'NON_GOVERNMENTAL_ORGANISATION'), ('LENGTH', 'NON_MILITARY_GOVERNMENT_ORGANISATION'), ('LENGTH', 'PLACE'), ('LENGTH', 'POLITICAL_VIOLENCE'), ('LENGTH', 'POLLUTION'), ('LENGTH', 'QUANTITY_EXACT'), ('LENGTH', 'QUANTITY_FUZZY'), ('LENGTH', 'QUANTITY_MAX'), ('LENGTH', 'QUANTITY_MIN'), ('LENGTH', 'RIOT'), ('LENGTH', 'STRIKE'), ('LENGTH', 'SUICIDE'), ('LENGTH', 'TERRORIST_OR_CRIMINAL'), ('LENGTH', 'THEFT'), ('LENGTH', 'TIME_EXACT'), ('LENGTH', 'TIME_FUZZY'), ('LENGTH', 'TIME_MAX'), ('LENGTH', 'TIME_MIN'), ('LENGTH', 'TRAFFICKING'), ('LENGTH', 'WEIGHT'), ('LENGTH', 'WIDTH'), ('LONGITUDE', 'ACCIDENT'), ('LONGITUDE', 'AGITATING_TROUBLE_MAKING'), ('LONGITUDE', 'BOMBING'), ('LONGITUDE', 'CATEGORY'), ('LONGITUDE', 'CBRN_EVENT'), ('LONGITUDE', 'CIVILIAN'), ('LONGITUDE', 'CIVIL_WAR_OUTBREAK'), ('LONGITUDE', 'COLOR'), ('LONGITUDE', 'COUP_D_ETAT'), ('LONGITUDE', 'CRIMINAL_ARREST'), ('LONGITUDE', 'DEMONSTRATION'), ('LONGITUDE', 'DRUG_OPERATION'), ('LONGITUDE', 'ECONOMICAL_CRISIS'), ('LONGITUDE', 'ELECTION'), ('LONGITUDE', 'EPIDEMIC'), ('LONGITUDE', 'FIRE'), ('LONGITUDE', 'FIRSTNAME'), ('LONGITUDE', 'GATHERING'), ('LONGITUDE', 'GROUP_OF_INDIVIDUALS'), ('LONGITUDE', 'HEIGHT'), ('LONGITUDE', 'HOOLIGANISM_TROUBLEMAKING'), ('LONGITUDE', 'ILLEGAL_CIVIL_DEMONSTRATION'), ('LONGITUDE', 'INTERGOVERNMENTAL_ORGANISATION'), ('LONGITUDE', 'LASTNAME'), ('LONGITUDE', 'LATITUDE'), ('LONGITUDE', 'LENGTH'), ('LONGITUDE', 'LONGITUDE'), ('LONGITUDE', 'MATERIAL_REFERENCE'), ('LONGITUDE', 'MATERIEL'), ('LONGITUDE', 'MILITARY'), ('LONGITUDE', 'MILITARY_ORGANISATION'), ('LONGITUDE', 'NATIONALITY'), ('LONGITUDE', 'NATURAL_CAUSES_DEATH'), ('LONGITUDE', 'NATURAL_EVENT'), ('LONGITUDE', 'NON_GOVERNMENTAL_ORGANISATION'), ('LONGITUDE', 'NON_MILITARY_GOVERNMENT_ORGANISATION'), ('LONGITUDE', 'PLACE'), ('LONGITUDE', 'POLITICAL_VIOLENCE'), ('LONGITUDE', 'POLLUTION'), ('LONGITUDE', 'QUANTITY_EXACT'), ('LONGITUDE', 'QUANTITY_FUZZY'), ('LONGITUDE', 'QUANTITY_MAX'), ('LONGITUDE', 'QUANTITY_MIN'), ('LONGITUDE', 'RIOT'), ('LONGITUDE', 'STRIKE'), ('LONGITUDE', 'SUICIDE'), ('LONGITUDE', 'TERRORIST_OR_CRIMINAL'), ('LONGITUDE', 'THEFT'), ('LONGITUDE', 'TIME_EXACT'), ('LONGITUDE', 'TIME_FUZZY'), ('LONGITUDE', 'TIME_MAX'), ('LONGITUDE', 'TIME_MIN'), ('LONGITUDE', 'TRAFFICKING'), ('LONGITUDE', 'WEIGHT'), ('LONGITUDE', 'WIDTH'), ('MATERIAL_REFERENCE', 'ACCIDENT'), ('MATERIAL_REFERENCE', 'AGITATING_TROUBLE_MAKING'), ('MATERIAL_REFERENCE', 'BOMBING'), ('MATERIAL_REFERENCE', 'CATEGORY'), ('MATERIAL_REFERENCE', 'CBRN_EVENT'), ('MATERIAL_REFERENCE', 'CIVILIAN'), ('MATERIAL_REFERENCE', 'CIVIL_WAR_OUTBREAK'), ('MATERIAL_REFERENCE', 'COLOR'), ('MATERIAL_REFERENCE', 'COUP_D_ETAT'), ('MATERIAL_REFERENCE', 'CRIMINAL_ARREST'), ('MATERIAL_REFERENCE', 'DEMONSTRATION'), ('MATERIAL_REFERENCE', 'DRUG_OPERATION'), ('MATERIAL_REFERENCE', 'ECONOMICAL_CRISIS'), ('MATERIAL_REFERENCE', 'ELECTION'), ('MATERIAL_REFERENCE', 'EPIDEMIC'), ('MATERIAL_REFERENCE', 'FIRE'), ('MATERIAL_REFERENCE', 'FIRSTNAME'), ('MATERIAL_REFERENCE', 'GATHERING'), ('MATERIAL_REFERENCE', 'GROUP_OF_INDIVIDUALS'), ('MATERIAL_REFERENCE', 'HEIGHT'), ('MATERIAL_REFERENCE', 'HOOLIGANISM_TROUBLEMAKING'), ('MATERIAL_REFERENCE', 'ILLEGAL_CIVIL_DEMONSTRATION'), ('MATERIAL_REFERENCE', 'INTERGOVERNMENTAL_ORGANISATION'), ('MATERIAL_REFERENCE', 'LASTNAME'), ('MATERIAL_REFERENCE', 'LATITUDE'), ('MATERIAL_REFERENCE', 'LENGTH'), ('MATERIAL_REFERENCE', 'LONGITUDE'), ('MATERIAL_REFERENCE', 'MATERIAL_REFERENCE'), ('MATERIAL_REFERENCE', 'MATERIEL'), ('MATERIAL_REFERENCE', 'MILITARY'), ('MATERIAL_REFERENCE', 'MILITARY_ORGANISATION'), ('MATERIAL_REFERENCE', 'NATIONALITY'), ('MATERIAL_REFERENCE', 'NATURAL_CAUSES_DEATH'), ('MATERIAL_REFERENCE', 'NATURAL_EVENT'), ('MATERIAL_REFERENCE', 'NON_GOVERNMENTAL_ORGANISATION'), ('MATERIAL_REFERENCE', 'NON_MILITARY_GOVERNMENT_ORGANISATION'), ('MATERIAL_REFERENCE', 'PLACE'), ('MATERIAL_REFERENCE', 'POLITICAL_VIOLENCE'), ('MATERIAL_REFERENCE', 'POLLUTION'), ('MATERIAL_REFERENCE', 'QUANTITY_EXACT'), ('MATERIAL_REFERENCE', 'QUANTITY_FUZZY'), ('MATERIAL_REFERENCE', 'QUANTITY_MAX'), ('MATERIAL_REFERENCE', 'QUANTITY_MIN'), ('MATERIAL_REFERENCE', 'RIOT'), ('MATERIAL_REFERENCE', 'STRIKE'), ('MATERIAL_REFERENCE', 'SUICIDE'), ('MATERIAL_REFERENCE', 'TERRORIST_OR_CRIMINAL'), ('MATERIAL_REFERENCE', 'THEFT'), ('MATERIAL_REFERENCE', 'TIME_EXACT'), ('MATERIAL_REFERENCE', 'TIME_FUZZY'), ('MATERIAL_REFERENCE', 'TIME_MAX'), ('MATERIAL_REFERENCE', 'TIME_MIN'), ('MATERIAL_REFERENCE', 'TRAFFICKING'), ('MATERIAL_REFERENCE', 'WEIGHT'), ('MATERIAL_REFERENCE', 'WIDTH'), ('MATERIEL', 'ACCIDENT'), ('MATERIEL', 'AGITATING_TROUBLE_MAKING'), ('MATERIEL', 'BOMBING'), ('MATERIEL', 'CATEGORY'), ('MATERIEL', 'CBRN_EVENT'), ('MATERIEL', 'CIVILIAN'), ('MATERIEL', 'CIVIL_WAR_OUTBREAK'), ('MATERIEL', 'COUP_D_ETAT'), ('MATERIEL', 'CRIMINAL_ARREST'), ('MATERIEL', 'DEMONSTRATION'), ('MATERIEL', 'DRUG_OPERATION'), ('MATERIEL', 'ECONOMICAL_CRISIS'), ('MATERIEL', 'ELECTION'), ('MATERIEL', 'EPIDEMIC'), ('MATERIEL', 'FIRE'), ('MATERIEL', 'FIRSTNAME'), ('MATERIEL', 'GATHERING'), ('MATERIEL', 'GROUP_OF_INDIVIDUALS'), ('MATERIEL', 'HOOLIGANISM_TROUBLEMAKING'), ('MATERIEL', 'ILLEGAL_CIVIL_DEMONSTRATION'), ('MATERIEL', 'INTERGOVERNMENTAL_ORGANISATION'), ('MATERIEL', 'LASTNAME'), ('MATERIEL', 'LATITUDE'), ('MATERIEL', 'LONGITUDE'), ('MATERIEL', 'MATERIEL'), ('MATERIEL', 'MILITARY'), ('MATERIEL', 'MILITARY_ORGANISATION'), ('MATERIEL', 'NATIONALITY'), ('MATERIEL', 'NATURAL_CAUSES_DEATH'), ('MATERIEL', 'NATURAL_EVENT'), ('MATERIEL', 'NON_GOVERNMENTAL_ORGANISATION'), ('MATERIEL', 'NON_MILITARY_GOVERNMENT_ORGANISATION'), ('MATERIEL', 'PLACE'), ('MATERIEL', 'POLITICAL_VIOLENCE'), ('MATERIEL', 'POLLUTION'), ('MATERIEL', 'QUANTITY_MAX'), ('MATERIEL', 'RIOT'), ('MATERIEL', 'STRIKE'), ('MATERIEL', 'SUICIDE'), ('MATERIEL', 'TERRORIST_OR_CRIMINAL'), ('MATERIEL', 'THEFT'), ('MATERIEL', 'TIME_MAX'), ('MATERIEL', 'TRAFFICKING'), ('MILITARY', 'ACCIDENT'), ('MILITARY', 'AGITATING_TROUBLE_MAKING'), ('MILITARY', 'BOMBING'), ('MILITARY', 'CBRN_EVENT'), ('MILITARY', 'COLOR'), ('MILITARY', 'DEMONSTRATION'), ('MILITARY', 'DRUG_OPERATION'), ('MILITARY', 'ECONOMICAL_CRISIS'), ('MILITARY', 'ELECTION'), ('MILITARY', 'EPIDEMIC'), ('MILITARY', 'FIRE'), ('MILITARY', 'FIRSTNAME'), ('MILITARY', 'GATHERING'), ('MILITARY', 'HEIGHT'), ('MILITARY', 'HOOLIGANISM_TROUBLEMAKING'), ('MILITARY', 'ILLEGAL_CIVIL_DEMONSTRATION'), ('MILITARY', 'INTERGOVERNMENTAL_ORGANISATION'), ('MILITARY', 'LASTNAME'), ('MILITARY', 'LATITUDE'), ('MILITARY', 'LENGTH'), ('MILITARY', 'LONGITUDE'), ('MILITARY', 'MATERIAL_REFERENCE'), ('MILITARY', 'NATURAL_CAUSES_DEATH'), ('MILITARY', 'NATURAL_EVENT'), ('MILITARY', 'POLITICAL_VIOLENCE'), ('MILITARY', 'POLLUTION'), ('MILITARY', 'QUANTITY_EXACT'), ('MILITARY', 'QUANTITY_FUZZY'), ('MILITARY', 'QUANTITY_MAX'), ('MILITARY', 'QUANTITY_MIN'), ('MILITARY', 'RIOT'), ('MILITARY', 'STRIKE'), ('MILITARY', 'SUICIDE'), ('MILITARY', 'THEFT'), ('MILITARY', 'TIME_EXACT'), ('MILITARY', 'TIME_FUZZY'), ('MILITARY', 'TIME_MAX'), ('MILITARY', 'TIME_MIN'), ('MILITARY', 'TRAFFICKING'), ('MILITARY', 'WEIGHT'), ('MILITARY', 'WIDTH'), ('MILITARY_ORGANISATION', 'ACCIDENT'), ('MILITARY_ORGANISATION', 'AGITATING_TROUBLE_MAKING'), ('MILITARY_ORGANISATION', 'CATEGORY'), ('MILITARY_ORGANISATION', 'CBRN_EVENT'), ('MILITARY_ORGANISATION', 'CIVIL_WAR_OUTBREAK'), ('MILITARY_ORGANISATION', 'COLOR'), ('MILITARY_ORGANISATION', 'COUP_D_ETAT'), ('MILITARY_ORGANISATION', 'DEMONSTRATION'), ('MILITARY_ORGANISATION', 'DRUG_OPERATION'), ('MILITARY_ORGANISATION', 'ECONOMICAL_CRISIS'), ('MILITARY_ORGANISATION', 'ELECTION'), ('MILITARY_ORGANISATION', 'EPIDEMIC'), ('MILITARY_ORGANISATION', 'FIRE'), ('MILITARY_ORGANISATION', 'FIRSTNAME'), ('MILITARY_ORGANISATION', 'HEIGHT'), ('MILITARY_ORGANISATION', 'HOOLIGANISM_TROUBLEMAKING'), ('MILITARY_ORGANISATION', 'ILLEGAL_CIVIL_DEMONSTRATION'), ('MILITARY_ORGANISATION', 'LASTNAME'), ('MILITARY_ORGANISATION', 'LATITUDE'), ('MILITARY_ORGANISATION', 'LENGTH'), ('MILITARY_ORGANISATION', 'LONGITUDE'), ('MILITARY_ORGANISATION', 'MATERIAL_REFERENCE'), ('MILITARY_ORGANISATION', 'NATURAL_CAUSES_DEATH'), ('MILITARY_ORGANISATION', 'NATURAL_EVENT'), ('MILITARY_ORGANISATION', 'POLLUTION'), ('MILITARY_ORGANISATION', 'QUANTITY_EXACT'), ('MILITARY_ORGANISATION', 'QUANTITY_FUZZY'), ('MILITARY_ORGANISATION', 'QUANTITY_MAX'), ('MILITARY_ORGANISATION', 'QUANTITY_MIN'), ('MILITARY_ORGANISATION', 'RIOT'), ('MILITARY_ORGANISATION', 'STRIKE'), ('MILITARY_ORGANISATION', 'SUICIDE'), ('MILITARY_ORGANISATION', 'THEFT'), ('MILITARY_ORGANISATION', 'TIME_EXACT'), ('MILITARY_ORGANISATION', 'TIME_FUZZY'), ('MILITARY_ORGANISATION', 'TIME_MAX'), ('MILITARY_ORGANISATION', 'TIME_MIN'), ('MILITARY_ORGANISATION', 'TRAFFICKING'), ('MILITARY_ORGANISATION', 'WEIGHT'), ('MILITARY_ORGANISATION', 'WIDTH'), ('NATIONALITY', 'ACCIDENT'), ('NATIONALITY', 'AGITATING_TROUBLE_MAKING'), ('NATIONALITY', 'BOMBING'), ('NATIONALITY', 'CATEGORY'), ('NATIONALITY', 'CBRN_EVENT'), ('NATIONALITY', 'CIVILIAN'), ('NATIONALITY', 'CIVIL_WAR_OUTBREAK'), ('NATIONALITY', 'COLOR'), ('NATIONALITY', 'COUP_D_ETAT'), ('NATIONALITY', 'CRIMINAL_ARREST'), ('NATIONALITY', 'DEMONSTRATION'), ('NATIONALITY', 'DRUG_OPERATION'), ('NATIONALITY', 'ECONOMICAL_CRISIS'), ('NATIONALITY', 'ELECTION'), ('NATIONALITY', 'EPIDEMIC'), ('NATIONALITY', 'FIRE'), ('NATIONALITY', 'FIRSTNAME'), ('NATIONALITY', 'GATHERING'), ('NATIONALITY', 'GROUP_OF_INDIVIDUALS'), ('NATIONALITY', 'HEIGHT'), ('NATIONALITY', 'HOOLIGANISM_TROUBLEMAKING'), ('NATIONALITY', 'ILLEGAL_CIVIL_DEMONSTRATION'), ('NATIONALITY', 'INTERGOVERNMENTAL_ORGANISATION'), ('NATIONALITY', 'LASTNAME'), ('NATIONALITY', 'LATITUDE'), ('NATIONALITY', 'LENGTH'), ('NATIONALITY', 'LONGITUDE'), ('NATIONALITY', 'MATERIAL_REFERENCE'), ('NATIONALITY', 'MATERIEL'), ('NATIONALITY', 'MILITARY'), ('NATIONALITY', 'MILITARY_ORGANISATION'), ('NATIONALITY', 'NATIONALITY'), ('NATIONALITY', 'NATURAL_CAUSES_DEATH'), ('NATIONALITY', 'NATURAL_EVENT'), ('NATIONALITY', 'NON_GOVERNMENTAL_ORGANISATION'), ('NATIONALITY', 'NON_MILITARY_GOVERNMENT_ORGANISATION'), ('NATIONALITY', 'PLACE'), ('NATIONALITY', 'POLITICAL_VIOLENCE'), ('NATIONALITY', 'POLLUTION'), ('NATIONALITY', 'QUANTITY_EXACT'), ('NATIONALITY', 'QUANTITY_FUZZY'), ('NATIONALITY', 'QUANTITY_MAX'), ('NATIONALITY', 'QUANTITY_MIN'), ('NATIONALITY', 'RIOT'), ('NATIONALITY', 'STRIKE'), ('NATIONALITY', 'SUICIDE'), ('NATIONALITY', 'TERRORIST_OR_CRIMINAL'), ('NATIONALITY', 'THEFT'), ('NATIONALITY', 'TIME_EXACT'), ('NATIONALITY', 'TIME_FUZZY'), ('NATIONALITY', 'TIME_MAX'), ('NATIONALITY', 'TIME_MIN'), ('NATIONALITY', 'TRAFFICKING'), ('NATIONALITY', 'WEIGHT'), ('NATIONALITY', 'WIDTH'), ('NATURAL_CAUSES_DEATH', 'AGITATING_TROUBLE_MAKING'), ('NATURAL_CAUSES_DEATH', 'BOMBING'), ('NATURAL_CAUSES_DEATH', 'CATEGORY'), ('NATURAL_CAUSES_DEATH', 'CBRN_EVENT'), ('NATURAL_CAUSES_DEATH', 'CIVILIAN'), ('NATURAL_CAUSES_DEATH', 'CIVIL_WAR_OUTBREAK'), ('NATURAL_CAUSES_DEATH', 'COLOR'), ('NATURAL_CAUSES_DEATH', 'COUP_D_ETAT'), ('NATURAL_CAUSES_DEATH', 'CRIMINAL_ARREST'), ('NATURAL_CAUSES_DEATH', 'DEMONSTRATION'), ('NATURAL_CAUSES_DEATH', 'DRUG_OPERATION'), ('NATURAL_CAUSES_DEATH', 'ECONOMICAL_CRISIS'), ('NATURAL_CAUSES_DEATH', 'ELECTION'), ('NATURAL_CAUSES_DEATH', 'EPIDEMIC'), ('NATURAL_CAUSES_DEATH', 'FIRE'), ('NATURAL_CAUSES_DEATH', 'FIRSTNAME'), ('NATURAL_CAUSES_DEATH', 'GROUP_OF_INDIVIDUALS'), ('NATURAL_CAUSES_DEATH', 'HEIGHT'), ('NATURAL_CAUSES_DEATH', 'HOOLIGANISM_TROUBLEMAKING'), ('NATURAL_CAUSES_DEATH', 'ILLEGAL_CIVIL_DEMONSTRATION'), ('NATURAL_CAUSES_DEATH', 'INTERGOVERNMENTAL_ORGANISATION'), ('NATURAL_CAUSES_DEATH', 'LASTNAME'), ('NATURAL_CAUSES_DEATH', 'LATITUDE'), ('NATURAL_CAUSES_DEATH', 'LENGTH'), ('NATURAL_CAUSES_DEATH', 'LONGITUDE'), ('NATURAL_CAUSES_DEATH', 'MATERIAL_REFERENCE'), ('NATURAL_CAUSES_DEATH', 'MATERIEL'), ('NATURAL_CAUSES_DEATH', 'MILITARY'), ('NATURAL_CAUSES_DEATH', 'MILITARY_ORGANISATION'), ('NATURAL_CAUSES_DEATH', 'NATIONALITY'), ('NATURAL_CAUSES_DEATH', 'NATURAL_CAUSES_DEATH'), ('NATURAL_CAUSES_DEATH', 'NATURAL_EVENT'), ('NATURAL_CAUSES_DEATH', 'NON_GOVERNMENTAL_ORGANISATION'), ('NATURAL_CAUSES_DEATH', 'NON_MILITARY_GOVERNMENT_ORGANISATION'), ('NATURAL_CAUSES_DEATH', 'POLITICAL_VIOLENCE'), ('NATURAL_CAUSES_DEATH', 'POLLUTION'), ('NATURAL_CAUSES_DEATH', 'QUANTITY_EXACT'), ('NATURAL_CAUSES_DEATH', 'QUANTITY_FUZZY'), ('NATURAL_CAUSES_DEATH', 'QUANTITY_MAX'), ('NATURAL_CAUSES_DEATH', 'QUANTITY_MIN'), ('NATURAL_CAUSES_DEATH', 'RIOT'), ('NATURAL_CAUSES_DEATH', 'STRIKE'), ('NATURAL_CAUSES_DEATH', 'SUICIDE'), ('NATURAL_CAUSES_DEATH', 'TERRORIST_OR_CRIMINAL'), ('NATURAL_CAUSES_DEATH', 'THEFT'), ('NATURAL_CAUSES_DEATH', 'TIME_MAX'), ('NATURAL_CAUSES_DEATH', 'TRAFFICKING'), ('NATURAL_CAUSES_DEATH', 'WEIGHT'), ('NATURAL_CAUSES_DEATH', 'WIDTH'), ('NATURAL_EVENT', 'AGITATING_TROUBLE_MAKING'), ('NATURAL_EVENT', 'BOMBING'), ('NATURAL_EVENT', 'CATEGORY'), ('NATURAL_EVENT', 'CIVILIAN'), ('NATURAL_EVENT', 'CIVIL_WAR_OUTBREAK'), ('NATURAL_EVENT', 'COLOR'), ('NATURAL_EVENT', 'COUP_D_ETAT'), ('NATURAL_EVENT', 'CRIMINAL_ARREST'), ('NATURAL_EVENT', 'DEMONSTRATION'), ('NATURAL_EVENT', 'DRUG_OPERATION'), ('NATURAL_EVENT', 'ECONOMICAL_CRISIS'), ('NATURAL_EVENT', 'ELECTION'), ('NATURAL_EVENT', 'EPIDEMIC'), ('NATURAL_EVENT', 'FIRSTNAME'), ('NATURAL_EVENT', 'GATHERING'), ('NATURAL_EVENT', 'GROUP_OF_INDIVIDUALS'), ('NATURAL_EVENT', 'HEIGHT'), ('NATURAL_EVENT', 'HOOLIGANISM_TROUBLEMAKING'), ('NATURAL_EVENT', 'ILLEGAL_CIVIL_DEMONSTRATION'), ('NATURAL_EVENT', 'INTERGOVERNMENTAL_ORGANISATION'), ('NATURAL_EVENT', 'LASTNAME'), ('NATURAL_EVENT', 'LATITUDE'), ('NATURAL_EVENT', 'LENGTH'), ('NATURAL_EVENT', 'LONGITUDE'), ('NATURAL_EVENT', 'MATERIAL_REFERENCE'), ('NATURAL_EVENT', 'MATERIEL'), ('NATURAL_EVENT', 'MILITARY'), ('NATURAL_EVENT', 'MILITARY_ORGANISATION'), ('NATURAL_EVENT', 'NATIONALITY'), ('NATURAL_EVENT', 'NON_GOVERNMENTAL_ORGANISATION'), ('NATURAL_EVENT', 'NON_MILITARY_GOVERNMENT_ORGANISATION'), ('NATURAL_EVENT', 'POLITICAL_VIOLENCE'), ('NATURAL_EVENT', 'POLLUTION'), ('NATURAL_EVENT', 'QUANTITY_MAX'), ('NATURAL_EVENT', 'QUANTITY_MIN'), ('NATURAL_EVENT', 'RIOT'), ('NATURAL_EVENT', 'STRIKE'), ('NATURAL_EVENT', 'SUICIDE'), ('NATURAL_EVENT', 'TERRORIST_OR_CRIMINAL'), ('NATURAL_EVENT', 'TRAFFICKING'), ('NATURAL_EVENT', 'WEIGHT'), ('NATURAL_EVENT', 'WIDTH'), ('NON_GOVERNMENTAL_ORGANISATION', 'ACCIDENT'), ('NON_GOVERNMENTAL_ORGANISATION', 'CATEGORY'), ('NON_GOVERNMENTAL_ORGANISATION', 'CIVIL_WAR_OUTBREAK'), ('NON_GOVERNMENTAL_ORGANISATION', 'COLOR'), ('NON_GOVERNMENTAL_ORGANISATION', 'CRIMINAL_ARREST'), ('NON_GOVERNMENTAL_ORGANISATION', 'ECONOMICAL_CRISIS'), ('NON_GOVERNMENTAL_ORGANISATION', 'ELECTION'), ('NON_GOVERNMENTAL_ORGANISATION', 'EPIDEMIC'), ('NON_GOVERNMENTAL_ORGANISATION', 'FIRSTNAME'), ('NON_GOVERNMENTAL_ORGANISATION', 'HEIGHT'), ('NON_GOVERNMENTAL_ORGANISATION', 'HOOLIGANISM_TROUBLEMAKING'), ('NON_GOVERNMENTAL_ORGANISATION', 'LASTNAME'), ('NON_GOVERNMENTAL_ORGANISATION', 'LATITUDE'), ('NON_GOVERNMENTAL_ORGANISATION', 'LENGTH'), ('NON_GOVERNMENTAL_ORGANISATION', 'LONGITUDE'), ('NON_GOVERNMENTAL_ORGANISATION', 'MATERIAL_REFERENCE'), ('NON_GOVERNMENTAL_ORGANISATION', 'NATURAL_CAUSES_DEATH'), ('NON_GOVERNMENTAL_ORGANISATION', 'NATURAL_EVENT'), ('NON_GOVERNMENTAL_ORGANISATION', 'POLITICAL_VIOLENCE'), ('NON_GOVERNMENTAL_ORGANISATION', 'QUANTITY_MAX'), ('NON_GOVERNMENTAL_ORGANISATION', 'QUANTITY_MIN'), ('NON_GOVERNMENTAL_ORGANISATION', 'RIOT'), ('NON_GOVERNMENTAL_ORGANISATION', 'SUICIDE'), ('NON_GOVERNMENTAL_ORGANISATION', 'TIME_MAX'), ('NON_GOVERNMENTAL_ORGANISATION', 'TIME_MIN'), ('NON_GOVERNMENTAL_ORGANISATION', 'WEIGHT'), ('NON_GOVERNMENTAL_ORGANISATION', 'WIDTH'), ('NON_MILITARY_GOVERNMENT_ORGANISATION', 'ACCIDENT'), ('NON_MILITARY_GOVERNMENT_ORGANISATION', 'BOMBING'), ('NON_MILITARY_GOVERNMENT_ORGANISATION', 'CATEGORY'), ('NON_MILITARY_GOVERNMENT_ORGANISATION', 'CBRN_EVENT'), ('NON_MILITARY_GOVERNMENT_ORGANISATION', 'COLOR'), ('NON_MILITARY_GOVERNMENT_ORGANISATION', 'COUP_D_ETAT'), ('NON_MILITARY_GOVERNMENT_ORGANISATION', 'DRUG_OPERATION'), ('NON_MILITARY_GOVERNMENT_ORGANISATION', 'ELECTION'), ('NON_MILITARY_GOVERNMENT_ORGANISATION', 'EPIDEMIC'), ('NON_MILITARY_GOVERNMENT_ORGANISATION', 'FIRE'), ('NON_MILITARY_GOVERNMENT_ORGANISATION', 'FIRSTNAME'), ('NON_MILITARY_GOVERNMENT_ORGANISATION', 'HEIGHT'), ('NON_MILITARY_GOVERNMENT_ORGANISATION', 'HOOLIGANISM_TROUBLEMAKING'), ('NON_MILITARY_GOVERNMENT_ORGANISATION', 'ILLEGAL_CIVIL_DEMONSTRATION'), ('NON_MILITARY_GOVERNMENT_ORGANISATION', 'LASTNAME'), ('NON_MILITARY_GOVERNMENT_ORGANISATION', 'LATITUDE'), ('NON_MILITARY_GOVERNMENT_ORGANISATION', 'LENGTH'), ('NON_MILITARY_GOVERNMENT_ORGANISATION', 'LONGITUDE'), ('NON_MILITARY_GOVERNMENT_ORGANISATION', 'MATERIAL_REFERENCE'), ('NON_MILITARY_GOVERNMENT_ORGANISATION', 'NATURAL_CAUSES_DEATH'), ('NON_MILITARY_GOVERNMENT_ORGANISATION', 'NATURAL_EVENT'), ('NON_MILITARY_GOVERNMENT_ORGANISATION', 'POLLUTION'), ('NON_MILITARY_GOVERNMENT_ORGANISATION', 'QUANTITY_EXACT'), ('NON_MILITARY_GOVERNMENT_ORGANISATION', 'QUANTITY_MAX'), ('NON_MILITARY_GOVERNMENT_ORGANISATION', 'STRIKE'), ('NON_MILITARY_GOVERNMENT_ORGANISATION', 'SUICIDE'), ('NON_MILITARY_GOVERNMENT_ORGANISATION', 'THEFT'), ('NON_MILITARY_GOVERNMENT_ORGANISATION', 'TIME_FUZZY'), ('NON_MILITARY_GOVERNMENT_ORGANISATION', 'TIME_MAX'), ('NON_MILITARY_GOVERNMENT_ORGANISATION', 'TIME_MIN'), ('NON_MILITARY_GOVERNMENT_ORGANISATION', 'TRAFFICKING'), ('NON_MILITARY_GOVERNMENT_ORGANISATION', 'WEIGHT'), ('NON_MILITARY_GOVERNMENT_ORGANISATION', 'WIDTH'), ('PLACE', 'ACCIDENT'), ('PLACE', 'AGITATING_TROUBLE_MAKING'), ('PLACE', 'BOMBING'), ('PLACE', 'CATEGORY'), ('PLACE', 'CBRN_EVENT'), ('PLACE', 'CIVILIAN'), ('PLACE', 'CIVIL_WAR_OUTBREAK'), ('PLACE', 'COLOR'), ('PLACE', 'COUP_D_ETAT'), ('PLACE', 'CRIMINAL_ARREST'), ('PLACE', 'DEMONSTRATION'), ('PLACE', 'DRUG_OPERATION'), ('PLACE', 'ECONOMICAL_CRISIS'), ('PLACE', 'ELECTION'), ('PLACE', 'EPIDEMIC'), ('PLACE', 'FIRE'), ('PLACE', 'FIRSTNAME'), ('PLACE', 'GATHERING'), ('PLACE', 'GROUP_OF_INDIVIDUALS'), ('PLACE', 'HEIGHT'), ('PLACE', 'HOOLIGANISM_TROUBLEMAKING'), ('PLACE', 'ILLEGAL_CIVIL_DEMONSTRATION'), ('PLACE', 'INTERGOVERNMENTAL_ORGANISATION'), ('PLACE', 'LASTNAME'), ('PLACE', 'LENGTH'), ('PLACE', 'MATERIAL_REFERENCE'), ('PLACE', 'MILITARY'), ('PLACE', 'MILITARY_ORGANISATION'), ('PLACE', 'NATURAL_CAUSES_DEATH'), ('PLACE', 'NATURAL_EVENT'), ('PLACE', 'NON_GOVERNMENTAL_ORGANISATION'), ('PLACE', 'NON_MILITARY_GOVERNMENT_ORGANISATION'), ('PLACE', 'POLITICAL_VIOLENCE'), ('PLACE', 'POLLUTION'), ('PLACE', 'QUANTITY_EXACT'), ('PLACE', 'QUANTITY_FUZZY'), ('PLACE', 'QUANTITY_MAX'), ('PLACE', 'QUANTITY_MIN'), ('PLACE', 'RIOT'), ('PLACE', 'STRIKE'), ('PLACE', 'SUICIDE'), ('PLACE', 'TERRORIST_OR_CRIMINAL'), ('PLACE', 'THEFT'), ('PLACE', 'TIME_EXACT'), ('PLACE', 'TIME_FUZZY'), ('PLACE', 'TIME_MAX'), ('PLACE', 'TIME_MIN'), ('PLACE', 'TRAFFICKING'), ('PLACE', 'WEIGHT'), ('PLACE', 'WIDTH'), ('POLITICAL_VIOLENCE', 'ACCIDENT'), ('POLITICAL_VIOLENCE', 'AGITATING_TROUBLE_MAKING'), ('POLITICAL_VIOLENCE', 'BOMBING'), ('POLITICAL_VIOLENCE', 'CATEGORY'), ('POLITICAL_VIOLENCE', 'CBRN_EVENT'), ('POLITICAL_VIOLENCE', 'CIVILIAN'), ('POLITICAL_VIOLENCE', 'CIVIL_WAR_OUTBREAK'), ('POLITICAL_VIOLENCE', 'COLOR'), ('POLITICAL_VIOLENCE', 'COUP_D_ETAT'), ('POLITICAL_VIOLENCE', 'DRUG_OPERATION'), ('POLITICAL_VIOLENCE', 'ECONOMICAL_CRISIS'), ('POLITICAL_VIOLENCE', 'ELECTION'), ('POLITICAL_VIOLENCE', 'EPIDEMIC'), ('POLITICAL_VIOLENCE', 'FIRSTNAME'), ('POLITICAL_VIOLENCE', 'GATHERING'), ('POLITICAL_VIOLENCE', 'GROUP_OF_INDIVIDUALS'), ('POLITICAL_VIOLENCE', 'HEIGHT'), ('POLITICAL_VIOLENCE', 'HOOLIGANISM_TROUBLEMAKING'), ('POLITICAL_VIOLENCE', 'ILLEGAL_CIVIL_DEMONSTRATION'), ('POLITICAL_VIOLENCE', 'INTERGOVERNMENTAL_ORGANISATION'), ('POLITICAL_VIOLENCE', 'LASTNAME'), ('POLITICAL_VIOLENCE', 'LATITUDE'), ('POLITICAL_VIOLENCE', 'LENGTH'), ('POLITICAL_VIOLENCE', 'LONGITUDE'), ('POLITICAL_VIOLENCE', 'MATERIAL_REFERENCE'), ('POLITICAL_VIOLENCE', 'MATERIEL'), ('POLITICAL_VIOLENCE', 'MILITARY'), ('POLITICAL_VIOLENCE', 'MILITARY_ORGANISATION'), ('POLITICAL_VIOLENCE', 'NATIONALITY'), ('POLITICAL_VIOLENCE', 'NATURAL_CAUSES_DEATH'), ('POLITICAL_VIOLENCE', 'NATURAL_EVENT'), ('POLITICAL_VIOLENCE', 'NON_GOVERNMENTAL_ORGANISATION'), ('POLITICAL_VIOLENCE', 'NON_MILITARY_GOVERNMENT_ORGANISATION'), ('POLITICAL_VIOLENCE', 'POLLUTION'), ('POLITICAL_VIOLENCE', 'QUANTITY_EXACT'), ('POLITICAL_VIOLENCE', 'QUANTITY_MAX'), ('POLITICAL_VIOLENCE', 'QUANTITY_MIN'), ('POLITICAL_VIOLENCE', 'RIOT'), ('POLITICAL_VIOLENCE', 'STRIKE'), ('POLITICAL_VIOLENCE', 'SUICIDE'), ('POLITICAL_VIOLENCE', 'TERRORIST_OR_CRIMINAL'), ('POLITICAL_VIOLENCE', 'TIME_MAX'), ('POLITICAL_VIOLENCE', 'TRAFFICKING'), ('POLITICAL_VIOLENCE', 'WEIGHT'), ('POLITICAL_VIOLENCE', 'WIDTH'), ('POLLUTION', 'AGITATING_TROUBLE_MAKING'), ('POLLUTION', 'BOMBING'), ('POLLUTION', 'CATEGORY'), ('POLLUTION', 'CBRN_EVENT'), ('POLLUTION', 'CIVILIAN'), ('POLLUTION', 'CIVIL_WAR_OUTBREAK'), ('POLLUTION', 'COLOR'), ('POLLUTION', 'COUP_D_ETAT'), ('POLLUTION', 'DRUG_OPERATION'), ('POLLUTION', 'ECONOMICAL_CRISIS'), ('POLLUTION', 'ELECTION'), ('POLLUTION', 'FIRE'), ('POLLUTION', 'FIRSTNAME'), ('POLLUTION', 'GROUP_OF_INDIVIDUALS'), ('POLLUTION', 'HEIGHT'), ('POLLUTION', 'HOOLIGANISM_TROUBLEMAKING'), ('POLLUTION', 'ILLEGAL_CIVIL_DEMONSTRATION'), ('POLLUTION', 'INTERGOVERNMENTAL_ORGANISATION'), ('POLLUTION', 'LASTNAME'), ('POLLUTION', 'LATITUDE'), ('POLLUTION', 'LENGTH'), ('POLLUTION', 'LONGITUDE'), ('POLLUTION', 'MATERIAL_REFERENCE'), ('POLLUTION', 'MATERIEL'), ('POLLUTION', 'MILITARY'), ('POLLUTION', 'MILITARY_ORGANISATION'), ('POLLUTION', 'NATIONALITY'), ('POLLUTION', 'NATURAL_CAUSES_DEATH'), ('POLLUTION', 'NATURAL_EVENT'), ('POLLUTION', 'NON_GOVERNMENTAL_ORGANISATION'), ('POLLUTION', 'NON_MILITARY_GOVERNMENT_ORGANISATION'), ('POLLUTION', 'POLITICAL_VIOLENCE'), ('POLLUTION', 'QUANTITY_EXACT'), ('POLLUTION', 'QUANTITY_MAX'), ('POLLUTION', 'QUANTITY_MIN'), ('POLLUTION', 'RIOT'), ('POLLUTION', 'STRIKE'), ('POLLUTION', 'SUICIDE'), ('POLLUTION', 'TERRORIST_OR_CRIMINAL'), ('POLLUTION', 'THEFT'), ('POLLUTION', 'TIME_FUZZY'), ('POLLUTION', 'TIME_MAX'), ('POLLUTION', 'TIME_MIN'), ('POLLUTION', 'TRAFFICKING'), ('POLLUTION', 'WEIGHT'), ('POLLUTION', 'WIDTH'), ('QUANTITY_EXACT', 'ACCIDENT'), ('QUANTITY_EXACT', 'AGITATING_TROUBLE_MAKING'), ('QUANTITY_EXACT', 'BOMBING'), ('QUANTITY_EXACT', 'CATEGORY'), ('QUANTITY_EXACT', 'CBRN_EVENT'), ('QUANTITY_EXACT', 'CIVILIAN'), ('QUANTITY_EXACT', 'CIVIL_WAR_OUTBREAK'), ('QUANTITY_EXACT', 'COLOR'), ('QUANTITY_EXACT', 'COUP_D_ETAT'), ('QUANTITY_EXACT', 'CRIMINAL_ARREST'), ('QUANTITY_EXACT', 'DEMONSTRATION'), ('QUANTITY_EXACT', 'DRUG_OPERATION'), ('QUANTITY_EXACT', 'ECONOMICAL_CRISIS'), ('QUANTITY_EXACT', 'ELECTION'), ('QUANTITY_EXACT', 'EPIDEMIC'), ('QUANTITY_EXACT', 'FIRE'), ('QUANTITY_EXACT', 'FIRSTNAME'), ('QUANTITY_EXACT', 'GATHERING'), ('QUANTITY_EXACT', 'GROUP_OF_INDIVIDUALS'), ('QUANTITY_EXACT', 'HEIGHT'), ('QUANTITY_EXACT', 'HOOLIGANISM_TROUBLEMAKING'), ('QUANTITY_EXACT', 'ILLEGAL_CIVIL_DEMONSTRATION'), ('QUANTITY_EXACT', 'INTERGOVERNMENTAL_ORGANISATION'), ('QUANTITY_EXACT', 'LASTNAME'), ('QUANTITY_EXACT', 'LATITUDE'), ('QUANTITY_EXACT', 'LENGTH'), ('QUANTITY_EXACT', 'LONGITUDE'), ('QUANTITY_EXACT', 'MATERIAL_REFERENCE'), ('QUANTITY_EXACT', 'MATERIEL'), ('QUANTITY_EXACT', 'MILITARY'), ('QUANTITY_EXACT', 'MILITARY_ORGANISATION'), ('QUANTITY_EXACT', 'NATIONALITY'), ('QUANTITY_EXACT', 'NATURAL_CAUSES_DEATH'), ('QUANTITY_EXACT', 'NATURAL_EVENT'), ('QUANTITY_EXACT', 'NON_GOVERNMENTAL_ORGANISATION'), ('QUANTITY_EXACT', 'NON_MILITARY_GOVERNMENT_ORGANISATION'), ('QUANTITY_EXACT', 'PLACE'), ('QUANTITY_EXACT', 'POLITICAL_VIOLENCE'), ('QUANTITY_EXACT', 'POLLUTION'), ('QUANTITY_EXACT', 'QUANTITY_EXACT'), ('QUANTITY_EXACT', 'QUANTITY_FUZZY'), ('QUANTITY_EXACT', 'QUANTITY_MAX'), ('QUANTITY_EXACT', 'QUANTITY_MIN'), ('QUANTITY_EXACT', 'RIOT'), ('QUANTITY_EXACT', 'STRIKE'), ('QUANTITY_EXACT', 'SUICIDE'), ('QUANTITY_EXACT', 'TERRORIST_OR_CRIMINAL'), ('QUANTITY_EXACT', 'THEFT'), ('QUANTITY_EXACT', 'TIME_EXACT'), ('QUANTITY_EXACT', 'TIME_FUZZY'), ('QUANTITY_EXACT', 'TIME_MAX'), ('QUANTITY_EXACT', 'TIME_MIN'), ('QUANTITY_EXACT', 'TRAFFICKING'), ('QUANTITY_EXACT', 'WEIGHT'), ('QUANTITY_EXACT', 'WIDTH'), ('QUANTITY_FUZZY', 'ACCIDENT'), ('QUANTITY_FUZZY', 'AGITATING_TROUBLE_MAKING'), ('QUANTITY_FUZZY', 'BOMBING'), ('QUANTITY_FUZZY', 'CATEGORY'), ('QUANTITY_FUZZY', 'CBRN_EVENT'), ('QUANTITY_FUZZY', 'CIVILIAN'), ('QUANTITY_FUZZY', 'CIVIL_WAR_OUTBREAK'), ('QUANTITY_FUZZY', 'COLOR'), ('QUANTITY_FUZZY', 'COUP_D_ETAT'), ('QUANTITY_FUZZY', 'CRIMINAL_ARREST'), ('QUANTITY_FUZZY', 'DEMONSTRATION'), ('QUANTITY_FUZZY', 'DRUG_OPERATION'), ('QUANTITY_FUZZY', 'ECONOMICAL_CRISIS'), ('QUANTITY_FUZZY', 'ELECTION'), ('QUANTITY_FUZZY', 'EPIDEMIC'), ('QUANTITY_FUZZY', 'FIRE'), ('QUANTITY_FUZZY', 'FIRSTNAME'), ('QUANTITY_FUZZY', 'GATHERING'), ('QUANTITY_FUZZY', 'GROUP_OF_INDIVIDUALS'), ('QUANTITY_FUZZY', 'HEIGHT'), ('QUANTITY_FUZZY', 'HOOLIGANISM_TROUBLEMAKING'), ('QUANTITY_FUZZY', 'ILLEGAL_CIVIL_DEMONSTRATION'), ('QUANTITY_FUZZY', 'INTERGOVERNMENTAL_ORGANISATION'), ('QUANTITY_FUZZY', 'LASTNAME'), ('QUANTITY_FUZZY', 'LATITUDE'), ('QUANTITY_FUZZY', 'LENGTH'), ('QUANTITY_FUZZY', 'LONGITUDE'), ('QUANTITY_FUZZY', 'MATERIAL_REFERENCE'), ('QUANTITY_FUZZY', 'MATERIEL'), ('QUANTITY_FUZZY', 'MILITARY'), ('QUANTITY_FUZZY', 'MILITARY_ORGANISATION'), ('QUANTITY_FUZZY', 'NATIONALITY'), ('QUANTITY_FUZZY', 'NATURAL_CAUSES_DEATH'), ('QUANTITY_FUZZY', 'NATURAL_EVENT'), ('QUANTITY_FUZZY', 'NON_GOVERNMENTAL_ORGANISATION'), ('QUANTITY_FUZZY', 'NON_MILITARY_GOVERNMENT_ORGANISATION'), ('QUANTITY_FUZZY', 'PLACE'), ('QUANTITY_FUZZY', 'POLITICAL_VIOLENCE'), ('QUANTITY_FUZZY', 'POLLUTION'), ('QUANTITY_FUZZY', 'QUANTITY_EXACT'), ('QUANTITY_FUZZY', 'QUANTITY_FUZZY'), ('QUANTITY_FUZZY', 'QUANTITY_MAX'), ('QUANTITY_FUZZY', 'QUANTITY_MIN'), ('QUANTITY_FUZZY', 'RIOT'), ('QUANTITY_FUZZY', 'STRIKE'), ('QUANTITY_FUZZY', 'SUICIDE'), ('QUANTITY_FUZZY', 'TERRORIST_OR_CRIMINAL'), ('QUANTITY_FUZZY', 'THEFT'), ('QUANTITY_FUZZY', 'TIME_EXACT'), ('QUANTITY_FUZZY', 'TIME_FUZZY'), ('QUANTITY_FUZZY', 'TIME_MAX'), ('QUANTITY_FUZZY', 'TIME_MIN'), ('QUANTITY_FUZZY', 'TRAFFICKING'), ('QUANTITY_FUZZY', 'WEIGHT'), ('QUANTITY_FUZZY', 'WIDTH'), ('QUANTITY_MAX', 'ACCIDENT'), ('QUANTITY_MAX', 'AGITATING_TROUBLE_MAKING'), ('QUANTITY_MAX', 'BOMBING'), ('QUANTITY_MAX', 'CATEGORY'), ('QUANTITY_MAX', 'CBRN_EVENT'), ('QUANTITY_MAX', 'CIVILIAN'), ('QUANTITY_MAX', 'CIVIL_WAR_OUTBREAK'), ('QUANTITY_MAX', 'COLOR'), ('QUANTITY_MAX', 'COUP_D_ETAT'), ('QUANTITY_MAX', 'CRIMINAL_ARREST'), ('QUANTITY_MAX', 'DEMONSTRATION'), ('QUANTITY_MAX', 'DRUG_OPERATION'), ('QUANTITY_MAX', 'ECONOMICAL_CRISIS'), ('QUANTITY_MAX', 'ELECTION'), ('QUANTITY_MAX', 'EPIDEMIC'), ('QUANTITY_MAX', 'FIRE'), ('QUANTITY_MAX', 'FIRSTNAME'), ('QUANTITY_MAX', 'GATHERING'), ('QUANTITY_MAX', 'GROUP_OF_INDIVIDUALS'), ('QUANTITY_MAX', 'HEIGHT'), ('QUANTITY_MAX', 'HOOLIGANISM_TROUBLEMAKING'), ('QUANTITY_MAX', 'ILLEGAL_CIVIL_DEMONSTRATION'), ('QUANTITY_MAX', 'INTERGOVERNMENTAL_ORGANISATION'), ('QUANTITY_MAX', 'LASTNAME'), ('QUANTITY_MAX', 'LATITUDE'), ('QUANTITY_MAX', 'LENGTH'), ('QUANTITY_MAX', 'LONGITUDE'), ('QUANTITY_MAX', 'MATERIAL_REFERENCE'), ('QUANTITY_MAX', 'MATERIEL'), ('QUANTITY_MAX', 'MILITARY'), ('QUANTITY_MAX', 'MILITARY_ORGANISATION'), ('QUANTITY_MAX', 'NATIONALITY'), ('QUANTITY_MAX', 'NATURAL_CAUSES_DEATH'), ('QUANTITY_MAX', 'NATURAL_EVENT'), ('QUANTITY_MAX', 'NON_GOVERNMENTAL_ORGANISATION'), ('QUANTITY_MAX', 'NON_MILITARY_GOVERNMENT_ORGANISATION'), ('QUANTITY_MAX', 'PLACE'), ('QUANTITY_MAX', 'POLITICAL_VIOLENCE'), ('QUANTITY_MAX', 'POLLUTION'), ('QUANTITY_MAX', 'QUANTITY_EXACT'), ('QUANTITY_MAX', 'QUANTITY_FUZZY'), ('QUANTITY_MAX', 'QUANTITY_MAX'), ('QUANTITY_MAX', 'QUANTITY_MIN'), ('QUANTITY_MAX', 'RIOT'), ('QUANTITY_MAX', 'STRIKE'), ('QUANTITY_MAX', 'SUICIDE'), ('QUANTITY_MAX', 'TERRORIST_OR_CRIMINAL'), ('QUANTITY_MAX', 'THEFT'), ('QUANTITY_MAX', 'TIME_EXACT'), ('QUANTITY_MAX', 'TIME_FUZZY'), ('QUANTITY_MAX', 'TIME_MAX'), ('QUANTITY_MAX', 'TIME_MIN'), ('QUANTITY_MAX', 'TRAFFICKING'), ('QUANTITY_MAX', 'WEIGHT'), ('QUANTITY_MAX', 'WIDTH'), ('QUANTITY_MIN', 'ACCIDENT'), ('QUANTITY_MIN', 'AGITATING_TROUBLE_MAKING'), ('QUANTITY_MIN', 'BOMBING'), ('QUANTITY_MIN', 'CATEGORY'), ('QUANTITY_MIN', 'CBRN_EVENT'), ('QUANTITY_MIN', 'CIVILIAN'), ('QUANTITY_MIN', 'CIVIL_WAR_OUTBREAK'), ('QUANTITY_MIN', 'COLOR'), ('QUANTITY_MIN', 'COUP_D_ETAT'), ('QUANTITY_MIN', 'CRIMINAL_ARREST'), ('QUANTITY_MIN', 'DEMONSTRATION'), ('QUANTITY_MIN', 'DRUG_OPERATION'), ('QUANTITY_MIN', 'ECONOMICAL_CRISIS'), ('QUANTITY_MIN', 'ELECTION'), ('QUANTITY_MIN', 'EPIDEMIC'), ('QUANTITY_MIN', 'FIRE'), ('QUANTITY_MIN', 'FIRSTNAME'), ('QUANTITY_MIN', 'GATHERING'), ('QUANTITY_MIN', 'GROUP_OF_INDIVIDUALS'), ('QUANTITY_MIN', 'HEIGHT'), ('QUANTITY_MIN', 'HOOLIGANISM_TROUBLEMAKING'), ('QUANTITY_MIN', 'ILLEGAL_CIVIL_DEMONSTRATION'), ('QUANTITY_MIN', 'INTERGOVERNMENTAL_ORGANISATION'), ('QUANTITY_MIN', 'LASTNAME'), ('QUANTITY_MIN', 'LATITUDE'), ('QUANTITY_MIN', 'LENGTH'), ('QUANTITY_MIN', 'LONGITUDE'), ('QUANTITY_MIN', 'MATERIAL_REFERENCE'), ('QUANTITY_MIN', 'MATERIEL'), ('QUANTITY_MIN', 'MILITARY'), ('QUANTITY_MIN', 'MILITARY_ORGANISATION'), ('QUANTITY_MIN', 'NATIONALITY'), ('QUANTITY_MIN', 'NATURAL_CAUSES_DEATH'), ('QUANTITY_MIN', 'NATURAL_EVENT'), ('QUANTITY_MIN', 'NON_GOVERNMENTAL_ORGANISATION'), ('QUANTITY_MIN', 'NON_MILITARY_GOVERNMENT_ORGANISATION'), ('QUANTITY_MIN', 'PLACE'), ('QUANTITY_MIN', 'POLITICAL_VIOLENCE'), ('QUANTITY_MIN', 'POLLUTION'), ('QUANTITY_MIN', 'QUANTITY_EXACT'), ('QUANTITY_MIN', 'QUANTITY_FUZZY'), ('QUANTITY_MIN', 'QUANTITY_MAX'), ('QUANTITY_MIN', 'QUANTITY_MIN'), ('QUANTITY_MIN', 'RIOT'), ('QUANTITY_MIN', 'STRIKE'), ('QUANTITY_MIN', 'SUICIDE'), ('QUANTITY_MIN', 'TERRORIST_OR_CRIMINAL'), ('QUANTITY_MIN', 'THEFT'), ('QUANTITY_MIN', 'TIME_EXACT'), ('QUANTITY_MIN', 'TIME_FUZZY'), ('QUANTITY_MIN', 'TIME_MAX'), ('QUANTITY_MIN', 'TIME_MIN'), ('QUANTITY_MIN', 'TRAFFICKING'), ('QUANTITY_MIN', 'WEIGHT'), ('QUANTITY_MIN', 'WIDTH'), ('RIOT', 'ACCIDENT'), ('RIOT', 'BOMBING'), ('RIOT', 'CATEGORY'), ('RIOT', 'CBRN_EVENT'), ('RIOT', 'CIVILIAN'), ('RIOT', 'COLOR'), ('RIOT', 'COUP_D_ETAT'), ('RIOT', 'DEMONSTRATION'), ('RIOT', 'DRUG_OPERATION'), ('RIOT', 'ECONOMICAL_CRISIS'), ('RIOT', 'ELECTION'), ('RIOT', 'EPIDEMIC'), ('RIOT', 'FIRSTNAME'), ('RIOT', 'GROUP_OF_INDIVIDUALS'), ('RIOT', 'HEIGHT'), ('RIOT', 'HOOLIGANISM_TROUBLEMAKING'), ('RIOT', 'ILLEGAL_CIVIL_DEMONSTRATION'), ('RIOT', 'INTERGOVERNMENTAL_ORGANISATION'), ('RIOT', 'LASTNAME'), ('RIOT', 'LATITUDE'), ('RIOT', 'LENGTH'), ('RIOT', 'LONGITUDE'), ('RIOT', 'MATERIAL_REFERENCE'), ('RIOT', 'MATERIEL'), ('RIOT', 'MILITARY'), ('RIOT', 'MILITARY_ORGANISATION'), ('RIOT', 'NATIONALITY'), ('RIOT', 'NATURAL_CAUSES_DEATH'), ('RIOT', 'NATURAL_EVENT'), ('RIOT', 'NON_GOVERNMENTAL_ORGANISATION'), ('RIOT', 'NON_MILITARY_GOVERNMENT_ORGANISATION'), ('RIOT', 'POLLUTION'), ('RIOT', 'QUANTITY_MAX'), ('RIOT', 'SUICIDE'), ('RIOT', 'TERRORIST_OR_CRIMINAL'), ('RIOT', 'THEFT'), ('RIOT', 'TRAFFICKING'), ('RIOT', 'WEIGHT'), ('RIOT', 'WIDTH'), ('STRIKE', 'AGITATING_TROUBLE_MAKING'), ('STRIKE', 'BOMBING'), ('STRIKE', 'CATEGORY'), ('STRIKE', 'CBRN_EVENT'), ('STRIKE', 'CIVILIAN'), ('STRIKE', 'CIVIL_WAR_OUTBREAK'), ('STRIKE', 'COLOR'), ('STRIKE', 'COUP_D_ETAT'), ('STRIKE', 'DEMONSTRATION'), ('STRIKE', 'DRUG_OPERATION'), ('STRIKE', 'ECONOMICAL_CRISIS'), ('STRIKE', 'ELECTION'), ('STRIKE', 'EPIDEMIC'), ('STRIKE', 'FIRSTNAME'), ('STRIKE', 'GROUP_OF_INDIVIDUALS'), ('STRIKE', 'HEIGHT'), ('STRIKE', 'HOOLIGANISM_TROUBLEMAKING'), ('STRIKE', 'ILLEGAL_CIVIL_DEMONSTRATION'), ('STRIKE', 'INTERGOVERNMENTAL_ORGANISATION'), ('STRIKE', 'LASTNAME'), ('STRIKE', 'LATITUDE'), ('STRIKE', 'LENGTH'), ('STRIKE', 'LONGITUDE'), ('STRIKE', 'MATERIAL_REFERENCE'), ('STRIKE', 'MATERIEL'), ('STRIKE', 'MILITARY'), ('STRIKE', 'MILITARY_ORGANISATION'), ('STRIKE', 'NATIONALITY'), ('STRIKE', 'NATURAL_CAUSES_DEATH'), ('STRIKE', 'NATURAL_EVENT'), ('STRIKE', 'NON_GOVERNMENTAL_ORGANISATION'), ('STRIKE', 'NON_MILITARY_GOVERNMENT_ORGANISATION'), ('STRIKE', 'POLITICAL_VIOLENCE'), ('STRIKE', 'POLLUTION'), ('STRIKE', 'QUANTITY_MAX'), ('STRIKE', 'QUANTITY_MIN'), ('STRIKE', 'SUICIDE'), ('STRIKE', 'TERRORIST_OR_CRIMINAL'), ('STRIKE', 'THEFT'), ('STRIKE', 'TIME_FUZZY'), ('STRIKE', 'TIME_MIN'), ('STRIKE', 'TRAFFICKING'), ('STRIKE', 'WEIGHT'), ('STRIKE', 'WIDTH'), ('SUICIDE', 'ACCIDENT'), ('SUICIDE', 'AGITATING_TROUBLE_MAKING'), ('SUICIDE', 'BOMBING'), ('SUICIDE', 'CATEGORY'), ('SUICIDE', 'CBRN_EVENT'), ('SUICIDE', 'CIVILIAN'), ('SUICIDE', 'CIVIL_WAR_OUTBREAK'), ('SUICIDE', 'COLOR'), ('SUICIDE', 'COUP_D_ETAT'), ('SUICIDE', 'CRIMINAL_ARREST'), ('SUICIDE', 'DEMONSTRATION'), ('SUICIDE', 'DRUG_OPERATION'), ('SUICIDE', 'ECONOMICAL_CRISIS'), ('SUICIDE', 'ELECTION'), ('SUICIDE', 'EPIDEMIC'), ('SUICIDE', 'FIRE'), ('SUICIDE', 'FIRSTNAME'), ('SUICIDE', 'GROUP_OF_INDIVIDUALS'), ('SUICIDE', 'HEIGHT'), ('SUICIDE', 'HOOLIGANISM_TROUBLEMAKING'), ('SUICIDE', 'ILLEGAL_CIVIL_DEMONSTRATION'), ('SUICIDE', 'INTERGOVERNMENTAL_ORGANISATION'), ('SUICIDE', 'LASTNAME'), ('SUICIDE', 'LATITUDE'), ('SUICIDE', 'LENGTH'), ('SUICIDE', 'LONGITUDE'), ('SUICIDE', 'MATERIAL_REFERENCE'), ('SUICIDE', 'MATERIEL'), ('SUICIDE', 'MILITARY'), ('SUICIDE', 'MILITARY_ORGANISATION'), ('SUICIDE', 'NATIONALITY'), ('SUICIDE', 'NATURAL_CAUSES_DEATH'), ('SUICIDE', 'NATURAL_EVENT'), ('SUICIDE', 'NON_GOVERNMENTAL_ORGANISATION'), ('SUICIDE', 'NON_MILITARY_GOVERNMENT_ORGANISATION'), ('SUICIDE', 'POLITICAL_VIOLENCE'), ('SUICIDE', 'POLLUTION'), ('SUICIDE', 'QUANTITY_FUZZY'), ('SUICIDE', 'QUANTITY_MAX'), ('SUICIDE', 'QUANTITY_MIN'), ('SUICIDE', 'RIOT'), ('SUICIDE', 'STRIKE'), ('SUICIDE', 'SUICIDE'), ('SUICIDE', 'TERRORIST_OR_CRIMINAL'), ('SUICIDE', 'THEFT'), ('SUICIDE', 'TIME_MAX'), ('SUICIDE', 'TIME_MIN'), ('SUICIDE', 'TRAFFICKING'), ('SUICIDE', 'WEIGHT'), ('SUICIDE', 'WIDTH'), ('TERRORIST_OR_CRIMINAL', 'AGITATING_TROUBLE_MAKING'), ('TERRORIST_OR_CRIMINAL', 'CBRN_EVENT'), ('TERRORIST_OR_CRIMINAL', 'CIVIL_WAR_OUTBREAK'), ('TERRORIST_OR_CRIMINAL', 'COLOR'), ('TERRORIST_OR_CRIMINAL', 'CRIMINAL_ARREST'), ('TERRORIST_OR_CRIMINAL', 'DEMONSTRATION'), ('TERRORIST_OR_CRIMINAL', 'ECONOMICAL_CRISIS'), ('TERRORIST_OR_CRIMINAL', 'ELECTION'), ('TERRORIST_OR_CRIMINAL', 'EPIDEMIC'), ('TERRORIST_OR_CRIMINAL', 'FIRSTNAME'), ('TERRORIST_OR_CRIMINAL', 'GATHERING'), ('TERRORIST_OR_CRIMINAL', 'HEIGHT'), ('TERRORIST_OR_CRIMINAL', 'ILLEGAL_CIVIL_DEMONSTRATION'), ('TERRORIST_OR_CRIMINAL', 'INTERGOVERNMENTAL_ORGANISATION'), ('TERRORIST_OR_CRIMINAL', 'LASTNAME'), ('TERRORIST_OR_CRIMINAL', 'LATITUDE'), ('TERRORIST_OR_CRIMINAL', 'LENGTH'), ('TERRORIST_OR_CRIMINAL', 'LONGITUDE'), ('TERRORIST_OR_CRIMINAL', 'MATERIAL_REFERENCE'), ('TERRORIST_OR_CRIMINAL', 'NATURAL_CAUSES_DEATH'), ('TERRORIST_OR_CRIMINAL', 'NATURAL_EVENT'), ('TERRORIST_OR_CRIMINAL', 'POLITICAL_VIOLENCE'), ('TERRORIST_OR_CRIMINAL', 'POLLUTION'), ('TERRORIST_OR_CRIMINAL', 'QUANTITY_EXACT'), ('TERRORIST_OR_CRIMINAL', 'QUANTITY_FUZZY'), ('TERRORIST_OR_CRIMINAL', 'QUANTITY_MAX'), ('TERRORIST_OR_CRIMINAL', 'QUANTITY_MIN'), ('TERRORIST_OR_CRIMINAL', 'RIOT'), ('TERRORIST_OR_CRIMINAL', 'STRIKE'), ('TERRORIST_OR_CRIMINAL', 'TIME_FUZZY'), ('TERRORIST_OR_CRIMINAL', 'TIME_MAX'), ('TERRORIST_OR_CRIMINAL', 'TIME_MIN'), ('TERRORIST_OR_CRIMINAL', 'WEIGHT'), ('TERRORIST_OR_CRIMINAL', 'WIDTH'), ('THEFT', 'AGITATING_TROUBLE_MAKING'), ('THEFT', 'BOMBING'), ('THEFT', 'CATEGORY'), ('THEFT', 'CBRN_EVENT'), ('THEFT', 'CIVILIAN'), ('THEFT', 'COLOR'), ('THEFT', 'COUP_D_ETAT'), ('THEFT', 'DEMONSTRATION'), ('THEFT', 'ECONOMICAL_CRISIS'), ('THEFT', 'ELECTION'), ('THEFT', 'EPIDEMIC'), ('THEFT', 'FIRE'), ('THEFT', 'FIRSTNAME'), ('THEFT', 'GATHERING'), ('THEFT', 'GROUP_OF_INDIVIDUALS'), ('THEFT', 'HEIGHT'), ('THEFT', 'INTERGOVERNMENTAL_ORGANISATION'), ('THEFT', 'LASTNAME'), ('THEFT', 'LATITUDE'), ('THEFT', 'LENGTH'), ('THEFT', 'LONGITUDE'), ('THEFT', 'MATERIAL_REFERENCE'), ('THEFT', 'MATERIEL'), ('THEFT', 'MILITARY'), ('THEFT', 'MILITARY_ORGANISATION'), ('THEFT', 'NATIONALITY'), ('THEFT', 'NATURAL_CAUSES_DEATH'), ('THEFT', 'NATURAL_EVENT'), ('THEFT', 'NON_GOVERNMENTAL_ORGANISATION'), ('THEFT', 'NON_MILITARY_GOVERNMENT_ORGANISATION'), ('THEFT', 'POLLUTION'), ('THEFT', 'QUANTITY_FUZZY'), ('THEFT', 'QUANTITY_MAX'), ('THEFT', 'QUANTITY_MIN'), ('THEFT', 'RIOT'), ('THEFT', 'STRIKE'), ('THEFT', 'SUICIDE'), ('THEFT', 'TERRORIST_OR_CRIMINAL'), ('THEFT', 'WEIGHT'), ('THEFT', 'WIDTH'), ('TIME_EXACT', 'ACCIDENT'), ('TIME_EXACT', 'AGITATING_TROUBLE_MAKING'), ('TIME_EXACT', 'BOMBING'), ('TIME_EXACT', 'CATEGORY'), ('TIME_EXACT', 'CBRN_EVENT'), ('TIME_EXACT', 'CIVILIAN'), ('TIME_EXACT', 'CIVIL_WAR_OUTBREAK'), ('TIME_EXACT', 'COLOR'), ('TIME_EXACT', 'COUP_D_ETAT'), ('TIME_EXACT', 'CRIMINAL_ARREST'), ('TIME_EXACT', 'DEMONSTRATION'), ('TIME_EXACT', 'DRUG_OPERATION'), ('TIME_EXACT', 'ECONOMICAL_CRISIS'), ('TIME_EXACT', 'ELECTION'), ('TIME_EXACT', 'EPIDEMIC'), ('TIME_EXACT', 'FIRE'), ('TIME_EXACT', 'FIRSTNAME'), ('TIME_EXACT', 'GATHERING'), ('TIME_EXACT', 'GROUP_OF_INDIVIDUALS'), ('TIME_EXACT', 'HEIGHT'), ('TIME_EXACT', 'HOOLIGANISM_TROUBLEMAKING'), ('TIME_EXACT', 'ILLEGAL_CIVIL_DEMONSTRATION'), ('TIME_EXACT', 'INTERGOVERNMENTAL_ORGANISATION'), ('TIME_EXACT', 'LASTNAME'), ('TIME_EXACT', 'LATITUDE'), ('TIME_EXACT', 'LENGTH'), ('TIME_EXACT', 'LONGITUDE'), ('TIME_EXACT', 'MATERIAL_REFERENCE'), ('TIME_EXACT', 'MATERIEL'), ('TIME_EXACT', 'MILITARY'), ('TIME_EXACT', 'MILITARY_ORGANISATION'), ('TIME_EXACT', 'NATIONALITY'), ('TIME_EXACT', 'NATURAL_CAUSES_DEATH'), ('TIME_EXACT', 'NATURAL_EVENT'), ('TIME_EXACT', 'NON_GOVERNMENTAL_ORGANISATION'), ('TIME_EXACT', 'NON_MILITARY_GOVERNMENT_ORGANISATION'), ('TIME_EXACT', 'PLACE'), ('TIME_EXACT', 'POLITICAL_VIOLENCE'), ('TIME_EXACT', 'POLLUTION'), ('TIME_EXACT', 'QUANTITY_EXACT'), ('TIME_EXACT', 'QUANTITY_FUZZY'), ('TIME_EXACT', 'QUANTITY_MAX'), ('TIME_EXACT', 'QUANTITY_MIN'), ('TIME_EXACT', 'RIOT'), ('TIME_EXACT', 'STRIKE'), ('TIME_EXACT', 'SUICIDE'), ('TIME_EXACT', 'TERRORIST_OR_CRIMINAL'), ('TIME_EXACT', 'THEFT'), ('TIME_EXACT', 'TIME_EXACT'), ('TIME_EXACT', 'TIME_FUZZY'), ('TIME_EXACT', 'TIME_MAX'), ('TIME_EXACT', 'TIME_MIN'), ('TIME_EXACT', 'TRAFFICKING'), ('TIME_EXACT', 'WEIGHT'), ('TIME_EXACT', 'WIDTH'), ('TIME_FUZZY', 'ACCIDENT'), ('TIME_FUZZY', 'AGITATING_TROUBLE_MAKING'), ('TIME_FUZZY', 'BOMBING'), ('TIME_FUZZY', 'CATEGORY'), ('TIME_FUZZY', 'CBRN_EVENT'), ('TIME_FUZZY', 'CIVILIAN'), ('TIME_FUZZY', 'CIVIL_WAR_OUTBREAK'), ('TIME_FUZZY', 'COLOR'), ('TIME_FUZZY', 'COUP_D_ETAT'), ('TIME_FUZZY', 'CRIMINAL_ARREST'), ('TIME_FUZZY', 'DEMONSTRATION'), ('TIME_FUZZY', 'DRUG_OPERATION'), ('TIME_FUZZY', 'ECONOMICAL_CRISIS'), ('TIME_FUZZY', 'ELECTION'), ('TIME_FUZZY', 'EPIDEMIC'), ('TIME_FUZZY', 'FIRE'), ('TIME_FUZZY', 'FIRSTNAME'), ('TIME_FUZZY', 'GATHERING'), ('TIME_FUZZY', 'GROUP_OF_INDIVIDUALS'), ('TIME_FUZZY', 'HEIGHT'), ('TIME_FUZZY', 'HOOLIGANISM_TROUBLEMAKING'), ('TIME_FUZZY', 'ILLEGAL_CIVIL_DEMONSTRATION'), ('TIME_FUZZY', 'INTERGOVERNMENTAL_ORGANISATION'), ('TIME_FUZZY', 'LASTNAME'), ('TIME_FUZZY', 'LATITUDE'), ('TIME_FUZZY', 'LENGTH'), ('TIME_FUZZY', 'LONGITUDE'), ('TIME_FUZZY', 'MATERIAL_REFERENCE'), ('TIME_FUZZY', 'MATERIEL'), ('TIME_FUZZY', 'MILITARY'), ('TIME_FUZZY', 'MILITARY_ORGANISATION'), ('TIME_FUZZY', 'NATIONALITY'), ('TIME_FUZZY', 'NATURAL_CAUSES_DEATH'), ('TIME_FUZZY', 'NATURAL_EVENT'), ('TIME_FUZZY', 'NON_GOVERNMENTAL_ORGANISATION'), ('TIME_FUZZY', 'NON_MILITARY_GOVERNMENT_ORGANISATION'), ('TIME_FUZZY', 'PLACE'), ('TIME_FUZZY', 'POLITICAL_VIOLENCE'), ('TIME_FUZZY', 'POLLUTION'), ('TIME_FUZZY', 'QUANTITY_EXACT'), ('TIME_FUZZY', 'QUANTITY_FUZZY'), ('TIME_FUZZY', 'QUANTITY_MAX'), ('TIME_FUZZY', 'QUANTITY_MIN'), ('TIME_FUZZY', 'RIOT'), ('TIME_FUZZY', 'STRIKE'), ('TIME_FUZZY', 'SUICIDE'), ('TIME_FUZZY', 'TERRORIST_OR_CRIMINAL'), ('TIME_FUZZY', 'THEFT'), ('TIME_FUZZY', 'TIME_EXACT'), ('TIME_FUZZY', 'TIME_FUZZY'), ('TIME_FUZZY', 'TIME_MAX'), ('TIME_FUZZY', 'TIME_MIN'), ('TIME_FUZZY', 'TRAFFICKING'), ('TIME_FUZZY', 'WEIGHT'), ('TIME_FUZZY', 'WIDTH'), ('TIME_MAX', 'ACCIDENT'), ('TIME_MAX', 'AGITATING_TROUBLE_MAKING'), ('TIME_MAX', 'BOMBING'), ('TIME_MAX', 'CATEGORY'), ('TIME_MAX', 'CBRN_EVENT'), ('TIME_MAX', 'CIVILIAN'), ('TIME_MAX', 'CIVIL_WAR_OUTBREAK'), ('TIME_MAX', 'COLOR'), ('TIME_MAX', 'COUP_D_ETAT'), ('TIME_MAX', 'CRIMINAL_ARREST'), ('TIME_MAX', 'DEMONSTRATION'), ('TIME_MAX', 'DRUG_OPERATION'), ('TIME_MAX', 'ECONOMICAL_CRISIS'), ('TIME_MAX', 'ELECTION'), ('TIME_MAX', 'EPIDEMIC'), ('TIME_MAX', 'FIRE'), ('TIME_MAX', 'FIRSTNAME'), ('TIME_MAX', 'GATHERING'), ('TIME_MAX', 'GROUP_OF_INDIVIDUALS'), ('TIME_MAX', 'HEIGHT'), ('TIME_MAX', 'HOOLIGANISM_TROUBLEMAKING'), ('TIME_MAX', 'ILLEGAL_CIVIL_DEMONSTRATION'), ('TIME_MAX', 'INTERGOVERNMENTAL_ORGANISATION'), ('TIME_MAX', 'LASTNAME'), ('TIME_MAX', 'LATITUDE'), ('TIME_MAX', 'LENGTH'), ('TIME_MAX', 'LONGITUDE'), ('TIME_MAX', 'MATERIAL_REFERENCE'), ('TIME_MAX', 'MATERIEL'), ('TIME_MAX', 'MILITARY'), ('TIME_MAX', 'MILITARY_ORGANISATION'), ('TIME_MAX', 'NATIONALITY'), ('TIME_MAX', 'NATURAL_CAUSES_DEATH'), ('TIME_MAX', 'NATURAL_EVENT'), ('TIME_MAX', 'NON_GOVERNMENTAL_ORGANISATION'), ('TIME_MAX', 'NON_MILITARY_GOVERNMENT_ORGANISATION'), ('TIME_MAX', 'PLACE'), ('TIME_MAX', 'POLITICAL_VIOLENCE'), ('TIME_MAX', 'POLLUTION'), ('TIME_MAX', 'QUANTITY_EXACT'), ('TIME_MAX', 'QUANTITY_FUZZY'), ('TIME_MAX', 'QUANTITY_MAX'), ('TIME_MAX', 'QUANTITY_MIN'), ('TIME_MAX', 'RIOT'), ('TIME_MAX', 'STRIKE'), ('TIME_MAX', 'SUICIDE'), ('TIME_MAX', 'TERRORIST_OR_CRIMINAL'), ('TIME_MAX', 'THEFT'), ('TIME_MAX', 'TIME_EXACT'), ('TIME_MAX', 'TIME_FUZZY'), ('TIME_MAX', 'TIME_MAX'), ('TIME_MAX', 'TIME_MIN'), ('TIME_MAX', 'TRAFFICKING'), ('TIME_MAX', 'WEIGHT'), ('TIME_MAX', 'WIDTH'), ('TIME_MIN', 'ACCIDENT'), ('TIME_MIN', 'AGITATING_TROUBLE_MAKING'), ('TIME_MIN', 'BOMBING'), ('TIME_MIN', 'CATEGORY'), ('TIME_MIN', 'CBRN_EVENT'), ('TIME_MIN', 'CIVILIAN'), ('TIME_MIN', 'CIVIL_WAR_OUTBREAK'), ('TIME_MIN', 'COLOR'), ('TIME_MIN', 'COUP_D_ETAT'), ('TIME_MIN', 'CRIMINAL_ARREST'), ('TIME_MIN', 'DEMONSTRATION'), ('TIME_MIN', 'DRUG_OPERATION'), ('TIME_MIN', 'ECONOMICAL_CRISIS'), ('TIME_MIN', 'ELECTION'), ('TIME_MIN', 'EPIDEMIC'), ('TIME_MIN', 'FIRE'), ('TIME_MIN', 'FIRSTNAME'), ('TIME_MIN', 'GATHERING'), ('TIME_MIN', 'GROUP_OF_INDIVIDUALS'), ('TIME_MIN', 'HEIGHT'), ('TIME_MIN', 'HOOLIGANISM_TROUBLEMAKING'), ('TIME_MIN', 'ILLEGAL_CIVIL_DEMONSTRATION'), ('TIME_MIN', 'INTERGOVERNMENTAL_ORGANISATION'), ('TIME_MIN', 'LASTNAME'), ('TIME_MIN', 'LATITUDE'), ('TIME_MIN', 'LENGTH'), ('TIME_MIN', 'LONGITUDE'), ('TIME_MIN', 'MATERIAL_REFERENCE'), ('TIME_MIN', 'MATERIEL'), ('TIME_MIN', 'MILITARY'), ('TIME_MIN', 'MILITARY_ORGANISATION'), ('TIME_MIN', 'NATIONALITY'), ('TIME_MIN', 'NATURAL_CAUSES_DEATH'), ('TIME_MIN', 'NATURAL_EVENT'), ('TIME_MIN', 'NON_GOVERNMENTAL_ORGANISATION'), ('TIME_MIN', 'NON_MILITARY_GOVERNMENT_ORGANISATION'), ('TIME_MIN', 'PLACE'), ('TIME_MIN', 'POLITICAL_VIOLENCE'), ('TIME_MIN', 'POLLUTION'), ('TIME_MIN', 'QUANTITY_EXACT'), ('TIME_MIN', 'QUANTITY_FUZZY'), ('TIME_MIN', 'QUANTITY_MAX'), ('TIME_MIN', 'QUANTITY_MIN'), ('TIME_MIN', 'RIOT'), ('TIME_MIN', 'STRIKE'), ('TIME_MIN', 'SUICIDE'), ('TIME_MIN', 'TERRORIST_OR_CRIMINAL'), ('TIME_MIN', 'THEFT'), ('TIME_MIN', 'TIME_EXACT'), ('TIME_MIN', 'TIME_FUZZY'), ('TIME_MIN', 'TIME_MAX'), ('TIME_MIN', 'TIME_MIN'), ('TIME_MIN', 'TRAFFICKING'), ('TIME_MIN', 'WEIGHT'), ('TIME_MIN', 'WIDTH'), ('TRAFFICKING', 'ACCIDENT'), ('TRAFFICKING', 'AGITATING_TROUBLE_MAKING'), ('TRAFFICKING', 'BOMBING'), ('TRAFFICKING', 'CATEGORY'), ('TRAFFICKING', 'CBRN_EVENT'), ('TRAFFICKING', 'CIVILIAN'), ('TRAFFICKING', 'CIVIL_WAR_OUTBREAK'), ('TRAFFICKING', 'COLOR'), ('TRAFFICKING', 'COUP_D_ETAT'), ('TRAFFICKING', 'DEMONSTRATION'), ('TRAFFICKING', 'ECONOMICAL_CRISIS'), ('TRAFFICKING', 'ELECTION'), ('TRAFFICKING', 'EPIDEMIC'), ('TRAFFICKING', 'FIRSTNAME'), ('TRAFFICKING', 'GATHERING'), ('TRAFFICKING', 'GROUP_OF_INDIVIDUALS'), ('TRAFFICKING', 'HEIGHT'), ('TRAFFICKING', 'HOOLIGANISM_TROUBLEMAKING'), ('TRAFFICKING', 'ILLEGAL_CIVIL_DEMONSTRATION'), ('TRAFFICKING', 'INTERGOVERNMENTAL_ORGANISATION'), ('TRAFFICKING', 'LASTNAME'), ('TRAFFICKING', 'LATITUDE'), ('TRAFFICKING', 'LENGTH'), ('TRAFFICKING', 'LONGITUDE'), ('TRAFFICKING', 'MATERIAL_REFERENCE'), ('TRAFFICKING', 'MATERIEL'), ('TRAFFICKING', 'MILITARY'), ('TRAFFICKING', 'MILITARY_ORGANISATION'), ('TRAFFICKING', 'NATIONALITY'), ('TRAFFICKING', 'NATURAL_CAUSES_DEATH'), ('TRAFFICKING', 'NATURAL_EVENT'), ('TRAFFICKING', 'NON_GOVERNMENTAL_ORGANISATION'), ('TRAFFICKING', 'POLITICAL_VIOLENCE'), ('TRAFFICKING', 'POLLUTION'), ('TRAFFICKING', 'QUANTITY_EXACT'), ('TRAFFICKING', 'QUANTITY_FUZZY'), ('TRAFFICKING', 'QUANTITY_MAX'), ('TRAFFICKING', 'QUANTITY_MIN'), ('TRAFFICKING', 'RIOT'), ('TRAFFICKING', 'STRIKE'), ('TRAFFICKING', 'SUICIDE'), ('TRAFFICKING', 'TERRORIST_OR_CRIMINAL'), ('TRAFFICKING', 'TIME_FUZZY'), ('TRAFFICKING', 'TIME_MIN'), ('TRAFFICKING', 'WEIGHT'), ('TRAFFICKING', 'WIDTH'), ('WEIGHT', 'ACCIDENT'), ('WEIGHT', 'AGITATING_TROUBLE_MAKING'), ('WEIGHT', 'BOMBING'), ('WEIGHT', 'CATEGORY'), ('WEIGHT', 'CBRN_EVENT'), ('WEIGHT', 'CIVILIAN'), ('WEIGHT', 'CIVIL_WAR_OUTBREAK'), ('WEIGHT', 'COLOR'), ('WEIGHT', 'COUP_D_ETAT'), ('WEIGHT', 'CRIMINAL_ARREST'), ('WEIGHT', 'DEMONSTRATION'), ('WEIGHT', 'DRUG_OPERATION'), ('WEIGHT', 'ECONOMICAL_CRISIS'), ('WEIGHT', 'ELECTION'), ('WEIGHT', 'EPIDEMIC'), ('WEIGHT', 'FIRE'), ('WEIGHT', 'FIRSTNAME'), ('WEIGHT', 'GATHERING'), ('WEIGHT', 'GROUP_OF_INDIVIDUALS'), ('WEIGHT', 'HEIGHT'), ('WEIGHT', 'HOOLIGANISM_TROUBLEMAKING'), ('WEIGHT', 'ILLEGAL_CIVIL_DEMONSTRATION'), ('WEIGHT', 'INTERGOVERNMENTAL_ORGANISATION'), ('WEIGHT', 'LASTNAME'), ('WEIGHT', 'LATITUDE'), ('WEIGHT', 'LENGTH'), ('WEIGHT', 'LONGITUDE'), ('WEIGHT', 'MATERIAL_REFERENCE'), ('WEIGHT', 'MATERIEL'), ('WEIGHT', 'MILITARY'), ('WEIGHT', 'MILITARY_ORGANISATION'), ('WEIGHT', 'NATIONALITY'), ('WEIGHT', 'NATURAL_CAUSES_DEATH'), ('WEIGHT', 'NATURAL_EVENT'), ('WEIGHT', 'NON_GOVERNMENTAL_ORGANISATION'), ('WEIGHT', 'NON_MILITARY_GOVERNMENT_ORGANISATION'), ('WEIGHT', 'PLACE'), ('WEIGHT', 'POLITICAL_VIOLENCE'), ('WEIGHT', 'POLLUTION'), ('WEIGHT', 'QUANTITY_EXACT'), ('WEIGHT', 'QUANTITY_FUZZY'), ('WEIGHT', 'QUANTITY_MAX'), ('WEIGHT', 'QUANTITY_MIN'), ('WEIGHT', 'RIOT'), ('WEIGHT', 'STRIKE'), ('WEIGHT', 'SUICIDE'), ('WEIGHT', 'TERRORIST_OR_CRIMINAL'), ('WEIGHT', 'THEFT'), ('WEIGHT', 'TIME_EXACT'), ('WEIGHT', 'TIME_FUZZY'), ('WEIGHT', 'TIME_MAX'), ('WEIGHT', 'TIME_MIN'), ('WEIGHT', 'TRAFFICKING'), ('WEIGHT', 'WEIGHT'), ('WEIGHT', 'WIDTH'), ('WIDTH', 'ACCIDENT'), ('WIDTH', 'AGITATING_TROUBLE_MAKING'), ('WIDTH', 'BOMBING'), ('WIDTH', 'CATEGORY'), ('WIDTH', 'CBRN_EVENT'), ('WIDTH', 'CIVILIAN'), ('WIDTH', 'CIVIL_WAR_OUTBREAK'), ('WIDTH', 'COLOR'), ('WIDTH', 'COUP_D_ETAT'), ('WIDTH', 'CRIMINAL_ARREST'), ('WIDTH', 'DEMONSTRATION'), ('WIDTH', 'DRUG_OPERATION'), ('WIDTH', 'ECONOMICAL_CRISIS'), ('WIDTH', 'ELECTION'), ('WIDTH', 'EPIDEMIC'), ('WIDTH', 'FIRE'), ('WIDTH', 'FIRSTNAME'), ('WIDTH', 'GATHERING'), ('WIDTH', 'GROUP_OF_INDIVIDUALS'), ('WIDTH', 'HEIGHT'), ('WIDTH', 'HOOLIGANISM_TROUBLEMAKING'), ('WIDTH', 'ILLEGAL_CIVIL_DEMONSTRATION'), ('WIDTH', 'INTERGOVERNMENTAL_ORGANISATION'), ('WIDTH', 'LASTNAME'), ('WIDTH', 'LATITUDE'), ('WIDTH', 'LENGTH'), ('WIDTH', 'LONGITUDE'), ('WIDTH', 'MATERIAL_REFERENCE'), ('WIDTH', 'MATERIEL'), ('WIDTH', 'MILITARY'), ('WIDTH', 'MILITARY_ORGANISATION'), ('WIDTH', 'NATIONALITY'), ('WIDTH', 'NATURAL_CAUSES_DEATH'), ('WIDTH', 'NATURAL_EVENT'), ('WIDTH', 'NON_GOVERNMENTAL_ORGANISATION'), ('WIDTH', 'NON_MILITARY_GOVERNMENT_ORGANISATION'), ('WIDTH', 'PLACE'), ('WIDTH', 'POLITICAL_VIOLENCE'), ('WIDTH', 'POLLUTION'), ('WIDTH', 'QUANTITY_EXACT'), ('WIDTH', 'QUANTITY_FUZZY'), ('WIDTH', 'QUANTITY_MAX'), ('WIDTH', 'QUANTITY_MIN'), ('WIDTH', 'RIOT'), ('WIDTH', 'STRIKE'), ('WIDTH', 'SUICIDE'), ('WIDTH', 'TERRORIST_OR_CRIMINAL'), ('WIDTH', 'THEFT'), ('WIDTH', 'TIME_EXACT'), ('WIDTH', 'TIME_FUZZY'), ('WIDTH', 'TIME_MAX'), ('WIDTH', 'TIME_MIN'), ('WIDTH', 'TRAFFICKING'), ('WIDTH', 'WEIGHT'), ('WIDTH', 'WIDTH')]\n",
      "data/defi-text-mine-2025/interim/multilabel_tagged_text_dataset/test/51742.csv <-: 100%|██████████| 400/400 [00:24<00:00, 16.62it/s]\n",
      "data/defi-text-mine-2025/interim/multilabel_tagged_text_dataset/train/124.csv <-: 100%|██████████| 800/800 [00:53<00:00, 14.98it/s]  \n"
     ]
    },
    {
     "data": {
      "text/html": [
       "<div>\n",
       "<style scoped>\n",
       "    .dataframe tbody tr th:only-of-type {\n",
       "        vertical-align: middle;\n",
       "    }\n",
       "\n",
       "    .dataframe tbody tr th {\n",
       "        vertical-align: top;\n",
       "    }\n",
       "\n",
       "    .dataframe thead th {\n",
       "        text-align: right;\n",
       "    }\n",
       "</style>\n",
       "<table border=\"1\" class=\"dataframe\">\n",
       "  <thead>\n",
       "    <tr style=\"text-align: right;\">\n",
       "      <th></th>\n",
       "      <th>text_index</th>\n",
       "      <th>e1</th>\n",
       "      <th>e2</th>\n",
       "      <th>text</th>\n",
       "      <th>relations</th>\n",
       "    </tr>\n",
       "  </thead>\n",
       "  <tbody>\n",
       "    <tr>\n",
       "      <th>0</th>\n",
       "      <td>124</td>\n",
       "      <td>0</td>\n",
       "      <td>0</td>\n",
       "      <td>L’avion NY8 de la compagnie Airîle a lancé sa ...</td>\n",
       "      <td>NaN</td>\n",
       "    </tr>\n",
       "    <tr>\n",
       "      <th>1</th>\n",
       "      <td>124</td>\n",
       "      <td>1</td>\n",
       "      <td>0</td>\n",
       "      <td>L’avion NY8 de la compagnie Airîle a lancé sa ...</td>\n",
       "      <td>[HAS_CONSEQUENCE]</td>\n",
       "    </tr>\n",
       "    <tr>\n",
       "      <th>2</th>\n",
       "      <td>124</td>\n",
       "      <td>0</td>\n",
       "      <td>1</td>\n",
       "      <td>L’avion NY8 de la compagnie Airîle a lancé sa ...</td>\n",
       "      <td>NaN</td>\n",
       "    </tr>\n",
       "    <tr>\n",
       "      <th>3</th>\n",
       "      <td>124</td>\n",
       "      <td>1</td>\n",
       "      <td>1</td>\n",
       "      <td>L’avion NY8 de la compagnie Airîle a lancé sa ...</td>\n",
       "      <td>NaN</td>\n",
       "    </tr>\n",
       "    <tr>\n",
       "      <th>4</th>\n",
       "      <td>124</td>\n",
       "      <td>2</td>\n",
       "      <td>0</td>\n",
       "      <td>L’avion NY8 de la compagnie Airîle a lancé sa ...</td>\n",
       "      <td>NaN</td>\n",
       "    </tr>\n",
       "    <tr>\n",
       "      <th>...</th>\n",
       "      <td>...</td>\n",
       "      <td>...</td>\n",
       "      <td>...</td>\n",
       "      <td>...</td>\n",
       "      <td>...</td>\n",
       "    </tr>\n",
       "    <tr>\n",
       "      <th>264</th>\n",
       "      <td>124</td>\n",
       "      <td>13</td>\n",
       "      <td>25</td>\n",
       "      <td>L’avion NY8 de la compagnie &lt;e1&gt;&lt;NON_GOVERNMEN...</td>\n",
       "      <td>NaN</td>\n",
       "    </tr>\n",
       "    <tr>\n",
       "      <th>265</th>\n",
       "      <td>124</td>\n",
       "      <td>15</td>\n",
       "      <td>25</td>\n",
       "      <td>L’avion NY8 de la compagnie Airîle a lancé sa ...</td>\n",
       "      <td>NaN</td>\n",
       "    </tr>\n",
       "    <tr>\n",
       "      <th>266</th>\n",
       "      <td>124</td>\n",
       "      <td>16</td>\n",
       "      <td>25</td>\n",
       "      <td>L’avion NY8 de la compagnie Airîle a lancé sa ...</td>\n",
       "      <td>[IS_OF_SIZE]</td>\n",
       "    </tr>\n",
       "    <tr>\n",
       "      <th>267</th>\n",
       "      <td>124</td>\n",
       "      <td>17</td>\n",
       "      <td>25</td>\n",
       "      <td>L’avion NY8 de la compagnie Airîle a lancé sa ...</td>\n",
       "      <td>NaN</td>\n",
       "    </tr>\n",
       "    <tr>\n",
       "      <th>268</th>\n",
       "      <td>124</td>\n",
       "      <td>19</td>\n",
       "      <td>25</td>\n",
       "      <td>L’avion NY8 de la compagnie Airîle a lancé sa ...</td>\n",
       "      <td>NaN</td>\n",
       "    </tr>\n",
       "  </tbody>\n",
       "</table>\n",
       "<p>269 rows × 5 columns</p>\n",
       "</div>"
      ],
      "text/plain": [
       "     text_index  e1  e2                                               text  \\\n",
       "0           124   0   0  L’avion NY8 de la compagnie Airîle a lancé sa ...   \n",
       "1           124   1   0  L’avion NY8 de la compagnie Airîle a lancé sa ...   \n",
       "2           124   0   1  L’avion NY8 de la compagnie Airîle a lancé sa ...   \n",
       "3           124   1   1  L’avion NY8 de la compagnie Airîle a lancé sa ...   \n",
       "4           124   2   0  L’avion NY8 de la compagnie Airîle a lancé sa ...   \n",
       "..          ...  ..  ..                                                ...   \n",
       "264         124  13  25  L’avion NY8 de la compagnie <e1><NON_GOVERNMEN...   \n",
       "265         124  15  25  L’avion NY8 de la compagnie Airîle a lancé sa ...   \n",
       "266         124  16  25  L’avion NY8 de la compagnie Airîle a lancé sa ...   \n",
       "267         124  17  25  L’avion NY8 de la compagnie Airîle a lancé sa ...   \n",
       "268         124  19  25  L’avion NY8 de la compagnie Airîle a lancé sa ...   \n",
       "\n",
       "             relations  \n",
       "0                  NaN  \n",
       "1    [HAS_CONSEQUENCE]  \n",
       "2                  NaN  \n",
       "3                  NaN  \n",
       "4                  NaN  \n",
       "..                 ...  \n",
       "264                NaN  \n",
       "265                NaN  \n",
       "266       [IS_OF_SIZE]  \n",
       "267                NaN  \n",
       "268                NaN  \n",
       "\n",
       "[269 rows x 5 columns]"
      ]
     },
     "execution_count": 68,
     "metadata": {},
     "output_type": "execute_result"
    }
   ],
   "source": [
    "generated_data_dir_path = os.path.join(INTERIM_DIR, \"multilabel_tagged_text_dataset\")\n",
    "# assert not os.path.exists(\n",
    "#     generated_data_dir_path\n",
    "# ), f\"You must delete this folder first {generated_data_dir_path}!\"\n",
    "\n",
    "data_generator = TextToMultiLabelDataGenerator(excluded_entity_pairs=excluded_entity_pairs)\n",
    "\n",
    "for split_name, clean_df in zip(\n",
    "    [\"test\", \"train\"],\n",
    "    [test_clean_df, labeled_clean_df],\n",
    "):\n",
    "    dest_dir_path = os.path.join(generated_data_dir_path, split_name)\n",
    "    for multilabel_data in (\n",
    "        pb := tqdm(\n",
    "            # data_generator.generate_row_multilabel_data(clean_df, only_w_relation=True if split_name!=\"test\" else False),\n",
    "            data_generator.generate_row_multilabel_data(clean_df, only_w_relation=False),\n",
    "            total=clean_df.shape[0],\n",
    "            desc=f\"{dest_dir_path} <- \",\n",
    "        )\n",
    "    ):\n",
    "        text_index = multilabel_data.iloc[0][data_generator.text_index_col]\n",
    "        dest_csv_file = os.path.join(dest_dir_path, f\"{text_index}.csv\")\n",
    "        pb.set_description(f\"{dest_csv_file} <-\")\n",
    "        save_data(multilabel_data, dest_csv_file, False)\n",
    "        # break\n",
    "    # break\n",
    "multilabel_data"
   ]
  },
  {
   "cell_type": "code",
   "execution_count": 69,
   "metadata": {},
   "outputs": [
    {
     "data": {
      "text/plain": [
       "'L’avion NY8 de la compagnie Airîle a lancé sa dernière position via le signal radio avant de se <e2><ACCIDENT>crasher</e2> dans une forêt en Malaisie le 19 février 2003. La compagnie aérienne a alerté les secours pour évacuer les passagers. Les hélicoptères d’urgence ont retrouvé l’appareil en feu. Les autorités malaisiennes ont recensé 15 morts au total. Cet <e2><ACCIDENT>incident</e2> n’a fait que peu de survivants, dont Constance Dupuis, présidente de l’association « des médicaments pour tous » en Grèce. D’après son témoignage, le NY8 a connu une <e1><ACCIDENT>défaillance technique</e1> que les pilotes n’ont pas pu contrôler. Les corps ont été transportés par brancard à la morgue.'"
      ]
     },
     "execution_count": 69,
     "metadata": {},
     "output_type": "execute_result"
    }
   ],
   "source": [
    "multilabel_data.iloc[1].text"
   ]
  },
  {
   "cell_type": "markdown",
   "metadata": {},
   "source": [
    "## Check tagged text size using a  data loader to load data from csv files\n",
    "\n",
    "to know wether the will fit at the input of the model (i.e. max of 512 tokens)"
   ]
  },
  {
   "cell_type": "markdown",
   "metadata": {},
   "source": [
    "##### add special tokens to the tokenizer"
   ]
  },
  {
   "cell_type": "code",
   "execution_count": 70,
   "metadata": {},
   "outputs": [],
   "source": [
    "# define special tokens to add to the tokenizer\n",
    "task_special_tokens = [\"<e1>\", \"</e1>\", \"<e2>\", \"</e2>\"] + [\n",
    "    f\"<{entity_class}>\" for entity_class in entity_classes\n",
    "]\n",
    "# task_special_tokens"
   ]
  },
  {
   "cell_type": "code",
   "execution_count": 71,
   "metadata": {},
   "outputs": [
    {
     "data": {
      "text/plain": [
       "59"
      ]
     },
     "execution_count": 71,
     "metadata": {},
     "output_type": "execute_result"
    }
   ],
   "source": [
    "# add special tokens to the tokenizer\n",
    "num_added_tokens = tokenizer.add_tokens(task_special_tokens, special_tokens=True)\n",
    "num_added_tokens"
   ]
  },
  {
   "cell_type": "code",
   "execution_count": 72,
   "metadata": {},
   "outputs": [
    {
     "data": {
      "text/plain": [
       "CamembertTokenizerFast(name_or_path='camembert/camembert-base', vocab_size=32005, model_max_length=1000000000000000019884624838656, is_fast=True, padding_side='right', truncation_side='right', special_tokens={'bos_token': '<s>', 'eos_token': '</s>', 'unk_token': '<unk>', 'sep_token': '</s>', 'pad_token': '<pad>', 'cls_token': '<s>', 'mask_token': '<mask>', 'additional_special_tokens': ['<s>NOTUSED', '</s>NOTUSED', '<unk>NOTUSED']}, clean_up_tokenization_spaces=True),  added_tokens_decoder={\n",
       "\t0: AddedToken(\"<s>NOTUSED\", rstrip=False, lstrip=False, single_word=False, normalized=False, special=True),\n",
       "\t1: AddedToken(\"<pad>\", rstrip=False, lstrip=False, single_word=False, normalized=False, special=True),\n",
       "\t2: AddedToken(\"</s>NOTUSED\", rstrip=False, lstrip=False, single_word=False, normalized=False, special=True),\n",
       "\t3: AddedToken(\"<unk>\", rstrip=False, lstrip=False, single_word=False, normalized=False, special=True),\n",
       "\t4: AddedToken(\"<unk>NOTUSED\", rstrip=False, lstrip=False, single_word=False, normalized=False, special=True),\n",
       "\t5: AddedToken(\"<s>\", rstrip=False, lstrip=False, single_word=False, normalized=False, special=True),\n",
       "\t6: AddedToken(\"</s>\", rstrip=False, lstrip=False, single_word=False, normalized=False, special=True),\n",
       "\t32004: AddedToken(\"<mask>\", rstrip=False, lstrip=True, single_word=False, normalized=False, special=True),\n",
       "\t32005: AddedToken(\"<e1>\", rstrip=False, lstrip=False, single_word=False, normalized=False, special=True),\n",
       "\t32006: AddedToken(\"</e1>\", rstrip=False, lstrip=False, single_word=False, normalized=False, special=True),\n",
       "\t32007: AddedToken(\"<e2>\", rstrip=False, lstrip=False, single_word=False, normalized=False, special=True),\n",
       "\t32008: AddedToken(\"</e2>\", rstrip=False, lstrip=False, single_word=False, normalized=False, special=True),\n",
       "\t32009: AddedToken(\"<QUANTITY_MAX>\", rstrip=False, lstrip=False, single_word=False, normalized=False, special=True),\n",
       "\t32010: AddedToken(\"<TERRORIST_OR_CRIMINAL>\", rstrip=False, lstrip=False, single_word=False, normalized=False, special=True),\n",
       "\t32011: AddedToken(\"<SUICIDE>\", rstrip=False, lstrip=False, single_word=False, normalized=False, special=True),\n",
       "\t32012: AddedToken(\"<NON_GOVERNMENTAL_ORGANISATION>\", rstrip=False, lstrip=False, single_word=False, normalized=False, special=True),\n",
       "\t32013: AddedToken(\"<QUANTITY_FUZZY>\", rstrip=False, lstrip=False, single_word=False, normalized=False, special=True),\n",
       "\t32014: AddedToken(\"<DRUG_OPERATION>\", rstrip=False, lstrip=False, single_word=False, normalized=False, special=True),\n",
       "\t32015: AddedToken(\"<HOOLIGANISM_TROUBLEMAKING>\", rstrip=False, lstrip=False, single_word=False, normalized=False, special=True),\n",
       "\t32016: AddedToken(\"<TIME_MIN>\", rstrip=False, lstrip=False, single_word=False, normalized=False, special=True),\n",
       "\t32017: AddedToken(\"<ILLEGAL_CIVIL_DEMONSTRATION>\", rstrip=False, lstrip=False, single_word=False, normalized=False, special=True),\n",
       "\t32018: AddedToken(\"<CRIMINAL_ARREST>\", rstrip=False, lstrip=False, single_word=False, normalized=False, special=True),\n",
       "\t32019: AddedToken(\"<TIME_EXACT>\", rstrip=False, lstrip=False, single_word=False, normalized=False, special=True),\n",
       "\t32020: AddedToken(\"<CATEGORY>\", rstrip=False, lstrip=False, single_word=False, normalized=False, special=True),\n",
       "\t32021: AddedToken(\"<ELECTION>\", rstrip=False, lstrip=False, single_word=False, normalized=False, special=True),\n",
       "\t32022: AddedToken(\"<RIOT>\", rstrip=False, lstrip=False, single_word=False, normalized=False, special=True),\n",
       "\t32023: AddedToken(\"<MILITARY_ORGANISATION>\", rstrip=False, lstrip=False, single_word=False, normalized=False, special=True),\n",
       "\t32024: AddedToken(\"<AGITATING_TROUBLE_MAKING>\", rstrip=False, lstrip=False, single_word=False, normalized=False, special=True),\n",
       "\t32025: AddedToken(\"<FIRSTNAME>\", rstrip=False, lstrip=False, single_word=False, normalized=False, special=True),\n",
       "\t32026: AddedToken(\"<CBRN_EVENT>\", rstrip=False, lstrip=False, single_word=False, normalized=False, special=True),\n",
       "\t32027: AddedToken(\"<CIVILIAN>\", rstrip=False, lstrip=False, single_word=False, normalized=False, special=True),\n",
       "\t32028: AddedToken(\"<TIME_FUZZY>\", rstrip=False, lstrip=False, single_word=False, normalized=False, special=True),\n",
       "\t32029: AddedToken(\"<DEMONSTRATION>\", rstrip=False, lstrip=False, single_word=False, normalized=False, special=True),\n",
       "\t32030: AddedToken(\"<LONGITUDE>\", rstrip=False, lstrip=False, single_word=False, normalized=False, special=True),\n",
       "\t32031: AddedToken(\"<NATIONALITY>\", rstrip=False, lstrip=False, single_word=False, normalized=False, special=True),\n",
       "\t32032: AddedToken(\"<WIDTH>\", rstrip=False, lstrip=False, single_word=False, normalized=False, special=True),\n",
       "\t32033: AddedToken(\"<TIME_MAX>\", rstrip=False, lstrip=False, single_word=False, normalized=False, special=True),\n",
       "\t32034: AddedToken(\"<THEFT>\", rstrip=False, lstrip=False, single_word=False, normalized=False, special=True),\n",
       "\t32035: AddedToken(\"<CIVIL_WAR_OUTBREAK>\", rstrip=False, lstrip=False, single_word=False, normalized=False, special=True),\n",
       "\t32036: AddedToken(\"<FIRE>\", rstrip=False, lstrip=False, single_word=False, normalized=False, special=True),\n",
       "\t32037: AddedToken(\"<GROUP_OF_INDIVIDUALS>\", rstrip=False, lstrip=False, single_word=False, normalized=False, special=True),\n",
       "\t32038: AddedToken(\"<POLLUTION>\", rstrip=False, lstrip=False, single_word=False, normalized=False, special=True),\n",
       "\t32039: AddedToken(\"<GATHERING>\", rstrip=False, lstrip=False, single_word=False, normalized=False, special=True),\n",
       "\t32040: AddedToken(\"<MATERIAL_REFERENCE>\", rstrip=False, lstrip=False, single_word=False, normalized=False, special=True),\n",
       "\t32041: AddedToken(\"<QUANTITY_MIN>\", rstrip=False, lstrip=False, single_word=False, normalized=False, special=True),\n",
       "\t32042: AddedToken(\"<COUP_D_ETAT>\", rstrip=False, lstrip=False, single_word=False, normalized=False, special=True),\n",
       "\t32043: AddedToken(\"<TRAFFICKING>\", rstrip=False, lstrip=False, single_word=False, normalized=False, special=True),\n",
       "\t32044: AddedToken(\"<COLOR>\", rstrip=False, lstrip=False, single_word=False, normalized=False, special=True),\n",
       "\t32045: AddedToken(\"<BOMBING>\", rstrip=False, lstrip=False, single_word=False, normalized=False, special=True),\n",
       "\t32046: AddedToken(\"<HEIGHT>\", rstrip=False, lstrip=False, single_word=False, normalized=False, special=True),\n",
       "\t32047: AddedToken(\"<ACCIDENT>\", rstrip=False, lstrip=False, single_word=False, normalized=False, special=True),\n",
       "\t32048: AddedToken(\"<EPIDEMIC>\", rstrip=False, lstrip=False, single_word=False, normalized=False, special=True),\n",
       "\t32049: AddedToken(\"<LATITUDE>\", rstrip=False, lstrip=False, single_word=False, normalized=False, special=True),\n",
       "\t32050: AddedToken(\"<INTERGOVERNMENTAL_ORGANISATION>\", rstrip=False, lstrip=False, single_word=False, normalized=False, special=True),\n",
       "\t32051: AddedToken(\"<NATURAL_CAUSES_DEATH>\", rstrip=False, lstrip=False, single_word=False, normalized=False, special=True),\n",
       "\t32052: AddedToken(\"<ECONOMICAL_CRISIS>\", rstrip=False, lstrip=False, single_word=False, normalized=False, special=True),\n",
       "\t32053: AddedToken(\"<NON_MILITARY_GOVERNMENT_ORGANISATION>\", rstrip=False, lstrip=False, single_word=False, normalized=False, special=True),\n",
       "\t32054: AddedToken(\"<LASTNAME>\", rstrip=False, lstrip=False, single_word=False, normalized=False, special=True),\n",
       "\t32055: AddedToken(\"<WEIGHT>\", rstrip=False, lstrip=False, single_word=False, normalized=False, special=True),\n",
       "\t32056: AddedToken(\"<NATURAL_EVENT>\", rstrip=False, lstrip=False, single_word=False, normalized=False, special=True),\n",
       "\t32057: AddedToken(\"<POLITICAL_VIOLENCE>\", rstrip=False, lstrip=False, single_word=False, normalized=False, special=True),\n",
       "\t32058: AddedToken(\"<MATERIEL>\", rstrip=False, lstrip=False, single_word=False, normalized=False, special=True),\n",
       "\t32059: AddedToken(\"<PLACE>\", rstrip=False, lstrip=False, single_word=False, normalized=False, special=True),\n",
       "\t32060: AddedToken(\"<MILITARY>\", rstrip=False, lstrip=False, single_word=False, normalized=False, special=True),\n",
       "\t32061: AddedToken(\"<QUANTITY_EXACT>\", rstrip=False, lstrip=False, single_word=False, normalized=False, special=True),\n",
       "\t32062: AddedToken(\"<STRIKE>\", rstrip=False, lstrip=False, single_word=False, normalized=False, special=True),\n",
       "\t32063: AddedToken(\"<LENGTH>\", rstrip=False, lstrip=False, single_word=False, normalized=False, special=True),\n",
       "}"
      ]
     },
     "execution_count": 72,
     "metadata": {},
     "output_type": "execute_result"
    }
   ],
   "source": [
    "tokenizer"
   ]
  },
  {
   "cell_type": "markdown",
   "metadata": {},
   "source": [
    "### initialize the data loader"
   ]
  },
  {
   "cell_type": "code",
   "execution_count": 73,
   "metadata": {},
   "outputs": [
    {
     "data": {
      "application/vnd.jupyter.widget-view+json": {
       "model_id": "c651427c1a0e4baca90b81603e12a7c0",
       "version_major": 2,
       "version_minor": 0
      },
      "text/plain": [
       "Resolving data files:   0%|          | 0/800 [00:00<?, ?it/s]"
      ]
     },
     "metadata": {},
     "output_type": "display_data"
    },
    {
     "data": {
      "application/vnd.jupyter.widget-view+json": {
       "model_id": "a53fd788e4dd483ea40ee5b17b327be1",
       "version_major": 2,
       "version_minor": 0
      },
      "text/plain": [
       "Resolving data files:   0%|          | 0/400 [00:00<?, ?it/s]"
      ]
     },
     "metadata": {},
     "output_type": "display_data"
    },
    {
     "data": {
      "application/vnd.jupyter.widget-view+json": {
       "model_id": "b1b7fdcc00f946ba9d87f55560f1dec0",
       "version_major": 2,
       "version_minor": 0
      },
      "text/plain": [
       "Downloading data:   0%|          | 0/800 [00:00<?, ?files/s]"
      ]
     },
     "metadata": {},
     "output_type": "display_data"
    },
    {
     "data": {
      "application/vnd.jupyter.widget-view+json": {
       "model_id": "bc42367d830049caada2e03fa1835b59",
       "version_major": 2,
       "version_minor": 0
      },
      "text/plain": [
       "Downloading data:   0%|          | 0/400 [00:00<?, ?files/s]"
      ]
     },
     "metadata": {},
     "output_type": "display_data"
    },
    {
     "data": {
      "application/vnd.jupyter.widget-view+json": {
       "model_id": "c86cb03d900a44f9bcbe33c431f4381f",
       "version_major": 2,
       "version_minor": 0
      },
      "text/plain": [
       "Generating train split: 0 examples [00:00, ? examples/s]"
      ]
     },
     "metadata": {},
     "output_type": "display_data"
    },
    {
     "data": {
      "application/vnd.jupyter.widget-view+json": {
       "model_id": "8dda82cd3eca4f96b0e39c3dc5a66fba",
       "version_major": 2,
       "version_minor": 0
      },
      "text/plain": [
       "Generating test split: 0 examples [00:00, ? examples/s]"
      ]
     },
     "metadata": {},
     "output_type": "display_data"
    }
   ],
   "source": [
    "interim_dataset = load_dataset(\n",
    "    \"csv\",\n",
    "    name=\"multilabel_tagged_text_dataset\",\n",
    "    data_dir=\"data/defi-text-mine-2025/interim/multilabel_tagged_text_dataset/\",\n",
    "    streaming=False,\n",
    ")"
   ]
  },
  {
   "cell_type": "code",
   "execution_count": 74,
   "metadata": {},
   "outputs": [
    {
     "data": {
      "text/plain": [
       "DatasetDict({\n",
       "    train: Dataset({\n",
       "        features: ['text_index', 'e1', 'e2', 'text', 'relations'],\n",
       "        num_rows: 124005\n",
       "    })\n",
       "    test: Dataset({\n",
       "        features: ['text_index', 'e1', 'e2', 'text', 'relations'],\n",
       "        num_rows: 53882\n",
       "    })\n",
       "})"
      ]
     },
     "execution_count": 74,
     "metadata": {},
     "output_type": "execute_result"
    }
   ],
   "source": [
    "interim_dataset"
   ]
  },
  {
   "cell_type": "code",
   "execution_count": 75,
   "metadata": {},
   "outputs": [
    {
     "data": {
      "text/plain": [
       "{'text_index': 11,\n",
       " 'e1': 0,\n",
       " 'e2': 0,\n",
       " 'text': \"Le 2 juillet 2022, un <e1><ACCIDENT>accident</e1> s'est produit entre une moto et un bus sur la RN 174 à Saint-Lô. Ce dernier transportait 30 passagers issus du syndicat de lutte contre le racisme. Un panneau de signalisation a été <e1><ACCIDENT>percuté</e1> et 2 personnes sont mortes sur le coup. Le Président du Syndicat, Monsieur Smith Aarone, était parmi les blessés. Il a immédiatement été transporté en hélicoptère à l'hôpital. Ayant conduit sans permis et en état d’ivresse, le conducteur de la moto a été retrouvé mort au bas d'un talus. Les journalistes sont ensuite arrivés sur le lieu avec leurs caméras, pour interroger les policiers sur les causes de l'<e1><ACCIDENT>accident</e1>.\",\n",
       " 'relations': None}"
      ]
     },
     "execution_count": 75,
     "metadata": {},
     "output_type": "execute_result"
    }
   ],
   "source": [
    "interim_dataset[\"train\"][0]"
   ]
  },
  {
   "cell_type": "code",
   "execution_count": 76,
   "metadata": {},
   "outputs": [
    {
     "data": {
      "text/plain": [
       "{'text_index': 11,\n",
       " 'e1': 0,\n",
       " 'e2': 1,\n",
       " 'text': \"Le 2 juillet 2022, un <e1><ACCIDENT>accident</e1> s'est produit entre une moto et un bus sur la <e2><PLACE>RN 174</e2> à Saint-Lô. Ce dernier transportait 30 passagers issus du syndicat de lutte contre le racisme. Un panneau de signalisation a été <e1><ACCIDENT>percuté</e1> et 2 personnes sont mortes sur le coup. Le Président du Syndicat, Monsieur Smith Aarone, était parmi les blessés. Il a immédiatement été transporté en hélicoptère à l'hôpital. Ayant conduit sans permis et en état d’ivresse, le conducteur de la moto a été retrouvé mort au bas d'un talus. Les journalistes sont ensuite arrivés sur le <e2><PLACE>lieu</e2> avec leurs caméras, pour interroger les policiers sur les causes de l'<e1><ACCIDENT>accident</e1>.\",\n",
       " 'relations': \"['IS_LOCATED_IN', 'STARTED_IN']\"}"
      ]
     },
     "execution_count": 76,
     "metadata": {},
     "output_type": "execute_result"
    }
   ],
   "source": [
    "interim_dataset[\"train\"][1]"
   ]
  },
  {
   "cell_type": "code",
   "execution_count": 77,
   "metadata": {},
   "outputs": [
    {
     "data": {
      "text/plain": [
       "{'text_index': 1102,\n",
       " 'e1': 2,\n",
       " 'e2': 3,\n",
       " 'text': \"Le 5 février 2022 à Marseille, un <e1><CIVILIAN>automobiliste</e1> âgé de 35 ans est mort dans sa <e2><MATERIEL>voiture</e2> après avoir percuté un bâtiment. Afin de minimiser les dégâts, des engins et des équipements spécialisés ont été utilisés pour retirer la <e2><MATERIEL>voiture</e2> du bâtiment. Après constat, l'inspecteur Charles Laurent de la police scientifique a détecté la présence d'alcool et de drogue dans le sang du <e1><CIVILIAN>conducteur</e1>. <e1><CIVILIAN>Ce dernier</e1> correspondait au signalement dans les avis de recherche de la police : <e1><CIVILIAN>homme mince, roux et aux cheveux courts</e1>. Il y a quelques jours, les habitants avaient remarqué un <e1><CIVILIAN>homme</e1> ressemblant au <e1><CIVILIAN>suspect</e1>, vêtu d'une chemise bleue et d'un pantalon noir, muni d'une arme à feu.\",\n",
       " 'relations': None}"
      ]
     },
     "execution_count": 77,
     "metadata": {},
     "output_type": "execute_result"
    }
   ],
   "source": [
    "interim_dataset[\"test\"][7]"
   ]
  },
  {
   "cell_type": "markdown",
   "metadata": {},
   "source": [
    "### Count tokens"
   ]
  },
  {
   "cell_type": "code",
   "execution_count": 78,
   "metadata": {},
   "outputs": [
    {
     "data": {
      "application/vnd.jupyter.widget-view+json": {
       "model_id": "8eb5899c8cbe486e90e8d323f83036ea",
       "version_major": 2,
       "version_minor": 0
      },
      "text/plain": [
       "Map:   0%|          | 0/124005 [00:00<?, ? examples/s]"
      ]
     },
     "metadata": {},
     "output_type": "display_data"
    },
    {
     "data": {
      "application/vnd.jupyter.widget-view+json": {
       "model_id": "e03a117e20f846849c8d62a5ba0cd0be",
       "version_major": 2,
       "version_minor": 0
      },
      "text/plain": [
       "Map:   0%|          | 0/53882 [00:00<?, ? examples/s]"
      ]
     },
     "metadata": {},
     "output_type": "display_data"
    },
    {
     "data": {
      "text/plain": [
       "DatasetDict({\n",
       "    train: Dataset({\n",
       "        features: ['text_index', 'e1', 'e2', 'text', 'relations', 'n_tokens'],\n",
       "        num_rows: 124005\n",
       "    })\n",
       "    test: Dataset({\n",
       "        features: ['text_index', 'e1', 'e2', 'text', 'relations', 'n_tokens'],\n",
       "        num_rows: 53882\n",
       "    })\n",
       "})"
      ]
     },
     "execution_count": 78,
     "metadata": {},
     "output_type": "execute_result"
    }
   ],
   "source": [
    "def count_token_in_dataset_element(example: Dict[str, Any]) -> Dict[str, int]:\n",
    "    return {\"n_tokens\": count_tokens(example[\"text\"])}\n",
    "\n",
    "\n",
    "interim_dataset = interim_dataset.map(count_token_in_dataset_element)\n",
    "interim_dataset"
   ]
  },
  {
   "cell_type": "code",
   "execution_count": 79,
   "metadata": {},
   "outputs": [
    {
     "name": "stderr",
     "output_type": "stream",
     "text": [
      "train: 100%|██████████| 124005/124005 [00:02<00:00, 43683.74it/s]\n",
      "test: 100%|██████████| 53882/53882 [00:01<00:00, 42133.61it/s]\n"
     ]
    },
    {
     "data": {
      "text/html": [
       "<div>\n",
       "<style scoped>\n",
       "    .dataframe tbody tr th:only-of-type {\n",
       "        vertical-align: middle;\n",
       "    }\n",
       "\n",
       "    .dataframe tbody tr th {\n",
       "        vertical-align: top;\n",
       "    }\n",
       "\n",
       "    .dataframe thead th {\n",
       "        text-align: right;\n",
       "    }\n",
       "</style>\n",
       "<table border=\"1\" class=\"dataframe\">\n",
       "  <thead>\n",
       "    <tr style=\"text-align: right;\">\n",
       "      <th></th>\n",
       "      <th>train</th>\n",
       "      <th>test</th>\n",
       "    </tr>\n",
       "  </thead>\n",
       "  <tbody>\n",
       "    <tr>\n",
       "      <th>count</th>\n",
       "      <td>124005.000000</td>\n",
       "      <td>53882.000000</td>\n",
       "    </tr>\n",
       "    <tr>\n",
       "      <th>mean</th>\n",
       "      <td>173.498827</td>\n",
       "      <td>173.371367</td>\n",
       "    </tr>\n",
       "    <tr>\n",
       "      <th>std</th>\n",
       "      <td>30.477500</td>\n",
       "      <td>27.411951</td>\n",
       "    </tr>\n",
       "    <tr>\n",
       "      <th>min</th>\n",
       "      <td>79.000000</td>\n",
       "      <td>41.000000</td>\n",
       "    </tr>\n",
       "    <tr>\n",
       "      <th>25%</th>\n",
       "      <td>153.000000</td>\n",
       "      <td>153.000000</td>\n",
       "    </tr>\n",
       "    <tr>\n",
       "      <th>50%</th>\n",
       "      <td>168.000000</td>\n",
       "      <td>169.000000</td>\n",
       "    </tr>\n",
       "    <tr>\n",
       "      <th>75%</th>\n",
       "      <td>188.000000</td>\n",
       "      <td>188.000000</td>\n",
       "    </tr>\n",
       "    <tr>\n",
       "      <th>max</th>\n",
       "      <td>367.000000</td>\n",
       "      <td>295.000000</td>\n",
       "    </tr>\n",
       "  </tbody>\n",
       "</table>\n",
       "</div>"
      ],
      "text/plain": [
       "               train          test\n",
       "count  124005.000000  53882.000000\n",
       "mean      173.498827    173.371367\n",
       "std        30.477500     27.411951\n",
       "min        79.000000     41.000000\n",
       "25%       153.000000    153.000000\n",
       "50%       168.000000    169.000000\n",
       "75%       188.000000    188.000000\n",
       "max       367.000000    295.000000"
      ]
     },
     "execution_count": 79,
     "metadata": {},
     "output_type": "execute_result"
    }
   ],
   "source": [
    "split2ntokens_df = pd.DataFrame(\n",
    "    {\n",
    "        split_name: pd.Series(\n",
    "            [e[\"n_tokens\"] for e in tqdm(interim_dataset[split_name], split_name)],\n",
    "            name=f\"{split_name}_text_n_tokens\",\n",
    "        )\n",
    "        for split_name in interim_dataset.keys()\n",
    "    }\n",
    ")\n",
    "split2ntokens_df.describe()"
   ]
  },
  {
   "cell_type": "code",
   "execution_count": 80,
   "metadata": {},
   "outputs": [
    {
     "data": {
      "text/plain": [
       "array([[<Axes: title={'center': 'train'}>,\n",
       "        <Axes: title={'center': 'test'}>]], dtype=object)"
      ]
     },
     "execution_count": 80,
     "metadata": {},
     "output_type": "execute_result"
    },
    {
     "data": {
      "image/png": "[encoded data removed]",
      "text/plain": [
       "<Figure size 640x480 with 2 Axes>"
      ]
     },
     "metadata": {},
     "output_type": "display_data"
    }
   ],
   "source": [
    "split2ntokens_df.hist()"
   ]
  },
  {
   "cell_type": "code",
   "execution_count": 81,
   "metadata": {},
   "outputs": [
    {
     "data": {
      "text/plain": [
       "{'text_index': 11,\n",
       " 'e1': 0,\n",
       " 'e2': 0,\n",
       " 'text': \"Le 2 juillet 2022, un <e1><ACCIDENT>accident</e1> s'est produit entre une moto et un bus sur la RN 174 à Saint-Lô. Ce dernier transportait 30 passagers issus du syndicat de lutte contre le racisme. Un panneau de signalisation a été <e1><ACCIDENT>percuté</e1> et 2 personnes sont mortes sur le coup. Le Président du Syndicat, Monsieur Smith Aarone, était parmi les blessés. Il a immédiatement été transporté en hélicoptère à l'hôpital. Ayant conduit sans permis et en état d’ivresse, le conducteur de la moto a été retrouvé mort au bas d'un talus. Les journalistes sont ensuite arrivés sur le lieu avec leurs caméras, pour interroger les policiers sur les causes de l'<e1><ACCIDENT>accident</e1>.\",\n",
       " 'relations': None,\n",
       " 'n_tokens': 150}"
      ]
     },
     "execution_count": 81,
     "metadata": {},
     "output_type": "execute_result"
    }
   ],
   "source": [
    "interim_dataset[\"train\"][0]"
   ]
  }
 ],
 "metadata": {
  "kernelspec": {
   "display_name": "kgl11",
   "language": "python",
   "name": "python3"
  },
  "language_info": {
   "codemirror_mode": {
    "name": "ipython",
    "version": 3
   },
   "file_extension": ".py",
   "mimetype": "text/x-python",
   "name": "python",
   "nbconvert_exporter": "python",
   "pygments_lexer": "ipython3",
   "version": "3.11.8"
  }
 },
 "nbformat": 4,
 "nbformat_minor": 2
}
