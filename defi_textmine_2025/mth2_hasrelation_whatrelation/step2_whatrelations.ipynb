{
 "cells": [
  {
   "cell_type": "markdown",
   "metadata": {},
   "source": [
    "## Imports & constants"
   ]
  },
  {
   "cell_type": "code",
   "execution_count": 1,
   "metadata": {},
   "outputs": [
    {
     "name": "stderr",
     "output_type": "stream",
     "text": [
      "[18:36:55|INFO|config.py:58] PyTorch version 2.3.1 available.\n",
      "[18:36:55|INFO|config.py:105] TensorFlow version 2.16.2 available.\n",
      "2024-10-10 18:36:55.776117: I tensorflow/core/util/port.cc:113] oneDNN custom operations are on. You may see slightly different numerical results due to floating-point round-off errors from different computation orders. To turn them off, set the environment variable `TF_ENABLE_ONEDNN_OPTS=0`.\n",
      "2024-10-10 18:36:55.784685: E external/local_xla/xla/stream_executor/cuda/cuda_fft.cc:479] Unable to register cuFFT factory: Attempting to register factory for plugin cuFFT when one has already been registered\n",
      "2024-10-10 18:36:55.796950: E external/local_xla/xla/stream_executor/cuda/cuda_dnn.cc:10575] Unable to register cuDNN factory: Attempting to register factory for plugin cuDNN when one has already been registered\n",
      "2024-10-10 18:36:55.796990: E external/local_xla/xla/stream_executor/cuda/cuda_blas.cc:1442] Unable to register cuBLAS factory: Attempting to register factory for plugin cuBLAS when one has already been registered\n",
      "2024-10-10 18:36:55.805467: I tensorflow/core/platform/cpu_feature_guard.cc:210] This TensorFlow binary is optimized to use available CPU instructions in performance-critical operations.\n",
      "To enable the following instructions: AVX2 AVX_VNNI FMA, in other operations, rebuild TensorFlow with the appropriate compiler flags.\n",
      "2024-10-10 18:36:56.754279: W tensorflow/compiler/tf2tensorrt/utils/py_utils.cc:38] TF-TRT Warning: Could not find TensorRT\n"
     ]
    }
   ],
   "source": [
    "import os\n",
    "from typing import List\n",
    "import json\n",
    "import glob\n",
    "import pandas as pd\n",
    "import numpy as np\n",
    "import matplotlib.pyplot as plt\n",
    "import shutil\n",
    "import sys\n",
    "import logging \n",
    "\n",
    "logging.basicConfig(\n",
    "     level=logging.INFO, \n",
    "     format= '[%(asctime)s|%(levelname)s|%(module)s.py:%(lineno)s] %(message)s',\n",
    "     datefmt='%H:%M:%S'\n",
    " )\n",
    "import tqdm.notebook as tq\n",
    "from tqdm import tqdm\n",
    "# Create new `pandas` methods which use `tqdm` progress\n",
    "# (can use tqdm_gui, optional kwargs, etc.)\n",
    "tqdm.pandas()\n",
    "\n",
    "from sklearn.preprocessing import MultiLabelBinarizer\n",
    "from sklearn.metrics import precision_score, recall_score\n",
    "from sklearn.metrics import accuracy_score, confusion_matrix, classification_report, f1_score, precision_score, recall_score, ConfusionMatrixDisplay\n",
    "from sklearn.model_selection import train_test_split\n",
    "from mlcm import mlcm  # for confusion matrix\n",
    "\n",
    "import torch\n",
    "from torch import nn\n",
    "from datasets import Dataset, DatasetDict\n",
    "from transformers import (\n",
    "    AutoTokenizer, AutoModelForSequenceClassification, DataCollatorWithPadding, \n",
    "    TrainingArguments, Trainer, EarlyStoppingCallback, IntervalStrategy\n",
    ")\n",
    "\n",
    "from defi_textmine_2025.data.utils import TARGET_COL, INTERIM_DIR, MODELS_DIR, compute_class_weights"
   ]
  },
  {
   "cell_type": "code",
   "execution_count": 2,
   "metadata": {},
   "outputs": [
    {
     "name": "stderr",
     "output_type": "stream",
     "text": [
      "[18:36:58|INFO|1827834877.py:15] STEP2_TASK_TARGET_COLS=['CREATED', 'DEATHS_NUMBER', 'DIED_IN', 'END_DATE', 'GENDER_FEMALE', 'GENDER_MALE', 'HAS_CATEGORY', 'HAS_COLOR', 'HAS_CONSEQUENCE', 'HAS_CONTROL_OVER', 'HAS_FAMILY_RELATIONSHIP', 'HAS_FOR_HEIGHT', 'HAS_FOR_LENGTH', 'HAS_FOR_WIDTH', 'HAS_LATITUDE', 'HAS_LONGITUDE', 'HAS_QUANTITY', 'INITIATED', 'INJURED_NUMBER', 'IS_AT_ODDS_WITH', 'IS_BORN_IN', 'IS_BORN_ON', 'IS_COOPERATING_WITH', 'IS_DEAD_ON', 'IS_IN_CONTACT_WITH', 'IS_LOCATED_IN', 'IS_OF_NATIONALITY', 'IS_OF_SIZE', 'IS_PART_OF', 'IS_REGISTERED_AS', 'OPERATES_IN', 'RESIDES_IN', 'STARTED_IN', 'START_DATE', 'WAS_CREATED_IN', 'WAS_DISSOLVED_IN', 'WEIGHS']\n",
      "[18:36:58|INFO|1827834877.py:28] device=device(type='cuda')\n"
     ]
    }
   ],
   "source": [
    "RANDOM_SEED = 123  # random reproducibility\n",
    "np.random.seed(RANDOM_SEED)\n",
    "BASE_CHECKPOINT = \"camembert/camembert-large\"\n",
    "# BASE_CHECKPOINT = \"flaubert/flaubert_base_cased\"\n",
    "STEP2_TASK_NAME = \"whatrelation\"\n",
    "STEP1_TASK_TARGET_COL = \"label\"\n",
    "TASK_INPUT_COL = \"input_text\"\n",
    "\n",
    "entity_classes = {'TERRORIST_OR_CRIMINAL', 'LASTNAME', 'LENGTH', 'NATURAL_CAUSES_DEATH', 'COLOR', 'STRIKE', 'DRUG_OPERATION', 'HEIGHT', 'INTERGOVERNMENTAL_ORGANISATION', 'TRAFFICKING', 'NON_MILITARY_GOVERNMENT_ORGANISATION', 'TIME_MIN', 'DEMONSTRATION', 'TIME_EXACT', 'FIRE', 'QUANTITY_MIN', 'MATERIEL', 'GATHERING', 'PLACE', 'CRIMINAL_ARREST', 'CBRN_EVENT', 'ECONOMICAL_CRISIS', 'ACCIDENT', 'LONGITUDE', 'BOMBING', 'MATERIAL_REFERENCE', 'WIDTH', 'FIRSTNAME', 'MILITARY_ORGANISATION', 'CIVILIAN', 'QUANTITY_MAX', 'CATEGORY', 'POLITICAL_VIOLENCE', 'EPIDEMIC', 'TIME_MAX', 'TIME_FUZZY', 'NATURAL_EVENT', 'SUICIDE', 'CIVIL_WAR_OUTBREAK', 'POLLUTION', 'ILLEGAL_CIVIL_DEMONSTRATION', 'NATIONALITY', 'GROUP_OF_INDIVIDUALS', 'QUANTITY_FUZZY', 'RIOT', 'WEIGHT', 'THEFT', 'MILITARY', 'NON_GOVERNMENTAL_ORGANISATION', 'LATITUDE', 'COUP_D_ETAT', 'ELECTION', 'HOOLIGANISM_TROUBLEMAKING', 'QUANTITY_EXACT', 'AGITATING_TROUBLE_MAKING'}\n",
    "categories_to_check = ['END_DATE', 'GENDER_MALE', 'WEIGHS', 'DIED_IN', 'HAS_FAMILY_RELATIONSHIP', 'IS_DEAD_ON', 'IS_IN_CONTACT_WITH', 'HAS_CATEGORY', 'HAS_CONTROL_OVER', 'IS_BORN_IN', 'IS_OF_SIZE', 'HAS_LATITUDE', 'IS_PART_OF', 'IS_OF_NATIONALITY', 'IS_COOPERATING_WITH', 'DEATHS_NUMBER', 'HAS_FOR_HEIGHT', 'INITIATED', 'WAS_DISSOLVED_IN', 'HAS_COLOR', 'CREATED', 'IS_LOCATED_IN', 'WAS_CREATED_IN', 'IS_AT_ODDS_WITH', 'HAS_CONSEQUENCE', 'HAS_FOR_LENGTH', 'INJURED_NUMBER', 'START_DATE', 'STARTED_IN', 'GENDER_FEMALE', 'HAS_LONGITUDE', 'RESIDES_IN', 'HAS_FOR_WIDTH', 'IS_BORN_ON', 'HAS_QUANTITY', 'OPERATES_IN', 'IS_REGISTERED_AS']\n",
    "\n",
    "onehot_label_encoder = MultiLabelBinarizer()\n",
    "onehot_label_encoder.fit([categories_to_check])\n",
    "STEP2_TASK_TARGET_COLS = onehot_label_encoder.classes_.tolist()\n",
    "logging.info(f\"{STEP2_TASK_TARGET_COLS=}\")\n",
    "\n",
    "\n",
    "generated_data_dir_path = os.path.join(INTERIM_DIR, \"reduced_text_w_entity_bracket\")\n",
    "assert os.path.exists(generated_data_dir_path)\n",
    "train_dir = os.path.join(generated_data_dir_path, \"train\")\n",
    "test_dir = os.path.join(generated_data_dir_path, \"test\")\n",
    "\n",
    "preprocessed_data_dir = os.path.join(INTERIM_DIR, \"one_hot_reduced_text_w_entity_bracket\")\n",
    "labeled_preprocessed_data_dir_path = os.path.join(preprocessed_data_dir,\"train\")\n",
    "! mkdir -p {labeled_preprocessed_data_dir_path}\n",
    "\n",
    "device = torch.device('cuda') if torch.cuda.is_available() else torch.device('cpu')\n",
    "logging.info(f\"{device=}\")"
   ]
  },
  {
   "cell_type": "code",
   "execution_count": 3,
   "metadata": {},
   "outputs": [],
   "source": [
    "def get_cat_var_distribution(cat_var: pd.Series | pd.DataFrame) -> pd.DataFrame:\n",
    "    if isinstance(cat_var, pd.Series):\n",
    "        return pd.concat([cat_var.value_counts(), cat_var.value_counts(normalize=True)], axis=1)\n",
    "    else:\n",
    "        return pd.concat([cat_var.sum(axis=0).rename(\"count\"), (cat_var.sum(axis=0)/cat_var.shape[0]).rename(\"proportion\")], axis=1)\n",
    "        "
   ]
  },
  {
   "cell_type": "markdown",
   "metadata": {},
   "source": [
    "## Prepare the datasets for the binary text classification"
   ]
  },
  {
   "cell_type": "markdown",
   "metadata": {},
   "source": [
    "### Load and process the target"
   ]
  },
  {
   "cell_type": "code",
   "execution_count": 4,
   "metadata": {},
   "outputs": [
    {
     "name": "stderr",
     "output_type": "stream",
     "text": [
      "[18:37:00|INFO|1963417213.py:10] labeled_df.shape=(122044, 8)\n"
     ]
    },
    {
     "data": {
      "text/html": [
       "<div>\n",
       "<style scoped>\n",
       "    .dataframe tbody tr th:only-of-type {\n",
       "        vertical-align: middle;\n",
       "    }\n",
       "\n",
       "    .dataframe tbody tr th {\n",
       "        vertical-align: top;\n",
       "    }\n",
       "\n",
       "    .dataframe thead th {\n",
       "        text-align: right;\n",
       "    }\n",
       "</style>\n",
       "<table border=\"1\" class=\"dataframe\">\n",
       "  <thead>\n",
       "    <tr style=\"text-align: right;\">\n",
       "      <th></th>\n",
       "      <th>text_index</th>\n",
       "      <th>e1_id</th>\n",
       "      <th>e2_id</th>\n",
       "      <th>e1_type</th>\n",
       "      <th>e2_type</th>\n",
       "      <th>text</th>\n",
       "      <th>relations</th>\n",
       "      <th>reduced_text</th>\n",
       "    </tr>\n",
       "  </thead>\n",
       "  <tbody>\n",
       "    <tr>\n",
       "      <th>0</th>\n",
       "      <td>2576</td>\n",
       "      <td>1</td>\n",
       "      <td>0</td>\n",
       "      <td>FIRE</td>\n",
       "      <td>GATHERING</td>\n",
       "      <td>Le matin du 10 janvier 2010, Arthur et Jacques...</td>\n",
       "      <td>NaN</td>\n",
       "      <td>Au milieu de l’[ interview ], un { incendie } ...</td>\n",
       "    </tr>\n",
       "    <tr>\n",
       "      <th>1</th>\n",
       "      <td>2576</td>\n",
       "      <td>0</td>\n",
       "      <td>1</td>\n",
       "      <td>GATHERING</td>\n",
       "      <td>FIRE</td>\n",
       "      <td>Le matin du 10 janvier 2010, Arthur et Jacques...</td>\n",
       "      <td>['HAS_CONSEQUENCE']</td>\n",
       "      <td>Au milieu de l’{ interview }, un [ incendie ] ...</td>\n",
       "    </tr>\n",
       "  </tbody>\n",
       "</table>\n",
       "</div>"
      ],
      "text/plain": [
       "   text_index  e1_id  e2_id    e1_type    e2_type  \\\n",
       "0        2576      1      0       FIRE  GATHERING   \n",
       "1        2576      0      1  GATHERING       FIRE   \n",
       "\n",
       "                                                text            relations  \\\n",
       "0  Le matin du 10 janvier 2010, Arthur et Jacques...                  NaN   \n",
       "1  Le matin du 10 janvier 2010, Arthur et Jacques...  ['HAS_CONSEQUENCE']   \n",
       "\n",
       "                                        reduced_text  \n",
       "0  Au milieu de l’[ interview ], un { incendie } ...  \n",
       "1  Au milieu de l’{ interview }, un [ incendie ] ...  "
      ]
     },
     "execution_count": 4,
     "metadata": {},
     "output_type": "execute_result"
    }
   ],
   "source": [
    "def load_csv(dir_or_file_path: str, index_col=None, sep=',') -> pd.DataFrame:\n",
    "    if os.path.isdir(dir_or_file_path):\n",
    "        all_files = glob.glob(os.path.join(dir_or_file_path , \"*.csv\"))  \n",
    "    else:\n",
    "        assert dir_or_file_path.endswith(\".csv\")\n",
    "        all_files = [dir_or_file_path]\n",
    "    assert len(all_files) > 0\n",
    "    return pd.concat([pd.read_csv(filename, index_col=index_col, header=0, sep=sep) for filename in all_files], axis=0, ignore_index=True)\n",
    "labeled_df = load_csv(train_dir, index_col=0)\n",
    "logging.info(f\"{labeled_df.shape=}\")\n",
    "labeled_df.head(2)"
   ]
  },
  {
   "cell_type": "code",
   "execution_count": 5,
   "metadata": {},
   "outputs": [
    {
     "name": "stderr",
     "output_type": "stream",
     "text": [
      "[18:37:00|INFO|2499796467.py:16] labeled_df.shape=(122044, 47)\n"
     ]
    },
    {
     "data": {
      "text/html": [
       "<div>\n",
       "<style scoped>\n",
       "    .dataframe tbody tr th:only-of-type {\n",
       "        vertical-align: middle;\n",
       "    }\n",
       "\n",
       "    .dataframe tbody tr th {\n",
       "        vertical-align: top;\n",
       "    }\n",
       "\n",
       "    .dataframe thead th {\n",
       "        text-align: right;\n",
       "    }\n",
       "</style>\n",
       "<table border=\"1\" class=\"dataframe\">\n",
       "  <thead>\n",
       "    <tr style=\"text-align: right;\">\n",
       "      <th></th>\n",
       "      <th>text_index</th>\n",
       "      <th>e1_id</th>\n",
       "      <th>e2_id</th>\n",
       "      <th>e1_type</th>\n",
       "      <th>e2_type</th>\n",
       "      <th>text</th>\n",
       "      <th>relations</th>\n",
       "      <th>reduced_text</th>\n",
       "      <th>input_text</th>\n",
       "      <th>label</th>\n",
       "      <th>...</th>\n",
       "      <th>IS_OF_SIZE</th>\n",
       "      <th>IS_PART_OF</th>\n",
       "      <th>IS_REGISTERED_AS</th>\n",
       "      <th>OPERATES_IN</th>\n",
       "      <th>RESIDES_IN</th>\n",
       "      <th>STARTED_IN</th>\n",
       "      <th>START_DATE</th>\n",
       "      <th>WAS_CREATED_IN</th>\n",
       "      <th>WAS_DISSOLVED_IN</th>\n",
       "      <th>WEIGHS</th>\n",
       "    </tr>\n",
       "  </thead>\n",
       "  <tbody>\n",
       "    <tr>\n",
       "      <th>0</th>\n",
       "      <td>2576</td>\n",
       "      <td>1</td>\n",
       "      <td>0</td>\n",
       "      <td>FIRE</td>\n",
       "      <td>GATHERING</td>\n",
       "      <td>Le matin du 10 janvier 2010, Arthur et Jacques...</td>\n",
       "      <td>NaN</td>\n",
       "      <td>Au milieu de l’[ interview ], un { incendie } ...</td>\n",
       "      <td>Au milieu de l’[ interview ], un { incendie } ...</td>\n",
       "      <td>0</td>\n",
       "      <td>...</td>\n",
       "      <td>0.0</td>\n",
       "      <td>0.0</td>\n",
       "      <td>0.0</td>\n",
       "      <td>0.0</td>\n",
       "      <td>0.0</td>\n",
       "      <td>0.0</td>\n",
       "      <td>0.0</td>\n",
       "      <td>0.0</td>\n",
       "      <td>0.0</td>\n",
       "      <td>0.0</td>\n",
       "    </tr>\n",
       "    <tr>\n",
       "      <th>1</th>\n",
       "      <td>2576</td>\n",
       "      <td>0</td>\n",
       "      <td>1</td>\n",
       "      <td>GATHERING</td>\n",
       "      <td>FIRE</td>\n",
       "      <td>Le matin du 10 janvier 2010, Arthur et Jacques...</td>\n",
       "      <td>['HAS_CONSEQUENCE']</td>\n",
       "      <td>Au milieu de l’{ interview }, un [ incendie ] ...</td>\n",
       "      <td>Au milieu de l’{ interview }, un [ incendie ] ...</td>\n",
       "      <td>1</td>\n",
       "      <td>...</td>\n",
       "      <td>0.0</td>\n",
       "      <td>0.0</td>\n",
       "      <td>0.0</td>\n",
       "      <td>0.0</td>\n",
       "      <td>0.0</td>\n",
       "      <td>0.0</td>\n",
       "      <td>0.0</td>\n",
       "      <td>0.0</td>\n",
       "      <td>0.0</td>\n",
       "      <td>0.0</td>\n",
       "    </tr>\n",
       "  </tbody>\n",
       "</table>\n",
       "<p>2 rows × 47 columns</p>\n",
       "</div>"
      ],
      "text/plain": [
       "   text_index  e1_id  e2_id    e1_type    e2_type  \\\n",
       "0        2576      1      0       FIRE  GATHERING   \n",
       "1        2576      0      1  GATHERING       FIRE   \n",
       "\n",
       "                                                text            relations  \\\n",
       "0  Le matin du 10 janvier 2010, Arthur et Jacques...                  NaN   \n",
       "1  Le matin du 10 janvier 2010, Arthur et Jacques...  ['HAS_CONSEQUENCE']   \n",
       "\n",
       "                                        reduced_text  \\\n",
       "0  Au milieu de l’[ interview ], un { incendie } ...   \n",
       "1  Au milieu de l’{ interview }, un [ incendie ] ...   \n",
       "\n",
       "                                          input_text  label  ...  IS_OF_SIZE  \\\n",
       "0  Au milieu de l’[ interview ], un { incendie } ...      0  ...         0.0   \n",
       "1  Au milieu de l’{ interview }, un [ incendie ] ...      1  ...         0.0   \n",
       "\n",
       "   IS_PART_OF  IS_REGISTERED_AS  OPERATES_IN  RESIDES_IN  STARTED_IN  \\\n",
       "0         0.0               0.0          0.0         0.0         0.0   \n",
       "1         0.0               0.0          0.0         0.0         0.0   \n",
       "\n",
       "   START_DATE  WAS_CREATED_IN  WAS_DISSOLVED_IN  WEIGHS  \n",
       "0         0.0             0.0               0.0     0.0  \n",
       "1         0.0             0.0               0.0     0.0  \n",
       "\n",
       "[2 rows x 47 columns]"
      ]
     },
     "execution_count": 5,
     "metadata": {},
     "output_type": "execute_result"
    }
   ],
   "source": [
    "def format_relations_str_to_list(labels_as_str: str) -> List[str]:\n",
    "    return json.loads(\n",
    "        labels_as_str.replace(\"{\", \"[\").replace(\"}\", \"]\").replace(\"'\", '\"')\n",
    "    )  if pd.notnull(labels_as_str) else []\n",
    "\n",
    "def encode_target_to_onehot(data: pd.DataFrame) -> pd.DataFrame:\n",
    "    data[STEP2_TASK_TARGET_COLS] = pd.DataFrame(onehot_label_encoder.transform(data[TARGET_COL].apply(format_relations_str_to_list)), columns=onehot_label_encoder.classes_, index=data.index).astype(float)\n",
    "    return data\n",
    "\n",
    "labeled_df = encode_target_to_onehot(\n",
    "    labeled_df.assign(**{\n",
    "        TASK_INPUT_COL: lambda df: df[\"reduced_text\"],\n",
    "        STEP1_TASK_TARGET_COL: lambda df: pd.notnull(df.relations).astype(int),\n",
    "    })\n",
    ")\n",
    "logging.info(f\"{labeled_df.shape=}\")\n",
    "labeled_df.head(2)"
   ]
  },
  {
   "cell_type": "code",
   "execution_count": 6,
   "metadata": {},
   "outputs": [],
   "source": [
    "labeled_df.to_parquet(os.path.join(INTERIM_DIR, \"train-entities+reduced_text-one_hot.parquet\"), index=False)"
   ]
  },
  {
   "cell_type": "code",
   "execution_count": 7,
   "metadata": {},
   "outputs": [
    {
     "data": {
      "image/png": "[encoded data removed]",
      "text/plain": [
       "<Figure size 640x480 with 1 Axes>"
      ]
     },
     "metadata": {},
     "output_type": "display_data"
    }
   ],
   "source": [
    "get_cat_var_distribution(labeled_df[STEP2_TASK_TARGET_COLS]).boxplot(column=[\"count\"])\n",
    "plt.show()"
   ]
  },
  {
   "cell_type": "markdown",
   "metadata": {},
   "source": [
    "### train-validation split"
   ]
  },
  {
   "cell_type": "code",
   "execution_count": 8,
   "metadata": {},
   "outputs": [
    {
     "data": {
      "text/plain": [
       "((85430, 47), (36614, 47))"
      ]
     },
     "execution_count": 8,
     "metadata": {},
     "output_type": "execute_result"
    }
   ],
   "source": [
    "VALIDATION_RATE = 0.3\n",
    "train_df, val_df = train_test_split(labeled_df, test_size=VALIDATION_RATE, shuffle=True, random_state=RANDOM_SEED)\n",
    "train_df.shape, val_df.shape"
   ]
  },
  {
   "cell_type": "code",
   "execution_count": 9,
   "metadata": {},
   "outputs": [
    {
     "data": {
      "text/html": [
       "<div>\n",
       "<style scoped>\n",
       "    .dataframe tbody tr th:only-of-type {\n",
       "        vertical-align: middle;\n",
       "    }\n",
       "\n",
       "    .dataframe tbody tr th {\n",
       "        vertical-align: top;\n",
       "    }\n",
       "\n",
       "    .dataframe thead th {\n",
       "        text-align: right;\n",
       "    }\n",
       "</style>\n",
       "<table border=\"1\" class=\"dataframe\">\n",
       "  <thead>\n",
       "    <tr style=\"text-align: right;\">\n",
       "      <th></th>\n",
       "      <th>HAS_LATITUDE</th>\n",
       "      <th>HAS_FOR_LENGTH</th>\n",
       "      <th>HAS_FOR_WIDTH</th>\n",
       "      <th>HAS_FOR_HEIGHT</th>\n",
       "      <th>WAS_CREATED_IN</th>\n",
       "      <th>IS_BORN_ON</th>\n",
       "      <th>WAS_DISSOLVED_IN</th>\n",
       "      <th>HAS_LONGITUDE</th>\n",
       "      <th>WEIGHS</th>\n",
       "      <th>DIED_IN</th>\n",
       "      <th>...</th>\n",
       "      <th>GENDER_MALE</th>\n",
       "      <th>HAS_CATEGORY</th>\n",
       "      <th>START_DATE</th>\n",
       "      <th>IS_PART_OF</th>\n",
       "      <th>IS_AT_ODDS_WITH</th>\n",
       "      <th>STARTED_IN</th>\n",
       "      <th>OPERATES_IN</th>\n",
       "      <th>IS_IN_CONTACT_WITH</th>\n",
       "      <th>HAS_CONTROL_OVER</th>\n",
       "      <th>IS_LOCATED_IN</th>\n",
       "    </tr>\n",
       "  </thead>\n",
       "  <tbody>\n",
       "    <tr>\n",
       "      <th>count</th>\n",
       "      <td>2.000000</td>\n",
       "      <td>2.000000</td>\n",
       "      <td>3.000000</td>\n",
       "      <td>3.000000</td>\n",
       "      <td>4.000000</td>\n",
       "      <td>4.000000</td>\n",
       "      <td>4.000000</td>\n",
       "      <td>4.000000</td>\n",
       "      <td>11.0000</td>\n",
       "      <td>11.0000</td>\n",
       "      <td>...</td>\n",
       "      <td>261.000000</td>\n",
       "      <td>268.00000</td>\n",
       "      <td>301.000000</td>\n",
       "      <td>440.000000</td>\n",
       "      <td>450.00000</td>\n",
       "      <td>520.000000</td>\n",
       "      <td>688.000000</td>\n",
       "      <td>867.000000</td>\n",
       "      <td>1381.000000</td>\n",
       "      <td>2709.000000</td>\n",
       "    </tr>\n",
       "    <tr>\n",
       "      <th>proportion</th>\n",
       "      <td>0.000055</td>\n",
       "      <td>0.000055</td>\n",
       "      <td>0.000082</td>\n",
       "      <td>0.000082</td>\n",
       "      <td>0.000109</td>\n",
       "      <td>0.000109</td>\n",
       "      <td>0.000109</td>\n",
       "      <td>0.000109</td>\n",
       "      <td>0.0003</td>\n",
       "      <td>0.0003</td>\n",
       "      <td>...</td>\n",
       "      <td>0.007128</td>\n",
       "      <td>0.00732</td>\n",
       "      <td>0.008221</td>\n",
       "      <td>0.012017</td>\n",
       "      <td>0.01229</td>\n",
       "      <td>0.014202</td>\n",
       "      <td>0.018791</td>\n",
       "      <td>0.023679</td>\n",
       "      <td>0.037718</td>\n",
       "      <td>0.073988</td>\n",
       "    </tr>\n",
       "  </tbody>\n",
       "</table>\n",
       "<p>2 rows × 37 columns</p>\n",
       "</div>"
      ],
      "text/plain": [
       "            HAS_LATITUDE  HAS_FOR_LENGTH  HAS_FOR_WIDTH  HAS_FOR_HEIGHT  \\\n",
       "count           2.000000        2.000000       3.000000        3.000000   \n",
       "proportion      0.000055        0.000055       0.000082        0.000082   \n",
       "\n",
       "            WAS_CREATED_IN  IS_BORN_ON  WAS_DISSOLVED_IN  HAS_LONGITUDE  \\\n",
       "count             4.000000    4.000000          4.000000       4.000000   \n",
       "proportion        0.000109    0.000109          0.000109       0.000109   \n",
       "\n",
       "             WEIGHS  DIED_IN  ...  GENDER_MALE  HAS_CATEGORY  START_DATE  \\\n",
       "count       11.0000  11.0000  ...   261.000000     268.00000  301.000000   \n",
       "proportion   0.0003   0.0003  ...     0.007128       0.00732    0.008221   \n",
       "\n",
       "            IS_PART_OF  IS_AT_ODDS_WITH  STARTED_IN  OPERATES_IN  \\\n",
       "count       440.000000        450.00000  520.000000   688.000000   \n",
       "proportion    0.012017          0.01229    0.014202     0.018791   \n",
       "\n",
       "            IS_IN_CONTACT_WITH  HAS_CONTROL_OVER  IS_LOCATED_IN  \n",
       "count               867.000000       1381.000000    2709.000000  \n",
       "proportion            0.023679          0.037718       0.073988  \n",
       "\n",
       "[2 rows x 37 columns]"
      ]
     },
     "execution_count": 9,
     "metadata": {},
     "output_type": "execute_result"
    }
   ],
   "source": [
    "get_cat_var_distribution(val_df[STEP2_TASK_TARGET_COLS]).sort_values(by=\"count\").T"
   ]
  },
  {
   "cell_type": "markdown",
   "metadata": {},
   "source": [
    "## remove examples without relation"
   ]
  },
  {
   "cell_type": "code",
   "execution_count": 10,
   "metadata": {},
   "outputs": [
    {
     "name": "stderr",
     "output_type": "stream",
     "text": [
      "[18:37:01|INFO|3634007231.py:6] train_df.shape=(18566, 47)\n",
      "[18:37:01|INFO|3634007231.py:8] val_df.shape=(7828, 47)\n"
     ]
    }
   ],
   "source": [
    "def remove_input_without_relation(data: pd.DataFrame) -> pd.DataFrame:\n",
    "    return data[data[STEP2_TASK_TARGET_COLS].sum(axis=1)>0]\n",
    "    # return data[~data[TARGET_COL].isna()]\n",
    "\n",
    "train_df = remove_input_without_relation(train_df)\n",
    "logging.info(f\"{train_df.shape=}\")\n",
    "val_df = remove_input_without_relation(val_df)\n",
    "logging.info(f\"{val_df.shape=}\")"
   ]
  },
  {
   "cell_type": "code",
   "execution_count": 11,
   "metadata": {},
   "outputs": [
    {
     "data": {
      "text/html": [
       "<div>\n",
       "<style scoped>\n",
       "    .dataframe tbody tr th:only-of-type {\n",
       "        vertical-align: middle;\n",
       "    }\n",
       "\n",
       "    .dataframe tbody tr th {\n",
       "        vertical-align: top;\n",
       "    }\n",
       "\n",
       "    .dataframe thead th {\n",
       "        text-align: right;\n",
       "    }\n",
       "</style>\n",
       "<table border=\"1\" class=\"dataframe\">\n",
       "  <thead>\n",
       "    <tr style=\"text-align: right;\">\n",
       "      <th></th>\n",
       "      <th>HAS_LONGITUDE</th>\n",
       "      <th>HAS_LATITUDE</th>\n",
       "      <th>HAS_FOR_HEIGHT</th>\n",
       "      <th>WAS_DISSOLVED_IN</th>\n",
       "      <th>WAS_CREATED_IN</th>\n",
       "      <th>HAS_FOR_WIDTH</th>\n",
       "      <th>HAS_FOR_LENGTH</th>\n",
       "      <th>IS_BORN_ON</th>\n",
       "      <th>IS_REGISTERED_AS</th>\n",
       "      <th>WEIGHS</th>\n",
       "      <th>...</th>\n",
       "      <th>HAS_CATEGORY</th>\n",
       "      <th>GENDER_MALE</th>\n",
       "      <th>START_DATE</th>\n",
       "      <th>IS_PART_OF</th>\n",
       "      <th>IS_AT_ODDS_WITH</th>\n",
       "      <th>STARTED_IN</th>\n",
       "      <th>OPERATES_IN</th>\n",
       "      <th>IS_IN_CONTACT_WITH</th>\n",
       "      <th>HAS_CONTROL_OVER</th>\n",
       "      <th>IS_LOCATED_IN</th>\n",
       "    </tr>\n",
       "  </thead>\n",
       "  <tbody>\n",
       "    <tr>\n",
       "      <th>count</th>\n",
       "      <td>8.000000</td>\n",
       "      <td>8.000000</td>\n",
       "      <td>9.000000</td>\n",
       "      <td>10.000000</td>\n",
       "      <td>11.000000</td>\n",
       "      <td>11.000000</td>\n",
       "      <td>14.000000</td>\n",
       "      <td>16.000000</td>\n",
       "      <td>19.000000</td>\n",
       "      <td>30.000000</td>\n",
       "      <td>...</td>\n",
       "      <td>626.000000</td>\n",
       "      <td>647.000000</td>\n",
       "      <td>733.000000</td>\n",
       "      <td>1022.000000</td>\n",
       "      <td>1076.000000</td>\n",
       "      <td>1340.000000</td>\n",
       "      <td>1747.000000</td>\n",
       "      <td>2052.000000</td>\n",
       "      <td>3166.000000</td>\n",
       "      <td>6316.000000</td>\n",
       "    </tr>\n",
       "    <tr>\n",
       "      <th>proportion</th>\n",
       "      <td>0.000431</td>\n",
       "      <td>0.000431</td>\n",
       "      <td>0.000485</td>\n",
       "      <td>0.000539</td>\n",
       "      <td>0.000592</td>\n",
       "      <td>0.000592</td>\n",
       "      <td>0.000754</td>\n",
       "      <td>0.000862</td>\n",
       "      <td>0.001023</td>\n",
       "      <td>0.001616</td>\n",
       "      <td>...</td>\n",
       "      <td>0.033718</td>\n",
       "      <td>0.034849</td>\n",
       "      <td>0.039481</td>\n",
       "      <td>0.055047</td>\n",
       "      <td>0.057955</td>\n",
       "      <td>0.072175</td>\n",
       "      <td>0.094097</td>\n",
       "      <td>0.110525</td>\n",
       "      <td>0.170527</td>\n",
       "      <td>0.340192</td>\n",
       "    </tr>\n",
       "  </tbody>\n",
       "</table>\n",
       "<p>2 rows × 37 columns</p>\n",
       "</div>"
      ],
      "text/plain": [
       "            HAS_LONGITUDE  HAS_LATITUDE  HAS_FOR_HEIGHT  WAS_DISSOLVED_IN  \\\n",
       "count            8.000000      8.000000        9.000000         10.000000   \n",
       "proportion       0.000431      0.000431        0.000485          0.000539   \n",
       "\n",
       "            WAS_CREATED_IN  HAS_FOR_WIDTH  HAS_FOR_LENGTH  IS_BORN_ON  \\\n",
       "count            11.000000      11.000000       14.000000   16.000000   \n",
       "proportion        0.000592       0.000592        0.000754    0.000862   \n",
       "\n",
       "            IS_REGISTERED_AS     WEIGHS  ...  HAS_CATEGORY  GENDER_MALE  \\\n",
       "count              19.000000  30.000000  ...    626.000000   647.000000   \n",
       "proportion          0.001023   0.001616  ...      0.033718     0.034849   \n",
       "\n",
       "            START_DATE   IS_PART_OF  IS_AT_ODDS_WITH   STARTED_IN  \\\n",
       "count       733.000000  1022.000000      1076.000000  1340.000000   \n",
       "proportion    0.039481     0.055047         0.057955     0.072175   \n",
       "\n",
       "            OPERATES_IN  IS_IN_CONTACT_WITH  HAS_CONTROL_OVER  IS_LOCATED_IN  \n",
       "count       1747.000000         2052.000000       3166.000000    6316.000000  \n",
       "proportion     0.094097            0.110525          0.170527       0.340192  \n",
       "\n",
       "[2 rows x 37 columns]"
      ]
     },
     "execution_count": 11,
     "metadata": {},
     "output_type": "execute_result"
    }
   ],
   "source": [
    "get_cat_var_distribution(train_df[STEP2_TASK_TARGET_COLS]).sort_values(by=\"count\").sort_values(by=\"count\").T"
   ]
  },
  {
   "cell_type": "code",
   "execution_count": 12,
   "metadata": {},
   "outputs": [
    {
     "data": {
      "text/html": [
       "<div>\n",
       "<style scoped>\n",
       "    .dataframe tbody tr th:only-of-type {\n",
       "        vertical-align: middle;\n",
       "    }\n",
       "\n",
       "    .dataframe tbody tr th {\n",
       "        vertical-align: top;\n",
       "    }\n",
       "\n",
       "    .dataframe thead th {\n",
       "        text-align: right;\n",
       "    }\n",
       "</style>\n",
       "<table border=\"1\" class=\"dataframe\">\n",
       "  <thead>\n",
       "    <tr style=\"text-align: right;\">\n",
       "      <th></th>\n",
       "      <th>HAS_LATITUDE</th>\n",
       "      <th>HAS_FOR_LENGTH</th>\n",
       "      <th>HAS_FOR_WIDTH</th>\n",
       "      <th>HAS_FOR_HEIGHT</th>\n",
       "      <th>WAS_CREATED_IN</th>\n",
       "      <th>IS_BORN_ON</th>\n",
       "      <th>WAS_DISSOLVED_IN</th>\n",
       "      <th>HAS_LONGITUDE</th>\n",
       "      <th>DIED_IN</th>\n",
       "      <th>WEIGHS</th>\n",
       "      <th>...</th>\n",
       "      <th>GENDER_MALE</th>\n",
       "      <th>HAS_CATEGORY</th>\n",
       "      <th>START_DATE</th>\n",
       "      <th>IS_PART_OF</th>\n",
       "      <th>IS_AT_ODDS_WITH</th>\n",
       "      <th>STARTED_IN</th>\n",
       "      <th>OPERATES_IN</th>\n",
       "      <th>IS_IN_CONTACT_WITH</th>\n",
       "      <th>HAS_CONTROL_OVER</th>\n",
       "      <th>IS_LOCATED_IN</th>\n",
       "    </tr>\n",
       "  </thead>\n",
       "  <tbody>\n",
       "    <tr>\n",
       "      <th>count</th>\n",
       "      <td>2.000000</td>\n",
       "      <td>2.000000</td>\n",
       "      <td>3.000000</td>\n",
       "      <td>3.000000</td>\n",
       "      <td>4.000000</td>\n",
       "      <td>4.000000</td>\n",
       "      <td>4.000000</td>\n",
       "      <td>4.000000</td>\n",
       "      <td>11.000000</td>\n",
       "      <td>11.000000</td>\n",
       "      <td>...</td>\n",
       "      <td>261.000000</td>\n",
       "      <td>268.000000</td>\n",
       "      <td>301.000000</td>\n",
       "      <td>440.000000</td>\n",
       "      <td>450.000000</td>\n",
       "      <td>520.000000</td>\n",
       "      <td>688.00000</td>\n",
       "      <td>867.000000</td>\n",
       "      <td>1381.000000</td>\n",
       "      <td>2709.000000</td>\n",
       "    </tr>\n",
       "    <tr>\n",
       "      <th>proportion</th>\n",
       "      <td>0.000255</td>\n",
       "      <td>0.000255</td>\n",
       "      <td>0.000383</td>\n",
       "      <td>0.000383</td>\n",
       "      <td>0.000511</td>\n",
       "      <td>0.000511</td>\n",
       "      <td>0.000511</td>\n",
       "      <td>0.000511</td>\n",
       "      <td>0.001405</td>\n",
       "      <td>0.001405</td>\n",
       "      <td>...</td>\n",
       "      <td>0.033342</td>\n",
       "      <td>0.034236</td>\n",
       "      <td>0.038452</td>\n",
       "      <td>0.056208</td>\n",
       "      <td>0.057486</td>\n",
       "      <td>0.066428</td>\n",
       "      <td>0.08789</td>\n",
       "      <td>0.110756</td>\n",
       "      <td>0.176418</td>\n",
       "      <td>0.346065</td>\n",
       "    </tr>\n",
       "  </tbody>\n",
       "</table>\n",
       "<p>2 rows × 37 columns</p>\n",
       "</div>"
      ],
      "text/plain": [
       "            HAS_LATITUDE  HAS_FOR_LENGTH  HAS_FOR_WIDTH  HAS_FOR_HEIGHT  \\\n",
       "count           2.000000        2.000000       3.000000        3.000000   \n",
       "proportion      0.000255        0.000255       0.000383        0.000383   \n",
       "\n",
       "            WAS_CREATED_IN  IS_BORN_ON  WAS_DISSOLVED_IN  HAS_LONGITUDE  \\\n",
       "count             4.000000    4.000000          4.000000       4.000000   \n",
       "proportion        0.000511    0.000511          0.000511       0.000511   \n",
       "\n",
       "              DIED_IN     WEIGHS  ...  GENDER_MALE  HAS_CATEGORY  START_DATE  \\\n",
       "count       11.000000  11.000000  ...   261.000000    268.000000  301.000000   \n",
       "proportion   0.001405   0.001405  ...     0.033342      0.034236    0.038452   \n",
       "\n",
       "            IS_PART_OF  IS_AT_ODDS_WITH  STARTED_IN  OPERATES_IN  \\\n",
       "count       440.000000       450.000000  520.000000    688.00000   \n",
       "proportion    0.056208         0.057486    0.066428      0.08789   \n",
       "\n",
       "            IS_IN_CONTACT_WITH  HAS_CONTROL_OVER  IS_LOCATED_IN  \n",
       "count               867.000000       1381.000000    2709.000000  \n",
       "proportion            0.110756          0.176418       0.346065  \n",
       "\n",
       "[2 rows x 37 columns]"
      ]
     },
     "execution_count": 12,
     "metadata": {},
     "output_type": "execute_result"
    }
   ],
   "source": [
    "get_cat_var_distribution(val_df[STEP2_TASK_TARGET_COLS]).sort_values(by=\"count\").sort_values(by=\"count\").T"
   ]
  },
  {
   "cell_type": "markdown",
   "metadata": {},
   "source": [
    "## Create the tokenized datasets for model input"
   ]
  },
  {
   "cell_type": "markdown",
   "metadata": {},
   "source": [
    "### init the tokenizer"
   ]
  },
  {
   "cell_type": "code",
   "execution_count": 13,
   "metadata": {},
   "outputs": [],
   "source": [
    "# Hyperparameters\n",
    "tokenizer = AutoTokenizer.from_pretrained(BASE_CHECKPOINT)\n",
    "# task_special_tokens = [\"<\", \">\", \"{\", \"}\", \"[\", \"]\"]\n",
    "# # add special tokens to the tokenizer\n",
    "# num_added_tokens = tokenizer.add_tokens(task_special_tokens, special_tokens=True)\n",
    "# num_added_tokens, len(tokenizer)"
   ]
  },
  {
   "cell_type": "markdown",
   "metadata": {},
   "source": [
    "### init the train-valid datasets from dataframe"
   ]
  },
  {
   "cell_type": "code",
   "execution_count": 14,
   "metadata": {},
   "outputs": [
    {
     "data": {
      "application/vnd.jupyter.widget-view+json": {
       "model_id": "dee8d67b98e34220bdcef38cf9b9972d",
       "version_major": 2,
       "version_minor": 0
      },
      "text/plain": [
       "Map:   0%|          | 0/18566 [00:00<?, ? examples/s]"
      ]
     },
     "metadata": {},
     "output_type": "display_data"
    },
    {
     "data": {
      "application/vnd.jupyter.widget-view+json": {
       "model_id": "38e3bbaf80fc4c5096ea94b7099595c3",
       "version_major": 2,
       "version_minor": 0
      },
      "text/plain": [
       "Map:   0%|          | 0/7828 [00:00<?, ? examples/s]"
      ]
     },
     "metadata": {},
     "output_type": "display_data"
    },
    {
     "data": {
      "text/plain": [
       "DatasetDict({\n",
       "    train: Dataset({\n",
       "        features: ['text_index', 'e1_id', 'e2_id', 'e1_type', 'e2_type', 'text', 'relations', 'reduced_text', 'input_text', 'label', 'labels'],\n",
       "        num_rows: 18566\n",
       "    })\n",
       "    validation: Dataset({\n",
       "        features: ['text_index', 'e1_id', 'e2_id', 'e1_type', 'e2_type', 'text', 'relations', 'reduced_text', 'input_text', 'label', 'labels'],\n",
       "        num_rows: 7828\n",
       "    })\n",
       "})"
      ]
     },
     "execution_count": 14,
     "metadata": {},
     "output_type": "execute_result"
    }
   ],
   "source": [
    "def process_label(ds: Dataset) -> Dataset:\n",
    "    \"\"\"Replace target label columns by a single list label column \"\"\"\n",
    "    return ds.map(lambda example: {\"labels\": [example[_class] for _class in STEP2_TASK_TARGET_COLS]}).remove_columns(STEP2_TASK_TARGET_COLS)\n",
    "\n",
    "train_ds = process_label(Dataset.from_pandas(train_df, preserve_index=False)).shuffle(seed=RANDOM_SEED)\n",
    "val_ds = process_label(Dataset.from_pandas(val_df, preserve_index=False))\n",
    "task_datasets = DatasetDict({\"train\": train_ds, \"validation\": val_ds})\n",
    "task_datasets"
   ]
  },
  {
   "cell_type": "code",
   "execution_count": 15,
   "metadata": {},
   "outputs": [
    {
     "name": "stdout",
     "output_type": "stream",
     "text": [
      "[0.0, 0.0, 0.0, 0.0, 0.0, 0.0, 0.0, 0.0, 0.0, 0.0, 0.0, 0.0, 0.0, 0.0, 0.0, 0.0, 0.0, 0.0, 0.0, 0.0, 0.0, 0.0, 0.0, 0.0, 0.0, 1.0, 0.0, 0.0, 0.0, 0.0, 0.0, 0.0, 0.0, 0.0, 0.0, 0.0, 0.0]\n"
     ]
    }
   ],
   "source": [
    "print(task_datasets[\"train\"][1][\"labels\"])"
   ]
  },
  {
   "cell_type": "code",
   "execution_count": 16,
   "metadata": {},
   "outputs": [
    {
     "name": "stdout",
     "output_type": "stream",
     "text": [
      "{'text_index': 3656, 'e1_id': 9, 'e2_id': 8, 'e1_type': 'GROUP_OF_INDIVIDUALS', 'e2_type': 'PLACE', 'text': \"Le 23 mai 2017, l'association protégeant les droits des enfants a décidé de construire un terrain de basket pour les jeunes de Marrakech. Ce projet a été pensé pour fédérer la population et favoriser l'amitié. Cependant, deux ans après la construction du terrain, les habitants ont commencé à avoir des différends concernant sa gestion. Le maire de la ville, Monsieur Kireg Mohamed, a expliqué que les habitants du [ quartier Est ], [ zone ] où se trouve le terrain, ne laissaient pas les { habitants } du quartier Ouest l'utiliser. D'après certains jeunes du [ quartier Est ], cette opposition est due au fait que { ceux } du quartier Ouest salissent le terrain et n'utilisent pas les poubelles disposées dans la [ zone ]. { Certains } vont même jusqu'à casser des chaises et crever des ballons appartenant à la ville. Jeudi dernier, l'inévitable s'est produit et a entraîné l'envoi à l'hôpital d'Hassan Mohamed, le fils du maire. D'après des sources anonymes, des jeunes du quartier Ouest sont entrés sur le terrain sans l'accord du gardien. Ce dernier a prévenu des gens qui se trouvaient [ là ], qui ont commencé à tabasser les quatre jeunes présents sur le terrain. L'affrontement a éclaté entre les deux communautés. Sans l'intervention de la gendarmerie, la confrontation a été sanglante, sans compter la destruction des biens comme les véhicules stationnés à côté du terrain. Au moment où nous écrivons, la colère des parents et amis de la victime est de plus en plus noire et cela peut entraîner de terribles confrontations.\", 'relations': \"['IS_LOCATED_IN']\", 'reduced_text': \"Le maire de la ville, Monsieur Kireg Mohamed, a expliqué que les habitants du [ quartier Est ], [ zone ] où se trouve le terrain, ne laissaient pas les { habitants } du quartier Ouest l'utiliser.\", 'input_text': \"Le maire de la ville, Monsieur Kireg Mohamed, a expliqué que les habitants du [ quartier Est ], [ zone ] où se trouve le terrain, ne laissaient pas les { habitants } du quartier Ouest l'utiliser.\", 'label': 1, 'labels': [0.0, 0.0, 0.0, 0.0, 0.0, 0.0, 0.0, 0.0, 0.0, 0.0, 0.0, 0.0, 0.0, 0.0, 0.0, 0.0, 0.0, 0.0, 0.0, 0.0, 0.0, 0.0, 0.0, 0.0, 0.0, 1.0, 0.0, 0.0, 0.0, 0.0, 0.0, 0.0, 0.0, 0.0, 0.0, 0.0, 0.0]}\n"
     ]
    }
   ],
   "source": [
    "print(task_datasets[\"train\"][1])"
   ]
  },
  {
   "cell_type": "markdown",
   "metadata": {},
   "source": [
    "### Tokenize the datasets"
   ]
  },
  {
   "cell_type": "code",
   "execution_count": 17,
   "metadata": {},
   "outputs": [
    {
     "data": {
      "application/vnd.jupyter.widget-view+json": {
       "model_id": "adfd025bd5c04e65870dae4bd1117f8c",
       "version_major": 2,
       "version_minor": 0
      },
      "text/plain": [
       "Map:   0%|          | 0/18566 [00:00<?, ? examples/s]"
      ]
     },
     "metadata": {},
     "output_type": "display_data"
    },
    {
     "data": {
      "application/vnd.jupyter.widget-view+json": {
       "model_id": "f922b496806d45ac9a671713bbe60bbb",
       "version_major": 2,
       "version_minor": 0
      },
      "text/plain": [
       "Map:   0%|          | 0/7828 [00:00<?, ? examples/s]"
      ]
     },
     "metadata": {},
     "output_type": "display_data"
    },
    {
     "data": {
      "text/plain": [
       "DatasetDict({\n",
       "    train: Dataset({\n",
       "        features: ['text_index', 'e1_id', 'e2_id', 'e1_type', 'e2_type', 'text', 'relations', 'reduced_text', 'input_text', 'label', 'labels', 'input_ids', 'attention_mask'],\n",
       "        num_rows: 18566\n",
       "    })\n",
       "    validation: Dataset({\n",
       "        features: ['text_index', 'e1_id', 'e2_id', 'e1_type', 'e2_type', 'text', 'relations', 'reduced_text', 'input_text', 'label', 'labels', 'input_ids', 'attention_mask'],\n",
       "        num_rows: 7828\n",
       "    })\n",
       "})"
      ]
     },
     "execution_count": 17,
     "metadata": {},
     "output_type": "execute_result"
    }
   ],
   "source": [
    "def tokenize_function(example: dict):\n",
    "    return tokenizer(example[TASK_INPUT_COL], truncation=True)\n",
    "\n",
    "# We’re using batched=True in our call to map so the function is applied to multiple elements of our dataset at once, and not on each element separately\n",
    "# This is way faster\n",
    "# Source https://huggingface.co/learn/nlp-course/chapter3/2?fw=pt\n",
    "# columns are removed because DataCollatorWithPadding doesn't support any other columns than the ones produced by the tokenizer (or non tensors)\n",
    "tokenized_datasets = task_datasets.map(tokenize_function, batched=True)\n",
    "tokenized_datasets"
   ]
  },
  {
   "cell_type": "code",
   "execution_count": 18,
   "metadata": {},
   "outputs": [
    {
     "name": "stdout",
     "output_type": "stream",
     "text": [
      "{'train': ['text_index', 'e1_id', 'e2_id', 'e1_type', 'e2_type', 'text', 'relations', 'reduced_text', 'input_text', 'label', 'labels', 'input_ids', 'attention_mask'], 'validation': ['text_index', 'e1_id', 'e2_id', 'e1_type', 'e2_type', 'text', 'relations', 'reduced_text', 'input_text', 'label', 'labels', 'input_ids', 'attention_mask']}\n"
     ]
    }
   ],
   "source": [
    "print(tokenized_datasets.column_names)"
   ]
  },
  {
   "cell_type": "code",
   "execution_count": 19,
   "metadata": {},
   "outputs": [
    {
     "data": {
      "text/plain": [
       "list"
      ]
     },
     "execution_count": 19,
     "metadata": {},
     "output_type": "execute_result"
    }
   ],
   "source": [
    "type(tokenized_datasets[\"train\"][1]['attention_mask'])"
   ]
  },
  {
   "cell_type": "markdown",
   "metadata": {},
   "source": [
    "### Token numbers distribution"
   ]
  },
  {
   "cell_type": "code",
   "execution_count": 20,
   "metadata": {},
   "outputs": [
    {
     "data": {
      "application/vnd.jupyter.widget-view+json": {
       "model_id": "deb486eaf9b1441194a85ca13297de5c",
       "version_major": 2,
       "version_minor": 0
      },
      "text/plain": [
       "Map:   0%|          | 0/18566 [00:00<?, ? examples/s]"
      ]
     },
     "metadata": {},
     "output_type": "display_data"
    },
    {
     "data": {
      "application/vnd.jupyter.widget-view+json": {
       "model_id": "0a9761905913421f9874395baad9bf4d",
       "version_major": 2,
       "version_minor": 0
      },
      "text/plain": [
       "Map:   0%|          | 0/7828 [00:00<?, ? examples/s]"
      ]
     },
     "metadata": {},
     "output_type": "display_data"
    },
    {
     "data": {
      "text/plain": [
       "DatasetDict({\n",
       "    train: Dataset({\n",
       "        features: ['text_index', 'e1_id', 'e2_id', 'e1_type', 'e2_type', 'text', 'relations', 'reduced_text', 'input_text', 'label', 'labels', 'input_ids', 'attention_mask', 'n_tokens'],\n",
       "        num_rows: 18566\n",
       "    })\n",
       "    validation: Dataset({\n",
       "        features: ['text_index', 'e1_id', 'e2_id', 'e1_type', 'e2_type', 'text', 'relations', 'reduced_text', 'input_text', 'label', 'labels', 'input_ids', 'attention_mask', 'n_tokens'],\n",
       "        num_rows: 7828\n",
       "    })\n",
       "})"
      ]
     },
     "execution_count": 20,
     "metadata": {},
     "output_type": "execute_result"
    }
   ],
   "source": [
    "from typing import Any, Dict\n",
    "\n",
    "def count_tokens(text: str) -> int:\n",
    "    return len(tokenizer(text)[\"input_ids\"])\n",
    "\n",
    "\n",
    "def count_token_in_dataset_element(example: Dict[str, Any]) -> Dict[str, int]:\n",
    "    return {\"n_tokens\": count_tokens(example[TASK_INPUT_COL])}\n",
    "\n",
    "\n",
    "tokenized_datasets = tokenized_datasets.map(count_token_in_dataset_element)\n",
    "tokenized_datasets"
   ]
  },
  {
   "cell_type": "code",
   "execution_count": 21,
   "metadata": {},
   "outputs": [
    {
     "name": "stderr",
     "output_type": "stream",
     "text": [
      "train: 100%|██████████| 18566/18566 [00:01<00:00, 10351.49it/s]\n",
      "validation: 100%|██████████| 7828/7828 [00:00<00:00, 10195.66it/s]\n"
     ]
    },
    {
     "data": {
      "text/html": [
       "<div>\n",
       "<style scoped>\n",
       "    .dataframe tbody tr th:only-of-type {\n",
       "        vertical-align: middle;\n",
       "    }\n",
       "\n",
       "    .dataframe tbody tr th {\n",
       "        vertical-align: top;\n",
       "    }\n",
       "\n",
       "    .dataframe thead th {\n",
       "        text-align: right;\n",
       "    }\n",
       "</style>\n",
       "<table border=\"1\" class=\"dataframe\">\n",
       "  <thead>\n",
       "    <tr style=\"text-align: right;\">\n",
       "      <th></th>\n",
       "      <th>train</th>\n",
       "      <th>validation</th>\n",
       "    </tr>\n",
       "  </thead>\n",
       "  <tbody>\n",
       "    <tr>\n",
       "      <th>count</th>\n",
       "      <td>18566.000000</td>\n",
       "      <td>7828.000000</td>\n",
       "    </tr>\n",
       "    <tr>\n",
       "      <th>mean</th>\n",
       "      <td>58.883012</td>\n",
       "      <td>59.065406</td>\n",
       "    </tr>\n",
       "    <tr>\n",
       "      <th>std</th>\n",
       "      <td>32.911192</td>\n",
       "      <td>33.169427</td>\n",
       "    </tr>\n",
       "    <tr>\n",
       "      <th>min</th>\n",
       "      <td>12.000000</td>\n",
       "      <td>15.000000</td>\n",
       "    </tr>\n",
       "    <tr>\n",
       "      <th>25%</th>\n",
       "      <td>36.000000</td>\n",
       "      <td>36.000000</td>\n",
       "    </tr>\n",
       "    <tr>\n",
       "      <th>50%</th>\n",
       "      <td>48.000000</td>\n",
       "      <td>49.000000</td>\n",
       "    </tr>\n",
       "    <tr>\n",
       "      <th>75%</th>\n",
       "      <td>73.000000</td>\n",
       "      <td>74.000000</td>\n",
       "    </tr>\n",
       "    <tr>\n",
       "      <th>max</th>\n",
       "      <td>303.000000</td>\n",
       "      <td>263.000000</td>\n",
       "    </tr>\n",
       "  </tbody>\n",
       "</table>\n",
       "</div>"
      ],
      "text/plain": [
       "              train   validation\n",
       "count  18566.000000  7828.000000\n",
       "mean      58.883012    59.065406\n",
       "std       32.911192    33.169427\n",
       "min       12.000000    15.000000\n",
       "25%       36.000000    36.000000\n",
       "50%       48.000000    49.000000\n",
       "75%       73.000000    74.000000\n",
       "max      303.000000   263.000000"
      ]
     },
     "execution_count": 21,
     "metadata": {},
     "output_type": "execute_result"
    }
   ],
   "source": [
    "split2ntokens_df = pd.DataFrame(\n",
    "    {\n",
    "        split_name: pd.Series(\n",
    "            [e[\"n_tokens\"] for e in tqdm(tokenized_datasets[split_name], split_name)],\n",
    "            name=f\"{split_name}_text_n_tokens\",\n",
    "        )\n",
    "        for split_name in tokenized_datasets.keys()\n",
    "    }\n",
    ")\n",
    "split2ntokens_df.describe()"
   ]
  },
  {
   "cell_type": "code",
   "execution_count": 22,
   "metadata": {},
   "outputs": [
    {
     "data": {
      "image/png": "[encoded data removed]",
      "text/plain": [
       "<Figure size 640x480 with 1 Axes>"
      ]
     },
     "metadata": {},
     "output_type": "display_data"
    }
   ],
   "source": [
    "split2ntokens_df.boxplot()\n",
    "plt.show()"
   ]
  },
  {
   "cell_type": "code",
   "execution_count": 23,
   "metadata": {},
   "outputs": [
    {
     "data": {
      "application/vnd.jupyter.widget-view+json": {
       "model_id": "575e7df0391a409e9390e4d75d552494",
       "version_major": 2,
       "version_minor": 0
      },
      "text/plain": [
       "Filter:   0%|          | 0/18566 [00:00<?, ? examples/s]"
      ]
     },
     "metadata": {},
     "output_type": "display_data"
    },
    {
     "data": {
      "text/plain": [
       "{'relations': \"['IS_LOCATED_IN']\",\n",
       " 'input_text': \"Le 23 mai 2017, l'association protégeant les droits des enfants a décidé de construire un [ terrain de basket ] pour les jeunes de Marrakech. Cependant, deux ans après la construction du [ terrain ], les habitants ont commencé à avoir des différends concernant sa gestion. Le maire de la ville, Monsieur Kireg Mohamed, a expliqué que les habitants du quartier Est, zone où se trouve le [ terrain ], ne laissaient pas les habitants du quartier Ouest [ l' ]utiliser. D'après certains jeunes du quartier Est, cette opposition est due au fait que ceux du quartier Ouest salissent le [ terrain ] et n'utilisent pas les poubelles disposées dans la zone. Jeudi dernier, l'inévitable s'est produit et a entraîné l'envoi à l'hôpital d'{ Hassan Mohamed }, le { fils } du maire. D'après des sources anonymes, des jeunes du quartier Ouest sont entrés sur le [ terrain ] sans l'accord du gardien. Ce dernier a prévenu des gens qui se trouvaient là, qui ont commencé à tabasser les quatre jeunes présents sur le [ terrain ]. Sans l'intervention de la gendarmerie, la confrontation a été sanglante, sans compter la destruction des biens comme les véhicules stationnés à côté du [ terrain ]. Au moment où nous écrivons, la colère des parents et amis de la { victime } est de plus en plus noire et cela peut entraîner de terribles confrontations.\"}"
      ]
     },
     "execution_count": 23,
     "metadata": {},
     "output_type": "execute_result"
    }
   ],
   "source": [
    "tokenized_datasets[\"train\"].filter(lambda x: x['n_tokens'] == split2ntokens_df.train.max()).select_columns([TARGET_COL, TASK_INPUT_COL])[0]"
   ]
  },
  {
   "cell_type": "code",
   "execution_count": 24,
   "metadata": {},
   "outputs": [
    {
     "data": {
      "application/vnd.jupyter.widget-view+json": {
       "model_id": "87d0bdadf6564bff97600cf057c6984e",
       "version_major": 2,
       "version_minor": 0
      },
      "text/plain": [
       "Filter:   0%|          | 0/18566 [00:00<?, ? examples/s]"
      ]
     },
     "metadata": {},
     "output_type": "display_data"
    },
    {
     "data": {
      "text/plain": [
       "{'relations': \"['GENDER_MALE']\",\n",
       " 'input_text': 'Un < témoin > a averti les autorités.'}"
      ]
     },
     "execution_count": 24,
     "metadata": {},
     "output_type": "execute_result"
    }
   ],
   "source": [
    "tokenized_datasets[\"train\"].filter(lambda x: x['n_tokens'] == split2ntokens_df.train.min()).select_columns([TARGET_COL, TASK_INPUT_COL])[0]"
   ]
  },
  {
   "cell_type": "code",
   "execution_count": 25,
   "metadata": {},
   "outputs": [
    {
     "data": {
      "text/plain": [
       "[81, 50, 32, 23, 130, 49, 135, 36, 45, 35]"
      ]
     },
     "execution_count": 25,
     "metadata": {},
     "output_type": "execute_result"
    }
   ],
   "source": [
    "tokenized_datasets[\"train\"].take(10)[:][\"n_tokens\"]"
   ]
  },
  {
   "cell_type": "code",
   "execution_count": 26,
   "metadata": {},
   "outputs": [
    {
     "data": {
      "text/plain": [
       "[23, 32, 35, 36, 45, 49, 50, 81, 130, 135]"
      ]
     },
     "execution_count": 26,
     "metadata": {},
     "output_type": "execute_result"
    }
   ],
   "source": [
    "tokenized_datasets[\"train\"].take(10).sort(\"n_tokens\")[\"n_tokens\"]"
   ]
  },
  {
   "cell_type": "markdown",
   "metadata": {},
   "source": [
    "### Sort examples by text size to accelerate the training and inference"
   ]
  },
  {
   "cell_type": "code",
   "execution_count": 27,
   "metadata": {},
   "outputs": [],
   "source": [
    "# tokenized_datasets[\"validation\"].take(10)[\"n_tokens\"]"
   ]
  },
  {
   "cell_type": "code",
   "execution_count": 28,
   "metadata": {},
   "outputs": [],
   "source": [
    "# tokenized_datasets = tokenized_datasets.sort(\"n_tokens\")"
   ]
  },
  {
   "cell_type": "code",
   "execution_count": 29,
   "metadata": {},
   "outputs": [],
   "source": [
    "# tokenized_datasets[\"validation\"].take(10)[\"n_tokens\"]"
   ]
  },
  {
   "cell_type": "markdown",
   "metadata": {},
   "source": [
    "### Test the batch-level padding with a data collator"
   ]
  },
  {
   "cell_type": "code",
   "execution_count": 30,
   "metadata": {},
   "outputs": [
    {
     "data": {
      "text/plain": [
       "[81, 50, 32, 23, 130, 49, 135, 36]"
      ]
     },
     "execution_count": 30,
     "metadata": {},
     "output_type": "execute_result"
    }
   ],
   "source": [
    "samples = tokenized_datasets.remove_columns(task_datasets[\"train\"].column_names)[\"train\"][:8]\n",
    "samples = {k: v for k, v in samples.items()}\n",
    "[len(x) for x in samples[\"input_ids\"]]"
   ]
  },
  {
   "cell_type": "code",
   "execution_count": 31,
   "metadata": {},
   "outputs": [
    {
     "data": {
      "text/plain": [
       "{'input_ids': torch.Size([8, 135]),\n",
       " 'attention_mask': torch.Size([8, 135]),\n",
       " 'n_tokens': torch.Size([8])}"
      ]
     },
     "execution_count": 31,
     "metadata": {},
     "output_type": "execute_result"
    }
   ],
   "source": [
    "data_collator = DataCollatorWithPadding(tokenizer=tokenizer)\n",
    "\n",
    "batch = data_collator(samples)\n",
    "{k: v.shape for k, v in batch.items()}"
   ]
  },
  {
   "cell_type": "markdown",
   "metadata": {},
   "source": [
    "# Fine-tuning a model with the Trainer API"
   ]
  },
  {
   "cell_type": "markdown",
   "metadata": {},
   "source": [
    "### Compute the weight of classes to handle imbalance"
   ]
  },
  {
   "cell_type": "code",
   "execution_count": 32,
   "metadata": {},
   "outputs": [
    {
     "data": {
      "text/html": [
       "<div>\n",
       "<style scoped>\n",
       "    .dataframe tbody tr th:only-of-type {\n",
       "        vertical-align: middle;\n",
       "    }\n",
       "\n",
       "    .dataframe tbody tr th {\n",
       "        vertical-align: top;\n",
       "    }\n",
       "\n",
       "    .dataframe thead th {\n",
       "        text-align: right;\n",
       "    }\n",
       "</style>\n",
       "<table border=\"1\" class=\"dataframe\">\n",
       "  <thead>\n",
       "    <tr style=\"text-align: right;\">\n",
       "      <th></th>\n",
       "      <th>IS_LOCATED_IN</th>\n",
       "      <th>HAS_CONTROL_OVER</th>\n",
       "      <th>IS_IN_CONTACT_WITH</th>\n",
       "      <th>OPERATES_IN</th>\n",
       "      <th>STARTED_IN</th>\n",
       "      <th>IS_AT_ODDS_WITH</th>\n",
       "      <th>IS_PART_OF</th>\n",
       "      <th>START_DATE</th>\n",
       "      <th>GENDER_MALE</th>\n",
       "      <th>HAS_CATEGORY</th>\n",
       "      <th>...</th>\n",
       "      <th>WEIGHS</th>\n",
       "      <th>IS_REGISTERED_AS</th>\n",
       "      <th>IS_BORN_ON</th>\n",
       "      <th>HAS_FOR_LENGTH</th>\n",
       "      <th>HAS_FOR_WIDTH</th>\n",
       "      <th>WAS_CREATED_IN</th>\n",
       "      <th>WAS_DISSOLVED_IN</th>\n",
       "      <th>HAS_FOR_HEIGHT</th>\n",
       "      <th>HAS_LONGITUDE</th>\n",
       "      <th>HAS_LATITUDE</th>\n",
       "    </tr>\n",
       "  </thead>\n",
       "  <tbody>\n",
       "    <tr>\n",
       "      <th>weight</th>\n",
       "      <td>0.079446</td>\n",
       "      <td>0.158491</td>\n",
       "      <td>0.244534</td>\n",
       "      <td>0.287226</td>\n",
       "      <td>0.374466</td>\n",
       "      <td>0.466342</td>\n",
       "      <td>0.490982</td>\n",
       "      <td>0.684562</td>\n",
       "      <td>0.775555</td>\n",
       "      <td>0.801572</td>\n",
       "      <td>...</td>\n",
       "      <td>16.726126</td>\n",
       "      <td>26.409673</td>\n",
       "      <td>31.361486</td>\n",
       "      <td>35.841699</td>\n",
       "      <td>45.616708</td>\n",
       "      <td>45.616708</td>\n",
       "      <td>50.178378</td>\n",
       "      <td>55.753754</td>\n",
       "      <td>62.722973</td>\n",
       "      <td>62.722973</td>\n",
       "    </tr>\n",
       "  </tbody>\n",
       "</table>\n",
       "<p>1 rows × 37 columns</p>\n",
       "</div>"
      ],
      "text/plain": [
       "        IS_LOCATED_IN  HAS_CONTROL_OVER  IS_IN_CONTACT_WITH  OPERATES_IN  \\\n",
       "weight       0.079446          0.158491            0.244534     0.287226   \n",
       "\n",
       "        STARTED_IN  IS_AT_ODDS_WITH  IS_PART_OF  START_DATE  GENDER_MALE  \\\n",
       "weight    0.374466         0.466342    0.490982    0.684562     0.775555   \n",
       "\n",
       "        HAS_CATEGORY  ...     WEIGHS  IS_REGISTERED_AS  IS_BORN_ON  \\\n",
       "weight      0.801572  ...  16.726126         26.409673   31.361486   \n",
       "\n",
       "        HAS_FOR_LENGTH  HAS_FOR_WIDTH  WAS_CREATED_IN  WAS_DISSOLVED_IN  \\\n",
       "weight       35.841699      45.616708       45.616708         50.178378   \n",
       "\n",
       "        HAS_FOR_HEIGHT  HAS_LONGITUDE  HAS_LATITUDE  \n",
       "weight       55.753754      62.722973     62.722973  \n",
       "\n",
       "[1 rows x 37 columns]"
      ]
     },
     "execution_count": 32,
     "metadata": {},
     "output_type": "execute_result"
    }
   ],
   "source": [
    "class_weights_df = compute_class_weights(train_df, STEP2_TASK_TARGET_COLS)\n",
    "class_weights_df.sort_values().to_frame().T"
   ]
  },
  {
   "cell_type": "code",
   "execution_count": 33,
   "metadata": {},
   "outputs": [
    {
     "name": "stdout",
     "output_type": "stream",
     "text": [
      "[5.173028698801895, 10.240485383342525, 16.726126126126125, 0.8119478702002975, 1.7544887544887546, 0.775554534441706, 0.8015715395907089, 7.964821964821965, 0.9309532166675024, 0.15849140359563607, 3.2583362583362585, 55.753753753753756, 35.84169884169884, 45.61670761670762, 62.722972972972975, 62.722972972972975, 3.4846096096096097, 1.4889726521774, 9.649688149688151, 0.4663418064905054, 14.758346581875994, 31.361486486486488, 2.0315132946711896, 9.838897721250662, 0.24453400769190242, 0.07944645088406964, 3.8897967735177037, 1.6344748657452242, 0.49098217591368276, 26.409672830725462, 0.28722597812466155, 3.323071415786648, 0.37446551028640584, 0.6845617786954759, 45.61670761670762, 50.17837837837838, 16.726126126126125]\n"
     ]
    }
   ],
   "source": [
    "class_weights = class_weights_df[STEP2_TASK_TARGET_COLS].values.tolist()\n",
    "print(class_weights)"
   ]
  },
  {
   "cell_type": "code",
   "execution_count": 34,
   "metadata": {},
   "outputs": [
    {
     "data": {
      "text/html": [
       "<div>\n",
       "<style scoped>\n",
       "    .dataframe tbody tr th:only-of-type {\n",
       "        vertical-align: middle;\n",
       "    }\n",
       "\n",
       "    .dataframe tbody tr th {\n",
       "        vertical-align: top;\n",
       "    }\n",
       "\n",
       "    .dataframe thead th {\n",
       "        text-align: right;\n",
       "    }\n",
       "</style>\n",
       "<table border=\"1\" class=\"dataframe\">\n",
       "  <thead>\n",
       "    <tr style=\"text-align: right;\">\n",
       "      <th></th>\n",
       "      <th>count</th>\n",
       "      <th>proportion</th>\n",
       "      <th>weight</th>\n",
       "    </tr>\n",
       "  </thead>\n",
       "  <tbody>\n",
       "    <tr>\n",
       "      <th>HAS_LONGITUDE</th>\n",
       "      <td>8.0</td>\n",
       "      <td>0.000431</td>\n",
       "      <td>62.722973</td>\n",
       "    </tr>\n",
       "    <tr>\n",
       "      <th>HAS_LATITUDE</th>\n",
       "      <td>8.0</td>\n",
       "      <td>0.000431</td>\n",
       "      <td>62.722973</td>\n",
       "    </tr>\n",
       "    <tr>\n",
       "      <th>HAS_FOR_HEIGHT</th>\n",
       "      <td>9.0</td>\n",
       "      <td>0.000485</td>\n",
       "      <td>55.753754</td>\n",
       "    </tr>\n",
       "    <tr>\n",
       "      <th>WAS_DISSOLVED_IN</th>\n",
       "      <td>10.0</td>\n",
       "      <td>0.000539</td>\n",
       "      <td>50.178378</td>\n",
       "    </tr>\n",
       "    <tr>\n",
       "      <th>WAS_CREATED_IN</th>\n",
       "      <td>11.0</td>\n",
       "      <td>0.000592</td>\n",
       "      <td>45.616708</td>\n",
       "    </tr>\n",
       "    <tr>\n",
       "      <th>HAS_FOR_WIDTH</th>\n",
       "      <td>11.0</td>\n",
       "      <td>0.000592</td>\n",
       "      <td>45.616708</td>\n",
       "    </tr>\n",
       "    <tr>\n",
       "      <th>HAS_FOR_LENGTH</th>\n",
       "      <td>14.0</td>\n",
       "      <td>0.000754</td>\n",
       "      <td>35.841699</td>\n",
       "    </tr>\n",
       "    <tr>\n",
       "      <th>IS_BORN_ON</th>\n",
       "      <td>16.0</td>\n",
       "      <td>0.000862</td>\n",
       "      <td>31.361486</td>\n",
       "    </tr>\n",
       "    <tr>\n",
       "      <th>IS_REGISTERED_AS</th>\n",
       "      <td>19.0</td>\n",
       "      <td>0.001023</td>\n",
       "      <td>26.409673</td>\n",
       "    </tr>\n",
       "    <tr>\n",
       "      <th>WEIGHS</th>\n",
       "      <td>30.0</td>\n",
       "      <td>0.001616</td>\n",
       "      <td>16.726126</td>\n",
       "    </tr>\n",
       "    <tr>\n",
       "      <th>DIED_IN</th>\n",
       "      <td>30.0</td>\n",
       "      <td>0.001616</td>\n",
       "      <td>16.726126</td>\n",
       "    </tr>\n",
       "    <tr>\n",
       "      <th>IS_BORN_IN</th>\n",
       "      <td>34.0</td>\n",
       "      <td>0.001831</td>\n",
       "      <td>14.758347</td>\n",
       "    </tr>\n",
       "    <tr>\n",
       "      <th>DEATHS_NUMBER</th>\n",
       "      <td>49.0</td>\n",
       "      <td>0.002639</td>\n",
       "      <td>10.240485</td>\n",
       "    </tr>\n",
       "    <tr>\n",
       "      <th>IS_DEAD_ON</th>\n",
       "      <td>51.0</td>\n",
       "      <td>0.002747</td>\n",
       "      <td>9.838898</td>\n",
       "    </tr>\n",
       "    <tr>\n",
       "      <th>INJURED_NUMBER</th>\n",
       "      <td>52.0</td>\n",
       "      <td>0.002801</td>\n",
       "      <td>9.649688</td>\n",
       "    </tr>\n",
       "    <tr>\n",
       "      <th>HAS_COLOR</th>\n",
       "      <td>63.0</td>\n",
       "      <td>0.003393</td>\n",
       "      <td>7.964822</td>\n",
       "    </tr>\n",
       "    <tr>\n",
       "      <th>CREATED</th>\n",
       "      <td>97.0</td>\n",
       "      <td>0.005225</td>\n",
       "      <td>5.173029</td>\n",
       "    </tr>\n",
       "    <tr>\n",
       "      <th>IS_OF_NATIONALITY</th>\n",
       "      <td>129.0</td>\n",
       "      <td>0.006948</td>\n",
       "      <td>3.889797</td>\n",
       "    </tr>\n",
       "    <tr>\n",
       "      <th>HAS_QUANTITY</th>\n",
       "      <td>144.0</td>\n",
       "      <td>0.007756</td>\n",
       "      <td>3.484610</td>\n",
       "    </tr>\n",
       "    <tr>\n",
       "      <th>RESIDES_IN</th>\n",
       "      <td>151.0</td>\n",
       "      <td>0.008133</td>\n",
       "      <td>3.323071</td>\n",
       "    </tr>\n",
       "    <tr>\n",
       "      <th>HAS_FAMILY_RELATIONSHIP</th>\n",
       "      <td>154.0</td>\n",
       "      <td>0.008295</td>\n",
       "      <td>3.258336</td>\n",
       "    </tr>\n",
       "    <tr>\n",
       "      <th>IS_COOPERATING_WITH</th>\n",
       "      <td>247.0</td>\n",
       "      <td>0.013304</td>\n",
       "      <td>2.031513</td>\n",
       "    </tr>\n",
       "    <tr>\n",
       "      <th>GENDER_FEMALE</th>\n",
       "      <td>286.0</td>\n",
       "      <td>0.015405</td>\n",
       "      <td>1.754489</td>\n",
       "    </tr>\n",
       "    <tr>\n",
       "      <th>IS_OF_SIZE</th>\n",
       "      <td>307.0</td>\n",
       "      <td>0.016536</td>\n",
       "      <td>1.634475</td>\n",
       "    </tr>\n",
       "    <tr>\n",
       "      <th>INITIATED</th>\n",
       "      <td>337.0</td>\n",
       "      <td>0.018151</td>\n",
       "      <td>1.488973</td>\n",
       "    </tr>\n",
       "    <tr>\n",
       "      <th>HAS_CONSEQUENCE</th>\n",
       "      <td>539.0</td>\n",
       "      <td>0.029032</td>\n",
       "      <td>0.930953</td>\n",
       "    </tr>\n",
       "    <tr>\n",
       "      <th>END_DATE</th>\n",
       "      <td>618.0</td>\n",
       "      <td>0.033287</td>\n",
       "      <td>0.811948</td>\n",
       "    </tr>\n",
       "    <tr>\n",
       "      <th>HAS_CATEGORY</th>\n",
       "      <td>626.0</td>\n",
       "      <td>0.033718</td>\n",
       "      <td>0.801572</td>\n",
       "    </tr>\n",
       "    <tr>\n",
       "      <th>GENDER_MALE</th>\n",
       "      <td>647.0</td>\n",
       "      <td>0.034849</td>\n",
       "      <td>0.775555</td>\n",
       "    </tr>\n",
       "    <tr>\n",
       "      <th>START_DATE</th>\n",
       "      <td>733.0</td>\n",
       "      <td>0.039481</td>\n",
       "      <td>0.684562</td>\n",
       "    </tr>\n",
       "    <tr>\n",
       "      <th>IS_PART_OF</th>\n",
       "      <td>1022.0</td>\n",
       "      <td>0.055047</td>\n",
       "      <td>0.490982</td>\n",
       "    </tr>\n",
       "    <tr>\n",
       "      <th>IS_AT_ODDS_WITH</th>\n",
       "      <td>1076.0</td>\n",
       "      <td>0.057955</td>\n",
       "      <td>0.466342</td>\n",
       "    </tr>\n",
       "    <tr>\n",
       "      <th>STARTED_IN</th>\n",
       "      <td>1340.0</td>\n",
       "      <td>0.072175</td>\n",
       "      <td>0.374466</td>\n",
       "    </tr>\n",
       "    <tr>\n",
       "      <th>OPERATES_IN</th>\n",
       "      <td>1747.0</td>\n",
       "      <td>0.094097</td>\n",
       "      <td>0.287226</td>\n",
       "    </tr>\n",
       "    <tr>\n",
       "      <th>IS_IN_CONTACT_WITH</th>\n",
       "      <td>2052.0</td>\n",
       "      <td>0.110525</td>\n",
       "      <td>0.244534</td>\n",
       "    </tr>\n",
       "    <tr>\n",
       "      <th>HAS_CONTROL_OVER</th>\n",
       "      <td>3166.0</td>\n",
       "      <td>0.170527</td>\n",
       "      <td>0.158491</td>\n",
       "    </tr>\n",
       "    <tr>\n",
       "      <th>IS_LOCATED_IN</th>\n",
       "      <td>6316.0</td>\n",
       "      <td>0.340192</td>\n",
       "      <td>0.079446</td>\n",
       "    </tr>\n",
       "  </tbody>\n",
       "</table>\n",
       "</div>"
      ],
      "text/plain": [
       "                          count  proportion     weight\n",
       "HAS_LONGITUDE               8.0    0.000431  62.722973\n",
       "HAS_LATITUDE                8.0    0.000431  62.722973\n",
       "HAS_FOR_HEIGHT              9.0    0.000485  55.753754\n",
       "WAS_DISSOLVED_IN           10.0    0.000539  50.178378\n",
       "WAS_CREATED_IN             11.0    0.000592  45.616708\n",
       "HAS_FOR_WIDTH              11.0    0.000592  45.616708\n",
       "HAS_FOR_LENGTH             14.0    0.000754  35.841699\n",
       "IS_BORN_ON                 16.0    0.000862  31.361486\n",
       "IS_REGISTERED_AS           19.0    0.001023  26.409673\n",
       "WEIGHS                     30.0    0.001616  16.726126\n",
       "DIED_IN                    30.0    0.001616  16.726126\n",
       "IS_BORN_IN                 34.0    0.001831  14.758347\n",
       "DEATHS_NUMBER              49.0    0.002639  10.240485\n",
       "IS_DEAD_ON                 51.0    0.002747   9.838898\n",
       "INJURED_NUMBER             52.0    0.002801   9.649688\n",
       "HAS_COLOR                  63.0    0.003393   7.964822\n",
       "CREATED                    97.0    0.005225   5.173029\n",
       "IS_OF_NATIONALITY         129.0    0.006948   3.889797\n",
       "HAS_QUANTITY              144.0    0.007756   3.484610\n",
       "RESIDES_IN                151.0    0.008133   3.323071\n",
       "HAS_FAMILY_RELATIONSHIP   154.0    0.008295   3.258336\n",
       "IS_COOPERATING_WITH       247.0    0.013304   2.031513\n",
       "GENDER_FEMALE             286.0    0.015405   1.754489\n",
       "IS_OF_SIZE                307.0    0.016536   1.634475\n",
       "INITIATED                 337.0    0.018151   1.488973\n",
       "HAS_CONSEQUENCE           539.0    0.029032   0.930953\n",
       "END_DATE                  618.0    0.033287   0.811948\n",
       "HAS_CATEGORY              626.0    0.033718   0.801572\n",
       "GENDER_MALE               647.0    0.034849   0.775555\n",
       "START_DATE                733.0    0.039481   0.684562\n",
       "IS_PART_OF               1022.0    0.055047   0.490982\n",
       "IS_AT_ODDS_WITH          1076.0    0.057955   0.466342\n",
       "STARTED_IN               1340.0    0.072175   0.374466\n",
       "OPERATES_IN              1747.0    0.094097   0.287226\n",
       "IS_IN_CONTACT_WITH       2052.0    0.110525   0.244534\n",
       "HAS_CONTROL_OVER         3166.0    0.170527   0.158491\n",
       "IS_LOCATED_IN            6316.0    0.340192   0.079446"
      ]
     },
     "execution_count": 34,
     "metadata": {},
     "output_type": "execute_result"
    }
   ],
   "source": [
    "pd.concat([get_cat_var_distribution(train_df[STEP2_TASK_TARGET_COLS]), class_weights_df], axis=1).sort_values(by=\"count\")"
   ]
  },
  {
   "cell_type": "markdown",
   "metadata": {},
   "source": [
    "### Init the model"
   ]
  },
  {
   "cell_type": "code",
   "execution_count": 35,
   "metadata": {},
   "outputs": [],
   "source": [
    "class2id = {class_:id_ for id_, class_ in enumerate(STEP2_TASK_TARGET_COLS)}\n",
    "id2class = {id_:class_ for class_, id_ in class2id.items()}"
   ]
  },
  {
   "cell_type": "code",
   "execution_count": 36,
   "metadata": {},
   "outputs": [
    {
     "name": "stderr",
     "output_type": "stream",
     "text": [
      "Some weights of CamembertForSequenceClassification were not initialized from the model checkpoint at camembert/camembert-large and are newly initialized: ['classifier.dense.bias', 'classifier.dense.weight', 'classifier.out_proj.bias', 'classifier.out_proj.weight']\n",
      "You should probably TRAIN this model on a down-stream task to be able to use it for predictions and inference.\n"
     ]
    },
    {
     "data": {
      "text/plain": [
       "CamembertForSequenceClassification(\n",
       "  (roberta): CamembertModel(\n",
       "    (embeddings): CamembertEmbeddings(\n",
       "      (word_embeddings): Embedding(32005, 1024, padding_idx=1)\n",
       "      (position_embeddings): Embedding(514, 1024, padding_idx=1)\n",
       "      (token_type_embeddings): Embedding(1, 1024)\n",
       "      (LayerNorm): LayerNorm((1024,), eps=1e-05, elementwise_affine=True)\n",
       "      (dropout): Dropout(p=0.1, inplace=False)\n",
       "    )\n",
       "    (encoder): CamembertEncoder(\n",
       "      (layer): ModuleList(\n",
       "        (0-23): 24 x CamembertLayer(\n",
       "          (attention): CamembertAttention(\n",
       "            (self): CamembertSdpaSelfAttention(\n",
       "              (query): Linear(in_features=1024, out_features=1024, bias=True)\n",
       "              (key): Linear(in_features=1024, out_features=1024, bias=True)\n",
       "              (value): Linear(in_features=1024, out_features=1024, bias=True)\n",
       "              (dropout): Dropout(p=0.1, inplace=False)\n",
       "            )\n",
       "            (output): CamembertSelfOutput(\n",
       "              (dense): Linear(in_features=1024, out_features=1024, bias=True)\n",
       "              (LayerNorm): LayerNorm((1024,), eps=1e-05, elementwise_affine=True)\n",
       "              (dropout): Dropout(p=0.1, inplace=False)\n",
       "            )\n",
       "          )\n",
       "          (intermediate): CamembertIntermediate(\n",
       "            (dense): Linear(in_features=1024, out_features=4096, bias=True)\n",
       "            (intermediate_act_fn): GELUActivation()\n",
       "          )\n",
       "          (output): CamembertOutput(\n",
       "            (dense): Linear(in_features=4096, out_features=1024, bias=True)\n",
       "            (LayerNorm): LayerNorm((1024,), eps=1e-05, elementwise_affine=True)\n",
       "            (dropout): Dropout(p=0.1, inplace=False)\n",
       "          )\n",
       "        )\n",
       "      )\n",
       "    )\n",
       "  )\n",
       "  (classifier): CamembertClassificationHead(\n",
       "    (dense): Linear(in_features=1024, out_features=1024, bias=True)\n",
       "    (dropout): Dropout(p=0.1, inplace=False)\n",
       "    (out_proj): Linear(in_features=1024, out_features=37, bias=True)\n",
       "  )\n",
       ")"
      ]
     },
     "execution_count": 36,
     "metadata": {},
     "output_type": "execute_result"
    }
   ],
   "source": [
    "model = AutoModelForSequenceClassification.from_pretrained(\n",
    "    pretrained_model_name_or_path=BASE_CHECKPOINT,\n",
    "    num_labels=len(STEP2_TASK_TARGET_COLS),\n",
    "    id2label=id2class, \n",
    "    label2id=class2id,\n",
    "    problem_type = \"multi_label_classification\"\n",
    "\n",
    ")\n",
    "model.resize_token_embeddings(len(tokenizer))\n",
    "model"
   ]
  },
  {
   "cell_type": "markdown",
   "metadata": {},
   "source": [
    "### Init the trainer and launch the training\n",
    "\n",
    "Source: https://stackoverflow.com/questions/69087044/early-stopping-in-bert-trainer-instances#69087153\n",
    "\n",
    "1. Use `load_best_model_at_end = True` (EarlyStoppingCallback() requires this to be True).\n",
    "2. `evaluation_strategy = 'steps'` or IntervalStrategy.STEPS instead of 'epoch'.\n",
    "3. `eval_steps = 50` (evaluate the metrics after N steps).\n",
    "4. `metric_for_best_model = 'f1'`"
   ]
  },
  {
   "cell_type": "code",
   "execution_count": 37,
   "metadata": {},
   "outputs": [],
   "source": [
    "def compute_labels_from_logits(logits: np.ndarray) -> np.ndarray:\n",
    "    return (torch.nn.Sigmoid()(torch.from_numpy(logits)).numpy() > 0.5).astype(int)"
   ]
  },
  {
   "cell_type": "code",
   "execution_count": 38,
   "metadata": {},
   "outputs": [],
   "source": [
    "def compute_metrics(p):\n",
    "    logits, labels = p\n",
    "    # print(f\"{labels=}\")\n",
    "    pred = compute_labels_from_logits(logits)\n",
    "    # print(f\"{pred=}\")\n",
    "    accuracy = accuracy_score(y_true=labels, y_pred=pred)\n",
    "    recall = recall_score(y_true=labels, y_pred=pred, average=\"macro\", zero_division=0)\n",
    "    precision = precision_score(y_true=labels, y_pred=pred, average=\"macro\", zero_division=0)\n",
    "    f1 = f1_score(y_true=labels, y_pred=pred, average=\"macro\", zero_division=0)    \n",
    "    return {\"accuracy\": accuracy, \"precision\": precision, \"recall\": recall, \"f1\": f1}\n",
    "\n",
    "training_args = TrainingArguments(\n",
    "    output_dir=os.path.join(MODELS_DIR, f\"{STEP2_TASK_NAME}-byTrainerAPI-checkpoints-{BASE_CHECKPOINT.split('/')[-1]}\"),\n",
    "    per_device_train_batch_size=8,    \n",
    "    per_device_eval_batch_size=8,\n",
    "    num_train_epochs=100,\n",
    "    eval_strategy=IntervalStrategy.EPOCH, # steps\n",
    "    # eval_steps = 250, # Evaluation and Save happens every 50 steps\n",
    "    learning_rate=1e-7,\n",
    "    weight_decay=0.01,\n",
    "    # warmup_steps=10_000,\n",
    "    save_strategy=IntervalStrategy.EPOCH,\n",
    "    # save_steps=250,\n",
    "    logging_dir=os.path.join(MODELS_DIR, f\"{STEP2_TASK_NAME}-byTrainerAPI-tensorboard\"),\n",
    "    save_total_limit = 1, # Only last 2 models are saved. Older ones are deleted\n",
    "    push_to_hub=False,\n",
    "    metric_for_best_model = 'loss',\n",
    "    greater_is_better=False,\n",
    "    load_best_model_at_end=True,\n",
    "    report_to=\"none\",\n",
    ")\n",
    "\n",
    "class CustomTrainer(Trainer):\n",
    "    pass\n",
    "    # def compute_loss(self, model, inputs, return_outputs=False):\n",
    "    #     \"\"\"customize the loss to leverage class weights\"\"\"\n",
    "    #     labels = inputs.get(\"labels\")\n",
    "    #     # print(labels.type(), labels.shape)\n",
    "    #     # print(inputs.keys())\n",
    "    #     # forward pass\n",
    "    #     outputs = model(**inputs)\n",
    "    #     logits = outputs.get('logits')\n",
    "    #     # print(logits)\n",
    "    #     # compute custom loss\n",
    "    #     loss_fct = nn.BCEWithLogitsLoss(weight=torch.tensor(class_weights).to(device))\n",
    "    #     loss = loss_fct(logits, labels)\n",
    "    #     return (loss, outputs) if return_outputs else loss\n",
    "\n",
    "trainer = CustomTrainer(\n",
    "    model,\n",
    "    training_args,\n",
    "    train_dataset=tokenized_datasets[\"train\"].select_columns(['labels', 'input_ids', 'attention_mask']),\n",
    "    eval_dataset=tokenized_datasets[\"validation\"].select_columns(['labels', 'input_ids', 'attention_mask']),\n",
    "    data_collator=data_collator,\n",
    "    tokenizer=tokenizer,\n",
    "    compute_metrics=compute_metrics,\n",
    "    callbacks = [EarlyStoppingCallback(early_stopping_patience=4)],\n",
    ")\n",
    "\n",
    "# trainer.train()"
   ]
  },
  {
   "cell_type": "markdown",
   "metadata": {},
   "source": [
    "### Launch training"
   ]
  },
  {
   "cell_type": "code",
   "execution_count": 39,
   "metadata": {},
   "outputs": [
    {
     "data": {
      "text/plain": [
       "{'early_stopping_patience': 4,\n",
       " 'early_stopping_threshold': 0.0,\n",
       " 'early_stopping_patience_counter': 0}"
      ]
     },
     "execution_count": 39,
     "metadata": {},
     "output_type": "execute_result"
    }
   ],
   "source": [
    "trainer.callback_handler.callbacks[-2].__dict__"
   ]
  },
  {
   "cell_type": "code",
   "execution_count": 40,
   "metadata": {},
   "outputs": [
    {
     "data": {
      "text/html": [
       "\n",
       "    <div>\n",
       "      \n",
       "      <progress value='23789' max='232100' style='width:300px; height:20px; vertical-align: middle;'></progress>\n",
       "      [ 23789/232100 2:00:35 < 17:36:00, 3.29 it/s, Epoch 10.25/100]\n",
       "    </div>\n",
       "    <table border=\"1\" class=\"dataframe\">\n",
       "  <thead>\n",
       " <tr style=\"text-align: left;\">\n",
       "      <th>Epoch</th>\n",
       "      <th>Training Loss</th>\n",
       "      <th>Validation Loss</th>\n",
       "      <th>Accuracy</th>\n",
       "      <th>Precision</th>\n",
       "      <th>Recall</th>\n",
       "      <th>F1</th>\n",
       "    </tr>\n",
       "  </thead>\n",
       "  <tbody>\n",
       "    <tr>\n",
       "      <td>1</td>\n",
       "      <td>0.425600</td>\n",
       "      <td>0.379367</td>\n",
       "      <td>0.000000</td>\n",
       "      <td>0.000000</td>\n",
       "      <td>0.000000</td>\n",
       "      <td>0.000000</td>\n",
       "    </tr>\n",
       "    <tr>\n",
       "      <td>2</td>\n",
       "      <td>0.346700</td>\n",
       "      <td>0.319352</td>\n",
       "      <td>0.000000</td>\n",
       "      <td>0.000000</td>\n",
       "      <td>0.000000</td>\n",
       "      <td>0.000000</td>\n",
       "    </tr>\n",
       "    <tr>\n",
       "      <td>3</td>\n",
       "      <td>0.301400</td>\n",
       "      <td>0.272622</td>\n",
       "      <td>0.000000</td>\n",
       "      <td>0.000000</td>\n",
       "      <td>0.000000</td>\n",
       "      <td>0.000000</td>\n",
       "    </tr>\n",
       "    <tr>\n",
       "      <td>4</td>\n",
       "      <td>0.254100</td>\n",
       "      <td>0.233955</td>\n",
       "      <td>0.000000</td>\n",
       "      <td>0.000000</td>\n",
       "      <td>0.000000</td>\n",
       "      <td>0.000000</td>\n",
       "    </tr>\n",
       "    <tr>\n",
       "      <td>5</td>\n",
       "      <td>0.216800</td>\n",
       "      <td>0.202714</td>\n",
       "      <td>0.000000</td>\n",
       "      <td>0.000000</td>\n",
       "      <td>0.000000</td>\n",
       "      <td>0.000000</td>\n",
       "    </tr>\n",
       "    <tr>\n",
       "      <td>6</td>\n",
       "      <td>0.193300</td>\n",
       "      <td>0.178284</td>\n",
       "      <td>0.000000</td>\n",
       "      <td>0.000000</td>\n",
       "      <td>0.000000</td>\n",
       "      <td>0.000000</td>\n",
       "    </tr>\n",
       "    <tr>\n",
       "      <td>7</td>\n",
       "      <td>0.170000</td>\n",
       "      <td>0.159600</td>\n",
       "      <td>0.000000</td>\n",
       "      <td>0.000000</td>\n",
       "      <td>0.000000</td>\n",
       "      <td>0.000000</td>\n",
       "    </tr>\n",
       "    <tr>\n",
       "      <td>8</td>\n",
       "      <td>0.153400</td>\n",
       "      <td>0.145570</td>\n",
       "      <td>0.000000</td>\n",
       "      <td>0.000000</td>\n",
       "      <td>0.000000</td>\n",
       "      <td>0.000000</td>\n",
       "    </tr>\n",
       "    <tr>\n",
       "      <td>9</td>\n",
       "      <td>0.143100</td>\n",
       "      <td>0.135129</td>\n",
       "      <td>0.000000</td>\n",
       "      <td>0.000000</td>\n",
       "      <td>0.000000</td>\n",
       "      <td>0.000000</td>\n",
       "    </tr>\n",
       "    <tr>\n",
       "      <td>10</td>\n",
       "      <td>0.132800</td>\n",
       "      <td>0.127169</td>\n",
       "      <td>0.000000</td>\n",
       "      <td>0.000000</td>\n",
       "      <td>0.000000</td>\n",
       "      <td>0.000000</td>\n",
       "    </tr>\n",
       "  </tbody>\n",
       "</table><p>"
      ],
      "text/plain": [
       "<IPython.core.display.HTML object>"
      ]
     },
     "metadata": {},
     "output_type": "display_data"
    },
    {
     "ename": "KeyboardInterrupt",
     "evalue": "",
     "output_type": "error",
     "traceback": [
      "\u001b[0;31m---------------------------------------------------------------------------\u001b[0m",
      "\u001b[0;31mKeyboardInterrupt\u001b[0m                         Traceback (most recent call last)",
      "Cell \u001b[0;32mIn[40], line 1\u001b[0m\n\u001b[0;32m----> 1\u001b[0m \u001b[43mtrainer\u001b[49m\u001b[38;5;241;43m.\u001b[39;49m\u001b[43mtrain\u001b[49m\u001b[43m(\u001b[49m\u001b[43mresume_from_checkpoint\u001b[49m\u001b[38;5;241;43m=\u001b[39;49m\u001b[43mtrainer\u001b[49m\u001b[38;5;241;43m.\u001b[39;49m\u001b[43mstate\u001b[49m\u001b[38;5;241;43m.\u001b[39;49m\u001b[43mbest_model_checkpoint\u001b[49m\u001b[43m)\u001b[49m\n",
      "File \u001b[0;32m~/.pyenv/versions/3.11.8/envs/kgl11/lib/python3.11/site-packages/transformers/trainer.py:2052\u001b[0m, in \u001b[0;36mTrainer.train\u001b[0;34m(self, resume_from_checkpoint, trial, ignore_keys_for_eval, **kwargs)\u001b[0m\n\u001b[1;32m   2050\u001b[0m         hf_hub_utils\u001b[38;5;241m.\u001b[39menable_progress_bars()\n\u001b[1;32m   2051\u001b[0m \u001b[38;5;28;01melse\u001b[39;00m:\n\u001b[0;32m-> 2052\u001b[0m     \u001b[38;5;28;01mreturn\u001b[39;00m \u001b[43minner_training_loop\u001b[49m\u001b[43m(\u001b[49m\n\u001b[1;32m   2053\u001b[0m \u001b[43m        \u001b[49m\u001b[43margs\u001b[49m\u001b[38;5;241;43m=\u001b[39;49m\u001b[43margs\u001b[49m\u001b[43m,\u001b[49m\n\u001b[1;32m   2054\u001b[0m \u001b[43m        \u001b[49m\u001b[43mresume_from_checkpoint\u001b[49m\u001b[38;5;241;43m=\u001b[39;49m\u001b[43mresume_from_checkpoint\u001b[49m\u001b[43m,\u001b[49m\n\u001b[1;32m   2055\u001b[0m \u001b[43m        \u001b[49m\u001b[43mtrial\u001b[49m\u001b[38;5;241;43m=\u001b[39;49m\u001b[43mtrial\u001b[49m\u001b[43m,\u001b[49m\n\u001b[1;32m   2056\u001b[0m \u001b[43m        \u001b[49m\u001b[43mignore_keys_for_eval\u001b[49m\u001b[38;5;241;43m=\u001b[39;49m\u001b[43mignore_keys_for_eval\u001b[49m\u001b[43m,\u001b[49m\n\u001b[1;32m   2057\u001b[0m \u001b[43m    \u001b[49m\u001b[43m)\u001b[49m\n",
      "File \u001b[0;32m~/.pyenv/versions/3.11.8/envs/kgl11/lib/python3.11/site-packages/transformers/trainer.py:2388\u001b[0m, in \u001b[0;36mTrainer._inner_training_loop\u001b[0;34m(self, batch_size, args, resume_from_checkpoint, trial, ignore_keys_for_eval)\u001b[0m\n\u001b[1;32m   2385\u001b[0m     \u001b[38;5;28mself\u001b[39m\u001b[38;5;241m.\u001b[39mcontrol \u001b[38;5;241m=\u001b[39m \u001b[38;5;28mself\u001b[39m\u001b[38;5;241m.\u001b[39mcallback_handler\u001b[38;5;241m.\u001b[39mon_step_begin(args, \u001b[38;5;28mself\u001b[39m\u001b[38;5;241m.\u001b[39mstate, \u001b[38;5;28mself\u001b[39m\u001b[38;5;241m.\u001b[39mcontrol)\n\u001b[1;32m   2387\u001b[0m \u001b[38;5;28;01mwith\u001b[39;00m \u001b[38;5;28mself\u001b[39m\u001b[38;5;241m.\u001b[39maccelerator\u001b[38;5;241m.\u001b[39maccumulate(model):\n\u001b[0;32m-> 2388\u001b[0m     tr_loss_step \u001b[38;5;241m=\u001b[39m \u001b[38;5;28;43mself\u001b[39;49m\u001b[38;5;241;43m.\u001b[39;49m\u001b[43mtraining_step\u001b[49m\u001b[43m(\u001b[49m\u001b[43mmodel\u001b[49m\u001b[43m,\u001b[49m\u001b[43m \u001b[49m\u001b[43minputs\u001b[49m\u001b[43m)\u001b[49m\n\u001b[1;32m   2390\u001b[0m \u001b[38;5;28;01mif\u001b[39;00m (\n\u001b[1;32m   2391\u001b[0m     args\u001b[38;5;241m.\u001b[39mlogging_nan_inf_filter\n\u001b[1;32m   2392\u001b[0m     \u001b[38;5;129;01mand\u001b[39;00m \u001b[38;5;129;01mnot\u001b[39;00m is_torch_xla_available()\n\u001b[1;32m   2393\u001b[0m     \u001b[38;5;129;01mand\u001b[39;00m (torch\u001b[38;5;241m.\u001b[39misnan(tr_loss_step) \u001b[38;5;129;01mor\u001b[39;00m torch\u001b[38;5;241m.\u001b[39misinf(tr_loss_step))\n\u001b[1;32m   2394\u001b[0m ):\n\u001b[1;32m   2395\u001b[0m     \u001b[38;5;66;03m# if loss is nan or inf simply add the average of previous logged losses\u001b[39;00m\n\u001b[1;32m   2396\u001b[0m     tr_loss \u001b[38;5;241m+\u001b[39m\u001b[38;5;241m=\u001b[39m tr_loss \u001b[38;5;241m/\u001b[39m (\u001b[38;5;241m1\u001b[39m \u001b[38;5;241m+\u001b[39m \u001b[38;5;28mself\u001b[39m\u001b[38;5;241m.\u001b[39mstate\u001b[38;5;241m.\u001b[39mglobal_step \u001b[38;5;241m-\u001b[39m \u001b[38;5;28mself\u001b[39m\u001b[38;5;241m.\u001b[39m_globalstep_last_logged)\n",
      "File \u001b[0;32m~/.pyenv/versions/3.11.8/envs/kgl11/lib/python3.11/site-packages/transformers/trainer.py:3518\u001b[0m, in \u001b[0;36mTrainer.training_step\u001b[0;34m(***failed resolving arguments***)\u001b[0m\n\u001b[1;32m   3516\u001b[0m         scaled_loss\u001b[38;5;241m.\u001b[39mbackward()\n\u001b[1;32m   3517\u001b[0m \u001b[38;5;28;01melse\u001b[39;00m:\n\u001b[0;32m-> 3518\u001b[0m     \u001b[38;5;28;43mself\u001b[39;49m\u001b[38;5;241;43m.\u001b[39;49m\u001b[43maccelerator\u001b[49m\u001b[38;5;241;43m.\u001b[39;49m\u001b[43mbackward\u001b[49m\u001b[43m(\u001b[49m\u001b[43mloss\u001b[49m\u001b[43m,\u001b[49m\u001b[43m \u001b[49m\u001b[38;5;241;43m*\u001b[39;49m\u001b[38;5;241;43m*\u001b[39;49m\u001b[43mkwargs\u001b[49m\u001b[43m)\u001b[49m\n\u001b[1;32m   3520\u001b[0m \u001b[38;5;28;01mreturn\u001b[39;00m loss\u001b[38;5;241m.\u001b[39mdetach() \u001b[38;5;241m/\u001b[39m \u001b[38;5;28mself\u001b[39m\u001b[38;5;241m.\u001b[39margs\u001b[38;5;241m.\u001b[39mgradient_accumulation_steps\n",
      "File \u001b[0;32m~/.pyenv/versions/3.11.8/envs/kgl11/lib/python3.11/site-packages/accelerate/accelerator.py:2196\u001b[0m, in \u001b[0;36mAccelerator.backward\u001b[0;34m(self, loss, **kwargs)\u001b[0m\n\u001b[1;32m   2194\u001b[0m     \u001b[38;5;28mself\u001b[39m\u001b[38;5;241m.\u001b[39mlomo_backward(loss, learning_rate)\n\u001b[1;32m   2195\u001b[0m \u001b[38;5;28;01melse\u001b[39;00m:\n\u001b[0;32m-> 2196\u001b[0m     \u001b[43mloss\u001b[49m\u001b[38;5;241;43m.\u001b[39;49m\u001b[43mbackward\u001b[49m\u001b[43m(\u001b[49m\u001b[38;5;241;43m*\u001b[39;49m\u001b[38;5;241;43m*\u001b[39;49m\u001b[43mkwargs\u001b[49m\u001b[43m)\u001b[49m\n",
      "File \u001b[0;32m~/.pyenv/versions/3.11.8/envs/kgl11/lib/python3.11/site-packages/torch/_tensor.py:525\u001b[0m, in \u001b[0;36mTensor.backward\u001b[0;34m(self, gradient, retain_graph, create_graph, inputs)\u001b[0m\n\u001b[1;32m    515\u001b[0m \u001b[38;5;28;01mif\u001b[39;00m has_torch_function_unary(\u001b[38;5;28mself\u001b[39m):\n\u001b[1;32m    516\u001b[0m     \u001b[38;5;28;01mreturn\u001b[39;00m handle_torch_function(\n\u001b[1;32m    517\u001b[0m         Tensor\u001b[38;5;241m.\u001b[39mbackward,\n\u001b[1;32m    518\u001b[0m         (\u001b[38;5;28mself\u001b[39m,),\n\u001b[0;32m   (...)\u001b[0m\n\u001b[1;32m    523\u001b[0m         inputs\u001b[38;5;241m=\u001b[39minputs,\n\u001b[1;32m    524\u001b[0m     )\n\u001b[0;32m--> 525\u001b[0m \u001b[43mtorch\u001b[49m\u001b[38;5;241;43m.\u001b[39;49m\u001b[43mautograd\u001b[49m\u001b[38;5;241;43m.\u001b[39;49m\u001b[43mbackward\u001b[49m\u001b[43m(\u001b[49m\n\u001b[1;32m    526\u001b[0m \u001b[43m    \u001b[49m\u001b[38;5;28;43mself\u001b[39;49m\u001b[43m,\u001b[49m\u001b[43m \u001b[49m\u001b[43mgradient\u001b[49m\u001b[43m,\u001b[49m\u001b[43m \u001b[49m\u001b[43mretain_graph\u001b[49m\u001b[43m,\u001b[49m\u001b[43m \u001b[49m\u001b[43mcreate_graph\u001b[49m\u001b[43m,\u001b[49m\u001b[43m \u001b[49m\u001b[43minputs\u001b[49m\u001b[38;5;241;43m=\u001b[39;49m\u001b[43minputs\u001b[49m\n\u001b[1;32m    527\u001b[0m \u001b[43m\u001b[49m\u001b[43m)\u001b[49m\n",
      "File \u001b[0;32m~/.pyenv/versions/3.11.8/envs/kgl11/lib/python3.11/site-packages/torch/autograd/__init__.py:267\u001b[0m, in \u001b[0;36mbackward\u001b[0;34m(tensors, grad_tensors, retain_graph, create_graph, grad_variables, inputs)\u001b[0m\n\u001b[1;32m    262\u001b[0m     retain_graph \u001b[38;5;241m=\u001b[39m create_graph\n\u001b[1;32m    264\u001b[0m \u001b[38;5;66;03m# The reason we repeat the same comment below is that\u001b[39;00m\n\u001b[1;32m    265\u001b[0m \u001b[38;5;66;03m# some Python versions print out the first line of a multi-line function\u001b[39;00m\n\u001b[1;32m    266\u001b[0m \u001b[38;5;66;03m# calls in the traceback and some print out the last line\u001b[39;00m\n\u001b[0;32m--> 267\u001b[0m \u001b[43m_engine_run_backward\u001b[49m\u001b[43m(\u001b[49m\n\u001b[1;32m    268\u001b[0m \u001b[43m    \u001b[49m\u001b[43mtensors\u001b[49m\u001b[43m,\u001b[49m\n\u001b[1;32m    269\u001b[0m \u001b[43m    \u001b[49m\u001b[43mgrad_tensors_\u001b[49m\u001b[43m,\u001b[49m\n\u001b[1;32m    270\u001b[0m \u001b[43m    \u001b[49m\u001b[43mretain_graph\u001b[49m\u001b[43m,\u001b[49m\n\u001b[1;32m    271\u001b[0m \u001b[43m    \u001b[49m\u001b[43mcreate_graph\u001b[49m\u001b[43m,\u001b[49m\n\u001b[1;32m    272\u001b[0m \u001b[43m    \u001b[49m\u001b[43minputs\u001b[49m\u001b[43m,\u001b[49m\n\u001b[1;32m    273\u001b[0m \u001b[43m    \u001b[49m\u001b[43mallow_unreachable\u001b[49m\u001b[38;5;241;43m=\u001b[39;49m\u001b[38;5;28;43;01mTrue\u001b[39;49;00m\u001b[43m,\u001b[49m\n\u001b[1;32m    274\u001b[0m \u001b[43m    \u001b[49m\u001b[43maccumulate_grad\u001b[49m\u001b[38;5;241;43m=\u001b[39;49m\u001b[38;5;28;43;01mTrue\u001b[39;49;00m\u001b[43m,\u001b[49m\n\u001b[1;32m    275\u001b[0m \u001b[43m\u001b[49m\u001b[43m)\u001b[49m\n",
      "File \u001b[0;32m~/.pyenv/versions/3.11.8/envs/kgl11/lib/python3.11/site-packages/torch/autograd/graph.py:744\u001b[0m, in \u001b[0;36m_engine_run_backward\u001b[0;34m(t_outputs, *args, **kwargs)\u001b[0m\n\u001b[1;32m    742\u001b[0m     unregister_hooks \u001b[38;5;241m=\u001b[39m _register_logging_hooks_on_whole_graph(t_outputs)\n\u001b[1;32m    743\u001b[0m \u001b[38;5;28;01mtry\u001b[39;00m:\n\u001b[0;32m--> 744\u001b[0m     \u001b[38;5;28;01mreturn\u001b[39;00m \u001b[43mVariable\u001b[49m\u001b[38;5;241;43m.\u001b[39;49m\u001b[43m_execution_engine\u001b[49m\u001b[38;5;241;43m.\u001b[39;49m\u001b[43mrun_backward\u001b[49m\u001b[43m(\u001b[49m\u001b[43m  \u001b[49m\u001b[38;5;66;43;03m# Calls into the C++ engine to run the backward pass\u001b[39;49;00m\n\u001b[1;32m    745\u001b[0m \u001b[43m        \u001b[49m\u001b[43mt_outputs\u001b[49m\u001b[43m,\u001b[49m\u001b[43m \u001b[49m\u001b[38;5;241;43m*\u001b[39;49m\u001b[43margs\u001b[49m\u001b[43m,\u001b[49m\u001b[43m \u001b[49m\u001b[38;5;241;43m*\u001b[39;49m\u001b[38;5;241;43m*\u001b[39;49m\u001b[43mkwargs\u001b[49m\n\u001b[1;32m    746\u001b[0m \u001b[43m    \u001b[49m\u001b[43m)\u001b[49m  \u001b[38;5;66;03m# Calls into the C++ engine to run the backward pass\u001b[39;00m\n\u001b[1;32m    747\u001b[0m \u001b[38;5;28;01mfinally\u001b[39;00m:\n\u001b[1;32m    748\u001b[0m     \u001b[38;5;28;01mif\u001b[39;00m attach_logging_hooks:\n",
      "\u001b[0;31mKeyboardInterrupt\u001b[0m: "
     ]
    }
   ],
   "source": [
    "trainer.train(resume_from_checkpoint=trainer.state.best_model_checkpoint)"
   ]
  },
  {
   "cell_type": "markdown",
   "metadata": {},
   "source": [
    "# Evaluate"
   ]
  },
  {
   "cell_type": "code",
   "execution_count": null,
   "metadata": {},
   "outputs": [],
   "source": [
    "trainer.state.best_metric"
   ]
  },
  {
   "cell_type": "code",
   "execution_count": null,
   "metadata": {},
   "outputs": [],
   "source": [
    "# After training, access the path of the best checkpoint like this\n",
    "best_ckpt_path = trainer.state.best_model_checkpoint\n",
    "best_ckpt_path"
   ]
  },
  {
   "cell_type": "code",
   "execution_count": null,
   "metadata": {},
   "outputs": [],
   "source": [
    "trainer._load_best_model()"
   ]
  },
  {
   "cell_type": "markdown",
   "metadata": {},
   "source": [
    "## Global evaluation train vs validation"
   ]
  },
  {
   "cell_type": "code",
   "execution_count": null,
   "metadata": {},
   "outputs": [],
   "source": [
    "# trainer.evaluate(tokenized_datasets[\"train\"])"
   ]
  },
  {
   "cell_type": "code",
   "execution_count": null,
   "metadata": {},
   "outputs": [],
   "source": [
    "# trainer.evaluate(tokenized_datasets[\"validation\"])"
   ]
  },
  {
   "cell_type": "markdown",
   "metadata": {},
   "source": [
    "## Get the labels"
   ]
  },
  {
   "cell_type": "code",
   "execution_count": null,
   "metadata": {},
   "outputs": [],
   "source": [
    "tokenized_datasets[\"train\"]"
   ]
  },
  {
   "cell_type": "code",
   "execution_count": null,
   "metadata": {},
   "outputs": [],
   "source": [
    "train_pred_output = trainer.predict(tokenized_datasets[\"train\"].select_columns(['labels', 'input_ids', 'attention_mask']), metric_key_prefix=\"train\")"
   ]
  },
  {
   "cell_type": "code",
   "execution_count": null,
   "metadata": {},
   "outputs": [],
   "source": [
    "train_y_pred = compute_labels_from_logits(train_pred_output.predictions)\n",
    "train_y_pred"
   ]
  },
  {
   "cell_type": "code",
   "execution_count": null,
   "metadata": {},
   "outputs": [],
   "source": [
    "val_pred_output = trainer.predict(tokenized_datasets[\"validation\"].select_columns(['labels', 'input_ids', 'attention_mask']), metric_key_prefix=\"validation\")"
   ]
  },
  {
   "cell_type": "code",
   "execution_count": null,
   "metadata": {},
   "outputs": [],
   "source": [
    "val_y_pred =compute_labels_from_logits(val_pred_output.predictions)\n",
    "val_y_pred"
   ]
  },
  {
   "cell_type": "markdown",
   "metadata": {},
   "source": [
    "## Global metrics"
   ]
  },
  {
   "cell_type": "code",
   "execution_count": null,
   "metadata": {},
   "outputs": [],
   "source": [
    "train_pred_output.metrics"
   ]
  },
  {
   "cell_type": "code",
   "execution_count": null,
   "metadata": {},
   "outputs": [],
   "source": [
    "val_pred_output.metrics"
   ]
  },
  {
   "cell_type": "markdown",
   "metadata": {},
   "source": [
    "## Classification report"
   ]
  },
  {
   "cell_type": "code",
   "execution_count": null,
   "metadata": {},
   "outputs": [],
   "source": [
    "print(classification_report(y_true=train_pred_output.label_ids, y_pred=train_y_pred, target_names=STEP2_TASK_TARGET_COLS))"
   ]
  },
  {
   "cell_type": "code",
   "execution_count": null,
   "metadata": {},
   "outputs": [],
   "source": [
    "print(classification_report(y_true=val_pred_output.label_ids, y_pred=val_y_pred, target_names=STEP2_TASK_TARGET_COLS))"
   ]
  },
  {
   "cell_type": "markdown",
   "metadata": {},
   "source": [
    "## Confusion matrix"
   ]
  },
  {
   "cell_type": "code",
   "execution_count": null,
   "metadata": {},
   "outputs": [],
   "source": [
    "val_pred_output"
   ]
  },
  {
   "cell_type": "code",
   "execution_count": null,
   "metadata": {},
   "outputs": [],
   "source": [
    "cm, normal_cm = mlcm.cm(label_true=train_pred_output.label_ids, label_pred=train_y_pred)\n",
    "disp = ConfusionMatrixDisplay(confusion_matrix=cm, display_labels=STEP2_TASK_TARGET_COLS+[\"#NO-RELATION\"])\n",
    "fig, ax = plt.subplots(figsize=(15,15))\n",
    "disp.plot(ax=ax, xticks_rotation = 'vertical')\n",
    "plt.show()"
   ]
  },
  {
   "cell_type": "code",
   "execution_count": null,
   "metadata": {},
   "outputs": [],
   "source": [
    "cm, normal_cm = mlcm.cm(label_true=val_pred_output.label_ids, label_pred=val_y_pred)\n",
    "disp = ConfusionMatrixDisplay(confusion_matrix=cm, display_labels=STEP2_TASK_TARGET_COLS+[\"#NO-RELATION\"])\n",
    "fig, ax = plt.subplots(figsize=(15,15))\n",
    "disp.plot(ax=ax, xticks_rotation = 'vertical')\n",
    "plt.show()"
   ]
  },
  {
   "cell_type": "markdown",
   "metadata": {},
   "source": [
    "## Error analysis"
   ]
  },
  {
   "cell_type": "code",
   "execution_count": null,
   "metadata": {},
   "outputs": [],
   "source": [
    "from transformers import pipeline\n",
    "\n",
    "classifier = pipeline(\"text-classification\", model=best_ckpt_path, device=\"cuda\")"
   ]
  },
  {
   "cell_type": "code",
   "execution_count": null,
   "metadata": {},
   "outputs": [],
   "source": [
    "tokenized_datasets[\"validation\"].take(10)"
   ]
  },
  {
   "cell_type": "code",
   "execution_count": null,
   "metadata": {},
   "outputs": [],
   "source": [
    "trainer.predict(tokenized_datasets[\"validation\"].take(10))"
   ]
  }
 ],
 "metadata": {
  "kernelspec": {
   "display_name": "kgl11",
   "language": "python",
   "name": "python3"
  },
  "language_info": {
   "codemirror_mode": {
    "name": "ipython",
    "version": 3
   },
   "file_extension": ".py",
   "mimetype": "text/x-python",
   "name": "python",
   "nbconvert_exporter": "python",
   "pygments_lexer": "ipython3",
   "version": "3.11.8"
  }
 },
 "nbformat": 4,
 "nbformat_minor": 2
}
