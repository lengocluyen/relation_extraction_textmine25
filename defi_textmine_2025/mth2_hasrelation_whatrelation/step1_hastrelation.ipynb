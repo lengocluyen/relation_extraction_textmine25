{
 "cells": [
  {
   "cell_type": "markdown",
   "metadata": {},
   "source": [
    "## Imports & constants"
   ]
  },
  {
   "cell_type": "code",
   "execution_count": 96,
   "metadata": {},
   "outputs": [],
   "source": [
    "import os\n",
    "from typing import List\n",
    "import json\n",
    "import glob\n",
    "import pandas as pd\n",
    "import numpy as np\n",
    "import matplotlib.pyplot as plt\n",
    "import shutil\n",
    "import sys\n",
    "import logging \n",
    "\n",
    "logging.basicConfig(\n",
    "     level=logging.INFO, \n",
    "     format= '[%(asctime)s|%(levelname)s|%(module)s.py:%(lineno)s] %(message)s',\n",
    "     datefmt='%H:%M:%S'\n",
    " )\n",
    "import tqdm.notebook as tq\n",
    "from tqdm import tqdm\n",
    "# Create new `pandas` methods which use `tqdm` progress\n",
    "# (can use tqdm_gui, optional kwargs, etc.)\n",
    "tqdm.pandas()\n",
    "\n",
    "from sklearn.metrics import precision_score, recall_score\n",
    "from sklearn.metrics import accuracy_score, confusion_matrix, classification_report, f1_score, precision_score, recall_score, ConfusionMatrixDisplay\n",
    "from sklearn.model_selection import train_test_split\n",
    "\n",
    "import torch\n",
    "from torch import nn\n",
    "from datasets import Dataset, DatasetDict\n",
    "from transformers import (\n",
    "    AutoTokenizer, AutoModelForSequenceClassification, DataCollatorWithPadding, \n",
    "    TrainingArguments, Trainer, EarlyStoppingCallback, IntervalStrategy\n",
    ")\n",
    "\n",
    "from defi_textmine_2025.data.utils import TARGET_COL, INTERIM_DIR, MODELS_DIR"
   ]
  },
  {
   "cell_type": "code",
   "execution_count": 2,
   "metadata": {},
   "outputs": [
    {
     "data": {
      "text/plain": [
       "device(type='cuda')"
      ]
     },
     "execution_count": 2,
     "metadata": {},
     "output_type": "execute_result"
    }
   ],
   "source": [
    "RANDOM_SEED = 123  # random reproducibility\n",
    "np.random.seed(RANDOM_SEED)\n",
    "# BASE_CHECKPOINT = \"bert-base-uncased\"\n",
    "# BASE_CHECKPOINT = \"bert-base-multilingual-cased\"\n",
    "BASE_CHECKPOINT = \"camembert/camembert-base\"\n",
    "TASK_NAME = \"hasrelation\"\n",
    "TASK_TARGET_COL = \"label\" # hasrelation?\n",
    "TASK_INPUT_COL = \"input_text\"\n",
    "\n",
    "entity_classes = {'TERRORIST_OR_CRIMINAL', 'LASTNAME', 'LENGTH', 'NATURAL_CAUSES_DEATH', 'COLOR', 'STRIKE', 'DRUG_OPERATION', 'HEIGHT', 'INTERGOVERNMENTAL_ORGANISATION', 'TRAFFICKING', 'NON_MILITARY_GOVERNMENT_ORGANISATION', 'TIME_MIN', 'DEMONSTRATION', 'TIME_EXACT', 'FIRE', 'QUANTITY_MIN', 'MATERIEL', 'GATHERING', 'PLACE', 'CRIMINAL_ARREST', 'CBRN_EVENT', 'ECONOMICAL_CRISIS', 'ACCIDENT', 'LONGITUDE', 'BOMBING', 'MATERIAL_REFERENCE', 'WIDTH', 'FIRSTNAME', 'MILITARY_ORGANISATION', 'CIVILIAN', 'QUANTITY_MAX', 'CATEGORY', 'POLITICAL_VIOLENCE', 'EPIDEMIC', 'TIME_MAX', 'TIME_FUZZY', 'NATURAL_EVENT', 'SUICIDE', 'CIVIL_WAR_OUTBREAK', 'POLLUTION', 'ILLEGAL_CIVIL_DEMONSTRATION', 'NATIONALITY', 'GROUP_OF_INDIVIDUALS', 'QUANTITY_FUZZY', 'RIOT', 'WEIGHT', 'THEFT', 'MILITARY', 'NON_GOVERNMENTAL_ORGANISATION', 'LATITUDE', 'COUP_D_ETAT', 'ELECTION', 'HOOLIGANISM_TROUBLEMAKING', 'QUANTITY_EXACT', 'AGITATING_TROUBLE_MAKING'}\n",
    "\n",
    "generated_data_dir_path = os.path.join(INTERIM_DIR, \"reduced_text_w_entity_bracket\")\n",
    "assert os.path.exists(generated_data_dir_path)\n",
    "train_dir = os.path.join(generated_data_dir_path, \"train\")\n",
    "test_dir = os.path.join(generated_data_dir_path, \"test\")\n",
    "\n",
    "preprocessed_data_dir = os.path.join(INTERIM_DIR, \"one_hot_reduced_text_w_entity_bracket\")\n",
    "labeled_preprocessed_data_dir_path = os.path.join(preprocessed_data_dir,\"train\")\n",
    "! mkdir -p {labeled_preprocessed_data_dir_path}\n",
    "\n",
    "device = torch.device('cuda') if torch.cuda.is_available() else torch.device('cpu')\n",
    "device"
   ]
  },
  {
   "cell_type": "code",
   "execution_count": 3,
   "metadata": {},
   "outputs": [],
   "source": [
    "def get_cat_var_distribution(cat_var: pd.Series) -> pd.DataFrame:\n",
    "    return pd.concat(\n",
    "        [cat_var.value_counts(), cat_var.value_counts(normalize=True)], axis=1\n",
    "    )"
   ]
  },
  {
   "cell_type": "markdown",
   "metadata": {},
   "source": [
    "## Prepare the datasets for the binary text classification"
   ]
  },
  {
   "cell_type": "markdown",
   "metadata": {},
   "source": [
    "### Load and process the target"
   ]
  },
  {
   "cell_type": "code",
   "execution_count": 4,
   "metadata": {},
   "outputs": [
    {
     "data": {
      "text/html": [
       "<div>\n",
       "<style scoped>\n",
       "    .dataframe tbody tr th:only-of-type {\n",
       "        vertical-align: middle;\n",
       "    }\n",
       "\n",
       "    .dataframe tbody tr th {\n",
       "        vertical-align: top;\n",
       "    }\n",
       "\n",
       "    .dataframe thead th {\n",
       "        text-align: right;\n",
       "    }\n",
       "</style>\n",
       "<table border=\"1\" class=\"dataframe\">\n",
       "  <thead>\n",
       "    <tr style=\"text-align: right;\">\n",
       "      <th></th>\n",
       "      <th>text_index</th>\n",
       "      <th>e1_id</th>\n",
       "      <th>e2_id</th>\n",
       "      <th>e1_type</th>\n",
       "      <th>e2_type</th>\n",
       "      <th>text</th>\n",
       "      <th>relations</th>\n",
       "      <th>reduced_text</th>\n",
       "      <th>input_text</th>\n",
       "      <th>label</th>\n",
       "    </tr>\n",
       "  </thead>\n",
       "  <tbody>\n",
       "    <tr>\n",
       "      <th>0</th>\n",
       "      <td>2576</td>\n",
       "      <td>1</td>\n",
       "      <td>0</td>\n",
       "      <td>FIRE</td>\n",
       "      <td>GATHERING</td>\n",
       "      <td>Le matin du 10 janvier 2010, Arthur et Jacques...</td>\n",
       "      <td>NaN</td>\n",
       "      <td>Au milieu de l’[ interview ], un { incendie } ...</td>\n",
       "      <td>Au milieu de l’[ interview ], un { incendie } ...</td>\n",
       "      <td>0</td>\n",
       "    </tr>\n",
       "    <tr>\n",
       "      <th>1</th>\n",
       "      <td>2576</td>\n",
       "      <td>0</td>\n",
       "      <td>1</td>\n",
       "      <td>GATHERING</td>\n",
       "      <td>FIRE</td>\n",
       "      <td>Le matin du 10 janvier 2010, Arthur et Jacques...</td>\n",
       "      <td>['HAS_CONSEQUENCE']</td>\n",
       "      <td>Au milieu de l’{ interview }, un [ incendie ] ...</td>\n",
       "      <td>Au milieu de l’{ interview }, un [ incendie ] ...</td>\n",
       "      <td>1</td>\n",
       "    </tr>\n",
       "    <tr>\n",
       "      <th>2</th>\n",
       "      <td>2576</td>\n",
       "      <td>2</td>\n",
       "      <td>0</td>\n",
       "      <td>CBRN_EVENT</td>\n",
       "      <td>GATHERING</td>\n",
       "      <td>Le matin du 10 janvier 2010, Arthur et Jacques...</td>\n",
       "      <td>NaN</td>\n",
       "      <td>Au milieu de l’[ interview ], un incendie est ...</td>\n",
       "      <td>Au milieu de l’[ interview ], un incendie est ...</td>\n",
       "      <td>0</td>\n",
       "    </tr>\n",
       "    <tr>\n",
       "      <th>3</th>\n",
       "      <td>2576</td>\n",
       "      <td>0</td>\n",
       "      <td>2</td>\n",
       "      <td>GATHERING</td>\n",
       "      <td>CBRN_EVENT</td>\n",
       "      <td>Le matin du 10 janvier 2010, Arthur et Jacques...</td>\n",
       "      <td>['HAS_CONSEQUENCE']</td>\n",
       "      <td>Au milieu de l’{ interview }, un incendie est ...</td>\n",
       "      <td>Au milieu de l’{ interview }, un incendie est ...</td>\n",
       "      <td>1</td>\n",
       "    </tr>\n",
       "    <tr>\n",
       "      <th>4</th>\n",
       "      <td>2576</td>\n",
       "      <td>2</td>\n",
       "      <td>1</td>\n",
       "      <td>CBRN_EVENT</td>\n",
       "      <td>FIRE</td>\n",
       "      <td>Le matin du 10 janvier 2010, Arthur et Jacques...</td>\n",
       "      <td>['HAS_CONSEQUENCE']</td>\n",
       "      <td>Au milieu de l’interview, un [ incendie ] est ...</td>\n",
       "      <td>Au milieu de l’interview, un [ incendie ] est ...</td>\n",
       "      <td>1</td>\n",
       "    </tr>\n",
       "    <tr>\n",
       "      <th>...</th>\n",
       "      <td>...</td>\n",
       "      <td>...</td>\n",
       "      <td>...</td>\n",
       "      <td>...</td>\n",
       "      <td>...</td>\n",
       "      <td>...</td>\n",
       "      <td>...</td>\n",
       "      <td>...</td>\n",
       "      <td>...</td>\n",
       "      <td>...</td>\n",
       "    </tr>\n",
       "    <tr>\n",
       "      <th>122039</th>\n",
       "      <td>41884</td>\n",
       "      <td>11</td>\n",
       "      <td>22</td>\n",
       "      <td>MATERIEL</td>\n",
       "      <td>COLOR</td>\n",
       "      <td>Le 14 janvier 2014, en pleine Sibérie, dans un...</td>\n",
       "      <td>NaN</td>\n",
       "      <td>Au moment de sortir de la porte du magasin, Mo...</td>\n",
       "      <td>Au moment de sortir de la porte du magasin, Mo...</td>\n",
       "      <td>0</td>\n",
       "    </tr>\n",
       "    <tr>\n",
       "      <th>122040</th>\n",
       "      <td>41884</td>\n",
       "      <td>12</td>\n",
       "      <td>22</td>\n",
       "      <td>MATERIEL</td>\n",
       "      <td>COLOR</td>\n",
       "      <td>Le 14 janvier 2014, en pleine Sibérie, dans un...</td>\n",
       "      <td>NaN</td>\n",
       "      <td>Au moment de sortir de la { porte } du magasin...</td>\n",
       "      <td>Au moment de sortir de la { porte } du magasin...</td>\n",
       "      <td>0</td>\n",
       "    </tr>\n",
       "    <tr>\n",
       "      <th>122041</th>\n",
       "      <td>41884</td>\n",
       "      <td>15</td>\n",
       "      <td>22</td>\n",
       "      <td>MATERIEL</td>\n",
       "      <td>COLOR</td>\n",
       "      <td>Le 14 janvier 2014, en pleine Sibérie, dans un...</td>\n",
       "      <td>NaN</td>\n",
       "      <td>Depuis la { fenêtre } des toilettes, monsieur ...</td>\n",
       "      <td>Depuis la { fenêtre } des toilettes, monsieur ...</td>\n",
       "      <td>0</td>\n",
       "    </tr>\n",
       "    <tr>\n",
       "      <th>122042</th>\n",
       "      <td>41884</td>\n",
       "      <td>17</td>\n",
       "      <td>22</td>\n",
       "      <td>MATERIEL</td>\n",
       "      <td>COLOR</td>\n",
       "      <td>Le 14 janvier 2014, en pleine Sibérie, dans un...</td>\n",
       "      <td>['HAS_COLOR']</td>\n",
       "      <td>Depuis la fenêtre des toilettes, monsieur Bace...</td>\n",
       "      <td>Depuis la fenêtre des toilettes, monsieur Bace...</td>\n",
       "      <td>1</td>\n",
       "    </tr>\n",
       "    <tr>\n",
       "      <th>122043</th>\n",
       "      <td>41884</td>\n",
       "      <td>19</td>\n",
       "      <td>22</td>\n",
       "      <td>MATERIEL</td>\n",
       "      <td>COLOR</td>\n",
       "      <td>Le 14 janvier 2014, en pleine Sibérie, dans un...</td>\n",
       "      <td>NaN</td>\n",
       "      <td>Au moment de sortir de la porte du magasin, Mo...</td>\n",
       "      <td>Au moment de sortir de la porte du magasin, Mo...</td>\n",
       "      <td>0</td>\n",
       "    </tr>\n",
       "  </tbody>\n",
       "</table>\n",
       "<p>122044 rows × 10 columns</p>\n",
       "</div>"
      ],
      "text/plain": [
       "        text_index  e1_id  e2_id     e1_type     e2_type  \\\n",
       "0             2576      1      0        FIRE   GATHERING   \n",
       "1             2576      0      1   GATHERING        FIRE   \n",
       "2             2576      2      0  CBRN_EVENT   GATHERING   \n",
       "3             2576      0      2   GATHERING  CBRN_EVENT   \n",
       "4             2576      2      1  CBRN_EVENT        FIRE   \n",
       "...            ...    ...    ...         ...         ...   \n",
       "122039       41884     11     22    MATERIEL       COLOR   \n",
       "122040       41884     12     22    MATERIEL       COLOR   \n",
       "122041       41884     15     22    MATERIEL       COLOR   \n",
       "122042       41884     17     22    MATERIEL       COLOR   \n",
       "122043       41884     19     22    MATERIEL       COLOR   \n",
       "\n",
       "                                                     text  \\\n",
       "0       Le matin du 10 janvier 2010, Arthur et Jacques...   \n",
       "1       Le matin du 10 janvier 2010, Arthur et Jacques...   \n",
       "2       Le matin du 10 janvier 2010, Arthur et Jacques...   \n",
       "3       Le matin du 10 janvier 2010, Arthur et Jacques...   \n",
       "4       Le matin du 10 janvier 2010, Arthur et Jacques...   \n",
       "...                                                   ...   \n",
       "122039  Le 14 janvier 2014, en pleine Sibérie, dans un...   \n",
       "122040  Le 14 janvier 2014, en pleine Sibérie, dans un...   \n",
       "122041  Le 14 janvier 2014, en pleine Sibérie, dans un...   \n",
       "122042  Le 14 janvier 2014, en pleine Sibérie, dans un...   \n",
       "122043  Le 14 janvier 2014, en pleine Sibérie, dans un...   \n",
       "\n",
       "                  relations  \\\n",
       "0                       NaN   \n",
       "1       ['HAS_CONSEQUENCE']   \n",
       "2                       NaN   \n",
       "3       ['HAS_CONSEQUENCE']   \n",
       "4       ['HAS_CONSEQUENCE']   \n",
       "...                     ...   \n",
       "122039                  NaN   \n",
       "122040                  NaN   \n",
       "122041                  NaN   \n",
       "122042        ['HAS_COLOR']   \n",
       "122043                  NaN   \n",
       "\n",
       "                                             reduced_text  \\\n",
       "0       Au milieu de l’[ interview ], un { incendie } ...   \n",
       "1       Au milieu de l’{ interview }, un [ incendie ] ...   \n",
       "2       Au milieu de l’[ interview ], un incendie est ...   \n",
       "3       Au milieu de l’{ interview }, un incendie est ...   \n",
       "4       Au milieu de l’interview, un [ incendie ] est ...   \n",
       "...                                                   ...   \n",
       "122039  Au moment de sortir de la porte du magasin, Mo...   \n",
       "122040  Au moment de sortir de la { porte } du magasin...   \n",
       "122041  Depuis la { fenêtre } des toilettes, monsieur ...   \n",
       "122042  Depuis la fenêtre des toilettes, monsieur Bace...   \n",
       "122043  Au moment de sortir de la porte du magasin, Mo...   \n",
       "\n",
       "                                               input_text  label  \n",
       "0       Au milieu de l’[ interview ], un { incendie } ...      0  \n",
       "1       Au milieu de l’{ interview }, un [ incendie ] ...      1  \n",
       "2       Au milieu de l’[ interview ], un incendie est ...      0  \n",
       "3       Au milieu de l’{ interview }, un incendie est ...      1  \n",
       "4       Au milieu de l’interview, un [ incendie ] est ...      1  \n",
       "...                                                   ...    ...  \n",
       "122039  Au moment de sortir de la porte du magasin, Mo...      0  \n",
       "122040  Au moment de sortir de la { porte } du magasin...      0  \n",
       "122041  Depuis la { fenêtre } des toilettes, monsieur ...      0  \n",
       "122042  Depuis la fenêtre des toilettes, monsieur Bace...      1  \n",
       "122043  Au moment de sortir de la porte du magasin, Mo...      0  \n",
       "\n",
       "[122044 rows x 10 columns]"
      ]
     },
     "execution_count": 4,
     "metadata": {},
     "output_type": "execute_result"
    }
   ],
   "source": [
    "def load_csv(dir_or_file_path: str, index_col=None, sep=',') -> pd.DataFrame:\n",
    "    if os.path.isdir(dir_or_file_path):\n",
    "        all_files = glob.glob(os.path.join(dir_or_file_path , \"*.csv\"))  \n",
    "    else:\n",
    "        assert dir_or_file_path.endswith(\".csv\")\n",
    "        all_files = [dir_or_file_path]\n",
    "    assert len(all_files) > 0\n",
    "    return pd.concat([pd.read_csv(filename, index_col=index_col, header=0, sep=sep) for filename in all_files], axis=0, ignore_index=True)\n",
    "\n",
    "train_df = load_csv(train_dir, index_col=0).assign(**{\n",
    "        # TASK_INPUT_COL: lambda df: df[[\"e1_type\", \"e2_type\", \"reduced_text\"]].apply(lambda row: ' | '.join(row.values.astype(str)), axis=1),\n",
    "        TASK_INPUT_COL: lambda df: df[\"reduced_text\"],\n",
    "        TASK_TARGET_COL: lambda df: 2 + ~pd.isnull(df.relations).astype(int),\n",
    "    },\n",
    ")\n",
    "train_df"
   ]
  },
  {
   "cell_type": "code",
   "execution_count": 5,
   "metadata": {},
   "outputs": [],
   "source": [
    "train_df.to_parquet(os.path.join(INTERIM_DIR, \"train-entities+reduced_text.parquet\"), index=False)"
   ]
  },
  {
   "cell_type": "code",
   "execution_count": 6,
   "metadata": {},
   "outputs": [
    {
     "data": {
      "text/html": [
       "<div>\n",
       "<style scoped>\n",
       "    .dataframe tbody tr th:only-of-type {\n",
       "        vertical-align: middle;\n",
       "    }\n",
       "\n",
       "    .dataframe tbody tr th {\n",
       "        vertical-align: top;\n",
       "    }\n",
       "\n",
       "    .dataframe thead th {\n",
       "        text-align: right;\n",
       "    }\n",
       "</style>\n",
       "<table border=\"1\" class=\"dataframe\">\n",
       "  <thead>\n",
       "    <tr style=\"text-align: right;\">\n",
       "      <th></th>\n",
       "      <th>count</th>\n",
       "      <th>proportion</th>\n",
       "    </tr>\n",
       "    <tr>\n",
       "      <th>label</th>\n",
       "      <th></th>\n",
       "      <th></th>\n",
       "    </tr>\n",
       "  </thead>\n",
       "  <tbody>\n",
       "    <tr>\n",
       "      <th>0</th>\n",
       "      <td>95650</td>\n",
       "      <td>0.783734</td>\n",
       "    </tr>\n",
       "    <tr>\n",
       "      <th>1</th>\n",
       "      <td>26394</td>\n",
       "      <td>0.216266</td>\n",
       "    </tr>\n",
       "  </tbody>\n",
       "</table>\n",
       "</div>"
      ],
      "text/plain": [
       "       count  proportion\n",
       "label                   \n",
       "0      95650    0.783734\n",
       "1      26394    0.216266"
      ]
     },
     "execution_count": 6,
     "metadata": {},
     "output_type": "execute_result"
    }
   ],
   "source": [
    "get_cat_var_distribution(train_df[TASK_TARGET_COL])"
   ]
  },
  {
   "cell_type": "markdown",
   "metadata": {},
   "source": [
    "### train-validation split"
   ]
  },
  {
   "cell_type": "code",
   "execution_count": 7,
   "metadata": {},
   "outputs": [
    {
     "data": {
      "text/plain": [
       "((97635, 10), (24409, 10))"
      ]
     },
     "execution_count": 7,
     "metadata": {},
     "output_type": "execute_result"
    }
   ],
   "source": [
    "VALIDATION_RATE = 0.2\n",
    "train_df, val_df = train_test_split(train_df, test_size=VALIDATION_RATE, shuffle=True, random_state=RANDOM_SEED, stratify=train_df[TASK_TARGET_COL])\n",
    "train_df.shape, val_df.shape"
   ]
  },
  {
   "cell_type": "code",
   "execution_count": 8,
   "metadata": {},
   "outputs": [
    {
     "data": {
      "text/html": [
       "<div>\n",
       "<style scoped>\n",
       "    .dataframe tbody tr th:only-of-type {\n",
       "        vertical-align: middle;\n",
       "    }\n",
       "\n",
       "    .dataframe tbody tr th {\n",
       "        vertical-align: top;\n",
       "    }\n",
       "\n",
       "    .dataframe thead th {\n",
       "        text-align: right;\n",
       "    }\n",
       "</style>\n",
       "<table border=\"1\" class=\"dataframe\">\n",
       "  <thead>\n",
       "    <tr style=\"text-align: right;\">\n",
       "      <th></th>\n",
       "      <th>count</th>\n",
       "      <th>proportion</th>\n",
       "    </tr>\n",
       "    <tr>\n",
       "      <th>label</th>\n",
       "      <th></th>\n",
       "      <th></th>\n",
       "    </tr>\n",
       "  </thead>\n",
       "  <tbody>\n",
       "    <tr>\n",
       "      <th>0</th>\n",
       "      <td>76520</td>\n",
       "      <td>0.783735</td>\n",
       "    </tr>\n",
       "    <tr>\n",
       "      <th>1</th>\n",
       "      <td>21115</td>\n",
       "      <td>0.216265</td>\n",
       "    </tr>\n",
       "  </tbody>\n",
       "</table>\n",
       "</div>"
      ],
      "text/plain": [
       "       count  proportion\n",
       "label                   \n",
       "0      76520    0.783735\n",
       "1      21115    0.216265"
      ]
     },
     "execution_count": 8,
     "metadata": {},
     "output_type": "execute_result"
    }
   ],
   "source": [
    "get_cat_var_distribution(train_df[TASK_TARGET_COL])"
   ]
  },
  {
   "cell_type": "code",
   "execution_count": 9,
   "metadata": {},
   "outputs": [
    {
     "data": {
      "text/html": [
       "<div>\n",
       "<style scoped>\n",
       "    .dataframe tbody tr th:only-of-type {\n",
       "        vertical-align: middle;\n",
       "    }\n",
       "\n",
       "    .dataframe tbody tr th {\n",
       "        vertical-align: top;\n",
       "    }\n",
       "\n",
       "    .dataframe thead th {\n",
       "        text-align: right;\n",
       "    }\n",
       "</style>\n",
       "<table border=\"1\" class=\"dataframe\">\n",
       "  <thead>\n",
       "    <tr style=\"text-align: right;\">\n",
       "      <th></th>\n",
       "      <th>count</th>\n",
       "      <th>proportion</th>\n",
       "    </tr>\n",
       "    <tr>\n",
       "      <th>label</th>\n",
       "      <th></th>\n",
       "      <th></th>\n",
       "    </tr>\n",
       "  </thead>\n",
       "  <tbody>\n",
       "    <tr>\n",
       "      <th>0</th>\n",
       "      <td>19130</td>\n",
       "      <td>0.783727</td>\n",
       "    </tr>\n",
       "    <tr>\n",
       "      <th>1</th>\n",
       "      <td>5279</td>\n",
       "      <td>0.216273</td>\n",
       "    </tr>\n",
       "  </tbody>\n",
       "</table>\n",
       "</div>"
      ],
      "text/plain": [
       "       count  proportion\n",
       "label                   \n",
       "0      19130    0.783727\n",
       "1       5279    0.216273"
      ]
     },
     "execution_count": 9,
     "metadata": {},
     "output_type": "execute_result"
    }
   ],
   "source": [
    "get_cat_var_distribution(val_df[TASK_TARGET_COL])"
   ]
  },
  {
   "cell_type": "markdown",
   "metadata": {},
   "source": [
    "### Undersampling the majority class"
   ]
  },
  {
   "cell_type": "code",
   "execution_count": 10,
   "metadata": {},
   "outputs": [
    {
     "data": {
      "text/plain": [
       "(21115, 10)"
      ]
     },
     "execution_count": 10,
     "metadata": {},
     "output_type": "execute_result"
    }
   ],
   "source": [
    "positive_train_df = train_df.query(f\"{TASK_TARGET_COL}==1\")\n",
    "positive_train_df.shape"
   ]
  },
  {
   "cell_type": "code",
   "execution_count": 11,
   "metadata": {},
   "outputs": [
    {
     "data": {
      "text/plain": [
       "(76520, 10)"
      ]
     },
     "execution_count": 11,
     "metadata": {},
     "output_type": "execute_result"
    }
   ],
   "source": [
    "negative_train_df = train_df.query(f\"{TASK_TARGET_COL}==0\")\n",
    "negative_train_df.shape"
   ]
  },
  {
   "cell_type": "code",
   "execution_count": 12,
   "metadata": {},
   "outputs": [],
   "source": [
    "# balance classes\n",
    "# train_df = pd.concat([positive_train_df, negative_train_df.sample(positive_train_df.shape[0])], axis=0)\n",
    "# train_df.shape"
   ]
  },
  {
   "cell_type": "markdown",
   "metadata": {},
   "source": [
    "## Create the tokenized datasets for model input"
   ]
  },
  {
   "cell_type": "markdown",
   "metadata": {},
   "source": [
    "### init the tokenizer"
   ]
  },
  {
   "cell_type": "code",
   "execution_count": 13,
   "metadata": {},
   "outputs": [
    {
     "name": "stderr",
     "output_type": "stream",
     "text": [
      "/home/tagny/.pyenv/versions/3.11.8/envs/kgl11/lib/python3.11/site-packages/transformers/tokenization_utils_base.py:1617: FutureWarning: `clean_up_tokenization_spaces` was not set. It will be set to `True` by default. This behavior will be deprecated in transformers v4.45, and will be then set to `False` by default. For more details check this issue: https://github.com/huggingface/transformers/issues/31884\n",
      "  warnings.warn(\n"
     ]
    },
    {
     "data": {
      "text/plain": [
       "(59, 32062)"
      ]
     },
     "execution_count": 13,
     "metadata": {},
     "output_type": "execute_result"
    }
   ],
   "source": [
    "# Hyperparameters\n",
    "tokenizer = AutoTokenizer.from_pretrained(BASE_CHECKPOINT)\n",
    "task_special_tokens = [\"<\", \">\", \"{\", \"}\"] + [\n",
    "    f\"{entity_class}\" for entity_class in entity_classes\n",
    "]\n",
    "# add special tokens to the tokenizer\n",
    "num_added_tokens = tokenizer.add_tokens(task_special_tokens, special_tokens=True)\n",
    "num_added_tokens, len(tokenizer)"
   ]
  },
  {
   "cell_type": "markdown",
   "metadata": {},
   "source": [
    "### init the train-valid datasets from dataframe"
   ]
  },
  {
   "cell_type": "code",
   "execution_count": 14,
   "metadata": {},
   "outputs": [
    {
     "data": {
      "text/plain": [
       "DatasetDict({\n",
       "    train: Dataset({\n",
       "        features: ['text_index', 'e1_id', 'e2_id', 'e1_type', 'e2_type', 'text', 'relations', 'reduced_text', 'input_text', 'label'],\n",
       "        num_rows: 97635\n",
       "    })\n",
       "    validation: Dataset({\n",
       "        features: ['text_index', 'e1_id', 'e2_id', 'e1_type', 'e2_type', 'text', 'relations', 'reduced_text', 'input_text', 'label'],\n",
       "        num_rows: 24409\n",
       "    })\n",
       "})"
      ]
     },
     "execution_count": 14,
     "metadata": {},
     "output_type": "execute_result"
    }
   ],
   "source": [
    "train_ds = Dataset.from_pandas(train_df, preserve_index=False)\n",
    "val_ds = Dataset.from_pandas(val_df, preserve_index=False)\n",
    "task_datasets = DatasetDict({\"train\": train_ds, \"validation\": val_ds})\n",
    "task_datasets"
   ]
  },
  {
   "cell_type": "code",
   "execution_count": 15,
   "metadata": {},
   "outputs": [
    {
     "data": {
      "text/plain": [
       "{'text_index': 3653,\n",
       " 'e1_id': 10,\n",
       " 'e2_id': 4,\n",
       " 'e1_type': 'GROUP_OF_INDIVIDUALS',\n",
       " 'e2_type': 'PLACE',\n",
       " 'text': \"Le 13 mars 2020, une guerre civile a éclaté opposant les citoyens de l'[ Est ] de Londres à ceux du Sud. Les citoyens de l'[ Est ] étaient contre l'installation des citoyens du Sud sur leur territoire. Ils ont utilisé du carburant pour brûler des pneus de voiture et étaient armés de bâtons. Cette guerre a blessé au total 25 personnes. Les victimes étaient des { civils } et des employés de PINS, une société de sécurité. Monsieur Kina Evans était parmi les victimes, il a pu être identifié grâce à sa carte d'identité nationale et son téléphone.\",\n",
       " 'relations': None,\n",
       " 'reduced_text': \"Le 13 mars 2020, une guerre civile a éclaté opposant les citoyens de l'[ Est ] de Londres à ceux du Sud. Les citoyens de l'[ Est ] étaient contre l'installation des citoyens du Sud sur leur territoire. Les victimes étaient des { civils } et des employés de PINS, une société de sécurité.\",\n",
       " 'input_text': \"Le 13 mars 2020, une guerre civile a éclaté opposant les citoyens de l'[ Est ] de Londres à ceux du Sud. Les citoyens de l'[ Est ] étaient contre l'installation des citoyens du Sud sur leur territoire. Les victimes étaient des { civils } et des employés de PINS, une société de sécurité.\",\n",
       " 'label': 0}"
      ]
     },
     "execution_count": 15,
     "metadata": {},
     "output_type": "execute_result"
    }
   ],
   "source": [
    "task_datasets[\"train\"][0]"
   ]
  },
  {
   "cell_type": "code",
   "execution_count": 16,
   "metadata": {},
   "outputs": [
    {
     "data": {
      "text/plain": [
       "{'text_index': 51462,\n",
       " 'e1_id': 8,\n",
       " 'e2_id': 11,\n",
       " 'e1_type': 'GROUP_OF_INDIVIDUALS',\n",
       " 'e2_type': 'TIME_EXACT',\n",
       " 'text': '[ Ce matin ], au Luxembourg, une jeune femme nommée Defne Li, présidente de \"l’Ordre des Consommateurs Éclairés\", a effectué un communiqué à la télévision. Depuis de nombreuses années, l’association s’est donné pour mission d\\'informer les consommateurs afin de leur assurer une alimentation de qualité. Un récent rapport de l\\'association a montré que plusieurs marques de glaces et de sorbets de la place étaient contaminées par l\\'oxyde d\\'éthyle, un pesticide hautement cancérigène qui représente donc un danger pour la santé. Defne Li a invité les { personnes } ayant acheté ces aliments contaminés à se rendre dans les supermarchés avec les tickets d\\'achat pour se faire rembourser.',\n",
       " 'relations': None,\n",
       " 'reduced_text': '[ Ce matin ], au Luxembourg, une jeune femme nommée Defne Li, présidente de \"l’Ordre des Consommateurs Éclairés\", a effectué un communiqué à la télévision. Defne Li a invité les { personnes } ayant acheté ces aliments contaminés à se rendre dans les supermarchés avec les tickets d\\'achat pour se faire rembourser.',\n",
       " 'input_text': '[ Ce matin ], au Luxembourg, une jeune femme nommée Defne Li, présidente de \"l’Ordre des Consommateurs Éclairés\", a effectué un communiqué à la télévision. Defne Li a invité les { personnes } ayant acheté ces aliments contaminés à se rendre dans les supermarchés avec les tickets d\\'achat pour se faire rembourser.',\n",
       " 'label': 0}"
      ]
     },
     "execution_count": 16,
     "metadata": {},
     "output_type": "execute_result"
    }
   ],
   "source": [
    "task_datasets[\"train\"][1]"
   ]
  },
  {
   "cell_type": "markdown",
   "metadata": {},
   "source": [
    "### Tokenize the datasets"
   ]
  },
  {
   "cell_type": "code",
   "execution_count": 17,
   "metadata": {},
   "outputs": [
    {
     "data": {
      "application/vnd.jupyter.widget-view+json": {
       "model_id": "05b8e1ce913a43c69a1cbc2076444e20",
       "version_major": 2,
       "version_minor": 0
      },
      "text/plain": [
       "Map:   0%|          | 0/97635 [00:00<?, ? examples/s]"
      ]
     },
     "metadata": {},
     "output_type": "display_data"
    },
    {
     "name": "stderr",
     "output_type": "stream",
     "text": [
      "Asking to truncate to max_length but no maximum length is provided and the model has no predefined maximum length. Default to no truncation.\n"
     ]
    },
    {
     "data": {
      "application/vnd.jupyter.widget-view+json": {
       "model_id": "498ba37a57de4fcca78307f6925a3496",
       "version_major": 2,
       "version_minor": 0
      },
      "text/plain": [
       "Map:   0%|          | 0/24409 [00:00<?, ? examples/s]"
      ]
     },
     "metadata": {},
     "output_type": "display_data"
    },
    {
     "data": {
      "text/plain": [
       "DatasetDict({\n",
       "    train: Dataset({\n",
       "        features: ['text_index', 'e1_id', 'e2_id', 'e1_type', 'e2_type', 'text', 'relations', 'reduced_text', 'input_text', 'label', 'input_ids', 'attention_mask'],\n",
       "        num_rows: 97635\n",
       "    })\n",
       "    validation: Dataset({\n",
       "        features: ['text_index', 'e1_id', 'e2_id', 'e1_type', 'e2_type', 'text', 'relations', 'reduced_text', 'input_text', 'label', 'input_ids', 'attention_mask'],\n",
       "        num_rows: 24409\n",
       "    })\n",
       "})"
      ]
     },
     "execution_count": 17,
     "metadata": {},
     "output_type": "execute_result"
    }
   ],
   "source": [
    "def tokenize_function(example: dict):\n",
    "    return tokenizer(example[TASK_INPUT_COL], truncation=True)\n",
    "\n",
    "# We’re using batched=True in our call to map so the function is applied to multiple elements of our dataset at once, and not on each element separately\n",
    "# This is way faster\n",
    "# Source https://huggingface.co/learn/nlp-course/chapter3/2?fw=pt\n",
    "# columns are removed because DataCollatorWithPadding doesn't support any other columns than the ones produced by the tokenizer (or non tensors)\n",
    "tokenized_datasets = task_datasets.map(tokenize_function, batched=True)\n",
    "tokenized_datasets"
   ]
  },
  {
   "cell_type": "code",
   "execution_count": 18,
   "metadata": {},
   "outputs": [],
   "source": [
    "# tokenized_datasets.column_names"
   ]
  },
  {
   "cell_type": "code",
   "execution_count": 19,
   "metadata": {},
   "outputs": [
    {
     "data": {
      "text/plain": [
       "list"
      ]
     },
     "execution_count": 19,
     "metadata": {},
     "output_type": "execute_result"
    }
   ],
   "source": [
    "type(tokenized_datasets[\"train\"][1]['attention_mask'])"
   ]
  },
  {
   "cell_type": "markdown",
   "metadata": {},
   "source": [
    "### Token numbers distribution"
   ]
  },
  {
   "cell_type": "code",
   "execution_count": 20,
   "metadata": {},
   "outputs": [
    {
     "data": {
      "application/vnd.jupyter.widget-view+json": {
       "model_id": "efee09490d2e49edb65860626f1fd0b6",
       "version_major": 2,
       "version_minor": 0
      },
      "text/plain": [
       "Map:   0%|          | 0/97635 [00:00<?, ? examples/s]"
      ]
     },
     "metadata": {},
     "output_type": "display_data"
    },
    {
     "data": {
      "application/vnd.jupyter.widget-view+json": {
       "model_id": "db5a06f6fb0c4144bfce715d4674ffb1",
       "version_major": 2,
       "version_minor": 0
      },
      "text/plain": [
       "Map:   0%|          | 0/24409 [00:00<?, ? examples/s]"
      ]
     },
     "metadata": {},
     "output_type": "display_data"
    },
    {
     "data": {
      "text/plain": [
       "DatasetDict({\n",
       "    train: Dataset({\n",
       "        features: ['text_index', 'e1_id', 'e2_id', 'e1_type', 'e2_type', 'text', 'relations', 'reduced_text', 'input_text', 'label', 'input_ids', 'attention_mask', 'n_tokens'],\n",
       "        num_rows: 97635\n",
       "    })\n",
       "    validation: Dataset({\n",
       "        features: ['text_index', 'e1_id', 'e2_id', 'e1_type', 'e2_type', 'text', 'relations', 'reduced_text', 'input_text', 'label', 'input_ids', 'attention_mask', 'n_tokens'],\n",
       "        num_rows: 24409\n",
       "    })\n",
       "})"
      ]
     },
     "execution_count": 20,
     "metadata": {},
     "output_type": "execute_result"
    }
   ],
   "source": [
    "from typing import Any, Dict\n",
    "\n",
    "def count_tokens(text: str) -> int:\n",
    "    return len(tokenizer(text)[\"input_ids\"])\n",
    "\n",
    "\n",
    "def count_token_in_dataset_element(example: Dict[str, Any]) -> Dict[str, int]:\n",
    "    return {\"n_tokens\": count_tokens(example[TASK_INPUT_COL])}\n",
    "\n",
    "\n",
    "tokenized_datasets = tokenized_datasets.map(count_token_in_dataset_element)\n",
    "tokenized_datasets"
   ]
  },
  {
   "cell_type": "code",
   "execution_count": 21,
   "metadata": {},
   "outputs": [
    {
     "name": "stderr",
     "output_type": "stream",
     "text": [
      "train: 100%|██████████| 97635/97635 [00:08<00:00, 11954.60it/s]\n",
      "validation: 100%|██████████| 24409/24409 [00:02<00:00, 12024.36it/s]\n"
     ]
    },
    {
     "data": {
      "text/html": [
       "<div>\n",
       "<style scoped>\n",
       "    .dataframe tbody tr th:only-of-type {\n",
       "        vertical-align: middle;\n",
       "    }\n",
       "\n",
       "    .dataframe tbody tr th {\n",
       "        vertical-align: top;\n",
       "    }\n",
       "\n",
       "    .dataframe thead th {\n",
       "        text-align: right;\n",
       "    }\n",
       "</style>\n",
       "<table border=\"1\" class=\"dataframe\">\n",
       "  <thead>\n",
       "    <tr style=\"text-align: right;\">\n",
       "      <th></th>\n",
       "      <th>train</th>\n",
       "      <th>validation</th>\n",
       "    </tr>\n",
       "  </thead>\n",
       "  <tbody>\n",
       "    <tr>\n",
       "      <th>count</th>\n",
       "      <td>97635.000000</td>\n",
       "      <td>24409.000000</td>\n",
       "    </tr>\n",
       "    <tr>\n",
       "      <th>mean</th>\n",
       "      <td>63.571701</td>\n",
       "      <td>63.273301</td>\n",
       "    </tr>\n",
       "    <tr>\n",
       "      <th>std</th>\n",
       "      <td>29.375446</td>\n",
       "      <td>29.174495</td>\n",
       "    </tr>\n",
       "    <tr>\n",
       "      <th>min</th>\n",
       "      <td>10.000000</td>\n",
       "      <td>11.000000</td>\n",
       "    </tr>\n",
       "    <tr>\n",
       "      <th>25%</th>\n",
       "      <td>43.000000</td>\n",
       "      <td>42.000000</td>\n",
       "    </tr>\n",
       "    <tr>\n",
       "      <th>50%</th>\n",
       "      <td>58.000000</td>\n",
       "      <td>58.000000</td>\n",
       "    </tr>\n",
       "    <tr>\n",
       "      <th>75%</th>\n",
       "      <td>78.000000</td>\n",
       "      <td>78.000000</td>\n",
       "    </tr>\n",
       "    <tr>\n",
       "      <th>max</th>\n",
       "      <td>299.000000</td>\n",
       "      <td>266.000000</td>\n",
       "    </tr>\n",
       "  </tbody>\n",
       "</table>\n",
       "</div>"
      ],
      "text/plain": [
       "              train    validation\n",
       "count  97635.000000  24409.000000\n",
       "mean      63.571701     63.273301\n",
       "std       29.375446     29.174495\n",
       "min       10.000000     11.000000\n",
       "25%       43.000000     42.000000\n",
       "50%       58.000000     58.000000\n",
       "75%       78.000000     78.000000\n",
       "max      299.000000    266.000000"
      ]
     },
     "execution_count": 21,
     "metadata": {},
     "output_type": "execute_result"
    }
   ],
   "source": [
    "split2ntokens_df = pd.DataFrame(\n",
    "    {\n",
    "        split_name: pd.Series(\n",
    "            [e[\"n_tokens\"] for e in tqdm(tokenized_datasets[split_name], split_name)],\n",
    "            name=f\"{split_name}_text_n_tokens\",\n",
    "        )\n",
    "        for split_name in tokenized_datasets.keys()\n",
    "    }\n",
    ")\n",
    "split2ntokens_df.describe()"
   ]
  },
  {
   "cell_type": "code",
   "execution_count": 22,
   "metadata": {},
   "outputs": [
    {
     "data": {
      "text/plain": [
       "<Axes: >"
      ]
     },
     "execution_count": 22,
     "metadata": {},
     "output_type": "execute_result"
    },
    {
     "data": {
      "image/png": "[encoded data removed]",
      "text/plain": [
       "<Figure size 640x480 with 1 Axes>"
      ]
     },
     "metadata": {},
     "output_type": "display_data"
    }
   ],
   "source": [
    "split2ntokens_df.boxplot()"
   ]
  },
  {
   "cell_type": "code",
   "execution_count": 23,
   "metadata": {},
   "outputs": [
    {
     "data": {
      "application/vnd.jupyter.widget-view+json": {
       "model_id": "9915c7138bf5434cace7e80704ad93e6",
       "version_major": 2,
       "version_minor": 0
      },
      "text/plain": [
       "Filter:   0%|          | 0/97635 [00:00<?, ? examples/s]"
      ]
     },
     "metadata": {},
     "output_type": "display_data"
    },
    {
     "data": {
      "text/plain": [
       "Dataset({\n",
       "    features: ['text_index', 'e1_id', 'e2_id', 'e1_type', 'e2_type', 'text', 'relations', 'reduced_text', 'input_text', 'label', 'input_ids', 'attention_mask', 'n_tokens'],\n",
       "    num_rows: 72\n",
       "})"
      ]
     },
     "execution_count": 23,
     "metadata": {},
     "output_type": "execute_result"
    }
   ],
   "source": [
    "tokenized_datasets[\"train\"].filter(lambda x: x['n_tokens'] > 200)"
   ]
  },
  {
   "cell_type": "code",
   "execution_count": 24,
   "metadata": {},
   "outputs": [
    {
     "data": {
      "application/vnd.jupyter.widget-view+json": {
       "model_id": "fa32967d3e304b199bd78c51714da9ff",
       "version_major": 2,
       "version_minor": 0
      },
      "text/plain": [
       "Filter:   0%|          | 0/97635 [00:00<?, ? examples/s]"
      ]
     },
     "metadata": {},
     "output_type": "display_data"
    },
    {
     "data": {
      "text/plain": [
       "\"De nombreuses < personnes > ont été calcinées au cours de l'incendie.\""
      ]
     },
     "execution_count": 24,
     "metadata": {},
     "output_type": "execute_result"
    }
   ],
   "source": [
    "tokenized_datasets[\"train\"].filter(lambda x: x['n_tokens'] == 19)[0]['input_text']"
   ]
  },
  {
   "cell_type": "code",
   "execution_count": 25,
   "metadata": {},
   "outputs": [],
   "source": [
    "# tokenized_datasets[\"train\"].filter(lambda x: x['n_tokens'] > 300)[0]['input_text']"
   ]
  },
  {
   "cell_type": "markdown",
   "metadata": {},
   "source": [
    "### Test the batch-level padding with a data collator"
   ]
  },
  {
   "cell_type": "code",
   "execution_count": 26,
   "metadata": {},
   "outputs": [
    {
     "data": {
      "text/plain": [
       "[68, 74, 48, 113, 98, 95, 104, 48]"
      ]
     },
     "execution_count": 26,
     "metadata": {},
     "output_type": "execute_result"
    }
   ],
   "source": [
    "samples = tokenized_datasets.remove_columns(task_datasets[\"train\"].column_names)[\"train\"][:8]\n",
    "samples = {k: v for k, v in samples.items()}\n",
    "[len(x) for x in samples[\"input_ids\"]]"
   ]
  },
  {
   "cell_type": "code",
   "execution_count": 27,
   "metadata": {},
   "outputs": [
    {
     "data": {
      "text/plain": [
       "DatasetDict({\n",
       "    train: Dataset({\n",
       "        features: ['text_index', 'e1_id', 'e2_id', 'e1_type', 'e2_type', 'text', 'relations', 'reduced_text', 'input_text', 'label'],\n",
       "        num_rows: 97635\n",
       "    })\n",
       "    validation: Dataset({\n",
       "        features: ['text_index', 'e1_id', 'e2_id', 'e1_type', 'e2_type', 'text', 'relations', 'reduced_text', 'input_text', 'label'],\n",
       "        num_rows: 24409\n",
       "    })\n",
       "})"
      ]
     },
     "execution_count": 27,
     "metadata": {},
     "output_type": "execute_result"
    }
   ],
   "source": [
    "task_datasets"
   ]
  },
  {
   "cell_type": "code",
   "execution_count": 28,
   "metadata": {},
   "outputs": [
    {
     "data": {
      "text/plain": [
       "{'input_ids': torch.Size([8, 113]),\n",
       " 'attention_mask': torch.Size([8, 113]),\n",
       " 'n_tokens': torch.Size([8])}"
      ]
     },
     "execution_count": 28,
     "metadata": {},
     "output_type": "execute_result"
    }
   ],
   "source": [
    "data_collator = DataCollatorWithPadding(tokenizer=tokenizer)\n",
    "\n",
    "batch = data_collator(samples)\n",
    "{k: v.shape for k, v in batch.items()}"
   ]
  },
  {
   "cell_type": "markdown",
   "metadata": {},
   "source": [
    "## Fine-tuning a model with the Trainer API"
   ]
  },
  {
   "cell_type": "markdown",
   "metadata": {},
   "source": [
    "### Compute the weight of classes to handle imbalance"
   ]
  },
  {
   "cell_type": "code",
   "execution_count": 29,
   "metadata": {},
   "outputs": [
    {
     "data": {
      "text/plain": [
       "0    0.637970\n",
       "1    2.311982\n",
       "Name: weight, dtype: float64"
      ]
     },
     "execution_count": 29,
     "metadata": {},
     "output_type": "execute_result"
    }
   ],
   "source": [
    "# Source: https://www.tensorflow.org/tutorials/structured_data/imbalanced_data#calculate_class_weights\n",
    "# Scaling by total/2 helps keep the loss to a similar magnitude.\n",
    "n_examples = train_df.shape[0]\n",
    "n_classes = train_df[TASK_TARGET_COL].nunique()\n",
    "def compute_class_weights(lbl_df: pd.DataFrame) -> pd.Series:\n",
    "    return get_cat_var_distribution(lbl_df[TASK_TARGET_COL]).reset_index(drop=False)[\"count\"].apply(lambda x: (1 / x) * (n_examples / n_classes)).rename(\"weight\")\n",
    "class_weights_df = compute_class_weights(train_df)\n",
    "class_weights_df"
   ]
  },
  {
   "cell_type": "code",
   "execution_count": 30,
   "metadata": {},
   "outputs": [
    {
     "data": {
      "text/plain": [
       "[0.6379704652378463, 2.311982003315179]"
      ]
     },
     "execution_count": 30,
     "metadata": {},
     "output_type": "execute_result"
    }
   ],
   "source": [
    "class_weights = class_weights_df.values.tolist()\n",
    "class_weights"
   ]
  },
  {
   "cell_type": "code",
   "execution_count": 31,
   "metadata": {},
   "outputs": [
    {
     "data": {
      "text/html": [
       "<div>\n",
       "<style scoped>\n",
       "    .dataframe tbody tr th:only-of-type {\n",
       "        vertical-align: middle;\n",
       "    }\n",
       "\n",
       "    .dataframe tbody tr th {\n",
       "        vertical-align: top;\n",
       "    }\n",
       "\n",
       "    .dataframe thead th {\n",
       "        text-align: right;\n",
       "    }\n",
       "</style>\n",
       "<table border=\"1\" class=\"dataframe\">\n",
       "  <thead>\n",
       "    <tr style=\"text-align: right;\">\n",
       "      <th></th>\n",
       "      <th>count</th>\n",
       "      <th>proportion</th>\n",
       "      <th>weight</th>\n",
       "    </tr>\n",
       "  </thead>\n",
       "  <tbody>\n",
       "    <tr>\n",
       "      <th>0</th>\n",
       "      <td>76520</td>\n",
       "      <td>0.783735</td>\n",
       "      <td>0.637970</td>\n",
       "    </tr>\n",
       "    <tr>\n",
       "      <th>1</th>\n",
       "      <td>21115</td>\n",
       "      <td>0.216265</td>\n",
       "      <td>2.311982</td>\n",
       "    </tr>\n",
       "  </tbody>\n",
       "</table>\n",
       "</div>"
      ],
      "text/plain": [
       "   count  proportion    weight\n",
       "0  76520    0.783735  0.637970\n",
       "1  21115    0.216265  2.311982"
      ]
     },
     "execution_count": 31,
     "metadata": {},
     "output_type": "execute_result"
    }
   ],
   "source": [
    "pd.concat([get_cat_var_distribution(train_df[TASK_TARGET_COL]), class_weights_df], axis=1)"
   ]
  },
  {
   "cell_type": "markdown",
   "metadata": {},
   "source": [
    "### Init the model"
   ]
  },
  {
   "cell_type": "code",
   "execution_count": 32,
   "metadata": {},
   "outputs": [
    {
     "name": "stdout",
     "output_type": "stream",
     "text": [
      "n_classes=2\n"
     ]
    },
    {
     "name": "stderr",
     "output_type": "stream",
     "text": [
      "Some weights of CamembertForSequenceClassification were not initialized from the model checkpoint at camembert/camembert-base and are newly initialized: ['classifier.dense.bias', 'classifier.dense.weight', 'classifier.out_proj.bias', 'classifier.out_proj.weight']\n",
      "You should probably TRAIN this model on a down-stream task to be able to use it for predictions and inference.\n"
     ]
    },
    {
     "data": {
      "text/plain": [
       "Embedding(32062, 768, padding_idx=0)"
      ]
     },
     "execution_count": 32,
     "metadata": {},
     "output_type": "execute_result"
    }
   ],
   "source": [
    "n_classes = train_df[TASK_TARGET_COL].nunique()\n",
    "print(f\"{n_classes=}\")\n",
    "model = AutoModelForSequenceClassification.from_pretrained(BASE_CHECKPOINT, num_labels=n_classes)\n",
    "model.resize_token_embeddings(len(tokenizer))"
   ]
  },
  {
   "cell_type": "code",
   "execution_count": 33,
   "metadata": {},
   "outputs": [
    {
     "data": {
      "text/plain": [
       "CamembertForSequenceClassification(\n",
       "  (roberta): CamembertModel(\n",
       "    (embeddings): CamembertEmbeddings(\n",
       "      (word_embeddings): Embedding(32062, 768, padding_idx=0)\n",
       "      (position_embeddings): Embedding(514, 768, padding_idx=0)\n",
       "      (token_type_embeddings): Embedding(1, 768)\n",
       "      (LayerNorm): LayerNorm((768,), eps=1e-05, elementwise_affine=True)\n",
       "      (dropout): Dropout(p=0.1, inplace=False)\n",
       "    )\n",
       "    (encoder): CamembertEncoder(\n",
       "      (layer): ModuleList(\n",
       "        (0-11): 12 x CamembertLayer(\n",
       "          (attention): CamembertAttention(\n",
       "            (self): CamembertSdpaSelfAttention(\n",
       "              (query): Linear(in_features=768, out_features=768, bias=True)\n",
       "              (key): Linear(in_features=768, out_features=768, bias=True)\n",
       "              (value): Linear(in_features=768, out_features=768, bias=True)\n",
       "              (dropout): Dropout(p=0.1, inplace=False)\n",
       "            )\n",
       "            (output): CamembertSelfOutput(\n",
       "              (dense): Linear(in_features=768, out_features=768, bias=True)\n",
       "              (LayerNorm): LayerNorm((768,), eps=1e-05, elementwise_affine=True)\n",
       "              (dropout): Dropout(p=0.1, inplace=False)\n",
       "            )\n",
       "          )\n",
       "          (intermediate): CamembertIntermediate(\n",
       "            (dense): Linear(in_features=768, out_features=3072, bias=True)\n",
       "            (intermediate_act_fn): GELUActivation()\n",
       "          )\n",
       "          (output): CamembertOutput(\n",
       "            (dense): Linear(in_features=3072, out_features=768, bias=True)\n",
       "            (LayerNorm): LayerNorm((768,), eps=1e-05, elementwise_affine=True)\n",
       "            (dropout): Dropout(p=0.1, inplace=False)\n",
       "          )\n",
       "        )\n",
       "      )\n",
       "    )\n",
       "  )\n",
       "  (classifier): CamembertClassificationHead(\n",
       "    (dense): Linear(in_features=768, out_features=768, bias=True)\n",
       "    (dropout): Dropout(p=0.1, inplace=False)\n",
       "    (out_proj): Linear(in_features=768, out_features=2, bias=True)\n",
       "  )\n",
       ")"
      ]
     },
     "execution_count": 33,
     "metadata": {},
     "output_type": "execute_result"
    }
   ],
   "source": [
    "model"
   ]
  },
  {
   "cell_type": "markdown",
   "metadata": {},
   "source": [
    "### Init the trainer and launch the training\n",
    "\n",
    "Source: https://stackoverflow.com/questions/69087044/early-stopping-in-bert-trainer-instances#69087153\n",
    "\n",
    "1. Use `load_best_model_at_end = True` (EarlyStoppingCallback() requires this to be True).\n",
    "2. `evaluation_strategy = 'steps'` or IntervalStrategy.STEPS instead of 'epoch'.\n",
    "3. `eval_steps = 50` (evaluate the metrics after N steps).\n",
    "4. `metric_for_best_model = 'f1'`"
   ]
  },
  {
   "cell_type": "code",
   "execution_count": 34,
   "metadata": {},
   "outputs": [
    {
     "data": {
      "text/html": [
       "\n",
       "    <div>\n",
       "      \n",
       "      <progress value='31000' max='244100' style='width:300px; height:20px; vertical-align: middle;'></progress>\n",
       "      [ 31000/244100 20:54 < 18:34:50, 3.19 it/s, Epoch 6/50]\n",
       "    </div>\n",
       "    <table border=\"1\" class=\"dataframe\">\n",
       "  <thead>\n",
       " <tr style=\"text-align: left;\">\n",
       "      <th>Step</th>\n",
       "      <th>Training Loss</th>\n",
       "      <th>Validation Loss</th>\n",
       "      <th>Accuracy</th>\n",
       "      <th>Precision</th>\n",
       "      <th>Recall</th>\n",
       "      <th>F1</th>\n",
       "    </tr>\n",
       "  </thead>\n",
       "  <tbody>\n",
       "    <tr>\n",
       "      <td>28000</td>\n",
       "      <td>0.212800</td>\n",
       "      <td>0.367097</td>\n",
       "      <td>0.900897</td>\n",
       "      <td>0.844673</td>\n",
       "      <td>0.885890</td>\n",
       "      <td>0.862357</td>\n",
       "    </tr>\n",
       "    <tr>\n",
       "      <td>29000</td>\n",
       "      <td>0.216800</td>\n",
       "      <td>0.337583</td>\n",
       "      <td>0.898275</td>\n",
       "      <td>0.839987</td>\n",
       "      <td>0.891212</td>\n",
       "      <td>0.860937</td>\n",
       "    </tr>\n",
       "    <tr>\n",
       "      <td>30000</td>\n",
       "      <td>0.206600</td>\n",
       "      <td>0.377221</td>\n",
       "      <td>0.905035</td>\n",
       "      <td>0.851995</td>\n",
       "      <td>0.883386</td>\n",
       "      <td>0.866060</td>\n",
       "    </tr>\n",
       "    <tr>\n",
       "      <td>31000</td>\n",
       "      <td>0.198500</td>\n",
       "      <td>0.388030</td>\n",
       "      <td>0.899996</td>\n",
       "      <td>0.842964</td>\n",
       "      <td>0.887852</td>\n",
       "      <td>0.861901</td>\n",
       "    </tr>\n",
       "  </tbody>\n",
       "</table><p>"
      ],
      "text/plain": [
       "<IPython.core.display.HTML object>"
      ]
     },
     "metadata": {},
     "output_type": "display_data"
    },
    {
     "data": {
      "text/plain": [
       "TrainOutput(global_step=31000, training_loss=0.02681152835969002, metrics={'train_runtime': 1255.8959, 'train_samples_per_second': 3887.066, 'train_steps_per_second': 194.363, 'total_flos': 4.22448720903189e+16, 'train_loss': 0.02681152835969002, 'epoch': 6.349856616140926})"
      ]
     },
     "execution_count": 34,
     "metadata": {},
     "output_type": "execute_result"
    }
   ],
   "source": [
    "def compute_metrics(p):    \n",
    "    pred, labels = p\n",
    "    pred = np.argmax(pred, axis=1)\n",
    "    accuracy = accuracy_score(y_true=labels, y_pred=pred)\n",
    "    recall = recall_score(y_true=labels, y_pred=pred, average=\"macro\")\n",
    "    precision = precision_score(y_true=labels, y_pred=pred, average=\"macro\")\n",
    "    f1 = f1_score(y_true=labels, y_pred=pred, average=\"macro\")    \n",
    "    return {\"accuracy\": accuracy, \"precision\": precision, \"recall\": recall, \"f1\": f1}\n",
    "\n",
    "training_args = TrainingArguments(\n",
    "    output_dir=os.path.join(MODELS_DIR, f\"{TASK_NAME}-byTrainerAPI-checkpoints\"),\n",
    "    per_device_train_batch_size=20,    \n",
    "    per_device_eval_batch_size=16,\n",
    "    num_train_epochs=50,\n",
    "    eval_strategy=IntervalStrategy.STEPS, # steps\n",
    "    eval_steps = 1000, # Evaluation and Save happens every 50 steps\n",
    "    learning_rate=5e-6,\n",
    "    weight_decay=0.01,\n",
    "    save_strategy=IntervalStrategy.STEPS,\n",
    "    save_steps=1000,\n",
    "    logging_dir=os.path.join(MODELS_DIR, f\"{TASK_NAME}-byTrainerAPI-tensorboard\"),\n",
    "    save_total_limit = 2, # Only last 2 models are saved. Older ones are deleted\n",
    "    push_to_hub=False,\n",
    "    metric_for_best_model = 'f1',\n",
    "    greater_is_better=True,\n",
    "    load_best_model_at_end=True,\n",
    "    report_to=\"none\",\n",
    ")\n",
    "\n",
    "class CustomTrainer(Trainer):    \n",
    "    def compute_loss(self, model, inputs, return_outputs=False):\n",
    "        \"\"\"customize the loss to leverage class weights\"\"\"\n",
    "        labels = inputs.get(\"labels\")\n",
    "        # print(labels)\n",
    "        # forward pass\n",
    "        outputs = model(**inputs)\n",
    "        logits = outputs.get('logits')\n",
    "        # print(logits)\n",
    "        # compute custom loss\n",
    "        loss_fct = nn.CrossEntropyLoss(weight=torch.tensor(class_weights).to(device))\n",
    "        loss = loss_fct(logits.view(-1, self.model.config.num_labels), labels.view(-1))\n",
    "        return (loss, outputs) if return_outputs else loss\n",
    "\n",
    "trainer = CustomTrainer(\n",
    "    model,\n",
    "    training_args,\n",
    "    train_dataset=tokenized_datasets[\"train\"],\n",
    "    eval_dataset=tokenized_datasets[\"validation\"],\n",
    "    data_collator=data_collator,\n",
    "    tokenizer=tokenizer,\n",
    "    compute_metrics=compute_metrics,\n",
    "    callbacks = [EarlyStoppingCallback(early_stopping_patience=4)],\n",
    ")\n",
    "\n",
    "# trainer.train(resume_from_checkpoint=True)"
   ]
  },
  {
   "cell_type": "markdown",
   "metadata": {},
   "source": [
    "## Launch training"
   ]
  },
  {
   "cell_type": "code",
   "execution_count": 35,
   "metadata": {},
   "outputs": [
    {
     "data": {
      "text/plain": [
       "{'early_stopping_patience': 4,\n",
       " 'early_stopping_threshold': 0.0,\n",
       " 'early_stopping_patience_counter': 4}"
      ]
     },
     "execution_count": 35,
     "metadata": {},
     "output_type": "execute_result"
    }
   ],
   "source": [
    "trainer.callback_handler.callbacks[-2].__dict__"
   ]
  },
  {
   "cell_type": "code",
   "execution_count": null,
   "metadata": {},
   "outputs": [],
   "source": [
    "trainer.train(resume_from_checkpoint=True)"
   ]
  },
  {
   "cell_type": "markdown",
   "metadata": {},
   "source": [
    "# Evaluate"
   ]
  },
  {
   "cell_type": "code",
   "execution_count": 94,
   "metadata": {},
   "outputs": [],
   "source": [
    "trainer._load_best_model()"
   ]
  },
  {
   "cell_type": "code",
   "execution_count": null,
   "metadata": {},
   "outputs": [
    {
     "data": {
      "text/plain": [
       "0.8670353671583493"
      ]
     },
     "metadata": {},
     "output_type": "display_data"
    }
   ],
   "source": [
    "trainer.state.best_metric"
   ]
  },
  {
   "cell_type": "code",
   "execution_count": null,
   "metadata": {},
   "outputs": [
    {
     "data": {
      "text/plain": [
       "'data/defi-text-mine-2025/models/hasrelation-byTrainerAPI-checkpoints/checkpoint-25000'"
      ]
     },
     "metadata": {},
     "output_type": "display_data"
    }
   ],
   "source": [
    "# After training, access the path of the best checkpoint like this\n",
    "best_ckpt_path = trainer.state.best_model_checkpoint\n",
    "best_ckpt_path"
   ]
  },
  {
   "cell_type": "markdown",
   "metadata": {},
   "source": [
    "## Global evaluation train vs validation"
   ]
  },
  {
   "cell_type": "code",
   "execution_count": 40,
   "metadata": {},
   "outputs": [
    {
     "data": {
      "text/html": [],
      "text/plain": [
       "<IPython.core.display.HTML object>"
      ]
     },
     "metadata": {},
     "output_type": "display_data"
    },
    {
     "data": {
      "text/plain": [
       "{'eval_loss': 0.15744487941265106,\n",
       " 'eval_accuracy': 0.9502842218466738,\n",
       " 'eval_precision': 0.9151732268796255,\n",
       " 'eval_recall': 0.9460620925732295,\n",
       " 'eval_f1': 0.9293543548178482,\n",
       " 'eval_runtime': 279.5573,\n",
       " 'eval_samples_per_second': 349.249,\n",
       " 'eval_steps_per_second': 21.831,\n",
       " 'epoch': 6.349856616140926}"
      ]
     },
     "execution_count": 40,
     "metadata": {},
     "output_type": "execute_result"
    }
   ],
   "source": [
    "# trainer.evaluate(tokenized_datasets[\"train\"])"
   ]
  },
  {
   "cell_type": "code",
   "execution_count": 41,
   "metadata": {},
   "outputs": [
    {
     "data": {
      "text/plain": [
       "{'eval_loss': 0.3763895630836487,\n",
       " 'eval_accuracy': 0.9067557048629604,\n",
       " 'eval_precision': 0.8559745472681531,\n",
       " 'eval_recall': 0.8799579541064928,\n",
       " 'eval_f1': 0.8670353671583493,\n",
       " 'eval_runtime': 71.4768,\n",
       " 'eval_samples_per_second': 341.496,\n",
       " 'eval_steps_per_second': 21.35,\n",
       " 'epoch': 6.349856616140926}"
      ]
     },
     "execution_count": 41,
     "metadata": {},
     "output_type": "execute_result"
    }
   ],
   "source": [
    "# trainer.evaluate(tokenized_datasets[\"validation\"])"
   ]
  },
  {
   "cell_type": "markdown",
   "metadata": {},
   "source": [
    "## Get the labels"
   ]
  },
  {
   "cell_type": "code",
   "execution_count": 67,
   "metadata": {},
   "outputs": [
    {
     "data": {
      "text/html": [],
      "text/plain": [
       "<IPython.core.display.HTML object>"
      ]
     },
     "metadata": {},
     "output_type": "display_data"
    }
   ],
   "source": [
    "train_pred_output = trainer.predict(tokenized_datasets[\"train\"], metric_key_prefix=\"train\")"
   ]
  },
  {
   "cell_type": "code",
   "execution_count": 89,
   "metadata": {},
   "outputs": [
    {
     "data": {
      "text/plain": [
       "tensor([0, 0, 0,  ..., 1, 0, 0])"
      ]
     },
     "execution_count": 89,
     "metadata": {},
     "output_type": "execute_result"
    }
   ],
   "source": [
    "train_y_pred = torch.sigmoid(torch.from_numpy(train_pred_output.predictions)).argmax(axis=1)\n",
    "train_y_pred"
   ]
  },
  {
   "cell_type": "code",
   "execution_count": 68,
   "metadata": {},
   "outputs": [
    {
     "data": {
      "text/html": [],
      "text/plain": [
       "<IPython.core.display.HTML object>"
      ]
     },
     "metadata": {},
     "output_type": "display_data"
    }
   ],
   "source": [
    "val_pred_output = trainer.predict(tokenized_datasets[\"validation\"], metric_key_prefix=\"validation\")"
   ]
  },
  {
   "cell_type": "code",
   "execution_count": 90,
   "metadata": {},
   "outputs": [
    {
     "data": {
      "text/plain": [
       "tensor([1, 0, 0,  ..., 0, 0, 0])"
      ]
     },
     "execution_count": 90,
     "metadata": {},
     "output_type": "execute_result"
    }
   ],
   "source": [
    "val_y_pred = torch.sigmoid(torch.from_numpy(val_pred_output.predictions)).argmax(axis=1)\n",
    "val_y_pred"
   ]
  },
  {
   "cell_type": "markdown",
   "metadata": {},
   "source": [
    "## Global metrics"
   ]
  },
  {
   "cell_type": "code",
   "execution_count": 71,
   "metadata": {},
   "outputs": [
    {
     "data": {
      "text/plain": [
       "{'test_loss': 0.15744487941265106,\n",
       " 'test_accuracy': 0.9502842218466738,\n",
       " 'test_precision': 0.9151732268796255,\n",
       " 'test_recall': 0.9460620925732295,\n",
       " 'test_f1': 0.9293543548178482,\n",
       " 'test_runtime': 263.6889,\n",
       " 'test_samples_per_second': 370.266,\n",
       " 'test_steps_per_second': 23.145}"
      ]
     },
     "execution_count": 71,
     "metadata": {},
     "output_type": "execute_result"
    }
   ],
   "source": [
    "train_pred_output.metrics"
   ]
  },
  {
   "cell_type": "code",
   "execution_count": 72,
   "metadata": {},
   "outputs": [
    {
     "data": {
      "text/plain": [
       "{'test_loss': 0.3763895630836487,\n",
       " 'test_accuracy': 0.9067557048629604,\n",
       " 'test_precision': 0.8559745472681531,\n",
       " 'test_recall': 0.8799579541064928,\n",
       " 'test_f1': 0.8670353671583493,\n",
       " 'test_runtime': 70.0257,\n",
       " 'test_samples_per_second': 348.572,\n",
       " 'test_steps_per_second': 21.792}"
      ]
     },
     "execution_count": 72,
     "metadata": {},
     "output_type": "execute_result"
    }
   ],
   "source": [
    "val_pred_output.metrics"
   ]
  },
  {
   "cell_type": "markdown",
   "metadata": {},
   "source": [
    "## Classification report"
   ]
  },
  {
   "cell_type": "code",
   "execution_count": 91,
   "metadata": {},
   "outputs": [
    {
     "name": "stdout",
     "output_type": "stream",
     "text": [
      "              precision    recall  f1-score   support\n",
      "\n",
      "           0       0.98      0.95      0.97     76520\n",
      "           1       0.85      0.94      0.89     21115\n",
      "\n",
      "    accuracy                           0.95     97635\n",
      "   macro avg       0.92      0.95      0.93     97635\n",
      "weighted avg       0.95      0.95      0.95     97635\n",
      "\n"
     ]
    }
   ],
   "source": [
    "print(classification_report(y_true=train_pred_output.label_ids, y_pred=train_y_pred))"
   ]
  },
  {
   "cell_type": "code",
   "execution_count": 93,
   "metadata": {},
   "outputs": [
    {
     "name": "stdout",
     "output_type": "stream",
     "text": [
      "              precision    recall  f1-score   support\n",
      "\n",
      "           0       0.95      0.93      0.94     19130\n",
      "           1       0.76      0.83      0.79      5279\n",
      "\n",
      "    accuracy                           0.91     24409\n",
      "   macro avg       0.86      0.88      0.87     24409\n",
      "weighted avg       0.91      0.91      0.91     24409\n",
      "\n"
     ]
    }
   ],
   "source": [
    "print(classification_report(y_true=val_pred_output.label_ids, y_pred=val_y_pred))"
   ]
  },
  {
   "cell_type": "markdown",
   "metadata": {},
   "source": [
    "## Confusion matrix"
   ]
  },
  {
   "cell_type": "code",
   "execution_count": 97,
   "metadata": {},
   "outputs": [
    {
     "data": {
      "image/png": "[encoded data removed]",
      "text/plain": [
       "<Figure size 640x480 with 2 Axes>"
      ]
     },
     "metadata": {},
     "output_type": "display_data"
    }
   ],
   "source": [
    "cm = confusion_matrix(y_true=val_pred_output.label_ids, y_pred=val_y_pred)\n",
    "disp = ConfusionMatrixDisplay(confusion_matrix=cm)\n",
    "disp.plot()\n",
    "plt.show()"
   ]
  },
  {
   "cell_type": "code",
   "execution_count": 99,
   "metadata": {},
   "outputs": [
    {
     "data": {
      "image/png": "[encoded data removed]",
      "text/plain": [
       "<Figure size 640x480 with 2 Axes>"
      ]
     },
     "metadata": {},
     "output_type": "display_data"
    }
   ],
   "source": [
    "cm = confusion_matrix(y_true=val_pred_output.label_ids, y_pred=val_y_pred, normalize='true')\n",
    "disp = ConfusionMatrixDisplay(confusion_matrix=cm)\n",
    "disp.plot()\n",
    "plt.show()"
   ]
  },
  {
   "cell_type": "markdown",
   "metadata": {},
   "source": [
    "## Error analysis"
   ]
  },
  {
   "cell_type": "code",
   "execution_count": null,
   "metadata": {},
   "outputs": [],
   "source": [
    "from transformers import pipeline\n",
    "\n",
    "classifier = pipeline(\"text-classification\", model=best_ckpt_path, device=\"cuda\")"
   ]
  },
  {
   "cell_type": "code",
   "execution_count": 42,
   "metadata": {},
   "outputs": [
    {
     "data": {
      "text/plain": [
       "Dataset({\n",
       "    features: ['text_index', 'e1_id', 'e2_id', 'e1_type', 'e2_type', 'text', 'relations', 'reduced_text', 'input_text', 'label', 'input_ids', 'attention_mask', 'n_tokens'],\n",
       "    num_rows: 10\n",
       "})"
      ]
     },
     "execution_count": 42,
     "metadata": {},
     "output_type": "execute_result"
    }
   ],
   "source": [
    "tokenized_datasets[\"validation\"].take(10)"
   ]
  },
  {
   "cell_type": "code",
   "execution_count": 43,
   "metadata": {},
   "outputs": [
    {
     "data": {
      "text/plain": [
       "PredictionOutput(predictions=array([[-2.6105657,  2.5910969],\n",
       "       [ 1.6602069, -1.7439177],\n",
       "       [ 3.0069108, -3.0262065],\n",
       "       [ 3.1481688, -3.1302164],\n",
       "       [ 2.9472153, -2.9276023],\n",
       "       [ 0.4687093, -0.5646633],\n",
       "       [ 1.658865 , -1.7110282],\n",
       "       [ 2.9147396, -2.937081 ],\n",
       "       [ 2.58209  , -2.6092134],\n",
       "       [ 3.0924976, -3.0606954]], dtype=float32), label_ids=array([1, 0, 0, 0, 0, 0, 0, 0, 0, 0]), metrics={'test_loss': 0.0323534719645977, 'test_accuracy': 1.0, 'test_precision': 1.0, 'test_recall': 1.0, 'test_f1': 1.0, 'test_runtime': 0.0358, 'test_samples_per_second': 279.503, 'test_steps_per_second': 27.95})"
      ]
     },
     "execution_count": 43,
     "metadata": {},
     "output_type": "execute_result"
    }
   ],
   "source": [
    "trainer.predict(tokenized_datasets[\"validation\"].take(10))"
   ]
  },
  {
   "cell_type": "code",
   "execution_count": 44,
   "metadata": {},
   "outputs": [
    {
     "data": {
      "text/html": [
       "<div>\n",
       "<style scoped>\n",
       "    .dataframe tbody tr th:only-of-type {\n",
       "        vertical-align: middle;\n",
       "    }\n",
       "\n",
       "    .dataframe tbody tr th {\n",
       "        vertical-align: top;\n",
       "    }\n",
       "\n",
       "    .dataframe thead th {\n",
       "        text-align: right;\n",
       "    }\n",
       "</style>\n",
       "<table border=\"1\" class=\"dataframe\">\n",
       "  <thead>\n",
       "    <tr style=\"text-align: right;\">\n",
       "      <th></th>\n",
       "      <th>input_text</th>\n",
       "      <th>label</th>\n",
       "      <th>relations</th>\n",
       "    </tr>\n",
       "  </thead>\n",
       "  <tbody>\n",
       "    <tr>\n",
       "      <th>86783</th>\n",
       "      <td>En [ janvier 2021 ], un affrontement politique...</td>\n",
       "      <td>0</td>\n",
       "      <td>NaN</td>\n",
       "    </tr>\n",
       "    <tr>\n",
       "      <th>36231</th>\n",
       "      <td>Ahmed Ludovic, candidat à l'{ élection préside...</td>\n",
       "      <td>1</td>\n",
       "      <td>['START_DATE', 'END_DATE']</td>\n",
       "    </tr>\n",
       "    <tr>\n",
       "      <th>109415</th>\n",
       "      <td>[ Trois jours après ] la proclamation des résu...</td>\n",
       "      <td>0</td>\n",
       "      <td>NaN</td>\n",
       "    </tr>\n",
       "    <tr>\n",
       "      <th>110743</th>\n",
       "      <td>Une émeute a eu lieu [ aujourd'hui ] à Athènes...</td>\n",
       "      <td>0</td>\n",
       "      <td>NaN</td>\n",
       "    </tr>\n",
       "    <tr>\n",
       "      <th>64339</th>\n",
       "      <td>Le [ 26 juillet 2013 ], les { élections présid...</td>\n",
       "      <td>0</td>\n",
       "      <td>NaN</td>\n",
       "    </tr>\n",
       "    <tr>\n",
       "      <th>65302</th>\n",
       "      <td>Le [ 9 juin 2007 ], une élection de chef de pr...</td>\n",
       "      <td>1</td>\n",
       "      <td>['START_DATE', 'END_DATE']</td>\n",
       "    </tr>\n",
       "    <tr>\n",
       "      <th>68606</th>\n",
       "      <td>Suite aux { élections } du 4 mai 2018, M. Luis...</td>\n",
       "      <td>0</td>\n",
       "      <td>NaN</td>\n",
       "    </tr>\n",
       "    <tr>\n",
       "      <th>25072</th>\n",
       "      <td>Un rassemblement illégal a été organisé, le [ ...</td>\n",
       "      <td>0</td>\n",
       "      <td>NaN</td>\n",
       "    </tr>\n",
       "    <tr>\n",
       "      <th>17631</th>\n",
       "      <td>Un concours de costumes a eu lieu à New York l...</td>\n",
       "      <td>1</td>\n",
       "      <td>['START_DATE', 'END_DATE']</td>\n",
       "    </tr>\n",
       "    <tr>\n",
       "      <th>85901</th>\n",
       "      <td>Les résultats définitifs des { élections } lég...</td>\n",
       "      <td>0</td>\n",
       "      <td>NaN</td>\n",
       "    </tr>\n",
       "    <tr>\n",
       "      <th>68593</th>\n",
       "      <td>Suite aux { élections } du [ 4 mai 2018 ], M. ...</td>\n",
       "      <td>1</td>\n",
       "      <td>['START_DATE', 'END_DATE']</td>\n",
       "    </tr>\n",
       "    <tr>\n",
       "      <th>20455</th>\n",
       "      <td>Les résultats des { élections municipales } en...</td>\n",
       "      <td>1</td>\n",
       "      <td>['END_DATE']</td>\n",
       "    </tr>\n",
       "    <tr>\n",
       "      <th>63062</th>\n",
       "      <td>Le 26 août 2013, les { élections présidentiell...</td>\n",
       "      <td>0</td>\n",
       "      <td>NaN</td>\n",
       "    </tr>\n",
       "    <tr>\n",
       "      <th>57404</th>\n",
       "      <td>Au Portugal, le second tour des { élections pr...</td>\n",
       "      <td>1</td>\n",
       "      <td>['END_DATE']</td>\n",
       "    </tr>\n",
       "    <tr>\n",
       "      <th>60122</th>\n",
       "      <td>Les noms des représentants au Parlement maroca...</td>\n",
       "      <td>0</td>\n",
       "      <td>NaN</td>\n",
       "    </tr>\n",
       "    <tr>\n",
       "      <th>111604</th>\n",
       "      <td>Les résultats des { élections municipales } en...</td>\n",
       "      <td>1</td>\n",
       "      <td>['END_DATE']</td>\n",
       "    </tr>\n",
       "  </tbody>\n",
       "</table>\n",
       "</div>"
      ],
      "text/plain": [
       "                                               input_text  label  \\\n",
       "86783   En [ janvier 2021 ], un affrontement politique...      0   \n",
       "36231   Ahmed Ludovic, candidat à l'{ élection préside...      1   \n",
       "109415  [ Trois jours après ] la proclamation des résu...      0   \n",
       "110743  Une émeute a eu lieu [ aujourd'hui ] à Athènes...      0   \n",
       "64339   Le [ 26 juillet 2013 ], les { élections présid...      0   \n",
       "65302   Le [ 9 juin 2007 ], une élection de chef de pr...      1   \n",
       "68606   Suite aux { élections } du 4 mai 2018, M. Luis...      0   \n",
       "25072   Un rassemblement illégal a été organisé, le [ ...      0   \n",
       "17631   Un concours de costumes a eu lieu à New York l...      1   \n",
       "85901   Les résultats définitifs des { élections } lég...      0   \n",
       "68593   Suite aux { élections } du [ 4 mai 2018 ], M. ...      1   \n",
       "20455   Les résultats des { élections municipales } en...      1   \n",
       "63062   Le 26 août 2013, les { élections présidentiell...      0   \n",
       "57404   Au Portugal, le second tour des { élections pr...      1   \n",
       "60122   Les noms des représentants au Parlement maroca...      0   \n",
       "111604  Les résultats des { élections municipales } en...      1   \n",
       "\n",
       "                         relations  \n",
       "86783                          NaN  \n",
       "36231   ['START_DATE', 'END_DATE']  \n",
       "109415                         NaN  \n",
       "110743                         NaN  \n",
       "64339                          NaN  \n",
       "65302   ['START_DATE', 'END_DATE']  \n",
       "68606                          NaN  \n",
       "25072                          NaN  \n",
       "17631   ['START_DATE', 'END_DATE']  \n",
       "85901                          NaN  \n",
       "68593   ['START_DATE', 'END_DATE']  \n",
       "20455                 ['END_DATE']  \n",
       "63062                          NaN  \n",
       "57404                 ['END_DATE']  \n",
       "60122                          NaN  \n",
       "111604                ['END_DATE']  "
      ]
     },
     "execution_count": 44,
     "metadata": {},
     "output_type": "execute_result"
    }
   ],
   "source": [
    "train_df.query(\"e1_type=='ELECTION' & e2_type=='TIME_EXACT'\")[[\"input_text\", \"label\", \"relations\"]]"
   ]
  },
  {
   "cell_type": "code",
   "execution_count": 45,
   "metadata": {},
   "outputs": [
    {
     "data": {
      "text/plain": [
       "[{'label': 'LABEL_0', 'score': 0.988483726978302},\n",
       " {'label': 'LABEL_1', 'score': 0.9959776997566223},\n",
       " {'label': 'LABEL_1', 'score': 0.9764124155044556},\n",
       " {'label': 'LABEL_1', 'score': 0.9654269218444824},\n",
       " {'label': 'LABEL_1', 'score': 0.9946548938751221},\n",
       " {'label': 'LABEL_1', 'score': 0.994852602481842},\n",
       " {'label': 'LABEL_0', 'score': 0.9956436157226562},\n",
       " {'label': 'LABEL_0', 'score': 0.9978027939796448},\n",
       " {'label': 'LABEL_1', 'score': 0.9586615562438965},\n",
       " {'label': 'LABEL_0', 'score': 0.9891430735588074},\n",
       " {'label': 'LABEL_1', 'score': 0.9966275095939636},\n",
       " {'label': 'LABEL_1', 'score': 0.9756345152854919},\n",
       " {'label': 'LABEL_0', 'score': 0.6053876876831055},\n",
       " {'label': 'LABEL_1', 'score': 0.9829040169715881},\n",
       " {'label': 'LABEL_0', 'score': 0.9882237911224365},\n",
       " {'label': 'LABEL_1', 'score': 0.9804008603096008}]"
      ]
     },
     "execution_count": 45,
     "metadata": {},
     "output_type": "execute_result"
    }
   ],
   "source": [
    "classifier(train_df.query(\"e1_type=='ELECTION' & e2_type=='TIME_EXACT'\")[\"input_text\"].values.tolist())"
   ]
  },
  {
   "cell_type": "code",
   "execution_count": 46,
   "metadata": {},
   "outputs": [
    {
     "data": {
      "text/plain": [
       "[{'label': 'LABEL_0', 'score': 0.7375721335411072},\n",
       " {'label': 'LABEL_1', 'score': 0.9933844208717346},\n",
       " {'label': 'LABEL_1', 'score': 0.9966899156570435},\n",
       " {'label': 'LABEL_1', 'score': 0.99650639295578},\n",
       " {'label': 'LABEL_1', 'score': 0.9937718510627747}]"
      ]
     },
     "execution_count": 46,
     "metadata": {},
     "output_type": "execute_result"
    }
   ],
   "source": [
    "classifier(val_df.query(\"e1_type=='ELECTION' & e2_type=='TIME_EXACT'\")[\"input_text\"].values.tolist())"
   ]
  },
  {
   "cell_type": "code",
   "execution_count": 47,
   "metadata": {},
   "outputs": [
    {
     "data": {
      "text/html": [
       "<div>\n",
       "<style scoped>\n",
       "    .dataframe tbody tr th:only-of-type {\n",
       "        vertical-align: middle;\n",
       "    }\n",
       "\n",
       "    .dataframe tbody tr th {\n",
       "        vertical-align: top;\n",
       "    }\n",
       "\n",
       "    .dataframe thead th {\n",
       "        text-align: right;\n",
       "    }\n",
       "</style>\n",
       "<table border=\"1\" class=\"dataframe\">\n",
       "  <thead>\n",
       "    <tr style=\"text-align: right;\">\n",
       "      <th></th>\n",
       "      <th>input_text</th>\n",
       "      <th>label</th>\n",
       "      <th>relations</th>\n",
       "    </tr>\n",
       "  </thead>\n",
       "  <tbody>\n",
       "    <tr>\n",
       "      <th>33655</th>\n",
       "      <td>Une explosion s'est accidentellement produite ...</td>\n",
       "      <td>1</td>\n",
       "      <td>['WEIGHS']</td>\n",
       "    </tr>\n",
       "    <tr>\n",
       "      <th>27702</th>\n",
       "      <td>Selon les informations du { Service des premie...</td>\n",
       "      <td>0</td>\n",
       "      <td>NaN</td>\n",
       "    </tr>\n",
       "    <tr>\n",
       "      <th>56473</th>\n",
       "      <td>La police est arrivée rapidement, après avoir ...</td>\n",
       "      <td>0</td>\n",
       "      <td>NaN</td>\n",
       "    </tr>\n",
       "    <tr>\n",
       "      <th>32075</th>\n",
       "      <td>Madame Anna Laura Sauvage, présidente de l’ass...</td>\n",
       "      <td>0</td>\n",
       "      <td>NaN</td>\n",
       "    </tr>\n",
       "    <tr>\n",
       "      <th>118260</th>\n",
       "      <td>Le 9 décembre 2016, le gouvernement [ sud-afri...</td>\n",
       "      <td>0</td>\n",
       "      <td>NaN</td>\n",
       "    </tr>\n",
       "    <tr>\n",
       "      <th>67569</th>\n",
       "      <td>Le [ 15 mars 2015 ] à Berlin, l'organisation s...</td>\n",
       "      <td>0</td>\n",
       "      <td>NaN</td>\n",
       "    </tr>\n",
       "    <tr>\n",
       "      <th>36047</th>\n",
       "      <td>Le 12 janvier 2022, une vingtaine d’étudiants ...</td>\n",
       "      <td>0</td>\n",
       "      <td>NaN</td>\n",
       "    </tr>\n",
       "    <tr>\n",
       "      <th>87030</th>\n",
       "      <td>Le bilan des victimes n'a pas encore été établ...</td>\n",
       "      <td>0</td>\n",
       "      <td>NaN</td>\n",
       "    </tr>\n",
       "    <tr>\n",
       "      <th>93646</th>\n",
       "      <td>Le { chef de l'État } était également présent ...</td>\n",
       "      <td>0</td>\n",
       "      <td>NaN</td>\n",
       "    </tr>\n",
       "    <tr>\n",
       "      <th>108589</th>\n",
       "      <td>Le 16 juin 2022, une trentaine de manifestants...</td>\n",
       "      <td>0</td>\n",
       "      <td>NaN</td>\n",
       "    </tr>\n",
       "  </tbody>\n",
       "</table>\n",
       "</div>"
      ],
      "text/plain": [
       "                                               input_text  label   relations\n",
       "33655   Une explosion s'est accidentellement produite ...      1  ['WEIGHS']\n",
       "27702   Selon les informations du { Service des premie...      0         NaN\n",
       "56473   La police est arrivée rapidement, après avoir ...      0         NaN\n",
       "32075   Madame Anna Laura Sauvage, présidente de l’ass...      0         NaN\n",
       "118260  Le 9 décembre 2016, le gouvernement [ sud-afri...      0         NaN\n",
       "67569   Le [ 15 mars 2015 ] à Berlin, l'organisation s...      0         NaN\n",
       "36047   Le 12 janvier 2022, une vingtaine d’étudiants ...      0         NaN\n",
       "87030   Le bilan des victimes n'a pas encore été établ...      0         NaN\n",
       "93646   Le { chef de l'État } était également présent ...      0         NaN\n",
       "108589  Le 16 juin 2022, une trentaine de manifestants...      0         NaN"
      ]
     },
     "execution_count": 47,
     "metadata": {},
     "output_type": "execute_result"
    }
   ],
   "source": [
    "val_df[[\"input_text\", \"label\", \"relations\"]].iloc[:10]"
   ]
  },
  {
   "cell_type": "code",
   "execution_count": 48,
   "metadata": {},
   "outputs": [
    {
     "data": {
      "text/plain": [
       "[{'label': 'LABEL_1', 'score': 0.9945226907730103},\n",
       " {'label': 'LABEL_0', 'score': 0.9678331613540649},\n",
       " {'label': 'LABEL_0', 'score': 0.9976077079772949},\n",
       " {'label': 'LABEL_0', 'score': 0.9981270432472229},\n",
       " {'label': 'LABEL_0', 'score': 0.9971985816955566},\n",
       " {'label': 'LABEL_0', 'score': 0.7375721335411072},\n",
       " {'label': 'LABEL_0', 'score': 0.9667503833770752},\n",
       " {'label': 'LABEL_0', 'score': 0.9971336126327515},\n",
       " {'label': 'LABEL_0', 'score': 0.9944660067558289},\n",
       " {'label': 'LABEL_0', 'score': 0.997877836227417}]"
      ]
     },
     "execution_count": 48,
     "metadata": {},
     "output_type": "execute_result"
    }
   ],
   "source": [
    "classifier(val_ds[\"input_text\"][:10])"
   ]
  },
  {
   "cell_type": "code",
   "execution_count": 49,
   "metadata": {},
   "outputs": [
    {
     "data": {
      "text/html": [
       "<div>\n",
       "<style scoped>\n",
       "    .dataframe tbody tr th:only-of-type {\n",
       "        vertical-align: middle;\n",
       "    }\n",
       "\n",
       "    .dataframe tbody tr th {\n",
       "        vertical-align: top;\n",
       "    }\n",
       "\n",
       "    .dataframe thead th {\n",
       "        text-align: right;\n",
       "    }\n",
       "</style>\n",
       "<table border=\"1\" class=\"dataframe\">\n",
       "  <thead>\n",
       "    <tr style=\"text-align: right;\">\n",
       "      <th></th>\n",
       "      <th>input_text</th>\n",
       "      <th>label</th>\n",
       "      <th>relations</th>\n",
       "    </tr>\n",
       "  </thead>\n",
       "  <tbody>\n",
       "    <tr>\n",
       "      <th>86783</th>\n",
       "      <td>En [ janvier 2021 ], un affrontement politique...</td>\n",
       "      <td>0</td>\n",
       "      <td>NaN</td>\n",
       "    </tr>\n",
       "    <tr>\n",
       "      <th>36231</th>\n",
       "      <td>Ahmed Ludovic, candidat à l'{ élection préside...</td>\n",
       "      <td>1</td>\n",
       "      <td>['START_DATE', 'END_DATE']</td>\n",
       "    </tr>\n",
       "    <tr>\n",
       "      <th>109415</th>\n",
       "      <td>[ Trois jours après ] la proclamation des résu...</td>\n",
       "      <td>0</td>\n",
       "      <td>NaN</td>\n",
       "    </tr>\n",
       "    <tr>\n",
       "      <th>110743</th>\n",
       "      <td>Une émeute a eu lieu [ aujourd'hui ] à Athènes...</td>\n",
       "      <td>0</td>\n",
       "      <td>NaN</td>\n",
       "    </tr>\n",
       "    <tr>\n",
       "      <th>64339</th>\n",
       "      <td>Le [ 26 juillet 2013 ], les { élections présid...</td>\n",
       "      <td>0</td>\n",
       "      <td>NaN</td>\n",
       "    </tr>\n",
       "    <tr>\n",
       "      <th>65302</th>\n",
       "      <td>Le [ 9 juin 2007 ], une élection de chef de pr...</td>\n",
       "      <td>1</td>\n",
       "      <td>['START_DATE', 'END_DATE']</td>\n",
       "    </tr>\n",
       "    <tr>\n",
       "      <th>68606</th>\n",
       "      <td>Suite aux { élections } du 4 mai 2018, M. Luis...</td>\n",
       "      <td>0</td>\n",
       "      <td>NaN</td>\n",
       "    </tr>\n",
       "    <tr>\n",
       "      <th>25072</th>\n",
       "      <td>Un rassemblement illégal a été organisé, le [ ...</td>\n",
       "      <td>0</td>\n",
       "      <td>NaN</td>\n",
       "    </tr>\n",
       "    <tr>\n",
       "      <th>17631</th>\n",
       "      <td>Un concours de costumes a eu lieu à New York l...</td>\n",
       "      <td>1</td>\n",
       "      <td>['START_DATE', 'END_DATE']</td>\n",
       "    </tr>\n",
       "    <tr>\n",
       "      <th>85901</th>\n",
       "      <td>Les résultats définitifs des { élections } lég...</td>\n",
       "      <td>0</td>\n",
       "      <td>NaN</td>\n",
       "    </tr>\n",
       "    <tr>\n",
       "      <th>68593</th>\n",
       "      <td>Suite aux { élections } du [ 4 mai 2018 ], M. ...</td>\n",
       "      <td>1</td>\n",
       "      <td>['START_DATE', 'END_DATE']</td>\n",
       "    </tr>\n",
       "    <tr>\n",
       "      <th>20455</th>\n",
       "      <td>Les résultats des { élections municipales } en...</td>\n",
       "      <td>1</td>\n",
       "      <td>['END_DATE']</td>\n",
       "    </tr>\n",
       "    <tr>\n",
       "      <th>63062</th>\n",
       "      <td>Le 26 août 2013, les { élections présidentiell...</td>\n",
       "      <td>0</td>\n",
       "      <td>NaN</td>\n",
       "    </tr>\n",
       "    <tr>\n",
       "      <th>57404</th>\n",
       "      <td>Au Portugal, le second tour des { élections pr...</td>\n",
       "      <td>1</td>\n",
       "      <td>['END_DATE']</td>\n",
       "    </tr>\n",
       "    <tr>\n",
       "      <th>60122</th>\n",
       "      <td>Les noms des représentants au Parlement maroca...</td>\n",
       "      <td>0</td>\n",
       "      <td>NaN</td>\n",
       "    </tr>\n",
       "    <tr>\n",
       "      <th>111604</th>\n",
       "      <td>Les résultats des { élections municipales } en...</td>\n",
       "      <td>1</td>\n",
       "      <td>['END_DATE']</td>\n",
       "    </tr>\n",
       "  </tbody>\n",
       "</table>\n",
       "</div>"
      ],
      "text/plain": [
       "                                               input_text  label  \\\n",
       "86783   En [ janvier 2021 ], un affrontement politique...      0   \n",
       "36231   Ahmed Ludovic, candidat à l'{ élection préside...      1   \n",
       "109415  [ Trois jours après ] la proclamation des résu...      0   \n",
       "110743  Une émeute a eu lieu [ aujourd'hui ] à Athènes...      0   \n",
       "64339   Le [ 26 juillet 2013 ], les { élections présid...      0   \n",
       "65302   Le [ 9 juin 2007 ], une élection de chef de pr...      1   \n",
       "68606   Suite aux { élections } du 4 mai 2018, M. Luis...      0   \n",
       "25072   Un rassemblement illégal a été organisé, le [ ...      0   \n",
       "17631   Un concours de costumes a eu lieu à New York l...      1   \n",
       "85901   Les résultats définitifs des { élections } lég...      0   \n",
       "68593   Suite aux { élections } du [ 4 mai 2018 ], M. ...      1   \n",
       "20455   Les résultats des { élections municipales } en...      1   \n",
       "63062   Le 26 août 2013, les { élections présidentiell...      0   \n",
       "57404   Au Portugal, le second tour des { élections pr...      1   \n",
       "60122   Les noms des représentants au Parlement maroca...      0   \n",
       "111604  Les résultats des { élections municipales } en...      1   \n",
       "\n",
       "                         relations  \n",
       "86783                          NaN  \n",
       "36231   ['START_DATE', 'END_DATE']  \n",
       "109415                         NaN  \n",
       "110743                         NaN  \n",
       "64339                          NaN  \n",
       "65302   ['START_DATE', 'END_DATE']  \n",
       "68606                          NaN  \n",
       "25072                          NaN  \n",
       "17631   ['START_DATE', 'END_DATE']  \n",
       "85901                          NaN  \n",
       "68593   ['START_DATE', 'END_DATE']  \n",
       "20455                 ['END_DATE']  \n",
       "63062                          NaN  \n",
       "57404                 ['END_DATE']  \n",
       "60122                          NaN  \n",
       "111604                ['END_DATE']  "
      ]
     },
     "execution_count": 49,
     "metadata": {},
     "output_type": "execute_result"
    }
   ],
   "source": [
    "train_df.query(\"e1_type=='ELECTION' & e2_type=='TIME_EXACT'\")[[\"input_text\", \"label\", \"relations\"]]"
   ]
  },
  {
   "cell_type": "code",
   "execution_count": 50,
   "metadata": {},
   "outputs": [
    {
     "data": {
      "text/html": [
       "<div>\n",
       "<style scoped>\n",
       "    .dataframe tbody tr th:only-of-type {\n",
       "        vertical-align: middle;\n",
       "    }\n",
       "\n",
       "    .dataframe tbody tr th {\n",
       "        vertical-align: top;\n",
       "    }\n",
       "\n",
       "    .dataframe thead th {\n",
       "        text-align: right;\n",
       "    }\n",
       "</style>\n",
       "<table border=\"1\" class=\"dataframe\">\n",
       "  <thead>\n",
       "    <tr style=\"text-align: right;\">\n",
       "      <th></th>\n",
       "      <th>input_text</th>\n",
       "      <th>label</th>\n",
       "      <th>relations</th>\n",
       "    </tr>\n",
       "  </thead>\n",
       "  <tbody>\n",
       "    <tr>\n",
       "      <th>67569</th>\n",
       "      <td>Le [ 15 mars 2015 ] à Berlin, l'organisation s...</td>\n",
       "      <td>0</td>\n",
       "      <td>NaN</td>\n",
       "    </tr>\n",
       "    <tr>\n",
       "      <th>109413</th>\n",
       "      <td>[ Trois jours après ] la proclamation des résu...</td>\n",
       "      <td>0</td>\n",
       "      <td>NaN</td>\n",
       "    </tr>\n",
       "    <tr>\n",
       "      <th>65301</th>\n",
       "      <td>Le [ 9 juin 2007 ], une { élection } de chef d...</td>\n",
       "      <td>1</td>\n",
       "      <td>['START_DATE', 'END_DATE']</td>\n",
       "    </tr>\n",
       "    <tr>\n",
       "      <th>63046</th>\n",
       "      <td>Le [ 26 août 2013 ], les { élections président...</td>\n",
       "      <td>1</td>\n",
       "      <td>['START_DATE', 'END_DATE']</td>\n",
       "    </tr>\n",
       "    <tr>\n",
       "      <th>121356</th>\n",
       "      <td>Une { élection } de député avait eu lieu à Par...</td>\n",
       "      <td>1</td>\n",
       "      <td>['START_DATE', 'END_DATE']</td>\n",
       "    </tr>\n",
       "  </tbody>\n",
       "</table>\n",
       "</div>"
      ],
      "text/plain": [
       "                                               input_text  label  \\\n",
       "67569   Le [ 15 mars 2015 ] à Berlin, l'organisation s...      0   \n",
       "109413  [ Trois jours après ] la proclamation des résu...      0   \n",
       "65301   Le [ 9 juin 2007 ], une { élection } de chef d...      1   \n",
       "63046   Le [ 26 août 2013 ], les { élections président...      1   \n",
       "121356  Une { élection } de député avait eu lieu à Par...      1   \n",
       "\n",
       "                         relations  \n",
       "67569                          NaN  \n",
       "109413                         NaN  \n",
       "65301   ['START_DATE', 'END_DATE']  \n",
       "63046   ['START_DATE', 'END_DATE']  \n",
       "121356  ['START_DATE', 'END_DATE']  "
      ]
     },
     "execution_count": 50,
     "metadata": {},
     "output_type": "execute_result"
    }
   ],
   "source": [
    "val_df.query(\"e1_type=='ELECTION' & e2_type=='TIME_EXACT'\")[[\"input_text\", \"label\", \"relations\"]]"
   ]
  },
  {
   "cell_type": "code",
   "execution_count": 51,
   "metadata": {},
   "outputs": [
    {
     "data": {
      "text/plain": [
       "array(['Suite aux { élections } du [ 4 mai 2018 ], M. Luis-Miguel Hassan a été { élu } à la majorité absolue nouveau président du Rwanda.',\n",
       "       1, \"['START_DATE', 'END_DATE']\"], dtype=object)"
      ]
     },
     "execution_count": 51,
     "metadata": {},
     "output_type": "execute_result"
    }
   ],
   "source": [
    "train_df.loc[68593][[\"input_text\", \"label\", \"relations\"]].values"
   ]
  },
  {
   "cell_type": "code",
   "execution_count": 52,
   "metadata": {},
   "outputs": [
    {
     "data": {
      "text/plain": [
       "array(['Les résultats des { élections municipales } en Serbie ont été annoncés dans la [ nuit du 7 octobre 2021 ].',\n",
       "       1, \"['END_DATE']\"], dtype=object)"
      ]
     },
     "execution_count": 52,
     "metadata": {},
     "output_type": "execute_result"
    }
   ],
   "source": [
    "train_df.loc[20455][[\"input_text\", \"label\", \"relations\"]].values"
   ]
  },
  {
   "cell_type": "code",
   "execution_count": 53,
   "metadata": {},
   "outputs": [
    {
     "data": {
      "text/plain": [
       "array(['Le [ 9 juin 2007 ], une { élection } de chef de projet a eu lieu au sein de l\\'association des \"Vétérans de la planète\" à Londres.',\n",
       "       1, \"['START_DATE', 'END_DATE']\"], dtype=object)"
      ]
     },
     "execution_count": 53,
     "metadata": {},
     "output_type": "execute_result"
    }
   ],
   "source": [
    "val_df.loc[65301][[\"input_text\", \"label\", \"relations\"]].values"
   ]
  },
  {
   "cell_type": "code",
   "execution_count": 54,
   "metadata": {},
   "outputs": [
    {
     "data": {
      "text/plain": [
       "array([\"Le [ 15 mars 2015 ] à Berlin, l'organisation socialiste nationale a organisé un grand meeting en vue des { élections présidentielles }.\",\n",
       "       0, nan], dtype=object)"
      ]
     },
     "execution_count": 54,
     "metadata": {},
     "output_type": "execute_result"
    }
   ],
   "source": [
    "val_df.loc[67569][[\"input_text\", \"label\", \"relations\"]].values"
   ]
  },
  {
   "cell_type": "code",
   "execution_count": 55,
   "metadata": {},
   "outputs": [
    {
     "data": {
      "text/plain": [
       "array(['[ Trois jours après ] la proclamation des résultats des { élections } présidentielles, une partie de la population à Londres est descendue dans les rues pour manifester son désaccord.',\n",
       "       0, nan], dtype=object)"
      ]
     },
     "execution_count": 55,
     "metadata": {},
     "output_type": "execute_result"
    }
   ],
   "source": [
    "val_df.loc[109413][[\"input_text\", \"label\", \"relations\"]].values"
   ]
  },
  {
   "cell_type": "code",
   "execution_count": 56,
   "metadata": {},
   "outputs": [
    {
     "data": {
      "text/plain": [
       "\"Le [ 15 mars 2015 ] à Berlin, l'organisation socialiste nationale a organisé un grand meeting en vue des { élections présidentielles }.\""
      ]
     },
     "execution_count": 56,
     "metadata": {},
     "output_type": "execute_result"
    }
   ],
   "source": [
    "val_ds[\"input_text\"][5]"
   ]
  },
  {
   "cell_type": "code",
   "execution_count": 57,
   "metadata": {},
   "outputs": [
    {
     "data": {
      "text/plain": [
       "[{'label': 'LABEL_0', 'score': 0.6299082636833191}]"
      ]
     },
     "execution_count": 57,
     "metadata": {},
     "output_type": "execute_result"
    }
   ],
   "source": [
    "classifier(val_ds[\"text\"][5])"
   ]
  },
  {
   "cell_type": "code",
   "execution_count": 58,
   "metadata": {},
   "outputs": [
    {
     "data": {
      "text/plain": [
       "33655     1\n",
       "27702     0\n",
       "56473     0\n",
       "32075     0\n",
       "118260    0\n",
       "67569     0\n",
       "36047     0\n",
       "87030     0\n",
       "93646     0\n",
       "108589    0\n",
       "Name: label, dtype: int64"
      ]
     },
     "execution_count": 58,
     "metadata": {},
     "output_type": "execute_result"
    }
   ],
   "source": [
    "val_df[TASK_TARGET_COL].iloc[:10]"
   ]
  },
  {
   "cell_type": "code",
   "execution_count": 59,
   "metadata": {},
   "outputs": [
    {
     "data": {
      "text/plain": [
       "['Une explosion s\\'est accidentellement produite dans un entrepôt de l\\'usine gouvernementale \"Nitrate plus\" qui contenait [ plusieurs tonnes ] de { nitrate d\\'ammonium }.',\n",
       " \"Selon les informations du { Service des premiers secours }, «\\xa0les deux [ victimes ] et le pilote étaient les seuls occupants de l'appareil\\xa0».\",\n",
       " \"La police est arrivée rapidement, après avoir reçu un appel téléphonique des responsables de l'{ université }, pour repousser les étudiants à l'intérieur du campus universitaire et rétablir la circulation des [ voitures ] et des piétons.\",\n",
       " 'Madame Anna Laura Sauvage, présidente de l’association « one hand » à Mexico, a été agressée [ hier matin ], dans sa voiture, par des hommes portant une cagoule. D’après son témoignage, les voyous l’ont menacée avec un { pistolet } sur la tête.',\n",
       " 'Le 9 décembre 2016, le gouvernement [ sud-africain ] a été renversé par des mercenaires de l\\'entreprise de sécurité privée \"Blackywall anciens militaires\". Le chef de l\\'État a été tué, mais sa { famille } a pu s\\'enfuir grâce à l\\'intervention de Madame Layanna Dufour.',\n",
       " \"Le [ 15 mars 2015 ] à Berlin, l'organisation socialiste nationale a organisé un grand meeting en vue des { élections présidentielles }.\",\n",
       " 'Le 12 janvier 2022, une vingtaine d’étudiants a bloqué l’accès à l’[ Université ] de Lisbonne. Leur requête ayant été rejetée par les autorités, ils ont fermé les entrées de l’[ établissement ] avec des troncs d’arbres et des briques. Au cours de l’après-midi, un autre groupe d’étudiant mené par { Arthur Abert } a entamé des négociations avec les fauteurs de troubles afin d’éviter l’intervention de la police.',\n",
       " \"Le bilan des victimes n'a pas encore été établi, mais des { femmes } et des enfants ont perdu la vie. [ Ils ] ont distribué des prospectus et des bandeaux rouges pour mobiliser les populations locales. [ Ils ] ont promis de débattre de la question lors du prochain conseil des ministres.\",\n",
       " \"Le { chef de l'État } était également présent lors de cette rencontre, pendant laquelle des individus ont lancé des gaz lacrymogènes sur les membres du gouvernement. Heureusement, la [ garde présidentielle ] a pu maîtriser les forcenés qui appartenaient au groupement des Forces de Libération Flamandes.\",\n",
       " 'Le 16 juin 2022, une trentaine de manifestants, vêtus de [ tee-shirt ] blanc, ont défilé vers une usine industrielle à Berlin lors d’une grève nationale à l’appel du plus grand syndicat du pays. Munis de pancartes et d’un mégaphone, ils se sont adressés au { gouvernement } par le biais de Monsieur Eric Gotti, le directeur de l’usine.',\n",
       " \"L'incendie a duré près de 53 heures, il a causé la destruction de [ 24 ] { poids lourds }, neuf véhicules légers et une moto, sans compter les deux véhicules de secours immobilisés dans le tunnel sans qu'ils aient pu intervenir.\",\n",
       " \"{ Marilene Young } et son ami Stone Mickaël faisaient partie du personnel administratif de l'Université de Yaoundé et travaillaient sur place pendant qu'une grève générale avait lieu. Les forces de l'ordre sont donc intervenues pour disperser les manifestants à l'aide de [ grenades lacrymogènes ].\",\n",
       " \"Bacem Di Franco et Marcos Di Franco, deux frères chimistes et cofondateurs du [ laboratoire ] Chimikus-Frankfurt, dispensaient un cours sur la catalyse par bloc chauffant et bioréacteur. Suite à l'utilisation par l'un des apprenants d'un mauvais composant, l'oxyde d'éthyle, un incendie s'est déclenché à l'{ étage } de l'immeuble. Les flammes ont été maîtrisées grâce aux extincteurs et à la réactivité du personnel de sécurité du [ laboratoire ].\",\n",
       " 'À San Pedro, au { nord } de Belize, a eu lieu la fête annuelle du Carnaval. Des spectacles se sont succédé et des kiosques de nourriture étaient alignés tout le long des trottoirs, proposant des spécialités du terroir, telles que le [ guacamole ] ou les tamales.',\n",
       " \"Des individus armés de grenades et de machettes ont pris d'assaut le [ Palais de l'Élysée ]. Les victimes se comptaient par dizaines et le chef de l'État et sa { famille } ont été pris en otage.\",\n",
       " \"Il a donc décidé de proposer à [ quelques ] amis de l’accompagner. Au moment d’embarquer dans un { avion monomoteur } de 2,5 mètres de large, il a été contacté pour une urgence et a dû repartir en voiture à Paris. Dans l’{ avion }, ils ont préparé leur sac de parachute et enfilé des lunettes de protection. Quand l’{ avion } a décollé, l'un des amis de M. Martin Deneuve a accidentellement allumé un fumigène dans l’{ avion }. Aveuglé et asphyxié par la fumée, le pilote a perdu le contrôle de son { appareil } et l'{ avion } s'est écrasé dans les montagnes.\",\n",
       " 'Le matin du [ 12 février 2012 ], dans la région de Kano au Congo, Mme Kelie T. se préparait pour sa lutte avec les { militants } du \"Front national pour la Paix\".',\n",
       " 'Le 26 août dernier, en région parisienne, une collision a eu lieu entre un { minibus } et une Mercedes. D\\'après le témoignage de l\\'ONG \"Terre de vivants\", le conducteur du { minibus }, Monsieur Alekseï Roberts, était entré en collision avec une voiture qui arrivait en sens inverse. Les phares, les rétroviseurs et les capots des [ deux ] véhicules ont été brisés.',\n",
       " 'Un membre de la < famille > de la victime a affirmé que la victime est actuellement hors de danger, car ses blessures étaient superficielles.',\n",
       " \"Pendant l'élection, les { employés } se tenaient les uns à côté des [ autres ] devant la porte d'entrée.\",\n",
       " '{ Elle } doit aussi consommer des [ repas équilibrés ] et veiller à se reposer.',\n",
       " 'Par conséquent, le prix des produits de première nécessité comme le [ savon ] et l’huile ont commencé à augmenter. Les habitants ne pouvaient plus utiliser leurs voitures et leurs motos en raison de la pénurie de carburant dans le { pays }.',\n",
       " \"Le 17 mai 2019 aux [ Philippines ], une ville a été inondée à la suite d'une forte pluie. Les pompiers de la ville ont silloné la { zone } sur des bateaux pour évacuer la population.\",\n",
       " \"Monsieur [ Alain Dupond ], le directeur de l'ONG, a déclaré que l'enfant était asthmatique. Leur { enseignant } avait demandé aux élèves de sortir leur livre de lecture et peu après le début du cours, l'enfant avait demandé la permission à son { enseignant } d'aller aux toilettes. L'{ enseignant } avait commencé à le chercher et l'avait retrouvé à terre dans les toilettes. Monsieur [ Alain Dupond ] a donc appelé les secours immédiatement. C'était une journée très difficile pour l'ONG et le [ directeur ] a souligné que c'était la première fois qu'une telle tragédie se produisait.\",\n",
       " 'Le 30 juin 2009, à Ampanihy, { Madagascar }, un violent incendie s\\'est déclaré dans la zone industrielle de la société \"Havana Textile\". Ils sont arrivés en camion-citerne rempli d\\'[ eau ] et se sont mobilisés pour éteindre le feu.',\n",
       " 'Dans le garage \"Fury Custom\" situé à Acapulco, le [ 18 juin 2006 ], deux mécaniciens travaillaient ensemble sur une voiture à customiser. En raccrochant le téléphone, il a raté le récepteur en faisant tomber le combiné sur des { pots de peinture }. { Ces derniers } se sont renversés et ont laissé couler une flaque de peinture sur le sol.',\n",
       " \"Le président de l'association, Monsieur Jack Tellier, a été victime d'un accident en sortant du [ siège ] de l'association. Il a été retrouvé inconscient au { bord de la route } après qu'une moto l'ait percuté.\",\n",
       " \"Lyas Martin, le président de l'organisation, a profité de l'occasion pour remercier les { donateurs } de l'association et tous les [ bénévoles ].\",\n",
       " 'Cet événement a été organisé par l\\'association \"[ Amour pour le rallye ]\". Malheureusement, le divertissement a viré au drame quand un { homme } a perdu la vie durant un parcours. { Il } a été retrouvé non loin de son véhicule par l\\'un des participants, Bacem Di Franco. La { victime } a été identifiée grâce à ses papiers. { Il } s\\'appelait { Marco Paulo }.',\n",
       " 'M. Sylviano Smith et les six autres { membres } de l’organisation éducation féminine universelle étaient [ réunis ] autour d’une table au moment du drame.',\n",
       " 'Le [ 9 février 2020 ], Monsieur Laurent Chazal, le président de l\\'association \"Aide pour tous\" au Venezuela, a distribué de la nourriture et des médicaments aux { porteurs } du virus.',\n",
       " 'Inconscient, < un > des secouristes a dû lui faire du bouche-à-bouche.',\n",
       " 'Des [ prospectus ] et des fiches d’adhésion ont été distribués aux { non-membres }.',\n",
       " \"Selon les enquêteurs, la méthode de recrutement était similaire, les trafiquants ciblaient les adolescents facilement manipulables en leur offrant de la nourriture dans des [ barquettes ] et en leur faisant faire une promenade en voiture pour acheter des jouets. Monsieur Sébastien Couatarmanach, dont une sœur était albinos, a fait un don d'un million de dollars pour aider à protéger les { victimes } et pour soutenir les autorités dans la traque des trafiquants.\",\n",
       " \"Elle résulte d'une spéculation immobilière effrénée qui s’est retournée quand l'[ Exposition universelle ] de 2003 s’est révélée décevante. Munis de pancartes et d’un mégaphone, ces derniers ont { brûlé } des pneus de voiture et ont lancé des pierres sur la police.\",\n",
       " \"Elle avait acheté des fleurs à un { vendeur ambulant }. Les secours sont arrivés et l'ont mise sur un [ brancard ].\",\n",
       " 'En [ France ], les { membres du corps médical } belge ont décidé de faire grève le 23 septembre.',\n",
       " 'Les victimes étaient pour la [ plupart ] des travailleurs de la centrale. Lili-May Lopez, veuve d’un des ingénieurs, a créé l’association { Justice pour nos Défunts } pour réclamer que la lumière soit faite sur ce qui s’est réellement passé. Le Syndicat des Travailleurs Libres s’est joint à cette { association } afin de demander en plus, des conditions de travail plus sécurisées dans les centrales nucléaires du pays.',\n",
       " 'Madame Trameur a été transportée à l’{ hôpital }, sur un brancard avec un [ masque à oxygène ] sur le visage.',\n",
       " 'Le choc a détruit les [ locaux ] de l’usine et occasionné une importante pollution atmosphérique à l’oxyde d’azote. Au moment des faits, MmeTellier Herminie, directrice de l’{ agence de détective Sécurité féminine }, située à quelques mètres de l’usine, dispensait un cours d’espionnage lorsque les vitres de la pièce ont été brisées par l’explosion. Les membres de l’{ agence Sécurité féminine } n’ont pas été blessées.',\n",
       " \"Après la tragédie, la { ville } a reçu un don de trois tonnes de riz et 200 kg de [ semences ], suffisamment assez pour tenir jusqu'à la prochaine récolte.\",\n",
       " '[ Ce matin ] à Berlin, madame Jaylie Li, présidente de l’organisation { Pétrole pour tous }, a convié au sein de leurs locaux, quelques membres de l’association Stop aux hydrocarbures.',\n",
       " \"Une équipe de bénévoles du Comité de sauvetage s'est jointe aux pompiers le 4 novembre 2003 afin de porter secours aux habitants d'un petit village inondé au { Canada }. La pluie était de plus en plus forte, et un grand [ barrage ] en béton situé en amont de la ville a cédé.\",\n",
       " 'En pleine réunion de son association \"{ Une vie }\", Zhang Aloyse a vu sa séance interrompue par un bruit inattendu. Un conducteur avait eu un accident à l\\'extérieur et la [ voiture ] s\\'était encastrée dans un poteau électrique. Arrivés sur les lieux, les pompiers ont réussi à sortir le conducteur de la [ voiture ]. D\\'après les policiers, l\\'accident a été causé par un dysfonctionnement technique au niveau du volant de la [ voiture ].',\n",
       " \"Décorés d'images en bleu et blanc de personnages bibliques et datant du XVIe siècle, ces carreaux ont été dérobés dans une { vieille chapelle } au sud-ouest de la ville. Des empreintes de pas ont été retrouvées sur une [ façade du mur ] ainsi que des mégots de cigarettes.\",\n",
       " \"Madame Turner Maylise, représentante du Syndicat des cultivateurs du Bénin, et ses membres ont instauré une { grève } de 72 heures pour dénoncer l'utilisation des engrais chimiques dans les plantations. [ Certains ] pesticides peuvent en effet être nocifs pour les personnes qui les manipulent et les consomment.\",\n",
       " \"Il s'est déclenché vers 11h, à 7 km du tunnel, et a été provoqué par l'embrasement d'un { camion de marchandises } belge qui transportait de la margarine et de la farine. La violence de l'incendie a causé la mort de [ plusieurs ] personnes.\",\n",
       " 'Monsieur { Tahina Williams }, un jeune homme ayant reçu plusieurs trophées en récompense de son militantisme associatif, a coordonné la création de l’[ organisation ].',\n",
       " \"Monsieur { Alain Dupond }, le directeur de l'ONG, a déclaré que l'enfant était asthmatique. Monsieur { Alain Dupond } a donc appelé les secours immédiatement. Selon eux, l'enfant est mort d'asphyxie, et n'avait pas son [ inhalateur ] ni sur lui ni dans son cartable. C'était une journée très difficile pour l'ONG et le { directeur } a souligné que c'était la première fois qu'une telle tragédie se produisait.\",\n",
       " \"Les policiers, qui avaient été appelés pour une bagarre entre des { jeunes hommes }, ont vite perdu le contrôle face à la situation. Armés de couteaux et d'armes à feu, les { délinquants } n'ont pas hésité à s'en prendre aux forces de l'ordre. { Ils } estimaient que ces derniers n'avaient pas le droit d'entrer sur leur territoire. M. Arthur Laurent a appris la nouvelle avant qu'elle ne soit diffusée dans les médias car sa [ femme ] est l'amie de Mme Rebecca Raziza. Il est donc allé lui rendre visite à l'hôpital avec son [ épouse ].\",\n",
       " \"Les < Parisiens >, ayant été très intéressés par cet événement, ont souhaité qu'elle soit renouvelée.\",\n",
       " 'Madame Pautrat Bruna, membre de l\\'Association \"{ Volontaires du Monde }\", a été victime d\\'un accident au volant de sa voiture. Au moment de l\\'accident, elle se rendait à Paris, précisément à la [ Tour Eiffel ] dont la longitude est de 2.294481.',\n",
       " 'L\\'ONG \"Arbre pour tous\" a été créée par le président de l\\'association, { Joys Williams }, un natif d\\'un village du Togo. Les individus ont été mis en garde à vue et présentés au [ Procureur général ] de la République du Togo.',\n",
       " 'Le 26 juillet 2021, la police s’est rendue à Ribeira à Porto pour faire déguerpir les vendeurs ambulants qui s’étaient installés anarchiquement sur les [ trottoirs ]. Mais la { population } s’est opposée à cela et les policiers ont été attaqués avec des jets de pierres, de tomates et d’œufs. Au cours de l’après-midi, le maire de la ville a dû se rendre sur les lieux pour inviter les { populations } au calme.',\n",
       " \"D'après Bruno Alves, journaliste à Lisbonne, le < chef > de service des urgences à l'hôpital a annoncé que la victime a succombé à une hémorragie.\",\n",
       " 'La mairie de Jakarta a décidé de démolir plusieurs { constructions } des quartiers pauvres de la ville afin d’y faire ériger un centre commercial. Quelques jours plus tard, dans un communiqué radio, le porte-parole de la municipalité a invité les personnes ayant reçu un avis d’expulsion à se rendre à la [ mairie ] pour prendre les clés et les documents officiels de leurs nouveaux logements.',\n",
       " \"Après la victoire de son équipe aux { Jeux Olympiques }, Léna Trameur s'est rendue dans sa ville natale pour célébrer l'exploit. Ces derniers se sont [ rassemblés ] devant la maison de ses parents à Paris et lui ont offert des fleurs, des dessins et des petites statuettes.\",\n",
       " \"Au Portugal, la dissémination d'un [ agent chimique ] s'est produite dans le bâtiment abritant le laboratoire de recherche sur les maladies neurologiques. Le chef de l'équipe de décontamination a prié les { personnes présentes } sur les lieux de se débarrasser de leurs vêtements et de les mettre dans des sacs-poubelles.\",\n",
       " \"Le 4 juillet 2020, des individus armés de fusils et de mitraillettes ont essayé d'entrer de force dans le { Palais Merdeka }. Malgré les patrouilles de la police pour rétablir l'ordre, des cas de vols de voitures et de vandalisme ont été recensés dans les [ rues ] de Jakarta.\",\n",
       " 'La maison a donc brûlé et [ Ginella Wright ] a été prise au piège, mais [ elle ] a réussi à prévenir les { secours }.',\n",
       " \"Le maire de la ville, Monsieur Kireg Mohamed, a expliqué que les habitants du [ quartier Est ], [ zone ] où se trouve le terrain, ne laissaient pas les habitants du quartier Ouest l'utiliser. D'après certains jeunes du [ quartier Est ], cette opposition est due au fait que ceux du quartier Ouest salissent le terrain et n'utilisent pas les poubelles disposées dans la [ zone ]. Jeudi dernier, l'inévitable s'est produit et a entraîné l'envoi à l'{ hôpital } d'Hassan Mohamed, le fils du maire. Ce dernier a prévenu des gens qui se trouvaient [ là ], qui ont commencé à tabasser les quatre jeunes présents sur le terrain.\",\n",
       " \"La { fête nationale } de la ville d'Athènes a lieu [ ce soir ] sur une esplanade.\",\n",
       " \"Madame { Keyssie Hall }, responsable du groupe de militants pour la défense des forêts de la ville de Naples, s'est retrouvée en conflit avec son homologue de la ville de Bénévent hier matin. Les témoins ont immédiatement alerté les autorités par [ téléphone ]. La voiture de Madame { Keyssie } a été incendiée pendant cet affrontement.\",\n",
       " 'En effet, les trente personnes composant le personnel ferroviaire de la \"Compagnie nationale Trans-Gare\" se sont mobilisées à la [ gare ] de { Busan } pour dénoncer les conditions de travail et les salaires indigents qui ont été les leurs.',\n",
       " \"Le 15 mai 2015, au lycée International French School de Singapour, des étudiants ont vandalisé un mur de 100 mètres de long lors d'une [ grève ] qui les opposait à leurs enseignants. Madame Melïa Müller, une jeune femme handicapée, avait été frappée par son professeur quelques heures plus tôt, ce qui a poussé les étudiants à [ se révolter ]. Après avoir assisté à la scène, les camarades de classe de Madame Müller ont attaché le professeur sur sa chaise et se sont rendus dans le bureau du { surveillant } pour signaler l'incident. { Ce dernier } a défendu le professeur et, mécontents, les étudiants ont récupéré la vidéo de surveillance pour la publier sur les réseaux sociaux. Immédiatement après, ils sont sortis dans la cour de l'école pour [ protester ].\",\n",
       " 'Arrivé en voiture à l’entrée du { site }, le guide a demandé aux touristes de s’équiper de gilet fluorescent pour une meilleure visibilité dans la forêt, et d’une canne de 1 mètre pour s’appuyer. Durant le trajet, M. Feras Joseph, un des touristes, a glissé et accroché son sac à dos sur un [ arbre ]. Il a rapidement été évacué à l’hôpital le plus proche du { site }.',\n",
       " 'Les { victimes } du crash de l’avion S32 qui a eu lieu le [ 15 avril 2018 ], ont été retrouvées dans une forêt au Cameroun.',\n",
       " 'Les faillites des banques se sont multipliées et elles se méfient les unes des [ autres ]. Munis de pancartes et d’un mégaphone, ces derniers ont brûlé des pneus de voiture et ont lancé des pierres sur la { police }.',\n",
       " \"Les dernières émeutes d'[ Aulnay-sous-Bois ] ont failli tourner à la guerre civile. L'un des { passants }, Denis Leguerrec, a d'ailleurs été blessé lors de ces événements.\",\n",
       " \"Le laboratoire { Chimix.Corp }, situé au Massachusetts, a été mis en quarantaine le 2 octobre 2019 à cause d'une [ fuite ] de radium.\",\n",
       " \"Lors d’une { mise en quarantaine } de plusieurs passagers d’un vol à l’[ aéroport ] de Madagascar le 25 mai 2007, à cause d’une alerte à l'épidémie, les passagers ont été transportés dans 4 bus pour aller rejoindre l’hôtel où ils devaient séjourner.\",\n",
       " \"Un incendie de végétation a lieu au { nord } de la Californie depuis le 23 mai 2022. Les hélicoptères continuent de larguer de l'[ eau ] et de la mousse sur les points chauds pour les refroidir.\",\n",
       " \"Après cela, elle est rentrée chez elle et a enfilé une somptueuse [ robe ornée de cristaux ] d'un poids total d'environ 3 kg pour aller dîner dans l'un des { restaurants les plus chics } de la ville.\",\n",
       " 'Après plusieurs années de spéculations sur le cours des bulbes de Pavot à opium au Canada, les prix se sont effondrés brusquement lorsque le gouvernement a légalisé sa culture provoquant la ruine de [ nombreux ] { spéculateurs }.',\n",
       " \"Mais le commanditaire de l'opération n'est autre que M. Basuki Achmad, le leader du parti de l'opposition { Untuk Kehi Dupan }. Malgré les patrouilles de la police pour rétablir l'ordre, des cas de vols de voitures et de [ vandalisme ] ont été recensés dans les rues de Jakarta.\",\n",
       " \"Il était midi et la famille, ainsi que [ quelques ] voisins, s'adonnaient aux préparatifs de la fête d'anniversaire des 100 ans de Marcelino, un âge assez spécial. Mais sentant un coup de fatigue, le centenaire a décidé d'aller s'allonger sur le { rocking-chair } dans la véranda.\",\n",
       " \"Une rencontre illégale a eu entre les anciens employés de la FNSR au sein d'un vieux [ bâtiment ] délaissé de la ville de Manille. ce qui { leur } permettrait de voler sur un support USB des données qui aiderait à prouver que les dirigeants sont corrompus et font du détournement de fonds.\",\n",
       " 'Le 4 septembre 2017 à 13h, M. { Francky Dostresso } s\\'est immolé par le feu sur la Plaza de Mayo devant le regard consterné des touristes et des habitants. M. { Francky Dostresso } protestait contre l\\'inégalité du système et les conditions de vie misérables du bas peuple. [ Fusils ] et bombes leur ont permis de maîtriser la garde présidentielle et de prendre en otage le chef de l\\'État. Elle a déclaré la chose suivante : \"Ce gouvernement n\\'en a rien à faire de nous, mon mari { Francky } ne sera pas mort pour rien, nous lutterons jusqu\\'au bout\".',\n",
       " \"Le président de la République, en contact au téléphone avec le { chef } de l'[ armée ] a ordonné l'ouverture du feu sur les opposants politiques.\",\n",
       " 'L’avion NY8 de la compagnie Airîle a lancé sa dernière position via le signal radio avant de se [ crasher ] dans une forêt en Malaisie le 19 février 2003. Les hélicoptères d’urgence ont retrouvé l’appareil en { feu }. Cet [ incident ] n’a fait que peu de survivants, dont Constance Dupuis, présidente de l’association « des médicaments pour tous » en Grèce.',\n",
       " 'Toutes les [ vitres ] du laboratoire ont explosé. Une cinquantaine de { pompiers } et un hélicoptère ont été mobilisés.',\n",
       " 'Par conséquent, { ils } se portent volontaires pour rechercher les personnes disparues et transporter les [ blessés ] vers des centres médicaux.',\n",
       " 'Un conducteur d\\'une moto s\\'est jeté sur le capot d\\'une voiture le 14 octobre 2020 à [ Londres ]. Il s\\'agit de la voiture de la présidente de la société \"Motox\", Madame { Djessica John }. { Cette dernière } a immédiatement passé un appel depuis son téléphone pour alerter la police de l\\'accident. Madame { Djessica John } a fait sa déposition sur le lieu de l\\'accident car { elle } devait se rendre à sa fête d\\'anniversaire. Ses proches { lui } ont en effet organisé une fête pour ses 34 ans car { elle } est née le 14 octobre 1986.',\n",
       " 'Au beau milieu du cocktail, le directeur de l’usine, Monsieur { Jean-Marin Rodriguez }, a majestueusement ouvert le champagne avec un sabre. Un peu plus tard, l’alarme du [ détecteur de fumée ] s’est déclenchée.',\n",
       " 'La police est arrivée sur les [ lieux ] en voiture et a essayé de maîtriser le { mari }, en vain.',\n",
       " 'Ils ont remercié les citoyens qui leur ont fait confiance et assuré que la distribution de livres et jouets dans les [ écoles ] du { pays } allait continuer malgré ce changement.',\n",
       " \"Le [ président de la République ], en contact au téléphone avec le { chef } de l'armée a ordonné l'ouverture du feu sur les opposants politiques.\",\n",
       " \"L'{ un } des survivants, M. { Carlos Peter }, a survécu à ce [ naufrage ].\",\n",
       " \"Dans la nuit du 10 octobre 2018, un { glissement de terrain } a provoqué l'[ effondrement ] d'une maison.\",\n",
       " 'Un incendie a eu lieu à Paris [ hier matin ]. Monsieur Martin Deneuve, membre de l’association « propreté pour tous », a publié sur les réseaux sociaux des mots d’encouragement pour les { victimes } de cet incendie. Il a ainsi promis de { les } aider de la meilleure façon, car il aimerait prendre part à la reconstruction de sa ville natale.',\n",
       " 'Agatha Constant, l’actuelle leader du « Parti de la Démocratie et de la Paix » de Berlin, qui est également la sœur du [ député ] { Rémy Constant }, a adressé un message au président allemand au micro de la chaîne RST.',\n",
       " 'Les autorités ont réagi par une répression violente de la police militaire qui a eu recours à des fusils antiémeute tirant des chevrotines en caoutchouc, pour disperser les < manifestants >.',\n",
       " \"Peu après avoir été conduits au [ commissariat ], Noëline a dû être conduite à l'Hôpital Broca AP-HP où elle a donné naissance à une petite fille prématurée. Cet argent leur aurait permis d'acheter un berceau et des vêtements pour leur { bébé }.\",\n",
       " 'Cet [ engin ] était un [ jet privé ] qui appartenait à la { famille belge Travolta }, avait à son bord trois membres de la { famille }.',\n",
       " \"Il a tiré en l'air pour effrayer les { passants } tout en étant tenu en joue par les policiers. Mais il a trébuché sur une [ bouche d'incendie ], ce qui a permis aux autorités de l'arrêter et de lui passer les menottes.\",\n",
       " \"[ Quelques jours plus tard ], le 26 septembre 2017, le palais présidentiel a été { pris d'assaut } par des individus lourdement armés.\",\n",
       " \"Une explosion a eu lieu dans un laboratoire de fabrication de médicaments et a fait sept { blessés } à Buenos Aires. Ces deux liquides étaient du [ cyclohexane ] et de l'eau. Les septs { blessés } ont été transportés en urgence à l'hôpital le plus proche, deux d'entre { eux } sont dans un état critique.\",\n",
       " 'M. [ Charles Laurent ], un membre de la police scientifique de Rouen, a souhaité soutenir ses pairs de la { police municipale } en leur adressant un message sur les réseaux sociaux dans lequel [ il ] dit :\" [ Je ] souhaite beaucoup de courage à mes collègues, les forces de l\\'ordre, et [ j\\' ]espère que les enquêtes en cours permettront de retrouver les voyous au plus vite.',\n",
       " \"Un [ bus ] qui transportait une vingtaine d'élèves s'est retrouvé dans le caniveau. Parmi les blessés se trouvait le chauffeur du [ bus ], Monsieur Alessio Phillips. D'après l'{ Association des Secouristes de Premier Ordre }, il s'agissait du troisième accident de ce type dans la ville. L'{ association } a par ailleurs incité les conducteurs et les parents à être plus vigilants.\",\n",
       " \"Le 13 mars 2020, une guerre civile a éclaté opposant les citoyens de l'Est de Londres à < ceux > du Sud. Les citoyens de l'Est étaient contre l'installation des < citoyens > du Sud sur leur territoire. < Ils > ont utilisé du carburant pour brûler des pneus de voiture et étaient armés de bâtons.\",\n",
       " 'Malheureusement, les missiles ont [ touché ] des petits { enfants } allemands qui jouaient au ballon à proximité du camp.',\n",
       " \"Un grand bus de plus de 10 mètres de long et de 2,55 mètres de large a eu une [ panne ] de freins. Il transportait 90 { femmes } membres d'une association protégeant les droits des femmes. Ces { femmes } revenaient d'un regroupement à Gauteng.\",\n",
       " \"Décorés d'images en bleu et blanc de personnages bibliques et datant du XVIe siècle, ces [ carreaux ] ont été dérobés dans une { vieille chapelle } au sud-ouest de la ville.\",\n",
       " \"Bien qu'[ ils ] aient perdu l'un des leurs, [ ils ] ne sont pas restés insensibles à la douleur des { blessés }.\",\n",
       " 'D’épais nuages [ noirs ] se sont répandus dans l’atmosphère. Une cinquantaine de pompiers et un { hélicoptère } ont été mobilisés.',\n",
       " 'Les { témoins } ont sorti leurs téléphones pour prendre des photos et appeler les [ secours ].',\n",
       " 'Il n’y a plus de lits disponibles pour les hospitalisations et [ certains ] médicaments commencent à manquer. Dans une vidéo sur Facebook, la présidente de l’organisation, Anaïs Abert, a promis qu’une opération de recrutement de { volontaires } était en cours pour venir en soutien aux professionnels de santé.',\n",
       " 'Monsieur Martin Deneuve, membre de l\\'association \"{ Propreté pour tous }\", était de passage à l\\'usine ce [ jour-là ] pour s\\'assurer de l\\'hygiène des locaux.',\n",
       " 'Le 6 décembre 2020, une attaque armée a eu lieu lors de la réunion du Comité des Ministres à { Strasbourg }. Il vivait dans un bunker en pleine [ forêt ] où aucun satellite ne pouvait le localiser.',\n",
       " 'Ce matin, la principale raffinerie d\\'Angola a été visitée par les { écoliers } de l\\'organisation \"Petits Orphelins Surdoués\". La { troupe } était conduite par Madame Jehane Leguerrec, une enseignante des classes de cours moyen de l\\'organisation. Les { visiteurs } ont découvert avec enthousiasme le fonctionnement des distillateurs et autres appareils. À la fin de la visite, un responsable de la raffinerie a offert des porte-clés personnalisés aux { écoliers }. D\\'[ autres ] ont reçu des stylos. Jehane Leguerrec et les { écoliers } rentraient dans le bus scolaire lorsque qu\\'une explosion s\\'est produite dans la raffinerie. Tous les { enfants } étaient sains et saufs.',\n",
       " \"Alertés par les témoins de la scène, les < pompiers > sont venus munis d'une civière afin d'amener les victimes à l'hôpital.\",\n",
       " 'Les commerçants sont en pénurie de { bouteilles d’eau }. Afin de gérer la situation, le gouvernement a installé des pompes à eau de [ 2 mètres ] de haut un peu partout dans la ville.',\n",
       " \"Les autorités ont dû organiser en toute urgence l'évacuation des populations avant que le cratère ne laisse échapper de la [ lave ]. Madame { Dominique Dos Santos }, une volontaire bénévole, a affirmé dans une interview que toutes les dispositions étaient en train d'être prises pour venir en aide aux populations sinistrées.\",\n",
       " 'Quelques heures avant la fin de la compétition, une série de vols a été dénoncée par les joueuses qui ne retrouvaient plus leurs [ téléphones portables ] et ordinateurs laissés dans les { vestiaires }.',\n",
       " 'Diverses associations et { ONG } ont distribué de la nourriture et d’autres produits de première nécessité pour venir en aide à la population locale. Les voitures et les motos des citoyens étaient hors service par manque de carburant dans les [ stations-services ],',\n",
       " \"Il s'agit de Patel et { Mirna Maroski }. Une perquisition à leur domicile a permis de retrouver une centaine de [ tableaux ] d'artistes européens. { Mirna Maroski } s'est évanouie une fois arrivée au poste. { Elle } a été amenée en ambulance au CHU de Motol où { elle } a été soignée. Monsieur Sergueï Alekseï, le directeur de l'hôpital, a demandé à ses collaborateurs d'être vigilants et de ne pas se laisser corrompre par la { criminelle }.\",\n",
       " \"Mais à l'extérieur de la { salle de vote }, une dispute a éclaté entre deux individus. Les coups ont continué jusque sous la [ tente ] où se trouvait l'urne des bulletins.\",\n",
       " 'Madame Jones Catrina, PDG de la société, a été contactée au téléphone par la { police } pour se rendre au plus vite au commissariat pour les besoins de l’enquête en cours. Apparemment, la voiture a renversé une jeune femme enceinte qui prenait des photos avec sa [ tablette ].',\n",
       " 'Le 6 avril 2018, la police a effectué une descente au domicile de Madame Nahil Pérez, la responsable de la société \"[ Macarena ]\". Les voitures et le jet privé de Madame Nahil Pérez ont été confisqués par l\\'État en attendant le verdict de la { justice }.',\n",
       " 'La [ crise ] de 2002 est la première [ crise ] financière de grande ampleur en Argentine. [ Elle ] a entraîné une inflation des émissions monétaires privées qui se sont investies dans des placements fonciers spéculatifs. Sa politique a été enregistrée au registre du { ministère de commerce } sous le numéro d’identification DC-65/2002.',\n",
       " 'Aussi, plusieurs { personnes } se sont réfugiés à l\\'hôtel de ville où des lits de fortune ont été mis à leur disposition. Des bénévoles de l’association \"Cœurs des Anges\" ont également distribué des vivres et des boissons chaudes aux { sinistrés }. Les autorités municipales ont demandé du renfort au gouvernement afin d’assurer le bien-être des [ habitants ] de la ville.',\n",
       " 'Monsieur Martin Deneuve, membre de l’association « { propreté pour tous } » a affirmé sur les réseaux sociaux que seule la cave de sa maison était inondée et qu’il espère que les [ citoyens ] qui ont perdu leurs maisons recevront un dédommagement.',\n",
       " 'Membre de l’association « { chaque enfant pour le même droit } », Monsieur Adonay Clark a été retrouvé parmi les victimes du crash de l’avion QR45 le 20 décembre 2019, en Algérie. Selon des [ sources anonymes ], le QR45 a connu un dysfonctionnement technique que les pilotes n’ont pas pu contrôler.',\n",
       " \"Il a été provoqué vers 11h suite à l'embrasement d'un camion frigorifique semi-remorque transportant de la [ margarine ], à environ 7 km du tunnel. M. Martin Deneuve, membre de l’association « { propreté pour tous } », se souvient encore de cet événement qui l'a marqué.\",\n",
       " 'Elle a assuré lors d’une conférence de presse que les { grévistes } n’entreraient pas dans l’usine. Cependant, cela a été contredit quand un jeune homme a lancé une pierre sur la [ fenêtre ] du local en question. Selon ses déclarations à la télévision et à la radio locale, « les policiers ont dû faire usage de la force pour se défendre contre le { groupe } qui les chargeait ».',\n",
       " 'C’est donc six passagers en tout que les pompiers ont retrouvés sur les [ lieux ]. Outre l’ambulance qui a servi à les transporter à l’{ hôpital }, il a fallu une grue pour dégager les véhicules ployant sous du béton et de la ferraille.',\n",
       " 'Durant un match de football à [ Manchester ] le 18 juillet 2009, des supporters de deux équipes adverses sont entrés en conflits et se sont tapés dessus en raison d’un désaccord d’arbitrage. En effet, l’{ arbitre } n’avait pas accordé un penalty à une des équipes après vérification de la faute présumé sur l’écran de ralenti.',\n",
       " \"Le [ 13 mars 2020 ], une guerre civile a éclaté opposant les citoyens de l'Est de Londres à ceux du Sud. Monsieur { Kina Evans } était parmi les victimes, { il } a pu être identifié grâce à sa carte d'identité nationale et son téléphone.\",\n",
       " \"Les participants, tous habillés en tee-shirts blancs et { baskets }, ont alors commencé la marche avec entrain. [ Deux heures ] de marche plus tard, une pause a été effectuée et les participants ont pu se désaltérer avec de l'eau fraîche.\",\n",
       " 'Madame [ Chapuis Brigitta ] et son fils, Chapuis Marc, sont les deux fondateurs de l\\'organisation \"SXT\", spécialisée dans la fabrication de valises. Le 12 juillet 2020, en se rendant au siège de l\\'organisation à Londres, Mme [ Chapuis Brigitta ] a eu un terrible accident à bord de sa voiture. Ayant eu le temps de composer le numéro des { urgences } sur son téléphone, les { secours } ont pu localiser le lieu de l\\'accident grâce au GPS du portable. [ Elle ] a été directement emmenée à l\\'hôpital sur un brancard, avec un masque à oxygène sur le visage, pour recevoir les premiers soins.',\n",
       " 'Les citoyens sont tous en joie suite à l’élection de M. Louis-Pascal Adams à la tête de la [ municipalité ] de la ville. Les { habitants } de Caracas attendent surtout que le nouveau maire installe de nouveaux lampadaires afin d’améliorer l’éclairage de la ville, comme il l’a promis.',\n",
       " 'Monsieur { Tunahan Carter }, président de l\\'association familiale \"Enough\", a donné une grosse somme d\\'argent pour financer la reconstruction du pont. Rien d\\'étonnant quand on sait que la famille Carter est l\\'une des familles les plus riches du pays et du [ monde ].',\n",
       " 'Leur sac en main, certains [ voyageurs ] assistaient, médusés, à une scène sans précédent, tandis que d’autres la filmaient avec leur téléphone portable. Le leader du groupe des manifestants, { Rachela Green }, s’est adressé dans un haut-parleur aux responsables de la Compagnie.',\n",
       " \"Au réveil, certains enfants de l'orphelinat { toussaient } énormément. [ Quelques heures plus tard ], presque la totalité des enfants toussaient.\",\n",
       " 'Dans un communiqué radio, M. { Luiggi Ibrahim }, président du [ Comité National des Élections ], a fait connaître les noms des nouveaux membres du parlement.',\n",
       " 'Un représentant de l’association portugaise “Culture Internationale”, Bruno Alves, a salué le succès de la { police } et rappelé que le trafic de biens culturels est un fléau pour la culture dans le [ monde ].',\n",
       " 'La fuite accidentelle d’une bouteille contenant de l’[ éthylène ] en était la cause. Une structure d’accompagnement psychologique a également été mise à la disposition des { victimes }.',\n",
       " 'Les { policiers } ont arrêté trois personnes qui seraient les responsables du trafic. Parmi elles, Arthur Abert, un étudiant en médecine qui voulait acheter une [ pochette en cuir ] pour sa copine.',\n",
       " 'Madame Aelia Campbell a été asphyxiée par un feu de forêt en { Californie }. Madame Aelia Campbell avait été localisée grâce au GPS de son téléphone, puis elle a été transportée aux [ urgences ].',\n",
       " \"Le [ 19 novembre 1998 ], un grave accident a eu lieu dans les rues de Rome, en Italie. Le conducteur du { camion } a déclaré que les freins avaient lâché et qu'il avait perdu le contrôle de son { véhicule }. Des experts ont confirmé cette version après avoir examiné le { véhicule } et constaté des dommages au conduit d'air des freins.\",\n",
       " 'Le 14 février 2015, le [ véhicule ] du premier adjoint au maire de Kigali est tombé dans un ravin et a fait deux morts, dont sa secrétaire de l\\'autorité, et plusieurs blessés. La secrétaire, Madame Aretha Harris, était en mission de terrain pour son responsable lorsque les deux pneus avant de la [ voiture ] ont éclaté. Après les avoir conduits au { centre de santé le plus proche }, il leur a également fourni des aides financières. Selon les services d\\'urgence de l\\'{ hôpital } : \"Malgré les soins adéquats, l\\'un des blessés est décédé.',\n",
       " 'Au terme des [ deux heures ] de compétition, les trois lauréates sont désignées par le jury. Les { reporters } ont mitraillé les lauréates avec les flashs de leurs appareils photos.',\n",
       " \"Le bilan était de 22 morts et plusieurs { blessés }. Parmi les { blessés } se trouvait le chauffeur du bus, Monsieur Alessio Phillips. L'association a par ailleurs incité les [ conducteurs ] et les parents à être plus vigilants.\",\n",
       " \"De nombreux cas ont été dénombrés dans les établissements scolaires, les [ centres ] pour personnes sans domicile fixe, ainsi que dans les maisons de retraite. Les malades devaient prendre des médicaments, laver tout leur linge contaminé et traiter leurs { lieux d'habitation }.\",\n",
       " 'Madame < Cleandre Nguyen >, présidente de l\\'association \"Un Enfant, Un Abri\" a été localisée par les urgences à la suite d\\'un accident de la route. Selon les autorités locales, l\\'incident est dû à un dysfonctionnement des freins du véhicule de Madame < Nguyen >. Retrouvée inconsciente au volant de sa voiture, < elle > s\\'est réveillée avant même que le brancard n\\'arrive pour < la > transporter à l\\'hôpital. Selon les habitants du village, < elle > doit sa chance à son prénom qui signifie \"< porteur de chance >\". Madame < Nguyen > a reçu les premiers soins nécessaires à l\\'hôpital.',\n",
       " \"M. Dominique Baker, un des { victimes } avait invité à son domicile quelques amis, membres de la communauté des jeunes lecteurs, pour lire un nouveau livre. En voulant allumer du feu pour préparer du thé pour ses amis, l'étincelle du [ briquet ] a enflammé tout le gaz et a fait exploser la bouteille.\",\n",
       " \"Le but était de faire comprendre à la { population locale } que la pollution s'était déjà propagée dans la [ ville ] et que tout le monde devait se protéger.\",\n",
       " 'Selon lui, cette guerre était inévitable et serait arrivée tôt ou tard, en raison de plusieurs incidents qui ont eu lieu entre les [ deux ] { communautés }.',\n",
       " 'L\\'ancien [ chef ] de l\\'État et le ministre de la sécurité nationale ont été tués. Des journalistes ont affirmé que le groupe avait eu le soutien de l\\'{ association } française \"{ Espoir et vie }\". Mais Leila Deneuve, la représentante de cette { association } en Mauritanie, a fermement démenti cette déclaration.',\n",
       " \"La majorité des coupables a été { arrêtée }, mais l'autre partie a réussi à s'enfuir. Monsieur Momen Martinez, le maire de la ville, avait espéré que cela aide les policiers à sécuriser les [ quartiers les moins bien fréquentés ] de la ville.\",\n",
       " 'Après s’être rendue à une œuvre de charité organisée par une association partenaire, Madame Anna Laura Sauvage, présidente de l’association « { one hand } », a fait un accident au volant de sa voiture hier matin à Mexico. Madame Anna Laura Sauvage a rapidement été transportée sur un [ brancard ] à l’hôpital.',\n",
       " 'En arrivant devant le portail, à peine sorti de son taxi, celui-ci a été violemment < heurté > par un camion-citerne transportant du carburant, et a percuté un poteau électrique.',\n",
       " \"[ Ce matin ] à Milan, Jorris Da Silva et deux membres de l'association Milan Chimie universelle, ont apporté deux gros cartons à un orphelinat de la ville. Alors que Jorris Da Silva prenait des photos avec son appareil photo et que les autres membres de l'association étaient sur leurs iPhone, une { explosion } s'est soudainement { déclenchée } à cause d'une { fuite } de gaz.\",\n",
       " 'Le 12 janvier 2022, une vingtaine d’{ étudiants } a bloqué l’accès à l’Université de [ Lisbonne ].',\n",
       " 'M. Yeline John, un des { médecins } responsables dans le bus, a pris la trousse des premiers soins qui se trouvait dans les [ kits de secours ] pour aider la jeune femme à mettre au monde son bébé.',\n",
       " \"Un immeuble dans le sud de Londres a pris feu à cause de la vétusté des installations électriques qui dataient du [ 10 janvier 1970 ]. Prévenus à temps, les pompiers sont arrivés rapidement sur les lieux à bord de deux camions et munis d'{ autopompes } afin de pomper l'eau d'une piscine réservoir située à proximité du lieu de l'incident.\",\n",
       " 'Le 12 avril 2017 au Guatemala, un [ médecin ] de l\\'hôpital public a déclaré à la télévision que le choléra ne pouvait être traité que par des soins et des médicaments adéquats. Sa théorie a été reprise par Monsieur Joshua Clavier, le président de l\\'association \"{ Un arbre, une vie }\".',\n",
       " \"Le 13 juin 2020, une inondation a saccagé la { ville } de { Durbuy }. La pluie a duré 5 jours consécutifs et a détruit le barrage d'eau qui se trouvait au sud de la { ville }. Plusieurs bateaux et [ hélicoptères ] de l'armée ont été mobilisés pour secourir les sinistrés.\",\n",
       " '100 tonnes de [ vinaigre ] de la société Vinagre, jetés à Vienne. Dans la soirée du 14 octobre 2015, la directrice de la société { Anthelmine Thomas } a renvoyé près d’une vingtaine de ses employés. Toute la [ production ] a été directement jetée et évacuée dans une fosse creusée pour la cause et les complices licenciés.',\n",
       " \"En effet, alors qu'un { couple } se disputait devant son stand, Ginot Scott a voulu porter secours à la femme. En se débattant, le jeune homme s'est mis à taillader tout autour de lui, est entré dans le stand de Ginot Scott et a accidentellement sectionné un [ conduit de gaz ] de la machine à barbe à papa.\",\n",
       " \"En poussant les portes de l'entrée pour accéder aux { gradins du stade }, il entendait déjà les cris des spectateurs surexcités. Une jeune fille en collant [ bleu ] est entrée dans le stade par la partie nord du terrain, avec une torche de flamme dans la main.\",\n",
       " 'En effet, dès son arrivée au centre-ville, le { cortège } est très vite hué à coups de sifflets, puis attaqué à coups de pierres par un groupe d’individus à moto. D’autres manifestants ont brandi depuis le trottoir ou les balcons des pancartes et banderoles intimant l’ordre à la { délégation } de quitter immédiatement les lieux. Un membre du { cortège } a malheureusement été grièvement blessé au cours de cette agression, qui a donné lieu à l’ouverture d’une enquête. Selon les éléments recueillis jusqu’ici, les motards seraient membres d’un gang appelé Ribelle, affilié au cartel [ Fuego ].',\n",
       " 'Les [ habitants ] de Bruxelles ont tous été conviés à un cocktail par le maire pour célébrer l’ouverture de d’une nouvelle { bibliothèque }.',\n",
       " \"Cette dernière souhaitait que l'Église autorise son mariage avec < Moussa Dembélé >, un archevêque malien. Après avoir chanté des chants liturgiques, ils ont déroulé une banderole de plusieurs mètres sur laquelle étaient inscrits les noms de Di Franco et < Dembélé >.\",\n",
       " \"En seulement deux jours, plus de [ 50 % ] des rizières étaient détruites. Les autorités locales ont pris des mesures, des pulvérisateurs d'insecticide étaient mis à la disposition de { tous } pour y remédier.\",\n",
       " 'Le [ porte-parole ] du { gouvernement } a également été abattu.',\n",
       " 'Le gouvernement de la { Somalie } a annoncé avoir déjoué une tentative de coup d\\'État. Au [ micro ] de la presse nationale, plusieurs personnalités membres de l\\'Association pour la \"Libération des Opprimés\" sont montées au créneau pour dénoncer la mauvaise foi du gouvernement.',\n",
       " 'Leur groupe comptait une [ vingtaine ] de { personnes } vêtues de tee-shirts verts, qui tenaient une banderole sur laquelle était écrite la phrase suivante : \"Nous voulons vivre dans un Canada sans danger\".',\n",
       " 'Le groupe armé \"Paix et liberté pour la Mauritanie\" a [ pris le pouvoir ]. L\\'[ attaque ] a eu lieu le 3 août 2016 aux environs de 14h. Ensuite, leurs équipes au sol [ se sont introduites ] dans les bâtiments et [ ont menacé ] les gardes avec des mitraillettes et des couteaux. Des { journalistes } ont affirmé que le groupe avait eu le soutien de l\\'association française \"Espoir et vie\".',\n",
       " \"Peu après, quelques membres de l’{ organisation } sont arrivés sur les lieux à bord d'un [ véhicule ] neuf.\",\n",
       " 'Touchées, de nombreuses personnes lui ont envoyé des cartes de condoléances et des { fleurs }. D’[ autres ] personnes, membres de l’organisation \"Foi inébranlable\", ont fortement désapprouvé l’acte.',\n",
       " 'Mais grâce aux [ caméras de sécurité ] de la ville et au travail acharné des agents de la police municipale, les malfrats ont pu être identifiés. Une équipe de la police dirigée par Martin Deneuve a appréhendé les braqueurs qui se cachaient dans une { maison abandonnée } localisée à Reims (Latitude 49.258329).',\n",
       " \"L'incident est dû à une défaillance technique au niveau du volant du [ véhicule ]. Les secours sont arrivés trop tard sur { place }.\",\n",
       " 'Les secouristes munis de combinaisons continuent de chercher des { corps }. La [ population ] est sous le choc et craint que cela se reproduise.',\n",
       " 'Le 09 février 2014, Madame < Xenia Clavier >, présidente de l’association « aide pour tous » au Nigeria, a distribué de la nourriture, des médicaments et des vêtements aux porteurs du virus. Madame < Xenia > a déclaré à la télévision et à la radio locale que c’est un petit geste pour apporter du soutien aux victimes de son pays natal.',\n",
       " 'Membres de l\\'association \"Mexico Limpio\", le Mexicain M. Peter Carlos et sa collègue Mme Sheylah Nairone ont été retrouvés parmi les victimes du crash de l\\'avion NV123 en [ décembre 2010 ] en Norvège. Des { bateaux } et des hélicoptères ont été mobilisés pour se rendre sur le lieu du crash.',\n",
       " 'La vieille dame a immédiatement été transportée aux < urgences >.',\n",
       " '[ Elle ] a été directement admise sur un brancard à l’hôpital, pendant que la police interrogeait le { conducteur } de la moto.',\n",
       " 'En effet, { Nao Clark } étant né à [ Londres ], { il } possède également la nationalité anglaise.',\n",
       " 'Certains ont dû être assistés par les secours qui leur ont mis des masques à oxygène, des pansements ont été utilisés pour soigner les blessures superficielles, et les [ blessés ] les plus graves ont dû être acheminés à l\\'hôpital. Le représentant de l\\'ONG \"{ Pacifica }\" a déploré un tel incident.',\n",
       " 'Ce 6 juillet 2015 à Bruxelles, Madame { Jeanne-Rose Durant }, Responsable de production de l’usine « Bruxos-Pestos », a supervisé la fabrication de cent cinquante bidons de pesticides bios. Les bidons ont été chargés dans un camion de livraison, lorsqu’une explosion s’est produite dans l’[ usine ]. Informée de la situation, { Jeanne-Rose Durant } a aussitôt pris des mesures adaptées. Tous les employés de Bruxos-Pestos ont été évacués de l’[ usine ]',\n",
       " 'Le [ 31 décembre 2011 ], un accident a eu lieu à Belleville. Elle a tapoté à la porte avec sa { canne } pendant plusieurs minutes, sans aucune réponse.',\n",
       " \"Pendant les affrontements, des échanges de tirs ont eu lieu et Gibryl Walker est [ tombé ] sur la pile de cartons. En [ tombant ], il a accidentellement répandu sur son visage la poudre de cocaïne contenue dans les cartons. Une fois l'opération terminée, les secours ont constaté que Monsieur Gibryl Walker gisait sous la voiture, mort d'une { overdose } à cause de la drogue qu'il avait inhalée malgré lui.\",\n",
       " \"Son directeur de campagne, Monsieur Alain Dupont, lui avait trouvé des bureaux de vote et des urnes pour qu'il rencontre la [ population ]. En ce qui concerne la communication, Alain Dupont avait fait imprimer des affiches et des bulletins promouvant le { parti } d'Ahmed Ludovic.\",\n",
       " 'Les deux [ entités ] ont mis sur pied une formation spéciale pour les agents de police. Monsieur Neri Roberts, le premier ministre du Brésil espérait que cette collaboration allait éradiquer ce fléau qui empêchait les { populations } de vivre paisiblement.',\n",
       " '{ Il } s’est fracassé plus bas contre une [ portière ] de voiture qui était ouverte.',\n",
       " \"Seuls survivants de ce terrible accident, ils ont immédiatement contacté leurs { proches } grâce à leurs téléphones. Selon des sources anonymes, l'appareil NV123 a connu un dysfonctionnement technique que les [ pilotes ] n'ont pas pu contrôler.\",\n",
       " \"Quelques instants après, les { manifestants } se sont mis à saccager les rues alentour à l'aide de barres de fer et de [ pierres ].\",\n",
       " 'Après plusieurs recherches non fructueuses, les policiers ont enfin pu observer sur les caméras de surveillance Madame Nayeli Hill conduisant une { voiture } noire immatriculée [ SWX954 ].',\n",
       " 'Ce matin, Monsieur { Issaga Wright }, directeur général de la Centrale nucléaire bienveillante du Japon, a réceptionné la livraison d’un camion contenant des tables de bureau dont les pieds étaient hauts de 65 cm. Aussitôt, l’[ alarme d’urgence ] s’est déclenchée et un protocole d’évacuation a été mis en place.',\n",
       " \"Un { élève de 5e année } avait concocté un cocktail spécial, conservé dans un fût, pour l'occasion. Une ambulance est rapidement arrivée sur place et les secouristes ont déposé la [ victime ] sur une civière.\",\n",
       " 'Le corps du jeune { homme } a été transporté sur une [ civière ] puis conduit à la morgue.',\n",
       " 'Monsieur { Cheryane Sanchez }, un [ employé ] de la compagnie de transport routier \"Roudex\", a été blessé lors d\\'une opération de déchargement de plus de 220 tonnes de blé au port de Bordeaux.',\n",
       " \"Des milliers de personnes se sont retrouvées sur { Lombard Street } ce 15 août 2018 afin de célébrer la nouvelle décision du gouvernement sur l'immigration. À la fin de la manifestation, les participants ont distribué des sandwichs, des [ biscuits ] et du jus de fruits aux passants qui étaient assis sur les bancs en bord de rue.\",\n",
       " 'Le suicide de Madame Milena Trameur survenu le 15 juin 2022 à Marseille a bouleversé toute la { population } marseillaise. Assistante sociale depuis vingt ans, elle était bien connue de ses { concitoyens } notamment pour son implication au sein de l’association «\\xa0Des droits pour chacun, des droits pour tous\\xa0». Offrant régulièrement des repas et des médicaments aux [ sans-abri ], et récoltant des livres, des carnets ou encore des stylos pour les offrir à des orphelinats, Milena Trameur était reconnue pour sa bravoure et sa grande générosité.',\n",
       " \"En 2011, la banque SSD à { Belize } a décidé de suspendre ses paiements face à la trop forte demande de crédit. Elle a été rapidement suivie par les autres banques du { pays }, en particulier la banque DDF, ce qui a causé un accroissement important du taux de l'escompte. Cette déclaration n’a pas étonné la population au vu du prix élevé des véhicules et du [ carburant ].\",\n",
       " \"Ce matin à [ Milan ], Jorris Da Silva et deux membres de l'association Milan Chimie universelle, ont apporté deux gros cartons à un orphelinat de la [ ville ]. L'école a été évacuée immédiatement et une { équipe d'intervention } est vite arrivée sur les lieux.\",\n",
       " 'Leur échange portait sur les actions à mener afin de faire connaître l\\'ONG pour laquelle tous deux travaillent, \"Santé sans frontière\", en [ Gambie ]. Apparemment, les freins de sa voiture ne répondaient plus et il s\\'est retrouvé inconscient à l\\'{ hôpital }.',\n",
       " \"Le 11 juin 2010, un terrible accident de voiture a eu lieu au [ Guatemala ]. Selon sa { famille }, Monsieur Joshua Clavier a pu recevoir les soins nécessaires et son état de santé s'est rétabli.\",\n",
       " 'Des centaines de manifestants, vêtus de t-shirts rouges, ont défilé hier matin en direction du [ Palais de l\\'Élysée ] à Paris dans le cadre d\\'une grève nationale. Munis d\\'une pancarte et d\\'un mégaphone, Madame Laura Chazal, porte-parole des manifestants et présidente de la fondation \"{ Solidarité }\" à Paris, s\\'est adressée au gouvernement.',\n",
       " 'D\\'après le proviseur du lycée technique de Bourgogne, Monsieur Biagui Dupond, \"la [ conductrice ] de 19 ans a perdu le contrôle du véhicule sur une plaque de verglas, puis le véhicule a chuté de 10 mètres avant d\\'atterrir dans le lac\". { Un } des passagers a réussi à prévenir les secours et s\\'en est sorti.',\n",
       " 'Un arbre, une vie }\", a été cambriolé par des voyous à son [ domicile ].',\n",
       " 'Il y a une semaine, le < maire > de la ville de Toronto a dénoncé l’organisation d’un regroupement illégal de personnes prévu pour se tenir au High Parc.',\n",
       " \"Heureusement, la blessure était légère et il a pu arrêter le sang de couler avec une écharpe jusqu'à son arrivée à l'< hôpital >.\",\n",
       " \"L’incendie du tunnel de Limerick est un sinistre survenu du 24 au 26 mars 2009, dans le tunnel de Limerick en { Irlande }. Il a été provoqué vers 11 h par l'embrasement d'un camion frigorifique semi-remorque transportant de la [ margarine ] et de la farine, à environ 7 km du tunnel.\",\n",
       " \"Le super-navire Thang Long, mis en service le 6 mai dernier, a coulé avec à son bord plusieurs [ passagers ]. Il a été fabriqué par l'ingénieure { Amantine Müller }.\",\n",
       " 'Suite à l\\'épidémie de choléra qui a été déclarée dans la ville de Banfora, les { membres } de l\\'ONG \"Help for All\" se sont rendus au Centre Hospitalier Régional de Banfora. { Ils } ont apporté des médicaments ainsi que des couvertures et des blouses pour le personnel soignant. M. [ Wallen Simporé ], le président de l\\'ONG, a déclaré que ses collaborateurs étaient formés pour faire face à ce genre de situation. [ Il ] leur a toutefois demandé de faire attention à ne pas être contaminés en portant toujours des masques et en évitant de manger dans des plats souillés.',\n",
       " \"La 10e édition d'une course de rallye a débuté le 26 novembre 2019 en { Allemagne }. Le gagnant devait être récompensé d'une importante somme d'argent et les autres membres du podium devaient recevoir respectivement du [ matériel de voiture sponsorisé ] et des bons d'achat.\",\n",
       " 'Le Français { Martin Charles-Hugo }, membre de l’association « les handicapés ont des droits », a été retrouvé mort au bord de sa voiture le 16 avril 2018 à Madagascar. La nouvelle s’est vite répandue sur les réseaux sociaux par des vidéos et [ photos ] que les citoyens ont postées.',\n",
       " 'Charles Joseph, ancien président du Club des Patrons de Buenos Aires, a été arrêté par la < police > à Mendoza.',\n",
       " 'Plusieurs { véhicules } ont été piégés au milieu d\\'un pont. La [ nuit ] a été baptisée \"la nuit rouge\", à cause des lanternes rouges des camions des pompiers qui était allumées dans toutes les rues la ville.',\n",
       " 'Ce 10 avril 2016, des centaines de < personnes > se sont rassemblées dans le plus grand parc de la ville. < Elles > ont pu y goûter les différents mets qui étaient installés sur les stands de dégustation. Plusieurs restaurateurs, vêtus de leurs tabliers et toques, ont fait découvrir de nouvelles saveurs aux < visiteurs >. M. Lyess Rodriguez, propriétaire du \"Taste Me Groom\", a exprimé toute sa gratitude aux < participants >.',\n",
       " 'Ce matin, au Luxembourg, une jeune femme nommée Defne Li, présidente de \"{ l’Ordre des Consommateurs Éclairés }\", a effectué un [ communiqué ] à la télévision.',\n",
       " \"M. Tahyss Brown, un aide-soignant, a été très peiné en nettoyant avec du coton les plaies d'une écolière en [ hijab ]. De nombreux { corps } sans vie ont été recouverts d’un tissu blanc.\",\n",
       " \"Cette annulation est due à la mort soudaine d'une des [ membres ] de l'organisation. Monsieur { Majid Dos Santos } a tenu une conférence de presse pour expliquer ce qui s'était passé. { Il } a expliqué que la victime n'avait pas mangé avant de partir de l'hôtel et qu'il n'avait pas apporté d'aliments sucrés avec lui. Monsieur { Majid Dos Santos } a raconté que l'événement avait commencé très tôt et que la victime, qui avait faim, s'était évanouie.\",\n",
       " \"Cependant, le gérant s'est engagé à fournir de nouveaux forfaits de navigation aux { clients } qui n'avaient pas épuisé leur forfait, juste avant l'[ incendie ].\",\n",
       " 'En effet, les trente personnes composant le personnel ferroviaire de la \"Compagnie nationale Trans-Gare\" se sont mobilisées à la < gare > de Busan pour dénoncer les conditions de travail et les salaires indigents qui ont été les leurs.',\n",
       " 'Le 16 décembre 2022, Mme Agatha Constant, présidente de la fondation \"Buenos\", a été aperçue lors d\\'un mouvement de coup d\\'État en [ Allemagne ]. Cette dernière était parmi les manifestants qui réclamaient la démission des membres du gouvernement de son [ pays ]. La { manifestation } s\\'est déroulée dans le calme car les demandeurs se sont exprimés via des pancartes et des tee-shirts graffités.',\n",
       " 'Mayare Gómez, un caméraman filmait le match, quand un [ groupe de personnes ] a soudainement dévalisé les gradins pour rentrer sur le terrain et été arrivé jusqu’aux grilles de protection qui avaient cédé sous leur poids. Les ambulances étaient saturées à cause des nombreux { blessés }.',\n",
       " 'Les { citoyens } sont tous sortis dans les [ rues ] avec une casquette rouge.',\n",
       " 'Le < directeur > de la société a adressé un courrier aux grévistes, leur demandant de reprendre le travail sous peine d’être licenciés.',\n",
       " 'Lili-May Lopez, veuve d’un des [ ingénieurs ], a créé l’association Justice pour nos Défunts pour réclamer que la lumière soit faite sur ce qui s’est réellement passé. Le { Syndicat des Travailleurs Libres } s’est joint à cette association afin de demander en plus, des conditions de travail plus sécurisées dans les centrales nucléaires du pays. Selon le responsable de ce { syndicat }, l’uranium n’est pas stocké selon les normes et les générateurs de vapeur et mobiliers sont vétustes.',\n",
       " 'Le 15 septembre 2022, Monsieur { Christophe Pautrat }, le président de l\\'association \"Helping\", s\\'était rendu au siège de son association à Londres dans le cadre d\\'une réunion très importante. Après la fin de la réunion, { il } était sorti de l\\'immeuble et avait été pris en otage par un cambrioleur. Il avait enroulé ses bras autour du cou de Monsieur { Christophe Pautrat } et { lui } avait pointé son arme sur la tête. Alors que les [ policiers ] le tenaient en joue, il reculait doucement vers sa moto. Monsieur { Christophe Pautrat } a été admis au service d\\'urgence. { Il } n\\'a eu que de légères blessures.',\n",
       " 'À quelques kilomètres de la ville, des campements ont été établis avec des tentes et des [ parasols ]. Bianka Wilson, la ministre de la Santé, a annoncé que des couvertures isothermiques de deux mètres de large ont été distribuées aux parents d’{ enfants } en bas âge et aux personnes âgées.',\n",
       " \"En effet, un concert pour une levée de fonds devait se dérouler au Stade Roi Baudouin, en partenariat avec l'association des artistes et l'association des producteurs d'Europe, dans le but d'aider les [ enfants les plus démunis ]. Après l'incident, la représentante des deux { associations }, López Annyssa, a annoncé que le concert serait reporté et que les billets déjà vendus resteraient valables.\",\n",
       " \"Le 23 mai 2017, l'association protégeant les droits des enfants a décidé de construire un { terrain de basket } pour les jeunes de Marrakech. Cependant, deux ans après la construction du { terrain }, les habitants ont commencé à avoir des différends concernant sa gestion. Le maire de la ville, Monsieur Kireg Mohamed, a expliqué que les habitants du quartier Est, zone où se trouve le { terrain }, ne laissaient pas les habitants du quartier Ouest { l' }utiliser. D'après certains jeunes du quartier Est, cette opposition est due au fait que ceux du quartier Ouest salissent le { terrain } et n'utilisent pas les poubelles disposées dans la zone. Jeudi dernier, l'inévitable s'est produit et a entraîné l'envoi à l'[ hôpital ] d'Hassan Mohamed, le fils du maire. D'après des sources anonymes, des jeunes du quartier Ouest sont entrés sur le { terrain } sans l'accord du gardien. Ce dernier a prévenu des gens qui se trouvaient là, qui ont commencé à tabasser les quatre jeunes présents sur le { terrain }. Sans l'intervention de la gendarmerie, la confrontation a été sanglante, sans compter la destruction des biens comme les véhicules stationnés à côté du { terrain }.\",\n",
       " 'Membres de l\\'association \"Mexico Limpio\", le Mexicain M. Peter Carlos et sa collègue Mme Sheylah Nairone ont été retrouvés parmi les victimes du crash de l\\'avion [ NV123 ] en décembre 2010 en Norvège. Seuls survivants de ce terrible accident, ils ont immédiatement contacté leurs proches grâce à leurs { téléphones }. Ils ont été localisés grâce au GPS et au signal radio de leurs { téléphones }.',\n",
       " \"Le chef du syndicat de l'association des éboueurs de la ville d'[ Agadir ] a tenu un discours sur la place du marché. Au milieu d'une vingtaine de ses { collègues }, le syndicaliste a dénoncé les conditions de travail des éboueurs au Maroc.\",\n",
       " 'Un incident s’est produit le 6 janvier 2016 à [ Paris ]. L’association \"tous contre la sédentarité\" a organisé une marche d’une dizaine de kilomètres dans la [ ville ]. M. Inan Taylor, responsable de l’association \"tous contre la sédentarité\", a joint les { pompiers } sur son smartphone.',\n",
       " \"Selon les informations du Service des premiers secours, «\\xa0les [ deux ] victimes et le pilote étaient les seuls occupants de l'{ appareil }\\xa0».\",\n",
       " 'Au Burkina-Faso, les { citoyens } sont heureux de l\\'élection de M. Ludovique Ali en tant que président de la République. C\\'est ainsi que les membres de \"l\\'Association pour un Travail Équitable\" ont choisi de faire une grande marche de Cissin à [ Ouagadougou ]. Vêtus de vêtements à l\\'effigie de M. Ludovique Ali, les citoyens sont arrivés dans la [ capitale ] après plusieurs heures de marche.',\n",
       " 'Le 28 avril 2008, en Arizona, la société \"{ Lightning.corp }\" a testé le lancement d\\'une fusée. L\\'un transportait de l\\'hydrazine et l\\'autre du [ peroxyde d\\'azote ].',\n",
       " \"Le [ 30 avril 2019 ], des chercheurs en route pour le Mali ont été victimes d'un accident. Heureusement, { un } des passagers à bord a réussi à envoyer un SMS de secours en indiquant sa localisation.\",\n",
       " 'La réaction des soldats présents a immédiatement incité le { reste des étudiants } à se joindre à la révolte. Les membres du parti politique présents ont toutefois pu être reconduits sains et saufs grâce aux soins du capitaine M. [ Rilana Rodriguez ].',\n",
       " \"Provoqué vers 11 h par l'{ embrasement } d'un camion frigorifique semi-remorque belge transportant de la margarine et de la farine, à environ 7 km du [ tunnel ], le violent incendie cause la mort de plusieurs personnes et entraîne la fermeture du [ tunnel ] pendant une durée d'environ 3 ans.\",\n",
       " 'Le 29 octobre 2020, un nouvel employé a rejoint l\\'organisation \"{ Pékin laborus }\", basée à Pékin. Monsieur Amédée, un autre laborantin qui travaillait dans le [ laboratoire voisin ], est accouru en entendant le bruit.',\n",
       " 'Il a félicité les différents { agents } qui ont assuré la sécurité des urnes et des bulletins de vote tout au long de la journée. Ils ont remercié les citoyens qui leur ont fait confiance et assuré que la distribution de livres et jouets dans les [ écoles ] du pays allait continuer malgré ce changement.',\n",
       " 'Les blessés ont été déposés dans les { centres de santé voisins } afin de recevoir les soins et les [ médicaments ] nécessaires.',\n",
       " 'Lors de ce défilé, une émeute agressive a éclaté entre les { manifestants } et la [ police ] béninoise, provoquant de graves dégâts matériels dans la capitale de l’Allemagne.',\n",
       " \"Jeudi 12 mars 2009, aux urgences du CHU PZAGA Mahajanga de Madagascar, le personnel médical a été sollicité suite à un accident de la route entre un bus scolaire et un camion-citerne transportant de l'{ essence }. Malgré une bonne [ dizaine de minutes ] de réanimation, elle n'a pas survécu.\",\n",
       " 'Arrivée sur le lieu de l’accident, la { police } a pu identifier la [ victime ] grâce à sa carte d’identité nationale et ses cartes de crédit.',\n",
       " 'Les résultats des { élections municipales } en Tunisie ont été communiqués ce matin sur la chaîne nationale de télévision. Cela a déclenché quelques [ agitations ] à Tunis, car les membres du parti \"Agir pour Tous\" contestent ces résultats. Ils estiment que leur organisation aurait dû remporter cette { élection }. La police a violemment [ réprimé ] les manifestants et plusieurs personnes ont été blessées. M. Arthur Laurent, un témoin des [ événements ], a affirmé que la police a abusé de son pouvoir en [ attaquant ] les citoyens avec du gaz lacrymogène.',\n",
       " \"Un incident a eu lieu le mercredi 25 mars 2020, lors de l'inauguration du nouveau { laboratoire } du scientifique M. Smith Jounaidi au Mali. Ces derniers ont tout de même essayé d'utiliser des [ serviettes de table ] pour éviter de respirer l'air toxique, mais cela n'a pas empêché les irritations.\",\n",
       " 'Le jet privé du célèbre homme d’affaires Français M. { Djamilatou Trameur } s’est crashé en mer en Australie hier matin. L’appareil a été localisé grâce au signal émis par la radio et le [ satellite ]. Les affaires personnelles de la { victime } telles que son portable et sa tablette ont été saisies par les autorités australiennes afin d’informer ses proches de l’accident. Le { président } de l\\'association \"un pour tous\" est actuellement entre la vie et la mort dans un lit d’hôpital en Australie.',\n",
       " 'La visite officielle du ministre français [ Riwen Leguerrec ] dans la région corse, particulièrement hostile au nouveau gouvernement, suscite des manifestations de la part des populations. Un { membre } du cortège a malheureusement été grièvement blessé au cours de cette agression, qui a donné lieu à l’ouverture d’une enquête.',\n",
       " \"Elle avait acheté des [ fleurs ] à un vendeur ambulant. En sentant les [ fleurs ], elle a commencé à tousser puis à s'étouffer. Les { secours } sont arrivés et l'ont mise sur un brancard. { Ils } ont installé un cathéter et un masque à oxygène. Les médecins secouristes ont compris que la femme avait fait une réaction allergique au produit qui se trouvait sur les [ fleurs ].\",\n",
       " \"En effet, la famille Carter est l'une des plus grandes familles au [ Burkina Faso ] et, de surcroît, une famille respectueuse des droits de l'Homme. Monsieur Carter Khaola a réussi à s'échapper, mais dès le lendemain, des { journalistes } se sont rendus à son domicile pour l'interroger.\",\n",
       " \"Ils ont sorti leurs [ armes ] et se sont tiré dessus. À l'arrivée à l'{ aéroport }, la police a appréhendé l'avion en raison de son autorisation non conforme.\",\n",
       " 'Sa [ collaboratrice ], Mme Jeanne-Marie Abysse, née le 11 juillet 2000, fêtait son 20ème anniversaire ce jour-là. Elles ont été aperçues par leur { chef } qui a contacté les secours.',\n",
       " \"Le site d'élimination des [ déchets industriels ], situé dans le { Nord-Pas-de-Calais }, a été temporairement fermé.\",\n",
       " \"Lors d'un incendie qui s'est déclenché dans un appartement à Prague le 2 octobre 2001, M. Franzy Rodriguez, une jeune recrue de la [ brigade ] des pompiers et fils de M. { Alberto Rodriguez }, un brave membre de l'[ équipe ], a été appelé pour aider l'[ équipe ].\",\n",
       " \"Le Canadien M. Rivera Alberic, président de l'Association contre le racisme, a eu un accident de voiture alors qu'il se rendait à l'[ ambassade ] des États-Unis. Monsieur Rivera Alberic s'en est sorti sans aucune égratignure et a pu se rendre à son { entretien } pour déposer sa demande de nationalité américaine. Cependant, une fois [ sur place ], il s'est rendu compte qu'il avait oublié sa mallette chez lui.\",\n",
       " \"Les voitures et motos étaient hors service par manque de carburant dans les [ stations ]. Joshua Clavier, un gardien d'{ usine } interrogé à la télévision, a déclaré que le peuple faisait face à une perte de son pouvoir d’achat.\",\n",
       " \"Pour ses vacances, Francine Miller était revenue dans sa ville natale en [ Bolivie ]. En sentant les fleurs, elle a commencé à tousser puis à s'{ étouffer }.\",\n",
       " \"Parmi eux se trouvait une trentenaire nommée { Constance Dupuis }. { Fervente chrétienne catholique }, { elle } était responsable du groupement DEJEZ de la paroisse. [ Le jour des funérailles ], les jeunes du groupe ont tous chanté en l'honneur de l'évêque, et de nombreuses chaînes de télévision et de radio sont venues.\",\n",
       " 'Mme Adeline Laurent, une dame d’environ quatre-vingts ans a été retrouvée morte à son [ domicile ] ce matin. Les voisins et { proches } de la disparue se sont rendus dans la maison mortuaire avec des fleurs pour un dernier hommage.',\n",
       " 'Cet incendie, qui a fait [ dix ] victimes, a eu lieu dans les locaux de la secte \"Les messagers de Dieu\" au Venezuela. Alors que les { enquêteurs } croyaient jusqu\\'à présent qu\\'il s\\'agissait d\\'un suicide collectif, un nouvel élément tendait à faire croire qu\\'il s\\'agissait plutôt d\\'un incendie criminel.',\n",
       " \"Il a immédiatement été transporté en [ hélicoptère ] à l'{ hôpital }.\",\n",
       " 'Un [ avion-cargo ] \"[ Antonov ]\" s\\'est écrasé à Kavala, dans le { nord } de la Grèce, avec près de 11 tonnes d\\'armements.',\n",
       " 'Le suicide de Madame Milena Trameur survenu le 15 juin 2022 à { Marseille } a bouleversé toute la population marseillaise. Offrant régulièrement des repas et des médicaments aux sans-abri, et récoltant des livres, des carnets ou encore des [ stylos ] pour les offrir à des orphelinats, Milena Trameur était reconnue pour sa bravoure et sa grande générosité.',\n",
       " 'Afin de faire face à la pandémie, Le Ministère de la Santé, dont le siège se trouve à Tunis, a mis en place un protocole médical précis et a fourni aux hôpitaux des [ antibiotiques ] et des perfusions sous-cutanées servant à l’hydratation des { malades }.',\n",
       " 'La chance n\\'a pas souri à, Madame Antonie Moore, la Présidente de l\\'association \"[ Vie Profonde ]\". Alors qu\\'elle partait des locaux de son [ ONG ] le 30 juillet dernier, sa voiture est entrée en collision avec un camion. Le { personnel médical } lui a administré des soins intensifs et nous attendons toujours le verdict.',\n",
       " 'Le crash aérien survenu le 23 décembre a plongé l’{ Angola } dans la stupeur. Les secours, alertés par le contrôle aérien, se sont rendus avec leurs [ équipements ] sur les lieux, mais n’ont trouvé aucun survivant.',\n",
       " 'Durant la nuit du 6 février 2020, la résidence présidentielle et les demeures de plusieurs [ membres ] du gouvernement ont fait l’objet d’attaques armées. Les { assaillants } identifiés comme des partisans du Mouvement pour la Nouvelle Gloire de l’Allemagne étaient à bord d’hélicoptères et de véhicules blindés.',\n",
       " \"Sohane Martin, un homme d'origine espagnole né à Rabat, se rendait dans la zone commerciale pour acheter des vases en terre cuite et des [ plateaux ] en bronze sertis de pierres. Repéré par une bande de { voleurs }, il a été entraîné de force dans une ruelle déserte, poignardé à plusieurs reprises avec un couteau, puis dépossédé de tout son argent. La police marocaine compte sur les caméras de surveillance de la rue principale pour identifier les { agresseurs } parmi les passants.\",\n",
       " '« [ Je ] coule » : onze heures après avoir envoyé ce message, la cheffe de bord [ Arsenia Walker ] a été sauvée dans la nuit du 2 au 3 décembre 2020 par un { autre concurrent } du Vendée Globe.',\n",
       " \"Un accident a eu lieu hier dans la ville française de Chambéry, à une longitude de [ 5.917781 ]. La victime, brûlée chimiquement à différents endroits du corps, a été transportée par ambulance à l'{ hôpital } le plus proche.\",\n",
       " \"Afin de lutter contre l’épidémie de méningite qui sévit à Nice, les membres de l’ONG { Santé Équitable } et de l’Association pour les Malades de Nice ont effectué ensemble des visites dans les hôpitaux. Leurs objectifs communs étaient d'offrir des [ médicaments ], du matériel de laboratoire et des blouses au personnel soignant. Madame Léna Trameur, la responsable de l’ONG { Santé Équitable }, a assuré que les visites continueront jusqu’à ce que l’épidémie soit endiguée.\",\n",
       " \"Charles Laurent, un membre d'une organisation similaire à Rouen, a assuré qu'il allait envoyer des fonds pour venir en aide aux { nécessiteux } jusqu’à ce que la situation soit sous contrôle. Les [ autorités ] municipales ont demandé du renfort au gouvernement afin d’assurer le bien-être des habitants de la ville.\",\n",
       " \"Selon les premières informations, un moteur du navire a [ explosé ], ce qui a provoqué un incendie et donc la destruction de l'engin. Plusieurs { passagers } de la croisière ont réussi à s'en sortir grâce aux gilets et canoës de sauvetage rapidement mis à leur disposition par les membres de l'équipage.\",\n",
       " 'Le 14 août 1999 à [ Beijing ], le centre de recherche \"Xiu-Fang.lab\" a testé son nouveau prototype de centrifugeuse à base d\\'un aimant à moteur magnétique. Pendant le test, une baisse de tension s\\'est produite puis a repris, et l\\'un des tubes dans l\\'appareil { s\\'est détaché }.',\n",
       " 'Le 12 septembre 2016, les membres de la Coalition pour la Science Consciente { sont descendus } dans les rues de Toulouse. Leur objectif était de sensibiliser la population sur la propagation d’un nouveau virus qui faisait déjà des ravages dans la ville, créé accidentellement dans un laboratoire toulousain le [ 13 juin 2016 ] par Loranne Walker.',\n",
       " \"Selon M. [ Antoine Manier ], le directeur du groupement, les citoyens lambda ont peu de connaissances en finance. M. [ Antoine Manier ] souhaite profiter de ce meeting pour appeler les populations à s’adresser aux professionnels de la finance avant d'investir. M. { Grégoire Laporal } voulait se rendre au meeting pour savoir comment investir au mieux l'argent qu'{ il } a volé, mais étant recherché par les services de la police française, { il } n'a pas pu y aller.\",\n",
       " \"La < police > a ouvert une enquête pour connaître la cause qui l'a poussée à mettre fin à sa vie le jour de son mariage.\",\n",
       " 'Elle affirme que les { auteurs } développent des techniques de plus en plus élaborées pour faire passer les bouteilles subtilisées à la [ caisse ] sans payer.',\n",
       " 'Cette dernière a ajouté : \"Le feu avait déjà atteint notre fenêtre, ce qui nous a réveillés, et c\\'est alors que le gardien a appelé les { sapeurs-pompiers } au [ téléphone ]\".',\n",
       " '[ Au beau milieu ] du cocktail, le directeur de l’usine, Monsieur Jean-Marin Rodriguez, a majestueusement ouvert le champagne avec un sabre. Une grande quantité de pétrole mal stocké par un employé négligeant a déclenché un { incendie }.',\n",
       " \"[ Celle-ci ] a promis de faire parvenir à la { police } française tout document pouvant les aider dans leurs enquêtes, car [ elle ] n'était pas au courant de ce trafic de drogue.\",\n",
       " '{ Elle } conduisait sa [ fille ] pour une sortie avec son école en avion privé.',\n",
       " 'Monsieur Lewis importait ces parfums de la { Turquie } et de [ Dubaï ], puis les écoulait via des sites internet.',\n",
       " \"En effet, les manifestants accusent le { gouvernement } d'avoir falsifié les résultats. [ Luca Carter ], le chef d'état-major, a dû dépêcher des soldats de l'armée pour gérer la situation.\",\n",
       " \"La fête de retrouvailles des { habitants } de Krutenau qui s'est déroulée ce 12 juillet 2016 a été un franc succès. Avec des guitares et des flûtes, plusieurs musiciens ont improvisé des mini-concerts dans les [ rues ] du quartier. Dans l'après-midi, les { habitants } se sont retrouvés sur la place principale où { ils } ont dégusté des tourtes et des entremets offerts par la pâtisserie Nuage de Délice. Malice Chazal, leader de la jeunesse de Krutenau, a remercié tous les { participants } et offert une écharpe en cachemire rouge à Maya Courtel, la propriétaire de la pâtisserie.\",\n",
       " \"D'après son { conducteur }, l'appareil a connu une dysfonction technique au niveau du guidon. Les [ témoins ] ont alerté les secours au portable.\",\n",
       " \"Après que les médias aient diffusé la nouvelle à la télévision, des groupes de femmes se sont rassemblés devant le [ portail ] du poste de police en revendiquant, avec leur mégaphone, de faire sortir l'{ agent de police } pour { le } lyncher à coup de matraque, comme { il } avait tabassé Mademoiselle Meïlie.\",\n",
       " 'Quelques kilomètres plus loin, la voiture a été interpellée par la [ police ] au niveau d\\'un péage d\\'autoroute. La [ police ] a ordonné à Madame Neïa Rivera d\\'ouvrir le conteneur. Elle a présenté les papiers du { directeur } du restaurant \"Le Lotus Bleu\" concernant l\\'autorisation de transporter la marchandise et l\\'interdiction de toucher à la cargaison. La [ police ] a pris la décision de couper le cadenas avec une énorme pince coupe-boulons.',\n",
       " \"Ils ont apporté des médicaments ainsi que des couvertures et des [ blouses ] pour le personnel soignant. M. { Wallen Simporé }, le président de l'ONG, a déclaré que ses collaborateurs étaient formés pour faire face à ce genre de situation. { Il } leur a toutefois demandé de faire attention à ne pas être contaminés en portant toujours des masques et en évitant de manger dans des plats souillés.\",\n",
       " 'La guerre civile rwandaise a opposé l’[ armée patriotique ] du Front patriotique rwandais aux Forces armées rwandaises. Les membres de l’[ armée ] remplissaient les rues et tenaient des armes à feu et des couteaux. Cette guerre a fait plusieurs { morts } et des millions de blessés.',\n",
       " \"Madame Keyssie Hall, responsable du groupe de militants pour la défense des forêts de la ville de Naples, s'est retrouvée en conflit avec son homologue de la ville de Bénévent [ hier matin ]. La police a utilisé du { gaz lacrymogène } pour disperser la foule.\",\n",
       " 'En effet, un scientifique avait renversé son { éprouvette } sur des petites cuves contenant une solution chimique sur la paillasse. La fumée toxique a asphyxié la journaliste et plusieurs personnes présentes ce [ jour-là ].',\n",
       " \"Dans l'usine de fabrication de substances chimiques { Ioni }, basée à Moscou, un feu s'est déclenché accidentellement sur les [ cubes ] de stockage de benzène.\",\n",
       " 'En effet, un [ nouveau zoo ] a été inauguré ce jour par les { autorités municipales }.',\n",
       " 'Ce 6 mai 2016, les membres du \"{ Groupement Financier Indépendant }\" se sont retrouvés sur la Place de la Bourse. Selon M. Antoine Manier, le directeur du { groupement }, les citoyens lambda ont peu de connaissances en finance. Les membres du { groupement } espèrent que les participants à la manifestation seront nombreux, le but étant d\\'en apprendre plus avant d’investir dans l\\'or et l\\'argent. M. Grégoire Laporal voulait se rendre au meeting pour savoir comment investir au mieux l\\'argent qu\\'il a volé, mais étant recherché par les services de la police [ française ], il n\\'a pas pu y aller.',\n",
       " \"Le but de cette manifestation était de faire valoir les droits des [ handicapés ] dans le milieu marin. Les accompagnateurs des [ personnes handicapées ] de l'association sont descendus dans la rue pour manifester. Monsieur Mauryn Roberts a été arrêté par la police car il avait blessé le { directeur } de la compagnie maritime avec sa béquille.\",\n",
       " 'Un drame s\\'est produit ce 25 décembre 1998 en { Russie }. Lors de la fête de Noël de la centrale nucléaire \"OTANIMA\", une barre de combustible d\\'un réacteur de la centrale nucléaire s\\'est accidentellement rompue, ce qui a provoqué un important incendie dans les [ locaux ] de la centrale et dans ses alentours.',\n",
       " \"Monsieur { Sébastien Couatarmanach } se trouvait dans le village au moment où le bombardement a eu lieu. { Il } disposait d'une voiture et a tenté d'évacuer quelques enfants pour les emmener en lieu sûr. À l'entrée de la ville, des équipes médicales étaient en place avec des ambulances pour prendre en charge les [ blessés ] venant de la forêt.\",\n",
       " 'Le 22 mai 2005, un incendie a eu lieu dans un grand [ magasin ] à New-York. Le feu s’est déclaré dans le grand [ magasin ] de la rue Neuve, nommé «\\xa0À l’Innovation\\xa0». La journaliste { Bella White } a perdu la vie dans l’incendie.',\n",
       " 'L\\'ancien chef de l\\'État et le [ ministre de la sécurité nationale ] ont été tués. Des journalistes ont affirmé que le groupe avait eu le soutien de l\\'{ association } française \"{ Espoir et vie }\". Mais Leila Deneuve, la représentante de cette { association } en Mauritanie, a fermement démenti cette déclaration.',\n",
       " \"Le bateau de croisière Royal Holidays a fait naufrage en mer [ Méditerranée ], au large des côtes de Malte. Selon les premières informations, un moteur du navire a { explosé }, ce qui a provoqué un incendie et donc la destruction de l'engin.\",\n",
       " 'Lors d\\'un concours de sciences, organisé par l\\'[ orphelinat ] \"Bon Avenir\", Sœur Elikya Harris, la directrice de l\\'[ orphelinat ], faisait une ronde munie de sa canne. En voulant les aider, elle a accidentellement { cassé } un tuyau pressurisé de l\\'installation conduisant de l\\'acide.',\n",
       " \"Le 30 avril 2019, des chercheurs en route pour le Mali ont été victimes d'un [ accident ]. Il est [ tombé ] d'une falaise de plus de 350 mètres. Il n'y avait eu aucun témoin de la [ scène ]. Heureusement, un des { passagers } à bord a réussi à envoyer un SMS de secours en indiquant sa localisation. Les secours sont alors le plus vite possible sur les lieux de l'[ accident ].\",\n",
       " \"Le 23 octobre 2006, dans le cadre d'une collaboration entre l'université du [ Texas ] et l'université de New York, un match de football a eu lieu. Une réaction en chaîne s'en est suivie et le feu d'artifice s'est { déclenché } prématurément.\",\n",
       " 'Les manifestants, pour la plupart des femmes, avait écrit des demandes sur des [ parapluies ] de couleur noire et portaient tous des T-shirts blancs. Quelques heures après les affrontements entre manifestants et { policiers }, les voitures ont à nouveau pu circuler normalement.',\n",
       " 'Grâce à l’arrestation de [ plusieurs ] passeurs, les faux documents utilisés pour convoyer les { véhicules } ont pu être identifiés et l’homme à la tête de ce trafic, Rock Spencer, a pu être arrêté ainsi que ses hommes de main.',\n",
       " 'Au cours de ces manifestations, de nombreux dégâts ont été causés aux [ équipements publics ] tels que les poteaux électriques et les poubelles publiques. Des { commerces } et des concessionnaires de véhicules ont été vandalisés.',\n",
       " 'Grâce à un agent infiltré dans l’[ un ] des quartiers les plus dangereux de la ville, le réseau de fabrication de cigarettes contrefaites a été peu à peu remonté jusqu’à l’identification d’une usine clandestine, située en périphérie. Lors de la descente de la police, les trafiquants sont parvenus à mettre le feu à l’usine et à s’enfuir, sauf l’{ un } d’entre eux qui a été tué dans l’incendie.',\n",
       " 'Dans le courant du [ mois de septembre ], les cours des entreprises du secteur ferroviaire ont donc enregistré une forte baisse à la Bourse. Cette déclaration n’a pas étonné la population au vu du prix élevé des { véhicules } et du carburant.',\n",
       " \"Une { citerne d'ammoniac } a explosé au sein de l'usine d'engrais Indie, nommée d'après la directrice, Madame Indie Moore. L'incendie a causé soixante morts et on compte une [ centaine ] de blessés.\",\n",
       " 'La banque [ BDF ] a été prise d’assaut par des { individus } portant des cagoules.',\n",
       " \"Un camion lourd a percuté une terrasse de [ café ], blessant gravement Madame Elsa Alibert qui profitait du soleil sur la terrasse, ainsi que plusieurs autres personnes. Des { experts } ont confirmé cette version après avoir examiné le véhicule et constaté des dommages au conduit d'air des freins.\",\n",
       " 'M. Sylviano Smith et les [ six ] autres membres de l’organisation éducation féminine universelle étaient réunis autour d’une table au moment du drame. Les cas les plus critiques ont été évacués dans des { hélicoptères }.',\n",
       " \"Il savait qu'il pouvait compter sur Thomas Joseph, son frère qui était aussi l’un des { conseillers } les plus écoutés du chef de l’État. Dans un communiqué radio, le [ porte-parole ] du gouvernement a déclaré que Monsieur Joseph serait traité comme un citoyen ordinaire, sans aucun traitement de faveur.\",\n",
       " \"Les invités ont d'abord suivi sur un vidéoprojecteur les { images } d'une famille épanouie ayant opté pour une meilleure gestion de leur contraception. Ces derniers ont ensuite écouté une jeune femme médecin, en blouse [ blanche ], présenter les différentes méthodes contraceptives ainsi que leurs avantages.\",\n",
       " 'Des émeutes ont éclaté aujourd’hui dans plusieurs { rues } du Grand Tunis. M. Arthur Laurent, le responsable du syndicat des travailleurs de \"l’Adek\", a déclaré dans un [ communiqué radio ] que des négociations étaient en cours pour retrouver le calme au plus vite.',\n",
       " 'Monsieur Miller Abdelhake, Responsable de l’ONG ‘’[ Cité Verte ]’’ a été victime d’un accident dans sa voiture. Il a ensuite contacté un { ami infirmier } qui lui a administré les autres soins nécessaires.',\n",
       " \"Les participants ont planté des fleurs dans les parcs de la ville et ont ensuite dégusté des { sandwichs } offerts par la mairie. M. Charles Laurent, qui vient d'être libéré depuis [ quelques jours ], était à Caen avec sa femme, originaire de cette ville.\",\n",
       " \"Les secours sont alors le plus vite possible sur les { lieux } de l'accident. Les corps des victimes ont été rapatriés par [ avion ].\",\n",
       " \"Le [ 13 février 2010 ], un violent cyclone a frappé la ville de Paris. Certains étaient invités à rester chez eux, et d'{ autres } ont été vivement recommandés de rejoindre un camp de refuge pour assurer leur sécurité.\",\n",
       " '[ Un des policiers ] a été abattu car [ il ] ne portait pas son gilet pare-balles. Monsieur Momen Martinez, le maire de la ville, avait espéré que cela aide les { policiers } à sécuriser les quartiers les moins bien fréquentés de la ville.',\n",
       " \"Des [ voitures ] et des motos ont été brûlées. Malheureusement, les { pompiers } n'ont pas pu arrêter le feu à temps.\",\n",
       " \"L'{ homme } s'était mis au milieu de la route et tenait une arme à feu pointée sur son cœur. { Il } ne cessait de crier le nom d'une femme, puis a appuyé sur la gâchette. Personne n'a intervenu par peur d'être touché par une [ balle ]. Quelques minutes plus tard, les ambulanciers ont transporté le corps du { défunt } jusqu'à la morgue de la ville.\",\n",
       " \"Au réveil, [ certains ] enfants de l'orphelinat toussaient énormément. La directrice du centre, une ancienne aide-soignante, a pris son thermomètre et son { stéthoscope } et a appelé les autorités pour signaler une possible épidémie de grippe contagieuse.\",\n",
       " 'Après avoir rappelé les conditions abusives dans lesquelles certains employés ont été renvoyés, il a proposé d’infiltrer le système informatique de l’ancien [ employeur ] à l’aide d’un logiciel espion ; ce qui { leur } permettrait de voler sur un support USB des données qui aiderait à prouver que les dirigeants sont corrompus et font du détournement de fonds.',\n",
       " \"La pluie a duré 5 jours consécutifs et a détruit le [ barrage d'eau ] qui se trouvait au sud de la ville. Cet évènement a été marqué par l'acte héroïque d'{ Aulde Da Silba } qui faisait des pompiers sur place. { Il } avait sauvé un bébé d'une noyade. Sans réfléchir, le { jeune homme } s'était jeté dans l'eau pour sauver le bébé.\",\n",
       " 'Le 6 avril 2018, la police a effectué une descente au domicile de Madame Nahil Pérez, la responsable de la société \"[ Macarena ]\". Peu après son arrestation, Madame { Janet Piroski }, l\\'{ ancienne assistante } de Madame Pérez, a déclaré à la télévision qu\\'{ elle } avait démissionné car { elle } soupçonnait son ancienne patronne d\\'être impliquée dans des affaires frauduleuses. { Elle } a alors contacté la \"Black Corp Agency\", une agence de détectives privés.',\n",
       " \"Un locataire d'un immeuble, Monsieur Pierre-Joseph Walker, avait réuni ses voisins dans le [ hall ] du bâtiment pour une séance d'évangélisation. L'occupation des parties communes, empêchant la libre circulation, étant interdite, la { gardienne } a aussitôt contacté le syndic par téléphone pour le tenir au courant de la situation.\",\n",
       " 'L\\'Italienne Madame Alibert Elsa, médecin en Belgique et membre de l\\'association \"Médecins du bout du monde\", a été contaminée par des [ bactéries microbiologiques ]. Cela est survenu à l\\'{ hôpital } pendant qu\\'elle soignait des malades. Transportée à l\\'{ hôpital } dans un véhicule, dans une chaise roulante et le visage couvert d\\'un masque à oxygène, sa guérison est possible si et seulement si elle est traitée avec les soins et les médicaments appropriés. Elle a repris des forces quelques semaines plus tard et a pu reprendre son poste à l\\'{ hôpital }.',\n",
       " \"À Rio, le [ 14 avril 2003 ], un couple s'est violemment disputé dans leur appartement. Madame Fatya Capelani, la femme, a même contacté la { police } avec son téléphone pour porter plainte pour violence conjugale contre son mari ivrogne. La { police } est arrivée sur les lieux en voiture et a essayé de maîtriser le mari, en vain.\",\n",
       " 'Le 6 mai 2013, le groupe \"Teenage-chemist\", composé de 6 élèves du Lycée \"[ ABC College ]\" de Toronto, a effectué des recherches et réalisé des expériences sur la fabrication d\\'une pile. Les { secours } sont arrivés et l\\'ont transporté aux urgences.',\n",
       " 'Dans la foulée, la clôture du palais de justice a été recouverte de graffitis et le personnel du palais a dû être confiné dans le bâtiment par l’[ équipe de sécurité ] sur place, le temps que les { renforts } n’interviennent.',\n",
       " \"Dans la journée du 17 mars 1999, un incident s'est produit à [ Portland ]. Il a enfilé sa veste et a pris un taxi pour se rendre { chez le médecin }.\",\n",
       " 'Une dizaine de jeunes dockers s’étaient retrouvés pour fumer des [ cigarettes ] et s’amuser. En rentrant chez lui, il a allumé son poste de télévision et a appris que M. Charles Laurent allait être libéré dans trois jours par ses ravisseurs à { Belgrade }.',\n",
       " \"M. < Daliborka Ibrahim >, président de la fondation Ibrahim, faisait partie des sinistrés du crash aérien du 21 avril 2012 au Mali. Sur place, les autorités n'ont retrouvé sur < lui > que sa carte d'identité nationale à moitié déchirée. Heureusement, le numéro de la carte était intact, ce qui leur a permis d'identifier la < victime >.\",\n",
       " 'Ils lui ont dérobé son [ ordinateur ] et sa tablette. Tous les { médias } de la ville ont évoqué cette affaire à la télévision et à la radio.',\n",
       " 'Monsieur { Prele Scott }, membre de l’association ‘’Un Homme, un vote’’ au Cameroun, a été convié à une réunion clandestine dans le sous-sol de l’appartement d’un des membres de l’association. La réunion portait sur les enlèvements arbitraires des [ opposants ] qui sévit depuis quelques jours dans le pays.',\n",
       " \"{ Charles Laurent }, un membre d'une organisation similaire à Rouen, a assuré qu'{ il } allait envoyer des fonds pour venir en aide aux nécessiteux jusqu’à ce que la situation soit sous contrôle. Les autorités municipales ont demandé du renfort au gouvernement afin d’assurer le bien-être des [ habitants ] de la ville.\",\n",
       " 'Sous la direction du Chef de l’Agence et oncle maternel de la jeune femme, Monsieur { Esteban Rodriguez }, des bougies et des gerbes de fleurs, ont été déposées ont été déposés par tous ceux qui l’ont connue sur son bureau. Un [ livre d’or ] était même à disposition de ceux voulant adresser un dernier mot à la défunte.',\n",
       " 'La { police républicaine } de Dakar dénombre 5 morts et des blessés. Les uns avaient sur eux leurs matériels de couchages, d’[ autres ] des souvenirs de leurs sorties.',\n",
       " \"Porté disparu depuis cinq jours, son corps a été retrouvé à l'aube du 11 février 2022 au port de Quesnoy-sur-Deûle par Madame Léna Trameur, la propriétaire d'une [ péniche ]. Cette dernière a aussitôt contacté la { police } par téléphone.\",\n",
       " 'Madame { Laura Chazal }, la [ présidente ] de la fondation \"Solidarité\", a publié sur les réseaux sociaux des mots d\\'encouragement aux victimes de l\\'incendie.',\n",
       " 'Comme chaque année, les Béliziens se sont réunis autour des musiques locales, vêtus de costumes [ très colorés ], pour parader fièrement dans les rues. Des spectacles se sont succédé et des kiosques de nourriture étaient alignés tout le long des trottoirs, proposant des { spécialités du terroir }, telles que le guacamole ou les tamales.',\n",
       " 'La nuit du 22 juin 2007 dans le laboratoire \"FileGen\" à Madrid, Arthur Fernandez un scientifique du laboratoire et un confrère se sont contactés en visioconférence, afin de ne pas prendre de retard dans leurs recherches concernant un nouveau vaccin pour un [ virus ]. Cette panne a ainsi exposé le { scientifique } à l\\'un des virus en culture dans le laboratoire. Une fois l\\'incident maîtrisé, { il } a été mis en quarantaine.',\n",
       " \"Au cours de la manifestation, [ deux ] participantes ont attaqué avec des coups M. Eric Samara, un militaire de l'équipe de sécurité. Un communiqué du Préfet de la ville a été diffusé, informant les { populations } qu’une enquête sera menée pour comprendre ce qui s’est réellement passé.\",\n",
       " \"Heureusement, il a eu le temps de prendre son téléphone pour alerter les { secours }. Les ambulanciers l'ont retrouvé inconscient au [ volant de sa voiture ], située près d'un arbre dans une forêt.\",\n",
       " 'Un groupe d’étudiants en médecine dirigé par { Arthur Abert } s’est porté volontaire pour aller soigner chez eux les personnes ne pouvant pas se déplacer. Dans un communiqué radio, le [ ministre de la Santé ] a salué cette initiative et a encouragé les jeunes gens à continuer leur mission de bénévoles.',\n",
       " 'Dans le { garage } \"Fury Custom\" situé à Acapulco, le 18 juin 2006, deux mécaniciens travaillaient ensemble sur une voiture à customiser. Pendant le test, au beau milieu de la [ tuyauterie ], une fuite d\\'huile a giclé dans ses yeux.',\n",
       " 'Dans la nuit du 19 février 2015 à { Toronto }, quatre maisons ont pris feu. Un membre parmi les patrouilleurs a vu un [ poteau électrique ] foudroyé par un éclair. Monsieur Chama Torres, le sapeur-pompier, a confirmé que le feu provenait du [ poteau électrique ].',\n",
       " \"L'association organisatrice de cet événement annuel, dans lequel a été conviée l'élite de la bonne société [ italienne ], est dirigée par Madame Capelani Francelyne, née le 6 juillet 1989. Cette dernière n'est autre que la fille et unique héritière du richissime homme d'affaires, M. { Loyd Capelani }.\",\n",
       " \"À San Francisco, la nuit du 22 juin 2006, a eu lieu une soirée d'inauguration pour l'ouverture officielle du [ laboratoire ] New Idea, créé par Monsieur Esteban Zhang. Un des { invités } s'était un peu lâché sur l'alcool et commençait à se prendre la tête avec les autres, en s'agitant dans tous les sens et en renversant leurs verres. Le mélange des produits a engendré une fumée toxique qui a asphyxié la plupart des { invités }.\",\n",
       " \"Monsieur < Guy Michel Parker >, alors ivre, a demandé à un taxi de le ramener chez lui. Monsieur < Parker > avait froid et voulait boire de l'alcool pour se réchauffer, mais le conducteur < l' >en avait dissuadé en montant le chauffage du véhicule. Quelques minutes plus tard, le < passager > s'est assoupi et a renversé de l'alcool sur les commandes de la climatisation.\",\n",
       " \"L'observatoire volcanologique guatémaltèque de { Meradaldir } a tiré la sonnette d'alarme après avoir observé une nette intensification des activités sismiques du volcan de la { ville }. Après l'éruption volcanique, les clichés aériens pris par des drones ou depuis des avions ont montré des centaines de maisons et de [ véhicules ] détruits. Le réseau électrique de la { ville } a également été endommagé.\",\n",
       " 'L’avion XRT43 de la compagnie Airpays a lancé sa dernière position via le signal radio, avant de se crasher dans une forêt au { Pakistan } le 19 mai 2003. Il s’agit de Monsieur Aïssatou King, président de l’association « des médicaments pour chaque enfant » en [ Côte d’Ivoire ]. Ce dernier venait de clôturer le sommet de la médecine générale au { Pakistan } le jour du crash.',\n",
       " 'Une catastrophe s\\'est produite le [ 8 septembre 2016 ] à Buenos Aires. Un train de l\\'organisation \"Pétrole pour tous\" qui transportait une grande quantité de pétrole brut réparti sur 50 { wagons-citernes } a déraillé à son entrée en gare.',\n",
       " \"Une terrible tragédie a eu lieu le 13 avril 1998 à [ Casablanca ]. Pendant des mois, la [ ville ] se préparait pour la célébration d'un mariage royal et traditionnel du cadet de la famille du Roi Amir. { Tout le monde } a été choqué.\",\n",
       " \"M. Thibault Alekseï, enseignant-chercheur à l'université de Prague, a enjoint à ses élèves de ranger leurs affaires et de rentrer immédiatement { chez eux }. L'alarme incendie a été utilisée dans les [ couloirs ] pour mettre fin aux cours. Les élèves ont vidé leur casier avant de rentrer { chez eux }.\",\n",
       " 'M. Alibert Hayete, un électricien vivant à { Lyon }, a été sollicité pour effectuer des installations électriques au sein du laboratoire gouvernemental \"Labri plus\" lorsqu\\'un incendie s\\'est déclenché. Pendant plusieurs minutes, voyant qu\\'il n\\'arrivait pas à ouvrir la [ porte ], il a commencé à crier pour alerter des personnes. Une équipe a entendu ses cris et a défoncé la [ porte ] pour lui porter assistance.',\n",
       " \"Monsieur Silvanus soupçonne l'un des { amis } de son fils d'avoir commis l'[ infraction ], puisqu'il est le seul en dehors de la famille à connaître ce code.\",\n",
       " \"Le 07 août 2018, plusieurs centaines de personnes sont descendues dans les [ rues ] de Monrovia. Finalement, la loi a été abrogée, mais Madame Miller a été { arrêtée } quelques jours plus tard, car la police a estimé qu'elle n'a pas respecté le délai donné pour la manifestation.\",\n",
       " \"Un important réseau de trafic de drogue a été { démantelé } dans la nuit du 16 août 2022. Ce réseau se situait dans un entrepôt clandestin situé dans la [ commune de Saint-Maur-des-Fossés ]. Plusieurs tonnes de cocaïne ont été { saisies } ainsi qu'une centaine de boîtes d'amphétamines stockées dans une grande caisse en bois.\",\n",
       " \"Les { clients } et les employés présents sur les lieux ont aussitôt été évacués, et le feu a été maîtrisé grâce à un extincteur. Cependant, le [ gérant ] s'est engagé à fournir de nouveaux forfaits de navigation aux clients qui n'avaient pas épuisé leur forfait, juste avant l'incendie.\",\n",
       " \"Les enquêtes ont prouvé qu'il est en réalité une branche du { Bolteo }, le deuxième { groupe mafieux } du pays qui s'est enrichi grâce au trafic d'[ armes ] et d'émeraudes.\",\n",
       " \"Afin de secourir les victimes du glissement de terrain ayant eu lieu à Athènes, le gouvernement a envoyé { sur place } des [ hélicoptères ] de l'armée et des soldats qualifiés en secourisme.\",\n",
       " \"Monsieur Duverney Wallys, journaliste au magazine { New York } et membre de l'Association des Journalistes de New York, a écrit un texte pour attirer l'attention de l'opinion publique sur les risques d'une possible contamination des [ eaux ] à New York.\",\n",
       " \"L'entreprise a été au centre d'une [ manifestation ] de travailleurs. Ces travailleurs sont [ descendus dans la rue ] avec des pancartes contre le plan social. Plusieurs { manifestants } ont été arrêtés par les autorités après avoir érigé des barrages routiers pour empêcher les voitures de circuler. D'autres manifestants ont exigé la libération de leurs { collègues }, tandis que nombre d'entre eux ont été emmenés à l'hôpital pour recevoir des soins appropriés.\",\n",
       " \"Un [ drame ] s'est produit samedi matin en Arabie Saoudite. Plusieurs [ attaques ] à la roquette ont été orchestrées contre une raffinerie et une centrale nucléaire. En plus des dégâts matériels, de nombreuses { personnes } ont été gravement blessées. Au vu de leur état critique, ces { personnes } ont été transportées sur le champ à l'hôpital.\",\n",
       " 'M. Dominique Alibert, Secrétaire exécutif de l\\'ONG \"Protégeons la Terre\", a publié une vidéo sur la chaîne web de l\\'organisation où il dénonce une importante pollution des fruits et légumes dans la vallée de Joux, où il vit lui-même [ depuis plusieurs années ]. En effet, les PBDE sont des substances polluant l\\'{ air } et l\\'eau.',\n",
       " 'Les deux { individus } se disputaient des forêts frontalières aux deux villes. La police a utilisé du [ gaz lacrymogène ] pour disperser la foule.',\n",
       " 'À quelques kilomètres de la ville, des campements ont été établis avec des tentes et des [ parasols ]. { Bianka Wilson }, la ministre de la Santé, a annoncé que des couvertures isothermiques de deux mètres de large ont été distribuées aux parents d’enfants en bas âge et aux personnes âgées.',\n",
       " 'En effet, une grande quantité d’aniline s’est répandue dans une rivière, depuis une usine chimique située [ à proximité ]. Mme { Crystel Ali }, responsable de \"l’Organisation gouvernementale Risques Environnementaux Maîtrisés\", a reçu le rapport de l’incident quelques heures après les faits.',\n",
       " \"Le célèbre écrivain mauricien, { Damien Wang }, a été invité par l'[ association des étudiants en littérature ] le 15 décembre 2021 à Maurice.\",\n",
       " \"Au Burkina-Faso, les { citoyens } sont heureux de l'élection de M. Ludovique Ali en tant que président de la République. Le chef d'État les a reçus avec faste et leur a offert de la nourriture et des [ boissons ].\",\n",
       " 'Elle a appelé les { populations } à une meilleure hygiène et au respect des consignes du [ gouvernement ].',\n",
       " \"Au milieu d'une vingtaine de ses [ collègues ], le syndicaliste a dénoncé les conditions de travail des { éboueurs } au Maroc.\",\n",
       " \"Le chef du syndicat de l'association des éboueurs de la ville d'Agadir a tenu un discours sur la { place du marché }. Ils souhaitaient aussi une meilleure dotation en équipements tels que des [ bottes antidérapantes ] et des lunettes de sécurité.\",\n",
       " \"Les membres du groupement espèrent que les [ participants ] à la manifestation seront nombreux, le but étant d'en apprendre plus avant d’investir dans l'or et l'argent. M. Grégoire Laporal voulait se rendre au meeting pour savoir comment investir au mieux l'argent qu'il a volé, mais étant recherché par les { services de la police } française, il n'a pas pu y aller.\",\n",
       " \"Le chef de la police new-yorkaise a assuré lors d’une [ conférence de presse ] que les policiers avaient agi en état de légitime défense face à une émeute agressive, munie d’armes à feu, qui brûlait des pneus de voiture. Monsieur Jack Tellier, le président de l’association « { smoke kills } », soutient ce mouvement, en effet, c'est un grand défenseur des droits des conducteurs.\",\n",
       " \"Une centaine de < personnes > ont donc respiré le gaz toxique involontairement, ce qui a causé de graves irritations du nez et de la gorge chez les < invités > présents. Ces < derniers > ont tout de même essayé d'utiliser des serviettes de table pour éviter de respirer l'air toxique, mais cela n'a pas empêché les irritations.\",\n",
       " 'Entre les petits fours et boissons qui ont été dégustés, les participants ont également pu rencontrer des { auteurs } à succès. Madeline Duverney, présidente de l’ONG «\\xa0Lis-Moi Ta Vie\\xa0», a présenté son dernier [ livre ] et signé quelques autographes.',\n",
       " 'Elle venait de terminer de présider une réunion des associés avec son { mari } au siège de sa société aérienne, Voling. Ils ont pris son sac à main qui comportait son [ téléphone ] et sa tablette.',\n",
       " 'Un [ drame ] s\\'est produit cette nuit à Pretoria, une ville sud-africaine située à la latitude 25°44′41″ Sud. Une [ explosion ] s\\'est accidentellement produite dans un entrepôt de l\\'usine gouvernementale \"Nitrate plus\" qui contenait plusieurs tonnes de nitrate d\\'ammonium. [ Cela ] a entraîné d\\'importants dégâts matériels mais aussi humains. Herminia Sauvage, une femme de ménage qui balayait et passait la serpillière dans les locaux de l\\'usine au moment des [ faits ], a été projetée et s\\'est retrouvée au milieu de ses seaux, de détergents et de brosses qu\\'elle utilisait pour faire le ménage. { Certains } souffraient notamment de difficultés respiratoires et de lésions cutanées.',\n",
       " \"Devant les caméras des journalistes, un représentant du groupe étudiant leur assure que la grève se poursuivra jusqu'à ce que les { autorités responsables } trouvent une solution au problème. Les [ affrontements ] se sont poursuivis entre les forces de l'ordre et les étudiants en grève sur les lieux.\",\n",
       " \"Quelques instants après, les manifestants se sont mis à saccager les [ rues alentour ] à l'aide de barres de fer et de pierres. Des centaines de cartouches ont ainsi été tirées, faisant plusieurs { blessés }.\",\n",
       " 'Le 16 décembre 2022, Mme { Agatha Constant }, présidente de la fondation \"Buenos\", a été aperçue lors d\\'un mouvement de coup d\\'État en Allemagne. { Cette dernière } était parmi les manifestants qui réclamaient la démission des membres du gouvernement de son pays. La manifestation s\\'est déroulée dans le calme car les demandeurs se sont exprimés via des pancartes et des [ tee-shirts graffités ].',\n",
       " 'Alertés par téléphone par le directeur de l’usine, < Jean-Eloi García >, les pompiers se sont dépêchées sur les lieux, de même que plusieurs ambulances et hélicoptères des forces armées norvégiennes.',\n",
       " \"À Paris, Monsieur Odelin Deneuve, président de la Fondation Deneuve, a été victime d'un cambriolage à son domicile [ hier soir ]. Les malfrats ont pris son { ordinateur de bureau } et quelques bijoux de valeur.\",\n",
       " \"D'après les < témoins > de cet accident, un camion transportant des produits laitiers a percuté la voiture de la victime.\",\n",
       " \"Le { chef } de l'État a été tué, mais sa famille a pu s'enfuir grâce à l'intervention de Madame Layanna Dufour. Malheureusement, le { chef } de l'État n'avait pas pu monter à temps dans l'engin. Ce coup d'État à la veille des fêtes de fin d'année pouvait entraîner une pénurie des produits de première nécessité et le ralentissement des exportations d'[ or ] et de platine.\",\n",
       " \"D'après [ certains ] jeunes du quartier Est, cette opposition est due au fait que ceux du quartier Ouest salissent le terrain et n'utilisent pas les poubelles disposées dans la zone. Ce dernier a prévenu des { gens } qui se trouvaient là, qui ont commencé à tabasser les quatre jeunes présents sur le terrain.\",\n",
       " 'Le 02 septembre 2003 à { Chicago }, un groupe de chanteur a tenu un concert. Une ruelle avait été clôturée par des barrières amovibles dans un rayon de 300 M. Monsieur Patrick Fernandez, une ferveur, un fan du groupe s’était faufilé dans le [ périmètre ] à l’insu de la sécurité, il s’est caché dans un grand étui de l’ensemble des batteries que le technicien avait mi à côté d’un énorme baffle de la sonorisation.',\n",
       " \"Mais ce jour-là, personne n'a vu la < promise > au début de la cérémonie. D'après le journaliste Arthur Fernandez, personne n'a aperçu la < promise > toute la matinée avant que la célébration ne commence. Inquiète, la famille de la < jeune fille > s'est mise à sa recherche et < l' >a retrouvée sans vie dans sa baignoire. Une fois sur les lieux, ils ont supposé que la < victime > avait frotté avec une éponge, de toutes ses forces, le henné sur ses mains, vu les rougeurs. Ils ont conclu que la < promise > s'était suicidée. La police a ouvert une enquête pour connaître la cause qui < l' >a poussée à mettre fin à sa vie le jour de son mariage.\",\n",
       " \"La [ route ] a été fermée jusqu'à l'intervention des { pompiers } et des agents de la sécurité routière.\",\n",
       " \"Monsieur Denis Leguerrec et sa famille partaient en vacances pour [ Paris ]. La famille Leguerrec était bien arrivée à leur { hôtel } sans avoir eu l'information. Les pompiers n'ont pas eu beaucoup de mal pour nettoyer la [ ville ].\",\n",
       " 'Ce 25 mai 2009 à [ Bombay ], s’est achevé le congrès annuel des industriels organisé par l’association « Hydrobom ». En parallèle, quelques personnes situées { en bas } de l’immeuble ont utilisé des seaux d’eau et des extincteurs pour diminuer le feu avant l’arrivée des sapeurs-pompiers.',\n",
       " \"Un camion-benne, conduit par { Fahadi Couatarmanach }, remontait une pente afin de se décharger un peu plus haut. Lorsqu'{ il } était presque arrivé au sommet, le moteur du camion est tombé en panne. Le fil d'alimentation de l'hydrovane ainsi que le tuyau d'alimentation du [ gasoil ] qui se trouvaient à côté avaient été rongés par une souris. Le { chauffeur } insistait pour démarrer la voiture qui a fini par prendre feu à cause d'un court-circuit et de la fuite de carburant.\",\n",
       " \"[ Il ] se tenait dans les escaliers, une bible à la main, et reprochait aux { autres } de mener une vie de débauche faite uniquement d'alcool, de drogue et de sexe.\",\n",
       " \"La mort de { lycéens } dans un accident a plongé leurs camarades dans un état de choc. Le 7 mars 2014, au lendemain de la mort de leurs { camarades } à Bourgogne, les lycéens sont entrés en classe le cœur lourd. [ Cinq ] lycéens étaient à bord du véhicule, dont 4 mineurs. Les quatre autres { jeunes } n'ont pas survécu.\",\n",
       " '[ Plusieurs ] maisons ont perdu leurs toits et fenêtres. Des { bénévoles } de l’association \"Cœurs des Anges\" ont également distribué des vivres et des boissons chaudes aux sinistrés.',\n",
       " \"Mais par la suite, une { commission d'enquête } a accusé la police d'avoir menti sur les circonstances du massacre. Un mouvement anti-massacre créé par M. John Tellier, le frère de Monsieur [ Jack Tellier ], a ainsi vu le jour dans la ville pour lutter contre les agressions de la police.\",\n",
       " \"Les forces de l'ordre, présentes sur les lieux, ont alors riposté avec des bombes lacrymogènes et des { armes } chargées de multiples projectiles à impact cinétique. Des centaines de cartouches ont ainsi été tirées, faisant [ plusieurs ] blessés.\",\n",
       " \"Le soir, alors que le bibliothécaire fermait l'{ établissement }, un habitant du quartier qui promenait son chien est passé devant le { bâtiment } et a vu des étincelles à l'[ intérieur ] de la { bibliothèque } à travers la porte en verre.\",\n",
       " 'À travers des [ vidéos ] sur YouTube et { Facebook }, les leaders du groupe ont en effet annoncé que leurs combattants armés de grenades agiront bientôt sur la capitale.',\n",
       " 'Plusieurs membres du corps diplomatique comme l’ambassadrice argentine, Madame [ Dominique Dos Santos ], ont affirmé craindre un usage disproportionné de la violence par les { forces de l’ordre }.',\n",
       " 'Le { Maire } de la ville avait lancé auparavant une annonce par émetteur radio grâce au satellite. Heureusement, [ quelques minutes plus tard ], l’homme s’est réveillé et a été conduit à l’hôpital.',\n",
       " \"Un hold-up a été commis par un groupe de deux individus dans l'[ une ] des agences de la { Société Générale } à Fès.\",\n",
       " 'L’{ Organisation Syndicale des Mineurs } ({ OSM }) a tenu le 25 octobre 2021 une réunion dans l’un des hôtels de la ville de [ Sydney ].',\n",
       " 'Il a déclaré que l’accident était dû à un { dysfonctionnement des freins } de sa voiture. Arrivée sur le [ lieu ] de l’accident, la police a pu identifier la victime grâce à sa carte d’identité nationale et ses cartes de crédit.',\n",
       " \"Le 30 avril 2022, à { Buenos Aires } en Argentine, un nouveau suicide a été provoqué par le harcèlement en milieu scolaire. Emmanuel Joseph, un lycéen de 14 ans, s'est donné la mort pour mettre fin à la violence dont il faisait l'objet dans son [ établissement ] depuis plusieurs mois.\",\n",
       " 'Rodriguez Melian, Responsable du Syndicat des travailleurs de France, et les [ membres ] de son association, ont décrété une grève de 72 heures pour cause de primes impayées, en effet, des travailleurs attendent leurs primes depuis plus de deux ans. Le rassemblement s’est fait à Paris, à la place de la Liberté où les { manifestants } sont arrivés en voiture.',\n",
       " \"Les [ Italiens ] ainsi que les touristes présents se sont manifestés pour la célébration. Madame { Capelani Francelyne }, la { fille } et { unique héritière } du richissime homme d'affaires M. Loyd Capelani, n'a pas pu s'y rendre car { elle } était en voyage humanitaire.\",\n",
       " \"Le 18 juillet 2003, dans une mine en { Arizona }, un énorme camion-benne, d'une largeur de 9 mètres, est tombé dans un ravin de 97 mètres de profondeur. Le fil d'alimentation de l'[ hydrovane ] ainsi que le tuyau d'alimentation du gasoil qui se trouvaient à côté avaient été rongés par une souris.\",\n",
       " \"Les secouristes étaient venus au bord d'une dizaine de { canoës de sauvetage gonflables }. [ Certaines ] personnes étaient perchées sur les toits de leurs maisons et d'autres essayaient de nager tant bien que mal pour leur survie.\",\n",
       " \"Une [ explosion ] dans le quartier de Séjoumi aujourd'hui à Tunis a fait trois { morts } et une dizaine de blessés.\",\n",
       " \"Le moment le plus important de l'événement a été celui où Lyane García est montée sur [ scène ]. À la fin du festival qui a duré deux jours, les { membres } de l'Agence Digitale des Grands Événements, qui étaient chargés de tout organiser, ont pu profiter de quelques jours de tourisme. { Ils } ont fait des promenades en gondole pour admirer les statues et les monuments de la ville.\",\n",
       " \"Les phares, les [ rétroviseurs ] et les capots des deux véhicules ont été brisés. Les deux { conducteurs }, quant à { eux }, sont sortis de l'accident indemnes.\",\n",
       " \"Ces derniers ont tout de même essayé d'utiliser des [ serviettes de table ] pour éviter de respirer l'air toxique, mais cela n'a pas empêché les irritations. Le nouveau { bâtiment } a été fermé pour une durée de deux semaines, le temps que l'air devienne complètement respirable.\",\n",
       " 'Le 25 mai 2021, un malheureux événement a attristé la { communauté scientifique } du New Jersey. L’association des chercheurs en Sciences du New Jersey a prévu d’organiser une petite [ cérémonie ] avec des fleurs pour lui rendre hommage.',\n",
       " 'Madame Deliah Durant, à la tête de l\\'entreprise familiale \"{ MANGOP }\", a fait partie des victimes du crash de l\\'avion \"TR56\" du 12 avril 2001 en Argentine. Les [ secours ] sont arrivés trop tard. Les [ secours ] ont prévenu la famille de la victime par téléphone.',\n",
       " \"Le virus Ebola s'est propagé au [ sud-est ] de la Guinée en décembre 2013. Monsieur Laurent Chazal a déclaré à la télévision et à la { radio locale } qu'il s'agissait d'un petit geste, mais que cela allait pouvoir apporter du soutien aux victimes.\",\n",
       " \"Heureusement, le contrat d’assurance signé avec l'[ agent ] général d'assurance Monsieur { Dos Santos Dominique } stipulait que les frais de soins médicaux étaient totalement pris en charge. Une fois vérification par téléphone avec { ce dernier }, les secours ont été appelés et l’ambulance est arrivée dans la foulée pour évacuer le blessé.\",\n",
       " \"Le Premier ministre, { Lenaic Trameur }, a déclaré à la télévision qu'il s'agissait d'une tentative de coup d'État qui a échoué grâce à la vigilance des [ forces de l'ordre ].\",\n",
       " \"Depuis quelques mois, des cargaisons de marijuana et de cannabis provenant de Jakarta sont déversées au port de [ Marseille ]. Le 23 mai 2018, Anissa Kaja, une passeuse de drogue identifiée comme membre du réseau, a été arrêtée à [ Marseille ] alors qu'elle tentait de livrer sa marchandise. Étant donné qu'elle avait sur elle un ordre de mission de l'ONG Social Aid, la présidente de l'association { Anaïs Abert } a été contactée par téléphone. { Celle-ci } a promis de faire parvenir à la police française tout document pouvant les aider dans leurs enquêtes, car { elle } n'était pas au courant de ce trafic de drogue.\",\n",
       " 'M. { Martin Deneuve } souhaitait fêter son anniversaire, le 23 novembre, à l’[ aérodrome ] de Toussus-le-Noble pour faire du saut en parachute.',\n",
       " 'À Budapest, de plus en plus de jeunes s’adonnent au vol de [ boissons alcoolisées ] et de cigarettes dans les supermarchés. Elle affirme que les auteurs développent des techniques de plus en plus élaborées pour faire passer les bouteilles subtilisées à la { caisse } sans payer.',\n",
       " 'Le 6 mai 2013, le groupe \"Teenage-chemist\", composé de 6 élèves du Lycée \"{ ABC College }\" de Toronto, a effectué des recherches et réalisé des expériences sur la fabrication d\\'une [ pile ].',\n",
       " \"Sans l'intervention de la { gendarmerie }, la confrontation a été sanglante, sans compter la destruction des biens comme les [ véhicules ] stationnés à côté du terrain.\",\n",
       " 'Tout s’est déroulé dans le calme avant que Monsieur Dominique Dos Santos, un client de la { banque }, ne presse le [ bouton d’alerte ].',\n",
       " 'Les [ rues ] commencent à être inondées et l’eau s’infiltre dans les maisons et magasins, provoquant la destruction des meubles et marchandises. Ils ont ainsi pu rassembler des imperméables et des couvertures isothermiques qu’ils ont distribué aux { personnes } dans le besoin.',\n",
       " 'Mais la population s’est opposée à cela et les [ policiers ] ont été attaqués avec des jets de pierres, de tomates et d’œufs. Plusieurs témoins, dont le jeune { Arthur Abert }, ont filmé les événements et mis les vidéos en ligne.',\n",
       " '[ Plusieurs ] voitures ont également été saccagées par le { feu }.',\n",
       " 'L’{ équipe sanitaire } arrivée peu après, a mis des [ bandages ] sur ses membres endoloris.',\n",
       " 'Membre de l’association « chaque enfant pour le même droit », Monsieur Adonay Clark a été retrouvé parmi les victimes du crash de l’avion QR45 le [ 20 décembre 2019 ], en Algérie. Il a ensuite été localisé grâce au { GPS } de sa tablette et au signal radio de l’appareil.',\n",
       " 'Arrivés sur place, les secours ont constaté que les [ matelas en éponge ] jaune vendus en face dudit centre commercial avaient pris feu en premier. \"C\\'est seulement lorsque les flammes sont arrivées à une certaine hauteur que tout le monde a paniqué\", déclare une femme qui habite à l\\'école primaire publique qui jouxte les piles de [ matelas ] de Behoririka. Cette dernière a ajouté : \"Le feu avait déjà atteint notre fenêtre, ce qui { nous } a réveillés, et c\\'est alors que le gardien a appelé les sapeurs-pompiers au téléphone\". Presque tous les stands en bois avec les [ matelas ] ont brûlé et la façade Est du centre commercial a aussi été touchée.',\n",
       " \"Les étudiants sont descendus dans les rues avec des { pancartes } et ont bloqué le chemin de l'école en brûlant des pneus au milieu de la route. La lapidation et la provocation se sont poursuivies de l'intérieur pendant plusieurs heures avant que la situation ne revienne à la normale à [ midi ].\",\n",
       " \"Alors qu'elle partait des locaux de son ONG le 30 juillet dernier, sa voiture est entrée en < collision > avec un camion. D'après les témoins de l'< accident >, ledit camion est arrivé de nulle part et a < percuté > violemment la voiture de Madame Moore.\",\n",
       " \"Au matin du 12 mai 2016, deux individus ont été interpellés par la police dans une rue du { treizième arrondissement } de Paris. Ils avaient sur eux plusieurs grammes d'héroïne, des [ couteaux ] et un pistolet. Ce sont des membres du gang K-V2, qui a le monopole de la vente de drogue dans cette { zone } de la ville.\",\n",
       " \"Le { véhicule } de l’association est descendu devant le dernier orphelinat et les membres ont vu un incident à l'intérieur. Le personnel a fait sortir [ tous ] les enfants et a contacté les sapeurs-pompiers.\",\n",
       " 'Madame Anne Dufour est morte d\\'une noyade en mer dans l\\'Hérault à [ Agde ]. Le 24 septembre 2003, les { pompiers } n\\'ont pas pu sauver Madame Anne Dufour, fondatrice de \"Iso Luxe\".',\n",
       " 'Ces agissements ont été décrits de « massacre » par l’ensemble des { médias internationaux } et comparés aux événements qui se sont déroulés à Sharpeville en 1960. Le chef de la police sénégalaise M. Juliano Jones a assuré lors d’une conférence de presse que les [ policiers ] avaient agi en état de légitime défense face à une émeute agressive munie d’arme à feu, et qui brûlait des véhicules. Selon ses déclarations à la télévision et à la radio locale, les [ policiers ] ont dû faire usage de la force pour se défendre contre le groupe qui [ les ] chargeait.',\n",
       " \"Une explosion de { bouteille de gaz } domestique est à l'origine de l'incendie. M. Dominique Baker, un des victimes avait invité à son domicile [ quelques ] amis, membres de la communauté des jeunes lecteurs, pour lire un nouveau livre. En voulant allumer du feu pour préparer du thé pour ses amis, l'étincelle du briquet a enflammé tout le gaz et a fait exploser la { bouteille }.\",\n",
       " \"Un grand < accident de circulation > a plongé la ville de Kumasi dans le deuil. Un bus qui transportait une vingtaine d'élèves s'est < retrouvé > dans le caniveau. Les vêtements et les fournitures des élèves retrouvés sur le lieu de l'< accident > ont permis d'identifier l'âge des enfants. D'après l'Association des Secouristes de Premier Ordre, il s'agissait du < troisième accident de ce type > dans la ville.\",\n",
       " 'Monsieur Meleane Martin sur son fauteuil roulant avait dévalisé la pente de la rue où { ils } étaient, à cause du [ frein ] de sa roue qui avait été désactivé accidentellement par la manche du bâton de sa banderole.',\n",
       " 'Plusieurs personnes ont dû quitter leur domicile grâce à des camions et des [ hélicoptères ] mis à disposition par le gouvernement. Le sinistre a provoqué la destruction de plusieurs bâtiments, dont des { hôpitaux }.',\n",
       " \"L'usine de fabrication d'engrais { Agros plus } a explosé à cause d'une mauvaise gestion du nitrate d'ammonium. Affolés par l'explosion, le réalisateur et son équipe de tournage ont immédiatement rangé leur matériel dont des [ caméras ] et des drones, et ont quitté les lieux.\",\n",
       " \"L'homme a été le principal suspect dans l'affaire de vol d'une [ trentaine ] de tableaux et sculptures dans les musées de la ville. En effet, il a déjà été reconnu coupable du vol de plusieurs { tapisseries } et vases historiques qui étaient exposés dans une galerie.\",\n",
       " 'Le nombre des personnes fuyant la région s’est mis à grossir jour après jour, et les conditions de vie se sont détériorées à cause de l’accès difficile à l’eau, à la nourriture et aux [ médicaments ]. Dans une interview, Bruno Alves, sociologue et commissaire des Nations Unies aux Droits de l’Homme, a affirmé que des { camps } de réfugiés plus sécurisés étaient prêts à accueillir les personnes déplacées et qu’elles recevraient toute l’aide humanitaire nécessaire.',\n",
       " 'Le 1er novembre 2004, à Genève, Monsieur Fevzi Da Silva, un scientifique du laboratoire \"{ Nextlab }\", a été envoyé à l\\'hôpital après avoir été victime d\\'une brûlure à l\\'[ acide ].',\n",
       " \"M. Alves Joslin, un éminent scientifique et président de l'association, s'est évanoui en prononçant un discours lors de la [ soirée du premier anniversaire ] de son association. Affolés, les membres de l'association, dont M. Joslin Nucléis, ont interrompu la [ cérémonie ]. Le { personnel médical } a déclaré que son malaise était dû à une surexposition à des substances radioactives au sein de sa centrale nucléaire et lui a administré les soins appropriés.\",\n",
       " \"D'[ autres produits ] sont également attendus. Mme Walida Alibert, la responsable de l'ONG, réside actuellement à { Bamako }.\",\n",
       " \"Monsieur Nelson a été transporté par brancard à l'{ hôpital } le plus proche. Il y recevra les soins et les [ médicaments ] adéquats en vue de son rétablissement.\",\n",
       " \"Il y a quelques semaines, les [ journaux ] avaient révélé que M. Michel Abert, membre influent du { Parlement } et beau-frère du chef de l'État, souhaitait que sa fille, Mme Anaïs Abert, soit nommée Ministre de la Santé.\",\n",
       " 'Des magasins de bijoux et de vêtements de luxe ont été { inondés } et pillés, ce qui a provoqué des pertes de plusieurs milliers d’euros. M. Martin Deneuve, un inspecteur de police, a demandé que fourgons soient envoyés pour récupérer les tableaux et sculptures des [ musées ] de la ville afin de les sauvegarder.',\n",
       " \"Plusieurs bateaux et [ hélicoptères ] de l'armée ont été mobilisés pour secourir les sinistrés. Des { médecins } et des bénévoles se sont aussi mobilisés pour secourir les victimes.\",\n",
       " '{ Il } ne portait ni [ gants ] de protection ni masque, alors que cela était obligatoire dans la ville.',\n",
       " 'En 1968, à Paris, l\\'[ événement ] qui devait rassembler les adhérents du \"{ MOOC }\" a tourné au cauchemar.',\n",
       " \"Mme { Nebila Baker }, un { agent infiltré } de la police, a envoyé avec son téléphone des [ messages ] à ses collègues pour leur indiquer l'endroit de la transaction.\",\n",
       " \"Un incident s'est produit [ ce soir ] à Pékin. Le scientifique se résolut à appuyer sur l'{ alarme d'urgence } pour alerter le gardien.\",\n",
       " 'Durant la [ journée du 11 mai 2020 ], la police a procédé à l’arrestation de trois individus. Après leur arrestation, Mme Louisa Laurent, membre de l’organisation \"{ Savoir Vivre Ensemble }\", leur a rendu visite.',\n",
       " \"Un raz-de-marée a frappé l'île d'{ Okinawa }, ce qui a entraîné des inondations graves et sans précédent. Des voitures, des motos mais aussi des [ vélos ] dérivaient le long des rues. Belinda Davis, une jeune touriste américaine qui se trouvait sur les { lieux } lorsque la catastrophe a frappé, a mobilisé ses compatriotes pour venir en aide aux personnes dans le besoin.\",\n",
       " \"Le [ chef de l'État ] était également présent lors de cette rencontre, pendant laquelle des individus ont lancé des gaz lacrymogènes sur les membres du gouvernement. Il a été arrêté pour comparaître devant la { justice } dans les jours suivant l'incident.\",\n",
       " \"On entendait que le centre commercial { Citic }, appartenant à Madame Alva Liu, était une fois de plus la proie du feu. Interrogés sur le comment et le pourquoi de cet événement malheureux, les [ riverains ] ont tous déclaré n'avoir rien vu du début de l'incendie.\",\n",
       " 'Ce [ 29 mars 2019 ], dans un village du Soudan, une { association de lutte contre le terrorisme juvénile } a été créée.',\n",
       " \"Un [ accident chimique ] s'est produit dans un centre de tri de déchets. Un { expert } de la décontamination, { Raphaël Aubert }, a ensuite procédé à la suite de la contamination.\",\n",
       " \"Cela avait contaminé l'[ eau ] et avait affecté les cultures de la ville. Monsieur Charles Joseph a incité la { population locale } à ne pas boire l'eau du robinet et à manger des produits bio jusqu'à ce que la situation soit maîtrisée par le gouvernement. La { population } suivait donc à la lettre ces instructions.\",\n",
       " \"Depuis le début de la soirée, ces derniers, munis de leurs badges et [ uniformes ], veillent au bon déroulement des festivités. Impressionnée par le dynamisme de Madame Elena Poulos, un { membre } du gouvernement lui a remis sa carte de visite pour la rencontrer ultérieurement. L'{ homme } politique a annoncé qu'{ il } lui confierait bientôt l'organisation de plusieurs grandes réceptions.\",\n",
       " 'Le braquage d’une banque à < Londres > a fini en bain de sang. Le 10 novembre 2018, cinq voleurs ont décidé de vider le coffre-fort de l’un des établissements bancaires les mieux protégés de la < capitale >.',\n",
       " 'Tard dans la nuit du 20 mars 2002, dans le { Yucatan }, un scientifique du laboratoire \"Chimix\" travaillait sur un projet en retard. Son [ téléphone ] a sonné et, surpris par cet appel, il a oublié ses fioles de test sur la paillasse.',\n",
       " 'Une jeune fille en collant bleu est entrée dans le stade par la { partie nord } du [ terrain ], avec une torche de flamme dans la main.',\n",
       " 'Pour barricader les lieux et empêcher la [ population ] de s’y aventurer, des bandes de police ont été mises en place pour encadrer les lieux et un brancard fut introduit à l’intérieur de la maison pour sortir le { corps }.',\n",
       " \"En Australie, des manifestants vêtus de tee-shirts rouges ont défilé [ hier matin ] vers le bâtiment présidentiel. Cette marche s'inscrivait dans le cadre d'une grève nationale afin de dénoncer la hausse de l'{ inflation } et les coupures d'électricité.\",\n",
       " 'La journaliste Mme Jones Anne-Laetitia, qui était sur place, raconte dans son interview que les { flammes } empêchent les véhicules de secours de monter la [ colline ], ainsi les soldats du feu doivent monter à pied plusieurs fois par jour.',\n",
       " \"L'homme s'était mis au { milieu de la route } et tenait une arme à feu pointée sur son cœur. Quelques minutes plus tard, les ambulanciers ont transporté le corps du défunt jusqu'à la [ morgue ] de la ville.\",\n",
       " 'Monsieur Christophe Pautrat était le président de l\\'association \"{ Helping }\" mais aussi le frère d\\'un jeune pompier mexicain. Ils se sont positionnés [ devant la porte ] du bureau de l\\'autorité compétente.',\n",
       " 'Ce 6 juillet 2015 à { Bruxelles }, Madame Jeanne-Rose Durant, Responsable de production de l’usine « Bruxos-Pestos », a supervisé la fabrication de cent cinquante bidons de pesticides bios. Les bidons ont été chargés dans un camion de livraison, lorsqu’une explosion s’est produite dans l’[ usine ]. Tous les employés de Bruxos-Pestos ont été évacués de l’[ usine ]',\n",
       " 'Il n’a pas voulu parler aux journalistes et avait mis des [ lunettes de soleil ] et une casquette pour cacher son visage. Dans un communiqué radio, la police a demandé à la population de respecter le deuil de la { famille } éplorée et d’éviter les intrusions dans leur intimité.',\n",
       " \"Les affrontements se sont poursuivis entre les < forces de l'ordre > et les étudiants en grève sur les lieux. Les < forces de l'ordre > ont commencé à disperser la foule avec des gaz lacrymogènes.\",\n",
       " 'Alors qu’il se trouvait au large de la plage de [ Saona ] en { Espagne }, ce palace flottant a été complètement consumé par le feu.',\n",
       " \"Monsieur { Yoen Miller }, un des manifestants a été battu à grands coups de matraque à cause de la résistance qu'{ il } opposait aux [ autorités ].\",\n",
       " \"Son frère, M. Florent Adams, est cependant l'un des { organisateurs } de la manifestation. Les étudiants sont descendus dans les [ rues ] avec des pancartes et ont bloqué le chemin de l'école en brûlant des pneus au milieu de la route.\",\n",
       " 'Des milliers de Guatémaltèques ont en effet pris d’assaut environ une dizaine de villes pour exiger l’annulation du report et le départ in extremis du { Président } sortant. Au cours de ces manifestations, de nombreux dégâts ont été causés aux équipements publics tels que les [ poteaux électriques ] et les poubelles publiques.',\n",
       " 'Il s’agit de la mort accidentelle de la Professeure agrégée, Mme Elianore Thompson, dans le laboratoire du { département des sciences } de l’[ université ] de New Jersey City.',\n",
       " 'La [ population ] s’est mobilisée afin d’offrir de l’argent à la famille en guise de soutien. Il a également remercié le { Gouvernement } qui a mis à leur disposition une équipe de soins très qualifiée.',\n",
       " \"Un incident est survenu lors d'un événement sportif qui s'est déroulé au { Stade Ouest }. Alain Dupond, né à Paris en [ France ] le 18/02/1985, a assisté à un match avec sa sœur Aline. À la sortie du { stade }, ils ont été témoins d'un accident qui a entraîné la mort d'un homme en fauteuil roulant.\",\n",
       " 'Les forces de police sont venues { sur place } en [ voiture ] et ont arrêté les accusés.',\n",
       " 'Le 16 décembre 2022, Mme Agatha Constant, présidente de la fondation \"{ Buenos }\", a été aperçue lors d\\'un mouvement de coup d\\'État en Allemagne. La manifestation s\\'est déroulée dans le calme car les demandeurs se sont exprimés via des pancartes et des [ tee-shirts graffités ].',\n",
       " 'Les affaires personnelles de la victime telles que son portable et sa tablette ont été saisies par les [ autorités ] australiennes afin d’informer ses proches de l’accident. Le président de l\\'association \"{ un pour tous }\" est actuellement entre la vie et la mort dans un lit d’hôpital en Australie.',\n",
       " 'Le [ gouvernement ] a fourni des canoës et des bouées de sauvetage aux résidents. Belinda Davis, une jeune touriste américaine qui se trouvait sur les lieux lorsque la catastrophe a frappé, a mobilisé ses compatriotes pour venir en aide aux { personnes dans le besoin }.',\n",
       " 'Depuis quelques mois, des cargaisons de marijuana et de cannabis provenant de < Jakarta > sont déversées au port de Marseille.',\n",
       " 'Les manifestants ont bloqué les { routes } de la ville en brûlant des pneus de voiture. Munis de [ pancartes ] et d’un mégaphone, ils se sont adressés au gouvernement par le biais de Monsieur Eric Gotti, le directeur de l’usine.',\n",
       " \"C'est le gardien qui, voyant le feu à travers les vitres de l'< immeuble >, a contacté les pompiers. Une fois < sur place >, ceux-ci ont dû utiliser l'échelle aérienne pivotante de leur camion pour se rendre à l'étage où le feu s'était déclaré. Ils ont ensuite brisé une vitre avec une hache pour s'introduire à l'intérieur de l'< édifice >.\",\n",
       " 'Le centre commercial Citic, appartenant à Monsieur [ Ahsan Carter ], était une fois encore en proie à des flammes. \"C\\'est seulement lorsque les flammes sont arrivées à une certaine hauteur que tout le monde a paniqué\", déclare une { femme } qui habite à l\\'école primaire publique qui jouxte les piles de matelas de Behoririka. { Cette dernière } a ajouté : \"Le feu avait déjà atteint notre fenêtre, ce qui nous a réveillés, et c\\'est alors que le gardien a appelé les sapeurs-pompiers au téléphone\".',\n",
       " 'Ce dernier transportait des vivres à destination de Ouagadougo, dont du [ maïs ], du sorgho et du mil. Le { personnel médical } lui a administré des soins intensifs et nous attendons toujours le verdict.',\n",
       " 'Une fois à l\\'{ hôpital }, elle s\\'est fait soigner par l\\'un des médecins intervenant à l\\'ONG \"Médecins sans frontières\". Une [ seringue ] et des médicaments ont été préparés pour soigner la blessure de Madame Ibrahim Allisone.',\n",
       " 'Monsieur Charles Joseph, le président de la fondation \"{ Amor }\", a fait une [ déclaration ] à la télévision et à la radio hier matin concernant la pollution en Argentine.',\n",
       " 'Des poutres auraient cédé, entraînant dans leur chute un minibus transportant quelques [ passagers ] et un 4x4, conduit par Monsieur { John Maxime }.',\n",
       " 'Dans un laboratoire \"UNI.corp\" à Pasadena, un groupe de scientifiques devait être évacué à cause d\\'un { ouragan de catégorie 4 } l\\'[ après-midi du 05 mai 2018 ].',\n",
       " 'La victime était la voisine et amie de { Francelyne Capelani }, { fille } et unique héritière du richissime homme d’affaires Loyd Capelani (récemment décédé des suites d’un cancer). Les [ images ] des caméras installées sur la propriété ont été prises comme [ pièces à conviction ] par la police.',\n",
       " 'Les [ autorités ] chargées de la défense tchadienne ont exprimé leur compassion aux { victimes } à la télévision nationale.',\n",
       " 'L’[ arrestation ] de M. Noeh Chen réjouit tous les habitants de Hong Kong. Cet homme était le cerveau du { trafic de drogue } dans la ville depuis plusieurs décennies. { Affaire } à suivre, donc.',\n",
       " \"Un { groupe d'artistes } a été accidenté lors de leur voyage en Croatie mardi dernier. Les { blessés } ont été transportés par un autobus qui se trouvait à proximité. Après l'incident, la représentante des [ deux ] associations, López Annyssa, a annoncé que le concert serait reporté et que les billets déjà vendus resteraient valables.\",\n",
       " \"L'épidémie du virus Ebola en Afrique de l'Ouest a débuté au sud-est de la Guinée en décembre 2013, avant de s'étendre au Liberia et à la [ Sierra Leone ]. C'est alors la première fois que ce virus, sans traitement connu, entraîne une contamination hors d'{ Afrique centrale } puis hors du continent africain.\",\n",
       " 'M. [ Charles Laurent ], un membre de la { police scientifique } de Rouen, a souhaité soutenir ses pairs de la police municipale en leur adressant un message sur les réseaux sociaux dans lequel [ il ] dit :\" [ Je ] souhaite beaucoup de courage à mes collègues, les forces de l\\'ordre, et [ j\\' ]espère que les enquêtes en cours permettront de retrouver les voyous au plus vite.',\n",
       " 'Les new-yorkais ont répondu à l’appel du \"Collectif des Marcheurs Silencieux\" qui souhaitait s’exprimer suite à l’explosion d’un magasin de { bonbons } survenue [ quelques jours ] plus tôt.',\n",
       " 'Au bout de [ quelques heures ], il s’agissait d’une foule en colère qui brandissait des pancartes et réclamait justice pour la jeune { victime }.',\n",
       " \"Les bureaux de l'Autorité Rwandaise de Régulation (ARR) ont pris feu à [ Kigali ]. { Abderraouf Wright }, membre de la cellule de lutte contre la corruption, a affirmé qu'il fallait s'interroger sur la vraie origine de cet incendie car le seul étage ayant brûlé est celui contenant des documents sensibles, alors même qu'une enquête de corruption impliquant certains cadres de l'ARR venait d'être ouverte.\",\n",
       " 'Armés de gourdins et de lance-pierres, ils ont détruit des [ véhicules ] et les vitrines de plusieurs commerces. M. Charles Laurent, un membre de la police scientifique de { Rouen }, a souhaité soutenir ses pairs de la police municipale en leur adressant un message sur les réseaux sociaux dans lequel il dit :\"',\n",
       " \"Trois hommes ont été arrêtés à l'entrée de l'aéroport d'{ Athènes } aujourd'hui. Deux kilos d'or et des [ bijoux ] ont été retrouvés dans les bagages des suspects. Au cours de l'arrestation, la police avait confondu l'un des criminels avec Monsieur Sergueï Alekseï, le directeur d'un hôpital qui se rendait à { Athènes } pour un congrès.\",\n",
       " \"Une équipe de bénévoles du Comité de sauvetage s'est jointe aux pompiers le 4 novembre 2003 afin de porter secours aux habitants d'un [ petit village ] { inondé } au Canada.\",\n",
       " 'Alors qu’{ il } se trouvait au large de la plage de Saona en [ Espagne ], ce palace flottant a été complètement consumé par le feu.',\n",
       " 'La visite officielle du ministre français Riwen Leguerrec dans la région corse, particulièrement hostile au nouveau gouvernement, suscite des manifestations de la part des [ populations ]. En effet, dès son arrivée au centre-ville, le { cortège } est très vite hué à coups de sifflets, puis attaqué à coups de pierres par un groupe d’individus à moto. D’autres manifestants ont brandi depuis le trottoir ou les balcons des pancartes et banderoles intimant l’ordre à la { délégation } de quitter immédiatement les lieux. Un membre du { cortège } a malheureusement été grièvement blessé au cours de cette agression, qui a donné lieu à l’ouverture d’une enquête.',\n",
       " 'Malheureusement, les missiles ont touché des petits enfants allemands qui jouaient au [ ballon ] à { proximité du camp }.',\n",
       " 'Une infirmière vêtue d’un hijab, retirait un morceau de métal de la chair d’une fillette, nommée Mlle [ Taïla Jones ]. Le lendemain à l\\'aube, les membres de l’organisation \"{ paix heureuse du Soudan }\" ont effectué une marche de protestation dans les rues.',\n",
       " 'Monsieur < Momen Martinez >, le < maire > de la ville, avait espéré que cela aide les policiers à sécuriser les quartiers les moins bien fréquentés de la ville.',\n",
       " \"Le 02 janvier 2023, Mme Pauline Sauvage, la sœur de Madame Anna Laura Sauvage, a été aperçue à un mouvement de coup d'État à [ Mexico ]. Cette dernière était parmi les { manifestants } qui réclamaient la démission des membres du gouvernement de son pays. La manifestation s'est déroulée dans le calme, car les { demandeurs } se sont exprimés en brandissant des pancartes et des tee-shirts graffités. Plusieurs pneus de voitures brûlées bloquaient les routes, entraînant un embouteillage monstrueux dans la [ ville ]. Les { manifestants } ont même créé une page Facebook dans le but d’avoir plus de { manifestants }.\",\n",
       " \"Les trois quarts des < habitants > en étaient contaminés. Il s'agissait de marques rougeâtres qui s'étendaient sur tout le corps des < victimes >.\",\n",
       " \"Au vu de leur état critique, ces { personnes } ont été transportées sur le champ à l'[ hôpital ].\",\n",
       " 'La Guerre civile [ ivoirienne ] est une révolte et une insurrection populaire en Côte d’Ivoire, opposant les { forces armées } et différents groupes rebelles.',\n",
       " \"Lors d'un voyage à Chypre, M. Scott Marushka, un journaliste américain, a couvert une [ manifestation ] de l’association d'internes en médecine à l'hôpital public de la ville. Les étudiants de la faculté de médecine se sont mis en [ grève ], brandissant des banderoles devant les grilles de l'hôpital jusqu'à ce que leurs revendications soient satisfaites. Ils ont { revendiqué } l'amélioration de leurs conditions de travail.\",\n",
       " 'Ce matin à Athènes, une séance de sensibilisation contre le cancer du sein a été organisée par l\\'association \"[ Santé pour tous ]\". Madame Destresse Cléa, une des membres de l\\'[ association ], a pris un micro et a annoncé le déroulement de la séance. Elle a conseillé aux { femmes déjà malades } de suivre un traitement spécifique et d\\'avoir une alimentation équilibrée, comportant des légumes et des fruits.',\n",
       " 'Presque tous les [ stands en bois ] avec les matelas ont brûlé, et la façade Est du { centre commercial } a également été touchée.',\n",
       " \"La police tchèque a mis la main sur le couple responsable d'un [ trafic ] d'œuvres d'art. Il s'agit de { Patel } et Mirna Maroski.\",\n",
       " 'En particulier, le jeune Ghiles Lewis, un handicapé qui avait décidé de faire le show à bord de sa chaise roulante [ rouge fluo ]. Son { casque }, bloqué par le fauteuil, avait maintenu sa tête, la face orientée vers le gaz du fumigène.',\n",
       " 'Le patrouilleur a immédiatement pris son téléphone pour contacter les [ pompiers ]. Monsieur { Chama Torres }, le sapeur-pompier, a confirmé que le feu provenait du poteau électrique.',\n",
       " 'Une fois de plus, le centre commercial [ Citic ], appartenant à Madame { Ange-Lyne Duverney }, était en proie aux flammes.',\n",
       " \"Le moment le plus important de l'événement a été celui où { Lyane García } est montée sur scène. L'{ artiste } de nationalité vénézuélienne avait fait le déplacement juste pour l'occasion et ses fans étaient nombreux. À la fin du festival qui a duré deux jours, les membres de l'Agence Digitale des Grands Événements, qui étaient chargés de tout organiser, ont pu profiter de [ quelques jours ] de tourisme.\",\n",
       " 'Monsieur Laurent Chazal, le président de l\\'association \"Aide pour tous\" au Venezuela, a été victime d\\'une agression au couteau [ hier soir ]. En voulant rejoindre sa { voiture }, Monsieur Laurent Chazal a été frappé dans le dos par des voyous.',\n",
       " \"Un agent infiltré avait transmis les coordonnées et le déroulement de l'opération à ses < collègues > grâce à une radio cachée dans ses lunettes. Les < policiers > ont pointé leur projecteur vers le conducteur pour le déstabiliser, puis l'ont sommé de sortir du véhicule avec un mégaphone.\",\n",
       " '[ Elle ] a été tentée par cette expérience et s’est rendue sur le lieu du { salon } en voiture.',\n",
       " 'D\\'origine criminelle, cet incendie a été provoqué par le [ chef ] du cartel \"GHOST\", M. Zlakto Robinson, qui a posé cet acte pour se venger de son ex-associé, M. { Vladimir Kruger }, qui aurait refusé de lui vendre ses parts de leur juteux business.',\n",
       " 'Les autorités malaisiennes ont recensé 15 [ morts ] au total. Cet incident n’a fait que peu de survivants, dont { Constance Dupuis }, présidente de l’association « des médicaments pour tous » en Grèce.',\n",
       " \"La crise monétaire s'est aggravée lorsqu’un { groupe de personnes } inconnues de la capitale a bombardé un pont à Berlin. Plusieurs personnes ont perdu leurs biens lors de ce bombardement, car ce lieu était aussi un [ parking ] de véhicules.\",\n",
       " 'Monsieur Laporal Grégoire, membre de l\\'ONG \"Non à la pollution\", a été { infecté } par des bactéries vivantes dans l\\'eau. [ Après quelques jours ] de soins et de médicaments administrés, Monsieur Laporal Grégoire a pu joindre sa famille depuis son portable pour annoncer sa guérison totale.',\n",
       " 'Grâce à l’arrestation de plusieurs { passeurs }, les faux documents utilisés pour convoyer les véhicules ont pu être identifiés et l’homme à la tête de ce trafic, Rock Spencer, a pu être [ arrêté ] ainsi que ses hommes de main.',\n",
       " 'D’après le journaliste Auguste Ferreira, le bilan provisoire de l’attentat a fait état d’une [ vingtaine ] de { morts } et d’une cinquantaine de blessés.',\n",
       " \"Pour lutter contre le trafic de drogue, le { gouvernement } de la [ Colombie ] s'est associé à celui du Brésil.\",\n",
       " 'Un minibus, chargé de conduire les 10 hommes membres de l’association «\\xa0Non à la maltraitance du sexe masculin\\xa0», a été retrouvé encastré dans un [ arbre ] hier matin au Maroc. Les secours ont été alertés par téléphone grâce à un { témoin } de la scène ayant donné l’alerte.',\n",
       " 'Durant la nuit du 6 février 2020, la résidence présidentielle et les demeures de [ plusieurs ] membres du gouvernement ont fait l’objet d’attaques armées. Les assaillants identifiés comme des { partisans } du Mouvement pour la Nouvelle Gloire de l’Allemagne étaient à bord d’hélicoptères et de véhicules blindés.',\n",
       " 'L\\'attaque a eu lieu le [ 3 août 2016 ] aux environs de 14h. Des { journalistes } ont affirmé que le groupe avait eu le soutien de l\\'association française \"Espoir et vie\".',\n",
       " \"La { famille } de M. Rodriguez Américo a subi d'énormes pertes matérielles et ne pourra rien tirer de sa récolte. C'est d'autant plus dommage lorsqu'on sait que la { famille Rodriguez } est une grande { famille } cultivatrice de cacao en Côte d'Ivoire, car c'est un héritage légué de père en fils. Devant les [ journalistes ], Monsieur Rodriguez Américo s'est exprimé et a demandé de l'aide au gouvernement.\",\n",
       " 'Madame Brooke Moore, qui a vécu dans ce village depuis sa naissance, le 15 août 1980, était perchée sur le toit de sa maison au moment où les < secours > sont arrivés.',\n",
       " '[ Ce jour-là ], le gérant de la station voulait offrir du carburant gratuit aux 100 premiers véhicules présents devant la pompe à carburant. Un { camion } conduit par M. Martin Deneuve a heurté un panneau électrique qui est tombé sur un réservoir de moto.',\n",
       " 'Jeudi dernier, la voiture de Madame Anderson Chamina, présidente de la société { MPOP }, a heurté un poteau électrique de 8 mètres de hauteur à Paris. Sous le choc, elle a immédiatement appelé les secours avec son [ téléphone portable ].',\n",
       " \"Un tiers de la ville de Kyoto a été détruit et une cinquantaine de { personnes } ont perdu la vie. Six cents autres ont été grièvement blessées, dont [ Ildefonso Miller ], le responsable de l'entrepôt. Ils y ont déposé des bouquets de fleurs, des photographies des { défunts } et des cartes de condoléances.\",\n",
       " 'Lee Zakariae, le directeur de cette [ agence ] qui compte une centaine de { personnes }, a estimé cet effectif insuffisant pour faire face à ce problème de santé publique.',\n",
       " \"Le [ 23 octobre 2006 ], dans le cadre d'une collaboration entre l'université du Texas et l'université de New York, un match de football a eu lieu. Une réaction en chaîne s'en est suivie et le feu d'artifice s'est { déclenché } prématurément.\",\n",
       " 'Monsieur Prele Scott, membre de l’association ‘’Un Homme, un vote’’ au { Cameroun }, a été convié à une réunion clandestine dans le sous-sol de l’appartement d’un des membres de l’association. La réunion portait sur les enlèvements arbitraires des opposants qui sévit depuis quelques jours dans le { pays }. Les militants étaient munis de masques, de feuilles, de stylos, des banderoles et de marqueurs pour écrire des [ tracts ] et [ les ] coller au cours de la nuit. Ils ont discuté de leurs plans et idéologies tout l’après-midi avant de repartir chacun de son côté pour distribuer leurs [ tracts ] et coller leurs affiches dans les rues de la capitale.',\n",
       " 'En quelques mois, les prix des denrées ont explosé et la { population } n\\'arrivait plus à acheter des produits alimentaires de première nécessité. Monsieur Tunahan Carter, président de l\\'association familiale \"[ Enough ]\", a donné une grosse somme d\\'argent pour financer la reconstruction du pont.',\n",
       " 'Madame Aitana Flores, membre de l’association \"Un cheval, une vie\" à [ Londres ], a été victime d’un { accident } de voiture hier matin lors de son séjour à Paris.',\n",
       " 'Le chef de la police new-yorkaise a assuré lors d’une conférence de presse que les policiers avaient agi en état de légitime défense face à une émeute agressive, munie d’[ armes à feu ], qui brûlait des pneus de voiture. Un mouvement anti-massacre créé par { John Parker } a ainsi vu le jour dans la ville pour lutter contre ces actes de la police.',\n",
       " \"L'association organisatrice de cet événement annuel, dans lequel a été conviée l'élite de la bonne société [ italienne ], est dirigée par Madame Capelani Francelyne, née le 6 juillet 1989. Quelques heures plus tard, le { responsable de la sécurité } a visionné les caméras et a réussi à identifier le voleur.\",\n",
       " \"{ Jona Chazal }, l'{ un } des panélistes, a ouvert une diapositive sur son [ ordinateur ] et l'a agrandie grâce au vidéoprojecteur.\",\n",
       " \"Un conducteur avait eu un accident à l'extérieur et la voiture s'était encastrée dans un [ poteau électrique ]. D'après les { policiers }, l'accident a été causé par un dysfonctionnement technique au niveau du volant de la voiture.\",\n",
       " \"Des [ bateaux de secours ] sont venus évacuer les habitants. Madame { Brooke Moore }, qui a vécu dans ce village depuis sa naissance, le 15 août 1980, était perchée sur le toit de sa maison au moment où les secours sont arrivés. { Elle } refusait de partir car son chat s'était réfugié dans un arbre.\",\n",
       " \"Le 4 juillet 2020, des { individus } armés de fusils et de mitraillettes ont essayé d'entrer de force dans le [ Palais Merdeka ].\",\n",
       " \"Monsieur Odelin Deneuve avait fermé sa [ porte ] à clé, mais les { bandits } [ l' ]avaient cassée avec un marteau de 20 kilogrammes.\",\n",
       " 'M. { Arthur Laurent }, un { témoin } des événements, a affirmé que la police a abusé de son pouvoir en attaquant les citoyens avec du [ gaz lacrymogène ].',\n",
       " \"La manifestation s'est déroulée dans le calme, car les demandeurs se sont exprimés en brandissant des pancartes et des { tee-shirts } graffités. Toutes les chaînes de télévision et de radio locales ne parlent que de cette crise politique depuis ces [ derniers jours ].\",\n",
       " \"L’explosion d’un gazoduc s’est produite à proximité d’un port en [ Norvège ], en raison de travaux d'excavation non autorisés effectués sur un chantier voisin. Alertés par téléphone par le directeur de l’usine, { Jean-Eloi García }, les pompiers se sont dépêchées sur les lieux, de même que plusieurs ambulances et hélicoptères des forces armées norvégiennes.\",\n",
       " 'Des { médicaments } ont été livrés en urgence par avion dans un petit village d’Afrique la nuit du mardi 12 octobre 2004. De [ nombreux ] paysans ont été blessés par des mines durant l’exploitation d’un terrain vierge.',\n",
       " 'Un mouvement anti-massacre créé par M. John Tellier, le frère de Monsieur Jack Tellier, a ainsi vu le jour dans la [ ville ] pour lutter contre les agressions de la police. Ce mouvement a provoqué des émeutes agressives contre la { police nationale }.',\n",
       " 'Les deux frères ont expliqué aux micros des journalistes tunisiens, leur projet de dispenser des formations dans les collèges et { lycées } en Tunisie. Au milieu de l’interview, un incendie est survenu dans le bâtiment causé par une [ fuite ] de pétrole brut mal conditionné.',\n",
       " 'Organisé par l\\'ONG \"{ Art d\\'Abord }\", cet événement a été une vraie réussite. Le clou du spectacle a été la découverte de la [ dernière œuvre ] de l\\'artiste Magdaleina Dufour, réalisée uniquement à partir de pneus recyclés. La sculptrice a expliqué que cette [ statue ] a pour but de sensibiliser les gens au sujet de l\\'importance du recyclage pour la planète.',\n",
       " \"Un des [ invités ] s'était un peu lâché sur l'alcool et commençait à se prendre la tête avec les autres, en s'agitant dans tous les sens et en renversant leurs verres. Le mélange des produits a engendré une fumée toxique qui a asphyxié la plupart des [ invités ]. Les { secours } ont été téléphonés en urgence.\",\n",
       " \"Le chauffeur a donc { perdu le contrôle } du véhicule très rapidement. Les victimes ont bénéficié des premiers soins nécessaires sur place avant d’être transportées par brancard jusqu’à l’ambulance pour qu'on les emmène dans l’[ hôpital ] le plus proche.\",\n",
       " \"L'événement s'est déroulé sur la Place Saint-Marc de Venise et environ [ 3 000 ] personnes étaient présentes. Ils ont fait des promenades en { gondole } pour admirer les statues et les monuments de la ville.\",\n",
       " \"Le 10 juillet 2014, un incendie s'est déclenché à { Buenos Aires }, au sein du laboratoire Pyrolab. L'incident a été causé par la fissure d'une citerne de 1000 kg contenant de l'acétone, présente dans l'[ entrepôt ] alors même que des travaux de renforcement de la structure métallique étaient en cours.\",\n",
       " \"En janvier 2021, un affrontement politique a eu lieu devant la [ mairie ] de Lisbonne. Elle avait été arrêtée par la { police } quelques jours après l'affrontement.\",\n",
       " 'Dans les [ rues ] de { Caracas }, l’atmosphère est à la fête.',\n",
       " 'Les pompiers se sont équipés de [ masques ] sur le visage et de bouteilles d’air comprimé, ainsi que de combinaisons \\nignifugées pour combattre le feu au sol. L’ONG \"{ ECO+ }\" a déploré cet évènement qu’{ elle } qualifie de criminel car, dans la forêt en partie incendiée, se trouvaient des espèces animales protégées.',\n",
       " 'Le tremblement de terre a détruit le [ siège ] de l\\'\"Association des Tailleurs de Pierre de Berne\" (ATPB). Monsieur Badie Peter, le président de l\\'association, a annoncé dans un communiqué radio que l\\'organisation a été dissoute car les { membres } n\\'avaient plus la possibilité de se réunir. Les documents officiels de l\\'association ont été mis à disposition des anciens { membres } ayant survécu à la catastrophe.',\n",
       " 'Les { manifestants } ont bloqué les [ routes ] de la capitale en brûlant des pneus de voiture.',\n",
       " \"Les pompiers sont très vite arrivés < sur place > et ont constaté qu'en réalité le feu venait d'une boutique située en face du centre commercial, dont les matelas avaient pris feu.\",\n",
       " 'Madame Carolanne, présidente de la fondation \"Dassault\", a été percutée par une [ moto ] en sortant de son { bureau } à Vienne.',\n",
       " '[ Plusieurs ] { hommes politiques } ont été concernés.',\n",
       " 'Quatre jours après l’adoption de la loi anti-avortement par le Parlement, des [ centaines ] de femmes sont descendues dans les rues de Belgrade. Vêtues de { blouses } blanches et équipées de banderoles, elles protestaient contre cette loi qui interdit désormais les avortements dans le pays.',\n",
       " 'Un décès qui a particulièrement ému la < toile >.',\n",
       " \"Un coup d'État a éclaté à < Mexico > samedi dernier vers 15 heures. Des pneus de voitures brûlées se sont retrouvés sur les routes, entraînant un embouteillage monstrueux dans la < ville >.\",\n",
       " 'Le 18 juillet 2003, dans une < mine > en Arizona, un énorme camion-benne, d\\'une largeur de 9 mètres, est tombé dans un ravin de 97 mètres de profondeur. Après une pluie torrentielle, les routes en direction de la < mine >, détenue par l\\'entreprise \"SCRIB\", étaient glissantes.',\n",
       " 'Monsieur Davis Ilem, membre de l\\'association \"{ Stop à la consommation de tabac }\" au Niger, a surpris son [ enfant ] [ Davis Hilan ], âgé de 4 ans, en train d\\'ingurgiter accidentellement de l\\'acide.',\n",
       " \"Le [ 2 septembre 2003 ], un spectacle a eu lieu dans une ruelle à Chicago. Monsieur Patrick a été assommé à grands coups de matraque par la police, mais a été évacué à temps et a repris connaissance sur un { lit d'hôpital }.\",\n",
       " 'Le [ 18 novembre 2019 ], dans la ville de Ouagadougou, un événement festif a eu lieu. La cérémonie a été clôturée par un { repas } convivial, organisé par les nouveaux mariés. Tout le monde pouvait { y } prendre part.',\n",
       " \"En effet, [ vers minuit ], un sans-abri a vu des mouvements suspects dans la boutique. Peu de temps après, l'{ alarme } s'est déclenchée à l'intérieur de la bijouterie.\",\n",
       " 'Les manifestants, pour la plupart des femmes, avait écrit des demandes sur des parapluies de couleur noire et portaient tous des { T-shirts } [ blancs ].',\n",
       " \"Le 12 février 2018, un SUV s'est { retourné } sur une [ route ] près de Lyon.\",\n",
       " 'Le violent incendie a causé la mort de plusieurs [ personnes ] et a entraîné la fermeture du tunnel pendant 6 mois. Deux ans plus tard, Monsieur { Patrick Fernández }, un industriel irlandais, membre de l’association « protégeons l’environnement », a sorti un livre de relatant l’histoire de cet incendie.',\n",
       " \"Étant donné qu'{ elle } avait sur { elle } un ordre de mission de l'ONG [ Social Aid ], la présidente de l'association Anaïs Abert a été contactée par téléphone.\",\n",
       " 'Le [ 30 avril 2022 ], à Buenos Aires en Argentine, un nouveau suicide a été provoqué par le harcèlement en milieu scolaire. Au contraire, son oncle { Vincent } s\\'est lancé dans une campagne de sensibilisation. Par le biais de la télévision, de la radio, des réseaux sociaux, de conférences publiques et de réunions de parents d\\'élèves, { Vincent } lutte contre ce fléau qui décime la jeunesse. { Il } a également fait d\\'importants dons d\\'argent à l\\'Association \"StopSuicide\".',\n",
       " \"Un drame s'est produit le 15 mars 2015 au [ Kenya ]. Les { chaînes de télévision et de radio locales } ont rapporté les faits en insistant sur les dangers du trafic d'hydrocarbures.\",\n",
       " 'Le [ 12 octobre 2020 ] à Bruxelles, au sein de la société \"{ BatiAvenir }\", un employé a été victime d\\'un accident de travail.',\n",
       " \"L'un des { survivants }, M. Carlos Peter, a survécu à ce naufrage. Il a été évacué par une [ voiture ambulancier ] et a pu recevoir les soins et les médicaments d'urgence nécessaires à sa survie.\",\n",
       " 'L\\'incendie s\\'est déclaré peu après minuit, le [ 2 septembre 1999 ], dans une boulangerie de \"{ Pudding Lane }\" appartenant à Alpha Chen et s\\'est rapidement propagé vers l\\'ouest.',\n",
       " \"Le [ 13 mars 2020 ], une guerre civile a éclaté opposant les citoyens de l'Est de Londres à ceux du Sud. Cette guerre a blessé au total 25 { personnes }. Les { victimes } étaient des civils et des employés de PINS, une société de sécurité. Monsieur Kina Evans était parmi les { victimes }, il a pu être identifié grâce à sa carte d'identité nationale et son téléphone.\",\n",
       " \"Il savait qu'il pouvait compter sur { Thomas Joseph }, son frère qui était aussi l’un des conseillers les plus écoutés du [ chef de l’État ].\",\n",
       " 'Selon les propos énoncés au micro de la première chaîne publique du pays par la [ commissaire ] Sahila William, la police sud-africaine a réussi à mettre la main sur une centaine de motos, d’automobiles ainsi que de camions ayant été volés et envoyés aux quatre coins du pays. Grâce à l’arrestation de plusieurs passeurs, les faux documents utilisés pour convoyer les véhicules ont pu être identifiés et l’homme à la tête de ce trafic, { Rock Spencer }, a pu être arrêté ainsi que ses hommes de main.',\n",
       " \"Le Centre Hospitalier Universitaire de Lisbonne a été le théâtre d'un triste événement ce [ 25 avril 2018 ]. Les blessés ont été conduits aux urgences dans des { fauteuils roulants } où ils ont été rapidement pris en charge.\",\n",
       " 'M. [ Innocenzo Jackson ], le directeur de l’{ usine }, a contacté les secours depuis le téléphone fixe de l’{ entreprise } et a dirigé l’évacuation du personnel.',\n",
       " \"Le { chef } de la police new-yorkaise a assuré lors d'une conférence de presse que les policiers avaient agi en état de légitime défense face à une émeute agressive, munie d'armes à feu, qui brûlait des pneus de voiture. Mais par la suite, une [ commission d'enquête ] a accusé la police d'avoir menti sur les circonstances du massacre.\",\n",
       " 'Le Français Martin Charles-Hugo, membre de l’association « { les handicapés ont des droits } », a été retrouvé mort au bord de sa voiture le 16 avril 2018 à Madagascar. Arrivée sur place, la police a constaté que le [ volant ] a connu un dysfonctionnement technique.',\n",
       " 'L’enquête menée par la police [ belge ] depuis plusieurs mois sur un trafic d’œuvres d’art anciennes de provenance douteuse a été bouclée le 07 mars dernier. Sur place, étaient entreposées une trentaine d’objets volés sur des { sites de fouilles archéologiques } et prêts pour la vente.',\n",
       " 'Dans une interview, Bruno Alves, sociologue et commissaire des Nations Unies aux Droits de l’Homme, a affirmé que des [ camps ] de { réfugiés } plus sécurisés étaient prêts à accueillir les personnes déplacées et qu’elles recevraient toute l’aide humanitaire nécessaire.',\n",
       " '{ Ils } ont fait des promenades en gondole pour admirer les statues et les monuments de la [ ville ].',\n",
       " \"{ Ahmed Ludovic }, candidat à l'élection présidentielle de 2003 à Paris, était l'{ un } des meilleurs acteurs du développement de Paris. Son directeur de campagne, Monsieur Alain Dupont, { lui } avait trouvé des bureaux de vote et des urnes pour qu'{ il } rencontre la population. Il avait aussi fourni aux votants des [ encriers ] et des stylos. En ce qui concerne la communication, Alain Dupont avait fait imprimer des affiches et des bulletins promouvant le parti d'{ Ahmed Ludovic }. { Ce dernier } avait été très impressionné par le travail qu'avait produit Alain Dupont. À la fin des élections, { Ahmed Ludovic } a invité Alain Dupont à prendre des congés pour se reposer.\",\n",
       " \"[ Deux ] chars blindés de l'armée ont été envoyés sur place en renfort. Peu de temps après, le calme est revenu dans les rues et les { populations } ont pu souffler.\",\n",
       " 'Monsieur Wilson Moudjib, Procureur au tribunal de New York et membre de l’{ Association des magistrats de New York pour la défense des innocents }, a mis aux arrêts Monsieur Franklin Thomas. Son procès, qui a démarré le 18 décembre 2019, s’est terminé le [ 03 février 2020 ].',\n",
       " 'La cause était le mauvais conditionnement du pétrole et du [ gaz ]. Deux { jeunes hommes } blessés ont reçu des couvertures anti-feu.',\n",
       " 'Quant à la moto, son conducteur a été retrouvé à [ quelques mètres du lieu ] de l’{ accident }.',\n",
       " \"L'ancien chef de l'{ État } et le ministre de la sécurité nationale ont été tués. Ensuite, leurs équipes au sol se sont introduites dans les bâtiments et ont menacé les gardes avec des [ mitraillettes ] et des couteaux.\",\n",
       " \"La célébration de la 6e édition du Festival Culinaire de { La Paz } est un véritable succès. Ce 10 avril 2016, des centaines de personnes se sont rassemblées dans le plus grand parc de la { ville }. Plusieurs restaurateurs, vêtus de leurs [ tabliers ] et toques, ont fait découvrir de nouvelles saveurs aux visiteurs. Il a adressé un message particulier à Mme Micheline Elmond, une cheffe étoilée française qui a fait le déplacement jusqu'à { La Paz }.\",\n",
       " 'Deux liquides qui n\\'auraient pas dû être mélangés l\\'ont été en raison d\\'un mauvais étiquetage des [ récipients ] dans lesquels ils étaient stockés. La représentante de l\\'ONG \"Sentinelle\", dont le siège se trouve { à proximité } du laboratoire, a rappelé au groupe pharmaceutique la nécessité de respecter les règles d\\'incompatibilité de stockage.',\n",
       " \"Les autorités ont dû organiser en toute urgence l'évacuation des populations avant que le { cratère } ne laisse échapper de la [ lave ].\",\n",
       " \"Le 02 janvier 2023, Mme Pauline Sauvage, la sœur de Madame { Anna Laura Sauvage }, a été aperçue à un mouvement de coup d'État à Mexico. La [ manifestation ] s'est déroulée dans le calme, car les demandeurs se sont exprimés en brandissant des pancartes et des tee-shirts graffités.\",\n",
       " \"Ce jour du 12 mai 2005, à Ouagadougou, les [ rues ] sont presque vides à l'exception de quelques véhicules blindés et motards qui effectuent des rondes périodiques. Les { populations } sont toujours sous le choc du coup d'État intervenu il y a quelques jours. Bien que ces informations aient pour but de rassurer la { population }, la menace des djihadistes de M. Kifr Bahmadi pèse toujours. Le chef de l'État a appelé la communauté internationale à l'aide et espère un soutien financier et surtout militaire qui l'aidera à protéger sa { population }.\",\n",
       " 'Des partisans du { gouverneur } destitué se sont mobilisés à différents [ endroits ] pour semer le chaos.',\n",
       " 'Ce dernier est adulé par la population, car il assure la sécurité des marchands de céréales et de tabac à la [ frontière ] panaméenne. Leguerrec Laïya, connue pour ses idéologies pacifistes, est la porte-parole du { nouveau gouvernement }.',\n",
       " 'Un bus a fini sa course dans un ravin, faisant deux morts, dont le secrétaire du parti politique [ ABCer ], Jones Abdelfattah, et des dizaines de { blessés } parmi les passagers.',\n",
       " \"Au cours de la manifestation, deux { participantes } ont attaqué avec des coups M. Eric Samara, un militaire de l'équipe de sécurité. M. Thibault Aleksaï a eu une pensée pour sa défunte [ épouse ] en voyant toutes ces jeunes femmes manifester.\",\n",
       " 'L’{ entrevue } était retransmise en différé sur [ plusieurs ] radios.',\n",
       " 'Monsieur [ Jack Tellier ], le président de l\\'association \"Smoke Kills\", est venu avec sa famille pour s\\'amuser. Monsieur [ Jack Tellier ] était déguisé en citrouille d\\'Halloween, ce qui avait départagé l\\'avis de tout le monde. Les trois { gagnants } devaient ensuite participer à un concours du plus rapide mangeur de burgers épicés. Monsieur [ Jack Tellier ] a terminé troisième dans le classement, pour le plus grand bonheur de son fils.',\n",
       " \"Elle a donc immédiatement appelé les [ pompiers ] puis la police. À l'arrivée des { secours }, les jeunes étaient déjà partis.\",\n",
       " \"Ce qui n'a pas étonné la { population }, vu le prix élevé des véhicules et du [ carburant ].\",\n",
       " \"Ils ont pu être neutralisés par la [ garde présidentielle ]. Après une perquisition, la { police } a retrouvé des documents et des vidéos prouvant que le chef d'entreprise avait commandité le coup d'État.\",\n",
       " 'Il y a une semaine, le Liban a connu, une [ manifestation ] de grande ampleur après une { arrestation massive } de militants politiques dans le pays.',\n",
       " '{ Il } a saisi son [ portable ] pour alerter les urgences.',\n",
       " 'Le 5 janvier 2023, Monsieur Joshua Clavier, le président de l\\'association \"Un arbre, une vie\", a été aperçu lors d\\'un [ coup d\\'État ] au Guatemala. Ce dernier faisait partie des manifestants qui demandaient la démission des { membres } du gouvernement de son pays. Toutes les chaînes de télévision et les radios locales ont parlé de cette [ crise politique ] pendant plusieurs jours.',\n",
       " \"Il a appelé les secours via son téléphone et a demandé un arrangement avec le < conducteur > de l'autre voiture. < Ce dernier > a demandé que le pare-brise et le capot de son véhicule soient réparés par la société Nutri. < Il > a aussi demandé que les réparations soient réalisées dans les meilleurs délais car < il > a besoin de son véhicule pour travailler.\",\n",
       " 'Le 5 mai 2013, les épreuves pratiques du baccalauréat se déroulaient au Lycée \"[ Moon High School ]\" au Royaume-Uni. Tous { ceux présents } dans la salle sont aussitôt tombés dans les vapes devant leur bureau de travail.',\n",
       " 'Le personnel a vite été évacué grâce aux [ blocs de sécurité ] et les secours ont été contactés. Afin d’éviter ces incidents, Madame Dufour Abigaël a demandé l’installation de panneaux préventifs dans les { usines }.',\n",
       " \"Le 13 avril 2020, à [ Moscou ], la journée a été mouvementée dans la maison de retraite LNA. { Un } de leurs patients a été retrouvé mort sur son lit. Ce jour-là, Monsieur { Patrick Hernandez }, un aide-soignant, faisait du bénévolat au centre. { Il } frappait à la porte des patients pour les amener vers la salle à manger pour le petit-déjeuner. Arrivé à la porte de la chambre 105, personne ne répondait quand { il } a demandé d'entrer. { Il } a sorti ses clés et a ouvert la porte. { Il } a retrouvé Monsieur Charles, allongé et sans vie sur son lit. { Il } a tout de suite signalé les secours.\",\n",
       " 'Les forces de l’ordre ont été contactées depuis un [ téléphone portable ] et sont arrivés pour dissiper la { foule }.',\n",
       " 'Le 8 mai 2018, le nouveau chef d’Etat, dont la résidence est à Muhanga, s’est rendu en hélicoptère à { Kigali } pour les préparatifs de la cérémonie d’investiture. M. Luis-Miguel Hassan a également rencontré le coordonnateur de l’Agence nationale de sécurité routière qui lui a fait un don d’un [ casque ] et de bottes de motard.',\n",
       " 'Ce { mouvement } a même créé sa page sur les réseaux sociaux afin de rallier des [ individus ] à la cause.',\n",
       " 'Monsieur [ Miller Abdelhake ], Responsable de l’ONG ‘’{ Cité Verte }’’ a été [ victime ] d’un accident dans sa voiture.',\n",
       " 'Le 6 juillet, un avis de rappel de médicament a été lancé par le [ ministre de la Santé ] Portugais. Afin que l’information parvienne à tout le monde, un groupe d’étudiants bénévoles dirigés par { Arthur Abert }, a décidé de faire du porte-à-porte dans les quartiers les plus pauvres de Lisbonne.',\n",
       " 'Cependant, cela a été contredit quand un jeune { homme } a lancé une pierre sur la fenêtre du [ local ] en question.',\n",
       " \"Ceci a provoqué la ruine de nombreux { spéculateurs }. La crise a engendré l'augmentation des prix de première nécessité comme le savon ou bien l'[ huile ].\",\n",
       " 'Plusieurs passagers de la croisière ont réussi à s\\'en sortir grâce aux [ gilets ] et canoës de sauvetage rapidement mis à leur disposition par les membres de l\\'équipage. Peu après l\\'annonce du naufrage, Benedikte Garcia, une citoyenne grecque et présidente de l\\'ONG \"{ Secours en Mer }\", a envoyé sur les lieux de l\\'accident une partie de son personnel afin d\\'aider les pompiers à secourir les blessés.',\n",
       " \"Suite au coup de téléphone de son père lui annonçant le décès de sa mère, Dominique Dos Santos est rentré dans sa ville natale à { Belize } le 12 février 2011. En effet, les freins ont lâché en raison d'une fuite de liquide de frein causée par un [ maître-cylindre ] défaillant.\",\n",
       " \"Le 13 mars 2020, une guerre civile a éclaté opposant les { citoyens } de l'Est de Londres à ceux du Sud. Les { citoyens } de l'Est étaient contre l'installation des citoyens du Sud sur leur territoire. Ils ont utilisé du carburant pour brûler des pneus de voiture et étaient armés de [ bâtons ].\",\n",
       " \"L'incident est survenu dans la nuit, alors que tous les employés étaient déjà rentrés { chez eux }. Une fois sur place, ceux-ci ont dû utiliser l'échelle aérienne pivotante de leur camion pour se rendre à l'[ étage ] où le feu s'était déclaré. Abderraouf Wright, membre de la cellule de lutte contre la corruption, a affirmé qu'il fallait s'interroger sur la vraie origine de cet incendie car le seul [ étage ] ayant brûlé est [ celui ] contenant des documents sensibles, alors même qu'une enquête de corruption impliquant certains cadres de l'ARR venait d'être ouverte.\",\n",
       " 'Monsieur { Tou Hall }, Directeur de la Banque XXR, a été touché par cette crise, en effet, celle-ci a provoqué une vague de faillites au sein de son organisation. Les [ voitures ] et les motos des citoyens étaient hors service par manque de carburant dans les stations-services,',\n",
       " 'Des [ centaines ] de manifestants, vêtus de t-shirts rouges, ont défilé hier matin en direction du Palais de l\\'Élysée à Paris dans le cadre d\\'une grève nationale. Munis d\\'une { pancarte } et d\\'un mégaphone, Madame Laura Chazal, porte-parole des manifestants et présidente de la fondation \"Solidarité\" à Paris, s\\'est adressée au gouvernement.',\n",
       " 'La chaleur excessive est de plus en plus insupportable et plusieurs { personnes } se sont déjà évanouies. Afin de gérer la situation, le [ gouvernement ] a installé des pompes à eau de 2 mètres de haut un peu partout dans la ville.',\n",
       " \"Une [ ambulance ] l'a transportée à l'hôpital pour les premiers soins. Deux chars blindés de l'{ armée } ont été envoyés sur place en renfort.\",\n",
       " \"Dans le cadre de leur formation, des étudiants en médecine de l'[ Université de Lisbonne ] s'étaient rendus au laboratoire de l'hôpital. La table s'est renversée et l'azote s'est répandu, provoquant des brûlures aux jambes de quelques { personnes }. Les { blessés } ont été conduits aux urgences dans des fauteuils roulants où { ils } ont été rapidement pris en charge.\",\n",
       " \"Armés de gourdins et de lance-pierres, ils ont détruit des véhicules et les vitrines de plusieurs [ commerces ]. Je souhaite beaucoup de courage à mes collègues, les { forces de l'ordre }, et j'espère que les enquêtes en cours permettront de retrouver les voyous au plus vite.\",\n",
       " 'La suppression de plusieurs aides sociales par le { gouvernement } français a suscité une révolte au sein de la population guadeloupéenne. [ Ils ] étaient des centaines à être descendus dans les rues pour manifester leur colère. Bien que la police anti-émeute, munis de gaz lacrymogène et de balles en caoutchouc, était arrivée rapidement sur les lieux, la violence de la [ foule ] avait déjà causé de nombreux dégâts. La vidéo de la journaliste, Léna Trameur, qui montrait la [ foule ] déchaînée était devenue virale en quelques heures.',\n",
       " 'La cheffe de la rébellion a été arrêtée par la { police } chez elle. Les [ policiers ] ont eu vent de cette information et se sont rendus discrètement à son domicile.',\n",
       " 'Les [ deux ] individus se disputaient des forêts frontalières aux deux villes. Ce qui a commencé comme une simple marche a tourné au drame lorsque des partisans des deux villes se sont armés de { couteaux } et de pistolets.',\n",
       " 'Ces actes ont été qualifiés de « massacre » par l’ensemble des { médias internationaux } et comparés aux événements qui se sont déroulés à Sharpeville en 1960. Le chef de la police new-yorkaise a assuré lors d’une conférence de presse que les policiers avaient agi en état de légitime défense face à une émeute agressive, munie d’armes à feu, qui brûlait des [ pneus de voiture ].',\n",
       " \"Elle a conseillé aux { femmes déjà malades } de suivre un traitement spécifique et d'avoir une alimentation équilibrée, comportant des légumes et des fruits. À la fin, des [ t-shirts ] roses et des livrets résumant la séance ont été distribués aux nombreux participants.\",\n",
       " 'La vidéo montrait l’arrivée de la police dans la planque des { dealers }, un sous-sol d’un [ bâtiment abandonné ] en plein centre-ville.',\n",
       " 'Dans un communiqué radio, M. Thierry Fatoush, un agent de la police appelé en appui, a invité la jeunesse à plus de maîtrise de soi pour éviter ces [ situations ] déplorables. En rentrant chez lui, il a allumé son poste de télévision et a appris que M. { Charles Laurent } allait être libéré dans trois jours par ses ravisseurs à Belgrade.',\n",
       " \"Le < chauffeur > avait perdu le contrôle du bus lorsqu'il a traversé un pont.\",\n",
       " 'Monsieur Vidian Chen, président de l\\'association \"[ Help Us ]\", a donné une grosse somme d\\'argent pour financer la reconstruction du pont. Plusieurs { personnes } ont perdu leurs biens lors de ce bombardement, en effet, ce lieu était aussi un parking de voitures.',\n",
       " \"Le 29 décembre 2022, le [ syndicat des pompiers ] de Londres a manifesté pour revendiquer une hausse de salaire. Ils se sont positionnés devant la porte du bureau de l'{ autorité compétente }.\",\n",
       " \"En effet, les freins [ ont lâché ] en raison d'une fuite de liquide de frein causée par un maître-cylindre défaillant. La voiture s'est retrouvée les 4 roues en l'air, le moteur a d'abord { pris feu }, avant que tout le véhicule ne { brûle }.\",\n",
       " 'Le 13 octobre 2020, un camion d’{ œuvres d’art } volées a été intercepté par la douane à la frontière du Pérou, alors qu’il tentait de rentrer frauduleusement dans le pays. [ Cinq heures plus tard ], le camion apparaissait à l’un des nombreux points de passage illégaux de la frontière avec au volant, monsieur Santu Lopez, ancien détenu vénézuélien. Les fouilles menées dans le fourgon ont permis de découvrir plusieurs { objets } qui avaient fait l’objet d’un vol, une semaine plus tôt au Venezuela.',\n",
       " \"Un employé meurt happé par une machine dans une [ minoterie ]. Tôt le matin du 3 avril 2021, dans une [ entreprise ] de fabrication de farine au Loiret au sud de Paris, un homme est mort happé par une machine. « La machine à l'origine de l'accident a été placée sous scellée par les { gendarmes } en identification criminelle dépêchés sur place », a expliqué le procureur de la République de Loiret, Mme Aveline Hall.\",\n",
       " 'Alors qu’il se trouvait au large de la plage de [ Saona ] en Espagne, ce palace flottant a été complètement consumé par le feu. Selon les sauveteurs en mer espagnols, les sept membres d’équipage et les neuf { passagers } du yacht sont tous sains et saufs.',\n",
       " 'Manola Di Franco, responsable de l\\'association internationale \"Mère et fille\", et son fils ont été < victimes > d\\'un accident de voiture. Alertés par les témoins de la scène, les pompiers sont venus munis d\\'une civière afin d\\'amener les < victimes > à l\\'hôpital.',\n",
       " \"À la fin de leurs échanges, [ il ] a promis que leurs revendications allaient être étudiées lors de la prochaine réunion de l'{ équipe communale }.\",\n",
       " \"Lors d'une émeute à Paris le 2 septembre 2003, un jeune { homme } noir a été maltraité par un policier sous un abribus. La [ famille ] de ce dernier, blanche, a rassemblé des personnes de la même race pour défendre le policier.\",\n",
       " \"Un camion-citerne transportant de l'[ eau ] a parcouru la { ville } pour éteindre les flammes.\",\n",
       " 'À l’arrivée des < agents > devant la porte de la banque, les voleurs se faisaient la malle discrètement par-derrière. Depuis la fenêtre des toilettes, monsieur Bacem avait agité un mouchoir blanc pour attirer l’attention des < agents > et < les > aviser de ce qui se tramait par-derrière.',\n",
       " 'Depuis quelques heures, Mexico est le théâtre d’échanges de tirs à balles réelles entre l’armée et les { membres } du groupe armé \"{ Pour la Vie et l’Honneur }\", { combattants } venus de la frontière étasunienne. Ces { derniers } veulent prendre le contrôle du palais présidentiel et de l’armée. Dans des vidéos en direct, les membres du gouvernement ont affirmé qu’ils n’ont pas l’intention de laisser le pouvoir à ces { terroristes } et que tout est mis en œuvre pour assurer la sécurité de la population. Un décès qui a particulièrement ému la [ toile ].',\n",
       " \"Quatre jours après l’adoption de la loi anti-avortement par le [ Parlement ], des centaines de femmes sont descendues dans les rues de Belgrade. Au cours de la manifestation, deux participantes ont attaqué avec des coups M. { Eric Samara }, un militaire de l'équipe de sécurité. Ce { dernier } a dû se défendre avec du gaz lacrymogène, ce qui a déclenché la colère des manifestantes.\",\n",
       " \"Cette situation a attiré l'attention des médias et des [ journaux ] du monde entier. Monsieur { Sébastien Couatarmanach }, dont une sœur était albinos, a fait un don d'un million de dollars pour aider à protéger les victimes et pour soutenir les autorités dans la traque des trafiquants.\",\n",
       " 'Après avoir récupéré son fils à l’{ école }, la mère de famille a perdu le contrôle de sa voiture après avoir tenté de freiner à plusieurs reprises. Les ambulanciers les ont retrouvés au bord de la voiture dans une [ forêt ], contre un arbre, et les ont transportés à l’hôpital par des brancards.',\n",
       " \"Quelques heures plus tard, presque la totalité des < enfants > toussaient. La directrice et les < enfants > l'ont remercié en lui envoyant une petite lettre de remerciement.\",\n",
       " \"Ils ont mis divers entremets dans des assiettes blanches tels que des [ biscuits ] et des fruits. { Ils } ont été conduits à l'hôpital.\",\n",
       " 'Une fête a été organisée à l\\'Ohio le 18 mai 2011 pour célébrer le bizutage des { jeunes recrues } de la confrérie \"Gama-téta\" entrées en première année. Mlle Florella John, l\\'une des { jeunes recrues }, a pris un gobelet en plastique pour se servir un verre de cocktail. [ Une minute après ], elle a commencé à s\\'étouffer. Un de ses { camarades }, Thomas, a pris son téléphone et a contacté les secours.',\n",
       " \"Dans une usine de chaussures en { Norvège }, le 14 mai 2014, Matiguida Campbell, une jeune immigrée née en Allemagne, a incité ses collègues de travail à arrêter leurs machines et à se joindre à elle pour manifester. 90% des ouvriers ont quitté leur poste, vidé leurs [ casiers ] pour se joindre à la grève, et ont manifesté à l'aide de pancartes, tandis que les 10% restants, ayant peur de perdre leur travail, sont rentrés chez eux pour suivre l'évolution de la grève à la télévision.\",\n",
       " 'Ce matin, Jonathan Trameur et Princio Trameur, [ deux ] frères { cofondateurs } de l\\'organisation \"Berlin verrerie chimique\", ont donné un cours sur le verre utilisé en laboratoire à des stagiaires.',\n",
       " 'Le 23 juin 2013 en { Ukraine }, un incendie s\\'est déclenché dans un complexe pétrolier. Madame Janyne Mohamed et dix autres membres de l\\'association [ ukrainienne ] \"Un Sinistre, Une Assistance\", ont rendu visite aux victimes.',\n",
       " \"Ce jour du 12 mai 2005, à [ Ouagadougou ], les rues sont presque vides à l'exception de quelques véhicules blindés et motards qui effectuent des rondes périodiques. À travers des vidéos sur YouTube et Facebook, les leaders du groupe ont en effet annoncé que leurs combattants armés de grenades agiront bientôt sur la [ capitale ]. Le chef de l'État a appelé la { communauté internationale } à l'aide et espère un soutien financier et surtout militaire qui l'aidera à protéger sa population.\",\n",
       " \"Un ouvrier nettoyeur a été victime d'une réaction chimique dans une < usine de fabrication de fluorures inorganiques >.\",\n",
       " 'Un { homme } qui se trouvait près de l’école et qui a entendu l\\'[ attaque ] a appelé depuis son téléphone \"l’organisation internationale santé verte universelle\".',\n",
       " 'C’est donc six passagers en tout que les pompiers ont retrouvés sur les [ lieux ]. Toutefois, une inspection a été demandée au { Bureau d’études BTP }.',\n",
       " \"Deux [ chars blindés ] de l'armée ont été envoyés sur place en renfort. Peu de temps après, le calme est revenu dans les { rues } et les populations ont pu souffler.\",\n",
       " 'Une bande de trois voyous a agressé, dans l\\'après-midi du 12 avril 2020, un couple de volontaires [ belges ], membres de l\\'ONG \"GlobalHealth\". Au moment de l\\'agression, les victimes, Monsieur Pascal Anderson et son épouse, Madame Aline Anderson, visitaient un souk exposant des objets d\\'art à { Fès }. Après avoir réussi à leur prendre de force leurs portefeuilles, les voleurs se sont enfuis à toute allure à travers les ruelles de la ville de { Fès }, au Maroc. Le couple, qui ne maîtrisait pas les { lieux }, n\\'a pas réussi à les rattraper.',\n",
       " \"Il a immédiatement appelé l'équipe du support technique avec son [ portable ] afin de trouver rapidement une solution. Les { invités } étaient tous déçus, mais M. Thompson leur a assuré qu'il serait reporté à une date ultérieure.\",\n",
       " 'Cela avait entraîné un embouteillage monstrueux dans la < ville >.',\n",
       " 'Des { troupes de sauvetages } avec des équipements spécialisés ont été envoyés pour retrouver les [ naufragés ].',\n",
       " 'Dans un [ laboratoire ] \"{ UNI.corp }\" à Pasadena, un groupe de scientifiques devait être évacué à cause d\\'un ouragan de catégorie 4 l\\'après-midi du 05 mai 2018.',\n",
       " 'Une marche de lutte contre l’usage des véhicules usés, organisée par l’association « { non à la pollution } », a eu lieu hier matin en Argentine. Muni d’un mégaphone et d’une pancarte, Monsieur Elizio Da Silva, président de l’{ association }, a déclaré haut et fort que les voitures et motos utilisées depuis plus de 20 ans ne devraient plus être conduites. Le camp adverse a lancé des pierres, blessant 4 [ agents de la police ].',\n",
       " '{ Il } aura perdu toutefois un important lot de tissus de grande valeur telle que des étoffes de soie et de [ lin ] de qualité supérieure, mais aussi des vêtements de haute couture habillant des mannequins exposés en vitrine.',\n",
       " 'Trente cas ont déjà été signalés dans plusieurs [ villes ] du { pays } et les tests effectués ont permis de confirmer qu’il s’agissait bel et bien d’une infection à Norovirus.',\n",
       " \"Une petite fille qui était [ tombée ] dans une excavation a pu être libérée ce 14 juillet 2018. M. { Asael Joseph }, le président de l’Agence Nationale du Secours, a déclaré que le nécessaire sera fait pour les habitants d’Istanbul afin qu'ils retrouvent leur vie d’avant.\",\n",
       " \"Le [ 3 mars 2007 ], lors d'un pèlerinage à Belize City, les membres de l'{ association des jeunes islamistes } ont fait face à une tempête tropicale.\",\n",
       " \"L'incendie s'est étendu sur 1000 m² avant d'être maîtrisé par les pompiers [ après 4 heures ] d'intervention. Témoin de l'incendie, Monsieur { Denis Leguerrec } a remercié les pompiers pour leur travail exceptionnel et leur efficacité, et a encouragé les jeunes à devenir pompiers car, selon { lui }, c'était un travail noble.\",\n",
       " '\"C\\'est seulement lorsque les flammes étaient arrivées à une certaine hauteur que tout le monde a paniqué\", déclare une { femme } qui habite à l\\'école primaire publique qui jouxte les piles de matelas de Behoririka. Presque tous les [ stands en bois ] avec les matelas ont brûlé, et la façade Est du centre commercial a également été touchée.',\n",
       " 'Un incident s’est produit le 17 juin 2019 à [ Dubaï ]. Le bateau de Madame Anne-Eléonore Williams, présidente de l’{ association des plus grands exportateurs } a fait naufrage sur la côte après des jours de voyage. En effet, ce dernier contenait des objets précieux, comme une statuette de tigre en marbre, un calice d’un Pharaon en or et divers objets de valeur qui devaient être mis en vente pendant le festival des antiquités à [ Dubaï ] le 20 juin.',\n",
       " \"Les victimes se comptaient par dizaines et le chef de l'État et sa { famille } ont été pris en otage. Cela a été approuvé et Chazal Leiyna a demandé aux [ maires ] de toutes les villes de France d'envoyer des courriers pour faire connaître les besoins de leurs communes respectives.\",\n",
       " 'L’avis concernait le [ sirop Perctral ], un [ produit ] utilisé dans le traitement de la toux chez les enfants. Selon le communiqué, les [ médicaments ] ont été contaminés par une bactérie lors d’un test en laboratoire. Les pharmacies du pays ont été sommées de renvoyer les [ produits concernés ] sous peine de voir leurs officines fermées. Le gouvernement a demandé aux personnes ayant déjà acheté et utilisé le [ produit ] de se rendre à l’hôpital pour une prise en charge adéquate. Afin que l’information parvienne à tout le monde, un { groupe d’étudiants bénévoles } dirigés par Arthur Abert, a décidé de faire du porte-à-porte dans les quartiers les plus pauvres de Lisbonne. { Ils } ont également publié des vidéos sur Facebook et TikTok à ce propos.',\n",
       " \"Lors d'un incendie qui s'est déclenché dans un appartement à Prague le 2 octobre 2001, M. Franzy Rodriguez, une jeune recrue de la brigade des { pompiers } et fils de M. Alberto Rodriguez, un brave membre de l'équipe, a été appelé pour aider l'équipe. En donnant des coups de hache, il a manqué de vigilance face à un [ conduit de gaz ] encastré dans le mur.\",\n",
       " 'Un immeuble dans le sud de Londres a pris feu à cause de la vétusté des { installations électriques } qui dataient du [ 10 janvier 1970 ].',\n",
       " 'Contactés par une [ infirmière ], sa { femme } et ses enfants sont vite arrivés, en larmes.',\n",
       " \"Deux yachts sont entrés en collision au { port } d'Hambourg. Les experts ont également inspecté l'état du [ matériel ] et les équipements d'aide à la navigation des deux bateaux.\",\n",
       " \"Lors de cet événement, un homme vêtu de [ noir ] est décédé à cause d'une overdose de médicaments et d'alcool. Cette application a suscité beaucoup d'intérêt auprès des donateurs, qui ont décidé de faire un { don conséquent }.\",\n",
       " 'Un braquage de { banque } a eu lieu à Belize hier matin. La banque { BDF } a été prise d’assaut par des individus portant des cagoules. Tout s’est déroulé dans le calme avant que Monsieur Dominique Dos Santos, un client de la { banque }, ne presse le bouton d’alerte. La police s’est donc introduite de force dans la { banque } après avoir entendu les coups de feu. Ce carnage a coûté la vie à [ 12 ] personnes.',\n",
       " \"À l'entrée de la ville, des < équipes médicales > étaient en place avec des ambulances pour prendre en charge les blessés venant de la forêt.\",\n",
       " \"Un grave { accident } s'est produit le 22 août 2022 à [ Nantes ], impliquant une voiture et deux poids-lourds.\",\n",
       " 'Le { conducteur } du camion a affirmé que les [ freins ] ne répondaient plus à sa commande.',\n",
       " \"Des feux de voitures ont été lancés par certains des [ manifestants les plus extrémistes ]. Madame Da Silva a été directement impliquée par la { police } étant donné ses responsabilités dans l'organisation globale de la manifestation.\",\n",
       " \"Il était dans l'obligation de mettre un terme à son mariage, et s'était mis à boire de l'{ alcool } puis il s'est renfermé sur lui-même. La famille lui avait conseillé de voir un psychologue, mais tôt, le [ matin ], en lui apportant son petit-déjeuner, sa mère l'a trouvé sur son lit, sans vie, avec des boîtes de médicaments vide par terre et une lettre à la main.\",\n",
       " \"Son frère, M. Florent Adams, est cependant l'un des { organisateurs } de la manifestation. Les forces de l'ordre, venues sur place, ont dû recourir à des [ grenades lacrymogènes ].\",\n",
       " \"Au moment de l'agression, les victimes, Monsieur Pascal Anderson et son épouse, Madame Aline Anderson, visitaient un souk exposant des [ objets d'art ] à Fès. Après avoir réussi à leur prendre de force leurs portefeuilles, les voleurs se sont enfuis à toute allure à travers les { ruelles } de la ville de Fès, au Maroc.\",\n",
       " 'Au cours d’un gala de charité offert par le maire de la ville de [ Jakarta ] le 06 mai 2021 dans sa résidence, plusieurs statuettes en or, des bijoux et des pierres précieuses exposés ont été dérobés. Toutes les { personnes } présentes sur les lieux ont été sommées de rester jusqu’à la fin des interrogatoires.',\n",
       " \"Le 18 avril 2005, les stagiaires de l'entreprise de bâtiment { Granite } se sont rendus sur site pour une journée d'observation dans un immeuble en construction à Oklahoma. En essayant de les esquiver par le [ bord de l'immeuble ], il a accidentellement fait tomber sa brouette 3 étages plus bas.\",\n",
       " 'Une fois sur place, elle a dû patienter sur une chaise dans la [ salle d’attente ] car { il } était en réunion.',\n",
       " 'Au micro de la [ presse nationale ], plusieurs personnalités membres de l\\'Association pour la \"Libération des Opprimés\" sont montées au créneau pour dénoncer la mauvaise foi du { gouvernement }.',\n",
       " '[ Ce dernier ] a voulu aider la { police } à riposter face aux manifestants.',\n",
       " \"Le [ 6 décembre 2017 ], les rues de Times Square à New York sont noires de monde. Parmi les victimes, la jeune Mme Brown Lïa avait appelé la { police } pour indiquer qu'elle avait vu un homme déposer un sac très étrange dans le magasin. Pour les manifestants, la { police } n’a pas joué son rôle de protecteur de la cité.\",\n",
       " \"L'organisation des Alcooliques Anonymes de Belleville, composée de 32 personnes, s'est réunie en hommage à Merrick Destresse qui s'est { suicidé } la nuit du 28 juin 2012. Mais le jour de l'anniversaire de sa fille, le [ 28 juin 2022 ], il a craqué. Complètement ivre, il s'était rendu sur un pont et avait enjambé les remparts, puis avait { sauté } du pont quelques minutes après.\",\n",
       " \"L'incident est survenu dans la nuit, alors que tous les employés étaient déjà rentrés [ chez eux ]. Abderraouf Wright, membre de la { cellule de lutte contre la corruption }, a affirmé qu'il fallait s'interroger sur la vraie origine de cet incendie car le seul étage ayant brûlé est celui contenant des documents sensibles, alors même qu'une enquête de corruption impliquant certains cadres de l'ARR venait d'être ouverte.\",\n",
       " \"La crise s’est traduite par une [ chute ] des cours boursiers et une baisse des liquidités, ce qui a entraîné une { hausse } des taux d'intérêt provoquant un fort ralentissement de l'activité économique.\",\n",
       " 'En effet, ces derniers ont accidentellement versé une grande quantité de sucre et du sel dans les bidons de vinaigre disposés pour la présentation aux { investisseurs }. Les [ équipements ] de la société destinés à ces employés tels que la tablette, la combinaison de travail ont été remis à la société avant leur départ.',\n",
       " \"Le jour des funérailles, les jeunes du { groupe } ont tous chanté en l'honneur de l'[ évêque ], et de nombreuses chaînes de télévision et de radio sont venues.\",\n",
       " \"Provoqué vers 11 h par l'embrasement d'un camion frigorifique semi-remorque belge transportant de la margarine et de la farine, à environ 7 km du tunnel, le violent incendie cause la mort de plusieurs { personnes } et entraîne la fermeture du tunnel pendant une durée d'environ 3 ans. Deux ans plus tard, Monsieur Amable Martin, membre de l’association « protégeons l’environnement », a sorti un [ livre ] relatant l’histoire de cet incendie dévastateur pour son pays natal.\",\n",
       " \"Monsieur Raby Flores, membre de l’association ‘’Non au trafic des enfants’’ au Niger a été convié à une marche non autorisée par l'association des syndicalistes à la { Place de la concertation }. Les convives étaient munis de masques, de feuilles, de [ stylos ], des banderoles et de marqueurs pour écrire des tracts et des pancartes.\",\n",
       " \"Un [ locataire ] d'un immeuble, Monsieur Pierre-Joseph Walker, avait réuni ses voisins dans le hall du bâtiment pour une séance d'évangélisation. L'occupation des parties communes, empêchant la libre circulation, étant interdite, la { gardienne } a aussitôt contacté le syndic par téléphone pour le tenir au courant de la situation.\",\n",
       " 'Le 13 février 2010, un violent { cyclone } a frappé la ville de Paris. Le { cyclone } est entré en force vers 3 heures du matin avec un vent qui soufflait fort. Le directeur de l\\'ONG \"Oisillons\", Alain Dupond, après le ravage causé par le { cyclone }, a fait un don au gouvernement pour rénover les écoles de la ville. C\\'était le { cyclone } le\\xa0plus violent que Paris n\\'ait jamais rencontré. La pluie est tombée pendant presque [ trois jours ] et les impacts étaient importants.',\n",
       " \"Au vu de leur état critique, ces personnes ont été transportées sur le champ à l'< hôpital >.\",\n",
       " 'Le matin du 13 décembre 1990, une frappe d’un avion de l’armée s’est abattue sur un [ camp ] tenu par des rebelles. L’{ équipe sanitaire } arrivée peu après, a mis des bandages sur ses membres endoloris.',\n",
       " 'Alertés par téléphone par le directeur de l’usine, { Jean-Eloi García }, les [ pompiers ] se sont dépêchées sur les lieux, de même que plusieurs ambulances et hélicoptères des forces armées norvégiennes.',\n",
       " 'Ce 25 mai 2009 à Bombay, s’est achevé le congrès annuel des industriels organisé par l’association « { Hydrobom } ». En plein milieu du [ gala ] de clôture, une explosion a eu lieu au rez-de-chaussée de l’immeuble où se déroulait l’évènement.',\n",
       " 'Des pluies torrentielles frappent [ Paris ] depuis plusieurs jours, causant de nombreux dégâts matériels. Le { gouvernement } a envoyé des policiers pour effectuer des patrouilles. M. Martin Deneuve, un inspecteur de police, a demandé que fourgons soient envoyés pour récupérer les tableaux et sculptures des musées de la [ ville ] afin de les sauvegarder.',\n",
       " 'Dans la soirée du 14 octobre 2015, la directrice de la société { Anthelmine Thomas } a renvoyé près d’une vingtaine de ses employés. Les équipements de la société destinés à ces employés tels que la [ tablette ], la combinaison de travail ont été remis à la société avant leur départ.',\n",
       " 'Un bus a fini sa course dans un ravin, faisant deux { morts }, dont le secrétaire du parti politique ABCer, Jones Abdelfattah, et des [ dizaines ] de blessés parmi les passagers.',\n",
       " 'Le 05 avril 2021, la ville de [ Manchester ] a été le théâtre d’un événement malheureux. Deux petits { garçons } d’origine pakistanaise se rendaient à l’école à vélo et ont été renversés par un automobiliste. Elle a présenté ses condoléances aux familles des { victimes } et a assuré que justice sera faite.',\n",
       " 'Il a { plu } pendant une [ dizaine de jours ] à Londres.',\n",
       " \"Le président de l'[ association ], Monsieur { Jack Tellier }, a été victime d'un accident en sortant du siège de l'[ association ].\",\n",
       " 'Les { participants }, tous habillés en tee-shirts blancs et baskets, ont alors commencé la [ marche ] avec entrain.',\n",
       " '{ Il } a déclaré que l’accident était dû à un dysfonctionnement des freins de sa [ voiture ].',\n",
       " \"D'< autres > se dirigeaient vers le prêtre pour recevoir l'hostie de sa coupe.\",\n",
       " \"Les voitures et les motos étaient hors d'usage en raison du manque de [ carburant ] dans les stations. Le 13 juin 1999, lors de son 40ème anniversaire, l'économiste M. { Uwe Ahmed } a déclaré dans une interview à la télévision et à la radio que le pouvoir d'achat des consommateurs était nettement en baisse.\",\n",
       " \"La suppression de plusieurs aides sociales par le gouvernement français a suscité une [ révolte ] au sein de la population guadeloupéenne. Ils étaient des centaines à être descendus dans les rues pour [ manifester ] leur colère. C'est là que la [ manifestation ] a vite dégénérée. Bien que la { police anti-émeute }, munis de gaz lacrymogène et de balles en caoutchouc, était arrivée rapidement sur les lieux, la violence de la foule avait déjà causé de nombreux dégâts.\",\n",
       " 'Ce matin au { Liberia }, M. Vlasta Rodriguez, le directeur de l\\'organisation \"Futur Africain sans Épidémie\", a distribué des kits de protection contre l\\'Ebola. M. Vlasta Rodriguez, vêtu d\\'une [ combinaison de protection ] blanche, a rassuré le personnel hospitalier sur le soutien sans faille de l\\'organisation \"Futur Africain sans Épidémie\".',\n",
       " 'Dans une résidence du quartier Balat à Istanbul, un barbecue large de 60 cm sur lequel avaient été grillés des ribs de porc et des [ saucisses ] a pris feu. C\\'est l\\'{ un } des voisins, Monsieur { Abderahime King }, directeur d\\'une association nommée \"Educ-santé\", qui, apercevant de la fumée depuis sa fenêtre, a contacté les secours.',\n",
       " 'Selon la porte-parole de l’{ État }, Dominique Dos Santos, la perte pour les éleveurs s’élève à plusieurs dizaines de milliers de pesos. Dans une filière déjà fragilisée par le prix des [ intrants ], ces délits rendent l’élevage de plus en plus difficile.',\n",
       " \"Au Portugal, une nouvelle inquiète la { communauté } de Sines. Quelques semaines plus tard, un échantillon de terre et quelques cultures du [ potager ] à l'arrière de sa maison sont recueillis par une équipe d'experts du Laboratoire national de chimie environnementale, à l'aide d'un puits d'exploration.\",\n",
       " \"Le carnaval de l'association de protection des oiseaux a eu lieu à { Rio de Janeiro } le 18 janvier 2013. Elle a ensuite enflammé les poudres à canon, conçues pour mettre fin aux [ feux d’artifice ] à la fin du carnaval.\",\n",
       " \"Dans une { vidéo } postée sur les réseaux sociaux, il a remercié le peuple pour sa confiance et pour l'avoir aidé à trouver les grandes lignes de son programme de travail. Le [ 8 mai 2018 ], le nouveau chef d’Etat, dont la résidence est à Muhanga, s’est rendu en hélicoptère à Kigali pour les préparatifs de la cérémonie d’investiture.\",\n",
       " 'Le matin du 10 janvier 2010, Arthur et { Jacques Laurent }, cofondateurs de l’association « [ Jeunes marins ] », ont donné une conférence de presse dans leurs locaux.',\n",
       " 'Le 16 décembre 2022, Mme [ Agatha Constant ], présidente de la fondation \"{ Buenos }\", a été aperçue lors d\\'un mouvement de coup d\\'État en Allemagne.',\n",
       " \"Un { séisme } de magnitude 7,6 a frappé le Japon le 12 mai 2015. Le { Séisme } a eu lieu pendant que la population se préparait pour rejoindre leurs familles suite à une alerte au séisme. { Il } a duré moins d'une minute. Plusieurs véhicules ont été piégés au [ milieu ] d'un pont. Après l'{ événement }, il y a eu plusieurs blessés.\",\n",
       " 'Autour d\\'une table ronde de l\\'association [ Chimisto Madi ], les doctorants munis de badges bleus ont longuement discuté. Un { étudiant en licence } a mélangé des produits chimiques incompatibles. Les locaux de l\\'association \"[ Chimisto Madi ]\" ont été évacués.',\n",
       " 'La directrice du centre, une ancienne aide-soignante, a pris son [ thermomètre ] et son stéthoscope et a appelé les { autorités } pour signaler une possible épidémie de grippe contagieuse.',\n",
       " \"La { troupe } était conduite par Madame [ Jehane Leguerrec ], une enseignante des classes de cours moyen de l'organisation.\",\n",
       " \"Elle devait se rendre dans sa { ville } : { Marseille }. Sur la route, elle avait perdu le contrôle de son volant et s'était heurtée à un [ arbre ].\",\n",
       " 'Le 28 novembre 2014 lors de la présentation du < salon d’aquarium > de Marine Land dans le Minnesota, Monsieur Meydi a été retrouvé mort, flottant dans un énorme bassin proche de la porte de sortie.',\n",
       " \"Le premier [ jour ] de la rentrée scolaire, une école de province a été victime d’une attaque à la bombe. M. Tahyss Brown, un aide-soignant, a été très peiné en nettoyant avec du coton les plaies d'une écolière en { hijab }.\",\n",
       " 'Des dizaines de pavillons sont { partis en fumée } au marché de [ Rennes ].',\n",
       " \"Selon les dires de son { collègue } de la même chaîne de production, l'homme avait détecté un bourrage dans un broyeur mélangeur et essayé de le débloquer. « La machine à l'origine de l'accident a été placée sous scellée par les gendarmes en identification criminelle dépêchés sur place », a expliqué le [ procureur ] de la République de Loiret, Mme Aveline Hall.\",\n",
       " \"Le 18 avril 2005, les stagiaires de l'entreprise de bâtiment { Granite } se sont rendus sur site pour une journée d'observation dans un immeuble en construction à Oklahoma. Elle est arrivée sur un poste de soudure et a [ pris feu ].\",\n",
       " 'En effet, 6 bijouteries ont été braquées le [ même jour ] à la même heure par des { individus encagoulés }.',\n",
       " 'Après quelques minutes, les ambulanciers sont arrivés sur les [ lieux ] et ont pris en charge le { patient } qui est malheureusement décédé plus tard dans la soirée.',\n",
       " \"Après plusieurs jours de recherches effectuées par le scientifique Hamar García, il a déclaré que cela venait du gaz qui se dégageait dans les { égouts }. En effet, le gaz d'égout contenait plusieurs produits qui pouvaient prendre feu facilement, tels que le sulfure d'hydrogène et l'[ ammoniac ].\",\n",
       " 'Ainsi, plusieurs voitures et fourgons de police ont été postés aux différentes [ sorties ] de la { ville }.',\n",
       " \"Mais à l'extérieur de la salle de vote, une dispute a éclaté entre [ deux ] individus. Les coups ont continué jusque sous la { tente } où se trouvait l'urne des bulletins.\",\n",
       " 'Dans la journée du 04 septembre 2022, plusieurs départs de [ train ] en provenance de Séoul ont été reportés en raison d’une manifestation. Leur sac en main, certains voyageurs assistaient, médusés, à une scène sans précédent, tandis que d’{ autres } la filmaient avec leur téléphone portable.',\n",
       " 'Madame Léna Trameur, membre de l’association « [ Une mère, un foyer ] », et son fils Jim Trameur ont été { victimes } d’un accident de voiture hier matin à Paris.',\n",
       " 'Des manifestants se sont rassemblés dans les rues pour protester contre le < président sortant >, brandissant des pancartes et des banderoles insultantes.',\n",
       " 'Le coup de sifflet de départ a été donné devant le [ Fort de Lahore ] par M. Syloe Alves, président de ladite association. La { cérémonie de remise des médailles } a débuté.',\n",
       " 'Un accident a eu lieu à Antananarivo le [ 22 juillet 2008 ], lors du festival \"{ Loko race }\".',\n",
       " \"Un ouvrier nettoyeur a été victime d'une { réaction chimique } dans une [ usine de fabrication de fluorures inorganiques ].\",\n",
       " 'Face à cette inflation, la population locale a manifesté son mécontentement en bloquant les { routes } dans toute la ville. Munis de [ pancartes ] et d’un mégaphone, ces derniers ont brûlé des pneus de voiture et ont lancé des pierres sur la police.',\n",
       " 'Les polices ont été alertées par téléphone grâce à un appel d’un { témoin } de l’[ accident ].',\n",
       " 'Madame Deliah Durant, à la tête de l\\'entreprise familiale \"MANGOP\", a fait partie des victimes du { crash } de l\\'avion \"TR56\" du [ 12 avril 2001 ] en Argentine.',\n",
       " 'Ce matin à Madrid s\\'est déroulée la réunion annuelle des { chercheurs en chimie appliquée }. Autour d\\'une table ronde de l\\'association [ Chimisto Madi ], les doctorants munis de badges bleus ont longuement discuté. Les locaux de l\\'association \"[ Chimisto Madi ]\" ont été évacués.',\n",
       " 'Anam Destresse, président de l\\'ONG \"Ma passion\", a été blessé dans un { accident }. Le 30 juin 2022, un { accident de circulation } s\\'est produit entre une moto et un bus sur l\\'autoroute de Saint-Marin en Italie. Le bus, qui transportait [ 20 ] passagers, appartenait à l\\'ONG. Lors de l\\'{ accident }, les panneaux de signalisation ont été complètement endommagés et le garde du corps a été blessé.',\n",
       " 'M. Icare Smith, un ancien stagiaire de l’usine \"Pesticides bios sûrs\", s’est rendu en train dans les locaux de l\\'{ usine }, situés à Angers. M. Icare Smith était en train de signer le registre de l’{ usine }, lorsqu’une explosion s’est déclenchée dans le bâtiment. De gros nuages de fumée se sont [ répandus ] dans l’atmosphère.',\n",
       " \"Le [ site d'élimination ] des déchets industriels, situé dans le { Nord-Pas-de-Calais }, a été temporairement fermé.\",\n",
       " \"Lors d'une manifestation des syndicats du personnel administratif aux Seychelles, plus de dix mille personnes se sont rassemblés avec des banderoles dans la < rue >. Mais cette manifestation n'a pas été autorisée par l'autorité compétente, provoquant le mécontentement des manifestants qui ont alors brûlé des pneus sur les < routes >, obstruant la circulation des automobiles.\",\n",
       " 'Le forum des métiers organisé par l\\'association \"{ Vivre en rêvant }\" a débuté le 17 juillet 2012 à Mexico. M. Carlos Peter, le responsable du stand numéro 10, a été [ piégé ] par deux hommes portants une casquette. Le propriétaire du stand numéro 9 a vu toute la [ scène ] et a signalé le [ vol ] à la police. Puis ils ont sorti un pistolet et l\\'ont [ obligé ] à donner son portable et son ordinateur.',\n",
       " \"À Paris, le 20 mai 2020, Madame < Oliphie Trameur > a été attaquée par des voyous alors qu'< elle > rejoignait sa voiture. < Elle > venait de terminer de présider une réunion des associés avec son mari au siège de sa société aérienne, Voling. Deux bandits ont braqué leurs armes à feu sur < elle > et ont commencé à la menacer. Paniquée, < elle > a fini par céder au chantage des voyous en leur donnant tout ce qu'ils ont demandé. Ils < l' >ont aussi obligée à leur donner tout son argent ainsi que ses bijoux.\",\n",
       " \"Cette application a suscité beaucoup d'intérêt auprès des < donateurs >, qui ont décidé de faire un don conséquent.\",\n",
       " 'Monsieur Liu Alphonse a été victime d\\'un accident en Californie alors qu\\'il conduisait son véhicule de la marque [ BMW ]. Une fois à l\\'hôpital, il s\\'est fait soigner par l\\'{ un } des médecins intervenant à l\\'ONG \"Assistance aux patients\".',\n",
       " \"Une catastrophe naturelle dans l'État de Floride porte atteinte au bon fonctionnement des installations de la centrale nucléaire de Turkey Point, située sur un terrain de 13 km2 à environ 56 km au sud de Miami, près du { Parc national } de Biscayne. Qualifiant cet incident d'accident nucléaire de niveau 5, M. Joss John de l'Agence Internationale de l'Énergie Atomique a invité l'administration floridienne à décréter un confinement et à distribuer des pastilles d'iode stable aux habitants dans un [ rayon de dix kilomètres ].\",\n",
       " 'Le 6 avril 2018, la police a effectué une descente au < domicile > de Madame Nahil Pérez, la responsable de la société \"Macarena\".',\n",
       " \"Le 18 avril 2005, les stagiaires de l'entreprise de bâtiment Granite se sont rendus sur [ site ] pour une journée d'observation dans un [ immeuble en construction ] à Oklahoma. En essayant de les esquiver par le bord de l'immeuble, il a accidentellement { fait tomber } sa brouette 3 étages plus bas.\",\n",
       " \"La [ nuit du 18 mars 2017 ], elle a en effet été aperçue par un contact de la police pendant qu'elle ordonnait à ses hommes d'exécuter un de ses livreurs douteux. Après plusieurs recherches non fructueuses, les policiers ont enfin pu observer sur les { caméras de surveillance } Madame Nayeli Hill conduisant une voiture noire immatriculée SWX954.\",\n",
       " \"Le 23 mai 2017, l'association protégeant les droits des enfants a décidé de construire un terrain de basket pour les < jeunes > de Marrakech.\",\n",
       " \"{ Plusieurs } ont ainsi perdu leurs maisons et autres objets de valeur à cause d’investissements peu judicieux. Les membres du groupement espèrent que les [ participants ] à la manifestation seront nombreux, le but étant d'en apprendre plus avant d’investir dans l'or et l'argent.\",\n",
       " 'Une fête a été organisée à l\\'Ohio le 18 mai 2011 pour célébrer le bizutage des jeunes recrues de la confrérie \"[ Gama-téta ]\" entrées en première année. { Un } de ses camarades, { Thomas }, a pris son téléphone et a contacté les secours.',\n",
       " 'À Londres, une usine de fabrication d\\'arbres de Noël nommée \"Mon beau sapin\" a été incendiée par des { ouvriers } mécontents le 26 août 2003. Selon le témoignage de Monsieur Sébastien Couatarmanash, ce trouble a été causé par une omission d\\'accident de travail, dans lequel trois de ses [ collègues ] avaient été blessés.',\n",
       " 'Le 6 décembre 2017, les rues de Times Square à [ New York ] sont noires de monde. Personne ne parlait et seules les { banderoles } annonçaient la raison de cette manifestation.',\n",
       " 'Un mouvement anti-massacre a depuis été créé par Madame < Juline Miller > pour lutter contre les violences policières. Madame < Miller > a déclaré que son pays natal, le Ghana, devait se remettre sur le chemin de la paix.',\n",
       " 'Mais une { alarme à incendie } a retenti à cause d’une fumée dense causée par une mauvaise manipulation de produit chimique. La fumée toxique a asphyxié la journaliste et plusieurs personnes présentes ce [ jour-là ].',\n",
       " \"À San Francisco, la nuit du 22 juin 2006, a eu lieu une [ soirée d'inauguration ] pour l'ouverture officielle du laboratoire New Idea, créé par Monsieur Esteban Zhang. Le mélange des produits a engendré une fumée toxique qui a { asphyxié } la plupart des invités.\",\n",
       " \"Le 23 mai 2017, l'association protégeant les droits des enfants a décidé de construire un terrain de basket pour les [ jeunes ] de Marrakech. Ce projet a été pensé pour fédérer la { population } et favoriser l'amitié. Cependant, deux ans après la construction du terrain, les { habitants } ont commencé à avoir des différends concernant sa gestion.\",\n",
       " \"La municipalité de [ Zapopan ] au Mexique (localisée à une latitude de 20.727859) a été secouée par le suicide d'une jeune élève de 16 ans le 25 novembre 2018. L'{ Association Mexicaine de prévention du suicide } a décidé d'organiser une campagne pour sensibiliser les élèves, les enseignants et les parents aux dangers du harcèlement scolaire.\",\n",
       " 'La Guerre civile ivoirienne est une révolte et une insurrection populaire en [ Côte d’Ivoire ], opposant les forces armées et différents groupes rebelles. La guerre a commencé le 15 mars 2011 par des { manifestations } anti-régime et en faveur de la démocratie.',\n",
       " 'Les { blessés } ont été conduits à l’hôpital et l’enquête effectuée révèle que l’incident a été déclenché par la mauvaise conservation de fûts de pétrole. Afin d’éviter ces incidents, Madame Dufour Abigaël a demandé l’installation de [ panneaux ] préventifs dans les usines.',\n",
       " 'Deux gangs, les “{ Tigres Maya }” et les “XLF” se sont affrontés dans une fête foraine, semant la débandade et la terreur. Selon un témoin, Monsieur Dominique Dos Santos, certains des [ bandits ] étaient équipés de fusils d’assaut de type HL G36 et de gilets pare-balles. Au son des sirènes de la police, les [ membres ] des deux gangs ont pris la fuite. [ Ils ] sont actuellement recherchés par les forces de l’ordre qui ont réussi à [ les ] identifier et ont lancé contre [ eux ] un mandat d’arrêt.',\n",
       " \"Une [ dizaine ] d'autres { personnes } grièvement brûlées ont grimpé sur des branches d'arbres pour s'abriter des flammes.\",\n",
       " \"L'épidémie de fièvre, provenant du virus de Lassa, qui touche actuellement le Mali, ne cesse de faire des { victimes }. Les hôpitaux sont débordés et il n'y a plus de lits pour recevoir les { malades }. Mme Walida Alibert, la responsable de l'ONG, réside actuellement à [ Bamako ]. Cette aide pourra permettre d'endiguer la maladie et d'éviter qu'elle n'atteigne les { pays limitrophes }.\",\n",
       " 'Un immeuble dans le { sud } de Londres a pris feu à cause de la vétusté des installations électriques qui dataient du 10 janvier 1970. À la suite de cet incident, le directeur de l\\'Association \"STOP-FIRE\", Zoel Walker, s\\'est engagé à aider les victimes en les relogeant provisoirement dans un quartier à proximité, et en leur remettant une somme d\\'argent pour l\\'achat des [ produits de première nécessité ].',\n",
       " 'À bord de son véhicule, Monsieur Jess Alves, membre de l\\'association \"Un enfant, une famille\", a percuté un [ jeune homme ] sur sa bicyclette. Monsieur Jess Alves a contacté les { autorités } avec son téléphone portable. Arrivée sur le lieu de l\\'accident, la police a pu identifier la [ victime ] grâce à sa carte d\\'identité. La [ victime ] a été transportée à l\\'hôpital le plus proche pour recevoir les soins nécessaires.',\n",
       " 'Une [ voiture ] bleue a percuté un piéton à Charly-sur-Marne vendredi soir. La victime a été transportée à l’{ hôpital }.',\n",
       " 'Les secours sont arrivés sur le [ lieu ] en hélicoptère et bateau. Les affaires personnelles de la victime telles que son portable et sa tablette ont été saisies par les { autorités } australiennes afin d’informer ses proches de l’accident.',\n",
       " 'Suite à la mort de trois jeunes personnes au cours d’une { arrestation } policière, des émeutes ont éclaté dans la ville de Belgrade. Les citoyens ont été invités à rester [ chez eux ] jusqu’à nouvel ordre afin d’éviter toute déconvenue.',\n",
       " \"Heureusement, le contrat d’assurance signé avec l'agent général d'assurance Monsieur { Dos Santos Dominique } stipulait que les frais de soins médicaux étaient totalement pris en charge. Une fois vérification par téléphone avec { ce dernier }, les secours ont été appelés et l’ambulance est arrivée dans la foulée pour évacuer le blessé. Suite à cet accident, les mesures de sécurité sur le chantier ont été améliorées, de nouveaux garde-corps ont été mis en place au niveau des échafaudages, et les [ ouvriers ] ont été obligés de porter des casques et des harnais de sécurité pour les travaux en hauteur.\",\n",
       " \"Au Guatemala, l'usine de production de sucre « { Sugar High } » a pris feu le 22 mai 2012. Le gardien, Joshua Clavier, a affirmé être sorti fumer une cigarette, et ne pas s'être aperçu qu’un des camions de livraison garé dans l'entrepôt perdait de l'[ essence ].\",\n",
       " \"La jeune femme, née à Londres même, a affirmé que le [ volant de sa voiture ] ne répondait plus à sa commande au moment de l'accident. Une fois à l'hôpital, l'{ équipe médicale } lui a administré les premiers soins et des médicaments.\",\n",
       " 'Le lendemain, Madame Talita Martinez et Monsieur < Tarzan Tierra >, tous deux directeurs de différentes usines, se sont rencontrés.',\n",
       " 'Les habitants de Bruxelles ont tous été conviés à un cocktail par le maire pour célébrer l’ouverture de d’une nouvelle { bibliothèque }. Entre les petits fours et boissons qui ont été dégustés, les [ participants ] ont également pu rencontrer des auteurs à succès. Le jeune homme s’est engagé à remplacer et à rembourser aussi vite que possible la { bibliothèque }.',\n",
       " 'Une fois vérification par téléphone avec ce dernier, les secours ont été appelés et l’ambulance est arrivée dans la { foulée } pour évacuer le blessé. Suite à cet accident, les mesures de sécurité sur le chantier ont été améliorées, de nouveaux garde-corps ont été mis en place au niveau des échafaudages, et les ouvriers ont été obligés de porter des [ casques ] et des harnais de sécurité pour les travaux en hauteur.',\n",
       " \"Ce matin à Milan, Jorris Da Silva et deux membres de l'association Milan Chimie universelle, ont apporté deux gros cartons à un { orphelinat } de la ville. Alors que Jorris Da Silva prenait des photos avec son [ appareil photo ] et que les autres membres de l'association étaient sur leurs iPhone, une explosion s'est soudainement déclenchée à cause d'une fuite de gaz. L'école a été évacuée immédiatement et une équipe d'intervention est vite arrivée sur les { lieux }.\",\n",
       " 'Ce jour-là, le < gérant > de la station voulait offrir du carburant gratuit aux 100 premiers véhicules présents devant la pompe à carburant.',\n",
       " \"Le { gouvernement } colombien vient d'être renversé. Les enquêtes ont prouvé qu'il est en réalité une branche du [ Bolteo ], le deuxième [ groupe mafieux ] du pays qui s'est enrichi grâce au trafic d'armes et d'émeraudes. Le chef de l'{ État } et sa famille ont pu quitter Bogota par hélicoptère grâce à l'intervention de la communauté internationale. Cela est plutôt surprenant, mais prouve toutefois la volonté de ce groupe de faire preuve de changement par rapport à l'{ ancien régime }.\",\n",
       " \"Cette annulation est due à la mort soudaine d'{ une } des membres de l'organisation. Selon les médecins, l'{ homme } est mort d'une hypoglycémie causée par le diabète de la { victime }. Il a expliqué que la { victime } n'avait pas mangé avant de partir de l'hôtel et qu'{ il } n'avait pas apporté d'aliments sucrés avec { lui }. Monsieur Majid Dos Santos a raconté que l'événement avait commencé très tôt et que la { victime }, qui avait faim, s'était évanouie. Toutes les personnes présentes au moment des faits étaient en panique mais ont fait tout ce qu'il était en leur pouvoir pour venir en aide à la { victime }. Certains ont pris son taux de glycémie avec un glucomètre qu'ils avaient trouvé dans le sac de la { victime }. D'autres se sont précipitées pour appeler les [ urgences ]. Il y en avait même qui sont allées [ les ] chercher. Malgré tous ces efforts et l'arrivée des secouristes, la { victime } n'a pas tenu le coup.\",\n",
       " 'Des recherches sont en cours en [ laboratoire ] et des échantillons ont été prélevés sur quelques { victimes }.',\n",
       " \"À Santiago, le 3 mars 2020, un orphelinat s'est retrouvé dans une { situation } délicate. Quelques heures plus tard, presque la totalité des enfants [ toussaient ]. La directrice du centre, une ancienne aide-soignante, a pris son thermomètre et son stéthoscope et a appelé les autorités pour signaler une possible { épidémie } de grippe contagieuse.\",\n",
       " 'Le 6 mai 2013, le groupe \"Teenage-chemist\", composé de 6 { élèves } du Lycée \"ABC College\" de Toronto, a effectué des recherches et réalisé des expériences sur la fabrication d\\'une pile. Dans le laboratoire, { chaque élève } était équipé d\\'une blouse et de lunettes de protection. L\\'encadreur a pris son téléphone et a contacté une [ ambulance ].',\n",
       " 'Une explosion s\\'est accidentellement produite dans un { entrepôt } de l\\'[ usine gouvernementale ] \"Nitrate plus\" qui contenait plusieurs tonnes de nitrate d\\'ammonium.',\n",
       " \"Il portait une [ tenue ] décorée d'une chaîne en or sur son épaule gauche. Il est monté sur les gradins et a serré la main des personnes assises sur les { premiers rangs }, y compris de Madame Elsa Alibert.\",\n",
       " 'Sous la direction du Chef de l’{ Agence } et oncle maternel de la jeune femme, Monsieur Esteban Rodriguez, des [ bougies ] et des gerbes de fleurs, ont été déposées ont été déposés par tous ceux qui l’ont connue sur son bureau.',\n",
       " \"Le 26 mai 2018, une centaine d'ouvriers ont été tués par la police au [ Ghana ]. La { cheffe } de la police locale a assuré lors d'une conférence de presse que les policiers avaient agi en état de légitime défense face à une émeute armée et agressive. Madame Miller a déclaré que son pays natal, le [ Ghana ], devait se remettre sur le chemin de la paix.\",\n",
       " 'Dans les parcs, amis et familles se sont [ retrouvés ] pour partager des repas préparés par chacun. M. Mehdi Lassene, un supporter tunisien interrogé par les { journalistes }, a déclaré que c’était la première victoire du club depuis une décennie.',\n",
       " '{ Laura Chazal } était la directrice d\\'une entreprise travaillant dans le secteur du nucléaire. Suite à une crise économique, { elle } s\\'est vue dans l\\'obligation de lancer un plan social chez \"Nuclear Workwear\". Ces travailleurs sont descendus dans la rue avec des [ pancartes ] contre le plan social.',\n",
       " 'Le jet privé du célèbre homme d’affaires [ Français ] M. Djamilatou Trameur s’est crashé en mer en Australie hier matin. Les affaires personnelles de la victime telles que son portable et sa tablette ont été saisies par les autorités australiennes afin d’informer ses { proches } de l’accident.',\n",
       " 'Les < experts > ont identifié les produits chimiques à l’origine de la contamination.',\n",
       " 'La { sécurité } a été contactée rapidement pour extraire avec une grue le corps du Docteur Yoram, en effet, il se trouvait sous la [ grille ].',\n",
       " 'En effet, { Milhane Da Silva }, le gourou et chef de la secte \"[ Les messagers de Dieu ]\", était également trafiquant d\\'armes à feu et de mines.',\n",
       " \"La [ majorité des coupables ] a été arrêtée, mais l'{ autre partie } a réussi à s'enfuir.\",\n",
       " \"Membres de l’ONG américaine «\\xa0Health\\xa0», ils ont été gravement blessés alors qu’ils voyageaient dans un [ bus ] à Kampala en Ouganda. Alertés par les { riverains }, { témoins } de l’accident, les pompiers sont vite arrivés et ont conduit les victimes à l’hôpital pour qu’ils reçoivent les soins nécessaires. D’après le porte-parole de la police régionale, «\\xa0ils ont été grièvement blessés lorsque le [ bus ] est tombé de la falaise et s'est écrasé dans la vallée\\xa0». La plaque du [ véhicule ] et les cartes professionnelles des victimes ont permis de les identifier facilement.\",\n",
       " \"Madame Susannah Da Silva et [ trois ] membres de l'organisation reporters anti-violence étaient alors arrivés sur les lieux avec des { caméras } et des micros afin de couvrir l'évènement.\",\n",
       " 'Le père de Mme { Soumaia Alibert } officiait la messe à l\\'église catholique centrale pendant que les fidèles, assis sur des bancs d\\'une longueur de deux mètres, lisaient le carnet de messe. Soudain, les membres de l\\'organisation internationale \"Stop au catholicisme\" ont attaqué l\\'église avec des [ missiles ].',\n",
       " 'Un important { réseau de trafic } de drogue a été démantelé dans la [ nuit du 16 août 2022 ].',\n",
       " \"L'épidémie du virus Ebola en Afrique de l'Ouest a débuté au sud-est de la Guinée en décembre 2013, avant de s'étendre au { Liberia } et à la Sierra Leone. Le Nigeria, le Mali, les [ États-Unis ], le Sénégal, l'Espagne, le Royaume-Uni et l'Italie sont aussi touchés par l'épidémie, mais dans une bien moindre mesure.\",\n",
       " \"Pour libérer sa { citoyenne }, l'armée canadienne a dû effectuer une opération musclée à l’aide de chars blindés et d’[ hélicoptères ].\",\n",
       " \"Le 22 juillet 2020, une collision entre deux [ bus ] et une voiture dans l'État de Kaduna, au Nigeria, a fait 3 morts. Les bus et la voiture se sont percutés le { long de l'autoroute } de 400 kilomètres reliant la ville de Kano à la capitale Abuja.\",\n",
       " \"Mme Emma Campbell, une photographe experte travaillant pour Photofilm, un { laboratoire de photo } situé à l'entrée de la ville du New Jersey, est venue pour développer quelques pellicules de photos. En développant sa [ 5ème photo ], elle a constaté que le niveau du bain d'arrêt chimique composé d'acide acétique à 60% descendait un peu plus bas.\",\n",
       " 'Un [ bateau ] transportant des touristes a coulé dans la baie des { caraibes } mexicaines.',\n",
       " '[ Ce matin ] à Berlin, madame Jaylie Li, présidente de l’organisation Pétrole pour tous, a convié au sein de leurs locaux, quelques membres de l’association Stop aux hydrocarbures. En effet, le but de la { rencontre } était d’enterrer la hache de guerre entre les deux associations, à la suite de messages peu courtois qu’ils ont échangé. Aussitôt, la { séance } a été levée et les sapeurs-pompiers de la ville de Berlin ont été appelés.',\n",
       " 'Le [ 12 janvier 2022 ], une vingtaine d’étudiants a bloqué l’accès à l’Université de Lisbonne. Leur requête ayant été rejetée par les autorités, ils ont fermé les entrées de l’établissement avec des { troncs d’arbres } et des briques.',\n",
       " \"Ils étaient munis de [ plusieurs ] armes comme des bâtons et des cordes. D'{ autres manifestants } étaient armés de cailloux, de couteaux ou encore de tuyaux.\",\n",
       " \"Elle a également remercié [ Martin Deneuve ], un bénévole et responsable de police de formation chargé de la sécurité de l'événement, qui l'a protégée de la { foule } à la fin du concert.\",\n",
       " 'Une foule nombreuse y a participé, parmi eux se trouvait Monsieur Antoine Duverney, officier de nationalité autrichienne en service à l\\'organisation \"[ ARAZA ]\". Le ticket gagnant a été annoncé et son { propriétaire } a reçu le dernier iPhone.',\n",
       " \"Les bureaux de l'{ Autorité Rwandaise de Régulation } ({ ARR }) ont pris feu à Kigali. Ils ont ensuite brisé une [ vitre ] avec une hache pour s'introduire à l'intérieur de l'édifice. Abderraouf Wright, membre de la cellule de lutte contre la corruption, a affirmé qu'il fallait s'interroger sur la vraie origine de cet incendie car le seul étage ayant brûlé est celui contenant des documents sensibles, alors même qu'une enquête de corruption impliquant certains cadres de l'{ ARR } venait d'être ouverte.\",\n",
       " \"Sur son [ lit d'hôpital ], Monsieur Bacem a reçu la visite de son { patron } et { ce dernier } lui assurait que son poste lui revenait de droit dès qu'il serait en mesure de travailler.\",\n",
       " \"En effet, les { manifestants } accusent le [ gouvernement ] d'avoir falsifié les résultats.\",\n",
       " 'Le 20 septembre 2017 en Colombie, la { brigade des stupéfiants } a lancé une opération pour chasser un chef de cartel. Ils ont réussi à intégrer un de leur meilleur [ élément ], Lieutenant Arthur Fernandez, dans un réseau de distribution de drogues. Après des années et des années de dur labeur, { ils } ont réussi à chasser le chef du cartel. Selon le chef de la { brigade }, { ils } ont réussi à saisir la plus grosse cargaison du cartel et ont fini par faire tomber le chef.',\n",
       " 'Un arbre, une vie ]\", a été cambriolé par des { voyous } à son domicile.',\n",
       " \"Les étudiants de la faculté de médecine se sont mis en grève, brandissant des [ banderoles ] devant les grilles de l'hôpital jusqu'à ce que leurs revendications soient satisfaites. Cependant, des responsables ont annoncé devant les caméras des { journalistes } que les équipements de protection du personnel médical étaient déjà adéquats.\",\n",
       " \"[ Hier ] dans la soirée, aux environs de 22 heures, de grandes flammes ont été aperçues à Behoririka. Interrogés sur l'origine de l'incident, le commerçant ainsi que les { riverains } ont tous déclaré n'avoir rien vu du début de l'incendie.\",\n",
       " 'Le 17 juillet 2019 à [ Belize ], le forum des métiers organisé par l\\'association \"Belle vie\" s\\'est clôturé. Madame Olyvia Dos Santos a alors appelé la { police } afin de signaler le vol. Les deux voleurs étaient déjà connus des { services de police }.',\n",
       " 'Grâce au témoignage de Madame { Dupuis } et aux vidéos des [ caméras de surveillances ], les forces de l’ordre ont pu identifier une des personnes responsables de l’attaque.',\n",
       " 'La plus ancienne { banque } tunisienne a fait faillite en raison d’un défaut de paiement. Monsieur Arthur Laurent, un habitant de la ville de Tunis a été interviewé et a tenté de proposer quelques solutions au [ gouvernement ].',\n",
       " 'Le bateau de croisière Royal Holidays a [ fait naufrage ] en mer Méditerranée, au large des côtes de Malte. Selon les premières informations, un moteur du navire a { explosé }, ce qui a provoqué un incendie et donc la destruction de l\\'engin. Peu après l\\'annonce du [ naufrage ], Benedikte Garcia, une citoyenne grecque et présidente de l\\'ONG \"Secours en Mer\", a envoyé sur les lieux de l\\'[ accident ] une partie de son personnel afin d\\'aider les pompiers à secourir les blessés.',\n",
       " 'Madame Carolanne, présidente de la fondation \"{ Dassault }\", a été percutée par une moto en sortant de son [ bureau ] à Vienne.',\n",
       " \"Cette décision a été prise après l'[ incident ] ayant eu lieu deux jours plus tôt. Madame { Emi Ferreira } et son fils Denis Ferreira, actionnaires et dirigeants de la société, ont été placés en détention provisoire pour atteinte à la vie publique.\",\n",
       " \"Peu après, le chef de l'État a déclaré dans un [ communiqué radio ] que cette tentative de coup d'État avait été dirigée par le mercenaire M. Smith Lewan, un ancien membre de l'armée américaine. Malgré les patrouilles de la { police } pour rétablir l'ordre, des cas de vols de voitures et de vandalisme ont été recensés dans les rues de Jakarta.\",\n",
       " 'Selon les sauveteurs en mer espagnols, les sept { membres d’équipage } et les neuf passagers du yacht sont tous sains et saufs. Il faut savoir que la coque du navire, en [ acier ] avec une superstructure en aluminium, permet d’accueillir jusqu’à 10 personnes dans cinq suites, chacune avec une salle de bain privative.',\n",
       " 'Les banques privées ont donc immédiatement été touchées par la { crise } qui en a découlé. Le prix des produits de première nécessité comme le savon et l’huile ont commencé à [ augmenter ]. Monsieur Titziana Flores, un célèbre journaliste britannique en mission à Madagascar a voulu apporter des idées afin de se remettre de cette { crise } au plus vite.',\n",
       " 'M. Charles Laurent, un agent de la { police scientifique } ayant des parts d’actions dans la société, a demandé aux employés de garder leur calme dans une vidéo. Il a aussi promis qu’il enverrait des [ lettres ] aux autres actionnaires pour les informer de leurs doléances.',\n",
       " 'Madame Dufour Abigaël a promis de transmettre un rapport de la { situation } aux autorités locales, afin que l’[ hôpital ] bénéficie d’un soutien matériel.',\n",
       " 'Des { partisans } du gouverneur destitué se sont mobilisés à différents endroits pour semer le chaos. Avant que l’équipe anti-émeute n’arrive sur les lieux, les { casseurs } ont eu le temps de piller plusieurs immeubles appartenant à l’Etat. Les investigations menées par le FBI ont permis d’arrêter la plupart des coupables, filmés par les [ caméras de surveillance ] postées dans les rues.',\n",
       " \"L'un des [ employés ], { Arthur Fernandez } a déclaré à la télévision que cette catastrophe a été l'incendie le plus meurtrier qu'ait connu le pays en temps de paix.\",\n",
       " 'Madame { Dufour Abigaël }, l\\'éminente vice-présidente américaine, a effectué une visite à la nouvelle raffinerie de l’organisation \"PETROM\". Sur place, les pompiers ont réussi à éteindre le feu [ après quelques heures ]. Afin d’éviter ces incidents, Madame { Dufour Abigaël } a demandé l’installation de panneaux préventifs dans les usines.',\n",
       " \"Le 15 novembre 2019, un énorme ouragan a inondé un village en { Inde }. Un des secouristes a pris une [ cage d'oiseau ] pour pouvoir récupérer et transporter l'animal.\",\n",
       " \"Le défilé a commencé par une tenue traditionnelle, et c'est à ce stade que l'on distingue la vraie beauté des [ jeunes filles africaines ], soulignait Monsieur { Fernandez }.\",\n",
       " \"Au cours d'une expérimentation, Martin Hamza, scientifique au laboratoire TIMAT, a accidentellement fait tomber un [ lot de flacons ] contenant des substances pyrophoriques, aux propriétés très inflammables. En attendant l'arrivée des { sapeurs-pompiers }, Martin Hamza enleva sa blouse et l'utilisa pour actionner la poignée chaude de la porte.\",\n",
       " \"Le 04 février 2004, après une forte pluie torrentielle en { Indonésie }, Monsieur Arthur est allé rendre visite à un ami qui n’allait pas très bien. Les pompiers du { pays } sont venus en aide aux rescapés de l’inondation. Mais dans l'[ hélicoptère ], son ami avait fait un arrêt cardiaque.\",\n",
       " \"Cette dernière était parmi les manifestants qui réclamaient la démission des membres du gouvernement de son { pays }. La manifestation s'est déroulée dans le calme, car les demandeurs se sont exprimés en brandissant des pancartes et des [ tee-shirts ] graffités.\",\n",
       " \"Pour les besoins de l'enquête, plusieurs { autres personnes } ont été interrogées. Parmi { elles }, Arthur Abert, un étudiant en médecine qui voulait acheter une pochette en cuir pour sa copine. Après avoir présenté ses [ pièces d'identité ], le jeune homme a été libéré.\",\n",
       " 'Pendant les { obsèques }, le chauffeur du corbillard de la compagnie \"Sweet Dream Funeral\" a perdu le contrôle du véhicule qui a dévalé une descente à pleine vitesse. En effet, les freins [ ont lâché ] en raison d\\'une fuite de liquide de frein causée par un maître-cylindre défaillant.',\n",
       " 'Munis de pancartes et d\\'un mégaphone, ils se sont adressés au gouvernement par le biais de M. [ Eric Sioma ], le représentant du { syndicat }, demandant d\\'empêcher \"un effondrement de l\\'économie\" et dénonçant la hausse du coût de la vie.',\n",
       " \"La police a découvert qu'une bombe avait été { déposée } dans l'[ immeuble ] quelques heures plus tôt par un individu encore non identifié.\",\n",
       " '[ Cet après-midi ] à Lomé, M. Kaitline Anderson, président de l\\'association \"Appui à l\\'Église catholique togolaise\", a organisé une messe, suivie d\\'une séance de dons, dans une paroisse de la ville. Après la distribution de l\\'{ hostie }, le prêtre, un jeune homme en soutane verte, a initié une prière devant M. Kaitline Anderson.',\n",
       " 'L’incroyable concert du groupe { pop Stay } s’est tenu ce 28 décembre 2012. Des milliers de [ fans ], venus des quatre coins de la France, ont fait le déplacement pour se retrouver à l’Olympia. Vers 19 h, les chanteurs du groupe { pop Stay } ont fait une entrée spectaculaire sur scène. À la fin du concert, les [ fans ] se sont bousculés pour obtenir des autographes et faire des photos avec leurs idoles.',\n",
       " \"Le 13 juin 2020, une inondation a saccagé la [ ville ] de [ Durbuy ]. La pluie a duré 5 jours consécutifs et a détruit le barrage d'eau qui se trouvait au sud de la [ ville ]. Il avait sauvé un { bébé } d'une noyade. Le { bébé } avait glissé des mains de sa mère qui se trouvait sur le toit de la maison. Sans réfléchir, le jeune homme s'était jeté dans l'eau pour sauver le { bébé }.\",\n",
       " \"Le meeting du parti au pouvoir sur le [ campus ] de Barcelone s'est terminé dans un affrontement entre étudiants et { policiers }.\",\n",
       " 'En 1968, à [ Paris ], l\\'événement qui devait rassembler les adhérents du \"MOOC\" a tourné au cauchemar. Le commissaire de police, Monsieur { Denis Leguerrec }, a dû intervenir pour calmer la situation. Heureusement, le commissaire, Monsieur { Denis Leguerrec }, a réussi à apaiser les tensions entre les membres du \"MOOC\".',\n",
       " \"Paniqué, il est sorti de son lit pour se cacher sous celui-ci et a attrapé son téléphone portable pour appeler la { police }. En entendant du bruit dans la chambre, le [ cambrioleur ] a remis sa cagoule et s'est enfui par la fenêtre par laquelle [ il ] était entré. Quelques jours plus tard, le [ voleur ] a été arrêté grâce à la reconnaissance faciale sur la vidéo de surveillance et à la caméra que Monsieur Sébastien Couatarmanach avait installée quelques jours plus tôt.\",\n",
       " 'Le [ 13 juin 2020 ], une inondation a saccagé la ville de Durbuy. Plusieurs { personnes } ont été hospitalisées.',\n",
       " 'Les { autorités } ont réagi par une répression violente de la police militaire qui a eu recours à des fusils antiémeute tirant des chevrotines en caoutchouc, pour disperser les manifestants. La police a également pulvérisé du gaz lacrymogène au moyen de [ lance-grenades ], faisant de nombreux blessés qui ont été acheminés vers les hôpitaux les plus proches par ambulance.',\n",
       " \"Après l'entretien, alors qu'elle quittait le bâtiment, elle a été prise en otage par un cambrioleur qui fuyait la police après avoir tiré sur [ deux ] civils. Mais il a trébuché sur une { bouche d'incendie }, ce qui a permis aux autorités de l'arrêter et de lui passer les menottes.\",\n",
       " 'Alerté par téléphone par l’Association péruvienne de défense des biens culturels, la douane péruvienne guettait le passage du camion dont le numéro de la [ plaque d’immatriculation ] leur avait été communiqué. Cinq heures plus tard, le camion apparaissait à l’un des nombreux points de passage illégaux de la frontière avec au volant, monsieur { Santu Lopez }, ancien détenu vénézuélien.',\n",
       " 'Une foule nombreuse y a participé, parmi eux se trouvait Monsieur Antoine Duverney, officier de nationalité autrichienne en service à l\\'organisation \"{ ARAZA }\". À [ minuit ], des feux d\\'artifice et des pétards ont été lancés par les Autrichiens pour exprimer leur joie.',\n",
       " 'Afin de lutter contre l’épidémie de méningite qui sévit à Nice, les membres de l’ONG Santé Équitable et de l’{ Association pour les Malades de Nice } ont effectué ensemble des [ visites ] dans les hôpitaux.',\n",
       " 'Une { explosion } suivie d’un incendie s’est produite cet après-midi dans le laboratoire Recherche chimique d’élite de Fès. D’épais nuages noirs se sont [ répandus ] dans l’atmosphère. Toutes les vitres du laboratoire ont { explosé }. Une chercheuse marocaine nommée Isatis Sánchez se trouvait malheureusement dans le bâtiment au moment des { faits }, elle a donc été transportée par une ambulance aux urgences. D’autres moins lésés, ont reçu des masques pour se protéger de la pollution engendrée par l’{ explosion }.',\n",
       " 'Le 12 septembre 2016, les membres de la { Coalition pour la Science Consciente } sont descendus dans les rues de Toulouse. Leur objectif était de sensibiliser la population sur la propagation d’un nouveau virus qui faisait déjà des ravages dans la ville, créé accidentellement dans un [ laboratoire toulousain ] le 13 juin 2016 par Loranne Walker.',\n",
       " 'La nuit du 12 mai 2022 au Guatemala, Monsieur Joshua Clavier, le président de l\\'association \"Un arbre, une vie\", a été cambriolé par des { voyous } à son [ domicile ].',\n",
       " 'Une [ cinquantaine ] de personnes ont semé le désordre dans les rues de Rouen, ce matin. Les manifestants ont bloqué les rues à l’aide de branches d’arbres et de { briques }.',\n",
       " \"Un témoin a contacté les { secours } par téléphone. Elle est rentrée [ chez elle ] le lendemain et semble aller beaucoup mieux d'après ses proches.\",\n",
       " 'Le 20 avril 2002, Monsieur { Tennessee Jackson }, Directeur de la Banque centrale, a engagé une politique restrictive qui a provoqué une vague de faillites et une profonde récession agricole et industrielle. Diverses associations et ONG ont distribué de la nourriture et d’autres produits de première nécessité pour venir en aide à la [ population locale ].',\n",
       " \"Cinq passagers sont morts et des dizaines de { personnes } sont portées disparus dans le naufrage d'un navire de croisière. Elle a perdu la vie le [ 3 août 2022 ], cinq heures après l'incident.\",\n",
       " 'Une fois sur place, elle a dû patienter sur une chaise dans la { salle d’attente } car il était en réunion. Mais une alarme à incendie a retenti à cause d’une fumée dense causée par une mauvaise manipulation de [ produit chimique ]. Le mélange des [ produits ] avait créé une réaction chimique et une énorme fumée s’était donc répandue dans les conduits d’aération.',\n",
       " 'Le chef de la police mexicaine a affirmé lors d\\'une conférence de presse que les { policiers } avaient agi en légitime défense face à une émeute agressive armée et incendiant des véhicules. Selon ses déclarations à la télévision et à la radio locales, \"Les { policiers } ont dû utiliser la force pour se défendre contre le groupe qui { les } attaquait\". Ce mouvement a même ouvert une page sur les réseaux sociaux afin de rassembler plus facilement plusieurs [ personnes ].',\n",
       " 'Cet incident n’a fait que peu de survivants, dont < Constance Dupuis >, présidente de l’association « des médicaments pour tous » en Grèce.',\n",
       " 'Le 4 septembre 2017 à 13h, M. Francky Dostresso s\\'est immolé par le feu sur la Plaza de Mayo devant le regard consterné des touristes et des { habitants }. C\\'est Mme [ Joseph Leititia ], leader du groupe \"Vie et Liberté Pour Mon Peuple\", qui s\\'est adressée à la presse pour informer les populations du changement de régime. [ Elle ] a déclaré la chose suivante : \"Ce gouvernement n\\'en a rien à faire de nous, mon mari Francky ne sera pas mort pour rien, nous lutterons jusqu\\'au bout\".',\n",
       " 'La [ cargaison ] devait être larguée en parachute depuis l\\'avion dans une { forêt }, où des membres du \"Chevalier noir\" devaient [ la ] récupérer à bord de leur camion.',\n",
       " \"En raison de la présence d'[ enfants ] dans le parc, la police leur a demandé de quitter les lieux. La bande de jeunes s'est mise à attaquer les { policiers } avec des bouteilles et des gourdins.\",\n",
       " 'Le samedi 10 septembre 2005, des citernes d’uranium du centre { I-Nuclear } devaient être déplacées de l’Arizona au Texas. Mais au cours du voyage, en entrant dans un grand [ virage ], les phares du camion se sont éteints soudainement, suivis du moteur qui est tombé en panne.',\n",
       " 'Un [ incident ] s\\'est produit ce matin à Alger au sein de l\\'organisation \"Entremets exotiques d\\'Alger\". Jackie Roberts et { Marcos Roberts }, deux frères jumeaux et cofondateurs de l\\'institut culinaire, ont dispensé un cours particulier aux élèves vêtus d\\'uniformes. Pendant le cours, une [ explosion ] est survenue dans l\\'immeuble. Plusieurs vitres ont [ explosé ]. L\\'accident a été causé par une [ fuite ] de gaz.',\n",
       " \"En Espagne, dans une région agricole, une contamination des eaux souterraines a été découverte par les { autorités }, le 19 octobre 2012. Il s’agit d’une contamination aux nitrates provenant de l’épandage d'engrais chimiques sur les terres agricoles où sont cultivés essentiellement du [ blé ] et du maïs.\",\n",
       " \"Dans la nuit du 20 février 2007 à [ Bangkok ], Mauryn Roberts a contacté par téléphone l'un de ses collègues pour organiser une manifestation. Les { accompagnateurs } des personnes handicapées de l'association sont descendus dans la rue pour manifester. { Ils } avaient attaché des pancartes aux fauteuils roulants. D'autres manifestants, d'avis contraire, sont entrés en conflit avec { eux }.\",\n",
       " \"Heureusement, un des { passagers } à bord a réussi à envoyer un SMS de secours en indiquant sa localisation. Au total, il y a eu 11 morts et 19 [ blessés ]. Les [ blessés ] ont été emmenés à l'hôpital du Mali.\",\n",
       " \"Quelques jours plus tard, les familles éplorées et les { membres } de l'organisation se sont réunis dans une église pour une [ veillée ].\",\n",
       " \"Après quelques minutes, les { ambulanciers } [ l' ]ont transporté à l'hôpital sur un brancard et avec un masque à oxygène sur le visage.\",\n",
       " 'La voiture, enregistrée sous l’immatriculation VB100A, a été retrouvée dans une forêt à Belgrade [ hier matin ]. La victime a été transportée par brancard à l’hôpital le plus proche avec un { masque à oxygène } sur le visage.',\n",
       " 'Durant la [ nuit du 6 février 2020 ], la résidence présidentielle et les demeures de plusieurs membres du gouvernement ont fait l’objet d’attaques armées. Aucune information officielle n’a encore été donnée, mais tout porte à croire que le gouvernement a été { renversé }.',\n",
       " \"En franchissant la porte d’entrée, monsieur Arthur avait vu son ami allongé sur le { sol }. Mais dans l'[ hélicoptère ], son ami avait fait un arrêt cardiaque.\",\n",
       " \"Un énorme défilé de mode organisé par la boutique Fashion Day devait avoir lieu le [ 1er novembre 2014 ] dans une discothèque de la ville d'Orlando. M. Fayssal Tellier, le décorateur, se trouvait au pied de la lampe quand il l'a { reçue } sur le pied.\",\n",
       " 'Une { foule } nombreuse y a participé, parmi { eux } se trouvait Monsieur Antoine Duverney, officier de nationalité autrichienne en service à l\\'organisation \"ARAZA\". Un tirage au sort a été effectué [ sur place ] dans le cadre d\\'un jeu-concours lancé quelques jours plus tôt.',\n",
       " \"L'endroit était tellement bruyant qu'il s'est éloigné de la < foule > pour pouvoir communiquer aisément.\",\n",
       " 'Le [ 15 novembre 2019 ], un énorme { ouragan } a inondé un village en Inde.',\n",
       " \"D'après les déclarations du nouveau chef de gouvernement, M. { Simporé Laouny }, les choses devraient revenir à la normale d'ici peu. À travers des vidéos sur YouTube et Facebook, les leaders du groupe ont en effet annoncé que leurs combattants armés de [ grenades ] agiront bientôt sur la capitale.\",\n",
       " 'Selon [ Alphena Chen ], le premier responsable de la { sécurité routière }, \"les trois véhicules sont entrés en collision et ont pris feu, faisant 30 victimes parmi les passagers\".',\n",
       " 'Un [ criminel ] poursuivi pour plusieurs chefs d’inculpation a été libéré par l’explosion d’une bombe. L’[ homme ] était assis à l’arrière du fourgon qui [ le ] conduisait à la maison de détention lorsqu’une bombe a explosé et créé une ouverture dans le véhicule. Le [ prisonnier ], vêtu d’une combinaison bleue et avec les menottes aux poignets, a été libéré par ses comparses. D’après le reportage du journaliste Auguste Ferreira, l’un des policiers a réussi à toucher l’[ un ] des bandits par balle. Un { effectif } important de la brigade criminelle a été mobilisé pour les retrouver.',\n",
       " 'Madame Agatha Constant, présidente de la fondation \"{ Buenos }\", a été retrouvée inconsciente au volant de sa voiture. Les autorités locales ont trouvé parmi les [ affaires ] de la victime un livre et une carte d\\'identité nationale.',\n",
       " \"Dans l'après-midi, les [ employés ] de l'organisation Duverney Laborus de Londres ont reçu des lunettes et des chaussures de protection neuves. Monsieur Jerick Duverney, le directeur de l'organisation, a également promis de leur commander des gants afin qu'[ ils ] soient à l'abri de tous les risques chimiques. Alors que le représentant des [ employés ] faisait son discours de remerciement, l'alarme incendie du laboratoire s'est déclenchée. Plusieurs { employés } du laboratoire ont accouru avec de l'eau pour éteindre le feu, mais sans succès.\",\n",
       " 'Des manifestants se sont rassemblés dans les rues pour protester contre le président sortant, brandissant des [ pancartes ] et des banderoles insultantes. Plusieurs { personnes } ont été blessées lors des affrontements dont Madame Constance Dupuis, une jeune trentenaire qui rentrait chez elle avec ses courses.',\n",
       " 'Les manifestants ont bloqué les [ routes ] de la capitale en brûlant des pneus de voiture. Monsieur Jack Tellier, le président de l\\'association \"{ Smoke Kills }\" à New York, n\\'a pas pu se rendre à la manifestation car il est encore sous traitement médical.',\n",
       " \"Une [ équipe de bénévoles ] du Comité de sauvetage s'est jointe aux pompiers le 4 novembre 2003 afin de porter secours aux habitants d'un petit village inondé au Canada. Cammie White, un pilote d'hélicoptère, a survolé la région inondée une fois la pluie arrêtée pour secourir { ceux } qui avaient survécu.\",\n",
       " 'Au Guatemala, en sortant d\\'une réunion de parents d\\'élèves, Madame { Odeline Clavier }, membre de l\\'association \"Tous à l\\'école\", a été victime d\\'une agression physique hier matin. Un homme vêtu d\\'une cagoule noire { l\\' }avait menacé en plaçant un couteau sur sa gorge. Il { lui } avait même volé de l\\'argent. Une [ voiture de patrouille ] avait suivi le voleur, mais il avait pu s\\'éclipser dans la foule.',\n",
       " \"Au [ Portugal ], la dissémination d'un agent chimique s'est produite dans le { bâtiment } abritant le { laboratoire de recherche sur les maladies neurologiques }.\",\n",
       " 'Pendant que les voyous étaient occupés à ouvrir le [ coffre ], Monsieur Joshua Clavier a pu prévenir la { police } via son téléphone portable.',\n",
       " \"Après que les médias aient diffusé la nouvelle à la télévision, des groupes de femmes se sont { rassemblés } devant le portail du [ poste de police ] en { revendiquant }, avec leur mégaphone, de faire sortir l'agent de police pour le lyncher à coup de matraque, comme il avait tabassé Mademoiselle Meïlie.\",\n",
       " 'Madame [ Agatha Constant ] a ainsi recommandé à toute la { population locale } de ne pas boire l’eau du robinet et de ne consommer uniquement des nourritures biologiques jusqu’à nouvel ordre.',\n",
       " \"Il a été retrouvé inconscient au { bord de la route } après qu'une moto l'ait percuté. Les témoins ont sorti leurs téléphones pour prendre des [ photos ] et appeler les secours.\",\n",
       " 'La ville de Toulouse a connu un événement spécial ce [ 4 mai 2020 ]. Pour exprimer leur joie, des membres de l\\'association \"{ S\\'Épanouir }\" ont déployé une banderole de 6 mètres de long où était écrit \"Vivre à Toulouse, c\\'est vivre le bonheur !\"',\n",
       " \"{ Il } a aidé les [ secours ] en apportant quelques personnes à l'hôpital.\",\n",
       " 'Madame Dufour Abigaël, la vice-présidente américaine, se rendait au siège du parti politique { UPE } de New York lorsqu’elle a été victime d’un accident de la route. Alertées, plusieurs [ chaînes de radio ] et de télévision sont venues à l’hôpital, afin d’en savoir plus sur l’état de santé de Madame Dufour Abigaël.',\n",
       " 'Les { plus âgés } devaient suivre une bande jaune et les autres personnes une bande bleue. La sécurité a été contactée rapidement pour extraire avec une [ grue ] le corps du Docteur Yoram, en effet, il se trouvait sous la grille.',\n",
       " 'Les { Ouvriers } de la compagnie MUT de Munich ont vaqué la journée du 16 août 2014 pour aller [ défiler ] dans la rue afin d’apporter leur soutien à la cause des handicapés de la compagnie qui veulent être payé comme leur collègue valide.',\n",
       " 'Une école primaire catholique réservée aux [ jeunes filles ] a été bombardée par l\\'association terroriste \"Harmattan arabe\". Les [ écolières ] étaient en cours d\\'histoire au moment de l\\'attaque. Les malfrats ont ensuite enlevé les [ jeunes filles ] pour les contraindre à porter le voile et à étudier le Coran. Vingt-trois personnes, dont { Soumiya Duverney }, le fondateur de l\\'école catholique, ont été blessées.',\n",
       " \"L'objet de la [ réunion ] était de faire comprendre au { gouvernement } que l'enseignement était d'autant plus important que d'autres sujets et que les professeurs devraient être davantage considérés.\",\n",
       " 'Deux gangs, les “Tigres Maya” et les “[ XLF ]” se sont affrontés dans une fête foraine, semant la débandade et la terreur. Les tirs de balles ont causé cinq { morts } et ont blessé une dizaine de personnes.',\n",
       " 'D’autres ont brûlé des [ pneus ] et des voitures au milieu de la voie de circulation. Plusieurs membres du { corps diplomatique } comme l’ambassadrice argentine, Madame Dominique Dos Santos, ont affirmé craindre un usage disproportionné de la violence par les forces de l’ordre.',\n",
       " 'L’instabilité politique du pays a aussi provoqué la { chute } du dollar et le départ de nombreux investisseurs. La vice-présidente du pays, Madame Dufour Abigael, a effectué une [ conférence de presse ] sur la chaîne nationale. Elle a présenté les mesures prises pour garantir la sécurité nationale et juguler la { crise économique }.',\n",
       " 'Ces derniers se sont rassemblés devant la maison de ses parents à Paris et lui ont offert des fleurs, des dessins et des { petites statuettes }. Ils ont déployé une affiche de [ 3 mètres ] de large sur laquelle se trouvait un portrait de la jeune nageuse.',\n",
       " \"Cette association a organisé une grande réception pour inaugurer son [ nouveau centre ] dans la capitale. Les policiers ont mené leur enquête et ont découvert auprès des { médecins légistes } que l'homme était atteint d'une insuffisance cardiaque.\",\n",
       " 'Les { tornades } qui frappent la ville de Tanger depuis plusieurs jours sont de plus en plus fortes. Plusieurs antennes de radio ont été détruites et [ certains ] bâtiments ont même vu leurs toits s’effondrer. Les rues commencent à être { inondées } et l’eau s’infiltre dans les maisons et magasins, provoquant la destruction des meubles et marchandises.',\n",
       " \"[ Au réveil ], certains enfants de l'orphelinat toussaient énormément. La directrice du centre, une ancienne aide-soignante, a pris son { thermomètre } et son stéthoscope et a appelé les autorités pour signaler une possible épidémie de grippe contagieuse.\",\n",
       " \"Le bus qui les transportait a eu une { coupure } de frein lors d'une descente en montage. Les blessés ont été emmenés à l'[ hôpital ] du Mali.\",\n",
       " 'Le chef de la police mexicaine a assuré lors d’une [ conférence ] de presse que les policiers avaient agi en état de légitime défense face à une émeute agressive, munie d’armes à feu, qui brûlait des pneus de voiture. Une semaine après, Madame Anna Laura Sauvage, présidente de l’association « { one hand } », ne s’est toujours pas remise de cette tuerie.',\n",
       " 'Elle a toutefois pu appeler les { urgences } avec son [ portable ] pour signaler l’accident.',\n",
       " \"Selon la police, l'{ incident } était dû à un [ dysfonctionnement technique ] au niveau des freins.\",\n",
       " 'Les { blessés } hurlaient de douleur. Les [ cas ] les plus critiques ont été évacués dans des hélicoptères.',\n",
       " 'Après avoir rappelé les conditions abusives dans lesquelles [ certains ] employés ont été renvoyés, il a proposé d’infiltrer le système informatique de l’ancien employeur à l’aide d’un logiciel espion ; ce qui { leur } permettrait de voler sur un support USB des données qui aiderait à prouver que les dirigeants sont corrompus et font du détournement de fonds.',\n",
       " \"La bande, connue sous le nom de Groupe Kérosène par la police locale, semait la terreur et volait les habitants du quartier de Plaka depuis [ des semaines ]. L'{ ambulance } est arrivée quelques minutes plus tard et a placé la patiente sur un brancard pour l'emmener à l'hôpital.\",\n",
       " 'Au Brésil, le [ 13 août 2011 ], Madame Dat García, membre de l\\'association \"Une mère, une idole\", a été victime d\\'un { accident } de voiture.',\n",
       " 'Un obus a en effet été lancé sur le [ village ] par des { terroristes }.',\n",
       " 'Les forces de l’ordre ont dû riposter avec des [ gaz lacrymogènes ]. Au cours de l’après-midi, le { maire } de la ville a dû se rendre sur les lieux pour inviter les populations au calme. { Il } a promis que des actions étaient en cours afin de permettre aux commerçants de s’installer dans des locaux plus propres et plus sécurisés.',\n",
       " 'Monsieur Prele Scott, membre de l’association ‘’Un Homme, un vote’’ au Cameroun, a été convié à une réunion clandestine dans le sous-sol de l’appartement d’< un > des membres de l’association.',\n",
       " 'Plusieurs [ maisons ] ont été immergées et les { habitants } se sont réfugiés sur les toits des maisons.',\n",
       " \"Le Canadien M. Rivera Alberic, président de l'{ Association contre le racisme }, a eu un accident de voiture alors qu'il se rendait à l'ambassade des États-Unis. Elle contenait son dossier et son [ argent ].\",\n",
       " 'La victime était la voisine et amie de Francelyne Capelani, fille et unique héritière du richissime homme d’affaires [ Loyd Capelani ] (récemment décédé des suites d’un cancer). Fait troublant toutefois, la porte en bois de la bibliothèque était fermée au verrou de l’extérieur, ce qui a conduit la { police } à ouvrir une enquête. Les images des caméras installées sur la propriété ont été prises comme pièces à conviction par la { police }.',\n",
       " 'Les { habitants } peuvent y dormir, mais aussi obtenir de la nourriture et des [ vêtements ].',\n",
       " 'La police républicaine de Dakar dénombre 5 morts et des { blessés }. De leur carte d’identité et passeport, il ressort qu’ils ne sont pas sénégalais, mais des étrangers qui ont emprunté la route [ dakaroise ].',\n",
       " 'D\\'après le témoignage de l\\'ONG \"[ Terre de vivants ]\", le conducteur du minibus, Monsieur Alekseï Roberts, était entré en collision avec une voiture qui arrivait en sens inverse. Au moment de l\\'accident, le conducteur de la voiture, Monsieur { Sen Dublanc }, a été violemment percuté sur le côté.',\n",
       " \"Pour leur défense, les { avocats } de [ Noëline ] et Ramos ont déclaré qu'ils vendaient la drogue pour avoir de l'argent.\",\n",
       " 'Une conférence a été organisée [ ce matin ] à Tunis dans le cadre de la journée de l\\'enfant. Mesdames Corynne et Fatim Mohamed, deux { sœurs } chercheuses et co-fondatrices de l\\'organisation \"Tunis Mère et Enfant\", ont dispensé l\\'enseignement.',\n",
       " 'Un bus transportant les membres de l’association « [ Jeunes marins ] » en Tunisie, a été retrouvé encastré dans un arbre. Selon un { passager }, Monsieur { Arthur Laurent }, le véhicule a connu un dysfonctionnement technique faisant perdre le contrôle du volant au chauffeur.',\n",
       " \"Un des invités s'était un peu lâché sur l'{ alcool } et commençait à se prendre la tête avec les autres, en s'agitant dans tous les sens et en renversant leurs verres. Le mélange des produits a engendré une fumée toxique qui a asphyxié la [ plupart ] des invités.\",\n",
       " 'Du fait de leur parfaite imitation des montres originales, il est de plus en plus difficile de les repérer et de les saisir, comme le souligne M. Sayda Taylor, agent de [ douane ]. Selon l’{ Organisation Mondiale de la propriété Intellectuelle }, tous les éléments sont similaires : la loupe cyclope et les inscriptions sur le cadran. L’{ organisation } souligne que ce trafic de fausses montres devient de plus en plus florissant grâce à Internet qui facilite sa distribution.',\n",
       " 'À la tête d’un vaste réseau de trafic d’artefacts couvrant plusieurs pays d’[ Europe ], d’{ Afrique }, d’Amérique du Sud et d’Asie, Monsieur Doré\\xa0était activement recherché par les services de Police depuis cinq ans déjà.',\n",
       " 'Durant l’inauguration d’une nouvelle station-service le 24 juillet 2004, en [ Normandie ], une énorme fumée toxique a tué 3 pompiers et 5 civils. Toutes les { personnes présentes } se sont bousculées pour en obtenir.',\n",
       " \"Il s’agit d’une contamination aux nitrates provenant de l’épandage d'engrais chimiques sur les terres agricoles où sont cultivés essentiellement du [ blé ] et du maïs. Pour faire face à cette situation alarmante, la { Direction générale des Eaux } et la Direction de l’Environnement ont décidé de rédiger un document pour la régulation des engrais chimiques utilisé en espagne.\",\n",
       " \"L'[ incendie ] était donc l'œuvre de ce { cartel rival } qui souhaitait étendre son territoire.\",\n",
       " 'Il fallait par exemple porter des gants jetables et des vêtements de protection adéquats pour soigner les { malades }. Wafa Fernández, la maire de la capitale, a exprimé sa gratitude envers les deux [ associations ].',\n",
       " \"Une < équipe d'intervention > est arrivée pour gérer la situation et a sauvé la soirée.\",\n",
       " \"Ce 3 mai 2018, une dizaine d'[ enseignants-chercheurs ], [ membres ] de l'{ organisation scientifique chimique } de Madrid, se sont réunis pour un colloque dans un laboratoire de la place.\",\n",
       " 'Cet après-midi, plusieurs bombes ont été larguées sur un petit village par des [ avions militaires ] soudanais. Munis de pancartes, ils ont protesté contre ces actes de violences perpétrés à l’endroit des { civils }.',\n",
       " \"Les manifestants étaient tous vêtus de t-shirts blancs et tenaient à la main des [ roses ] rouges. Un { représentant } de l'Église s'est adressé à l'assemblée. { Il } a déclaré que le clergé était en train de réfléchir à la question et allait donner une réponse bientôt.\",\n",
       " \"La balade en { mer } de l’homme d’affaires britannique, M. Assad King, le 30 août dernier s'est mal terminée. Alors qu’il se trouvait au large de la plage de Saona en [ Espagne ], ce palace flottant a été complètement consumé par le feu.\",\n",
       " \"Le 11 juillet 2020, Madame Laporal Jesabelle, chimiste à Paris et membre de l'Association des Chimistes de Paris, a par inadvertance [ fait tomber ] la fiole qui contenait de l'acide devenant toxique au contact de l'air. Sa collaboratrice, Mme { Jeanne-Marie Abysse }, née le 11 juillet 2000, fêtait son 20ème anniversaire ce jour-là. Les deux femmes se sont [ évanouies ].\",\n",
       " 'Trois jours après la proclamation des résultats des élections présidentielles, une partie de la population à Londres est descendue dans les [ rues ] pour { manifester } son désaccord.',\n",
       " \"Selon les premières informations, un moteur du navire a [ explosé ], ce qui a provoqué un incendie et donc la destruction de l'engin. Plusieurs passagers de la croisière ont réussi à s'en sortir grâce aux gilets et canoës de sauvetage rapidement mis à leur disposition par les { membres } de l'équipage.\",\n",
       " \"M. Davis Ilem a rapidement appelé les < pompiers > et son fils a été conduit à l'hôpital pour recevoir des soins et des médicaments dans un véhicule d'ambulance mesurant 5,5 mètres de longueur.\",\n",
       " 'Elle souhaitait se recueillir sur la tombe de sa { mère } décédée le 08 mars 2000. Il a sorti son téléphone et a appelé les [ pompiers ].',\n",
       " 'Le vendredi 5 août 2022, Monsieur Tellier Mahaut, le président de l\\'association \"Fever Summer\", a officiellement ouvert le festival de la musique de { Cancun }. D\\'[ autres lots ] étaient composés de tablettes et de smartphones.',\n",
       " 'Pour exprimer leur joie, des { membres } de l\\'association \"S\\'Épanouir\" ont déployé une banderole de 6 mètres de long où était écrit \"Vivre à [ Toulouse ], c\\'est vivre le bonheur !\"',\n",
       " 'Un concours de costumes a eu lieu à New York le [ 18 mai 2022 ]. Les trois { gagnants } devaient ensuite participer à un concours du plus rapide mangeur de burgers épicés.',\n",
       " 'Un incendie s\\'est déclaré en [ Russie ] dans un entrepôt qui s\\'est révélé être un site abritant des activités illégales de fabrication de cigarettes de contrebande. D\\'origine criminelle, cet incendie a été provoqué par le chef du cartel \"{ GHOST }\", M. Zlakto Robinson, qui a posé cet acte pour se venger de son ex-associé, M. Vladimir Kruger, qui aurait refusé de lui vendre ses parts de leur juteux business.',\n",
       " '[ Mardi dernier ] à Tokyo, Monsieur Dembo Leguerrec, président de l\\'association \"Mes Cheveux, Mon Choix\", a été victime d\\'un { accident de voiture }.',\n",
       " 'Alors que Monsieur Joshua Clavier, le président de l\\'association \"{ Un arbre, une vie }\", était au volant de sa voiture, il a été témoin d\\'un suicide hier matin au Guatemala. Personne n\\'a intervenu par peur d\\'être touché par une [ balle ].',\n",
       " \"La manifestation s'est déroulée dans le calme, car les demandeurs se sont exprimés en brandissant des pancartes et des [ tee-shirts ] graffités. Plusieurs pneus de voitures brûlées bloquaient les { routes }, entraînant un embouteillage monstrueux dans la ville.\",\n",
       " \"La violence de l'incendie a causé la mort de plusieurs { personnes }. Le tunnel a été interdit d'accès [ pendant 6 mois ].\",\n",
       " \"Pourtant, le { chef de projet } avait préféré utiliser des sédatifs pour immobiliser immédiatement les crevettes. Lors d'une expérimentation le 6 juillet 2008 à Marseille, Monsieur Elfrida Pérez, un ouvrier matelot, a glissé et est tombé d'une plateforme alors qu'il voulait verser le produit dans l'[ eau ] du bassin.\",\n",
       " 'Le chef de la police sénégalaise M. { Juliano Jones } a assuré lors d’une conférence de presse que les policiers avaient agi en état de légitime défense face à une émeute agressive munie d’arme à feu, et qui brûlait des véhicules. Ce mouvement a même ouvert une page sur les réseaux sociaux afin de regrouper plus facilement de nombreuses [ personnes ].',\n",
       " 'Ce 25 mars 2018, à [ Rome ], s\\'est tenu le { gala de charité } de l\\'association \"Enfance épanouie\".',\n",
       " 'Les policiers ont été alertés au téléphone par le propriétaire de l’usine pour protéger ses < employés > et ses biens.',\n",
       " \"Ce dernier était attendu par sa { famille } pour célébrer son 30ème anniversaire. Les [ ambulanciers ] l'ont mis sur un brancard et l'ont emmené à l'hôpital afin de recevoir les médicaments et les soins adaptés à ses blessures. Sa { famille } a été informée de l'accident par téléphone et a décidé de venir lui souhaiter son anniversaire au chevet de son lit d'hôpital.\",\n",
       " 'Pour parvenir à ses fins, Eloïse s’est servie d’un [ sac d’ordinateur ] destiné à camoufler la bombe puis d’un téléphone portable pour activer l’engin explosif à distance. D’après les informations fournies par { John Maxime }, directeur du FBI, il y a un moment que la jeune fille avait été repérée pour son génie en sciences et se faisait radicaliser sur Internet à l’insu de ses parents.',\n",
       " \"Ils sont accusés d'être impliqués dans un trafic d'or et de [ diamants ], mais aussi de pierres précieuses. La police avait été prevenue que les trafiquants devaient se rendre à { Bali } dans le cadre d'une rencontre avec des clients.\",\n",
       " \"[ Au réveil ], certains enfants de l'orphelinat { toussaient } énormément.\",\n",
       " \"Ses proches ont été contactés par téléphone et les { médecins } ont fait une [ annonce ] à la télévision ainsi qu'à la radio pour faire passer cette bonne nouvelle.\",\n",
       " \"Dans un communiqué radio, Monsieur { Ater Pautrat }, le [ ministre de la Santé ] a assuré qu'{ il } se rendra à Venise, pour soutenir et encourager la population sinistrée.\",\n",
       " 'Une descente de la brigade des stupéfiants a eu lieu le [ 20 juillet 2015 ], lors d’une transaction de drogue dans un petit aéroport d’Atlanta. Les autres personnes ont été emmenées au poste de police avec des { menottes } aux poignets.',\n",
       " '{ Cette dernière } avait été prise en otage par le \"Mouvement de Lutte pour les Autochtones\" en [ Alaska ] le 06 février 2015.',\n",
       " 'Madame Souraya Dupuis, membre de l’association ‘’{ Même vision }’’ au Togo, a assisté au bombardement du parc de Lomé depuis son [ appartement ] grâce à ses jumelles.',\n",
       " 'Monsieur Guy Michel Parker, alors ivre, a demandé à un taxi de le ramener [ chez lui ]. Les pompiers, alertés, sont venus au secours des deux { hommes }.',\n",
       " \"La municipalité de Zapopan au Mexique (localisée à une latitude de 20.727859) a été secouée par le suicide d'une jeune élève de 16 ans le [ 25 novembre 2018 ]. Cette élève, Mewena Sauvage, était harcelée dans son lycée suite à la diffusion accidentelle d’une { vidéo intime } d'elle prise avec son sur les réseaux sociaux.\",\n",
       " 'Après avoir arpenté les rues de Montréal, des milliers de { personnes } se sont retrouvées au Parc de la Fontaine. Cette dernière avait été prise en otage par le \"Mouvement de Lutte pour les Autochtones\" en [ Alaska ] le 06 février 2015. Au Parc de la Fontaine, { tout le monde } était heureux et des personnes jouaient de la trompette.',\n",
       " \"Le < personnel > de l'usine et les riverains ont été évacués.\",\n",
       " 'Un camion conduit par M. Martin Deneuve a heurté un [ panneau électrique ] qui est tombé sur un réservoir de moto. Ce dernier a immédiatement pris feu à cause des câbles d’alimentation du [ panneau ]. Les pompiers sont ensuite arrivés pour porter secours aux personnes piégées par le [ panneau électrique ] qui avait coincé la porte. Le bilan est de 8 { morts }.',\n",
       " \"La { police } tchèque a { mis la main } sur le couple responsable d'un trafic d'œuvres d'art. Une { perquisition } à leur domicile a permis de retrouver une centaine de tableaux d'artistes européens. Les époux Maroski ont été conduits au poste de { police } dans un véhicule blindé. Monsieur [ Sergueï Alekseï ], le directeur de l'hôpital, a demandé à ses collaborateurs d'être vigilants et de ne pas se laisser corrompre par la criminelle.\",\n",
       " 'Les Ouvriers de la compagnie MUT de Munich ont vaqué la journée du 16 août 2014 pour aller défiler dans la [ rue ] afin d’apporter leur soutien à la cause des handicapés de la compagnie qui veulent être payé comme leur collègue valide. Monsieur Meleane Martin sur son fauteuil roulant avait dévalisé la pente de la [ rue ] où ils étaient, à cause du frein de sa roue qui avait été désactivé accidentellement par la manche du bâton de sa banderole. Il s’est { fracassé } plus bas contre une portière de voiture qui était ouverte.',\n",
       " ...]"
      ]
     },
     "execution_count": 59,
     "metadata": {},
     "output_type": "execute_result"
    }
   ],
   "source": [
    "val_ds[\"input_text\"]"
   ]
  },
  {
   "cell_type": "code",
   "execution_count": 60,
   "metadata": {},
   "outputs": [
    {
     "data": {
      "text/plain": [
       "{'text_index': 2484,\n",
       " 'e1_id': 11,\n",
       " 'e2_id': 19,\n",
       " 'e1_type': 'MATERIEL',\n",
       " 'e2_type': 'WEIGHT',\n",
       " 'text': 'Un drame s\\'est produit cette nuit à Pretoria, une ville sud-africaine située à la latitude 25°44′41″ Sud. Une explosion s\\'est accidentellement produite dans un entrepôt de l\\'usine gouvernementale \"Nitrate plus\" qui contenait [ plusieurs tonnes ] de { nitrate d\\'ammonium }. Cela a entraîné d\\'importants dégâts matériels mais aussi humains. Herminia Sauvage, une femme de ménage qui balayait et passait la serpillière dans les locaux de l\\'usine au moment des faits, a été projetée et s\\'est retrouvée au milieu de ses seaux, de détergents et de brosses qu\\'elle utilisait pour faire le ménage. Herminia Sauvage ainsi qu\\'une dizaine d\\'employés de l\\'usine ont été grièvement blessés. Certains souffraient notamment de difficultés respiratoires et de lésions cutanées.',\n",
       " 'relations': \"['WEIGHS']\",\n",
       " 'reduced_text': 'Une explosion s\\'est accidentellement produite dans un entrepôt de l\\'usine gouvernementale \"Nitrate plus\" qui contenait [ plusieurs tonnes ] de { nitrate d\\'ammonium }.',\n",
       " 'input_text': 'Une explosion s\\'est accidentellement produite dans un entrepôt de l\\'usine gouvernementale \"Nitrate plus\" qui contenait [ plusieurs tonnes ] de { nitrate d\\'ammonium }.',\n",
       " 'label': 1}"
      ]
     },
     "execution_count": 60,
     "metadata": {},
     "output_type": "execute_result"
    }
   ],
   "source": [
    "val_ds[0]"
   ]
  },
  {
   "cell_type": "code",
   "execution_count": 61,
   "metadata": {},
   "outputs": [
    {
     "name": "stdout",
     "output_type": "stream",
     "text": [
      "[5, 1766, 19, 242, 3573, 96, 1556, 1499, 20, 403, 14611, 7295, 36, 307, 8, 13, 1052, 9, 1929, 8, 350, 7, 19, 32005, 580, 32006, 8, 17, 12, 1289, 485, 229, 172, 141, 24, 117, 888, 96, 3630, 20, 15662, 10, 68, 18492, 10, 6638, 9, 6]\n"
     ]
    }
   ],
   "source": [
    "print(samples['input_ids'][2])"
   ]
  },
  {
   "cell_type": "code",
   "execution_count": 62,
   "metadata": {},
   "outputs": [
    {
     "data": {
      "text/plain": [
       "\"<s> Le 13 mars 2020, une guerre civile a éclaté opposant les citoyens de l'[ Est ] de Londres à ceux du Sud. Les citoyens de l'[ Est ] étaient contre l'installation des citoyens du Sud sur leur territoire. Les victimes étaient des{ civils} et des employés de PINS, une société de sécurité.</s>\""
      ]
     },
     "execution_count": 62,
     "metadata": {},
     "output_type": "execute_result"
    }
   ],
   "source": [
    "tokenizer.decode(samples['input_ids'][0])"
   ]
  },
  {
   "cell_type": "code",
   "execution_count": 63,
   "metadata": {},
   "outputs": [
    {
     "data": {
      "text/plain": [
       "'<s> [ Ce matin ], au Luxembourg, une jeune femme nommée Defne Li, présidente de \"l’Ordre des Consommateurs Éclairés\", a effectué un communiqué à la télévision. Defne Li a invité les{ personnes} ayant acheté ces aliments contaminés à se rendre dans les supermarchés avec les tickets d\\'achat pour se faire rembourser.</s>'"
      ]
     },
     "execution_count": 63,
     "metadata": {},
     "output_type": "execute_result"
    }
   ],
   "source": [
    "tokenizer.decode(samples['input_ids'][1])"
   ]
  },
  {
   "cell_type": "code",
   "execution_count": 64,
   "metadata": {},
   "outputs": [
    {
     "data": {
      "text/plain": [
       "'<s> Toutes les personnes présentes ont dû porter des [ masques ] au cours de la visite. Avant de partir, les{ membres} de l’association “Santé pour tous” ont offert des peluches aux nourrissons malades.</s>'"
      ]
     },
     "execution_count": 64,
     "metadata": {},
     "output_type": "execute_result"
    }
   ],
   "source": [
    "tokenizer.decode(samples['input_ids'][2])"
   ]
  }
 ],
 "metadata": {
  "kernelspec": {
   "display_name": "kgl11",
   "language": "python",
   "name": "python3"
  },
  "language_info": {
   "codemirror_mode": {
    "name": "ipython",
    "version": 3
   },
   "file_extension": ".py",
   "mimetype": "text/x-python",
   "name": "python",
   "nbconvert_exporter": "python",
   "pygments_lexer": "ipython3",
   "version": "3.11.8"
  }
 },
 "nbformat": 4,
 "nbformat_minor": 2
}
